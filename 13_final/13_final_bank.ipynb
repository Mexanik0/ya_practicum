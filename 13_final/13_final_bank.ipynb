{
 "cells": [
  {
   "cell_type": "markdown",
   "metadata": {},
   "source": [
    "# Выпускной проект: основная часть"
   ]
  },
  {
   "cell_type": "markdown",
   "metadata": {},
   "source": [
    "## Описание проекта"
   ]
  },
  {
   "cell_type": "markdown",
   "metadata": {},
   "source": [
    "Ранее было проведено исследование оттока клиентов банка \"Метанпромбанк\", составлены дэшборды и выделены сегменты, однако клиентская база поменялась, поэтому текущие решения перестали работать. В банке повысился отток клиентов, поэтому отдел маркетинга запросил провести исследование, выявить причины оттока, а также понять, с какими категориями клиентов стоит поработать для снижения оттока.\n",
    "\n",
    "**Цель проекта** - разработать рекомендации для снижения оттока клиентов банка.\n",
    "\n",
    "**Задачи**:\n",
    "1. Загрузить, описать и подготовить поступившие данные\n",
    "2. Провести исследовательский анализ данных (EDA)\n",
    "3. Проверить статистические гипотезы о влиянии дохода и кредитного рейтинга на лояльность клиентов\n",
    "4. Выделить признаки, влияющие на отток\n",
    "5. Сегментировать клиентов\n",
    "6. Приоретизировать сегменты\n",
    "7. Разработать рекомендации для снижения оттока в разрезе сегментов\n",
    "\n",
    "**Описание данных**\n",
    "\n",
    "В нашем распоряжении имеется таблица ``bank_scrooge.csv``:\n",
    "- ``USERID`` — идентификатор пользователя,\n",
    "- ``score`` — баллы кредитного скоринга,\n",
    "- ``city`` — город,\n",
    "- ``gender`` - пол,\n",
    "- ``age`` — возраст,\n",
    "- ``equity`` — количество баллов собственности,\n",
    "- ``balance`` — баланс на счёте,\n",
    "- ``products`` — количество продуктов, которыми пользуется клиент,\n",
    "- ``credit_card`` — имеется ли кредитная карта\n",
    "- ``last_activity`` — активный клиент,\n",
    "- ``EST_SALARY`` — оценочный доход клиента\n",
    "- ``churn`` — признак оттока"
   ]
  },
  {
   "cell_type": "markdown",
   "metadata": {},
   "source": [
    "## Ознакомление с данными"
   ]
  },
  {
   "cell_type": "code",
   "execution_count": 1,
   "metadata": {},
   "outputs": [],
   "source": [
    "# импорт библиотек\n",
    "import pandas as pd\n",
    "from datetime import datetime, timedelta\n",
    "from matplotlib import pyplot as plt\n",
    "import numpy as np\n",
    "import scipy.stats as st\n",
    "import seaborn as sns\n",
    "import itertools\n",
    "\n",
    "pd.set_option(\"display.float_format\", \"{:.2f}\".format)\n",
    "pd.set_option('display.max_colwidth', False)"
   ]
  },
  {
   "cell_type": "code",
   "execution_count": 2,
   "metadata": {},
   "outputs": [
    {
     "name": "stdout",
     "output_type": "stream",
     "text": [
      "Collecting phik\n",
      "  Downloading phik-0.12.4-cp39-cp39-manylinux_2_17_x86_64.manylinux2014_x86_64.whl (686 kB)\n",
      "\u001b[K     |████████████████████████████████| 686 kB 2.1 MB/s eta 0:00:01\n",
      "\u001b[?25hRequirement already satisfied: matplotlib>=2.2.3 in /opt/conda/lib/python3.9/site-packages (from phik) (3.3.4)\n",
      "Requirement already satisfied: pandas>=0.25.1 in /opt/conda/lib/python3.9/site-packages (from phik) (1.2.4)\n",
      "Requirement already satisfied: joblib>=0.14.1 in /opt/conda/lib/python3.9/site-packages (from phik) (1.1.0)\n",
      "Requirement already satisfied: numpy>=1.18.0 in /opt/conda/lib/python3.9/site-packages (from phik) (1.21.1)\n",
      "Requirement already satisfied: scipy>=1.5.2 in /opt/conda/lib/python3.9/site-packages (from phik) (1.9.1)\n",
      "Requirement already satisfied: pyparsing!=2.0.4,!=2.1.2,!=2.1.6,>=2.0.3 in /opt/conda/lib/python3.9/site-packages (from matplotlib>=2.2.3->phik) (2.4.7)\n",
      "Requirement already satisfied: kiwisolver>=1.0.1 in /opt/conda/lib/python3.9/site-packages (from matplotlib>=2.2.3->phik) (1.4.4)\n",
      "Requirement already satisfied: cycler>=0.10 in /opt/conda/lib/python3.9/site-packages (from matplotlib>=2.2.3->phik) (0.11.0)\n",
      "Requirement already satisfied: pillow>=6.2.0 in /opt/conda/lib/python3.9/site-packages (from matplotlib>=2.2.3->phik) (8.4.0)\n",
      "Requirement already satisfied: python-dateutil>=2.1 in /opt/conda/lib/python3.9/site-packages (from matplotlib>=2.2.3->phik) (2.8.1)\n",
      "Requirement already satisfied: pytz>=2017.3 in /opt/conda/lib/python3.9/site-packages (from pandas>=0.25.1->phik) (2021.1)\n",
      "Requirement already satisfied: six>=1.5 in /opt/conda/lib/python3.9/site-packages (from python-dateutil>=2.1->matplotlib>=2.2.3->phik) (1.16.0)\n",
      "Installing collected packages: phik\n",
      "Successfully installed phik-0.12.4\n"
     ]
    }
   ],
   "source": [
    "# устанавливаем библиотеку phik\n",
    "!pip install phik"
   ]
  },
  {
   "cell_type": "code",
   "execution_count": 3,
   "metadata": {},
   "outputs": [],
   "source": [
    "import phik\n",
    "from phik import resources, report"
   ]
  },
  {
   "cell_type": "code",
   "execution_count": 4,
   "metadata": {},
   "outputs": [],
   "source": [
    "# загрузка данных\n",
    "df = pd.read_csv('/datasets/bank_scrooge.csv')\n",
    "\n",
    "# присвоим имя датафрейму\n",
    "df.name = 'customers'"
   ]
  },
  {
   "cell_type": "code",
   "execution_count": 5,
   "metadata": {},
   "outputs": [
    {
     "name": "stdout",
     "output_type": "stream",
     "text": [
      "----- Таблица customers -----\n"
     ]
    },
    {
     "data": {
      "text/html": [
       "<div>\n",
       "<style scoped>\n",
       "    .dataframe tbody tr th:only-of-type {\n",
       "        vertical-align: middle;\n",
       "    }\n",
       "\n",
       "    .dataframe tbody tr th {\n",
       "        vertical-align: top;\n",
       "    }\n",
       "\n",
       "    .dataframe thead th {\n",
       "        text-align: right;\n",
       "    }\n",
       "</style>\n",
       "<table border=\"1\" class=\"dataframe\">\n",
       "  <thead>\n",
       "    <tr style=\"text-align: right;\">\n",
       "      <th></th>\n",
       "      <th>USERID</th>\n",
       "      <th>score</th>\n",
       "      <th>city</th>\n",
       "      <th>gender</th>\n",
       "      <th>age</th>\n",
       "      <th>equity</th>\n",
       "      <th>balance</th>\n",
       "      <th>products</th>\n",
       "      <th>credit_card</th>\n",
       "      <th>last_activity</th>\n",
       "      <th>EST_SALARY</th>\n",
       "      <th>churn</th>\n",
       "    </tr>\n",
       "  </thead>\n",
       "  <tbody>\n",
       "    <tr>\n",
       "      <th>4579</th>\n",
       "      <td>122006</td>\n",
       "      <td>908.00</td>\n",
       "      <td>Ярославль</td>\n",
       "      <td>М</td>\n",
       "      <td>31.00</td>\n",
       "      <td>0</td>\n",
       "      <td>NaN</td>\n",
       "      <td>1</td>\n",
       "      <td>1</td>\n",
       "      <td>0</td>\n",
       "      <td>196568.75</td>\n",
       "      <td>0</td>\n",
       "    </tr>\n",
       "    <tr>\n",
       "      <th>5125</th>\n",
       "      <td>160073</td>\n",
       "      <td>901.00</td>\n",
       "      <td>Рыбинск</td>\n",
       "      <td>Ж</td>\n",
       "      <td>48.00</td>\n",
       "      <td>5</td>\n",
       "      <td>832477.14</td>\n",
       "      <td>2</td>\n",
       "      <td>1</td>\n",
       "      <td>1</td>\n",
       "      <td>121799.62</td>\n",
       "      <td>0</td>\n",
       "    </tr>\n",
       "    <tr>\n",
       "      <th>4732</th>\n",
       "      <td>152597</td>\n",
       "      <td>908.00</td>\n",
       "      <td>Ярославль</td>\n",
       "      <td>М</td>\n",
       "      <td>37.00</td>\n",
       "      <td>0</td>\n",
       "      <td>NaN</td>\n",
       "      <td>1</td>\n",
       "      <td>1</td>\n",
       "      <td>0</td>\n",
       "      <td>113432.14</td>\n",
       "      <td>0</td>\n",
       "    </tr>\n",
       "    <tr>\n",
       "      <th>3838</th>\n",
       "      <td>213401</td>\n",
       "      <td>652.00</td>\n",
       "      <td>Рыбинск</td>\n",
       "      <td>М</td>\n",
       "      <td>40.00</td>\n",
       "      <td>0</td>\n",
       "      <td>NaN</td>\n",
       "      <td>1</td>\n",
       "      <td>1</td>\n",
       "      <td>0</td>\n",
       "      <td>206397.27</td>\n",
       "      <td>0</td>\n",
       "    </tr>\n",
       "    <tr>\n",
       "      <th>4021</th>\n",
       "      <td>189298</td>\n",
       "      <td>913.00</td>\n",
       "      <td>Ярославль</td>\n",
       "      <td>Ж</td>\n",
       "      <td>43.00</td>\n",
       "      <td>5</td>\n",
       "      <td>5947757.17</td>\n",
       "      <td>2</td>\n",
       "      <td>1</td>\n",
       "      <td>0</td>\n",
       "      <td>995109.01</td>\n",
       "      <td>0</td>\n",
       "    </tr>\n",
       "  </tbody>\n",
       "</table>\n",
       "</div>"
      ],
      "text/plain": [
       "      USERID  score       city gender   age  equity    balance  products  \\\n",
       "4579  122006 908.00  Ярославль  М     31.00  0      NaN         1          \n",
       "5125  160073 901.00  Рыбинск    Ж     48.00  5      832477.14   2          \n",
       "4732  152597 908.00  Ярославль  М     37.00  0      NaN         1          \n",
       "3838  213401 652.00  Рыбинск    М     40.00  0      NaN         1          \n",
       "4021  189298 913.00  Ярославль  Ж     43.00  5      5947757.17  2          \n",
       "\n",
       "      credit_card  last_activity  EST_SALARY  churn  \n",
       "4579  1            0             196568.75    0      \n",
       "5125  1            1             121799.62    0      \n",
       "4732  1            0             113432.14    0      \n",
       "3838  1            0             206397.27    0      \n",
       "4021  1            0             995109.01    0      "
      ]
     },
     "metadata": {},
     "output_type": "display_data"
    },
    {
     "name": "stdout",
     "output_type": "stream",
     "text": [
      "----- Общая информация о \" customers \" ----- \n",
      "\n",
      "<class 'pandas.core.frame.DataFrame'>\n",
      "RangeIndex: 10000 entries, 0 to 9999\n",
      "Data columns (total 12 columns):\n",
      " #   Column         Non-Null Count  Dtype  \n",
      "---  ------         --------------  -----  \n",
      " 0   USERID         10000 non-null  int64  \n",
      " 1   score          10000 non-null  float64\n",
      " 2   city           10000 non-null  object \n",
      " 3   gender         10000 non-null  object \n",
      " 4   age            9974 non-null   float64\n",
      " 5   equity         10000 non-null  int64  \n",
      " 6   balance        7705 non-null   float64\n",
      " 7   products       10000 non-null  int64  \n",
      " 8   credit_card    10000 non-null  int64  \n",
      " 9   last_activity  10000 non-null  int64  \n",
      " 10  EST_SALARY     10000 non-null  float64\n",
      " 11  churn          10000 non-null  int64  \n",
      "dtypes: float64(4), int64(6), object(2)\n",
      "memory usage: 937.6+ KB\n",
      "\n",
      " ----- Описательная статистика о \" customers \" ----- \n",
      "\n"
     ]
    },
    {
     "data": {
      "text/html": [
       "<div>\n",
       "<style scoped>\n",
       "    .dataframe tbody tr th:only-of-type {\n",
       "        vertical-align: middle;\n",
       "    }\n",
       "\n",
       "    .dataframe tbody tr th {\n",
       "        vertical-align: top;\n",
       "    }\n",
       "\n",
       "    .dataframe thead th {\n",
       "        text-align: right;\n",
       "    }\n",
       "</style>\n",
       "<table border=\"1\" class=\"dataframe\">\n",
       "  <thead>\n",
       "    <tr style=\"text-align: right;\">\n",
       "      <th></th>\n",
       "      <th>USERID</th>\n",
       "      <th>score</th>\n",
       "      <th>age</th>\n",
       "      <th>equity</th>\n",
       "      <th>balance</th>\n",
       "      <th>products</th>\n",
       "      <th>credit_card</th>\n",
       "      <th>last_activity</th>\n",
       "      <th>EST_SALARY</th>\n",
       "      <th>churn</th>\n",
       "    </tr>\n",
       "  </thead>\n",
       "  <tbody>\n",
       "    <tr>\n",
       "      <th>count</th>\n",
       "      <td>10000.00</td>\n",
       "      <td>10000.00</td>\n",
       "      <td>9974.00</td>\n",
       "      <td>10000.00</td>\n",
       "      <td>7705.00</td>\n",
       "      <td>10000.00</td>\n",
       "      <td>10000.00</td>\n",
       "      <td>10000.00</td>\n",
       "      <td>10000.00</td>\n",
       "      <td>10000.00</td>\n",
       "    </tr>\n",
       "    <tr>\n",
       "      <th>mean</th>\n",
       "      <td>171814.71</td>\n",
       "      <td>848.70</td>\n",
       "      <td>42.73</td>\n",
       "      <td>2.63</td>\n",
       "      <td>827794.31</td>\n",
       "      <td>1.87</td>\n",
       "      <td>0.68</td>\n",
       "      <td>0.52</td>\n",
       "      <td>147866.89</td>\n",
       "      <td>0.18</td>\n",
       "    </tr>\n",
       "    <tr>\n",
       "      <th>std</th>\n",
       "      <td>33708.24</td>\n",
       "      <td>65.45</td>\n",
       "      <td>12.18</td>\n",
       "      <td>1.98</td>\n",
       "      <td>1980614.15</td>\n",
       "      <td>0.79</td>\n",
       "      <td>0.47</td>\n",
       "      <td>0.50</td>\n",
       "      <td>139388.51</td>\n",
       "      <td>0.39</td>\n",
       "    </tr>\n",
       "    <tr>\n",
       "      <th>min</th>\n",
       "      <td>94561.00</td>\n",
       "      <td>642.00</td>\n",
       "      <td>18.00</td>\n",
       "      <td>0.00</td>\n",
       "      <td>0.00</td>\n",
       "      <td>0.00</td>\n",
       "      <td>0.00</td>\n",
       "      <td>0.00</td>\n",
       "      <td>2546.30</td>\n",
       "      <td>0.00</td>\n",
       "    </tr>\n",
       "    <tr>\n",
       "      <th>5%</th>\n",
       "      <td>119176.40</td>\n",
       "      <td>737.00</td>\n",
       "      <td>26.00</td>\n",
       "      <td>0.00</td>\n",
       "      <td>100104.32</td>\n",
       "      <td>1.00</td>\n",
       "      <td>0.00</td>\n",
       "      <td>0.00</td>\n",
       "      <td>32163.97</td>\n",
       "      <td>0.00</td>\n",
       "    </tr>\n",
       "    <tr>\n",
       "      <th>25%</th>\n",
       "      <td>142810.25</td>\n",
       "      <td>802.00</td>\n",
       "      <td>33.00</td>\n",
       "      <td>0.00</td>\n",
       "      <td>295554.16</td>\n",
       "      <td>1.00</td>\n",
       "      <td>0.00</td>\n",
       "      <td>0.00</td>\n",
       "      <td>75251.90</td>\n",
       "      <td>0.00</td>\n",
       "    </tr>\n",
       "    <tr>\n",
       "      <th>50%</th>\n",
       "      <td>172728.00</td>\n",
       "      <td>853.00</td>\n",
       "      <td>40.00</td>\n",
       "      <td>3.00</td>\n",
       "      <td>524272.20</td>\n",
       "      <td>2.00</td>\n",
       "      <td>1.00</td>\n",
       "      <td>1.00</td>\n",
       "      <td>119658.10</td>\n",
       "      <td>0.00</td>\n",
       "    </tr>\n",
       "    <tr>\n",
       "      <th>75%</th>\n",
       "      <td>201261.75</td>\n",
       "      <td>900.00</td>\n",
       "      <td>51.00</td>\n",
       "      <td>4.00</td>\n",
       "      <td>980705.85</td>\n",
       "      <td>2.00</td>\n",
       "      <td>1.00</td>\n",
       "      <td>1.00</td>\n",
       "      <td>174500.54</td>\n",
       "      <td>0.00</td>\n",
       "    </tr>\n",
       "    <tr>\n",
       "      <th>95%</th>\n",
       "      <td>223623.05</td>\n",
       "      <td>946.00</td>\n",
       "      <td>65.00</td>\n",
       "      <td>5.00</td>\n",
       "      <td>2116704.78</td>\n",
       "      <td>3.00</td>\n",
       "      <td>1.00</td>\n",
       "      <td>1.00</td>\n",
       "      <td>316885.34</td>\n",
       "      <td>1.00</td>\n",
       "    </tr>\n",
       "    <tr>\n",
       "      <th>max</th>\n",
       "      <td>229145.00</td>\n",
       "      <td>1000.00</td>\n",
       "      <td>86.00</td>\n",
       "      <td>9.00</td>\n",
       "      <td>119113552.01</td>\n",
       "      <td>5.00</td>\n",
       "      <td>1.00</td>\n",
       "      <td>1.00</td>\n",
       "      <td>1395064.45</td>\n",
       "      <td>1.00</td>\n",
       "    </tr>\n",
       "  </tbody>\n",
       "</table>\n",
       "</div>"
      ],
      "text/plain": [
       "         USERID    score     age   equity      balance  products  credit_card  \\\n",
       "count 10000.00  10000.00 9974.00 10000.00 7705.00      10000.00  10000.00       \n",
       "mean  171814.71 848.70   42.73   2.63     827794.31    1.87      0.68           \n",
       "std   33708.24  65.45    12.18   1.98     1980614.15   0.79      0.47           \n",
       "min   94561.00  642.00   18.00   0.00     0.00         0.00      0.00           \n",
       "5%    119176.40 737.00   26.00   0.00     100104.32    1.00      0.00           \n",
       "25%   142810.25 802.00   33.00   0.00     295554.16    1.00      0.00           \n",
       "50%   172728.00 853.00   40.00   3.00     524272.20    2.00      1.00           \n",
       "75%   201261.75 900.00   51.00   4.00     980705.85    2.00      1.00           \n",
       "95%   223623.05 946.00   65.00   5.00     2116704.78   3.00      1.00           \n",
       "max   229145.00 1000.00  86.00   9.00     119113552.01 5.00      1.00           \n",
       "\n",
       "       last_activity  EST_SALARY    churn  \n",
       "count 10000.00       10000.00    10000.00  \n",
       "mean  0.52           147866.89   0.18      \n",
       "std   0.50           139388.51   0.39      \n",
       "min   0.00           2546.30     0.00      \n",
       "5%    0.00           32163.97    0.00      \n",
       "25%   0.00           75251.90    0.00      \n",
       "50%   1.00           119658.10   0.00      \n",
       "75%   1.00           174500.54   0.00      \n",
       "95%   1.00           316885.34   1.00      \n",
       "max   1.00           1395064.45  1.00      "
      ]
     },
     "metadata": {},
     "output_type": "display_data"
    },
    {
     "name": "stdout",
     "output_type": "stream",
     "text": [
      "\n",
      " ----- Пропуски в \" customers \" ----- \n",
      "\n"
     ]
    },
    {
     "data": {
      "text/plain": [
       "balance          2295\n",
       "age              26  \n",
       "USERID           0   \n",
       "score            0   \n",
       "city             0   \n",
       "gender           0   \n",
       "equity           0   \n",
       "products         0   \n",
       "credit_card      0   \n",
       "last_activity    0   \n",
       "EST_SALARY       0   \n",
       "churn            0   \n",
       "dtype: int64"
      ]
     },
     "metadata": {},
     "output_type": "display_data"
    },
    {
     "name": "stdout",
     "output_type": "stream",
     "text": [
      "Средний процент пропусков составил: 1.93%\n",
      "----- Информация о дубликатах в \" customers \" ----- \n",
      "\n",
      "Количество явных дубликатов: 0 \n",
      "\n"
     ]
    }
   ],
   "source": [
    "# выведем информацию о датафрейме df_logs\n",
    "\n",
    "# 5 рандомных строк\n",
    "print('-' * 5, 'Таблица', df.name, '-' * 5)\n",
    "display(df.sample(5))\n",
    "    \n",
    "# общая информация\n",
    "print('-' * 5, 'Общая информация о \"', df.name, '\"', '-' * 5, '\\n')\n",
    "df.info()\n",
    "\n",
    "# описательная статистика\n",
    "print('\\n', '-' * 5, 'Описательная статистика о \"', df.name, '\"', '-' * 5, '\\n')\n",
    "display(df.describe(percentiles=[0.05, 1/4, 1/2, 3/4, 0.95]))\n",
    "    \n",
    "# пропуски\n",
    "print('\\n', '-' * 5, 'Пропуски в \"', df.name, '\"', '-' * 5, '\\n')\n",
    "    \n",
    "if df.isna().sum().sum() != 0:\n",
    "    display(df.isna().sum().sort_values(ascending = False))\n",
    "    print(f'Средний процент пропусков составил: {(df.isna().sum()/len(df)*100).mean():.2f}%')\n",
    "else:\n",
    "    print('Пропусков не найдено \\n')\n",
    "        \n",
    "# дубликаты\n",
    "print('-' * 5, 'Информация о дубликатах в \"', df.name, '\"', '-' * 5, '\\n')\n",
    "print('Количество явных дубликатов:', df.duplicated().sum(), '\\n')"
   ]
  },
  {
   "cell_type": "markdown",
   "metadata": {},
   "source": [
    "**Вывод**\n",
    "1. В таблице 10000 записей\n",
    "2. Пропуски в `balance` (23%) и в `age` (0.26%)\n",
    "3. Явные дубликаты отсутствуют\n",
    "4. Некоторые наименования столбцов не приведены к стилю snake_case\n",
    "5. Подозрительно, что в `products` присутствуют нулевые значения. Возможно, следует избавиться от этих записей."
   ]
  },
  {
   "cell_type": "markdown",
   "metadata": {},
   "source": [
    "## Предобработка данных"
   ]
  },
  {
   "cell_type": "markdown",
   "metadata": {},
   "source": [
    "Сначала приведем наименования столбцов к общепринятому стилю snack_case, далее выясним природу пропусков перед их обработкой, а также проверим данные на наличие неявных дубдикатов."
   ]
  },
  {
   "cell_type": "code",
   "execution_count": 6,
   "metadata": {},
   "outputs": [
    {
     "data": {
      "text/plain": [
       "['user_id',\n",
       " 'score',\n",
       " 'city',\n",
       " 'gender',\n",
       " 'age',\n",
       " 'equity',\n",
       " 'balance',\n",
       " 'products',\n",
       " 'credit_card',\n",
       " 'last_activity',\n",
       " 'est_salary',\n",
       " 'churn']"
      ]
     },
     "execution_count": 6,
     "metadata": {},
     "output_type": "execute_result"
    }
   ],
   "source": [
    "# переименуем столбцы\n",
    "df.rename(columns={'USERID': 'user_id',\n",
    "                   'EST_SALARY': 'est_salary'}, inplace = True)\n",
    "\n",
    "# смотрим на список полей\n",
    "df.columns.tolist()"
   ]
  },
  {
   "cell_type": "markdown",
   "metadata": {},
   "source": [
    "**Обработка пропусков**"
   ]
  },
  {
   "cell_type": "markdown",
   "metadata": {},
   "source": [
    "Пропуски содержатся в столбцах `age` и `balance`. Пропуски в `age` классифицируем, как MCAR, их не так много (0.26% от выборки), поэтому на результаты исследования оттока клиентов в разрезе возраста эти записи не повлияют - удалим их из нашего датасета."
   ]
  },
  {
   "cell_type": "code",
   "execution_count": 7,
   "metadata": {},
   "outputs": [
    {
     "name": "stdout",
     "output_type": "stream",
     "text": [
      "Количество пропусков в \"age\": 0\n"
     ]
    }
   ],
   "source": [
    "df = df.dropna(subset=['age'], how='all')\n",
    "print('Количество пропусков в \"age\":', df['age'].isnull().sum())"
   ]
  },
  {
   "cell_type": "markdown",
   "metadata": {},
   "source": [
    "Далее следует понять, что можно сделать с пропусками в `balance`. Мы не можем их заполнить самостоятельно, поэтому попытаемся понять природу их появления. Для этого посмотрим, существует ли зависимость между пропусками и другими характеристиками? Построим сводную таблицу со средней зарплатой, возрастом, медианным количеством продуктов, собственности, модой по городу и полу в разрезе пропусков в `balance`, посчитаем разницу."
   ]
  },
  {
   "cell_type": "code",
   "execution_count": 8,
   "metadata": {},
   "outputs": [],
   "source": [
    "# добавим признак пропуска в balance_nan по столбцу balance\n",
    "df['balance_nan'] = np.where(df['balance'].isnull(), 0,1)"
   ]
  },
  {
   "cell_type": "code",
   "execution_count": 9,
   "metadata": {},
   "outputs": [
    {
     "data": {
      "text/html": [
       "<div>\n",
       "<style scoped>\n",
       "    .dataframe tbody tr th:only-of-type {\n",
       "        vertical-align: middle;\n",
       "    }\n",
       "\n",
       "    .dataframe tbody tr th {\n",
       "        vertical-align: top;\n",
       "    }\n",
       "\n",
       "    .dataframe thead th {\n",
       "        text-align: right;\n",
       "    }\n",
       "</style>\n",
       "<table border=\"1\" class=\"dataframe\">\n",
       "  <thead>\n",
       "    <tr style=\"text-align: right;\">\n",
       "      <th></th>\n",
       "      <th>0</th>\n",
       "      <th>1</th>\n",
       "      <th>diff</th>\n",
       "    </tr>\n",
       "  </thead>\n",
       "  <tbody>\n",
       "    <tr>\n",
       "      <th>age</th>\n",
       "      <td>42.09</td>\n",
       "      <td>42.92</td>\n",
       "      <td>0.83</td>\n",
       "    </tr>\n",
       "    <tr>\n",
       "      <th>equity</th>\n",
       "      <td>0.00</td>\n",
       "      <td>4.00</td>\n",
       "      <td>4.00</td>\n",
       "    </tr>\n",
       "    <tr>\n",
       "      <th>est_salary</th>\n",
       "      <td>226345.42</td>\n",
       "      <td>124520.39</td>\n",
       "      <td>-101825.02</td>\n",
       "    </tr>\n",
       "    <tr>\n",
       "      <th>products</th>\n",
       "      <td>1.00</td>\n",
       "      <td>2.00</td>\n",
       "      <td>1.00</td>\n",
       "    </tr>\n",
       "    <tr>\n",
       "      <th>city</th>\n",
       "      <td>Ярославль</td>\n",
       "      <td>Ярославль</td>\n",
       "      <td>NaN</td>\n",
       "    </tr>\n",
       "    <tr>\n",
       "      <th>gender</th>\n",
       "      <td>М</td>\n",
       "      <td>Ж</td>\n",
       "      <td>NaN</td>\n",
       "    </tr>\n",
       "  </tbody>\n",
       "</table>\n",
       "</div>"
      ],
      "text/plain": [
       "                    0          1       diff\n",
       "age        42.09      42.92      0.83      \n",
       "equity     0.00       4.00       4.00      \n",
       "est_salary 226345.42  124520.39  -101825.02\n",
       "products   1.00       2.00       1.00      \n",
       "city        Ярославль  Ярославль NaN       \n",
       "gender      М          Ж         NaN       "
      ]
     },
     "metadata": {},
     "output_type": "display_data"
    }
   ],
   "source": [
    "# собираем pivot по количественым величинам\n",
    "df_pivot_quan = df.pivot_table(index='balance_nan', \n",
    "                               values=['est_salary', \n",
    "                                       'age',\n",
    "                                       'products',\n",
    "                                       'equity'], \n",
    "                               aggfunc={'est_salary': 'mean',\n",
    "                                        'age': 'mean',\n",
    "                                        'products': 'median',\n",
    "                                        'equity': 'median'}).reset_index(drop=True).T\n",
    "\n",
    "# считаем разницу\n",
    "df_pivot_quan['diff'] = df_pivot_quan[1] - df_pivot_quan[0]\n",
    "\n",
    "# собираем pivot по категориальным величинам\n",
    "df_pivot_cat = df.pivot_table(index='balance_nan',\n",
    "                              values=['city',\n",
    "                                      'gender'],\n",
    "                              aggfunc={'city': lambda x: x.mode()[0],\n",
    "                                       'gender': lambda x: x.mode()[0]}).reset_index(drop=True).T\n",
    "\n",
    "# display(df_pivot_quan)\n",
    "# display(df_pivot_cat)\n",
    "\n",
    "# соединияем таблицы\n",
    "df_pivot_na = pd.concat([df_pivot_quan, df_pivot_cat])\n",
    "display(df_pivot_na)"
   ]
  },
  {
   "cell_type": "markdown",
   "metadata": {},
   "source": [
    "Разница наблюдается в медианном значении `products` и в среднем значении `equity`. Также есть разница в `est_salary`, однако пока опустим данную характеристику и абстрагируемся на количестве продуктов и количестве баллов собственности."
   ]
  },
  {
   "cell_type": "markdown",
   "metadata": {},
   "source": [
    "Ранее мы определили, что на пропуски моугт влиять `products`, `equity`. В исходном датасете не раскрыты типы банковских продуктов, кроме кредитных карт `credit_card`, добавим этот параметр к исследованию. Посмотрим на описательную статистику по этим столбцам в выборке, где значения в `balance` пропущены."
   ]
  },
  {
   "cell_type": "code",
   "execution_count": 10,
   "metadata": {},
   "outputs": [
    {
     "data": {
      "text/html": [
       "<div>\n",
       "<style scoped>\n",
       "    .dataframe tbody tr th:only-of-type {\n",
       "        vertical-align: middle;\n",
       "    }\n",
       "\n",
       "    .dataframe tbody tr th {\n",
       "        vertical-align: top;\n",
       "    }\n",
       "\n",
       "    .dataframe thead th {\n",
       "        text-align: right;\n",
       "    }\n",
       "</style>\n",
       "<table border=\"1\" class=\"dataframe\">\n",
       "  <thead>\n",
       "    <tr style=\"text-align: right;\">\n",
       "      <th></th>\n",
       "      <th>count</th>\n",
       "      <th>mean</th>\n",
       "      <th>std</th>\n",
       "      <th>min</th>\n",
       "      <th>5%</th>\n",
       "      <th>25%</th>\n",
       "      <th>50%</th>\n",
       "      <th>75%</th>\n",
       "      <th>80%</th>\n",
       "      <th>85%</th>\n",
       "      <th>95%</th>\n",
       "      <th>max</th>\n",
       "    </tr>\n",
       "  </thead>\n",
       "  <tbody>\n",
       "    <tr>\n",
       "      <th>products</th>\n",
       "      <td>2279.00</td>\n",
       "      <td>1.16</td>\n",
       "      <td>0.40</td>\n",
       "      <td>0.00</td>\n",
       "      <td>1.00</td>\n",
       "      <td>1.00</td>\n",
       "      <td>1.00</td>\n",
       "      <td>1.00</td>\n",
       "      <td>1.00</td>\n",
       "      <td>2.00</td>\n",
       "      <td>2.00</td>\n",
       "      <td>3.00</td>\n",
       "    </tr>\n",
       "    <tr>\n",
       "      <th>credit_card</th>\n",
       "      <td>2279.00</td>\n",
       "      <td>0.82</td>\n",
       "      <td>0.39</td>\n",
       "      <td>0.00</td>\n",
       "      <td>0.00</td>\n",
       "      <td>1.00</td>\n",
       "      <td>1.00</td>\n",
       "      <td>1.00</td>\n",
       "      <td>1.00</td>\n",
       "      <td>1.00</td>\n",
       "      <td>1.00</td>\n",
       "      <td>1.00</td>\n",
       "    </tr>\n",
       "    <tr>\n",
       "      <th>equity</th>\n",
       "      <td>2279.00</td>\n",
       "      <td>0.05</td>\n",
       "      <td>0.23</td>\n",
       "      <td>0.00</td>\n",
       "      <td>0.00</td>\n",
       "      <td>0.00</td>\n",
       "      <td>0.00</td>\n",
       "      <td>0.00</td>\n",
       "      <td>0.00</td>\n",
       "      <td>0.00</td>\n",
       "      <td>1.00</td>\n",
       "      <td>3.00</td>\n",
       "    </tr>\n",
       "  </tbody>\n",
       "</table>\n",
       "</div>"
      ],
      "text/plain": [
       "              count  mean  std  min   5%  25%  50%  75%  80%  85%  95%  max\n",
       "products    2279.00 1.16  0.40 0.00 1.00 1.00 1.00 1.00 1.00 2.00 2.00 3.00\n",
       "credit_card 2279.00 0.82  0.39 0.00 0.00 1.00 1.00 1.00 1.00 1.00 1.00 1.00\n",
       "equity      2279.00 0.05  0.23 0.00 0.00 0.00 0.00 0.00 0.00 0.00 1.00 3.00"
      ]
     },
     "execution_count": 10,
     "metadata": {},
     "output_type": "execute_result"
    }
   ],
   "source": [
    "df.query('balance.isnull()')[['products', \n",
    "                              'credit_card', \n",
    "                              'equity']].describe(percentiles=[0.05, 1/4, 1/2, 3/4, 0.8, 0.85, 0.95]).T"
   ]
  },
  {
   "cell_type": "markdown",
   "metadata": {},
   "source": [
    "Описательная статистика показывает, что среди клиентов, у которых есть пропуски в `balance`, в 80% случаев есть хотя бы 1 банковский продукт и это кредитная карта, при этом нет баллов собственности (возможно, что при оформлении таких продуктов не требуется указание собственности). Отсюда можно сделать выводы: \n",
    "- Клиенты с \"нулевым\" балансом не имеют собственных средств на счету - пользуются заемными средствами. Таким образом, в `balance` содержатся данные по собственным средствам клиентов. \n",
    "- В остальных 20% случаев у клиентов более 1 банковского продукта, в т.ч. кредитная карта. Пропуски в `balance` могут обосновываться наличием нескольких кредитных карт, наличием потребительских/авто кредитов или ипотеки. Все средства в данных категориях могут являться заемными."
   ]
  },
  {
   "cell_type": "markdown",
   "metadata": {},
   "source": [
    "Таким образом, пропуски в `balance` можно охарактеризовать, как MNAR, зависят от значений признака `credit_card`."
   ]
  },
  {
   "cell_type": "markdown",
   "metadata": {},
   "source": [
    "**Нулевые значения в `products`**"
   ]
  },
  {
   "cell_type": "markdown",
   "metadata": {},
   "source": [
    "У клиента должен быть открыт хотя бы 1 продукт в банке. Записи с нулевым значением в этом столбце можно удалить. Будем считать, что данные клиенты нам не интересны в рамках исследования."
   ]
  },
  {
   "cell_type": "code",
   "execution_count": 11,
   "metadata": {},
   "outputs": [
    {
     "name": "stdout",
     "output_type": "stream",
     "text": [
      "Количество клиентов с нулевым количеством продуктов: 0\n"
     ]
    }
   ],
   "source": [
    "df = df.query('products != 0')\n",
    "print('Количество клиентов с нулевым количеством продуктов:', df.query('products == 0').count().sum())"
   ]
  },
  {
   "cell_type": "markdown",
   "metadata": {},
   "source": [
    "**Неявные дубликаты**"
   ]
  },
  {
   "cell_type": "markdown",
   "metadata": {},
   "source": [
    "Проверим, есть ли в столбце `user_id` дубликаты."
   ]
  },
  {
   "cell_type": "code",
   "execution_count": 12,
   "metadata": {},
   "outputs": [
    {
     "data": {
      "text/html": [
       "<div>\n",
       "<style scoped>\n",
       "    .dataframe tbody tr th:only-of-type {\n",
       "        vertical-align: middle;\n",
       "    }\n",
       "\n",
       "    .dataframe tbody tr th {\n",
       "        vertical-align: top;\n",
       "    }\n",
       "\n",
       "    .dataframe thead th {\n",
       "        text-align: right;\n",
       "    }\n",
       "</style>\n",
       "<table border=\"1\" class=\"dataframe\">\n",
       "  <thead>\n",
       "    <tr style=\"text-align: right;\">\n",
       "      <th></th>\n",
       "      <th>user_id</th>\n",
       "      <th>score</th>\n",
       "      <th>city</th>\n",
       "      <th>gender</th>\n",
       "      <th>age</th>\n",
       "      <th>equity</th>\n",
       "      <th>balance</th>\n",
       "      <th>products</th>\n",
       "      <th>credit_card</th>\n",
       "      <th>last_activity</th>\n",
       "      <th>est_salary</th>\n",
       "      <th>churn</th>\n",
       "      <th>balance_nan</th>\n",
       "    </tr>\n",
       "  </thead>\n",
       "  <tbody>\n",
       "    <tr>\n",
       "      <th>1893</th>\n",
       "      <td>116540</td>\n",
       "      <td>883.00</td>\n",
       "      <td>Рыбинск</td>\n",
       "      <td>Ж</td>\n",
       "      <td>55.00</td>\n",
       "      <td>1</td>\n",
       "      <td>362756.49</td>\n",
       "      <td>3</td>\n",
       "      <td>0</td>\n",
       "      <td>1</td>\n",
       "      <td>175920.48</td>\n",
       "      <td>1</td>\n",
       "      <td>1</td>\n",
       "    </tr>\n",
       "    <tr>\n",
       "      <th>7694</th>\n",
       "      <td>116540</td>\n",
       "      <td>887.00</td>\n",
       "      <td>Ярославль</td>\n",
       "      <td>Ж</td>\n",
       "      <td>38.00</td>\n",
       "      <td>0</td>\n",
       "      <td>NaN</td>\n",
       "      <td>1</td>\n",
       "      <td>0</td>\n",
       "      <td>1</td>\n",
       "      <td>119247.61</td>\n",
       "      <td>0</td>\n",
       "      <td>0</td>\n",
       "    </tr>\n",
       "    <tr>\n",
       "      <th>4866</th>\n",
       "      <td>117943</td>\n",
       "      <td>855.00</td>\n",
       "      <td>Рыбинск</td>\n",
       "      <td>Ж</td>\n",
       "      <td>32.00</td>\n",
       "      <td>6</td>\n",
       "      <td>1036832.93</td>\n",
       "      <td>4</td>\n",
       "      <td>1</td>\n",
       "      <td>1</td>\n",
       "      <td>107792.71</td>\n",
       "      <td>1</td>\n",
       "      <td>1</td>\n",
       "    </tr>\n",
       "    <tr>\n",
       "      <th>7542</th>\n",
       "      <td>117943</td>\n",
       "      <td>880.00</td>\n",
       "      <td>Ярославль</td>\n",
       "      <td>Ж</td>\n",
       "      <td>40.00</td>\n",
       "      <td>0</td>\n",
       "      <td>NaN</td>\n",
       "      <td>1</td>\n",
       "      <td>1</td>\n",
       "      <td>0</td>\n",
       "      <td>137718.93</td>\n",
       "      <td>0</td>\n",
       "      <td>0</td>\n",
       "    </tr>\n",
       "    <tr>\n",
       "      <th>5863</th>\n",
       "      <td>120258</td>\n",
       "      <td>908.00</td>\n",
       "      <td>Рыбинск</td>\n",
       "      <td>Ж</td>\n",
       "      <td>38.00</td>\n",
       "      <td>4</td>\n",
       "      <td>2213581.63</td>\n",
       "      <td>2</td>\n",
       "      <td>0</td>\n",
       "      <td>1</td>\n",
       "      <td>160327.77</td>\n",
       "      <td>1</td>\n",
       "      <td>1</td>\n",
       "    </tr>\n",
       "  </tbody>\n",
       "</table>\n",
       "</div>"
      ],
      "text/plain": [
       "      user_id  score       city gender   age  equity    balance  products  \\\n",
       "1893  116540  883.00  Рыбинск    Ж     55.00  1      362756.49   3          \n",
       "7694  116540  887.00  Ярославль  Ж     38.00  0      NaN         1          \n",
       "4866  117943  855.00  Рыбинск    Ж     32.00  6      1036832.93  4          \n",
       "7542  117943  880.00  Ярославль  Ж     40.00  0      NaN         1          \n",
       "5863  120258  908.00  Рыбинск    Ж     38.00  4      2213581.63  2          \n",
       "\n",
       "      credit_card  last_activity  est_salary  churn  balance_nan  \n",
       "1893  0            1             175920.48    1      1            \n",
       "7694  0            1             119247.61    0      0            \n",
       "4866  1            1             107792.71    1      1            \n",
       "7542  1            0             137718.93    0      0            \n",
       "5863  0            1             160327.77    1      1            "
      ]
     },
     "metadata": {},
     "output_type": "display_data"
    },
    {
     "name": "stdout",
     "output_type": "stream",
     "text": [
      "<class 'pandas.core.frame.DataFrame'>\n",
      "Int64Index: 100 entries, 1893 to 8497\n",
      "Data columns (total 13 columns):\n",
      " #   Column         Non-Null Count  Dtype  \n",
      "---  ------         --------------  -----  \n",
      " 0   user_id        100 non-null    int64  \n",
      " 1   score          100 non-null    float64\n",
      " 2   city           100 non-null    object \n",
      " 3   gender         100 non-null    object \n",
      " 4   age            100 non-null    float64\n",
      " 5   equity         100 non-null    int64  \n",
      " 6   balance        81 non-null     float64\n",
      " 7   products       100 non-null    int64  \n",
      " 8   credit_card    100 non-null    int64  \n",
      " 9   last_activity  100 non-null    int64  \n",
      " 10  est_salary     100 non-null    float64\n",
      " 11  churn          100 non-null    int64  \n",
      " 12  balance_nan    100 non-null    int64  \n",
      "dtypes: float64(4), int64(7), object(2)\n",
      "memory usage: 10.9+ KB\n"
     ]
    }
   ],
   "source": [
    "df_dup = df[df.user_id.duplicated(keep=False)].sort_values('user_id') #.describe()\n",
    "display(df_dup.head())\n",
    "df_dup.info()"
   ]
  },
  {
   "cell_type": "markdown",
   "metadata": {},
   "source": [
    "Встречаются дубликаты по `user_id`. Не должно быть такого, чтобы повторялся ключ пользователя. Посмотрим на пол, города и баланс этих клиентов."
   ]
  },
  {
   "cell_type": "code",
   "execution_count": 13,
   "metadata": {},
   "outputs": [
    {
     "data": {
      "text/plain": [
       "['Ярославль', 'Рыбинск']"
      ]
     },
     "metadata": {},
     "output_type": "display_data"
    },
    {
     "data": {
      "text/plain": [
       "['Ж', 'М']"
      ]
     },
     "metadata": {},
     "output_type": "display_data"
    },
    {
     "data": {
      "text/plain": [
       "31"
      ]
     },
     "execution_count": 13,
     "metadata": {},
     "output_type": "execute_result"
    }
   ],
   "source": [
    "display(df_dup.query('churn == 0')['city'].unique().tolist())\n",
    "display(df_dup.query('churn == 0')['gender'].unique().tolist())\n",
    "df_dup.query('churn == 0')['balance'].nunique()"
   ]
  },
  {
   "cell_type": "markdown",
   "metadata": {},
   "source": [
    "У клиентов с одинаковым `user_id` чередуются города Ростов и Ярославль, от пола и баланса не зависят дубликаты. Эти клиенты имеют собственные признаки, поэтому нельзя назвать их одинаковыми."
   ]
  },
  {
   "cell_type": "markdown",
   "metadata": {},
   "source": [
    "**Вывод**\n",
    "\n",
    "1. Наименования столбцов приведены к стилю snake_case.\n",
    "2. Найдена взаимосвязь между пропусками в `balance` и в `products`, `equity`, `credit_card`\n",
    "3. В 80% случаев, где пропущены данные в `balance`, клиенты имеют по одному продукту (кредитная карта)\n",
    "4. Удалены записи с пустыми значениями в столбце `age`\n",
    "5. Выявлены неянвые дубликаты по столбцу `user_id`. Их не стали трогать, так как природа их появления неизвестна, а у признаков данных клиентов нет сходства, кроме городов - Ярославль и Ростов Великий. Предположим, что это счета, доступ к операциям по которым осуществляется одним и тем же клиентом по доверенности либо для Ярославля и Ростова присваиваются ID из одного справочника."
   ]
  },
  {
   "cell_type": "markdown",
   "metadata": {},
   "source": [
    "## Исследовательский анализ данных"
   ]
  },
  {
   "cell_type": "markdown",
   "metadata": {},
   "source": [
    "Выясним, какими признаками обладают отточные клиенты. Для начала посмотрим на данные с точки зрения описательной статистики для выявления аномалий."
   ]
  },
  {
   "cell_type": "code",
   "execution_count": 14,
   "metadata": {},
   "outputs": [
    {
     "data": {
      "text/html": [
       "<div>\n",
       "<style scoped>\n",
       "    .dataframe tbody tr th:only-of-type {\n",
       "        vertical-align: middle;\n",
       "    }\n",
       "\n",
       "    .dataframe tbody tr th {\n",
       "        vertical-align: top;\n",
       "    }\n",
       "\n",
       "    .dataframe thead th {\n",
       "        text-align: right;\n",
       "    }\n",
       "</style>\n",
       "<table border=\"1\" class=\"dataframe\">\n",
       "  <thead>\n",
       "    <tr style=\"text-align: right;\">\n",
       "      <th></th>\n",
       "      <th>user_id</th>\n",
       "      <th>score</th>\n",
       "      <th>age</th>\n",
       "      <th>equity</th>\n",
       "      <th>balance</th>\n",
       "      <th>products</th>\n",
       "      <th>credit_card</th>\n",
       "      <th>last_activity</th>\n",
       "      <th>est_salary</th>\n",
       "      <th>churn</th>\n",
       "      <th>balance_nan</th>\n",
       "    </tr>\n",
       "  </thead>\n",
       "  <tbody>\n",
       "    <tr>\n",
       "      <th>count</th>\n",
       "      <td>9973.00</td>\n",
       "      <td>9973.00</td>\n",
       "      <td>9973.00</td>\n",
       "      <td>9973.00</td>\n",
       "      <td>7695.00</td>\n",
       "      <td>9973.00</td>\n",
       "      <td>9973.00</td>\n",
       "      <td>9973.00</td>\n",
       "      <td>9973.00</td>\n",
       "      <td>9973.00</td>\n",
       "      <td>9973.00</td>\n",
       "    </tr>\n",
       "    <tr>\n",
       "      <th>mean</th>\n",
       "      <td>171757.62</td>\n",
       "      <td>848.67</td>\n",
       "      <td>42.73</td>\n",
       "      <td>2.63</td>\n",
       "      <td>827245.59</td>\n",
       "      <td>1.87</td>\n",
       "      <td>0.68</td>\n",
       "      <td>0.52</td>\n",
       "      <td>147799.12</td>\n",
       "      <td>0.18</td>\n",
       "      <td>0.77</td>\n",
       "    </tr>\n",
       "    <tr>\n",
       "      <th>std</th>\n",
       "      <td>33696.37</td>\n",
       "      <td>65.39</td>\n",
       "      <td>12.18</td>\n",
       "      <td>1.98</td>\n",
       "      <td>1980327.41</td>\n",
       "      <td>0.79</td>\n",
       "      <td>0.47</td>\n",
       "      <td>0.50</td>\n",
       "      <td>139287.08</td>\n",
       "      <td>0.39</td>\n",
       "      <td>0.42</td>\n",
       "    </tr>\n",
       "    <tr>\n",
       "      <th>min</th>\n",
       "      <td>94561.00</td>\n",
       "      <td>642.00</td>\n",
       "      <td>18.00</td>\n",
       "      <td>0.00</td>\n",
       "      <td>0.00</td>\n",
       "      <td>1.00</td>\n",
       "      <td>0.00</td>\n",
       "      <td>0.00</td>\n",
       "      <td>2546.30</td>\n",
       "      <td>0.00</td>\n",
       "      <td>0.00</td>\n",
       "    </tr>\n",
       "    <tr>\n",
       "      <th>5%</th>\n",
       "      <td>119164.60</td>\n",
       "      <td>737.00</td>\n",
       "      <td>26.00</td>\n",
       "      <td>0.00</td>\n",
       "      <td>100057.46</td>\n",
       "      <td>1.00</td>\n",
       "      <td>0.00</td>\n",
       "      <td>0.00</td>\n",
       "      <td>32143.96</td>\n",
       "      <td>0.00</td>\n",
       "      <td>0.00</td>\n",
       "    </tr>\n",
       "    <tr>\n",
       "      <th>25%</th>\n",
       "      <td>142757.00</td>\n",
       "      <td>802.00</td>\n",
       "      <td>33.00</td>\n",
       "      <td>0.00</td>\n",
       "      <td>295698.71</td>\n",
       "      <td>1.00</td>\n",
       "      <td>0.00</td>\n",
       "      <td>0.00</td>\n",
       "      <td>75252.02</td>\n",
       "      <td>0.00</td>\n",
       "      <td>1.00</td>\n",
       "    </tr>\n",
       "    <tr>\n",
       "      <th>50%</th>\n",
       "      <td>172651.00</td>\n",
       "      <td>853.00</td>\n",
       "      <td>40.00</td>\n",
       "      <td>3.00</td>\n",
       "      <td>524295.33</td>\n",
       "      <td>2.00</td>\n",
       "      <td>1.00</td>\n",
       "      <td>1.00</td>\n",
       "      <td>119643.06</td>\n",
       "      <td>0.00</td>\n",
       "      <td>1.00</td>\n",
       "    </tr>\n",
       "    <tr>\n",
       "      <th>75%</th>\n",
       "      <td>201164.00</td>\n",
       "      <td>900.00</td>\n",
       "      <td>51.00</td>\n",
       "      <td>4.00</td>\n",
       "      <td>980051.21</td>\n",
       "      <td>2.00</td>\n",
       "      <td>1.00</td>\n",
       "      <td>1.00</td>\n",
       "      <td>174499.96</td>\n",
       "      <td>0.00</td>\n",
       "      <td>1.00</td>\n",
       "    </tr>\n",
       "    <tr>\n",
       "      <th>95%</th>\n",
       "      <td>223619.40</td>\n",
       "      <td>946.00</td>\n",
       "      <td>65.00</td>\n",
       "      <td>5.00</td>\n",
       "      <td>2114078.39</td>\n",
       "      <td>3.00</td>\n",
       "      <td>1.00</td>\n",
       "      <td>1.00</td>\n",
       "      <td>316366.94</td>\n",
       "      <td>1.00</td>\n",
       "      <td>1.00</td>\n",
       "    </tr>\n",
       "    <tr>\n",
       "      <th>98%</th>\n",
       "      <td>226827.12</td>\n",
       "      <td>968.00</td>\n",
       "      <td>70.00</td>\n",
       "      <td>6.00</td>\n",
       "      <td>3438195.91</td>\n",
       "      <td>4.00</td>\n",
       "      <td>1.00</td>\n",
       "      <td>1.00</td>\n",
       "      <td>665303.56</td>\n",
       "      <td>1.00</td>\n",
       "      <td>1.00</td>\n",
       "    </tr>\n",
       "    <tr>\n",
       "      <th>max</th>\n",
       "      <td>229145.00</td>\n",
       "      <td>1000.00</td>\n",
       "      <td>86.00</td>\n",
       "      <td>9.00</td>\n",
       "      <td>119113552.01</td>\n",
       "      <td>5.00</td>\n",
       "      <td>1.00</td>\n",
       "      <td>1.00</td>\n",
       "      <td>1395064.45</td>\n",
       "      <td>1.00</td>\n",
       "      <td>1.00</td>\n",
       "    </tr>\n",
       "  </tbody>\n",
       "</table>\n",
       "</div>"
      ],
      "text/plain": [
       "        user_id   score     age  equity      balance  products  credit_card  \\\n",
       "count 9973.00   9973.00 9973.00 9973.00 7695.00      9973.00   9973.00        \n",
       "mean  171757.62 848.67  42.73   2.63    827245.59    1.87      0.68           \n",
       "std   33696.37  65.39   12.18   1.98    1980327.41   0.79      0.47           \n",
       "min   94561.00  642.00  18.00   0.00    0.00         1.00      0.00           \n",
       "5%    119164.60 737.00  26.00   0.00    100057.46    1.00      0.00           \n",
       "25%   142757.00 802.00  33.00   0.00    295698.71    1.00      0.00           \n",
       "50%   172651.00 853.00  40.00   3.00    524295.33    2.00      1.00           \n",
       "75%   201164.00 900.00  51.00   4.00    980051.21    2.00      1.00           \n",
       "95%   223619.40 946.00  65.00   5.00    2114078.39   3.00      1.00           \n",
       "98%   226827.12 968.00  70.00   6.00    3438195.91   4.00      1.00           \n",
       "max   229145.00 1000.00 86.00   9.00    119113552.01 5.00      1.00           \n",
       "\n",
       "       last_activity  est_salary   churn  balance_nan  \n",
       "count 9973.00        9973.00     9973.00 9973.00       \n",
       "mean  0.52           147799.12   0.18    0.77          \n",
       "std   0.50           139287.08   0.39    0.42          \n",
       "min   0.00           2546.30     0.00    0.00          \n",
       "5%    0.00           32143.96    0.00    0.00          \n",
       "25%   0.00           75252.02    0.00    1.00          \n",
       "50%   1.00           119643.06   0.00    1.00          \n",
       "75%   1.00           174499.96   0.00    1.00          \n",
       "95%   1.00           316366.94   1.00    1.00          \n",
       "98%   1.00           665303.56   1.00    1.00          \n",
       "max   1.00           1395064.45  1.00    1.00          "
      ]
     },
     "execution_count": 14,
     "metadata": {},
     "output_type": "execute_result"
    }
   ],
   "source": [
    "df.describe(percentiles=[0.05, 1/4, 1/2, 3/4, 0.95, .98])"
   ]
  },
  {
   "cell_type": "markdown",
   "metadata": {},
   "source": [
    "Присутствуют экстремальные значения в столбцах `balance` и `est_salary` 2% случаев сверху (98 перцентиль). Эти значения могут оказать значительное влияние на результаты исследования, поэтому данные выбросы можно срезать."
   ]
  },
  {
   "cell_type": "code",
   "execution_count": 15,
   "metadata": {},
   "outputs": [],
   "source": [
    "# сохраним исходный датасет перед удалением значений\n",
    "df_old = df\n",
    "\n",
    "# находим значение 98 перцентиля\n",
    "q98_balance = np.percentile(df.query('balance.notna()')['balance'], 98)\n",
    "\n",
    "# отбрасываем значения, которые выше 98 перцентиля\n",
    "df = df.query('balance <= @q98_balance or balance.isna()')\n",
    "\n",
    "q98_est_salary = np.percentile(df['est_salary'], 98)\n",
    "df = df.query('est_salary <= @q98_est_salary')"
   ]
  },
  {
   "cell_type": "code",
   "execution_count": 16,
   "metadata": {},
   "outputs": [
    {
     "name": "stdout",
     "output_type": "stream",
     "text": [
      "Количество удаленных записей в \"balance\": 154 (1.5%)\n",
      "Количество удаленных записей в \"est_salary\": 253 (2.5%)\n",
      "Количество удаленных записей всего: 351 (3.5%)\n"
     ]
    }
   ],
   "source": [
    "print(f'Количество удаленных записей в \"balance\": {len(df_old.query(\"balance > @q98_balance\"))} ({(len(df_old.query(\"balance > @q98_balance\")) / len(df_old)*100):.2}%)')\n",
    "print(f'Количество удаленных записей в \"est_salary\": {len(df_old.query(\"est_salary > @q98_est_salary\"))} ({(len(df_old.query(\"est_salary > @q98_est_salary\")) / len(df_old)*100):.2}%)')\n",
    "print(f'Количество удаленных записей всего: {len(df_old)-len(df)} ({(len(df_old)-len(df))/len(df_old)*100:.2}%)')"
   ]
  },
  {
   "cell_type": "code",
   "execution_count": 17,
   "metadata": {},
   "outputs": [
    {
     "name": "stdout",
     "output_type": "stream",
     "text": [
      "Доля удаленной суммы в \"balance\": 19.0%\n"
     ]
    }
   ],
   "source": [
    "sum_balance_deleted = df_old.query(\"balance > @q98_balance\")['balance'].sum()\n",
    "sum_balance_total = df_old['balance'].sum()\n",
    "\n",
    "print(f'Доля удаленной суммы в \"balance\": {round((sum_balance_deleted/sum_balance_total), 2)*100}%')"
   ]
  },
  {
   "cell_type": "markdown",
   "metadata": {},
   "source": [
    "### Анализ распределения признаков"
   ]
  },
  {
   "cell_type": "markdown",
   "metadata": {},
   "source": [
    "По непрерывным величинам найдем отточные интервалы, а для категориальных/дискретных величин найдем значения признака с оттоком выше, чем средний по банку."
   ]
  },
  {
   "cell_type": "code",
   "execution_count": 18,
   "metadata": {},
   "outputs": [],
   "source": [
    "# разобьем признаки на категориальные и непрерывные\n",
    "num_params = ['score', 'age', 'balance', 'est_salary']\n",
    "cat_params = ['gender', 'city', 'credit_card', 'last_activity', 'equity', 'products']"
   ]
  },
  {
   "cell_type": "markdown",
   "metadata": {},
   "source": [
    "**Непрерывные признаки**"
   ]
  },
  {
   "cell_type": "markdown",
   "metadata": {},
   "source": [
    "Построим гистограммы распределения непрерывных величин из `num_params`. "
   ]
  },
  {
   "cell_type": "code",
   "execution_count": 19,
   "metadata": {},
   "outputs": [
    {
     "data": {
      "image/png": "[encoded data removed]",
      "text/plain": [
       "<Figure size 1296x720 with 4 Axes>"
      ]
     },
     "metadata": {
      "needs_background": "light"
     },
     "output_type": "display_data"
    }
   ],
   "source": [
    "# задаем область графика\n",
    "fig, ax = plt.subplots(figsize = (18, int(len(num_params)*2.5)))\n",
    "i=1\n",
    "\n",
    "# идем по кадому элементу списка num_params\n",
    "for prm in num_params:\n",
    "    \n",
    "    if prm == 'age':\n",
    "        sns.histplot(df, x=prm, \n",
    "                     hue='churn', \n",
    "                     stat='density', \n",
    "                     common_norm=False, \n",
    "                     binwidth=1,\n",
    "                     ax = plt.subplot(int(len(num_params)/2), 2, i))\n",
    "    else:\n",
    "        sns.histplot(df, x=prm, \n",
    "                     hue='churn', \n",
    "                     stat='density', \n",
    "                     common_norm=False, \n",
    "                     ax = plt.subplot(int(len(num_params)/2), 2, i))\n",
    "    \n",
    "    plt.xlabel('')\n",
    "    plt.ylabel(f'Плотность в {prm}')\n",
    "    i += 1\n",
    "    plt.title(f'Распределение по {prm} в разрезе оттока');"
   ]
  },
  {
   "cell_type": "markdown",
   "metadata": {},
   "source": [
    "Для того чтобы подробнее описать графики и сделать выводы посмотрим на описательную статистику данных признаков."
   ]
  },
  {
   "cell_type": "code",
   "execution_count": 20,
   "metadata": {},
   "outputs": [
    {
     "data": {
      "text/html": [
       "<div>\n",
       "<style scoped>\n",
       "    .dataframe tbody tr th:only-of-type {\n",
       "        vertical-align: middle;\n",
       "    }\n",
       "\n",
       "    .dataframe tbody tr th {\n",
       "        vertical-align: top;\n",
       "    }\n",
       "\n",
       "    .dataframe thead th {\n",
       "        text-align: right;\n",
       "    }\n",
       "</style>\n",
       "<table border=\"1\" class=\"dataframe\">\n",
       "  <thead>\n",
       "    <tr style=\"text-align: right;\">\n",
       "      <th></th>\n",
       "      <th>score</th>\n",
       "      <th>age</th>\n",
       "      <th>balance</th>\n",
       "      <th>est_salary</th>\n",
       "    </tr>\n",
       "  </thead>\n",
       "  <tbody>\n",
       "    <tr>\n",
       "      <th>count</th>\n",
       "      <td>1744.00</td>\n",
       "      <td>1744.00</td>\n",
       "      <td>1735.00</td>\n",
       "      <td>1744.00</td>\n",
       "    </tr>\n",
       "    <tr>\n",
       "      <th>mean</th>\n",
       "      <td>860.55</td>\n",
       "      <td>41.32</td>\n",
       "      <td>914920.99</td>\n",
       "      <td>132703.91</td>\n",
       "    </tr>\n",
       "    <tr>\n",
       "      <th>std</th>\n",
       "      <td>47.85</td>\n",
       "      <td>11.16</td>\n",
       "      <td>693448.34</td>\n",
       "      <td>72176.06</td>\n",
       "    </tr>\n",
       "    <tr>\n",
       "      <th>min</th>\n",
       "      <td>706.00</td>\n",
       "      <td>18.00</td>\n",
       "      <td>6.00</td>\n",
       "      <td>10880.27</td>\n",
       "    </tr>\n",
       "    <tr>\n",
       "      <th>5%</th>\n",
       "      <td>779.00</td>\n",
       "      <td>26.00</td>\n",
       "      <td>128800.98</td>\n",
       "      <td>37899.94</td>\n",
       "    </tr>\n",
       "    <tr>\n",
       "      <th>25%</th>\n",
       "      <td>827.00</td>\n",
       "      <td>32.00</td>\n",
       "      <td>376848.30</td>\n",
       "      <td>81634.46</td>\n",
       "    </tr>\n",
       "    <tr>\n",
       "      <th>50%</th>\n",
       "      <td>864.50</td>\n",
       "      <td>39.00</td>\n",
       "      <td>754153.67</td>\n",
       "      <td>121968.61</td>\n",
       "    </tr>\n",
       "    <tr>\n",
       "      <th>75%</th>\n",
       "      <td>895.00</td>\n",
       "      <td>51.25</td>\n",
       "      <td>1287821.19</td>\n",
       "      <td>170418.48</td>\n",
       "    </tr>\n",
       "    <tr>\n",
       "      <th>95%</th>\n",
       "      <td>933.00</td>\n",
       "      <td>60.00</td>\n",
       "      <td>2365137.89</td>\n",
       "      <td>260958.41</td>\n",
       "    </tr>\n",
       "    <tr>\n",
       "      <th>max</th>\n",
       "      <td>999.00</td>\n",
       "      <td>75.00</td>\n",
       "      <td>3434496.57</td>\n",
       "      <td>511838.23</td>\n",
       "    </tr>\n",
       "  </tbody>\n",
       "</table>\n",
       "</div>"
      ],
      "text/plain": [
       "        score     age    balance  est_salary\n",
       "count 1744.00 1744.00 1735.00    1744.00    \n",
       "mean  860.55  41.32   914920.99  132703.91  \n",
       "std   47.85   11.16   693448.34  72176.06   \n",
       "min   706.00  18.00   6.00       10880.27   \n",
       "5%    779.00  26.00   128800.98  37899.94   \n",
       "25%   827.00  32.00   376848.30  81634.46   \n",
       "50%   864.50  39.00   754153.67  121968.61  \n",
       "75%   895.00  51.25   1287821.19 170418.48  \n",
       "95%   933.00  60.00   2365137.89 260958.41  \n",
       "max   999.00  75.00   3434496.57 511838.23  "
      ]
     },
     "metadata": {},
     "output_type": "display_data"
    }
   ],
   "source": [
    "# посмотрим на описательную статистику признаков отточных клиентов\n",
    "display(df.query('churn == 1')[num_params].describe(percentiles=[0.05, 1/4, 1/2, 3/4, 0.95]))"
   ]
  },
  {
   "cell_type": "markdown",
   "metadata": {},
   "source": [
    "Характеристики отточных клиентов по межквартильному размаху по непрерывным признакам:\n",
    "- По признаку `score`: от 828 до 897 баллов\n",
    "- По признаку `age`: от 25 до 35 лет, а также 50-60 лет\n",
    "- По признаку `balance`: от 377 тыс. руб. до 1,29 млн. руб.\n",
    "- По признаку `est_salary`: примерно от 81 тыс.руб. до 170 тыс. руб."
   ]
  },
  {
   "cell_type": "markdown",
   "metadata": {},
   "source": [
    "**Категориальные признаки**"
   ]
  },
  {
   "cell_type": "markdown",
   "metadata": {},
   "source": [
    "Проанализируем категориальные признаки из списка `cat_params`. На графики добавим прямую со средним уровнем оттока клиентов по банку. Будем считать, что если средний уровень оттока по признаку выше, чем общий средний отток, то такой признак оказывает сильное влияние на отток."
   ]
  },
  {
   "cell_type": "code",
   "execution_count": 21,
   "metadata": {},
   "outputs": [],
   "source": [
    "# средний уровеь оттока по банку\n",
    "avg_churn = len(df.query('churn == 1'))/len(df)"
   ]
  },
  {
   "cell_type": "code",
   "execution_count": 22,
   "metadata": {},
   "outputs": [
    {
     "data": {
      "image/png": "[encoded data removed]",
      "text/plain": [
       "<Figure size 1296x864 with 6 Axes>"
      ]
     },
     "metadata": {
      "needs_background": "light"
     },
     "output_type": "display_data"
    }
   ],
   "source": [
    "# задаем размер области графика\n",
    "fig, ax = plt.subplots(figsize = (18, 12))\n",
    "\n",
    "# итератор для расположения графика во 2-ом столбце области\n",
    "i=1\n",
    "\n",
    "# идем по элементам списка cat_params\n",
    "for prm in cat_params:\n",
    "    sns.barplot(data=df, x=prm, y='churn', ax = plt.subplot(int(len(cat_params)/2), 2, i))\n",
    "    if i % 2 == 0:\n",
    "        plt.ylabel('')\n",
    "    else:\n",
    "        plt.ylabel('Доля отточных клиентов')\n",
    "    plt.axhline(y=avg_churn, color='red', linestyle='--');\n",
    "    \n",
    "    i += 1"
   ]
  },
  {
   "cell_type": "markdown",
   "metadata": {},
   "source": [
    "Признаки клиентов, средний уровень отточности которых выше, чем общий средний уровень отточности (0.18):\n",
    "- По признаку `gender`: Мужчины более склонны к оттоку (24% от всех клиентов)\n",
    "- По признаку `city`: Клиенты из Ярославля и Ростова более склонны к оттоку (18%)\n",
    "- По признаку `credit_card`: склонны к оттоку те, у кого нет кредитной карты (25%)\n",
    "- По признаку `last_activity`: активные клиенты склонны к оттоку (24%)\n",
    "- По признаку `products`: от 3 до 5 открытых продуктов (20-50% )\n",
    "- По признаку `equity`: от 3 до 9 баллов собственности\n",
    "\n",
    "Отток среди мужчин, клиентов без кредитной карты, активных клиентов, а также клиентов, пользующихся от 2 до 5 банковских продуктов и клиентов с баллами собственности от 3 до 9 выше, чем средний общий отток по банку."
   ]
  },
  {
   "cell_type": "markdown",
   "metadata": {},
   "source": [
    "### Анализ портретов клиентов в разрезе оттока"
   ]
  },
  {
   "cell_type": "markdown",
   "metadata": {},
   "source": [
    "Составим портрет клиента в разрезе оттока. Для этого соберем меры центральной тенденции в сводной таблице по каждому признаку и посчитаем относительную разницу по лояльным и отточным клиентам. Напишем функцию, которая строит портрет клиента (на вход - датасет).\n",
    "\n",
    "- Для непрерывных величин из `num_params` найдем среднее, а для `balance` и `est_salary` посчитаем медиану, так как в этих столбцах были найдены выбросы.\n",
    "- Для категориальных величин посчитаем моду."
   ]
  },
  {
   "cell_type": "code",
   "execution_count": 23,
   "metadata": {},
   "outputs": [],
   "source": [
    "def get_client_portret(data):\n",
    "    # непрерывные величины: центральная тенденция - средняя\n",
    "    df_num_avg_churn = data.pivot_table(index='churn', \n",
    "                                        values=num_params, \n",
    "                                        aggfunc='mean').add_suffix('_avg').reset_index(drop=True).T\n",
    "\n",
    "    # считаем разницу\n",
    "    df_num_avg_churn['Относительная разница'] = df_num_avg_churn[1] - df_num_avg_churn[0]\n",
    "\n",
    "    # display(df_num_avg_churn)\n",
    "\n",
    "    # для est_salary и balance посчитаем медиану\n",
    "    df_num_median_churn = data.pivot_table(index='churn', \n",
    "                                           values=num_params, \n",
    "                                           aggfunc='median').add_suffix('_median').reset_index(drop=True).T\n",
    "\n",
    "    # считаем разницу\n",
    "    df_num_median_churn['Относительная разница'] = df_num_median_churn[1] - df_num_median_churn[0]\n",
    "\n",
    "    # display(df_num_median_churn)\n",
    "\n",
    "    # категориальные величины: центральная тенденция - мода\n",
    "    df_cat_mode_churn = data.pivot_table(index='churn',\n",
    "                                         values=cat_params,\n",
    "                                         aggfunc=lambda x: x.mode()[0]).add_suffix('_mode').reset_index(drop=True).T\n",
    "\n",
    "    # display(df_cat_mode_churn)\n",
    "\n",
    "    # соединияем таблицы\n",
    "    df_pivot_churn = pd.concat([df_num_avg_churn, df_num_median_churn, df_cat_mode_churn])\n",
    "\n",
    "    # переименуем столбцы\n",
    "    df_pivot_churn.rename(columns={1: 'Отток',\n",
    "                                   0: 'Не отток'}, inplace = True)\n",
    "\n",
    "    display(df_pivot_churn)"
   ]
  },
  {
   "cell_type": "code",
   "execution_count": 24,
   "metadata": {},
   "outputs": [
    {
     "data": {
      "text/html": [
       "<div>\n",
       "<style scoped>\n",
       "    .dataframe tbody tr th:only-of-type {\n",
       "        vertical-align: middle;\n",
       "    }\n",
       "\n",
       "    .dataframe tbody tr th {\n",
       "        vertical-align: top;\n",
       "    }\n",
       "\n",
       "    .dataframe thead th {\n",
       "        text-align: right;\n",
       "    }\n",
       "</style>\n",
       "<table border=\"1\" class=\"dataframe\">\n",
       "  <thead>\n",
       "    <tr style=\"text-align: right;\">\n",
       "      <th></th>\n",
       "      <th>Не отток</th>\n",
       "      <th>Отток</th>\n",
       "      <th>Относительная разница</th>\n",
       "    </tr>\n",
       "  </thead>\n",
       "  <tbody>\n",
       "    <tr>\n",
       "      <th>age_avg</th>\n",
       "      <td>42.98</td>\n",
       "      <td>41.32</td>\n",
       "      <td>-1.66</td>\n",
       "    </tr>\n",
       "    <tr>\n",
       "      <th>balance_avg</th>\n",
       "      <td>611698.91</td>\n",
       "      <td>914920.99</td>\n",
       "      <td>303222.07</td>\n",
       "    </tr>\n",
       "    <tr>\n",
       "      <th>est_salary_avg</th>\n",
       "      <td>127125.84</td>\n",
       "      <td>132703.91</td>\n",
       "      <td>5578.07</td>\n",
       "    </tr>\n",
       "    <tr>\n",
       "      <th>score_avg</th>\n",
       "      <td>844.07</td>\n",
       "      <td>860.55</td>\n",
       "      <td>16.48</td>\n",
       "    </tr>\n",
       "    <tr>\n",
       "      <th>age_median</th>\n",
       "      <td>40.00</td>\n",
       "      <td>39.00</td>\n",
       "      <td>-1.00</td>\n",
       "    </tr>\n",
       "    <tr>\n",
       "      <th>balance_median</th>\n",
       "      <td>468350.12</td>\n",
       "      <td>754153.67</td>\n",
       "      <td>285803.55</td>\n",
       "    </tr>\n",
       "    <tr>\n",
       "      <th>est_salary_median</th>\n",
       "      <td>115172.97</td>\n",
       "      <td>121968.61</td>\n",
       "      <td>6795.64</td>\n",
       "    </tr>\n",
       "    <tr>\n",
       "      <th>score_median</th>\n",
       "      <td>846.00</td>\n",
       "      <td>864.50</td>\n",
       "      <td>18.50</td>\n",
       "    </tr>\n",
       "    <tr>\n",
       "      <th>city_mode</th>\n",
       "      <td>Ярославль</td>\n",
       "      <td>Ярославль</td>\n",
       "      <td>NaN</td>\n",
       "    </tr>\n",
       "    <tr>\n",
       "      <th>credit_card_mode</th>\n",
       "      <td>1</td>\n",
       "      <td>1</td>\n",
       "      <td>NaN</td>\n",
       "    </tr>\n",
       "    <tr>\n",
       "      <th>equity_mode</th>\n",
       "      <td>0</td>\n",
       "      <td>5</td>\n",
       "      <td>NaN</td>\n",
       "    </tr>\n",
       "    <tr>\n",
       "      <th>gender_mode</th>\n",
       "      <td>Ж</td>\n",
       "      <td>М</td>\n",
       "      <td>NaN</td>\n",
       "    </tr>\n",
       "    <tr>\n",
       "      <th>last_activity_mode</th>\n",
       "      <td>0</td>\n",
       "      <td>1</td>\n",
       "      <td>NaN</td>\n",
       "    </tr>\n",
       "    <tr>\n",
       "      <th>products_mode</th>\n",
       "      <td>2</td>\n",
       "      <td>2</td>\n",
       "      <td>NaN</td>\n",
       "    </tr>\n",
       "  </tbody>\n",
       "</table>\n",
       "</div>"
      ],
      "text/plain": [
       "                     Не отток      Отток  Относительная разница\n",
       "age_avg            42.98      41.32      -1.66                 \n",
       "balance_avg        611698.91  914920.99  303222.07             \n",
       "est_salary_avg     127125.84  132703.91  5578.07               \n",
       "score_avg          844.07     860.55     16.48                 \n",
       "age_median         40.00      39.00      -1.00                 \n",
       "balance_median     468350.12  754153.67  285803.55             \n",
       "est_salary_median  115172.97  121968.61  6795.64               \n",
       "score_median       846.00     864.50     18.50                 \n",
       "city_mode           Ярославль  Ярославль NaN                   \n",
       "credit_card_mode    1          1         NaN                   \n",
       "equity_mode         0          5         NaN                   \n",
       "gender_mode         Ж          М         NaN                   \n",
       "last_activity_mode  0          1         NaN                   \n",
       "products_mode       2          2         NaN                   "
      ]
     },
     "metadata": {},
     "output_type": "display_data"
    }
   ],
   "source": [
    "get_client_portret(df)"
   ]
  },
  {
   "cell_type": "markdown",
   "metadata": {},
   "source": [
    "Портрет **отточного** клиента банка - мужчина 41 год из Ярославля, имеющий кредитную карту, но активно пользующийся 2 банковскими продуктами. Его медианный доход около 120 тыс. руб., а на счету лежит примерно 750 тыс. руб., средний скоринговый балл - 860.\n",
    "\n",
    "Портрет **лояльного** клиента банка - женщина 43 лет из Ярославля, имеющая кредитную карту, но активно не пользующаяся сервисами банка. У данного типа клиента открыто 2 продукта. Медианный доход - 115 тыс. руб., на счету хранится около 470 тыс. руб. Кредитный рейтинг ниже, чем у отточного клиента и составляет 844 балла."
   ]
  },
  {
   "cell_type": "markdown",
   "metadata": {},
   "source": [
    "### Корреляционный анализ"
   ]
  },
  {
   "cell_type": "markdown",
   "metadata": {},
   "source": [
    "С помощью корреляционного анализа посмотрим, как признаки клиента влияют признак отточности. Оценку корреляции будем проводить по шкале Чеддока, а считать с помощью библиотеки `phik``."
   ]
  },
  {
   "cell_type": "code",
   "execution_count": 25,
   "metadata": {},
   "outputs": [
    {
     "data": {
      "image/png": "[encoded data removed]",
      "text/plain": [
       "<Figure size 1296x432 with 2 Axes>"
      ]
     },
     "metadata": {
      "needs_background": "light"
     },
     "output_type": "display_data"
    }
   ],
   "source": [
    "# применим метод phik\n",
    "plt.figure(figsize=(18, 6))\n",
    "sns.heatmap(df.drop(['user_id', 'balance_nan'], axis=1).phik_matrix(interval_cols=num_params),\n",
    "            cmap='coolwarm',\n",
    "            center=0, \n",
    "            annot=True, \n",
    "            linewidths=.2, \n",
    "            fmt='.2%')\n",
    "\n",
    "plt.title('Тепловая карта зависимости признаков')\n",
    "plt.show()"
   ]
  },
  {
   "cell_type": "markdown",
   "metadata": {},
   "source": [
    "- Наблюдается заметная положительная зависимость между признаками `equity` и `score`, `products` и `equity`, `balance` и `equity`. Это может говорить о том, что чем больше собственности у клиента, тем выше балл и больше открытых продуктов. Умеренную положительную зависимость можно наблюдать по `age` и `est_salary`, то есть старшее поколение получает более высокую зарплату.\n",
    "- Умеренная зависимость оттока наблюдается по признакам `balance` и `equity`. То есть, чем больше баллов собственности или выше баланс у клиента, тем больше отток. По остальным признакам корреляция с отточностью слабая."
   ]
  },
  {
   "cell_type": "markdown",
   "metadata": {},
   "source": [
    "Для трактовки силы связи между двумя наблюдаемыми величинами используем шкалу Чеддока. Она определяет тесноту связи следующим образом: \n",
    "- 0.1 – 0.3 – слабая; \n",
    "- 0.3 – 0.5 – умеренная; \n",
    "- 0.5 – 0.7 – заметная; \n",
    "- 0.7 – 0.9 – высокая; \n",
    "- 0.9 – 1 – весьма высокая\n",
    "\n",
    "Границу между наличием и отсутствием связи между признаками определим на уровне 10%, то есть, если значение корреляции выше, чем 10%, то будем считать, что фактор *оказывает* влияние на признак. По полученному графику можно определить, что на отток влияют все признаки, кроме `city` и `est_salary`. Умеренная зависимость оттока (по шкале Чеддока) наблюдается по признакам `equity` и `balance`. По остальным признакам корреляция слабая."
   ]
  },
  {
   "cell_type": "markdown",
   "metadata": {},
   "source": [
    "## Проверка статистических гипотез"
   ]
  },
  {
   "cell_type": "markdown",
   "metadata": {},
   "source": [
    "Нам необходимо проверить гипотезу о различии среднего дохода `est_salary` среди отточной и лояльной групп, а также гипотезу о различии среднего кредитного рейтинга `score` . Для определения и обоснования выбора инструментария для проверки гипотез нужно проверить данные на нормальность."
   ]
  },
  {
   "cell_type": "markdown",
   "metadata": {},
   "source": [
    "### Влияние дохода"
   ]
  },
  {
   "cell_type": "markdown",
   "metadata": {},
   "source": [
    "Проверим данные `est_salary`на нормальность. Построим гистограмму распределения."
   ]
  },
  {
   "cell_type": "code",
   "execution_count": 26,
   "metadata": {},
   "outputs": [
    {
     "name": "stderr",
     "output_type": "stream",
     "text": [
      "/opt/conda/lib/python3.9/site-packages/seaborn/distributions.py:2557: FutureWarning: `distplot` is a deprecated function and will be removed in a future version. Please adapt your code to use either `displot` (a figure-level function with similar flexibility) or `histplot` (an axes-level function for histograms).\n",
      "  warnings.warn(msg, FutureWarning)\n",
      "/opt/conda/lib/python3.9/site-packages/seaborn/distributions.py:2557: FutureWarning: `distplot` is a deprecated function and will be removed in a future version. Please adapt your code to use either `displot` (a figure-level function with similar flexibility) or `histplot` (an axes-level function for histograms).\n",
      "  warnings.warn(msg, FutureWarning)\n"
     ]
    },
    {
     "data": {
      "image/png": "[encoded data removed]",
      "text/plain": [
       "<Figure size 1296x360 with 1 Axes>"
      ]
     },
     "metadata": {
      "needs_background": "light"
     },
     "output_type": "display_data"
    }
   ],
   "source": [
    "plt.figure(figsize=(18, 5))\n",
    "sns.distplot(df[df['churn'] == 0]['est_salary'], label = 'не отток')\n",
    "sns.distplot(df[df['churn'] == 1]['est_salary'], label = 'отток')\n",
    "\n",
    "plt.title('Распределение размера зарплаты в зависимости от оттока')\n",
    "plt.xlabel('')\n",
    "plt.ylabel('')\n",
    "plt.legend()\n",
    "plt.show()"
   ]
  },
  {
   "cell_type": "markdown",
   "metadata": {},
   "source": [
    "Графическая интерпретация говорит о том, что распределение нельзя считать нормальным.\n",
    "\n",
    "- Тип данных: количественный, непрерывный, \n",
    "- Распределение: отличное от нормального, \n",
    "- Количество групп: 2, \n",
    "- Связанность групп: не связаны. \n",
    "\n",
    "Необходимо использовать непараметрический тест Манна-Уитни. Сформулируем гипотезы:\n",
    "- **H0**: значимой разницы в среднем доходе между отточной и лояльной группами нет.\n",
    "- **H1**: значимая разница в среднем доходе между двумя группами есть."
   ]
  },
  {
   "cell_type": "code",
   "execution_count": 27,
   "metadata": {},
   "outputs": [
    {
     "name": "stdout",
     "output_type": "stream",
     "text": [
      "p-значение:  0.00010253787427758668\n",
      "Отвергаем нулевую гипотезу: разница статистически значима\n",
      "-----\n",
      "Среднее значение дохода отточных клиентов: 132703.91\n",
      "Среднее значение дохода лояльных клиентов: 127125.84\n"
     ]
    }
   ],
   "source": [
    "# уровень значимости\n",
    "alpha = 0.05\n",
    "\n",
    "results = st.mannwhitneyu(df.query('churn == 0')['est_salary'], df.query('churn == 1')['est_salary'])\n",
    "\n",
    "print('p-значение: ', results.pvalue)\n",
    "\n",
    "if results.pvalue < alpha:\n",
    "    print('Отвергаем нулевую гипотезу: разница статистически значима')\n",
    "else:\n",
    "    print('Не получилось отвергнуть нулевую гипотезу, вывод о различии сделать нельзя')\n",
    "\n",
    "print('-----')\n",
    "print('Среднее значение дохода отточных клиентов:', round(df.query('churn == 1')['est_salary'].mean(), 2))\n",
    "print('Среднее значение дохода лояльных клиентов:', round(df.query('churn == 0')['est_salary'].mean(), 2))"
   ]
  },
  {
   "cell_type": "markdown",
   "metadata": {},
   "source": [
    "На имеющихся данных, на уровне значимости 5% есть основания отвергнуть нулевую гипотезу о равенстве средних значений дохода отточных и лояльных клиентов в пользу альтернативной гипотезы. Скорее всего, различия будут закономерны, нежели случайными."
   ]
  },
  {
   "cell_type": "markdown",
   "metadata": {},
   "source": [
    "### Влияние креднитного рейтинга"
   ]
  },
  {
   "cell_type": "code",
   "execution_count": 28,
   "metadata": {},
   "outputs": [
    {
     "name": "stderr",
     "output_type": "stream",
     "text": [
      "/opt/conda/lib/python3.9/site-packages/seaborn/distributions.py:2557: FutureWarning: `distplot` is a deprecated function and will be removed in a future version. Please adapt your code to use either `displot` (a figure-level function with similar flexibility) or `histplot` (an axes-level function for histograms).\n",
      "  warnings.warn(msg, FutureWarning)\n",
      "/opt/conda/lib/python3.9/site-packages/seaborn/distributions.py:2557: FutureWarning: `distplot` is a deprecated function and will be removed in a future version. Please adapt your code to use either `displot` (a figure-level function with similar flexibility) or `histplot` (an axes-level function for histograms).\n",
      "  warnings.warn(msg, FutureWarning)\n"
     ]
    },
    {
     "data": {
      "image/png": "[encoded data removed]",
      "text/plain": [
       "<Figure size 1296x360 with 1 Axes>"
      ]
     },
     "metadata": {
      "needs_background": "light"
     },
     "output_type": "display_data"
    }
   ],
   "source": [
    "plt.figure(figsize=(18, 5))\n",
    "\n",
    "sns.distplot(df[df['churn'] == 0]['score'], label = 'не отток')\n",
    "sns.distplot(df[df['churn'] == 1]['score'], label = 'отток')\n",
    "\n",
    "plt.title('Распределение кредитного рейтинга в разрезе оттока')\n",
    "plt.xlabel('Баллы кредитного рейтинга')\n",
    "plt.ylabel('')\n",
    "plt.legend()\n",
    "plt.show()"
   ]
  },
  {
   "cell_type": "markdown",
   "metadata": {},
   "source": [
    "График показывает, что распределение нельзя считать нормальным.\n",
    "\n",
    "- Тип данных: количественный, непрерывный, \n",
    "- Распределение: отличное от нормального, \n",
    "- Количество групп: 2, \n",
    "- Связанность групп: не связаны. \n",
    "\n",
    "Необходимо использовать непараметрический тест Манна-Уитни. Сформулируем гипотезы:\n",
    "- **H0**: значимой разницы в среднем значении кредитного рейтинга между отточной и лояльной группами нет.\n",
    "- **H1**: значимая разница в среднем значении кредитного рейтинга между двумя группами есть."
   ]
  },
  {
   "cell_type": "code",
   "execution_count": 29,
   "metadata": {},
   "outputs": [
    {
     "name": "stdout",
     "output_type": "stream",
     "text": [
      "p-значение:  5.412328645243423e-19\n",
      "Отвергаем нулевую гипотезу: разница статистически значима\n",
      "-----\n",
      "Среднее значение кредитного рейтинга отточных клиентов: 860.55\n",
      "Среднее значение кредитного рейтинга лояльных клиентов: 844.07\n"
     ]
    }
   ],
   "source": [
    "# уровень значимости\n",
    "alpha = 0.05\n",
    "\n",
    "results = st.mannwhitneyu(df.query('churn == 0')['score'], df.query('churn == 1')['score'])\n",
    "\n",
    "print('p-значение: ', results.pvalue)\n",
    "\n",
    "if results.pvalue < alpha:\n",
    "    print('Отвергаем нулевую гипотезу: разница статистически значима')\n",
    "else:\n",
    "    print(\n",
    "        'Не получилось отвергнуть нулевую гипотезу, вывод о различии сделать нельзя'\n",
    "    )\n",
    "    \n",
    "print('-----')\n",
    "print('Среднее значение кредитного рейтинга отточных клиентов:', round(df.query('churn == 1')['score'].mean(), 2))\n",
    "print('Среднее значение кредитного рейтинга лояльных клиентов:', round(df.query('churn == 0')['score'].mean(), 2))"
   ]
  },
  {
   "cell_type": "markdown",
   "metadata": {},
   "source": [
    "На имеющихся данных, на уровне значимости 5% есть основания отвергнуть нулевую гипотезу о равенстве средних значений кредитного рейтинга отточных и лояльных клиентов в пользу альтернативной гипотезы. Разница в скоринге между отточными и лояльными клиентами вероятнее будет закономерной, нежели слуйчайной."
   ]
  },
  {
   "cell_type": "markdown",
   "metadata": {},
   "source": [
    "## Выводы по EDA. Признаки, влияющие на отток"
   ]
  },
  {
   "cell_type": "markdown",
   "metadata": {},
   "source": [
    "На данном этапе необходимо отобрать признаки оттока, которые лягут в основу сегментации клиентов.\n",
    "Для отбора признаков будем опираться на результаты анализа распределения признаков по отточным клиентам, а также на данные портрета отточного клиента."
   ]
  },
  {
   "cell_type": "markdown",
   "metadata": {},
   "source": [
    "**Непрерывные признаки**"
   ]
  },
  {
   "cell_type": "markdown",
   "metadata": {},
   "source": [
    "Построим графики распределения отточных и лояльных клиентов в разрезе непрерывных признаков в интервалах (межквартильных) признаков типичного отточного клиента. Определим доли оттока в банке по этим признакам."
   ]
  },
  {
   "cell_type": "code",
   "execution_count": 30,
   "metadata": {},
   "outputs": [
    {
     "data": {
      "text/html": [
       "<div>\n",
       "<style scoped>\n",
       "    .dataframe tbody tr th:only-of-type {\n",
       "        vertical-align: middle;\n",
       "    }\n",
       "\n",
       "    .dataframe tbody tr th {\n",
       "        vertical-align: top;\n",
       "    }\n",
       "\n",
       "    .dataframe thead th {\n",
       "        text-align: right;\n",
       "    }\n",
       "</style>\n",
       "<table border=\"1\" class=\"dataframe\">\n",
       "  <thead>\n",
       "    <tr style=\"text-align: right;\">\n",
       "      <th>churn</th>\n",
       "      <th>Не отток</th>\n",
       "      <th>Отток</th>\n",
       "      <th>Не отток %</th>\n",
       "      <th>Отток %</th>\n",
       "    </tr>\n",
       "  </thead>\n",
       "  <tbody>\n",
       "    <tr>\n",
       "      <th>score</th>\n",
       "      <td>2609</td>\n",
       "      <td>879</td>\n",
       "      <td>74.80</td>\n",
       "      <td>25.20</td>\n",
       "    </tr>\n",
       "    <tr>\n",
       "      <th>balance</th>\n",
       "      <td>2979</td>\n",
       "      <td>867</td>\n",
       "      <td>77.46</td>\n",
       "      <td>22.54</td>\n",
       "    </tr>\n",
       "    <tr>\n",
       "      <th>est_salary</th>\n",
       "      <td>3595</td>\n",
       "      <td>872</td>\n",
       "      <td>80.48</td>\n",
       "      <td>19.52</td>\n",
       "    </tr>\n",
       "    <tr>\n",
       "      <th>age</th>\n",
       "      <td>4629</td>\n",
       "      <td>934</td>\n",
       "      <td>83.21</td>\n",
       "      <td>16.79</td>\n",
       "    </tr>\n",
       "  </tbody>\n",
       "</table>\n",
       "</div>"
      ],
      "text/plain": [
       "churn       Не отток  Отток  Не отток %  Отток %\n",
       "score       2609      879   74.80       25.20   \n",
       "balance     2979      867   77.46       22.54   \n",
       "est_salary  3595      872   80.48       19.52   \n",
       "age         4629      934   83.21       16.79   "
      ]
     },
     "metadata": {},
     "output_type": "display_data"
    },
    {
     "data": {
      "image/png": "[encoded data removed]",
      "text/plain": [
       "<Figure size 1296x360 with 2 Axes>"
      ]
     },
     "metadata": {
      "needs_background": "light"
     },
     "output_type": "display_data"
    }
   ],
   "source": [
    "# создаем пустой df\n",
    "df_pivot = pd.DataFrame()\n",
    "    \n",
    "for param in num_params:\n",
    "\n",
    "    # определяем 25-й и 75-й перцентели\n",
    "    p_25 = np.percentile(df.query(f'{param}.notna() and churn == 1')[param], 25)\n",
    "    p_75 = np.percentile(df.query(f'{param}.notna() and churn == 1')[param], 75)\n",
    "\n",
    "    # отбираем записи по 25 и 75 перцентилям\n",
    "    df_p = df.query(f'{param} >= @p_25 and {param} <= @p_75')\n",
    "\n",
    "    # строим pivot и круговую диаграмму\n",
    "    df_p_new = df_p.pivot_table(index='churn', \n",
    "                                values='user_id',\n",
    "                                aggfunc='count')\n",
    "        \n",
    "    df_p_new.rename(columns={'user_id': param}, inplace = True)\n",
    "    df_pivot = pd.concat([df_pivot, df_p_new.T])\n",
    "\n",
    "df_pivot.rename(columns={0: 'Не отток',\n",
    "                         1: 'Отток'}, inplace = True)\n",
    "\n",
    "df_pivot['Не отток %'] = df_pivot['Не отток'] / (df_pivot['Не отток'] + df_pivot['Отток']) * 100\n",
    "df_pivot['Отток %'] = df_pivot['Отток'] / (df_pivot['Не отток'] + df_pivot['Отток']) * 100\n",
    "\n",
    "df_pivot = df_pivot.sort_values(by='Отток %', ascending=False)\n",
    "\n",
    "display(df_pivot)\n",
    "df_pivot[['Не отток', 'Отток']].plot(kind='bar', stacked=True, figsize=(18,5), ax=plt.subplot(1, 2, 1))\n",
    "plt.title('Количество отточных и лояльных клиентов по непрерывным признакам')\n",
    "plt.ylabel('Количество клиентов')\n",
    "plt.xlabel('Признаки оттока')\n",
    "\n",
    "df_pivot[['Отток %']].plot(kind='bar', figsize=(18,5), ax=plt.subplot(1, 2, 2), color='orange')\n",
    "\n",
    "plt.title('Доля отточных клиентов по непрерывным признакам')\n",
    "plt.ylabel('Доля отточных клиентов, %')\n",
    "plt.xlabel('Признаки оттока');"
   ]
  },
  {
   "cell_type": "markdown",
   "metadata": {},
   "source": [
    "- В разрезе кредитного рейтинга `score` отток составляет 25.2%, интервал: от 828 до 897 баллов\n",
    "- В разрезе возраста `age` отток составляет 16.79%, интервал: 25-35 года, а также 50-60 лет\n",
    "- В разрезе баланса `balance` отток составляет 22.54%, интервал: 377 тыс. руб. - 1,29 млн. руб.\n",
    "- В разрезе зарплаты `est_salary` отток составляет 19.52%, интервал:  81 тыс.руб. до 170 тыс. руб.\n",
    "\n",
    "Обоснование отбора непрерывных критериев для сегментации:\n",
    "- При EDA наблюдалась заметная разница по данным признакам между портретами клиентов в разрезе оттока, а также умеренная прямая зависимость у `equity`, `balance` с признаком оттока. Зависимость оттока и зарплат `est_salary` слабая, поэтому данный признак не будем рассматривать при сегментации клиентов;\n",
    "- Проверка гипотез показала, что при наблюдении вероятнее всего разница в кредитном рейтинге `score` и в зарплате `est_salary` будет закономерной, чем случайной.\n",
    "\n",
    "Так, из признаков, выражающихся **непрерывными** величинами, в целях сегментирования будем рассматривать **`score`**, **`balance`**, **`age`**."
   ]
  },
  {
   "cell_type": "code",
   "execution_count": 31,
   "metadata": {},
   "outputs": [],
   "source": [
    "# список непрерывных признаков для сегментации\n",
    "# target_num_params = ['score', 'balance', 'age']\n",
    "target_num_params = ['score', 'balance', 'age', 'est_salary']"
   ]
  },
  {
   "cell_type": "markdown",
   "metadata": {},
   "source": [
    "**Категориальные признаки**"
   ]
  },
  {
   "cell_type": "markdown",
   "metadata": {},
   "source": [
    "Ранее мы выяснили, что более склонны к оттоку - это мужчины, клиенты из Ярославля и Ростова, те, у кого нет кредитной карты, активные клиенты, клиенты, у которых от 2 до 3 открытых продуктов и у которых от 3 до 5 баллов собственности. Для сегментации найдем наибольшие доли и количество отточных клиентов по этим признакам, чтобы отобрать их для сегментации."
   ]
  },
  {
   "cell_type": "code",
   "execution_count": 32,
   "metadata": {},
   "outputs": [
    {
     "name": "stdout",
     "output_type": "stream",
     "text": [
      "Наибольший отток по признаку gender со значением \"М\" составляет 64.51% (1125 клиентов)\n",
      "Наибольший отток по признаку city со значением \"Ярославль\" составляет 60.78% (1060 клиентов)\n",
      "Наибольший отток по признаку credit_card со значением \"1\" составляет 55.62% (970 клиентов)\n",
      "Наибольший отток по признаку last_activity со значением \"1\" составляет 70.01% (1221 клиентов)\n",
      "Наибольший отток по признаку equity со значением \"5\" составляет 31.14% (543 клиентов)\n",
      "Наибольший отток по признаку products со значением \"2\" составляет 54.13% (944 клиентов)\n"
     ]
    }
   ],
   "source": [
    "# идем по всем категориальным признакам\n",
    "for param in cat_params:\n",
    "    \n",
    "    # найдем моду по признаку param\n",
    "    clients_mode = df.query('churn == 1')[param].mode()[0]\n",
    "    \n",
    "    # найдем кол-во клиентов по моде\n",
    "    clients_cnt = len(df.query(f'churn == 1 and {param} == @clients_mode')[param])\n",
    "    \n",
    "    # найдем долю клиентов среди\n",
    "    clients_ratio = (clients_cnt / len(df.query('churn ==1')))*100\n",
    "    print(f'Наибольший отток по признаку {param} со значением \"{clients_mode}\" составляет {clients_ratio:.2f}% ({clients_cnt} клиентов)')"
   ]
  },
  {
   "cell_type": "markdown",
   "metadata": {},
   "source": [
    "Большую долю отточных клиентов составляют мужчины (65%), 70% клиентов по признаку активности являются отточными, 55% клиентов, у кого есть кредитка, являются также отточными. В эту же группу попадают клиенты с 5 баллами собственности (31%). Клиенты, у которых открыто не более 2 продуктов, являются отточными. Самый высокий отток клиентов среди городов - в Ярославле (61%)"
   ]
  },
  {
   "cell_type": "markdown",
   "metadata": {},
   "source": [
    "Отберем признаки в целях сегментирования, опираясь на следующие критерии:\n",
    "- Отток клиентов по этим признакам выше, чем средний отток по банку;\n",
    "- Прямая зависимость оттока от признаков должна быть близка к умеренной. \n",
    "\n",
    "Под данные критерии попадают `gender` (Мужчины), `last_activity` (активные), `credit_card`, `equity`, `products`\n",
    "\n",
    "При выборе параметров признаков в сегментировании будем опираться на значения, по которым наблюдается набольший отток."
   ]
  },
  {
   "cell_type": "code",
   "execution_count": 33,
   "metadata": {},
   "outputs": [],
   "source": [
    "# списки категориальных признаков для сегментации\n",
    "target_cat_params = ['gender', 'last_activity', 'credit_card', 'equity', 'products']"
   ]
  },
  {
   "cell_type": "markdown",
   "metadata": {},
   "source": [
    "## Сегментация клиентов"
   ]
  },
  {
   "cell_type": "markdown",
   "metadata": {},
   "source": [
    "По выявленным признакам, которые характеризуются высоким уровнем оттока, построим 3 сегмента отточных пользователей для разработки рекоммендаций по их удержанию. Отберем сегменты, которые удовлетворяют следующим критериям:\n",
    "- Уровень оттока в сегменте должен быть выше среднебанковского\n",
    "- Сегмент должен включать не менее 500 клиентов\n",
    "\n",
    "Далее дадим характеристику сегменту, составим портрет отточного клиента и разработаем рекомендации по работе с этими сегментами клиентов."
   ]
  },
  {
   "cell_type": "markdown",
   "metadata": {},
   "source": [
    "Для отбора сегментов, удовлетворяющих нашим критериям, напишем функцию, которая принимает список признаков с целевыми значениями, при которых наблюдался выоский уровень оттока, и минимальное количество комбинируемых признаков (по умолчанию - 2). Возвращать эта функция будет комбинацию из признаков, по которым нашелся отточный сегмент."
   ]
  },
  {
   "cell_type": "code",
   "execution_count": 34,
   "metadata": {},
   "outputs": [],
   "source": [
    "def get_segment(lst_params, min_params=2):\n",
    "    \n",
    "    # кол-во отточных клиентов по банку\n",
    "    clients_churn_total = len(df.query('churn == 1'))\n",
    "\n",
    "    # счетчик сегментов, удовлетворяющих условие\n",
    "    cnt_seg_true = 0\n",
    "    \n",
    "    # список номеров сегментов (ID)\n",
    "    seg_num = 0\n",
    "    seg_num_list = []\n",
    "    \n",
    "    # список долей оттока\n",
    "    seg_churn_ratio_list = []\n",
    "\n",
    "    # находим комбинации сочетания признаков\n",
    "    for i in range(min_params, len(churn_params)):\n",
    "\n",
    "        combinations = list(itertools.combinations(churn_params, i))\n",
    "        \n",
    "        for comb in combinations: # идем по каждой комбинации\n",
    "\n",
    "            df_seg = df\n",
    "            seg_num += 1\n",
    "\n",
    "            for elem in comb: # идем по каждому элементу (признаку) в комбинации\n",
    "                #print(f'Признак: {elem}')\n",
    "                param_name = elem[1] # имя параметра\n",
    "                param_value = elem[2] # значение признака\n",
    "\n",
    "                if elem[0] == 'cat': # фильтруем по категориальным признакам\n",
    "                    df_seg = df_seg.query(f'{param_name} == @param_value')\n",
    "                elif elem[0] == 'num': # фильтруем по непрерывным признакам\n",
    "                    param_value_min = param_value[0]\n",
    "                    param_value_max = param_value[1]\n",
    "                    df_seg = df_seg.query(f'{param_name} >= @param_value_min and {param_name} <= @param_value_max')\n",
    "\n",
    "            clients_total = len(df_seg) # кол-во клиентов в сегменте\n",
    "            seg_clients_churn = len(df_seg.query('churn == 1')) # кол-во отточных клиентов в сегменте\n",
    "            seg_churn_ratio = seg_clients_churn / clients_churn_total # доля отточных по банку\n",
    "            \n",
    "            # накладываем критерии для сегмента\n",
    "            if clients_total >= 500 and seg_churn_ratio > avg_churn:\n",
    "\n",
    "                cnt_seg_true += 1 # увеличиваем счетчик сегментов, прошедших по условию\n",
    "                seg_num_list.append(seg_num)\n",
    "                seg_churn_ratio_list.append(round(seg_churn_ratio, 2))\n",
    "                \n",
    "                print(f'Сегмент (ID: {seg_num})')\n",
    "                print(f'Признаки сегмента: {comb}')\n",
    "                print(f'Размер сегмента: {clients_total}')\n",
    "                print(f'Отточных клиентов в сегменте: {seg_clients_churn}')\n",
    "                print(f'Доля отточных клиентов сегмента по банку: {seg_churn_ratio*100:.2f}% \\n')\n",
    "                print(f'Портрет клиента по сегменту')\n",
    "                \n",
    "                # выводим портет клиента сегмента\n",
    "                get_client_portret(df_seg)\n",
    "                \n",
    "                print('-' * 10, '\\n')\n",
    "                \n",
    "    print(f'Количество сегментов, удовлетворяющих условию: {cnt_seg_true}')\n",
    "    print('ТОП сегментов (доля оттока, ID):', sorted(zip(seg_churn_ratio_list, seg_num_list), reverse=True)[:3])"
   ]
  },
  {
   "cell_type": "markdown",
   "metadata": {},
   "source": [
    "Рассмотрим сегменты по двум спискам с параметром `lst_params` = 3, так как комбинация, состоящая из трех критериев не позволит сегментировать широкими мазкам, но и в то же время не даст сузить сегменты:\n",
    "- Категориальные признаки с модальными значениями, которые дают наибольший отток. Непрерывные признаки с межкартильным интервалом в разрезе отточных клиентов;\n",
    "- По признакам `equity` и `products` возьмем межквартильный интервал значений в разрезе отточных клиентов."
   ]
  },
  {
   "cell_type": "code",
   "execution_count": 35,
   "metadata": {},
   "outputs": [
    {
     "name": "stdout",
     "output_type": "stream",
     "text": [
      "Сегмент (ID: 32)\n",
      "Признаки сегмента: (['cat', 'last_activity', 1], ['cat', 'credit_card', 1], ['num', 'score', [828, 897]])\n",
      "Размер сегмента: 1052\n",
      "Отточных клиентов в сегменте: 335\n",
      "Доля отточных клиентов сегмента по банку: 19.21% \n",
      "\n",
      "Портрет клиента по сегменту\n"
     ]
    },
    {
     "data": {
      "text/html": [
       "<div>\n",
       "<style scoped>\n",
       "    .dataframe tbody tr th:only-of-type {\n",
       "        vertical-align: middle;\n",
       "    }\n",
       "\n",
       "    .dataframe tbody tr th {\n",
       "        vertical-align: top;\n",
       "    }\n",
       "\n",
       "    .dataframe thead th {\n",
       "        text-align: right;\n",
       "    }\n",
       "</style>\n",
       "<table border=\"1\" class=\"dataframe\">\n",
       "  <thead>\n",
       "    <tr style=\"text-align: right;\">\n",
       "      <th></th>\n",
       "      <th>Не отток</th>\n",
       "      <th>Отток</th>\n",
       "      <th>Относительная разница</th>\n",
       "    </tr>\n",
       "  </thead>\n",
       "  <tbody>\n",
       "    <tr>\n",
       "      <th>age_avg</th>\n",
       "      <td>42.55</td>\n",
       "      <td>37.76</td>\n",
       "      <td>-4.78</td>\n",
       "    </tr>\n",
       "    <tr>\n",
       "      <th>balance_avg</th>\n",
       "      <td>580144.38</td>\n",
       "      <td>767307.97</td>\n",
       "      <td>187163.59</td>\n",
       "    </tr>\n",
       "    <tr>\n",
       "      <th>est_salary_avg</th>\n",
       "      <td>110991.64</td>\n",
       "      <td>129816.13</td>\n",
       "      <td>18824.49</td>\n",
       "    </tr>\n",
       "    <tr>\n",
       "      <th>score_avg</th>\n",
       "      <td>862.68</td>\n",
       "      <td>865.06</td>\n",
       "      <td>2.38</td>\n",
       "    </tr>\n",
       "    <tr>\n",
       "      <th>age_median</th>\n",
       "      <td>39.00</td>\n",
       "      <td>35.00</td>\n",
       "      <td>-4.00</td>\n",
       "    </tr>\n",
       "    <tr>\n",
       "      <th>balance_median</th>\n",
       "      <td>490107.16</td>\n",
       "      <td>650433.36</td>\n",
       "      <td>160326.20</td>\n",
       "    </tr>\n",
       "    <tr>\n",
       "      <th>est_salary_median</th>\n",
       "      <td>97919.01</td>\n",
       "      <td>122505.86</td>\n",
       "      <td>24586.85</td>\n",
       "    </tr>\n",
       "    <tr>\n",
       "      <th>score_median</th>\n",
       "      <td>861.00</td>\n",
       "      <td>866.00</td>\n",
       "      <td>5.00</td>\n",
       "    </tr>\n",
       "    <tr>\n",
       "      <th>city_mode</th>\n",
       "      <td>Ярославль</td>\n",
       "      <td>Ярославль</td>\n",
       "      <td>NaN</td>\n",
       "    </tr>\n",
       "    <tr>\n",
       "      <th>credit_card_mode</th>\n",
       "      <td>1</td>\n",
       "      <td>1</td>\n",
       "      <td>NaN</td>\n",
       "    </tr>\n",
       "    <tr>\n",
       "      <th>equity_mode</th>\n",
       "      <td>0</td>\n",
       "      <td>5</td>\n",
       "      <td>NaN</td>\n",
       "    </tr>\n",
       "    <tr>\n",
       "      <th>gender_mode</th>\n",
       "      <td>Ж</td>\n",
       "      <td>М</td>\n",
       "      <td>NaN</td>\n",
       "    </tr>\n",
       "    <tr>\n",
       "      <th>last_activity_mode</th>\n",
       "      <td>1</td>\n",
       "      <td>1</td>\n",
       "      <td>NaN</td>\n",
       "    </tr>\n",
       "    <tr>\n",
       "      <th>products_mode</th>\n",
       "      <td>2</td>\n",
       "      <td>2</td>\n",
       "      <td>NaN</td>\n",
       "    </tr>\n",
       "  </tbody>\n",
       "</table>\n",
       "</div>"
      ],
      "text/plain": [
       "                     Не отток      Отток  Относительная разница\n",
       "age_avg            42.55      37.76      -4.78                 \n",
       "balance_avg        580144.38  767307.97  187163.59             \n",
       "est_salary_avg     110991.64  129816.13  18824.49              \n",
       "score_avg          862.68     865.06     2.38                  \n",
       "age_median         39.00      35.00      -4.00                 \n",
       "balance_median     490107.16  650433.36  160326.20             \n",
       "est_salary_median  97919.01   122505.86  24586.85              \n",
       "score_median       861.00     866.00     5.00                  \n",
       "city_mode           Ярославль  Ярославль NaN                   \n",
       "credit_card_mode    1          1         NaN                   \n",
       "equity_mode         0          5         NaN                   \n",
       "gender_mode         Ж          М         NaN                   \n",
       "last_activity_mode  1          1         NaN                   \n",
       "products_mode       2          2         NaN                   "
      ]
     },
     "metadata": {},
     "output_type": "display_data"
    },
    {
     "name": "stdout",
     "output_type": "stream",
     "text": [
      "---------- \n",
      "\n",
      "Сегмент (ID: 34)\n",
      "Признаки сегмента: (['cat', 'last_activity', 1], ['cat', 'credit_card', 1], ['num', 'est_salary', [81000, 170000]])\n",
      "Размер сегмента: 1555\n",
      "Отточных клиентов в сегменте: 331\n",
      "Доля отточных клиентов сегмента по банку: 18.98% \n",
      "\n",
      "Портрет клиента по сегменту\n"
     ]
    },
    {
     "data": {
      "text/html": [
       "<div>\n",
       "<style scoped>\n",
       "    .dataframe tbody tr th:only-of-type {\n",
       "        vertical-align: middle;\n",
       "    }\n",
       "\n",
       "    .dataframe tbody tr th {\n",
       "        vertical-align: top;\n",
       "    }\n",
       "\n",
       "    .dataframe thead th {\n",
       "        text-align: right;\n",
       "    }\n",
       "</style>\n",
       "<table border=\"1\" class=\"dataframe\">\n",
       "  <thead>\n",
       "    <tr style=\"text-align: right;\">\n",
       "      <th></th>\n",
       "      <th>Не отток</th>\n",
       "      <th>Отток</th>\n",
       "      <th>Относительная разница</th>\n",
       "    </tr>\n",
       "  </thead>\n",
       "  <tbody>\n",
       "    <tr>\n",
       "      <th>age_avg</th>\n",
       "      <td>41.85</td>\n",
       "      <td>39.02</td>\n",
       "      <td>-2.83</td>\n",
       "    </tr>\n",
       "    <tr>\n",
       "      <th>balance_avg</th>\n",
       "      <td>563601.21</td>\n",
       "      <td>789131.01</td>\n",
       "      <td>225529.80</td>\n",
       "    </tr>\n",
       "    <tr>\n",
       "      <th>est_salary_avg</th>\n",
       "      <td>122719.88</td>\n",
       "      <td>123418.07</td>\n",
       "      <td>698.19</td>\n",
       "    </tr>\n",
       "    <tr>\n",
       "      <th>score_avg</th>\n",
       "      <td>832.48</td>\n",
       "      <td>859.00</td>\n",
       "      <td>26.52</td>\n",
       "    </tr>\n",
       "    <tr>\n",
       "      <th>age_median</th>\n",
       "      <td>39.00</td>\n",
       "      <td>37.00</td>\n",
       "      <td>-2.00</td>\n",
       "    </tr>\n",
       "    <tr>\n",
       "      <th>balance_median</th>\n",
       "      <td>442728.62</td>\n",
       "      <td>677637.65</td>\n",
       "      <td>234909.03</td>\n",
       "    </tr>\n",
       "    <tr>\n",
       "      <th>est_salary_median</th>\n",
       "      <td>122262.88</td>\n",
       "      <td>120943.99</td>\n",
       "      <td>-1318.88</td>\n",
       "    </tr>\n",
       "    <tr>\n",
       "      <th>score_median</th>\n",
       "      <td>826.00</td>\n",
       "      <td>863.00</td>\n",
       "      <td>37.00</td>\n",
       "    </tr>\n",
       "    <tr>\n",
       "      <th>city_mode</th>\n",
       "      <td>Ярославль</td>\n",
       "      <td>Ярославль</td>\n",
       "      <td>NaN</td>\n",
       "    </tr>\n",
       "    <tr>\n",
       "      <th>credit_card_mode</th>\n",
       "      <td>1</td>\n",
       "      <td>1</td>\n",
       "      <td>NaN</td>\n",
       "    </tr>\n",
       "    <tr>\n",
       "      <th>equity_mode</th>\n",
       "      <td>0</td>\n",
       "      <td>5</td>\n",
       "      <td>NaN</td>\n",
       "    </tr>\n",
       "    <tr>\n",
       "      <th>gender_mode</th>\n",
       "      <td>Ж</td>\n",
       "      <td>М</td>\n",
       "      <td>NaN</td>\n",
       "    </tr>\n",
       "    <tr>\n",
       "      <th>last_activity_mode</th>\n",
       "      <td>1</td>\n",
       "      <td>1</td>\n",
       "      <td>NaN</td>\n",
       "    </tr>\n",
       "    <tr>\n",
       "      <th>products_mode</th>\n",
       "      <td>2</td>\n",
       "      <td>2</td>\n",
       "      <td>NaN</td>\n",
       "    </tr>\n",
       "  </tbody>\n",
       "</table>\n",
       "</div>"
      ],
      "text/plain": [
       "                     Не отток      Отток  Относительная разница\n",
       "age_avg            41.85      39.02      -2.83                 \n",
       "balance_avg        563601.21  789131.01  225529.80             \n",
       "est_salary_avg     122719.88  123418.07  698.19                \n",
       "score_avg          832.48     859.00     26.52                 \n",
       "age_median         39.00      37.00      -2.00                 \n",
       "balance_median     442728.62  677637.65  234909.03             \n",
       "est_salary_median  122262.88  120943.99  -1318.88              \n",
       "score_median       826.00     863.00     37.00                 \n",
       "city_mode           Ярославль  Ярославль NaN                   \n",
       "credit_card_mode    1          1         NaN                   \n",
       "equity_mode         0          5         NaN                   \n",
       "gender_mode         Ж          М         NaN                   \n",
       "last_activity_mode  1          1         NaN                   \n",
       "products_mode       2          2         NaN                   "
      ]
     },
     "metadata": {},
     "output_type": "display_data"
    },
    {
     "name": "stdout",
     "output_type": "stream",
     "text": [
      "---------- \n",
      "\n",
      "Сегмент (ID: 41)\n",
      "Признаки сегмента: (['cat', 'last_activity', 1], ['cat', 'products', 2], ['num', 'score', [828, 897]])\n",
      "Размер сегмента: 982\n",
      "Отточных клиентов в сегменте: 431\n",
      "Доля отточных клиентов сегмента по банку: 24.71% \n",
      "\n",
      "Портрет клиента по сегменту\n"
     ]
    },
    {
     "data": {
      "text/html": [
       "<div>\n",
       "<style scoped>\n",
       "    .dataframe tbody tr th:only-of-type {\n",
       "        vertical-align: middle;\n",
       "    }\n",
       "\n",
       "    .dataframe tbody tr th {\n",
       "        vertical-align: top;\n",
       "    }\n",
       "\n",
       "    .dataframe thead th {\n",
       "        text-align: right;\n",
       "    }\n",
       "</style>\n",
       "<table border=\"1\" class=\"dataframe\">\n",
       "  <thead>\n",
       "    <tr style=\"text-align: right;\">\n",
       "      <th></th>\n",
       "      <th>Не отток</th>\n",
       "      <th>Отток</th>\n",
       "      <th>Относительная разница</th>\n",
       "    </tr>\n",
       "  </thead>\n",
       "  <tbody>\n",
       "    <tr>\n",
       "      <th>age_avg</th>\n",
       "      <td>46.71</td>\n",
       "      <td>39.33</td>\n",
       "      <td>-7.37</td>\n",
       "    </tr>\n",
       "    <tr>\n",
       "      <th>balance_avg</th>\n",
       "      <td>641880.25</td>\n",
       "      <td>845175.97</td>\n",
       "      <td>203295.72</td>\n",
       "    </tr>\n",
       "    <tr>\n",
       "      <th>est_salary_avg</th>\n",
       "      <td>105558.18</td>\n",
       "      <td>128622.56</td>\n",
       "      <td>23064.39</td>\n",
       "    </tr>\n",
       "    <tr>\n",
       "      <th>score_avg</th>\n",
       "      <td>856.69</td>\n",
       "      <td>866.71</td>\n",
       "      <td>10.02</td>\n",
       "    </tr>\n",
       "    <tr>\n",
       "      <th>age_median</th>\n",
       "      <td>44.00</td>\n",
       "      <td>36.00</td>\n",
       "      <td>-8.00</td>\n",
       "    </tr>\n",
       "    <tr>\n",
       "      <th>balance_median</th>\n",
       "      <td>556438.61</td>\n",
       "      <td>724111.22</td>\n",
       "      <td>167672.61</td>\n",
       "    </tr>\n",
       "    <tr>\n",
       "      <th>est_salary_median</th>\n",
       "      <td>91676.47</td>\n",
       "      <td>120960.23</td>\n",
       "      <td>29283.76</td>\n",
       "    </tr>\n",
       "    <tr>\n",
       "      <th>score_median</th>\n",
       "      <td>853.00</td>\n",
       "      <td>868.00</td>\n",
       "      <td>15.00</td>\n",
       "    </tr>\n",
       "    <tr>\n",
       "      <th>city_mode</th>\n",
       "      <td>Рыбинск</td>\n",
       "      <td>Ярославль</td>\n",
       "      <td>NaN</td>\n",
       "    </tr>\n",
       "    <tr>\n",
       "      <th>credit_card_mode</th>\n",
       "      <td>1</td>\n",
       "      <td>0</td>\n",
       "      <td>NaN</td>\n",
       "    </tr>\n",
       "    <tr>\n",
       "      <th>equity_mode</th>\n",
       "      <td>5</td>\n",
       "      <td>5</td>\n",
       "      <td>NaN</td>\n",
       "    </tr>\n",
       "    <tr>\n",
       "      <th>gender_mode</th>\n",
       "      <td>Ж</td>\n",
       "      <td>М</td>\n",
       "      <td>NaN</td>\n",
       "    </tr>\n",
       "    <tr>\n",
       "      <th>last_activity_mode</th>\n",
       "      <td>1</td>\n",
       "      <td>1</td>\n",
       "      <td>NaN</td>\n",
       "    </tr>\n",
       "    <tr>\n",
       "      <th>products_mode</th>\n",
       "      <td>2</td>\n",
       "      <td>2</td>\n",
       "      <td>NaN</td>\n",
       "    </tr>\n",
       "  </tbody>\n",
       "</table>\n",
       "</div>"
      ],
      "text/plain": [
       "                    Не отток      Отток  Относительная разница\n",
       "age_avg            46.71     39.33      -7.37                 \n",
       "balance_avg        641880.25 845175.97  203295.72             \n",
       "est_salary_avg     105558.18 128622.56  23064.39              \n",
       "score_avg          856.69    866.71     10.02                 \n",
       "age_median         44.00     36.00      -8.00                 \n",
       "balance_median     556438.61 724111.22  167672.61             \n",
       "est_salary_median  91676.47  120960.23  29283.76              \n",
       "score_median       853.00    868.00     15.00                 \n",
       "city_mode           Рыбинск   Ярославль NaN                   \n",
       "credit_card_mode    1         0         NaN                   \n",
       "equity_mode         5         5         NaN                   \n",
       "gender_mode         Ж         М         NaN                   \n",
       "last_activity_mode  1         1         NaN                   \n",
       "products_mode       2         2         NaN                   "
      ]
     },
     "metadata": {},
     "output_type": "display_data"
    },
    {
     "name": "stdout",
     "output_type": "stream",
     "text": [
      "---------- \n",
      "\n",
      "Сегмент (ID: 43)\n",
      "Признаки сегмента: (['cat', 'last_activity', 1], ['cat', 'products', 2], ['num', 'est_salary', [81000, 170000]])\n",
      "Размер сегмента: 1278\n",
      "Отточных клиентов в сегменте: 385\n",
      "Доля отточных клиентов сегмента по банку: 22.08% \n",
      "\n",
      "Портрет клиента по сегменту\n"
     ]
    },
    {
     "data": {
      "text/html": [
       "<div>\n",
       "<style scoped>\n",
       "    .dataframe tbody tr th:only-of-type {\n",
       "        vertical-align: middle;\n",
       "    }\n",
       "\n",
       "    .dataframe tbody tr th {\n",
       "        vertical-align: top;\n",
       "    }\n",
       "\n",
       "    .dataframe thead th {\n",
       "        text-align: right;\n",
       "    }\n",
       "</style>\n",
       "<table border=\"1\" class=\"dataframe\">\n",
       "  <thead>\n",
       "    <tr style=\"text-align: right;\">\n",
       "      <th></th>\n",
       "      <th>Не отток</th>\n",
       "      <th>Отток</th>\n",
       "      <th>Относительная разница</th>\n",
       "    </tr>\n",
       "  </thead>\n",
       "  <tbody>\n",
       "    <tr>\n",
       "      <th>age_avg</th>\n",
       "      <td>43.32</td>\n",
       "      <td>40.04</td>\n",
       "      <td>-3.28</td>\n",
       "    </tr>\n",
       "    <tr>\n",
       "      <th>balance_avg</th>\n",
       "      <td>601887.03</td>\n",
       "      <td>877513.10</td>\n",
       "      <td>275626.08</td>\n",
       "    </tr>\n",
       "    <tr>\n",
       "      <th>est_salary_avg</th>\n",
       "      <td>119367.49</td>\n",
       "      <td>122788.99</td>\n",
       "      <td>3421.50</td>\n",
       "    </tr>\n",
       "    <tr>\n",
       "      <th>score_avg</th>\n",
       "      <td>825.40</td>\n",
       "      <td>868.31</td>\n",
       "      <td>42.90</td>\n",
       "    </tr>\n",
       "    <tr>\n",
       "      <th>age_median</th>\n",
       "      <td>41.00</td>\n",
       "      <td>36.00</td>\n",
       "      <td>-5.00</td>\n",
       "    </tr>\n",
       "    <tr>\n",
       "      <th>balance_median</th>\n",
       "      <td>475354.80</td>\n",
       "      <td>786911.18</td>\n",
       "      <td>311556.38</td>\n",
       "    </tr>\n",
       "    <tr>\n",
       "      <th>est_salary_median</th>\n",
       "      <td>116997.22</td>\n",
       "      <td>120587.59</td>\n",
       "      <td>3590.37</td>\n",
       "    </tr>\n",
       "    <tr>\n",
       "      <th>score_median</th>\n",
       "      <td>816.00</td>\n",
       "      <td>871.00</td>\n",
       "      <td>55.00</td>\n",
       "    </tr>\n",
       "    <tr>\n",
       "      <th>city_mode</th>\n",
       "      <td>Ярославль</td>\n",
       "      <td>Ярославль</td>\n",
       "      <td>NaN</td>\n",
       "    </tr>\n",
       "    <tr>\n",
       "      <th>credit_card_mode</th>\n",
       "      <td>1</td>\n",
       "      <td>0</td>\n",
       "      <td>NaN</td>\n",
       "    </tr>\n",
       "    <tr>\n",
       "      <th>equity_mode</th>\n",
       "      <td>4</td>\n",
       "      <td>5</td>\n",
       "      <td>NaN</td>\n",
       "    </tr>\n",
       "    <tr>\n",
       "      <th>gender_mode</th>\n",
       "      <td>Ж</td>\n",
       "      <td>М</td>\n",
       "      <td>NaN</td>\n",
       "    </tr>\n",
       "    <tr>\n",
       "      <th>last_activity_mode</th>\n",
       "      <td>1</td>\n",
       "      <td>1</td>\n",
       "      <td>NaN</td>\n",
       "    </tr>\n",
       "    <tr>\n",
       "      <th>products_mode</th>\n",
       "      <td>2</td>\n",
       "      <td>2</td>\n",
       "      <td>NaN</td>\n",
       "    </tr>\n",
       "  </tbody>\n",
       "</table>\n",
       "</div>"
      ],
      "text/plain": [
       "                     Не отток      Отток  Относительная разница\n",
       "age_avg            43.32      40.04      -3.28                 \n",
       "balance_avg        601887.03  877513.10  275626.08             \n",
       "est_salary_avg     119367.49  122788.99  3421.50               \n",
       "score_avg          825.40     868.31     42.90                 \n",
       "age_median         41.00      36.00      -5.00                 \n",
       "balance_median     475354.80  786911.18  311556.38             \n",
       "est_salary_median  116997.22  120587.59  3590.37               \n",
       "score_median       816.00     871.00     55.00                 \n",
       "city_mode           Ярославль  Ярославль NaN                   \n",
       "credit_card_mode    1          0         NaN                   \n",
       "equity_mode         4          5         NaN                   \n",
       "gender_mode         Ж          М         NaN                   \n",
       "last_activity_mode  1          1         NaN                   \n",
       "products_mode       2          2         NaN                   "
      ]
     },
     "metadata": {},
     "output_type": "display_data"
    },
    {
     "name": "stdout",
     "output_type": "stream",
     "text": [
      "---------- \n",
      "\n",
      "Сегмент (ID: 48)\n",
      "Признаки сегмента: (['cat', 'last_activity', 1], ['num', 'score', [828, 897]], ['num', 'est_salary', [81000, 170000]])\n",
      "Размер сегмента: 840\n",
      "Отточных клиентов в сегменте: 369\n",
      "Доля отточных клиентов сегмента по банку: 21.16% \n",
      "\n",
      "Портрет клиента по сегменту\n"
     ]
    },
    {
     "data": {
      "text/html": [
       "<div>\n",
       "<style scoped>\n",
       "    .dataframe tbody tr th:only-of-type {\n",
       "        vertical-align: middle;\n",
       "    }\n",
       "\n",
       "    .dataframe tbody tr th {\n",
       "        vertical-align: top;\n",
       "    }\n",
       "\n",
       "    .dataframe thead th {\n",
       "        text-align: right;\n",
       "    }\n",
       "</style>\n",
       "<table border=\"1\" class=\"dataframe\">\n",
       "  <thead>\n",
       "    <tr style=\"text-align: right;\">\n",
       "      <th></th>\n",
       "      <th>Не отток</th>\n",
       "      <th>Отток</th>\n",
       "      <th>Относительная разница</th>\n",
       "    </tr>\n",
       "  </thead>\n",
       "  <tbody>\n",
       "    <tr>\n",
       "      <th>age_avg</th>\n",
       "      <td>44.59</td>\n",
       "      <td>39.76</td>\n",
       "      <td>-4.82</td>\n",
       "    </tr>\n",
       "    <tr>\n",
       "      <th>balance_avg</th>\n",
       "      <td>672348.93</td>\n",
       "      <td>831315.77</td>\n",
       "      <td>158966.85</td>\n",
       "    </tr>\n",
       "    <tr>\n",
       "      <th>est_salary_avg</th>\n",
       "      <td>120335.25</td>\n",
       "      <td>124173.88</td>\n",
       "      <td>3838.62</td>\n",
       "    </tr>\n",
       "    <tr>\n",
       "      <th>score_avg</th>\n",
       "      <td>862.50</td>\n",
       "      <td>866.92</td>\n",
       "      <td>4.42</td>\n",
       "    </tr>\n",
       "    <tr>\n",
       "      <th>age_median</th>\n",
       "      <td>42.00</td>\n",
       "      <td>37.00</td>\n",
       "      <td>-5.00</td>\n",
       "    </tr>\n",
       "    <tr>\n",
       "      <th>balance_median</th>\n",
       "      <td>568781.89</td>\n",
       "      <td>755344.01</td>\n",
       "      <td>186562.12</td>\n",
       "    </tr>\n",
       "    <tr>\n",
       "      <th>est_salary_median</th>\n",
       "      <td>118239.49</td>\n",
       "      <td>123661.21</td>\n",
       "      <td>5421.72</td>\n",
       "    </tr>\n",
       "    <tr>\n",
       "      <th>score_median</th>\n",
       "      <td>862.00</td>\n",
       "      <td>868.00</td>\n",
       "      <td>6.00</td>\n",
       "    </tr>\n",
       "    <tr>\n",
       "      <th>city_mode</th>\n",
       "      <td>Ярославль</td>\n",
       "      <td>Ярославль</td>\n",
       "      <td>NaN</td>\n",
       "    </tr>\n",
       "    <tr>\n",
       "      <th>credit_card_mode</th>\n",
       "      <td>1</td>\n",
       "      <td>0</td>\n",
       "      <td>NaN</td>\n",
       "    </tr>\n",
       "    <tr>\n",
       "      <th>equity_mode</th>\n",
       "      <td>0</td>\n",
       "      <td>5</td>\n",
       "      <td>NaN</td>\n",
       "    </tr>\n",
       "    <tr>\n",
       "      <th>gender_mode</th>\n",
       "      <td>Ж</td>\n",
       "      <td>М</td>\n",
       "      <td>NaN</td>\n",
       "    </tr>\n",
       "    <tr>\n",
       "      <th>last_activity_mode</th>\n",
       "      <td>1</td>\n",
       "      <td>1</td>\n",
       "      <td>NaN</td>\n",
       "    </tr>\n",
       "    <tr>\n",
       "      <th>products_mode</th>\n",
       "      <td>2</td>\n",
       "      <td>2</td>\n",
       "      <td>NaN</td>\n",
       "    </tr>\n",
       "  </tbody>\n",
       "</table>\n",
       "</div>"
      ],
      "text/plain": [
       "                     Не отток      Отток  Относительная разница\n",
       "age_avg            44.59      39.76      -4.82                 \n",
       "balance_avg        672348.93  831315.77  158966.85             \n",
       "est_salary_avg     120335.25  124173.88  3838.62               \n",
       "score_avg          862.50     866.92     4.42                  \n",
       "age_median         42.00      37.00      -5.00                 \n",
       "balance_median     568781.89  755344.01  186562.12             \n",
       "est_salary_median  118239.49  123661.21  5421.72               \n",
       "score_median       862.00     868.00     6.00                  \n",
       "city_mode           Ярославль  Ярославль NaN                   \n",
       "credit_card_mode    1          0         NaN                   \n",
       "equity_mode         0          5         NaN                   \n",
       "gender_mode         Ж          М         NaN                   \n",
       "last_activity_mode  1          1         NaN                   \n",
       "products_mode       2          2         NaN                   "
      ]
     },
     "metadata": {},
     "output_type": "display_data"
    },
    {
     "name": "stdout",
     "output_type": "stream",
     "text": [
      "---------- \n",
      "\n",
      "Количество сегментов, удовлетворяющих условию: 5\n",
      "ТОП сегментов (доля оттока, ID): [(0.25, 41), (0.22, 43), (0.21, 48)]\n"
     ]
    }
   ],
   "source": [
    "# смотрим сегменты по первому списку\n",
    "# тип признака / признак / модальное, целевое значение признака\n",
    "churn_params = [['cat', 'gender', 'M'], \n",
    "                ['cat', 'last_activity', 1], \n",
    "                ['cat', 'credit_card', 1],\n",
    "                ['cat', 'equity', 5], \n",
    "                ['cat', 'products', 2],\n",
    "                ['num', 'age', [25, 35]],\n",
    "                ['num', 'score', [828, 897]],\n",
    "                ['num', 'balance', [377, 1290]],\n",
    "                ['num', 'est_salary', [81000, 170000]]]\n",
    "\n",
    "get_segment(churn_params, 3)"
   ]
  },
  {
   "cell_type": "code",
   "execution_count": 36,
   "metadata": {
    "scrolled": true
   },
   "outputs": [
    {
     "name": "stdout",
     "output_type": "stream",
     "text": [
      "Сегмент (ID: 22)\n",
      "Признаки сегмента: (['cat', 'last_activity', 1], ['cat', 'credit_card', 1], ['num', 'equity', [3, 5]])\n",
      "Размер сегмента: 1587\n",
      "Отточных клиентов в сегменте: 462\n",
      "Доля отточных клиентов сегмента по банку: 26.49% \n",
      "\n",
      "Портрет клиента по сегменту\n"
     ]
    },
    {
     "data": {
      "text/html": [
       "<div>\n",
       "<style scoped>\n",
       "    .dataframe tbody tr th:only-of-type {\n",
       "        vertical-align: middle;\n",
       "    }\n",
       "\n",
       "    .dataframe tbody tr th {\n",
       "        vertical-align: top;\n",
       "    }\n",
       "\n",
       "    .dataframe thead th {\n",
       "        text-align: right;\n",
       "    }\n",
       "</style>\n",
       "<table border=\"1\" class=\"dataframe\">\n",
       "  <thead>\n",
       "    <tr style=\"text-align: right;\">\n",
       "      <th></th>\n",
       "      <th>Не отток</th>\n",
       "      <th>Отток</th>\n",
       "      <th>Относительная разница</th>\n",
       "    </tr>\n",
       "  </thead>\n",
       "  <tbody>\n",
       "    <tr>\n",
       "      <th>age_avg</th>\n",
       "      <td>42.82</td>\n",
       "      <td>39.17</td>\n",
       "      <td>-3.64</td>\n",
       "    </tr>\n",
       "    <tr>\n",
       "      <th>balance_avg</th>\n",
       "      <td>663494.99</td>\n",
       "      <td>937857.48</td>\n",
       "      <td>274362.50</td>\n",
       "    </tr>\n",
       "    <tr>\n",
       "      <th>est_salary_avg</th>\n",
       "      <td>102245.85</td>\n",
       "      <td>136204.46</td>\n",
       "      <td>33958.62</td>\n",
       "    </tr>\n",
       "    <tr>\n",
       "      <th>score_avg</th>\n",
       "      <td>832.54</td>\n",
       "      <td>866.25</td>\n",
       "      <td>33.71</td>\n",
       "    </tr>\n",
       "    <tr>\n",
       "      <th>age_median</th>\n",
       "      <td>40.00</td>\n",
       "      <td>37.00</td>\n",
       "      <td>-3.00</td>\n",
       "    </tr>\n",
       "    <tr>\n",
       "      <th>balance_median</th>\n",
       "      <td>545455.53</td>\n",
       "      <td>798971.67</td>\n",
       "      <td>253516.14</td>\n",
       "    </tr>\n",
       "    <tr>\n",
       "      <th>est_salary_median</th>\n",
       "      <td>92357.94</td>\n",
       "      <td>125851.42</td>\n",
       "      <td>33493.48</td>\n",
       "    </tr>\n",
       "    <tr>\n",
       "      <th>score_median</th>\n",
       "      <td>825.00</td>\n",
       "      <td>870.00</td>\n",
       "      <td>45.00</td>\n",
       "    </tr>\n",
       "    <tr>\n",
       "      <th>city_mode</th>\n",
       "      <td>Ярославль</td>\n",
       "      <td>Ярославль</td>\n",
       "      <td>NaN</td>\n",
       "    </tr>\n",
       "    <tr>\n",
       "      <th>credit_card_mode</th>\n",
       "      <td>1</td>\n",
       "      <td>1</td>\n",
       "      <td>NaN</td>\n",
       "    </tr>\n",
       "    <tr>\n",
       "      <th>equity_mode</th>\n",
       "      <td>4</td>\n",
       "      <td>5</td>\n",
       "      <td>NaN</td>\n",
       "    </tr>\n",
       "    <tr>\n",
       "      <th>gender_mode</th>\n",
       "      <td>Ж</td>\n",
       "      <td>М</td>\n",
       "      <td>NaN</td>\n",
       "    </tr>\n",
       "    <tr>\n",
       "      <th>last_activity_mode</th>\n",
       "      <td>1</td>\n",
       "      <td>1</td>\n",
       "      <td>NaN</td>\n",
       "    </tr>\n",
       "    <tr>\n",
       "      <th>products_mode</th>\n",
       "      <td>2</td>\n",
       "      <td>2</td>\n",
       "      <td>NaN</td>\n",
       "    </tr>\n",
       "  </tbody>\n",
       "</table>\n",
       "</div>"
      ],
      "text/plain": [
       "                     Не отток      Отток  Относительная разница\n",
       "age_avg            42.82      39.17      -3.64                 \n",
       "balance_avg        663494.99  937857.48  274362.50             \n",
       "est_salary_avg     102245.85  136204.46  33958.62              \n",
       "score_avg          832.54     866.25     33.71                 \n",
       "age_median         40.00      37.00      -3.00                 \n",
       "balance_median     545455.53  798971.67  253516.14             \n",
       "est_salary_median  92357.94   125851.42  33493.48              \n",
       "score_median       825.00     870.00     45.00                 \n",
       "city_mode           Ярославль  Ярославль NaN                   \n",
       "credit_card_mode    1          1         NaN                   \n",
       "equity_mode         4          5         NaN                   \n",
       "gender_mode         Ж          М         NaN                   \n",
       "last_activity_mode  1          1         NaN                   \n",
       "products_mode       2          2         NaN                   "
      ]
     },
     "metadata": {},
     "output_type": "display_data"
    },
    {
     "name": "stdout",
     "output_type": "stream",
     "text": [
      "---------- \n",
      "\n",
      "Сегмент (ID: 23)\n",
      "Признаки сегмента: (['cat', 'last_activity', 1], ['cat', 'credit_card', 1], ['num', 'products', [2, 3]])\n",
      "Размер сегмента: 1670\n",
      "Отточных клиентов в сегменте: 341\n",
      "Доля отточных клиентов сегмента по банку: 19.55% \n",
      "\n",
      "Портрет клиента по сегменту\n"
     ]
    },
    {
     "data": {
      "text/html": [
       "<div>\n",
       "<style scoped>\n",
       "    .dataframe tbody tr th:only-of-type {\n",
       "        vertical-align: middle;\n",
       "    }\n",
       "\n",
       "    .dataframe tbody tr th {\n",
       "        vertical-align: top;\n",
       "    }\n",
       "\n",
       "    .dataframe thead th {\n",
       "        text-align: right;\n",
       "    }\n",
       "</style>\n",
       "<table border=\"1\" class=\"dataframe\">\n",
       "  <thead>\n",
       "    <tr style=\"text-align: right;\">\n",
       "      <th></th>\n",
       "      <th>Не отток</th>\n",
       "      <th>Отток</th>\n",
       "      <th>Относительная разница</th>\n",
       "    </tr>\n",
       "  </thead>\n",
       "  <tbody>\n",
       "    <tr>\n",
       "      <th>age_avg</th>\n",
       "      <td>42.77</td>\n",
       "      <td>39.22</td>\n",
       "      <td>-3.55</td>\n",
       "    </tr>\n",
       "    <tr>\n",
       "      <th>balance_avg</th>\n",
       "      <td>555851.35</td>\n",
       "      <td>766731.26</td>\n",
       "      <td>210879.91</td>\n",
       "    </tr>\n",
       "    <tr>\n",
       "      <th>est_salary_avg</th>\n",
       "      <td>107141.31</td>\n",
       "      <td>126719.95</td>\n",
       "      <td>19578.64</td>\n",
       "    </tr>\n",
       "    <tr>\n",
       "      <th>score_avg</th>\n",
       "      <td>826.56</td>\n",
       "      <td>852.46</td>\n",
       "      <td>25.90</td>\n",
       "    </tr>\n",
       "    <tr>\n",
       "      <th>age_median</th>\n",
       "      <td>40.00</td>\n",
       "      <td>36.00</td>\n",
       "      <td>-4.00</td>\n",
       "    </tr>\n",
       "    <tr>\n",
       "      <th>balance_median</th>\n",
       "      <td>435074.69</td>\n",
       "      <td>645696.34</td>\n",
       "      <td>210621.65</td>\n",
       "    </tr>\n",
       "    <tr>\n",
       "      <th>est_salary_median</th>\n",
       "      <td>97517.28</td>\n",
       "      <td>115956.14</td>\n",
       "      <td>18438.86</td>\n",
       "    </tr>\n",
       "    <tr>\n",
       "      <th>score_median</th>\n",
       "      <td>816.00</td>\n",
       "      <td>857.00</td>\n",
       "      <td>41.00</td>\n",
       "    </tr>\n",
       "    <tr>\n",
       "      <th>city_mode</th>\n",
       "      <td>Ярославль</td>\n",
       "      <td>Ярославль</td>\n",
       "      <td>NaN</td>\n",
       "    </tr>\n",
       "    <tr>\n",
       "      <th>credit_card_mode</th>\n",
       "      <td>1</td>\n",
       "      <td>1</td>\n",
       "      <td>NaN</td>\n",
       "    </tr>\n",
       "    <tr>\n",
       "      <th>equity_mode</th>\n",
       "      <td>4</td>\n",
       "      <td>5</td>\n",
       "      <td>NaN</td>\n",
       "    </tr>\n",
       "    <tr>\n",
       "      <th>gender_mode</th>\n",
       "      <td>Ж</td>\n",
       "      <td>М</td>\n",
       "      <td>NaN</td>\n",
       "    </tr>\n",
       "    <tr>\n",
       "      <th>last_activity_mode</th>\n",
       "      <td>1</td>\n",
       "      <td>1</td>\n",
       "      <td>NaN</td>\n",
       "    </tr>\n",
       "    <tr>\n",
       "      <th>products_mode</th>\n",
       "      <td>2</td>\n",
       "      <td>2</td>\n",
       "      <td>NaN</td>\n",
       "    </tr>\n",
       "  </tbody>\n",
       "</table>\n",
       "</div>"
      ],
      "text/plain": [
       "                     Не отток      Отток  Относительная разница\n",
       "age_avg            42.77      39.22      -3.55                 \n",
       "balance_avg        555851.35  766731.26  210879.91             \n",
       "est_salary_avg     107141.31  126719.95  19578.64              \n",
       "score_avg          826.56     852.46     25.90                 \n",
       "age_median         40.00      36.00      -4.00                 \n",
       "balance_median     435074.69  645696.34  210621.65             \n",
       "est_salary_median  97517.28   115956.14  18438.86              \n",
       "score_median       816.00     857.00     41.00                 \n",
       "city_mode           Ярославль  Ярославль NaN                   \n",
       "credit_card_mode    1          1         NaN                   \n",
       "equity_mode         4          5         NaN                   \n",
       "gender_mode         Ж          М         NaN                   \n",
       "last_activity_mode  1          1         NaN                   \n",
       "products_mode       2          2         NaN                   "
      ]
     },
     "metadata": {},
     "output_type": "display_data"
    },
    {
     "name": "stdout",
     "output_type": "stream",
     "text": [
      "---------- \n",
      "\n",
      "Сегмент (ID: 25)\n",
      "Признаки сегмента: (['cat', 'last_activity', 1], ['cat', 'credit_card', 1], ['num', 'score', [828, 897]])\n",
      "Размер сегмента: 1052\n",
      "Отточных клиентов в сегменте: 335\n",
      "Доля отточных клиентов сегмента по банку: 19.21% \n",
      "\n",
      "Портрет клиента по сегменту\n"
     ]
    },
    {
     "data": {
      "text/html": [
       "<div>\n",
       "<style scoped>\n",
       "    .dataframe tbody tr th:only-of-type {\n",
       "        vertical-align: middle;\n",
       "    }\n",
       "\n",
       "    .dataframe tbody tr th {\n",
       "        vertical-align: top;\n",
       "    }\n",
       "\n",
       "    .dataframe thead th {\n",
       "        text-align: right;\n",
       "    }\n",
       "</style>\n",
       "<table border=\"1\" class=\"dataframe\">\n",
       "  <thead>\n",
       "    <tr style=\"text-align: right;\">\n",
       "      <th></th>\n",
       "      <th>Не отток</th>\n",
       "      <th>Отток</th>\n",
       "      <th>Относительная разница</th>\n",
       "    </tr>\n",
       "  </thead>\n",
       "  <tbody>\n",
       "    <tr>\n",
       "      <th>age_avg</th>\n",
       "      <td>42.55</td>\n",
       "      <td>37.76</td>\n",
       "      <td>-4.78</td>\n",
       "    </tr>\n",
       "    <tr>\n",
       "      <th>balance_avg</th>\n",
       "      <td>580144.38</td>\n",
       "      <td>767307.97</td>\n",
       "      <td>187163.59</td>\n",
       "    </tr>\n",
       "    <tr>\n",
       "      <th>est_salary_avg</th>\n",
       "      <td>110991.64</td>\n",
       "      <td>129816.13</td>\n",
       "      <td>18824.49</td>\n",
       "    </tr>\n",
       "    <tr>\n",
       "      <th>score_avg</th>\n",
       "      <td>862.68</td>\n",
       "      <td>865.06</td>\n",
       "      <td>2.38</td>\n",
       "    </tr>\n",
       "    <tr>\n",
       "      <th>age_median</th>\n",
       "      <td>39.00</td>\n",
       "      <td>35.00</td>\n",
       "      <td>-4.00</td>\n",
       "    </tr>\n",
       "    <tr>\n",
       "      <th>balance_median</th>\n",
       "      <td>490107.16</td>\n",
       "      <td>650433.36</td>\n",
       "      <td>160326.20</td>\n",
       "    </tr>\n",
       "    <tr>\n",
       "      <th>est_salary_median</th>\n",
       "      <td>97919.01</td>\n",
       "      <td>122505.86</td>\n",
       "      <td>24586.85</td>\n",
       "    </tr>\n",
       "    <tr>\n",
       "      <th>score_median</th>\n",
       "      <td>861.00</td>\n",
       "      <td>866.00</td>\n",
       "      <td>5.00</td>\n",
       "    </tr>\n",
       "    <tr>\n",
       "      <th>city_mode</th>\n",
       "      <td>Ярославль</td>\n",
       "      <td>Ярославль</td>\n",
       "      <td>NaN</td>\n",
       "    </tr>\n",
       "    <tr>\n",
       "      <th>credit_card_mode</th>\n",
       "      <td>1</td>\n",
       "      <td>1</td>\n",
       "      <td>NaN</td>\n",
       "    </tr>\n",
       "    <tr>\n",
       "      <th>equity_mode</th>\n",
       "      <td>0</td>\n",
       "      <td>5</td>\n",
       "      <td>NaN</td>\n",
       "    </tr>\n",
       "    <tr>\n",
       "      <th>gender_mode</th>\n",
       "      <td>Ж</td>\n",
       "      <td>М</td>\n",
       "      <td>NaN</td>\n",
       "    </tr>\n",
       "    <tr>\n",
       "      <th>last_activity_mode</th>\n",
       "      <td>1</td>\n",
       "      <td>1</td>\n",
       "      <td>NaN</td>\n",
       "    </tr>\n",
       "    <tr>\n",
       "      <th>products_mode</th>\n",
       "      <td>2</td>\n",
       "      <td>2</td>\n",
       "      <td>NaN</td>\n",
       "    </tr>\n",
       "  </tbody>\n",
       "</table>\n",
       "</div>"
      ],
      "text/plain": [
       "                     Не отток      Отток  Относительная разница\n",
       "age_avg            42.55      37.76      -4.78                 \n",
       "balance_avg        580144.38  767307.97  187163.59             \n",
       "est_salary_avg     110991.64  129816.13  18824.49              \n",
       "score_avg          862.68     865.06     2.38                  \n",
       "age_median         39.00      35.00      -4.00                 \n",
       "balance_median     490107.16  650433.36  160326.20             \n",
       "est_salary_median  97919.01   122505.86  24586.85              \n",
       "score_median       861.00     866.00     5.00                  \n",
       "city_mode           Ярославль  Ярославль NaN                   \n",
       "credit_card_mode    1          1         NaN                   \n",
       "equity_mode         0          5         NaN                   \n",
       "gender_mode         Ж          М         NaN                   \n",
       "last_activity_mode  1          1         NaN                   \n",
       "products_mode       2          2         NaN                   "
      ]
     },
     "metadata": {},
     "output_type": "display_data"
    },
    {
     "name": "stdout",
     "output_type": "stream",
     "text": [
      "---------- \n",
      "\n",
      "Сегмент (ID: 27)\n",
      "Признаки сегмента: (['cat', 'last_activity', 1], ['num', 'equity', [3, 5]], ['num', 'products', [2, 3]])\n",
      "Размер сегмента: 1964\n",
      "Отточных клиентов в сегменте: 678\n",
      "Доля отточных клиентов сегмента по банку: 38.88% \n",
      "\n",
      "Портрет клиента по сегменту\n"
     ]
    },
    {
     "data": {
      "text/html": [
       "<div>\n",
       "<style scoped>\n",
       "    .dataframe tbody tr th:only-of-type {\n",
       "        vertical-align: middle;\n",
       "    }\n",
       "\n",
       "    .dataframe tbody tr th {\n",
       "        vertical-align: top;\n",
       "    }\n",
       "\n",
       "    .dataframe thead th {\n",
       "        text-align: right;\n",
       "    }\n",
       "</style>\n",
       "<table border=\"1\" class=\"dataframe\">\n",
       "  <thead>\n",
       "    <tr style=\"text-align: right;\">\n",
       "      <th></th>\n",
       "      <th>Не отток</th>\n",
       "      <th>Отток</th>\n",
       "      <th>Относительная разница</th>\n",
       "    </tr>\n",
       "  </thead>\n",
       "  <tbody>\n",
       "    <tr>\n",
       "      <th>age_avg</th>\n",
       "      <td>45.21</td>\n",
       "      <td>40.19</td>\n",
       "      <td>-5.03</td>\n",
       "    </tr>\n",
       "    <tr>\n",
       "      <th>balance_avg</th>\n",
       "      <td>704838.56</td>\n",
       "      <td>1021490.32</td>\n",
       "      <td>316651.77</td>\n",
       "    </tr>\n",
       "    <tr>\n",
       "      <th>est_salary_avg</th>\n",
       "      <td>103378.50</td>\n",
       "      <td>135451.37</td>\n",
       "      <td>32072.87</td>\n",
       "    </tr>\n",
       "    <tr>\n",
       "      <th>score_avg</th>\n",
       "      <td>829.48</td>\n",
       "      <td>870.65</td>\n",
       "      <td>41.18</td>\n",
       "    </tr>\n",
       "    <tr>\n",
       "      <th>age_median</th>\n",
       "      <td>42.00</td>\n",
       "      <td>37.00</td>\n",
       "      <td>-5.00</td>\n",
       "    </tr>\n",
       "    <tr>\n",
       "      <th>balance_median</th>\n",
       "      <td>589728.81</td>\n",
       "      <td>880714.57</td>\n",
       "      <td>290985.76</td>\n",
       "    </tr>\n",
       "    <tr>\n",
       "      <th>est_salary_median</th>\n",
       "      <td>93534.91</td>\n",
       "      <td>125985.05</td>\n",
       "      <td>32450.14</td>\n",
       "    </tr>\n",
       "    <tr>\n",
       "      <th>score_median</th>\n",
       "      <td>822.00</td>\n",
       "      <td>873.00</td>\n",
       "      <td>51.00</td>\n",
       "    </tr>\n",
       "    <tr>\n",
       "      <th>city_mode</th>\n",
       "      <td>Ярославль</td>\n",
       "      <td>Ярославль</td>\n",
       "      <td>NaN</td>\n",
       "    </tr>\n",
       "    <tr>\n",
       "      <th>credit_card_mode</th>\n",
       "      <td>1</td>\n",
       "      <td>0</td>\n",
       "      <td>NaN</td>\n",
       "    </tr>\n",
       "    <tr>\n",
       "      <th>equity_mode</th>\n",
       "      <td>4</td>\n",
       "      <td>5</td>\n",
       "      <td>NaN</td>\n",
       "    </tr>\n",
       "    <tr>\n",
       "      <th>gender_mode</th>\n",
       "      <td>Ж</td>\n",
       "      <td>М</td>\n",
       "      <td>NaN</td>\n",
       "    </tr>\n",
       "    <tr>\n",
       "      <th>last_activity_mode</th>\n",
       "      <td>1</td>\n",
       "      <td>1</td>\n",
       "      <td>NaN</td>\n",
       "    </tr>\n",
       "    <tr>\n",
       "      <th>products_mode</th>\n",
       "      <td>2</td>\n",
       "      <td>2</td>\n",
       "      <td>NaN</td>\n",
       "    </tr>\n",
       "  </tbody>\n",
       "</table>\n",
       "</div>"
      ],
      "text/plain": [
       "                     Не отток      Отток  Относительная разница\n",
       "age_avg            45.21      40.19      -5.03                 \n",
       "balance_avg        704838.56  1021490.32 316651.77             \n",
       "est_salary_avg     103378.50  135451.37  32072.87              \n",
       "score_avg          829.48     870.65     41.18                 \n",
       "age_median         42.00      37.00      -5.00                 \n",
       "balance_median     589728.81  880714.57  290985.76             \n",
       "est_salary_median  93534.91   125985.05  32450.14              \n",
       "score_median       822.00     873.00     51.00                 \n",
       "city_mode           Ярославль  Ярославль NaN                   \n",
       "credit_card_mode    1          0         NaN                   \n",
       "equity_mode         4          5         NaN                   \n",
       "gender_mode         Ж          М         NaN                   \n",
       "last_activity_mode  1          1         NaN                   \n",
       "products_mode       2          2         NaN                   "
      ]
     },
     "metadata": {},
     "output_type": "display_data"
    },
    {
     "name": "stdout",
     "output_type": "stream",
     "text": [
      "---------- \n",
      "\n",
      "Сегмент (ID: 29)\n",
      "Признаки сегмента: (['cat', 'last_activity', 1], ['num', 'equity', [3, 5]], ['num', 'score', [828, 897]])\n",
      "Размер сегмента: 1185\n",
      "Отточных клиентов в сегменте: 542\n",
      "Доля отточных клиентов сегмента по банку: 31.08% \n",
      "\n",
      "Портрет клиента по сегменту\n"
     ]
    },
    {
     "data": {
      "text/html": [
       "<div>\n",
       "<style scoped>\n",
       "    .dataframe tbody tr th:only-of-type {\n",
       "        vertical-align: middle;\n",
       "    }\n",
       "\n",
       "    .dataframe tbody tr th {\n",
       "        vertical-align: top;\n",
       "    }\n",
       "\n",
       "    .dataframe thead th {\n",
       "        text-align: right;\n",
       "    }\n",
       "</style>\n",
       "<table border=\"1\" class=\"dataframe\">\n",
       "  <thead>\n",
       "    <tr style=\"text-align: right;\">\n",
       "      <th></th>\n",
       "      <th>Не отток</th>\n",
       "      <th>Отток</th>\n",
       "      <th>Относительная разница</th>\n",
       "    </tr>\n",
       "  </thead>\n",
       "  <tbody>\n",
       "    <tr>\n",
       "      <th>age_avg</th>\n",
       "      <td>45.55</td>\n",
       "      <td>39.60</td>\n",
       "      <td>-5.95</td>\n",
       "    </tr>\n",
       "    <tr>\n",
       "      <th>balance_avg</th>\n",
       "      <td>690466.68</td>\n",
       "      <td>907858.71</td>\n",
       "      <td>217392.04</td>\n",
       "    </tr>\n",
       "    <tr>\n",
       "      <th>est_salary_avg</th>\n",
       "      <td>102608.12</td>\n",
       "      <td>131485.78</td>\n",
       "      <td>28877.66</td>\n",
       "    </tr>\n",
       "    <tr>\n",
       "      <th>score_avg</th>\n",
       "      <td>856.13</td>\n",
       "      <td>867.32</td>\n",
       "      <td>11.19</td>\n",
       "    </tr>\n",
       "    <tr>\n",
       "      <th>age_median</th>\n",
       "      <td>42.00</td>\n",
       "      <td>37.00</td>\n",
       "      <td>-5.00</td>\n",
       "    </tr>\n",
       "    <tr>\n",
       "      <th>balance_median</th>\n",
       "      <td>586383.75</td>\n",
       "      <td>777590.93</td>\n",
       "      <td>191207.18</td>\n",
       "    </tr>\n",
       "    <tr>\n",
       "      <th>est_salary_median</th>\n",
       "      <td>89543.43</td>\n",
       "      <td>126891.11</td>\n",
       "      <td>37347.68</td>\n",
       "    </tr>\n",
       "    <tr>\n",
       "      <th>score_median</th>\n",
       "      <td>853.00</td>\n",
       "      <td>868.50</td>\n",
       "      <td>15.50</td>\n",
       "    </tr>\n",
       "    <tr>\n",
       "      <th>city_mode</th>\n",
       "      <td>Ярославль</td>\n",
       "      <td>Ярославль</td>\n",
       "      <td>NaN</td>\n",
       "    </tr>\n",
       "    <tr>\n",
       "      <th>credit_card_mode</th>\n",
       "      <td>1</td>\n",
       "      <td>0</td>\n",
       "      <td>NaN</td>\n",
       "    </tr>\n",
       "    <tr>\n",
       "      <th>equity_mode</th>\n",
       "      <td>5</td>\n",
       "      <td>5</td>\n",
       "      <td>NaN</td>\n",
       "    </tr>\n",
       "    <tr>\n",
       "      <th>gender_mode</th>\n",
       "      <td>Ж</td>\n",
       "      <td>М</td>\n",
       "      <td>NaN</td>\n",
       "    </tr>\n",
       "    <tr>\n",
       "      <th>last_activity_mode</th>\n",
       "      <td>1</td>\n",
       "      <td>1</td>\n",
       "      <td>NaN</td>\n",
       "    </tr>\n",
       "    <tr>\n",
       "      <th>products_mode</th>\n",
       "      <td>2</td>\n",
       "      <td>2</td>\n",
       "      <td>NaN</td>\n",
       "    </tr>\n",
       "  </tbody>\n",
       "</table>\n",
       "</div>"
      ],
      "text/plain": [
       "                     Не отток      Отток  Относительная разница\n",
       "age_avg            45.55      39.60      -5.95                 \n",
       "balance_avg        690466.68  907858.71  217392.04             \n",
       "est_salary_avg     102608.12  131485.78  28877.66              \n",
       "score_avg          856.13     867.32     11.19                 \n",
       "age_median         42.00      37.00      -5.00                 \n",
       "balance_median     586383.75  777590.93  191207.18             \n",
       "est_salary_median  89543.43   126891.11  37347.68              \n",
       "score_median       853.00     868.50     15.50                 \n",
       "city_mode           Ярославль  Ярославль NaN                   \n",
       "credit_card_mode    1          0         NaN                   \n",
       "equity_mode         5          5         NaN                   \n",
       "gender_mode         Ж          М         NaN                   \n",
       "last_activity_mode  1          1         NaN                   \n",
       "products_mode       2          2         NaN                   "
      ]
     },
     "metadata": {},
     "output_type": "display_data"
    },
    {
     "name": "stdout",
     "output_type": "stream",
     "text": [
      "---------- \n",
      "\n",
      "Сегмент (ID: 32)\n",
      "Признаки сегмента: (['cat', 'last_activity', 1], ['num', 'products', [2, 3]], ['num', 'score', [828, 897]])\n",
      "Размер сегмента: 1104\n",
      "Отточных клиентов в сегменте: 501\n",
      "Доля отточных клиентов сегмента по банку: 28.73% \n",
      "\n",
      "Портрет клиента по сегменту\n"
     ]
    },
    {
     "data": {
      "text/html": [
       "<div>\n",
       "<style scoped>\n",
       "    .dataframe tbody tr th:only-of-type {\n",
       "        vertical-align: middle;\n",
       "    }\n",
       "\n",
       "    .dataframe tbody tr th {\n",
       "        vertical-align: top;\n",
       "    }\n",
       "\n",
       "    .dataframe thead th {\n",
       "        text-align: right;\n",
       "    }\n",
       "</style>\n",
       "<table border=\"1\" class=\"dataframe\">\n",
       "  <thead>\n",
       "    <tr style=\"text-align: right;\">\n",
       "      <th></th>\n",
       "      <th>Не отток</th>\n",
       "      <th>Отток</th>\n",
       "      <th>Относительная разница</th>\n",
       "    </tr>\n",
       "  </thead>\n",
       "  <tbody>\n",
       "    <tr>\n",
       "      <th>age_avg</th>\n",
       "      <td>47.63</td>\n",
       "      <td>39.70</td>\n",
       "      <td>-7.93</td>\n",
       "    </tr>\n",
       "    <tr>\n",
       "      <th>balance_avg</th>\n",
       "      <td>652164.76</td>\n",
       "      <td>852052.84</td>\n",
       "      <td>199888.08</td>\n",
       "    </tr>\n",
       "    <tr>\n",
       "      <th>est_salary_avg</th>\n",
       "      <td>105447.16</td>\n",
       "      <td>129892.99</td>\n",
       "      <td>24445.84</td>\n",
       "    </tr>\n",
       "    <tr>\n",
       "      <th>score_avg</th>\n",
       "      <td>856.30</td>\n",
       "      <td>866.29</td>\n",
       "      <td>9.99</td>\n",
       "    </tr>\n",
       "    <tr>\n",
       "      <th>age_median</th>\n",
       "      <td>45.00</td>\n",
       "      <td>37.00</td>\n",
       "      <td>-8.00</td>\n",
       "    </tr>\n",
       "    <tr>\n",
       "      <th>balance_median</th>\n",
       "      <td>557819.77</td>\n",
       "      <td>732523.83</td>\n",
       "      <td>174704.06</td>\n",
       "    </tr>\n",
       "    <tr>\n",
       "      <th>est_salary_median</th>\n",
       "      <td>91520.67</td>\n",
       "      <td>122505.86</td>\n",
       "      <td>30985.19</td>\n",
       "    </tr>\n",
       "    <tr>\n",
       "      <th>score_median</th>\n",
       "      <td>853.00</td>\n",
       "      <td>868.00</td>\n",
       "      <td>15.00</td>\n",
       "    </tr>\n",
       "    <tr>\n",
       "      <th>city_mode</th>\n",
       "      <td>Ярославль</td>\n",
       "      <td>Ярославль</td>\n",
       "      <td>NaN</td>\n",
       "    </tr>\n",
       "    <tr>\n",
       "      <th>credit_card_mode</th>\n",
       "      <td>1</td>\n",
       "      <td>0</td>\n",
       "      <td>NaN</td>\n",
       "    </tr>\n",
       "    <tr>\n",
       "      <th>equity_mode</th>\n",
       "      <td>4</td>\n",
       "      <td>5</td>\n",
       "      <td>NaN</td>\n",
       "    </tr>\n",
       "    <tr>\n",
       "      <th>gender_mode</th>\n",
       "      <td>Ж</td>\n",
       "      <td>М</td>\n",
       "      <td>NaN</td>\n",
       "    </tr>\n",
       "    <tr>\n",
       "      <th>last_activity_mode</th>\n",
       "      <td>1</td>\n",
       "      <td>1</td>\n",
       "      <td>NaN</td>\n",
       "    </tr>\n",
       "    <tr>\n",
       "      <th>products_mode</th>\n",
       "      <td>2</td>\n",
       "      <td>2</td>\n",
       "      <td>NaN</td>\n",
       "    </tr>\n",
       "  </tbody>\n",
       "</table>\n",
       "</div>"
      ],
      "text/plain": [
       "                     Не отток      Отток  Относительная разница\n",
       "age_avg            47.63      39.70      -7.93                 \n",
       "balance_avg        652164.76  852052.84  199888.08             \n",
       "est_salary_avg     105447.16  129892.99  24445.84              \n",
       "score_avg          856.30     866.29     9.99                  \n",
       "age_median         45.00      37.00      -8.00                 \n",
       "balance_median     557819.77  732523.83  174704.06             \n",
       "est_salary_median  91520.67   122505.86  30985.19              \n",
       "score_median       853.00     868.00     15.00                 \n",
       "city_mode           Ярославль  Ярославль NaN                   \n",
       "credit_card_mode    1          0         NaN                   \n",
       "equity_mode         4          5         NaN                   \n",
       "gender_mode         Ж          М         NaN                   \n",
       "last_activity_mode  1          1         NaN                   \n",
       "products_mode       2          2         NaN                   "
      ]
     },
     "metadata": {},
     "output_type": "display_data"
    },
    {
     "name": "stdout",
     "output_type": "stream",
     "text": [
      "---------- \n",
      "\n",
      "Сегмент (ID: 37)\n",
      "Признаки сегмента: (['cat', 'credit_card', 1], ['num', 'equity', [3, 5]], ['num', 'products', [2, 3]])\n",
      "Размер сегмента: 2169\n",
      "Отточных клиентов в сегменте: 381\n",
      "Доля отточных клиентов сегмента по банку: 21.85% \n",
      "\n",
      "Портрет клиента по сегменту\n"
     ]
    },
    {
     "data": {
      "text/html": [
       "<div>\n",
       "<style scoped>\n",
       "    .dataframe tbody tr th:only-of-type {\n",
       "        vertical-align: middle;\n",
       "    }\n",
       "\n",
       "    .dataframe tbody tr th {\n",
       "        vertical-align: top;\n",
       "    }\n",
       "\n",
       "    .dataframe thead th {\n",
       "        text-align: right;\n",
       "    }\n",
       "</style>\n",
       "<table border=\"1\" class=\"dataframe\">\n",
       "  <thead>\n",
       "    <tr style=\"text-align: right;\">\n",
       "      <th></th>\n",
       "      <th>Не отток</th>\n",
       "      <th>Отток</th>\n",
       "      <th>Относительная разница</th>\n",
       "    </tr>\n",
       "  </thead>\n",
       "  <tbody>\n",
       "    <tr>\n",
       "      <th>age_avg</th>\n",
       "      <td>42.44</td>\n",
       "      <td>41.09</td>\n",
       "      <td>-1.34</td>\n",
       "    </tr>\n",
       "    <tr>\n",
       "      <th>balance_avg</th>\n",
       "      <td>713314.64</td>\n",
       "      <td>808761.61</td>\n",
       "      <td>95446.97</td>\n",
       "    </tr>\n",
       "    <tr>\n",
       "      <th>est_salary_avg</th>\n",
       "      <td>108298.63</td>\n",
       "      <td>123872.07</td>\n",
       "      <td>15573.44</td>\n",
       "    </tr>\n",
       "    <tr>\n",
       "      <th>score_avg</th>\n",
       "      <td>840.61</td>\n",
       "      <td>846.84</td>\n",
       "      <td>6.23</td>\n",
       "    </tr>\n",
       "    <tr>\n",
       "      <th>age_median</th>\n",
       "      <td>40.00</td>\n",
       "      <td>38.00</td>\n",
       "      <td>-2.00</td>\n",
       "    </tr>\n",
       "    <tr>\n",
       "      <th>balance_median</th>\n",
       "      <td>592540.22</td>\n",
       "      <td>657708.00</td>\n",
       "      <td>65167.78</td>\n",
       "    </tr>\n",
       "    <tr>\n",
       "      <th>est_salary_median</th>\n",
       "      <td>97688.28</td>\n",
       "      <td>115986.67</td>\n",
       "      <td>18298.39</td>\n",
       "    </tr>\n",
       "    <tr>\n",
       "      <th>score_median</th>\n",
       "      <td>836.00</td>\n",
       "      <td>849.00</td>\n",
       "      <td>13.00</td>\n",
       "    </tr>\n",
       "    <tr>\n",
       "      <th>city_mode</th>\n",
       "      <td>Ярославль</td>\n",
       "      <td>Ярославль</td>\n",
       "      <td>NaN</td>\n",
       "    </tr>\n",
       "    <tr>\n",
       "      <th>credit_card_mode</th>\n",
       "      <td>1</td>\n",
       "      <td>1</td>\n",
       "      <td>NaN</td>\n",
       "    </tr>\n",
       "    <tr>\n",
       "      <th>equity_mode</th>\n",
       "      <td>4</td>\n",
       "      <td>5</td>\n",
       "      <td>NaN</td>\n",
       "    </tr>\n",
       "    <tr>\n",
       "      <th>gender_mode</th>\n",
       "      <td>Ж</td>\n",
       "      <td>М</td>\n",
       "      <td>NaN</td>\n",
       "    </tr>\n",
       "    <tr>\n",
       "      <th>last_activity_mode</th>\n",
       "      <td>0</td>\n",
       "      <td>1</td>\n",
       "      <td>NaN</td>\n",
       "    </tr>\n",
       "    <tr>\n",
       "      <th>products_mode</th>\n",
       "      <td>2</td>\n",
       "      <td>2</td>\n",
       "      <td>NaN</td>\n",
       "    </tr>\n",
       "  </tbody>\n",
       "</table>\n",
       "</div>"
      ],
      "text/plain": [
       "                     Не отток      Отток  Относительная разница\n",
       "age_avg            42.44      41.09      -1.34                 \n",
       "balance_avg        713314.64  808761.61  95446.97              \n",
       "est_salary_avg     108298.63  123872.07  15573.44              \n",
       "score_avg          840.61     846.84     6.23                  \n",
       "age_median         40.00      38.00      -2.00                 \n",
       "balance_median     592540.22  657708.00  65167.78              \n",
       "est_salary_median  97688.28   115986.67  18298.39              \n",
       "score_median       836.00     849.00     13.00                 \n",
       "city_mode           Ярославль  Ярославль NaN                   \n",
       "credit_card_mode    1          1         NaN                   \n",
       "equity_mode         4          5         NaN                   \n",
       "gender_mode         Ж          М         NaN                   \n",
       "last_activity_mode  0          1         NaN                   \n",
       "products_mode       2          2         NaN                   "
      ]
     },
     "metadata": {},
     "output_type": "display_data"
    },
    {
     "name": "stdout",
     "output_type": "stream",
     "text": [
      "---------- \n",
      "\n",
      "Сегмент (ID: 39)\n",
      "Признаки сегмента: (['cat', 'credit_card', 1], ['num', 'equity', [3, 5]], ['num', 'score', [828, 897]])\n",
      "Размер сегмента: 1401\n",
      "Отточных клиентов в сегменте: 354\n",
      "Доля отточных клиентов сегмента по банку: 20.30% \n",
      "\n",
      "Портрет клиента по сегменту\n"
     ]
    },
    {
     "data": {
      "text/html": [
       "<div>\n",
       "<style scoped>\n",
       "    .dataframe tbody tr th:only-of-type {\n",
       "        vertical-align: middle;\n",
       "    }\n",
       "\n",
       "    .dataframe tbody tr th {\n",
       "        vertical-align: top;\n",
       "    }\n",
       "\n",
       "    .dataframe thead th {\n",
       "        text-align: right;\n",
       "    }\n",
       "</style>\n",
       "<table border=\"1\" class=\"dataframe\">\n",
       "  <thead>\n",
       "    <tr style=\"text-align: right;\">\n",
       "      <th></th>\n",
       "      <th>Не отток</th>\n",
       "      <th>Отток</th>\n",
       "      <th>Относительная разница</th>\n",
       "    </tr>\n",
       "  </thead>\n",
       "  <tbody>\n",
       "    <tr>\n",
       "      <th>age_avg</th>\n",
       "      <td>42.78</td>\n",
       "      <td>39.43</td>\n",
       "      <td>-3.35</td>\n",
       "    </tr>\n",
       "    <tr>\n",
       "      <th>balance_avg</th>\n",
       "      <td>674499.93</td>\n",
       "      <td>849327.62</td>\n",
       "      <td>174827.69</td>\n",
       "    </tr>\n",
       "    <tr>\n",
       "      <th>est_salary_avg</th>\n",
       "      <td>107638.71</td>\n",
       "      <td>130263.60</td>\n",
       "      <td>22624.89</td>\n",
       "    </tr>\n",
       "    <tr>\n",
       "      <th>score_avg</th>\n",
       "      <td>859.75</td>\n",
       "      <td>865.25</td>\n",
       "      <td>5.50</td>\n",
       "    </tr>\n",
       "    <tr>\n",
       "      <th>age_median</th>\n",
       "      <td>40.00</td>\n",
       "      <td>37.00</td>\n",
       "      <td>-3.00</td>\n",
       "    </tr>\n",
       "    <tr>\n",
       "      <th>balance_median</th>\n",
       "      <td>586813.83</td>\n",
       "      <td>710839.33</td>\n",
       "      <td>124025.51</td>\n",
       "    </tr>\n",
       "    <tr>\n",
       "      <th>est_salary_median</th>\n",
       "      <td>96682.60</td>\n",
       "      <td>122702.62</td>\n",
       "      <td>26020.02</td>\n",
       "    </tr>\n",
       "    <tr>\n",
       "      <th>score_median</th>\n",
       "      <td>859.00</td>\n",
       "      <td>866.00</td>\n",
       "      <td>7.00</td>\n",
       "    </tr>\n",
       "    <tr>\n",
       "      <th>city_mode</th>\n",
       "      <td>Ярославль</td>\n",
       "      <td>Ярославль</td>\n",
       "      <td>NaN</td>\n",
       "    </tr>\n",
       "    <tr>\n",
       "      <th>credit_card_mode</th>\n",
       "      <td>1</td>\n",
       "      <td>1</td>\n",
       "      <td>NaN</td>\n",
       "    </tr>\n",
       "    <tr>\n",
       "      <th>equity_mode</th>\n",
       "      <td>4</td>\n",
       "      <td>5</td>\n",
       "      <td>NaN</td>\n",
       "    </tr>\n",
       "    <tr>\n",
       "      <th>gender_mode</th>\n",
       "      <td>Ж</td>\n",
       "      <td>М</td>\n",
       "      <td>NaN</td>\n",
       "    </tr>\n",
       "    <tr>\n",
       "      <th>last_activity_mode</th>\n",
       "      <td>0</td>\n",
       "      <td>1</td>\n",
       "      <td>NaN</td>\n",
       "    </tr>\n",
       "    <tr>\n",
       "      <th>products_mode</th>\n",
       "      <td>2</td>\n",
       "      <td>2</td>\n",
       "      <td>NaN</td>\n",
       "    </tr>\n",
       "  </tbody>\n",
       "</table>\n",
       "</div>"
      ],
      "text/plain": [
       "                     Не отток      Отток  Относительная разница\n",
       "age_avg            42.78      39.43      -3.35                 \n",
       "balance_avg        674499.93  849327.62  174827.69             \n",
       "est_salary_avg     107638.71  130263.60  22624.89              \n",
       "score_avg          859.75     865.25     5.50                  \n",
       "age_median         40.00      37.00      -3.00                 \n",
       "balance_median     586813.83  710839.33  124025.51             \n",
       "est_salary_median  96682.60   122702.62  26020.02              \n",
       "score_median       859.00     866.00     7.00                  \n",
       "city_mode           Ярославль  Ярославль NaN                   \n",
       "credit_card_mode    1          1         NaN                   \n",
       "equity_mode         4          5         NaN                   \n",
       "gender_mode         Ж          М         NaN                   \n",
       "last_activity_mode  0          1         NaN                   \n",
       "products_mode       2          2         NaN                   "
      ]
     },
     "metadata": {},
     "output_type": "display_data"
    },
    {
     "name": "stdout",
     "output_type": "stream",
     "text": [
      "---------- \n",
      "\n",
      "Сегмент (ID: 48)\n",
      "Признаки сегмента: (['num', 'equity', [3, 5]], ['num', 'products', [2, 3]], ['num', 'score', [828, 897]])\n",
      "Размер сегмента: 1728\n",
      "Отточных клиентов в сегменте: 512\n",
      "Доля отточных клиентов сегмента по банку: 29.36% \n",
      "\n",
      "Портрет клиента по сегменту\n"
     ]
    },
    {
     "data": {
      "text/html": [
       "<div>\n",
       "<style scoped>\n",
       "    .dataframe tbody tr th:only-of-type {\n",
       "        vertical-align: middle;\n",
       "    }\n",
       "\n",
       "    .dataframe tbody tr th {\n",
       "        vertical-align: top;\n",
       "    }\n",
       "\n",
       "    .dataframe thead th {\n",
       "        text-align: right;\n",
       "    }\n",
       "</style>\n",
       "<table border=\"1\" class=\"dataframe\">\n",
       "  <thead>\n",
       "    <tr style=\"text-align: right;\">\n",
       "      <th></th>\n",
       "      <th>Не отток</th>\n",
       "      <th>Отток</th>\n",
       "      <th>Относительная разница</th>\n",
       "    </tr>\n",
       "  </thead>\n",
       "  <tbody>\n",
       "    <tr>\n",
       "      <th>age_avg</th>\n",
       "      <td>44.77</td>\n",
       "      <td>41.01</td>\n",
       "      <td>-3.76</td>\n",
       "    </tr>\n",
       "    <tr>\n",
       "      <th>balance_avg</th>\n",
       "      <td>726102.75</td>\n",
       "      <td>913340.25</td>\n",
       "      <td>187237.50</td>\n",
       "    </tr>\n",
       "    <tr>\n",
       "      <th>est_salary_avg</th>\n",
       "      <td>109395.49</td>\n",
       "      <td>129747.13</td>\n",
       "      <td>20351.64</td>\n",
       "    </tr>\n",
       "    <tr>\n",
       "      <th>score_avg</th>\n",
       "      <td>859.91</td>\n",
       "      <td>866.15</td>\n",
       "      <td>6.23</td>\n",
       "    </tr>\n",
       "    <tr>\n",
       "      <th>age_median</th>\n",
       "      <td>42.00</td>\n",
       "      <td>39.00</td>\n",
       "      <td>-3.00</td>\n",
       "    </tr>\n",
       "    <tr>\n",
       "      <th>balance_median</th>\n",
       "      <td>627262.41</td>\n",
       "      <td>794854.18</td>\n",
       "      <td>167591.77</td>\n",
       "    </tr>\n",
       "    <tr>\n",
       "      <th>est_salary_median</th>\n",
       "      <td>97067.72</td>\n",
       "      <td>122877.67</td>\n",
       "      <td>25809.95</td>\n",
       "    </tr>\n",
       "    <tr>\n",
       "      <th>score_median</th>\n",
       "      <td>859.00</td>\n",
       "      <td>867.50</td>\n",
       "      <td>8.50</td>\n",
       "    </tr>\n",
       "    <tr>\n",
       "      <th>city_mode</th>\n",
       "      <td>Ярославль</td>\n",
       "      <td>Ярославль</td>\n",
       "      <td>NaN</td>\n",
       "    </tr>\n",
       "    <tr>\n",
       "      <th>credit_card_mode</th>\n",
       "      <td>1</td>\n",
       "      <td>0</td>\n",
       "      <td>NaN</td>\n",
       "    </tr>\n",
       "    <tr>\n",
       "      <th>equity_mode</th>\n",
       "      <td>4</td>\n",
       "      <td>5</td>\n",
       "      <td>NaN</td>\n",
       "    </tr>\n",
       "    <tr>\n",
       "      <th>gender_mode</th>\n",
       "      <td>Ж</td>\n",
       "      <td>М</td>\n",
       "      <td>NaN</td>\n",
       "    </tr>\n",
       "    <tr>\n",
       "      <th>last_activity_mode</th>\n",
       "      <td>0</td>\n",
       "      <td>1</td>\n",
       "      <td>NaN</td>\n",
       "    </tr>\n",
       "    <tr>\n",
       "      <th>products_mode</th>\n",
       "      <td>2</td>\n",
       "      <td>2</td>\n",
       "      <td>NaN</td>\n",
       "    </tr>\n",
       "  </tbody>\n",
       "</table>\n",
       "</div>"
      ],
      "text/plain": [
       "                     Не отток      Отток  Относительная разница\n",
       "age_avg            44.77      41.01      -3.76                 \n",
       "balance_avg        726102.75  913340.25  187237.50             \n",
       "est_salary_avg     109395.49  129747.13  20351.64              \n",
       "score_avg          859.91     866.15     6.23                  \n",
       "age_median         42.00      39.00      -3.00                 \n",
       "balance_median     627262.41  794854.18  167591.77             \n",
       "est_salary_median  97067.72   122877.67  25809.95              \n",
       "score_median       859.00     867.50     8.50                  \n",
       "city_mode           Ярославль  Ярославль NaN                   \n",
       "credit_card_mode    1          0         NaN                   \n",
       "equity_mode         4          5         NaN                   \n",
       "gender_mode         Ж          М         NaN                   \n",
       "last_activity_mode  0          1         NaN                   \n",
       "products_mode       2          2         NaN                   "
      ]
     },
     "metadata": {},
     "output_type": "display_data"
    },
    {
     "name": "stdout",
     "output_type": "stream",
     "text": [
      "---------- \n",
      "\n",
      "Сегмент (ID: 103)\n",
      "Признаки сегмента: (['cat', 'last_activity', 1], ['num', 'equity', [3, 5]], ['num', 'products', [2, 3]], ['num', 'score', [828, 897]])\n",
      "Размер сегмента: 836\n",
      "Отточных клиентов в сегменте: 402\n",
      "Доля отточных клиентов сегмента по банку: 23.05% \n",
      "\n",
      "Портрет клиента по сегменту\n"
     ]
    },
    {
     "data": {
      "text/html": [
       "<div>\n",
       "<style scoped>\n",
       "    .dataframe tbody tr th:only-of-type {\n",
       "        vertical-align: middle;\n",
       "    }\n",
       "\n",
       "    .dataframe tbody tr th {\n",
       "        vertical-align: top;\n",
       "    }\n",
       "\n",
       "    .dataframe thead th {\n",
       "        text-align: right;\n",
       "    }\n",
       "</style>\n",
       "<table border=\"1\" class=\"dataframe\">\n",
       "  <thead>\n",
       "    <tr style=\"text-align: right;\">\n",
       "      <th></th>\n",
       "      <th>Не отток</th>\n",
       "      <th>Отток</th>\n",
       "      <th>Относительная разница</th>\n",
       "    </tr>\n",
       "  </thead>\n",
       "  <tbody>\n",
       "    <tr>\n",
       "      <th>age_avg</th>\n",
       "      <td>47.68</td>\n",
       "      <td>39.92</td>\n",
       "      <td>-7.75</td>\n",
       "    </tr>\n",
       "    <tr>\n",
       "      <th>balance_avg</th>\n",
       "      <td>729123.63</td>\n",
       "      <td>912463.68</td>\n",
       "      <td>183340.06</td>\n",
       "    </tr>\n",
       "    <tr>\n",
       "      <th>est_salary_avg</th>\n",
       "      <td>107848.32</td>\n",
       "      <td>130467.49</td>\n",
       "      <td>22619.17</td>\n",
       "    </tr>\n",
       "    <tr>\n",
       "      <th>score_avg</th>\n",
       "      <td>855.77</td>\n",
       "      <td>867.76</td>\n",
       "      <td>11.99</td>\n",
       "    </tr>\n",
       "    <tr>\n",
       "      <th>age_median</th>\n",
       "      <td>45.50</td>\n",
       "      <td>37.00</td>\n",
       "      <td>-8.50</td>\n",
       "    </tr>\n",
       "    <tr>\n",
       "      <th>balance_median</th>\n",
       "      <td>633555.75</td>\n",
       "      <td>794854.18</td>\n",
       "      <td>161298.43</td>\n",
       "    </tr>\n",
       "    <tr>\n",
       "      <th>est_salary_median</th>\n",
       "      <td>93130.33</td>\n",
       "      <td>123738.24</td>\n",
       "      <td>30607.90</td>\n",
       "    </tr>\n",
       "    <tr>\n",
       "      <th>score_median</th>\n",
       "      <td>852.00</td>\n",
       "      <td>869.00</td>\n",
       "      <td>17.00</td>\n",
       "    </tr>\n",
       "    <tr>\n",
       "      <th>city_mode</th>\n",
       "      <td>Ярославль</td>\n",
       "      <td>Ярославль</td>\n",
       "      <td>NaN</td>\n",
       "    </tr>\n",
       "    <tr>\n",
       "      <th>credit_card_mode</th>\n",
       "      <td>1</td>\n",
       "      <td>0</td>\n",
       "      <td>NaN</td>\n",
       "    </tr>\n",
       "    <tr>\n",
       "      <th>equity_mode</th>\n",
       "      <td>4</td>\n",
       "      <td>5</td>\n",
       "      <td>NaN</td>\n",
       "    </tr>\n",
       "    <tr>\n",
       "      <th>gender_mode</th>\n",
       "      <td>Ж</td>\n",
       "      <td>М</td>\n",
       "      <td>NaN</td>\n",
       "    </tr>\n",
       "    <tr>\n",
       "      <th>last_activity_mode</th>\n",
       "      <td>1</td>\n",
       "      <td>1</td>\n",
       "      <td>NaN</td>\n",
       "    </tr>\n",
       "    <tr>\n",
       "      <th>products_mode</th>\n",
       "      <td>2</td>\n",
       "      <td>2</td>\n",
       "      <td>NaN</td>\n",
       "    </tr>\n",
       "  </tbody>\n",
       "</table>\n",
       "</div>"
      ],
      "text/plain": [
       "                     Не отток      Отток  Относительная разница\n",
       "age_avg            47.68      39.92      -7.75                 \n",
       "balance_avg        729123.63  912463.68  183340.06             \n",
       "est_salary_avg     107848.32  130467.49  22619.17              \n",
       "score_avg          855.77     867.76     11.99                 \n",
       "age_median         45.50      37.00      -8.50                 \n",
       "balance_median     633555.75  794854.18  161298.43             \n",
       "est_salary_median  93130.33   123738.24  30607.90              \n",
       "score_median       852.00     869.00     17.00                 \n",
       "city_mode           Ярославль  Ярославль NaN                   \n",
       "credit_card_mode    1          0         NaN                   \n",
       "equity_mode         4          5         NaN                   \n",
       "gender_mode         Ж          М         NaN                   \n",
       "last_activity_mode  1          1         NaN                   \n",
       "products_mode       2          2         NaN                   "
      ]
     },
     "metadata": {},
     "output_type": "display_data"
    },
    {
     "name": "stdout",
     "output_type": "stream",
     "text": [
      "---------- \n",
      "\n",
      "Количество сегментов, удовлетворяющих условию: 10\n",
      "ТОП сегментов (доля оттока, ID): [(0.39, 27), (0.31, 29), (0.29, 48)]\n"
     ]
    }
   ],
   "source": [
    "# смотрим сегменты по второму списку\n",
    "churn_params = [['cat', 'gender', 'M'], \n",
    "                ['cat', 'last_activity', 1], \n",
    "                ['cat', 'credit_card', 1],\n",
    "                ['num', 'equity', [3, 5]], \n",
    "                ['num', 'products', [2, 3]],\n",
    "                ['num', 'age', [50, 60]],\n",
    "                ['num', 'score', [828, 897]],\n",
    "                ['num', 'balance', [377, 1290],\n",
    "                ['num', 'est_salary', [81000, 170000]]]]\n",
    "                \n",
    "get_segment(churn_params, 3)"
   ]
  },
  {
   "cell_type": "markdown",
   "metadata": {},
   "source": [
    "При расширении диапазона признаков расширилось количество сегментов. Остановимся на 1 сегменте из первого списка (ID: 41), на 3 сегментах (ID: 27, 29, 48) из второго списка. В них наблюдается высокая доля отточности. В каждом сегменте не более трех признаков разного типа. Посмотрим на портреты клиентов в них.\n",
    "\n",
    "**Сегмент 41**. (Размер: 982, отточных клиентов: 431, доля оттока сегмента по банку: 25%)\n",
    " - Портрет отточного клиента: мужчина, средний возраст 39 лет, зарплата 120 тыс. руб., на балансе около 725 тыс. руб., активный клиент, пользующийся двумя продуктами, без оформленной кредитной карты, с высоким кредитным рейтингом (868), высокий балл собственности (5).\n",
    "\n",
    "\n",
    "**Сегмент 27**. (Размер: 1964, отточных клиентов: 678, доля оттока сегмента по банку: 39%)\n",
    " - Портрет отточного клиента: мужчина, средний возраст 40 лет, зарплата около 126 тыс. руб., на балансе около 880 тыс. руб., активный клиент, пользующийся двумя продуктами, без оформленной кредитной карты, с высоким кредитным рейтингом (870), высокий балл собственности (5).\n",
    "\n",
    "\n",
    "**Сегмент 29**. (Размер: 1185, отточных клиентов: 542, доля оттока сегмента по банку: 31%)\n",
    " - Портрет отточного клиента: мужчина, средний возраст 40 лет, зарплата около 127 тыс. руб., на балансе около 777 тыс. руб., активный клиент, пользующийся двумя продуктами, без оформленной кредитной карты, с высоким кредитным рейтингом (867), высокий балл собственности (5).\n",
    "\n",
    " \n",
    "**Сегмент 48**. (Размер: 1727, отточных клиентов: 512, доля оттока сегмента по банку: 29%)\n",
    " - Портрет отточного клиента: мужчина, средний возраст 41 год, зарплата около 129 тыс. руб., на балансе около 794 тыс. руб., активный клиент, пользующийся двумя продуктами, без оформленной кредитной карты, с достаточно высоким кредитным рейтингом (866), высокий балл собственности (5).\n",
    "\n",
    " \n",
    "Общие черты отточных клиентов по сегментам: активный клиент, мужчина, 39-41 год, зарплата 120-130 тыс. руб., на балансе примерно 6 зарплат, высокий кредитный рейтинг, высокий балл собственности, нет кредитной карты."
   ]
  },
  {
   "cell_type": "markdown",
   "metadata": {},
   "source": [
    "## Приоритизация сегментов"
   ]
  },
  {
   "cell_type": "markdown",
   "metadata": {},
   "source": [
    "Важно отметить, что отдел маректинга включает только двух работников, у них нет автоматизированных систем, поэтому все мероприятия, рассылки и агитации будут выполнены ручным трудом. Поэтому важно приоритизировать сегменты, чтобы маркетинг знал, на что обратить внимание в первую очередь в случае, если ресурсов маркетинга не хватит на охват всех выделенных сегментов.\n",
    "\n",
    "Приоритизируем сегменты по мере убывания отточных клиентов: 27 (38.8%), 29 (31%), 48 (29.36%), 41 (25%)."
   ]
  },
  {
   "cell_type": "markdown",
   "metadata": {},
   "source": [
    "## Рекомендации по работе с сегментами"
   ]
  },
  {
   "cell_type": "markdown",
   "metadata": {},
   "source": [
    "- **Сегмент 27**. Прежде всего стоит обратить внимание на мужчин 40 лет с зарплатой около 126 тыс. руб., не пользующихся кредитными картами, с более высоким кредитным рейтингом. Таким клиентам нужно делать упор на кредитные продукты. Также у клиентов на балансе лежит наибольшая сумма среди рассматриваемых сегментов.\n",
    "- **Сегмент 29**. Наиболее сбалансированный сегмент с точки зрения баланса и зарплаты. Здесь также стоит обратить внимание на мужчин 40 лет и попытаться вернуть их в категорию лояльных клиентов через повышенные ставки кешбэка, проценты по депозитам;\n",
    "- **Сегмент 48**. Сегмент не очень сильно отличается от остальных, поэтому рекомендации здесь те же, что и в предыдущих двух;\n",
    "- **Сегмент 41**. Клиентам данного сегмента стоит в первую очередь предложить открыть кредитные карты, так как более низкий баланс и зарплата, чем у других сегментов, может означать недостаток средств на приобретение каких-либо товаров. \n",
    "\n",
    "Для всех сегментов также будет актуально предлагать открыть новый кредитный продукт, так как у всех высокий кредитный рейтинг. С учетом отсутствия кредитной карты - нужно начать с нее. Для лояльности необходимо ввести льготные условия по кредитным/дебетовым продуктам."
   ]
  },
  {
   "cell_type": "markdown",
   "metadata": {},
   "source": [
    "## Выводы и рекомендации"
   ]
  },
  {
   "cell_type": "markdown",
   "metadata": {},
   "source": [
    "Перед нами была поставлена цель разработать рекомендации по работе с отточными клиентами для отдела маркетинга банка \"Метанпромбанк\". Для достижения цели нами было сделано следующее:\n",
    "\n",
    "1. Проанализировали датасет с характеристиками клиентов банка \"Метанпромбанк\", которые обслуживаются в отделениях Ярославской области (в Ярославле, Рыбинске и Ростове). В целях получения более точных результатов исследования было принято решение об удалении записей с пропусками в `age`, записи с аномальными значениями в `balance` и `est_salary` выше 98 перцентиля.\n",
    "\n",
    "\n",
    "2. **Анализ признаков оттока**. Разделили признаки на категориальные и непрерывные, определили модальные (по категориальным), средние и медианные значения (по непрерывным величинам) отточных клиентов. Составили портрет лояльного и отточного клиента:\n",
    " - Портрет **отточного** клиента банка - мужчина 41 год из Ярославля, имеющий кредитную карту, но активно пользующийся 2 банковскими продуктами. Его медианный доход около 120 тыс. руб., а на счету лежит примерно 750 тыс. руб., средний скоринговый балл - 860.\n",
    " - Портрет **лояльного** клиента банка - женщина 43 лет из Ярославля, имеющая кредитную карту, но активно не пользующаяся сервисами банка. У данного типа клиента открыто 2 продукта. Медианный доход - 115 тыс. руб., на счету хранится около 470 тыс. руб. Кредитный рейтинг ниже, чем у отточного клиента и составляет 844 балла.\n",
    "\n",
    "\n",
    "3. **Корреляция**. Провели оценку корреляции признаков клиентов с отточностью. Умеренная зависимость оттока наблюдается по признакам `balance` и `equity` (по шкале Чеддока). То есть, чем больше баллов собственности или выше баланс у клиента, тем больше отток. По остальным признакам корреляция с отточностью слабая. Все признаки, за исключением `city`и `est_salary` оказывают влияние на отток.\n",
    "\n",
    "\n",
    "4. **Проверка гипотез**. Проверены две гипотезы:\n",
    " - гипотеза различия зарплты между отточными и лояльными клиентами банка. Получилось, что разница в скоринге между отточными и лояльными клиентами вероятнее будет закономерной, нежели слуйчайной;\n",
    " - гипотеза различия в скоринговом балле отточных и лояльных клиентов банка. Получилось, что разница в скоринге между отточными и лояльными клиентами также вероятнее будет закономерной, нежели слуйчайной.\n",
    " \n",
    "\n",
    "5. **Итоги по EDA**, в целях поиска отточных сегментов отобрали признаки, которые наиболее сильно влияют на отток: наличие кредитной карты, активность, скоринговый балл, баланс, возраст, баллы собственности, пол.\n",
    "\n",
    "\n",
    "6. **Сегментация**. Определили 4 наиболее отточных сегмента (по приоретизации):\n",
    " - Сегмент 27. Размер: 1964, отточных клиентов: 678, доля оттока сегмента по банку: 38.8%\n",
    " - Сегмент 29. Размер: 1185, отточных клиентов: 542, доля оттока сегмента по банку: 31%\n",
    " - Сегмент 48. Размер: 1727, отточных клиентов: 512, доля оттока сегмента по банку: 29.36%\n",
    " - Сегмент 41. Размер: 982, отточных клиентов: 431, доля оттока сегмента по банку: 25%\n",
    " \n",
    "Общие черты отточных клиентов по сегментам: активный клиент, мужчина, 39-41 год, зарплата 120-130 тыс. руб., на балансе примерно 6 зарплат, высокий кредитный рейтинг, высокий балл собственности, нет кредитной карты.\n",
    " \n",
    "**Рекомендации**\n",
    "\n",
    "- Стоит обратить внимание на удержание активных клиентов среди мужчин 40 лет с зарплатой 120-130 тыс. руб., обслуживающихся в Ярославле, с накоплениями \"на черный день\".\n",
    "- В силу высокого кредитного рейтинга, высокой зарплаты и отсутствия кредитных карт у клиентов в этом сегменте, следует мотивировать клиентов открывать кредитные карты;\n",
    "- Стараться удержать или вернуть активных клиентов через предоставление льготных условий по кредитным программам, повышенные ставки по депозитам, открыть категории с повышенным кешбэком."
   ]
  }
 ],
 "metadata": {
  "ExecuteTimeLog": [
   {
    "duration": 45,
    "start_time": "2024-02-19T16:39:47.635Z"
   },
   {
    "duration": 1126,
    "start_time": "2024-02-19T16:48:39.884Z"
   },
   {
    "duration": 155,
    "start_time": "2024-02-19T16:48:41.856Z"
   },
   {
    "duration": 57,
    "start_time": "2024-02-19T16:48:43.201Z"
   },
   {
    "duration": 10,
    "start_time": "2024-02-19T16:49:05.143Z"
   },
   {
    "duration": 25,
    "start_time": "2024-02-19T16:49:16.653Z"
   },
   {
    "duration": 37,
    "start_time": "2024-02-19T16:49:26.503Z"
   },
   {
    "duration": 32,
    "start_time": "2024-02-19T16:49:27.656Z"
   },
   {
    "duration": 3,
    "start_time": "2024-02-19T17:04:25.804Z"
   },
   {
    "duration": 7,
    "start_time": "2024-02-19T17:14:00.040Z"
   },
   {
    "duration": 14,
    "start_time": "2024-02-19T17:14:03.325Z"
   },
   {
    "duration": 22,
    "start_time": "2024-02-19T17:19:00.768Z"
   },
   {
    "duration": 1268,
    "start_time": "2024-02-19T17:19:09.321Z"
   },
   {
    "duration": 73,
    "start_time": "2024-02-19T17:20:06.960Z"
   },
   {
    "duration": 17,
    "start_time": "2024-02-19T17:20:26.269Z"
   },
   {
    "duration": 17,
    "start_time": "2024-02-19T17:20:50.788Z"
   },
   {
    "duration": 17,
    "start_time": "2024-02-19T17:21:28.779Z"
   },
   {
    "duration": 23,
    "start_time": "2024-02-19T17:21:48.940Z"
   },
   {
    "duration": 15,
    "start_time": "2024-02-19T17:22:36.089Z"
   },
   {
    "duration": 5,
    "start_time": "2024-02-19T17:22:48.381Z"
   },
   {
    "duration": 5,
    "start_time": "2024-02-19T17:23:05.841Z"
   },
   {
    "duration": 15,
    "start_time": "2024-02-19T17:23:12.107Z"
   },
   {
    "duration": 6,
    "start_time": "2024-02-19T17:25:28.659Z"
   },
   {
    "duration": 18,
    "start_time": "2024-02-19T17:25:34.425Z"
   },
   {
    "duration": 5,
    "start_time": "2024-02-19T17:25:45.226Z"
   },
   {
    "duration": 11,
    "start_time": "2024-02-19T17:26:35.364Z"
   },
   {
    "duration": 11,
    "start_time": "2024-02-19T17:26:46.107Z"
   },
   {
    "duration": 1218,
    "start_time": "2024-02-19T17:29:23.306Z"
   },
   {
    "duration": 9,
    "start_time": "2024-02-19T17:29:30.187Z"
   },
   {
    "duration": 8,
    "start_time": "2024-02-19T17:29:47.782Z"
   },
   {
    "duration": 1125,
    "start_time": "2024-02-20T17:47:47.950Z"
   },
   {
    "duration": 146,
    "start_time": "2024-02-20T17:47:49.077Z"
   },
   {
    "duration": 35,
    "start_time": "2024-02-20T17:47:49.224Z"
   },
   {
    "duration": 2,
    "start_time": "2024-02-20T17:47:49.260Z"
   },
   {
    "duration": 45,
    "start_time": "2024-02-20T17:47:49.264Z"
   },
   {
    "duration": 15,
    "start_time": "2024-02-20T17:47:49.310Z"
   },
   {
    "duration": 3,
    "start_time": "2024-02-20T17:48:15.509Z"
   },
   {
    "duration": 84,
    "start_time": "2024-02-20T17:48:17.363Z"
   },
   {
    "duration": 22,
    "start_time": "2024-02-20T17:48:20.254Z"
   },
   {
    "duration": 950,
    "start_time": "2024-02-20T17:50:55.035Z"
   },
   {
    "duration": 39,
    "start_time": "2024-02-20T17:50:55.986Z"
   },
   {
    "duration": 34,
    "start_time": "2024-02-20T17:50:56.026Z"
   },
   {
    "duration": 3,
    "start_time": "2024-02-20T17:50:56.061Z"
   },
   {
    "duration": 36,
    "start_time": "2024-02-20T17:50:56.065Z"
   },
   {
    "duration": 11,
    "start_time": "2024-02-20T17:50:56.102Z"
   },
   {
    "duration": 7,
    "start_time": "2024-02-20T17:50:56.114Z"
   },
   {
    "duration": 15,
    "start_time": "2024-02-20T17:50:56.123Z"
   },
   {
    "duration": 85,
    "start_time": "2024-02-20T17:58:09.446Z"
   },
   {
    "duration": 5,
    "start_time": "2024-02-20T17:58:16.904Z"
   },
   {
    "duration": 5,
    "start_time": "2024-02-20T17:58:28.764Z"
   },
   {
    "duration": 9,
    "start_time": "2024-02-20T17:59:33.666Z"
   },
   {
    "duration": 32,
    "start_time": "2024-02-20T17:59:49.874Z"
   },
   {
    "duration": 11,
    "start_time": "2024-02-20T18:01:04.868Z"
   },
   {
    "duration": 24,
    "start_time": "2024-02-20T18:01:11.021Z"
   },
   {
    "duration": 22,
    "start_time": "2024-02-20T18:01:18.441Z"
   },
   {
    "duration": 16,
    "start_time": "2024-02-20T18:01:49.360Z"
   },
   {
    "duration": 958,
    "start_time": "2024-02-20T18:02:04.444Z"
   },
   {
    "duration": 39,
    "start_time": "2024-02-20T18:02:05.403Z"
   },
   {
    "duration": 37,
    "start_time": "2024-02-20T18:02:05.443Z"
   },
   {
    "duration": 2,
    "start_time": "2024-02-20T18:02:05.482Z"
   },
   {
    "duration": 19,
    "start_time": "2024-02-20T18:02:05.486Z"
   },
   {
    "duration": 8,
    "start_time": "2024-02-20T18:02:05.506Z"
   },
   {
    "duration": 5,
    "start_time": "2024-02-20T18:02:05.516Z"
   },
   {
    "duration": 24,
    "start_time": "2024-02-20T18:02:05.522Z"
   },
   {
    "duration": 7,
    "start_time": "2024-02-20T18:04:03.538Z"
   },
   {
    "duration": 18,
    "start_time": "2024-02-20T18:06:07.042Z"
   },
   {
    "duration": 16,
    "start_time": "2024-02-20T18:06:35.932Z"
   },
   {
    "duration": 6,
    "start_time": "2024-02-20T18:06:54.959Z"
   },
   {
    "duration": 9,
    "start_time": "2024-02-20T18:08:07.873Z"
   },
   {
    "duration": 9,
    "start_time": "2024-02-20T18:08:23.283Z"
   },
   {
    "duration": 8,
    "start_time": "2024-02-20T18:08:35.138Z"
   },
   {
    "duration": 7,
    "start_time": "2024-02-20T18:24:20.026Z"
   },
   {
    "duration": 16,
    "start_time": "2024-02-20T18:24:36.470Z"
   },
   {
    "duration": 10,
    "start_time": "2024-02-20T18:26:13.131Z"
   },
   {
    "duration": 18,
    "start_time": "2024-02-20T18:26:33.698Z"
   },
   {
    "duration": 4,
    "start_time": "2024-02-20T18:28:09.524Z"
   },
   {
    "duration": 18,
    "start_time": "2024-02-20T18:28:21.603Z"
   },
   {
    "duration": 9,
    "start_time": "2024-02-20T18:34:40.254Z"
   },
   {
    "duration": 9,
    "start_time": "2024-02-20T18:36:23.837Z"
   },
   {
    "duration": 13,
    "start_time": "2024-02-20T18:36:40.998Z"
   },
   {
    "duration": 13,
    "start_time": "2024-02-20T18:37:39.314Z"
   },
   {
    "duration": 14,
    "start_time": "2024-02-20T18:37:45.291Z"
   },
   {
    "duration": 15,
    "start_time": "2024-02-20T18:43:12.803Z"
   },
   {
    "duration": 16,
    "start_time": "2024-02-20T18:45:09.800Z"
   },
   {
    "duration": 16,
    "start_time": "2024-02-20T18:45:37.576Z"
   },
   {
    "duration": 16,
    "start_time": "2024-02-20T18:46:40.126Z"
   },
   {
    "duration": 5,
    "start_time": "2024-02-20T18:47:26.671Z"
   },
   {
    "duration": 16,
    "start_time": "2024-02-20T18:47:41.911Z"
   },
   {
    "duration": 11,
    "start_time": "2024-02-20T18:48:20.521Z"
   },
   {
    "duration": 16,
    "start_time": "2024-02-20T18:49:07.730Z"
   },
   {
    "duration": 17,
    "start_time": "2024-02-20T18:49:13.395Z"
   },
   {
    "duration": 11,
    "start_time": "2024-02-20T18:50:43.011Z"
   },
   {
    "duration": 19,
    "start_time": "2024-02-20T18:50:53.264Z"
   },
   {
    "duration": 23,
    "start_time": "2024-02-20T18:59:04.038Z"
   },
   {
    "duration": 83,
    "start_time": "2024-02-20T19:00:34.557Z"
   },
   {
    "duration": 7,
    "start_time": "2024-02-20T19:00:40.808Z"
   },
   {
    "duration": 11,
    "start_time": "2024-02-20T19:00:54.321Z"
   },
   {
    "duration": 25,
    "start_time": "2024-02-20T19:01:00.875Z"
   },
   {
    "duration": 15,
    "start_time": "2024-02-20T19:02:44.264Z"
   },
   {
    "duration": 38,
    "start_time": "2024-02-20T19:04:04.632Z"
   },
   {
    "duration": 37,
    "start_time": "2024-02-20T19:04:38.459Z"
   },
   {
    "duration": 14,
    "start_time": "2024-02-20T19:04:55.873Z"
   },
   {
    "duration": 12,
    "start_time": "2024-02-20T19:05:00.163Z"
   },
   {
    "duration": 38,
    "start_time": "2024-02-20T19:06:07.897Z"
   },
   {
    "duration": 71,
    "start_time": "2024-02-20T19:06:25.835Z"
   },
   {
    "duration": 223,
    "start_time": "2024-02-20T19:06:34.101Z"
   },
   {
    "duration": 9,
    "start_time": "2024-02-20T19:06:44.352Z"
   },
   {
    "duration": 15,
    "start_time": "2024-02-20T19:07:01.949Z"
   },
   {
    "duration": 10,
    "start_time": "2024-02-20T19:07:04.860Z"
   },
   {
    "duration": 10,
    "start_time": "2024-02-20T19:07:18.787Z"
   },
   {
    "duration": 21,
    "start_time": "2024-02-20T19:09:10.119Z"
   },
   {
    "duration": 17,
    "start_time": "2024-02-20T19:09:51.825Z"
   },
   {
    "duration": 14,
    "start_time": "2024-02-20T19:10:10.249Z"
   },
   {
    "duration": 9,
    "start_time": "2024-02-20T19:12:57.330Z"
   },
   {
    "duration": 16,
    "start_time": "2024-02-20T19:16:58.702Z"
   },
   {
    "duration": 13,
    "start_time": "2024-02-20T19:17:29.844Z"
   },
   {
    "duration": 970,
    "start_time": "2024-02-20T19:17:47.843Z"
   },
   {
    "duration": 38,
    "start_time": "2024-02-20T19:17:48.814Z"
   },
   {
    "duration": 35,
    "start_time": "2024-02-20T19:17:48.855Z"
   },
   {
    "duration": 9,
    "start_time": "2024-02-20T19:17:48.891Z"
   },
   {
    "duration": 39,
    "start_time": "2024-02-20T19:17:48.901Z"
   },
   {
    "duration": 8,
    "start_time": "2024-02-20T19:17:48.941Z"
   },
   {
    "duration": 13,
    "start_time": "2024-02-20T19:17:48.950Z"
   },
   {
    "duration": 7,
    "start_time": "2024-02-20T19:17:48.965Z"
   },
   {
    "duration": 3,
    "start_time": "2024-02-20T19:17:48.973Z"
   },
   {
    "duration": 17,
    "start_time": "2024-02-20T19:17:48.977Z"
   },
   {
    "duration": 26,
    "start_time": "2024-02-20T19:17:48.995Z"
   },
   {
    "duration": 14,
    "start_time": "2024-02-20T19:17:52.390Z"
   },
   {
    "duration": 3,
    "start_time": "2024-02-20T19:18:08.666Z"
   },
   {
    "duration": 48,
    "start_time": "2024-02-20T19:18:08.670Z"
   },
   {
    "duration": 33,
    "start_time": "2024-02-20T19:18:08.719Z"
   },
   {
    "duration": 9,
    "start_time": "2024-02-20T19:18:08.753Z"
   },
   {
    "duration": 35,
    "start_time": "2024-02-20T19:18:08.763Z"
   },
   {
    "duration": 9,
    "start_time": "2024-02-20T19:18:08.799Z"
   },
   {
    "duration": 9,
    "start_time": "2024-02-20T19:18:12.605Z"
   },
   {
    "duration": 13,
    "start_time": "2024-02-20T19:18:13.146Z"
   },
   {
    "duration": 8,
    "start_time": "2024-02-20T19:28:15.036Z"
   },
   {
    "duration": 7,
    "start_time": "2024-02-20T19:28:21.405Z"
   },
   {
    "duration": 10,
    "start_time": "2024-02-20T19:36:12.390Z"
   },
   {
    "duration": 9,
    "start_time": "2024-02-20T19:36:29.233Z"
   },
   {
    "duration": 24,
    "start_time": "2024-02-20T19:36:44.181Z"
   },
   {
    "duration": 82,
    "start_time": "2024-02-20T19:37:59.081Z"
   },
   {
    "duration": 5,
    "start_time": "2024-02-20T19:38:02.337Z"
   },
   {
    "duration": 6,
    "start_time": "2024-02-20T19:43:49.952Z"
   },
   {
    "duration": 22,
    "start_time": "2024-02-20T19:49:09.895Z"
   },
   {
    "duration": 12,
    "start_time": "2024-02-20T19:49:13.253Z"
   },
   {
    "duration": 28,
    "start_time": "2024-02-20T19:52:27.136Z"
   },
   {
    "duration": 12,
    "start_time": "2024-02-20T19:55:03.279Z"
   },
   {
    "duration": 7,
    "start_time": "2024-02-20T19:55:29.939Z"
   },
   {
    "duration": 10,
    "start_time": "2024-02-20T19:56:10.571Z"
   },
   {
    "duration": 10,
    "start_time": "2024-02-20T19:56:17.727Z"
   },
   {
    "duration": 32,
    "start_time": "2024-02-20T19:57:25.160Z"
   },
   {
    "duration": 11,
    "start_time": "2024-02-20T19:59:09.726Z"
   },
   {
    "duration": 3,
    "start_time": "2024-02-20T19:59:27.308Z"
   },
   {
    "duration": 57,
    "start_time": "2024-02-20T19:59:27.312Z"
   },
   {
    "duration": 37,
    "start_time": "2024-02-20T19:59:29.496Z"
   },
   {
    "duration": 55,
    "start_time": "2024-02-20T19:59:30.260Z"
   },
   {
    "duration": 57,
    "start_time": "2024-02-20T19:59:56.293Z"
   },
   {
    "duration": 36,
    "start_time": "2024-02-20T20:02:34.749Z"
   },
   {
    "duration": 3,
    "start_time": "2024-02-20T20:02:39.503Z"
   },
   {
    "duration": 82,
    "start_time": "2024-02-20T20:02:39.508Z"
   },
   {
    "duration": 58,
    "start_time": "2024-02-20T20:02:39.592Z"
   },
   {
    "duration": 4,
    "start_time": "2024-02-20T20:02:39.651Z"
   },
   {
    "duration": 27,
    "start_time": "2024-02-20T20:02:39.657Z"
   },
   {
    "duration": 36,
    "start_time": "2024-02-20T20:02:41.368Z"
   },
   {
    "duration": 2,
    "start_time": "2024-02-20T20:04:04.955Z"
   },
   {
    "duration": 38,
    "start_time": "2024-02-20T20:04:04.959Z"
   },
   {
    "duration": 58,
    "start_time": "2024-02-20T20:04:04.999Z"
   },
   {
    "duration": 4,
    "start_time": "2024-02-20T20:04:05.058Z"
   },
   {
    "duration": 6,
    "start_time": "2024-02-20T20:04:09.608Z"
   },
   {
    "duration": 36,
    "start_time": "2024-02-20T20:04:12.300Z"
   },
   {
    "duration": 10,
    "start_time": "2024-02-20T20:07:10.577Z"
   },
   {
    "duration": 7,
    "start_time": "2024-02-20T20:07:36.678Z"
   },
   {
    "duration": 6,
    "start_time": "2024-02-20T20:08:01.390Z"
   },
   {
    "duration": 7,
    "start_time": "2024-02-20T20:08:25.400Z"
   },
   {
    "duration": 8,
    "start_time": "2024-02-20T20:08:28.958Z"
   },
   {
    "duration": 10,
    "start_time": "2024-02-20T20:09:44.219Z"
   },
   {
    "duration": 3,
    "start_time": "2024-02-20T20:10:08.727Z"
   },
   {
    "duration": 52,
    "start_time": "2024-02-20T20:10:08.731Z"
   },
   {
    "duration": 56,
    "start_time": "2024-02-20T20:10:08.784Z"
   },
   {
    "duration": 4,
    "start_time": "2024-02-20T20:10:08.841Z"
   },
   {
    "duration": 24,
    "start_time": "2024-02-20T20:10:08.847Z"
   },
   {
    "duration": 7,
    "start_time": "2024-02-20T20:10:10.592Z"
   },
   {
    "duration": 10,
    "start_time": "2024-02-20T20:10:11.741Z"
   },
   {
    "duration": 5,
    "start_time": "2024-02-20T20:11:59.140Z"
   },
   {
    "duration": 8,
    "start_time": "2024-02-20T20:12:04.351Z"
   },
   {
    "duration": 27,
    "start_time": "2024-02-20T20:12:08.286Z"
   },
   {
    "duration": 3,
    "start_time": "2024-02-20T20:15:22.449Z"
   },
   {
    "duration": 39,
    "start_time": "2024-02-20T20:15:22.454Z"
   },
   {
    "duration": 55,
    "start_time": "2024-02-20T20:15:22.494Z"
   },
   {
    "duration": 3,
    "start_time": "2024-02-20T20:15:22.550Z"
   },
   {
    "duration": 8,
    "start_time": "2024-02-20T20:15:22.554Z"
   },
   {
    "duration": 53,
    "start_time": "2024-02-20T20:15:22.563Z"
   },
   {
    "duration": 26,
    "start_time": "2024-02-20T20:15:22.617Z"
   },
   {
    "duration": 24,
    "start_time": "2024-02-20T20:15:24.414Z"
   },
   {
    "duration": 8,
    "start_time": "2024-02-20T20:15:28.660Z"
   },
   {
    "duration": 24,
    "start_time": "2024-02-20T20:16:50.157Z"
   },
   {
    "duration": 29,
    "start_time": "2024-02-20T20:17:01.629Z"
   },
   {
    "duration": 27,
    "start_time": "2024-02-20T20:17:07.828Z"
   },
   {
    "duration": 24,
    "start_time": "2024-02-20T20:17:16.885Z"
   },
   {
    "duration": 30,
    "start_time": "2024-02-20T20:18:24.424Z"
   },
   {
    "duration": 10,
    "start_time": "2024-02-20T20:20:19.196Z"
   },
   {
    "duration": 3,
    "start_time": "2024-02-20T20:27:01.395Z"
   },
   {
    "duration": 8,
    "start_time": "2024-02-20T20:27:08.865Z"
   },
   {
    "duration": 7,
    "start_time": "2024-02-20T20:27:32.465Z"
   },
   {
    "duration": 13,
    "start_time": "2024-02-20T20:28:06.028Z"
   },
   {
    "duration": 16,
    "start_time": "2024-02-20T20:29:27.345Z"
   },
   {
    "duration": 9,
    "start_time": "2024-02-20T20:30:00.497Z"
   },
   {
    "duration": 17,
    "start_time": "2024-02-20T20:30:31.536Z"
   },
   {
    "duration": 16,
    "start_time": "2024-02-20T20:31:07.623Z"
   },
   {
    "duration": 7,
    "start_time": "2024-02-20T20:31:21.182Z"
   },
   {
    "duration": 7,
    "start_time": "2024-02-20T20:31:28.335Z"
   },
   {
    "duration": 16,
    "start_time": "2024-02-20T20:31:39.552Z"
   },
   {
    "duration": 9,
    "start_time": "2024-02-20T20:32:11.916Z"
   },
   {
    "duration": 17,
    "start_time": "2024-02-20T20:32:19.816Z"
   },
   {
    "duration": 8,
    "start_time": "2024-02-20T20:32:28.468Z"
   },
   {
    "duration": 17,
    "start_time": "2024-02-20T20:32:50.130Z"
   },
   {
    "duration": 28,
    "start_time": "2024-02-20T20:33:01.855Z"
   },
   {
    "duration": 33,
    "start_time": "2024-02-20T20:34:47.954Z"
   },
   {
    "duration": 17,
    "start_time": "2024-02-20T20:38:52.969Z"
   },
   {
    "duration": 15,
    "start_time": "2024-02-20T20:39:29.366Z"
   },
   {
    "duration": 12,
    "start_time": "2024-02-20T20:39:57.655Z"
   },
   {
    "duration": 10,
    "start_time": "2024-02-20T20:43:23.035Z"
   },
   {
    "duration": 11,
    "start_time": "2024-02-20T20:43:32.104Z"
   },
   {
    "duration": 15,
    "start_time": "2024-02-20T20:45:34.696Z"
   },
   {
    "duration": 15,
    "start_time": "2024-02-20T20:46:28.207Z"
   },
   {
    "duration": 17,
    "start_time": "2024-02-20T20:48:50.611Z"
   },
   {
    "duration": 5,
    "start_time": "2024-02-20T20:53:10.451Z"
   },
   {
    "duration": 14,
    "start_time": "2024-02-20T20:53:34.585Z"
   },
   {
    "duration": 15,
    "start_time": "2024-02-20T20:56:42.575Z"
   },
   {
    "duration": 13,
    "start_time": "2024-02-20T20:57:08.600Z"
   },
   {
    "duration": 17,
    "start_time": "2024-02-20T20:57:53.790Z"
   },
   {
    "duration": 14,
    "start_time": "2024-02-20T20:58:05.611Z"
   },
   {
    "duration": 18,
    "start_time": "2024-02-20T20:58:10.673Z"
   },
   {
    "duration": 23,
    "start_time": "2024-02-20T20:58:20.435Z"
   },
   {
    "duration": 21,
    "start_time": "2024-02-20T20:58:31.461Z"
   },
   {
    "duration": 15,
    "start_time": "2024-02-20T20:58:37.805Z"
   },
   {
    "duration": 14,
    "start_time": "2024-02-20T20:59:27.247Z"
   },
   {
    "duration": 19,
    "start_time": "2024-02-20T20:59:34.282Z"
   },
   {
    "duration": 14,
    "start_time": "2024-02-20T20:59:49.794Z"
   },
   {
    "duration": 14,
    "start_time": "2024-02-20T20:59:59.527Z"
   },
   {
    "duration": 14,
    "start_time": "2024-02-20T21:00:51.614Z"
   },
   {
    "duration": 14,
    "start_time": "2024-02-20T21:00:57.971Z"
   },
   {
    "duration": 18,
    "start_time": "2024-02-20T21:01:03.862Z"
   },
   {
    "duration": 11,
    "start_time": "2024-02-20T21:01:14.908Z"
   },
   {
    "duration": 13,
    "start_time": "2024-02-20T21:01:18.152Z"
   },
   {
    "duration": 18,
    "start_time": "2024-02-20T21:01:30.077Z"
   },
   {
    "duration": 15,
    "start_time": "2024-02-20T21:02:26.876Z"
   },
   {
    "duration": 19,
    "start_time": "2024-02-20T21:03:04.870Z"
   },
   {
    "duration": 18,
    "start_time": "2024-02-20T21:04:43.549Z"
   },
   {
    "duration": 13,
    "start_time": "2024-02-20T21:04:54.415Z"
   },
   {
    "duration": 15,
    "start_time": "2024-02-20T21:04:59.100Z"
   },
   {
    "duration": 18,
    "start_time": "2024-02-20T21:05:06.780Z"
   },
   {
    "duration": 17,
    "start_time": "2024-02-20T21:05:16.054Z"
   },
   {
    "duration": 14,
    "start_time": "2024-02-20T21:05:23.108Z"
   },
   {
    "duration": 14,
    "start_time": "2024-02-20T21:06:49.644Z"
   },
   {
    "duration": 17,
    "start_time": "2024-02-20T21:07:48.065Z"
   },
   {
    "duration": 20,
    "start_time": "2024-02-20T21:07:54.664Z"
   },
   {
    "duration": 20,
    "start_time": "2024-02-20T21:08:27.648Z"
   },
   {
    "duration": 19,
    "start_time": "2024-02-20T21:08:36.465Z"
   },
   {
    "duration": 15,
    "start_time": "2024-02-20T21:10:27.458Z"
   },
   {
    "duration": 15,
    "start_time": "2024-02-20T21:11:52.861Z"
   },
   {
    "duration": 23,
    "start_time": "2024-02-20T21:13:22.799Z"
   },
   {
    "duration": 14,
    "start_time": "2024-02-20T21:13:36.375Z"
   },
   {
    "duration": 10,
    "start_time": "2024-02-20T21:14:18.951Z"
   },
   {
    "duration": 9,
    "start_time": "2024-02-20T21:15:15.201Z"
   },
   {
    "duration": 10,
    "start_time": "2024-02-20T21:15:51.776Z"
   },
   {
    "duration": 12,
    "start_time": "2024-02-20T21:16:50.536Z"
   },
   {
    "duration": 16,
    "start_time": "2024-02-20T21:17:27.173Z"
   },
   {
    "duration": 13,
    "start_time": "2024-02-20T21:17:43.947Z"
   },
   {
    "duration": 13,
    "start_time": "2024-02-20T21:18:24.494Z"
   },
   {
    "duration": 13,
    "start_time": "2024-02-20T21:18:36.046Z"
   },
   {
    "duration": 14,
    "start_time": "2024-02-20T21:18:49.392Z"
   },
   {
    "duration": 1330,
    "start_time": "2024-02-23T08:47:54.052Z"
   },
   {
    "duration": 142,
    "start_time": "2024-02-23T08:47:55.384Z"
   },
   {
    "duration": 81,
    "start_time": "2024-02-23T08:47:55.527Z"
   },
   {
    "duration": 4,
    "start_time": "2024-02-23T08:47:58.829Z"
   },
   {
    "duration": 9,
    "start_time": "2024-02-23T08:48:06.344Z"
   },
   {
    "duration": 7,
    "start_time": "2024-02-23T08:48:09.780Z"
   },
   {
    "duration": 19,
    "start_time": "2024-02-23T08:54:22.252Z"
   },
   {
    "duration": 10,
    "start_time": "2024-02-23T08:55:35.062Z"
   },
   {
    "duration": 29,
    "start_time": "2024-02-23T08:56:04.748Z"
   },
   {
    "duration": 2,
    "start_time": "2024-02-23T08:58:19.649Z"
   },
   {
    "duration": 20,
    "start_time": "2024-02-23T09:03:16.007Z"
   },
   {
    "duration": 23,
    "start_time": "2024-02-23T09:07:49.044Z"
   },
   {
    "duration": 32,
    "start_time": "2024-02-23T09:22:36.724Z"
   },
   {
    "duration": 105,
    "start_time": "2024-02-23T09:39:53.165Z"
   },
   {
    "duration": 18,
    "start_time": "2024-02-23T09:40:16.369Z"
   },
   {
    "duration": 5,
    "start_time": "2024-02-23T09:41:12.177Z"
   },
   {
    "duration": 19,
    "start_time": "2024-02-23T09:41:14.519Z"
   },
   {
    "duration": 3,
    "start_time": "2024-02-23T09:41:55.145Z"
   },
   {
    "duration": 9,
    "start_time": "2024-02-23T09:43:09.667Z"
   },
   {
    "duration": 10,
    "start_time": "2024-02-23T09:43:17.046Z"
   },
   {
    "duration": 9,
    "start_time": "2024-02-23T09:43:24.827Z"
   },
   {
    "duration": 13,
    "start_time": "2024-02-23T09:43:27.344Z"
   },
   {
    "duration": 27,
    "start_time": "2024-02-23T09:46:03.112Z"
   },
   {
    "duration": 18,
    "start_time": "2024-02-23T09:51:21.421Z"
   },
   {
    "duration": 31,
    "start_time": "2024-02-23T09:51:47.239Z"
   },
   {
    "duration": 32,
    "start_time": "2024-02-23T09:51:54.435Z"
   },
   {
    "duration": 40,
    "start_time": "2024-02-23T09:58:51.814Z"
   },
   {
    "duration": 36,
    "start_time": "2024-02-23T09:59:16.113Z"
   },
   {
    "duration": 43,
    "start_time": "2024-02-23T10:02:22.763Z"
   },
   {
    "duration": 41,
    "start_time": "2024-02-23T10:02:38.984Z"
   },
   {
    "duration": 40,
    "start_time": "2024-02-23T10:03:44.537Z"
   },
   {
    "duration": 37,
    "start_time": "2024-02-23T10:03:57.666Z"
   },
   {
    "duration": 32,
    "start_time": "2024-02-23T10:04:07.607Z"
   },
   {
    "duration": 38,
    "start_time": "2024-02-23T10:04:22.944Z"
   },
   {
    "duration": 34,
    "start_time": "2024-02-23T10:04:42.674Z"
   },
   {
    "duration": 4,
    "start_time": "2024-02-23T10:15:33.881Z"
   },
   {
    "duration": 25,
    "start_time": "2024-02-23T10:37:42.581Z"
   },
   {
    "duration": 21,
    "start_time": "2024-02-23T10:48:14.036Z"
   },
   {
    "duration": 19,
    "start_time": "2024-02-23T10:51:01.290Z"
   },
   {
    "duration": 10,
    "start_time": "2024-02-23T10:51:16.698Z"
   },
   {
    "duration": 10,
    "start_time": "2024-02-23T10:51:45.007Z"
   },
   {
    "duration": 54,
    "start_time": "2024-02-23T18:39:39.061Z"
   },
   {
    "duration": 1330,
    "start_time": "2024-02-23T18:39:44.024Z"
   },
   {
    "duration": 151,
    "start_time": "2024-02-23T18:39:45.356Z"
   },
   {
    "duration": 102,
    "start_time": "2024-02-23T18:39:45.509Z"
   },
   {
    "duration": 5,
    "start_time": "2024-02-23T18:39:45.614Z"
   },
   {
    "duration": 19,
    "start_time": "2024-02-23T18:39:45.621Z"
   },
   {
    "duration": 25,
    "start_time": "2024-02-23T18:39:45.642Z"
   },
   {
    "duration": 51,
    "start_time": "2024-02-23T18:39:45.669Z"
   },
   {
    "duration": 30,
    "start_time": "2024-02-23T18:39:45.722Z"
   },
   {
    "duration": 9,
    "start_time": "2024-02-23T18:39:45.753Z"
   },
   {
    "duration": 61,
    "start_time": "2024-02-23T18:39:45.764Z"
   },
   {
    "duration": 11,
    "start_time": "2024-02-23T18:39:45.827Z"
   },
   {
    "duration": 11,
    "start_time": "2024-02-23T18:39:47.791Z"
   },
   {
    "duration": 5,
    "start_time": "2024-02-23T18:39:48.495Z"
   },
   {
    "duration": 6,
    "start_time": "2024-02-23T18:39:56.823Z"
   },
   {
    "duration": 12,
    "start_time": "2024-02-23T18:45:10.540Z"
   },
   {
    "duration": 34,
    "start_time": "2024-02-23T18:47:26.513Z"
   },
   {
    "duration": 57,
    "start_time": "2024-02-24T08:25:45.912Z"
   },
   {
    "duration": 1281,
    "start_time": "2024-02-24T08:25:49.634Z"
   },
   {
    "duration": 143,
    "start_time": "2024-02-24T08:25:50.917Z"
   },
   {
    "duration": 79,
    "start_time": "2024-02-24T08:25:51.062Z"
   },
   {
    "duration": 22,
    "start_time": "2024-02-24T08:25:51.143Z"
   },
   {
    "duration": 7,
    "start_time": "2024-02-24T08:25:51.167Z"
   },
   {
    "duration": 6,
    "start_time": "2024-02-24T08:25:51.175Z"
   },
   {
    "duration": 30,
    "start_time": "2024-02-24T08:25:51.182Z"
   },
   {
    "duration": 22,
    "start_time": "2024-02-24T08:25:51.213Z"
   },
   {
    "duration": 30,
    "start_time": "2024-02-24T08:25:51.236Z"
   },
   {
    "duration": 13,
    "start_time": "2024-02-24T08:25:53.801Z"
   },
   {
    "duration": 16,
    "start_time": "2024-02-24T10:40:55.725Z"
   },
   {
    "duration": 11,
    "start_time": "2024-02-24T10:41:31.250Z"
   },
   {
    "duration": 13,
    "start_time": "2024-02-24T10:41:39.951Z"
   },
   {
    "duration": 13,
    "start_time": "2024-02-24T10:41:46.046Z"
   },
   {
    "duration": 156,
    "start_time": "2024-02-24T10:42:36.344Z"
   },
   {
    "duration": 13,
    "start_time": "2024-02-24T10:51:48.643Z"
   },
   {
    "duration": 14,
    "start_time": "2024-02-24T10:53:05.922Z"
   },
   {
    "duration": 83,
    "start_time": "2024-02-24T11:09:12.165Z"
   },
   {
    "duration": 5,
    "start_time": "2024-02-24T11:18:56.211Z"
   },
   {
    "duration": 72,
    "start_time": "2024-02-24T11:29:09.854Z"
   },
   {
    "duration": 150,
    "start_time": "2024-02-24T11:29:17.318Z"
   },
   {
    "duration": 177,
    "start_time": "2024-02-24T11:30:55.357Z"
   },
   {
    "duration": 12,
    "start_time": "2024-02-24T11:31:53.618Z"
   },
   {
    "duration": 268,
    "start_time": "2024-02-24T11:32:21.152Z"
   },
   {
    "duration": 125,
    "start_time": "2024-02-24T11:33:27.192Z"
   },
   {
    "duration": 329,
    "start_time": "2024-02-24T11:35:48.840Z"
   },
   {
    "duration": 382,
    "start_time": "2024-02-24T11:35:56.844Z"
   },
   {
    "duration": 291,
    "start_time": "2024-02-24T11:39:23.519Z"
   },
   {
    "duration": 328,
    "start_time": "2024-02-24T11:39:37.733Z"
   },
   {
    "duration": 304,
    "start_time": "2024-02-24T11:39:44.786Z"
   },
   {
    "duration": 295,
    "start_time": "2024-02-24T11:40:52.632Z"
   },
   {
    "duration": 401,
    "start_time": "2024-02-24T11:43:42.794Z"
   },
   {
    "duration": 3,
    "start_time": "2024-02-24T11:48:54.720Z"
   },
   {
    "duration": 612,
    "start_time": "2024-02-24T11:49:50.487Z"
   },
   {
    "duration": 7,
    "start_time": "2024-02-24T12:02:32.353Z"
   },
   {
    "duration": 9,
    "start_time": "2024-02-24T12:03:04.961Z"
   },
   {
    "duration": 7,
    "start_time": "2024-02-24T12:04:15.337Z"
   },
   {
    "duration": 9,
    "start_time": "2024-02-24T12:04:27.455Z"
   },
   {
    "duration": 6,
    "start_time": "2024-02-24T12:04:38.354Z"
   },
   {
    "duration": 6,
    "start_time": "2024-02-24T12:04:50.538Z"
   },
   {
    "duration": 10,
    "start_time": "2024-02-24T12:10:13.211Z"
   },
   {
    "duration": 3,
    "start_time": "2024-02-24T12:10:24.254Z"
   },
   {
    "duration": 129,
    "start_time": "2024-02-24T12:10:27.564Z"
   },
   {
    "duration": 122,
    "start_time": "2024-02-24T12:11:31.014Z"
   },
   {
    "duration": 265,
    "start_time": "2024-02-24T12:13:04.909Z"
   },
   {
    "duration": 242,
    "start_time": "2024-02-24T12:13:30.897Z"
   },
   {
    "duration": 246,
    "start_time": "2024-02-24T12:13:40.042Z"
   },
   {
    "duration": 284,
    "start_time": "2024-02-24T12:13:47.160Z"
   },
   {
    "duration": 688,
    "start_time": "2024-02-24T12:15:59.688Z"
   },
   {
    "duration": 601,
    "start_time": "2024-02-24T12:16:04.590Z"
   },
   {
    "duration": 583,
    "start_time": "2024-02-24T12:16:08.652Z"
   },
   {
    "duration": 192,
    "start_time": "2024-02-24T12:17:06.030Z"
   },
   {
    "duration": 11,
    "start_time": "2024-02-24T12:17:33.321Z"
   },
   {
    "duration": 353,
    "start_time": "2024-02-24T12:28:12.375Z"
   },
   {
    "duration": 10,
    "start_time": "2024-02-24T12:31:51.852Z"
   },
   {
    "duration": 25,
    "start_time": "2024-02-24T12:32:24.467Z"
   },
   {
    "duration": 10,
    "start_time": "2024-02-24T12:32:34.183Z"
   },
   {
    "duration": 373,
    "start_time": "2024-02-24T12:34:41.244Z"
   },
   {
    "duration": 360,
    "start_time": "2024-02-24T12:35:20.937Z"
   },
   {
    "duration": 220,
    "start_time": "2024-02-24T12:35:28.616Z"
   },
   {
    "duration": 189,
    "start_time": "2024-02-24T12:35:35.863Z"
   },
   {
    "duration": 182,
    "start_time": "2024-02-24T12:35:53.376Z"
   },
   {
    "duration": 252,
    "start_time": "2024-02-24T12:36:01.309Z"
   },
   {
    "duration": 18,
    "start_time": "2024-02-24T12:37:05.281Z"
   },
   {
    "duration": 219,
    "start_time": "2024-02-24T12:38:58.791Z"
   },
   {
    "duration": 191,
    "start_time": "2024-02-24T12:39:04.047Z"
   },
   {
    "duration": 227,
    "start_time": "2024-02-24T12:39:56.816Z"
   },
   {
    "duration": 7,
    "start_time": "2024-02-24T12:42:02.931Z"
   },
   {
    "duration": 5,
    "start_time": "2024-02-24T12:42:41.560Z"
   },
   {
    "duration": 393,
    "start_time": "2024-02-24T12:43:18.237Z"
   },
   {
    "duration": 324,
    "start_time": "2024-02-24T12:43:25.202Z"
   },
   {
    "duration": 17,
    "start_time": "2024-02-24T12:45:50.524Z"
   },
   {
    "duration": 940,
    "start_time": "2024-02-24T12:46:01.283Z"
   },
   {
    "duration": 11,
    "start_time": "2024-02-24T12:47:53.268Z"
   },
   {
    "duration": 11,
    "start_time": "2024-02-24T12:48:19.004Z"
   },
   {
    "duration": 15,
    "start_time": "2024-02-24T12:49:02.346Z"
   },
   {
    "duration": 382,
    "start_time": "2024-02-24T12:51:15.980Z"
   },
   {
    "duration": 395,
    "start_time": "2024-02-24T12:51:47.993Z"
   },
   {
    "duration": 360,
    "start_time": "2024-02-24T12:51:57.326Z"
   },
   {
    "duration": 395,
    "start_time": "2024-02-24T12:52:04.591Z"
   },
   {
    "duration": 689,
    "start_time": "2024-02-24T12:52:18.363Z"
   },
   {
    "duration": 555,
    "start_time": "2024-02-24T12:53:06.814Z"
   },
   {
    "duration": 529,
    "start_time": "2024-02-24T12:53:10.500Z"
   },
   {
    "duration": 622,
    "start_time": "2024-02-24T12:53:17.535Z"
   },
   {
    "duration": 699,
    "start_time": "2024-02-24T12:53:29.148Z"
   },
   {
    "duration": 826,
    "start_time": "2024-02-24T12:57:37.577Z"
   },
   {
    "duration": 1027,
    "start_time": "2024-02-24T12:58:19.762Z"
   },
   {
    "duration": 588,
    "start_time": "2024-02-24T12:59:01.287Z"
   },
   {
    "duration": 6,
    "start_time": "2024-02-24T13:00:40.468Z"
   },
   {
    "duration": 11,
    "start_time": "2024-02-24T13:05:58.222Z"
   },
   {
    "duration": 9,
    "start_time": "2024-02-24T13:06:49.993Z"
   },
   {
    "duration": 8,
    "start_time": "2024-02-24T13:06:55.755Z"
   },
   {
    "duration": 10,
    "start_time": "2024-02-24T13:09:33.977Z"
   },
   {
    "duration": 16,
    "start_time": "2024-02-24T13:10:58.514Z"
   },
   {
    "duration": 2137,
    "start_time": "2024-02-24T13:11:02.884Z"
   },
   {
    "duration": 1993,
    "start_time": "2024-02-24T13:11:26.297Z"
   },
   {
    "duration": 6248,
    "start_time": "2024-02-24T13:11:48.446Z"
   },
   {
    "duration": 5665,
    "start_time": "2024-02-24T13:12:20.036Z"
   },
   {
    "duration": 117,
    "start_time": "2024-02-24T13:13:05.832Z"
   },
   {
    "duration": 125,
    "start_time": "2024-02-24T13:14:02.401Z"
   },
   {
    "duration": 357,
    "start_time": "2024-02-24T13:14:26.502Z"
   },
   {
    "duration": 384,
    "start_time": "2024-02-24T13:16:00.276Z"
   },
   {
    "duration": 507,
    "start_time": "2024-02-24T13:16:22.662Z"
   },
   {
    "duration": 371,
    "start_time": "2024-02-24T13:16:36.191Z"
   },
   {
    "duration": 466,
    "start_time": "2024-02-24T13:16:53.739Z"
   },
   {
    "duration": 473,
    "start_time": "2024-02-24T13:17:08.340Z"
   },
   {
    "duration": 575,
    "start_time": "2024-02-24T13:17:13.784Z"
   },
   {
    "duration": 458,
    "start_time": "2024-02-24T13:17:32.788Z"
   },
   {
    "duration": 415,
    "start_time": "2024-02-24T13:17:38.602Z"
   },
   {
    "duration": 201,
    "start_time": "2024-02-24T13:21:00.992Z"
   },
   {
    "duration": 122,
    "start_time": "2024-02-24T13:21:04.883Z"
   },
   {
    "duration": 119,
    "start_time": "2024-02-24T13:21:11.532Z"
   },
   {
    "duration": 129,
    "start_time": "2024-02-24T13:21:35.831Z"
   },
   {
    "duration": 1731,
    "start_time": "2024-02-24T13:22:09.812Z"
   },
   {
    "duration": 482,
    "start_time": "2024-02-24T13:22:33.454Z"
   },
   {
    "duration": 580,
    "start_time": "2024-02-24T13:22:39.393Z"
   },
   {
    "duration": 551,
    "start_time": "2024-02-24T13:23:13.227Z"
   },
   {
    "duration": 329,
    "start_time": "2024-02-24T13:24:26.944Z"
   },
   {
    "duration": 4,
    "start_time": "2024-02-24T13:25:38.030Z"
   },
   {
    "duration": 1463,
    "start_time": "2024-02-24T13:25:41.228Z"
   },
   {
    "duration": 1295,
    "start_time": "2024-02-24T13:28:04.576Z"
   },
   {
    "duration": 326,
    "start_time": "2024-02-24T13:28:34.759Z"
   },
   {
    "duration": 1185,
    "start_time": "2024-02-24T13:28:40.226Z"
   },
   {
    "duration": 1302,
    "start_time": "2024-02-24T13:28:51.535Z"
   },
   {
    "duration": 1307,
    "start_time": "2024-02-24T13:29:04.326Z"
   },
   {
    "duration": 1185,
    "start_time": "2024-02-24T13:29:07.033Z"
   },
   {
    "duration": 1174,
    "start_time": "2024-02-24T13:29:17.327Z"
   },
   {
    "duration": 1196,
    "start_time": "2024-02-24T13:29:21.715Z"
   },
   {
    "duration": 1305,
    "start_time": "2024-02-24T13:30:40.490Z"
   },
   {
    "duration": 1169,
    "start_time": "2024-02-24T13:30:57.402Z"
   },
   {
    "duration": 1064,
    "start_time": "2024-02-24T13:31:17.828Z"
   },
   {
    "duration": 1260,
    "start_time": "2024-02-24T13:31:23.332Z"
   },
   {
    "duration": 1184,
    "start_time": "2024-02-24T13:31:26.726Z"
   },
   {
    "duration": 1229,
    "start_time": "2024-02-24T13:31:45.558Z"
   },
   {
    "duration": 1133,
    "start_time": "2024-02-24T13:31:49.857Z"
   },
   {
    "duration": 1257,
    "start_time": "2024-02-24T13:31:54.235Z"
   },
   {
    "duration": 1174,
    "start_time": "2024-02-24T13:36:09.331Z"
   },
   {
    "duration": 1222,
    "start_time": "2024-02-24T13:37:38.836Z"
   },
   {
    "duration": 911,
    "start_time": "2024-02-24T13:38:15.986Z"
   },
   {
    "duration": 880,
    "start_time": "2024-02-24T13:38:44.507Z"
   },
   {
    "duration": 571,
    "start_time": "2024-02-24T13:38:49.287Z"
   },
   {
    "duration": 902,
    "start_time": "2024-02-24T13:39:43.363Z"
   },
   {
    "duration": 983,
    "start_time": "2024-02-24T13:39:50.384Z"
   },
   {
    "duration": 563,
    "start_time": "2024-02-24T13:40:03.615Z"
   },
   {
    "duration": 1034,
    "start_time": "2024-02-24T13:40:14.446Z"
   },
   {
    "duration": 1052,
    "start_time": "2024-02-24T13:41:03.241Z"
   },
   {
    "duration": 1032,
    "start_time": "2024-02-24T13:41:10.106Z"
   },
   {
    "duration": 1119,
    "start_time": "2024-02-24T13:41:18.259Z"
   },
   {
    "duration": 1230,
    "start_time": "2024-02-24T13:41:24.139Z"
   },
   {
    "duration": 1138,
    "start_time": "2024-02-24T13:42:06.555Z"
   },
   {
    "duration": 1071,
    "start_time": "2024-02-24T13:42:17.417Z"
   },
   {
    "duration": 1034,
    "start_time": "2024-02-24T13:42:23.385Z"
   },
   {
    "duration": 1212,
    "start_time": "2024-02-24T13:42:28.771Z"
   },
   {
    "duration": 1149,
    "start_time": "2024-02-24T13:43:29.141Z"
   },
   {
    "duration": 4,
    "start_time": "2024-02-24T13:43:42.812Z"
   },
   {
    "duration": 1222,
    "start_time": "2024-02-24T13:43:53.877Z"
   },
   {
    "duration": 1125,
    "start_time": "2024-02-24T13:44:03.547Z"
   },
   {
    "duration": 1168,
    "start_time": "2024-02-24T13:45:32.032Z"
   },
   {
    "duration": 1254,
    "start_time": "2024-02-24T13:46:00.463Z"
   },
   {
    "duration": 1152,
    "start_time": "2024-02-24T13:47:33.656Z"
   },
   {
    "duration": 1382,
    "start_time": "2024-02-24T13:48:06.610Z"
   },
   {
    "duration": 332,
    "start_time": "2024-02-24T13:54:00.082Z"
   },
   {
    "duration": 284,
    "start_time": "2024-02-24T13:54:04.629Z"
   },
   {
    "duration": 559,
    "start_time": "2024-02-24T13:54:19.125Z"
   },
   {
    "duration": 561,
    "start_time": "2024-02-24T13:54:23.628Z"
   },
   {
    "duration": 728,
    "start_time": "2024-02-24T13:54:32.055Z"
   },
   {
    "duration": 545,
    "start_time": "2024-02-24T13:54:50.093Z"
   },
   {
    "duration": 575,
    "start_time": "2024-02-24T13:55:04.559Z"
   },
   {
    "duration": 1142,
    "start_time": "2024-02-24T14:00:54.477Z"
   },
   {
    "duration": 1297,
    "start_time": "2024-02-24T14:01:11.591Z"
   },
   {
    "duration": 1170,
    "start_time": "2024-02-24T14:01:23.611Z"
   },
   {
    "duration": 1128,
    "start_time": "2024-02-24T14:01:36.359Z"
   },
   {
    "duration": 1233,
    "start_time": "2024-02-24T14:01:58.860Z"
   },
   {
    "duration": 1143,
    "start_time": "2024-02-24T14:02:14.192Z"
   },
   {
    "duration": 1247,
    "start_time": "2024-02-24T14:02:19.649Z"
   },
   {
    "duration": 534,
    "start_time": "2024-02-24T14:11:27.411Z"
   },
   {
    "duration": 573,
    "start_time": "2024-02-24T14:13:31.284Z"
   },
   {
    "duration": 517,
    "start_time": "2024-02-24T14:13:43.109Z"
   },
   {
    "duration": 3,
    "start_time": "2024-02-24T14:13:53.717Z"
   },
   {
    "duration": 7751,
    "start_time": "2024-02-24T14:13:56.062Z"
   },
   {
    "duration": 1236,
    "start_time": "2024-02-24T14:17:08.682Z"
   },
   {
    "duration": 6151,
    "start_time": "2024-02-24T14:18:37.328Z"
   },
   {
    "duration": 17362,
    "start_time": "2024-02-24T14:19:22.143Z"
   },
   {
    "duration": 0,
    "start_time": "2024-02-24T14:21:26.374Z"
   },
   {
    "duration": 1201,
    "start_time": "2024-02-24T14:22:03.761Z"
   },
   {
    "duration": 143,
    "start_time": "2024-02-24T14:22:04.963Z"
   },
   {
    "duration": 75,
    "start_time": "2024-02-24T14:22:05.109Z"
   },
   {
    "duration": 5,
    "start_time": "2024-02-24T14:22:05.185Z"
   },
   {
    "duration": 12,
    "start_time": "2024-02-24T14:22:05.191Z"
   },
   {
    "duration": 7,
    "start_time": "2024-02-24T14:22:05.204Z"
   },
   {
    "duration": 53,
    "start_time": "2024-02-24T14:22:05.213Z"
   },
   {
    "duration": 22,
    "start_time": "2024-02-24T14:22:05.268Z"
   },
   {
    "duration": 9,
    "start_time": "2024-02-24T14:22:05.293Z"
   },
   {
    "duration": 13,
    "start_time": "2024-02-24T14:22:05.303Z"
   },
   {
    "duration": 29,
    "start_time": "2024-02-24T14:22:05.318Z"
   },
   {
    "duration": 4,
    "start_time": "2024-02-24T14:22:05.348Z"
   },
   {
    "duration": 11,
    "start_time": "2024-02-24T14:22:05.365Z"
   },
   {
    "duration": 7542,
    "start_time": "2024-02-24T14:22:05.378Z"
   },
   {
    "duration": 1111,
    "start_time": "2024-02-24T14:22:52.665Z"
   },
   {
    "duration": 145,
    "start_time": "2024-02-24T14:22:53.778Z"
   },
   {
    "duration": 75,
    "start_time": "2024-02-24T14:22:53.925Z"
   },
   {
    "duration": 5,
    "start_time": "2024-02-24T14:22:54.002Z"
   },
   {
    "duration": 8,
    "start_time": "2024-02-24T14:22:54.010Z"
   },
   {
    "duration": 4,
    "start_time": "2024-02-24T14:22:54.020Z"
   },
   {
    "duration": 62,
    "start_time": "2024-02-24T14:22:54.025Z"
   },
   {
    "duration": 21,
    "start_time": "2024-02-24T14:22:54.088Z"
   },
   {
    "duration": 8,
    "start_time": "2024-02-24T14:22:54.111Z"
   },
   {
    "duration": 11,
    "start_time": "2024-02-24T14:22:54.121Z"
   },
   {
    "duration": 32,
    "start_time": "2024-02-24T14:22:54.134Z"
   },
   {
    "duration": 3,
    "start_time": "2024-02-24T14:22:54.167Z"
   },
   {
    "duration": 14,
    "start_time": "2024-02-24T14:22:54.171Z"
   },
   {
    "duration": 7535,
    "start_time": "2024-02-24T14:22:54.187Z"
   },
   {
    "duration": 6,
    "start_time": "2024-02-24T14:23:01.724Z"
   },
   {
    "duration": 1167,
    "start_time": "2024-02-24T14:23:01.731Z"
   },
   {
    "duration": 210,
    "start_time": "2024-02-24T14:32:47.816Z"
   },
   {
    "duration": 354,
    "start_time": "2024-02-24T14:32:57.542Z"
   },
   {
    "duration": 1284,
    "start_time": "2024-02-24T14:49:49.319Z"
   },
   {
    "duration": 1895,
    "start_time": "2024-02-24T14:50:07.686Z"
   },
   {
    "duration": 1333,
    "start_time": "2024-02-24T14:50:20.981Z"
   },
   {
    "duration": 206,
    "start_time": "2024-02-24T14:52:55.327Z"
   },
   {
    "duration": 136,
    "start_time": "2024-02-24T14:53:10.259Z"
   },
   {
    "duration": 218,
    "start_time": "2024-02-24T14:54:06.641Z"
   },
   {
    "duration": 89,
    "start_time": "2024-02-24T14:54:10.445Z"
   },
   {
    "duration": 109,
    "start_time": "2024-02-24T14:54:28.621Z"
   },
   {
    "duration": 111,
    "start_time": "2024-02-24T14:54:35.035Z"
   },
   {
    "duration": 153,
    "start_time": "2024-02-24T14:54:40.861Z"
   },
   {
    "duration": 141,
    "start_time": "2024-02-24T14:54:46.556Z"
   },
   {
    "duration": 29,
    "start_time": "2024-02-24T15:00:11.360Z"
   },
   {
    "duration": 28,
    "start_time": "2024-02-24T15:00:18.510Z"
   },
   {
    "duration": 47,
    "start_time": "2024-02-24T15:02:11.622Z"
   },
   {
    "duration": 2,
    "start_time": "2024-02-24T15:02:30.077Z"
   },
   {
    "duration": 7,
    "start_time": "2024-02-24T15:02:32.649Z"
   },
   {
    "duration": 1102,
    "start_time": "2024-02-24T15:02:46.788Z"
   },
   {
    "duration": 141,
    "start_time": "2024-02-24T15:02:47.891Z"
   },
   {
    "duration": 75,
    "start_time": "2024-02-24T15:02:48.034Z"
   },
   {
    "duration": 5,
    "start_time": "2024-02-24T15:02:48.110Z"
   },
   {
    "duration": 15,
    "start_time": "2024-02-24T15:02:48.117Z"
   },
   {
    "duration": 4,
    "start_time": "2024-02-24T15:02:48.133Z"
   },
   {
    "duration": 43,
    "start_time": "2024-02-24T15:02:48.138Z"
   },
   {
    "duration": 20,
    "start_time": "2024-02-24T15:02:48.183Z"
   },
   {
    "duration": 7,
    "start_time": "2024-02-24T15:02:48.205Z"
   },
   {
    "duration": 14,
    "start_time": "2024-02-24T15:02:48.214Z"
   },
   {
    "duration": 6,
    "start_time": "2024-02-24T15:02:48.229Z"
   },
   {
    "duration": 29,
    "start_time": "2024-02-24T15:02:48.236Z"
   },
   {
    "duration": 13,
    "start_time": "2024-02-24T15:02:48.267Z"
   },
   {
    "duration": 7501,
    "start_time": "2024-02-24T15:02:48.282Z"
   },
   {
    "duration": 27,
    "start_time": "2024-02-24T15:02:55.785Z"
   },
   {
    "duration": 6,
    "start_time": "2024-02-24T15:02:55.813Z"
   },
   {
    "duration": 1175,
    "start_time": "2024-02-24T15:02:55.820Z"
   },
   {
    "duration": 3,
    "start_time": "2024-02-24T15:07:06.434Z"
   },
   {
    "duration": 26,
    "start_time": "2024-02-24T15:08:33.224Z"
   },
   {
    "duration": 7582,
    "start_time": "2024-02-24T15:16:46.186Z"
   },
   {
    "duration": 5,
    "start_time": "2024-02-24T15:18:36.890Z"
   },
   {
    "duration": 26,
    "start_time": "2024-02-24T15:19:54.572Z"
   },
   {
    "duration": 17,
    "start_time": "2024-02-24T16:02:06.742Z"
   },
   {
    "duration": 6,
    "start_time": "2024-02-24T16:02:13.997Z"
   },
   {
    "duration": 17,
    "start_time": "2024-02-24T16:05:01.734Z"
   },
   {
    "duration": 6,
    "start_time": "2024-02-24T16:05:02.318Z"
   },
   {
    "duration": 14,
    "start_time": "2024-02-24T16:05:17.833Z"
   },
   {
    "duration": 7,
    "start_time": "2024-02-24T16:05:18.404Z"
   },
   {
    "duration": 14,
    "start_time": "2024-02-24T16:05:25.709Z"
   },
   {
    "duration": 6,
    "start_time": "2024-02-24T16:05:26.461Z"
   },
   {
    "duration": 16,
    "start_time": "2024-02-24T16:05:37.894Z"
   },
   {
    "duration": 7,
    "start_time": "2024-02-24T16:05:38.476Z"
   },
   {
    "duration": 5988,
    "start_time": "2024-02-24T16:08:45.548Z"
   },
   {
    "duration": 174,
    "start_time": "2024-02-24T16:10:22.384Z"
   },
   {
    "duration": 685,
    "start_time": "2024-02-24T16:10:26.973Z"
   },
   {
    "duration": 306,
    "start_time": "2024-02-24T16:10:48.297Z"
   },
   {
    "duration": 1562,
    "start_time": "2024-02-24T16:11:05.212Z"
   },
   {
    "duration": 153,
    "start_time": "2024-02-24T16:11:11.796Z"
   },
   {
    "duration": 6481,
    "start_time": "2024-02-24T16:11:28.088Z"
   },
   {
    "duration": 4,
    "start_time": "2024-02-24T16:14:10.201Z"
   },
   {
    "duration": 281,
    "start_time": "2024-02-24T16:20:33.008Z"
   },
   {
    "duration": 229,
    "start_time": "2024-02-24T16:20:56.016Z"
   },
   {
    "duration": 260,
    "start_time": "2024-02-24T16:22:39.628Z"
   },
   {
    "duration": 1092,
    "start_time": "2024-02-24T16:23:37.404Z"
   },
   {
    "duration": 13,
    "start_time": "2024-02-24T16:23:52.671Z"
   },
   {
    "duration": 19,
    "start_time": "2024-02-24T16:24:03.260Z"
   },
   {
    "duration": 104,
    "start_time": "2024-02-24T16:24:59.263Z"
   },
   {
    "duration": 137,
    "start_time": "2024-02-24T16:25:23.660Z"
   },
   {
    "duration": 11,
    "start_time": "2024-02-24T16:26:17.965Z"
   },
   {
    "duration": 3,
    "start_time": "2024-02-24T16:27:10.979Z"
   },
   {
    "duration": 194,
    "start_time": "2024-02-24T16:27:13.927Z"
   },
   {
    "duration": 3,
    "start_time": "2024-02-24T16:27:28.596Z"
   },
   {
    "duration": 93,
    "start_time": "2024-02-24T16:31:02.721Z"
   },
   {
    "duration": 3,
    "start_time": "2024-02-24T16:31:06.398Z"
   },
   {
    "duration": 27,
    "start_time": "2024-02-24T16:31:09.772Z"
   },
   {
    "duration": 107,
    "start_time": "2024-02-24T16:32:15.716Z"
   },
   {
    "duration": 93,
    "start_time": "2024-02-24T16:33:26.830Z"
   },
   {
    "duration": 90,
    "start_time": "2024-02-24T16:33:37.797Z"
   },
   {
    "duration": 25,
    "start_time": "2024-02-24T16:34:04.886Z"
   },
   {
    "duration": 105,
    "start_time": "2024-02-24T16:34:13.442Z"
   },
   {
    "duration": 12,
    "start_time": "2024-02-24T16:34:31.964Z"
   },
   {
    "duration": 1088,
    "start_time": "2024-02-24T16:34:38.318Z"
   },
   {
    "duration": 8,
    "start_time": "2024-02-24T16:34:45.535Z"
   },
   {
    "duration": 28,
    "start_time": "2024-02-24T16:35:01.022Z"
   },
   {
    "duration": 7,
    "start_time": "2024-02-24T16:35:18.507Z"
   },
   {
    "duration": 78,
    "start_time": "2024-02-24T16:38:23.646Z"
   },
   {
    "duration": 15,
    "start_time": "2024-02-24T16:38:34.251Z"
   },
   {
    "duration": 7,
    "start_time": "2024-02-24T16:38:35.920Z"
   },
   {
    "duration": 17,
    "start_time": "2024-02-24T16:40:29.231Z"
   },
   {
    "duration": 7,
    "start_time": "2024-02-24T16:40:30.093Z"
   },
   {
    "duration": 32,
    "start_time": "2024-02-24T16:42:40.798Z"
   },
   {
    "duration": 7,
    "start_time": "2024-02-24T16:42:43.004Z"
   },
   {
    "duration": 32,
    "start_time": "2024-02-24T16:44:03.342Z"
   },
   {
    "duration": 11,
    "start_time": "2024-02-24T16:44:03.856Z"
   },
   {
    "duration": 40,
    "start_time": "2024-02-24T16:45:19.537Z"
   },
   {
    "duration": 10,
    "start_time": "2024-02-24T16:45:36.334Z"
   },
   {
    "duration": 52,
    "start_time": "2024-02-24T16:46:07.655Z"
   },
   {
    "duration": 45,
    "start_time": "2024-02-24T16:46:28.567Z"
   },
   {
    "duration": 49,
    "start_time": "2024-02-24T16:46:44.723Z"
   },
   {
    "duration": 50,
    "start_time": "2024-02-24T16:46:56.391Z"
   },
   {
    "duration": 49,
    "start_time": "2024-02-24T16:47:04.662Z"
   },
   {
    "duration": 39,
    "start_time": "2024-02-24T16:47:34.859Z"
   },
   {
    "duration": 39,
    "start_time": "2024-02-24T16:48:09.154Z"
   },
   {
    "duration": 34,
    "start_time": "2024-02-24T16:54:12.448Z"
   },
   {
    "duration": 35,
    "start_time": "2024-02-24T16:54:54.959Z"
   },
   {
    "duration": 32,
    "start_time": "2024-02-24T16:56:17.929Z"
   },
   {
    "duration": 38,
    "start_time": "2024-02-24T16:58:26.427Z"
   },
   {
    "duration": 25,
    "start_time": "2024-02-24T17:01:38.792Z"
   },
   {
    "duration": 22,
    "start_time": "2024-02-24T17:05:11.706Z"
   },
   {
    "duration": 19,
    "start_time": "2024-02-24T17:05:17.422Z"
   },
   {
    "duration": 15,
    "start_time": "2024-02-24T17:06:56.097Z"
   },
   {
    "duration": 13,
    "start_time": "2024-02-24T17:07:36.517Z"
   },
   {
    "duration": 20,
    "start_time": "2024-02-24T17:07:40.896Z"
   },
   {
    "duration": 21,
    "start_time": "2024-02-24T17:08:11.757Z"
   },
   {
    "duration": 8,
    "start_time": "2024-02-24T17:13:49.761Z"
   },
   {
    "duration": 20,
    "start_time": "2024-02-24T17:13:54.971Z"
   },
   {
    "duration": 10,
    "start_time": "2024-02-24T17:15:12.466Z"
   },
   {
    "duration": 25,
    "start_time": "2024-02-24T17:18:47.253Z"
   },
   {
    "duration": 71,
    "start_time": "2024-02-24T17:27:05.679Z"
   },
   {
    "duration": 66,
    "start_time": "2024-02-24T17:28:32.543Z"
   },
   {
    "duration": 78,
    "start_time": "2024-02-24T17:29:23.768Z"
   },
   {
    "duration": 74,
    "start_time": "2024-02-24T17:29:52.258Z"
   },
   {
    "duration": 83,
    "start_time": "2024-02-24T17:30:09.085Z"
   },
   {
    "duration": 179,
    "start_time": "2024-02-24T17:30:12.453Z"
   },
   {
    "duration": 128,
    "start_time": "2024-02-24T17:30:15.076Z"
   },
   {
    "duration": 1024,
    "start_time": "2024-02-24T17:30:55.642Z"
   },
   {
    "duration": 6,
    "start_time": "2024-02-24T17:31:19.022Z"
   },
   {
    "duration": 14,
    "start_time": "2024-02-24T17:31:35.248Z"
   },
   {
    "duration": 8216,
    "start_time": "2024-02-24T17:31:43.188Z"
   },
   {
    "duration": 25,
    "start_time": "2024-02-24T17:32:09.368Z"
   },
   {
    "duration": 5,
    "start_time": "2024-02-24T17:32:27.662Z"
   },
   {
    "duration": 3,
    "start_time": "2024-02-24T17:32:30.761Z"
   },
   {
    "duration": 78,
    "start_time": "2024-02-24T17:32:30.766Z"
   },
   {
    "duration": 71,
    "start_time": "2024-02-24T17:32:30.845Z"
   },
   {
    "duration": 4,
    "start_time": "2024-02-24T17:32:30.918Z"
   },
   {
    "duration": 37,
    "start_time": "2024-02-24T17:32:30.924Z"
   },
   {
    "duration": 36,
    "start_time": "2024-02-24T17:32:30.963Z"
   },
   {
    "duration": 60,
    "start_time": "2024-02-24T17:32:31.001Z"
   },
   {
    "duration": 39,
    "start_time": "2024-02-24T17:32:31.063Z"
   },
   {
    "duration": 27,
    "start_time": "2024-02-24T17:32:31.104Z"
   },
   {
    "duration": 48,
    "start_time": "2024-02-24T17:32:31.133Z"
   },
   {
    "duration": 61,
    "start_time": "2024-02-24T17:32:31.183Z"
   },
   {
    "duration": 121,
    "start_time": "2024-02-24T17:32:31.246Z"
   },
   {
    "duration": 1063,
    "start_time": "2024-02-24T17:32:32.478Z"
   },
   {
    "duration": 6,
    "start_time": "2024-02-24T17:32:34.327Z"
   },
   {
    "duration": 3,
    "start_time": "2024-02-24T17:32:54.850Z"
   },
   {
    "duration": 38,
    "start_time": "2024-02-24T17:32:54.855Z"
   },
   {
    "duration": 65,
    "start_time": "2024-02-24T17:32:54.894Z"
   },
   {
    "duration": 6,
    "start_time": "2024-02-24T17:32:54.960Z"
   },
   {
    "duration": 6,
    "start_time": "2024-02-24T17:32:54.968Z"
   },
   {
    "duration": 3,
    "start_time": "2024-02-24T17:32:54.975Z"
   },
   {
    "duration": 28,
    "start_time": "2024-02-24T17:32:54.980Z"
   },
   {
    "duration": 20,
    "start_time": "2024-02-24T17:32:55.010Z"
   },
   {
    "duration": 34,
    "start_time": "2024-02-24T17:32:55.031Z"
   },
   {
    "duration": 11,
    "start_time": "2024-02-24T17:32:55.067Z"
   },
   {
    "duration": 6,
    "start_time": "2024-02-24T17:32:55.080Z"
   },
   {
    "duration": 23,
    "start_time": "2024-02-24T17:32:55.087Z"
   },
   {
    "duration": 1088,
    "start_time": "2024-02-24T17:32:55.112Z"
   },
   {
    "duration": 1084,
    "start_time": "2024-02-24T17:32:56.977Z"
   },
   {
    "duration": 6,
    "start_time": "2024-02-24T17:32:58.794Z"
   },
   {
    "duration": 3,
    "start_time": "2024-02-24T17:33:08.768Z"
   },
   {
    "duration": 38,
    "start_time": "2024-02-24T17:33:08.773Z"
   },
   {
    "duration": 76,
    "start_time": "2024-02-24T17:33:08.812Z"
   },
   {
    "duration": 4,
    "start_time": "2024-02-24T17:33:08.890Z"
   },
   {
    "duration": 11,
    "start_time": "2024-02-24T17:33:08.896Z"
   },
   {
    "duration": 4,
    "start_time": "2024-02-24T17:33:08.910Z"
   },
   {
    "duration": 61,
    "start_time": "2024-02-24T17:33:08.915Z"
   },
   {
    "duration": 26,
    "start_time": "2024-02-24T17:33:08.978Z"
   },
   {
    "duration": 8,
    "start_time": "2024-02-24T17:33:09.006Z"
   },
   {
    "duration": 25,
    "start_time": "2024-02-24T17:33:09.015Z"
   },
   {
    "duration": 6,
    "start_time": "2024-02-24T17:33:09.042Z"
   },
   {
    "duration": 36,
    "start_time": "2024-02-24T17:33:09.049Z"
   },
   {
    "duration": 1154,
    "start_time": "2024-02-24T17:33:09.086Z"
   },
   {
    "duration": 1074,
    "start_time": "2024-02-24T17:33:10.492Z"
   },
   {
    "duration": 5,
    "start_time": "2024-02-24T17:33:12.230Z"
   },
   {
    "duration": 3,
    "start_time": "2024-02-24T17:33:17.214Z"
   },
   {
    "duration": 11,
    "start_time": "2024-02-24T17:33:17.577Z"
   },
   {
    "duration": 7725,
    "start_time": "2024-02-24T17:33:22.434Z"
   },
   {
    "duration": 24,
    "start_time": "2024-02-24T17:33:35.339Z"
   },
   {
    "duration": 3,
    "start_time": "2024-02-24T17:34:25.886Z"
   },
   {
    "duration": 44,
    "start_time": "2024-02-24T17:34:25.892Z"
   },
   {
    "duration": 80,
    "start_time": "2024-02-24T17:34:25.939Z"
   },
   {
    "duration": 5,
    "start_time": "2024-02-24T17:34:26.021Z"
   },
   {
    "duration": 8,
    "start_time": "2024-02-24T17:34:26.028Z"
   },
   {
    "duration": 3,
    "start_time": "2024-02-24T17:34:26.038Z"
   },
   {
    "duration": 33,
    "start_time": "2024-02-24T17:34:26.065Z"
   },
   {
    "duration": 21,
    "start_time": "2024-02-24T17:34:26.099Z"
   },
   {
    "duration": 8,
    "start_time": "2024-02-24T17:34:26.122Z"
   },
   {
    "duration": 38,
    "start_time": "2024-02-24T17:34:26.131Z"
   },
   {
    "duration": 11,
    "start_time": "2024-02-24T17:34:26.171Z"
   },
   {
    "duration": 24,
    "start_time": "2024-02-24T17:34:26.183Z"
   },
   {
    "duration": 1079,
    "start_time": "2024-02-24T17:34:26.208Z"
   },
   {
    "duration": 1135,
    "start_time": "2024-02-24T17:34:28.135Z"
   },
   {
    "duration": 7,
    "start_time": "2024-02-24T17:34:29.867Z"
   },
   {
    "duration": 4,
    "start_time": "2024-02-24T17:34:49.721Z"
   },
   {
    "duration": 43,
    "start_time": "2024-02-24T17:34:49.727Z"
   },
   {
    "duration": 93,
    "start_time": "2024-02-24T17:34:49.772Z"
   },
   {
    "duration": 5,
    "start_time": "2024-02-24T17:34:49.867Z"
   },
   {
    "duration": 6,
    "start_time": "2024-02-24T17:34:49.873Z"
   },
   {
    "duration": 3,
    "start_time": "2024-02-24T17:34:49.881Z"
   },
   {
    "duration": 32,
    "start_time": "2024-02-24T17:34:49.885Z"
   },
   {
    "duration": 60,
    "start_time": "2024-02-24T17:34:49.919Z"
   },
   {
    "duration": 9,
    "start_time": "2024-02-24T17:34:49.981Z"
   },
   {
    "duration": 14,
    "start_time": "2024-02-24T17:34:49.992Z"
   },
   {
    "duration": 7,
    "start_time": "2024-02-24T17:34:50.007Z"
   },
   {
    "duration": 53,
    "start_time": "2024-02-24T17:34:50.015Z"
   },
   {
    "duration": 1079,
    "start_time": "2024-02-24T17:34:50.069Z"
   },
   {
    "duration": 1068,
    "start_time": "2024-02-24T17:34:51.920Z"
   },
   {
    "duration": 7,
    "start_time": "2024-02-24T17:34:53.859Z"
   },
   {
    "duration": 4,
    "start_time": "2024-02-24T17:35:15.239Z"
   },
   {
    "duration": 56,
    "start_time": "2024-02-24T17:35:15.245Z"
   },
   {
    "duration": 70,
    "start_time": "2024-02-24T17:35:15.303Z"
   },
   {
    "duration": 5,
    "start_time": "2024-02-24T17:35:15.375Z"
   },
   {
    "duration": 15,
    "start_time": "2024-02-24T17:35:15.381Z"
   },
   {
    "duration": 20,
    "start_time": "2024-02-24T17:35:15.397Z"
   },
   {
    "duration": 39,
    "start_time": "2024-02-24T17:35:15.418Z"
   },
   {
    "duration": 21,
    "start_time": "2024-02-24T17:35:15.458Z"
   },
   {
    "duration": 8,
    "start_time": "2024-02-24T17:35:15.481Z"
   },
   {
    "duration": 13,
    "start_time": "2024-02-24T17:35:15.490Z"
   },
   {
    "duration": 7,
    "start_time": "2024-02-24T17:35:15.504Z"
   },
   {
    "duration": 59,
    "start_time": "2024-02-24T17:35:15.513Z"
   },
   {
    "duration": 2,
    "start_time": "2024-02-24T17:35:17.585Z"
   },
   {
    "duration": 5,
    "start_time": "2024-02-24T17:35:24.104Z"
   },
   {
    "duration": 4,
    "start_time": "2024-02-24T17:35:51.338Z"
   },
   {
    "duration": 55,
    "start_time": "2024-02-24T17:35:51.343Z"
   },
   {
    "duration": 65,
    "start_time": "2024-02-24T17:35:51.400Z"
   },
   {
    "duration": 4,
    "start_time": "2024-02-24T17:35:51.466Z"
   },
   {
    "duration": 10,
    "start_time": "2024-02-24T17:35:51.472Z"
   },
   {
    "duration": 4,
    "start_time": "2024-02-24T17:35:51.484Z"
   },
   {
    "duration": 28,
    "start_time": "2024-02-24T17:35:51.489Z"
   },
   {
    "duration": 19,
    "start_time": "2024-02-24T17:35:51.519Z"
   },
   {
    "duration": 29,
    "start_time": "2024-02-24T17:35:51.540Z"
   },
   {
    "duration": 11,
    "start_time": "2024-02-24T17:35:51.571Z"
   },
   {
    "duration": 5,
    "start_time": "2024-02-24T17:35:51.584Z"
   },
   {
    "duration": 26,
    "start_time": "2024-02-24T17:35:51.590Z"
   },
   {
    "duration": 2,
    "start_time": "2024-02-24T17:35:51.618Z"
   },
   {
    "duration": 2,
    "start_time": "2024-02-24T17:35:52.687Z"
   },
   {
    "duration": 5,
    "start_time": "2024-02-24T17:35:53.038Z"
   },
   {
    "duration": 4,
    "start_time": "2024-02-24T17:36:19.160Z"
   },
   {
    "duration": 43,
    "start_time": "2024-02-24T17:36:19.166Z"
   },
   {
    "duration": 72,
    "start_time": "2024-02-24T17:36:19.211Z"
   },
   {
    "duration": 5,
    "start_time": "2024-02-24T17:36:19.284Z"
   },
   {
    "duration": 10,
    "start_time": "2024-02-24T17:36:19.292Z"
   },
   {
    "duration": 4,
    "start_time": "2024-02-24T17:36:19.304Z"
   },
   {
    "duration": 31,
    "start_time": "2024-02-24T17:36:19.309Z"
   },
   {
    "duration": 22,
    "start_time": "2024-02-24T17:36:19.364Z"
   },
   {
    "duration": 8,
    "start_time": "2024-02-24T17:36:19.388Z"
   },
   {
    "duration": 12,
    "start_time": "2024-02-24T17:36:19.397Z"
   },
   {
    "duration": 9,
    "start_time": "2024-02-24T17:36:19.410Z"
   },
   {
    "duration": 57,
    "start_time": "2024-02-24T17:36:19.420Z"
   },
   {
    "duration": 2,
    "start_time": "2024-02-24T17:36:19.479Z"
   },
   {
    "duration": 2,
    "start_time": "2024-02-24T17:36:20.458Z"
   },
   {
    "duration": 6,
    "start_time": "2024-02-24T17:36:20.857Z"
   },
   {
    "duration": 4,
    "start_time": "2024-02-24T17:36:29.810Z"
   },
   {
    "duration": 37,
    "start_time": "2024-02-24T17:36:29.816Z"
   },
   {
    "duration": 71,
    "start_time": "2024-02-24T17:36:29.855Z"
   },
   {
    "duration": 4,
    "start_time": "2024-02-24T17:36:29.927Z"
   },
   {
    "duration": 10,
    "start_time": "2024-02-24T17:36:29.933Z"
   },
   {
    "duration": 22,
    "start_time": "2024-02-24T17:36:29.944Z"
   },
   {
    "duration": 30,
    "start_time": "2024-02-24T17:36:29.968Z"
   },
   {
    "duration": 21,
    "start_time": "2024-02-24T17:36:29.999Z"
   },
   {
    "duration": 27,
    "start_time": "2024-02-24T17:36:30.022Z"
   },
   {
    "duration": 40,
    "start_time": "2024-02-24T17:36:30.051Z"
   },
   {
    "duration": 17,
    "start_time": "2024-02-24T17:36:30.093Z"
   },
   {
    "duration": 55,
    "start_time": "2024-02-24T17:36:30.111Z"
   },
   {
    "duration": 3,
    "start_time": "2024-02-24T17:36:30.167Z"
   },
   {
    "duration": 3,
    "start_time": "2024-02-24T17:36:31.208Z"
   },
   {
    "duration": 6,
    "start_time": "2024-02-24T17:36:31.840Z"
   },
   {
    "duration": 4,
    "start_time": "2024-02-24T17:36:45.659Z"
   },
   {
    "duration": 36,
    "start_time": "2024-02-24T17:36:45.664Z"
   },
   {
    "duration": 70,
    "start_time": "2024-02-24T17:36:45.702Z"
   },
   {
    "duration": 6,
    "start_time": "2024-02-24T17:36:45.774Z"
   },
   {
    "duration": 7,
    "start_time": "2024-02-24T17:36:45.783Z"
   },
   {
    "duration": 4,
    "start_time": "2024-02-24T17:36:45.792Z"
   },
   {
    "duration": 30,
    "start_time": "2024-02-24T17:36:45.798Z"
   },
   {
    "duration": 53,
    "start_time": "2024-02-24T17:36:45.830Z"
   },
   {
    "duration": 9,
    "start_time": "2024-02-24T17:36:45.885Z"
   },
   {
    "duration": 12,
    "start_time": "2024-02-24T17:36:45.896Z"
   },
   {
    "duration": 8,
    "start_time": "2024-02-24T17:36:45.910Z"
   },
   {
    "duration": 61,
    "start_time": "2024-02-24T17:36:45.919Z"
   },
   {
    "duration": 5,
    "start_time": "2024-02-24T17:36:49.150Z"
   },
   {
    "duration": 4,
    "start_time": "2024-02-24T17:36:54.010Z"
   },
   {
    "duration": 11,
    "start_time": "2024-02-24T17:37:02.611Z"
   },
   {
    "duration": 5,
    "start_time": "2024-02-24T19:24:39.913Z"
   },
   {
    "duration": 41,
    "start_time": "2024-02-24T19:24:39.920Z"
   },
   {
    "duration": 74,
    "start_time": "2024-02-24T19:24:39.963Z"
   },
   {
    "duration": 28,
    "start_time": "2024-02-24T19:24:40.038Z"
   },
   {
    "duration": 8,
    "start_time": "2024-02-24T19:24:40.067Z"
   },
   {
    "duration": 5,
    "start_time": "2024-02-24T19:24:40.077Z"
   },
   {
    "duration": 49,
    "start_time": "2024-02-24T19:24:40.084Z"
   },
   {
    "duration": 46,
    "start_time": "2024-02-24T19:24:40.135Z"
   },
   {
    "duration": 9,
    "start_time": "2024-02-24T19:24:40.183Z"
   },
   {
    "duration": 18,
    "start_time": "2024-02-24T19:24:40.193Z"
   },
   {
    "duration": 7,
    "start_time": "2024-02-24T19:24:40.212Z"
   },
   {
    "duration": 60,
    "start_time": "2024-02-24T19:24:40.221Z"
   },
   {
    "duration": 3,
    "start_time": "2024-02-24T19:24:40.283Z"
   },
   {
    "duration": 3,
    "start_time": "2024-02-24T19:24:41.494Z"
   },
   {
    "duration": 5,
    "start_time": "2024-02-24T19:24:42.428Z"
   },
   {
    "duration": 5,
    "start_time": "2024-02-24T19:24:53.161Z"
   },
   {
    "duration": 6,
    "start_time": "2024-02-24T19:27:23.379Z"
   },
   {
    "duration": 11,
    "start_time": "2024-02-24T19:27:40.780Z"
   },
   {
    "duration": 4,
    "start_time": "2024-02-24T19:28:05.434Z"
   },
   {
    "duration": 4,
    "start_time": "2024-02-24T19:28:11.225Z"
   },
   {
    "duration": 4,
    "start_time": "2024-02-24T19:28:57.886Z"
   },
   {
    "duration": 3,
    "start_time": "2024-02-24T19:29:01.711Z"
   },
   {
    "duration": 4,
    "start_time": "2024-02-24T19:29:13.601Z"
   },
   {
    "duration": 4,
    "start_time": "2024-02-24T19:29:19.755Z"
   },
   {
    "duration": 11,
    "start_time": "2024-02-24T19:29:19.892Z"
   },
   {
    "duration": 8,
    "start_time": "2024-02-24T19:30:49.792Z"
   },
   {
    "duration": 20,
    "start_time": "2024-02-24T19:32:04.803Z"
   },
   {
    "duration": 67,
    "start_time": "2024-02-24T19:33:59.511Z"
   },
   {
    "duration": 8,
    "start_time": "2024-02-24T19:35:12.390Z"
   },
   {
    "duration": 8,
    "start_time": "2024-02-24T19:35:26.865Z"
   },
   {
    "duration": 29,
    "start_time": "2024-02-24T19:35:29.504Z"
   },
   {
    "duration": 4,
    "start_time": "2024-02-24T19:37:18.771Z"
   },
   {
    "duration": 36,
    "start_time": "2024-02-24T19:37:18.777Z"
   },
   {
    "duration": 76,
    "start_time": "2024-02-24T19:37:18.815Z"
   },
   {
    "duration": 5,
    "start_time": "2024-02-24T19:37:18.892Z"
   },
   {
    "duration": 8,
    "start_time": "2024-02-24T19:37:18.899Z"
   },
   {
    "duration": 4,
    "start_time": "2024-02-24T19:37:18.909Z"
   },
   {
    "duration": 62,
    "start_time": "2024-02-24T19:37:18.915Z"
   },
   {
    "duration": 24,
    "start_time": "2024-02-24T19:37:18.979Z"
   },
   {
    "duration": 9,
    "start_time": "2024-02-24T19:37:19.005Z"
   },
   {
    "duration": 18,
    "start_time": "2024-02-24T19:37:19.015Z"
   },
   {
    "duration": 30,
    "start_time": "2024-02-24T19:37:19.035Z"
   },
   {
    "duration": 26,
    "start_time": "2024-02-24T19:37:19.067Z"
   },
   {
    "duration": 2,
    "start_time": "2024-02-24T19:37:19.095Z"
   },
   {
    "duration": 2,
    "start_time": "2024-02-24T19:37:25.234Z"
   },
   {
    "duration": 9,
    "start_time": "2024-02-24T19:37:25.700Z"
   },
   {
    "duration": 30,
    "start_time": "2024-02-24T19:37:27.253Z"
   },
   {
    "duration": 11,
    "start_time": "2024-02-24T19:37:54.569Z"
   },
   {
    "duration": 8255,
    "start_time": "2024-02-24T19:39:50.718Z"
   },
   {
    "duration": 3,
    "start_time": "2024-02-24T19:40:20.529Z"
   },
   {
    "duration": 48,
    "start_time": "2024-02-24T19:40:20.534Z"
   },
   {
    "duration": 68,
    "start_time": "2024-02-24T19:40:20.584Z"
   },
   {
    "duration": 5,
    "start_time": "2024-02-24T19:40:20.665Z"
   },
   {
    "duration": 6,
    "start_time": "2024-02-24T19:40:20.672Z"
   },
   {
    "duration": 6,
    "start_time": "2024-02-24T19:40:20.679Z"
   },
   {
    "duration": 28,
    "start_time": "2024-02-24T19:40:20.687Z"
   },
   {
    "duration": 20,
    "start_time": "2024-02-24T19:40:20.716Z"
   },
   {
    "duration": 32,
    "start_time": "2024-02-24T19:40:20.737Z"
   },
   {
    "duration": 12,
    "start_time": "2024-02-24T19:40:20.770Z"
   },
   {
    "duration": 6,
    "start_time": "2024-02-24T19:40:20.785Z"
   },
   {
    "duration": 25,
    "start_time": "2024-02-24T19:40:20.793Z"
   },
   {
    "duration": 9,
    "start_time": "2024-02-24T19:40:20.819Z"
   },
   {
    "duration": 10,
    "start_time": "2024-02-24T19:40:22.161Z"
   },
   {
    "duration": 26,
    "start_time": "2024-02-24T19:40:23.094Z"
   },
   {
    "duration": 4,
    "start_time": "2024-02-24T19:40:36.264Z"
   },
   {
    "duration": 36,
    "start_time": "2024-02-24T19:40:36.272Z"
   },
   {
    "duration": 69,
    "start_time": "2024-02-24T19:40:36.310Z"
   },
   {
    "duration": 4,
    "start_time": "2024-02-24T19:40:36.381Z"
   },
   {
    "duration": 11,
    "start_time": "2024-02-24T19:40:36.386Z"
   },
   {
    "duration": 4,
    "start_time": "2024-02-24T19:40:36.399Z"
   },
   {
    "duration": 28,
    "start_time": "2024-02-24T19:40:36.405Z"
   },
   {
    "duration": 43,
    "start_time": "2024-02-24T19:40:36.434Z"
   },
   {
    "duration": 9,
    "start_time": "2024-02-24T19:40:36.478Z"
   },
   {
    "duration": 22,
    "start_time": "2024-02-24T19:40:36.488Z"
   },
   {
    "duration": 6,
    "start_time": "2024-02-24T19:40:36.512Z"
   },
   {
    "duration": 27,
    "start_time": "2024-02-24T19:40:36.519Z"
   },
   {
    "duration": 12,
    "start_time": "2024-02-24T19:40:38.229Z"
   },
   {
    "duration": 33,
    "start_time": "2024-02-24T19:40:39.093Z"
   },
   {
    "duration": 4,
    "start_time": "2024-02-24T19:41:57.905Z"
   },
   {
    "duration": 5,
    "start_time": "2024-02-24T19:42:17.553Z"
   },
   {
    "duration": 37,
    "start_time": "2024-02-24T19:42:17.559Z"
   },
   {
    "duration": 72,
    "start_time": "2024-02-24T19:42:17.598Z"
   },
   {
    "duration": 4,
    "start_time": "2024-02-24T19:42:17.672Z"
   },
   {
    "duration": 6,
    "start_time": "2024-02-24T19:42:17.678Z"
   },
   {
    "duration": 4,
    "start_time": "2024-02-24T19:42:17.685Z"
   },
   {
    "duration": 28,
    "start_time": "2024-02-24T19:42:17.690Z"
   },
   {
    "duration": 47,
    "start_time": "2024-02-24T19:42:17.719Z"
   },
   {
    "duration": 9,
    "start_time": "2024-02-24T19:42:17.767Z"
   },
   {
    "duration": 11,
    "start_time": "2024-02-24T19:42:17.779Z"
   },
   {
    "duration": 6,
    "start_time": "2024-02-24T19:42:17.791Z"
   },
   {
    "duration": 23,
    "start_time": "2024-02-24T19:42:17.799Z"
   },
   {
    "duration": 10,
    "start_time": "2024-02-24T19:42:19.534Z"
   },
   {
    "duration": 4,
    "start_time": "2024-02-24T19:42:20.367Z"
   },
   {
    "duration": 4,
    "start_time": "2024-02-24T19:42:37.023Z"
   },
   {
    "duration": 45,
    "start_time": "2024-02-24T19:42:37.029Z"
   },
   {
    "duration": 64,
    "start_time": "2024-02-24T19:42:37.075Z"
   },
   {
    "duration": 5,
    "start_time": "2024-02-24T19:42:37.140Z"
   },
   {
    "duration": 7,
    "start_time": "2024-02-24T19:42:37.164Z"
   },
   {
    "duration": 4,
    "start_time": "2024-02-24T19:42:37.172Z"
   },
   {
    "duration": 27,
    "start_time": "2024-02-24T19:42:37.177Z"
   },
   {
    "duration": 21,
    "start_time": "2024-02-24T19:42:37.206Z"
   },
   {
    "duration": 39,
    "start_time": "2024-02-24T19:42:37.229Z"
   },
   {
    "duration": 11,
    "start_time": "2024-02-24T19:42:37.270Z"
   },
   {
    "duration": 6,
    "start_time": "2024-02-24T19:42:37.282Z"
   },
   {
    "duration": 35,
    "start_time": "2024-02-24T19:42:37.290Z"
   },
   {
    "duration": 9,
    "start_time": "2024-02-24T19:42:38.785Z"
   },
   {
    "duration": 4,
    "start_time": "2024-02-24T19:42:39.267Z"
   },
   {
    "duration": 3,
    "start_time": "2024-02-24T19:43:03.611Z"
   },
   {
    "duration": 37,
    "start_time": "2024-02-24T19:43:03.616Z"
   },
   {
    "duration": 67,
    "start_time": "2024-02-24T19:43:03.655Z"
   },
   {
    "duration": 5,
    "start_time": "2024-02-24T19:43:03.723Z"
   },
   {
    "duration": 15,
    "start_time": "2024-02-24T19:43:03.729Z"
   },
   {
    "duration": 19,
    "start_time": "2024-02-24T19:43:03.746Z"
   },
   {
    "duration": 39,
    "start_time": "2024-02-24T19:43:03.767Z"
   },
   {
    "duration": 23,
    "start_time": "2024-02-24T19:43:03.808Z"
   },
   {
    "duration": 9,
    "start_time": "2024-02-24T19:43:03.832Z"
   },
   {
    "duration": 12,
    "start_time": "2024-02-24T19:43:03.865Z"
   },
   {
    "duration": 7,
    "start_time": "2024-02-24T19:43:03.878Z"
   },
   {
    "duration": 36,
    "start_time": "2024-02-24T19:43:03.886Z"
   },
   {
    "duration": 10,
    "start_time": "2024-02-24T19:43:06.269Z"
   },
   {
    "duration": 5,
    "start_time": "2024-02-24T19:43:07.684Z"
   },
   {
    "duration": 10,
    "start_time": "2024-02-24T19:43:17.281Z"
   },
   {
    "duration": 12,
    "start_time": "2024-02-24T19:43:37.390Z"
   },
   {
    "duration": 4,
    "start_time": "2024-02-24T19:43:50.476Z"
   },
   {
    "duration": 40,
    "start_time": "2024-02-24T19:43:50.482Z"
   },
   {
    "duration": 66,
    "start_time": "2024-02-24T19:43:50.523Z"
   },
   {
    "duration": 5,
    "start_time": "2024-02-24T19:43:50.591Z"
   },
   {
    "duration": 8,
    "start_time": "2024-02-24T19:43:50.597Z"
   },
   {
    "duration": 4,
    "start_time": "2024-02-24T19:43:50.606Z"
   },
   {
    "duration": 55,
    "start_time": "2024-02-24T19:43:50.611Z"
   },
   {
    "duration": 21,
    "start_time": "2024-02-24T19:43:50.668Z"
   },
   {
    "duration": 8,
    "start_time": "2024-02-24T19:43:50.691Z"
   },
   {
    "duration": 13,
    "start_time": "2024-02-24T19:43:50.701Z"
   },
   {
    "duration": 6,
    "start_time": "2024-02-24T19:43:50.716Z"
   },
   {
    "duration": 52,
    "start_time": "2024-02-24T19:43:50.723Z"
   },
   {
    "duration": 8,
    "start_time": "2024-02-24T19:44:19.926Z"
   },
   {
    "duration": 13,
    "start_time": "2024-02-24T19:44:37.042Z"
   },
   {
    "duration": 15,
    "start_time": "2024-02-24T19:45:29.184Z"
   },
   {
    "duration": 3,
    "start_time": "2024-02-24T19:46:47.218Z"
   },
   {
    "duration": 38,
    "start_time": "2024-02-24T19:46:47.223Z"
   },
   {
    "duration": 67,
    "start_time": "2024-02-24T19:46:47.263Z"
   },
   {
    "duration": 4,
    "start_time": "2024-02-24T19:46:47.332Z"
   },
   {
    "duration": 30,
    "start_time": "2024-02-24T19:46:47.338Z"
   },
   {
    "duration": 4,
    "start_time": "2024-02-24T19:46:47.370Z"
   },
   {
    "duration": 33,
    "start_time": "2024-02-24T19:46:47.375Z"
   },
   {
    "duration": 20,
    "start_time": "2024-02-24T19:46:47.409Z"
   },
   {
    "duration": 8,
    "start_time": "2024-02-24T19:46:47.430Z"
   },
   {
    "duration": 34,
    "start_time": "2024-02-24T19:46:47.439Z"
   },
   {
    "duration": 6,
    "start_time": "2024-02-24T19:46:47.475Z"
   },
   {
    "duration": 24,
    "start_time": "2024-02-24T19:46:47.482Z"
   },
   {
    "duration": 14,
    "start_time": "2024-02-24T19:46:49.030Z"
   },
   {
    "duration": 12,
    "start_time": "2024-02-24T19:46:50.646Z"
   },
   {
    "duration": 3,
    "start_time": "2024-02-24T19:47:28.354Z"
   },
   {
    "duration": 39,
    "start_time": "2024-02-24T19:47:28.360Z"
   },
   {
    "duration": 68,
    "start_time": "2024-02-24T19:47:28.401Z"
   },
   {
    "duration": 5,
    "start_time": "2024-02-24T19:47:28.470Z"
   },
   {
    "duration": 7,
    "start_time": "2024-02-24T19:47:28.477Z"
   },
   {
    "duration": 4,
    "start_time": "2024-02-24T19:47:28.486Z"
   },
   {
    "duration": 29,
    "start_time": "2024-02-24T19:47:28.491Z"
   },
   {
    "duration": 51,
    "start_time": "2024-02-24T19:47:28.522Z"
   },
   {
    "duration": 10,
    "start_time": "2024-02-24T19:47:28.575Z"
   },
   {
    "duration": 12,
    "start_time": "2024-02-24T19:47:28.586Z"
   },
   {
    "duration": 6,
    "start_time": "2024-02-24T19:47:28.600Z"
   },
   {
    "duration": 25,
    "start_time": "2024-02-24T19:47:28.608Z"
   },
   {
    "duration": 14,
    "start_time": "2024-02-24T19:47:29.885Z"
   },
   {
    "duration": 4,
    "start_time": "2024-02-24T19:47:39.434Z"
   },
   {
    "duration": 39,
    "start_time": "2024-02-24T19:47:39.439Z"
   },
   {
    "duration": 69,
    "start_time": "2024-02-24T19:47:39.479Z"
   },
   {
    "duration": 6,
    "start_time": "2024-02-24T19:47:39.564Z"
   },
   {
    "duration": 8,
    "start_time": "2024-02-24T19:47:39.572Z"
   },
   {
    "duration": 4,
    "start_time": "2024-02-24T19:47:39.582Z"
   },
   {
    "duration": 31,
    "start_time": "2024-02-24T19:47:39.588Z"
   },
   {
    "duration": 47,
    "start_time": "2024-02-24T19:47:39.621Z"
   },
   {
    "duration": 9,
    "start_time": "2024-02-24T19:47:39.670Z"
   },
   {
    "duration": 12,
    "start_time": "2024-02-24T19:47:39.681Z"
   },
   {
    "duration": 6,
    "start_time": "2024-02-24T19:47:39.695Z"
   },
   {
    "duration": 32,
    "start_time": "2024-02-24T19:47:39.702Z"
   },
   {
    "duration": 15,
    "start_time": "2024-02-24T19:47:40.999Z"
   },
   {
    "duration": 3,
    "start_time": "2024-02-24T19:48:11.272Z"
   },
   {
    "duration": 45,
    "start_time": "2024-02-24T19:48:11.277Z"
   },
   {
    "duration": 66,
    "start_time": "2024-02-24T19:48:11.323Z"
   },
   {
    "duration": 5,
    "start_time": "2024-02-24T19:48:11.391Z"
   },
   {
    "duration": 7,
    "start_time": "2024-02-24T19:48:11.397Z"
   },
   {
    "duration": 3,
    "start_time": "2024-02-24T19:48:11.405Z"
   },
   {
    "duration": 36,
    "start_time": "2024-02-24T19:48:11.409Z"
   },
   {
    "duration": 35,
    "start_time": "2024-02-24T19:48:11.446Z"
   },
   {
    "duration": 8,
    "start_time": "2024-02-24T19:48:11.482Z"
   },
   {
    "duration": 11,
    "start_time": "2024-02-24T19:48:11.492Z"
   },
   {
    "duration": 6,
    "start_time": "2024-02-24T19:48:11.504Z"
   },
   {
    "duration": 23,
    "start_time": "2024-02-24T19:48:11.511Z"
   },
   {
    "duration": 10,
    "start_time": "2024-02-24T19:48:12.918Z"
   },
   {
    "duration": 11,
    "start_time": "2024-02-24T19:48:14.068Z"
   },
   {
    "duration": 10,
    "start_time": "2024-02-24T19:48:53.427Z"
   },
   {
    "duration": 2,
    "start_time": "2024-02-24T19:48:58.671Z"
   },
   {
    "duration": 10,
    "start_time": "2024-02-24T19:48:59.337Z"
   },
   {
    "duration": 2044,
    "start_time": "2024-02-24T19:49:03.471Z"
   },
   {
    "duration": 37,
    "start_time": "2024-02-24T19:51:48.046Z"
   },
   {
    "duration": 26,
    "start_time": "2024-02-24T19:51:56.982Z"
   },
   {
    "duration": 4,
    "start_time": "2024-02-24T19:52:35.453Z"
   },
   {
    "duration": 41,
    "start_time": "2024-02-24T19:52:35.458Z"
   },
   {
    "duration": 69,
    "start_time": "2024-02-24T19:52:35.500Z"
   },
   {
    "duration": 4,
    "start_time": "2024-02-24T19:52:35.571Z"
   },
   {
    "duration": 9,
    "start_time": "2024-02-24T19:52:35.577Z"
   },
   {
    "duration": 13,
    "start_time": "2024-02-24T19:52:35.587Z"
   },
   {
    "duration": 35,
    "start_time": "2024-02-24T19:52:35.601Z"
   },
   {
    "duration": 29,
    "start_time": "2024-02-24T19:52:35.637Z"
   },
   {
    "duration": 8,
    "start_time": "2024-02-24T19:52:35.668Z"
   },
   {
    "duration": 23,
    "start_time": "2024-02-24T19:52:35.677Z"
   },
   {
    "duration": 6,
    "start_time": "2024-02-24T19:52:35.701Z"
   },
   {
    "duration": 26,
    "start_time": "2024-02-24T19:52:35.709Z"
   },
   {
    "duration": 13,
    "start_time": "2024-02-24T19:52:51.798Z"
   },
   {
    "duration": 41,
    "start_time": "2024-02-24T19:52:52.950Z"
   },
   {
    "duration": 11,
    "start_time": "2024-02-24T19:53:09.666Z"
   },
   {
    "duration": 2566,
    "start_time": "2024-02-24T19:53:21.851Z"
   },
   {
    "duration": 24,
    "start_time": "2024-02-24T19:53:59.391Z"
   },
   {
    "duration": 6,
    "start_time": "2024-02-24T19:54:05.917Z"
   },
   {
    "duration": 1101,
    "start_time": "2024-02-24T19:54:08.572Z"
   },
   {
    "duration": 6,
    "start_time": "2024-02-24T19:54:32.212Z"
   },
   {
    "duration": 20,
    "start_time": "2024-02-24T20:04:53.267Z"
   },
   {
    "duration": 13,
    "start_time": "2024-02-24T20:07:22.708Z"
   },
   {
    "duration": 25,
    "start_time": "2024-02-24T20:12:40.849Z"
   },
   {
    "duration": 13,
    "start_time": "2024-02-24T20:16:52.722Z"
   },
   {
    "duration": 3,
    "start_time": "2024-02-24T20:16:59.716Z"
   },
   {
    "duration": 42,
    "start_time": "2024-02-24T20:16:59.721Z"
   },
   {
    "duration": 70,
    "start_time": "2024-02-24T20:16:59.765Z"
   },
   {
    "duration": 4,
    "start_time": "2024-02-24T20:16:59.837Z"
   },
   {
    "duration": 7,
    "start_time": "2024-02-24T20:16:59.864Z"
   },
   {
    "duration": 4,
    "start_time": "2024-02-24T20:16:59.873Z"
   },
   {
    "duration": 31,
    "start_time": "2024-02-24T20:16:59.879Z"
   },
   {
    "duration": 23,
    "start_time": "2024-02-24T20:16:59.912Z"
   },
   {
    "duration": 10,
    "start_time": "2024-02-24T20:16:59.965Z"
   },
   {
    "duration": 15,
    "start_time": "2024-02-24T20:16:59.977Z"
   },
   {
    "duration": 8,
    "start_time": "2024-02-24T20:16:59.995Z"
   },
   {
    "duration": 49,
    "start_time": "2024-02-24T20:17:00.004Z"
   },
   {
    "duration": 31,
    "start_time": "2024-02-24T20:17:00.055Z"
   },
   {
    "duration": 61,
    "start_time": "2024-02-24T20:17:00.088Z"
   },
   {
    "duration": 4,
    "start_time": "2024-02-24T20:17:00.150Z"
   },
   {
    "duration": 37,
    "start_time": "2024-02-24T20:17:00.155Z"
   },
   {
    "duration": 1918,
    "start_time": "2024-02-24T20:17:00.193Z"
   },
   {
    "duration": 24,
    "start_time": "2024-02-24T20:17:02.113Z"
   },
   {
    "duration": 11,
    "start_time": "2024-02-24T20:17:02.139Z"
   },
   {
    "duration": 1255,
    "start_time": "2024-02-24T20:17:02.152Z"
   },
   {
    "duration": 20,
    "start_time": "2024-02-24T20:17:03.409Z"
   },
   {
    "duration": 34,
    "start_time": "2024-02-24T20:17:03.432Z"
   },
   {
    "duration": 32,
    "start_time": "2024-02-24T20:17:03.469Z"
   },
   {
    "duration": 24,
    "start_time": "2024-02-24T20:17:07.297Z"
   },
   {
    "duration": 6,
    "start_time": "2024-02-24T20:17:08.658Z"
   },
   {
    "duration": 16,
    "start_time": "2024-02-24T20:17:16.056Z"
   },
   {
    "duration": 4,
    "start_time": "2024-02-24T20:18:06.268Z"
   },
   {
    "duration": 55,
    "start_time": "2024-02-24T20:18:06.274Z"
   },
   {
    "duration": 71,
    "start_time": "2024-02-24T20:18:06.331Z"
   },
   {
    "duration": 5,
    "start_time": "2024-02-24T20:18:06.404Z"
   },
   {
    "duration": 17,
    "start_time": "2024-02-24T20:18:06.411Z"
   },
   {
    "duration": 27,
    "start_time": "2024-02-24T20:18:06.429Z"
   },
   {
    "duration": 41,
    "start_time": "2024-02-24T20:18:06.458Z"
   },
   {
    "duration": 22,
    "start_time": "2024-02-24T20:18:06.501Z"
   },
   {
    "duration": 10,
    "start_time": "2024-02-24T20:18:06.526Z"
   },
   {
    "duration": 29,
    "start_time": "2024-02-24T20:18:06.537Z"
   },
   {
    "duration": 7,
    "start_time": "2024-02-24T20:18:06.568Z"
   },
   {
    "duration": 44,
    "start_time": "2024-02-24T20:18:06.577Z"
   },
   {
    "duration": 13,
    "start_time": "2024-02-24T20:18:06.624Z"
   },
   {
    "duration": 46,
    "start_time": "2024-02-24T20:18:06.639Z"
   },
   {
    "duration": 3,
    "start_time": "2024-02-24T20:18:06.686Z"
   },
   {
    "duration": 21,
    "start_time": "2024-02-24T20:18:06.690Z"
   },
   {
    "duration": 1878,
    "start_time": "2024-02-24T20:18:06.712Z"
   },
   {
    "duration": 23,
    "start_time": "2024-02-24T20:18:08.591Z"
   },
   {
    "duration": 5,
    "start_time": "2024-02-24T20:18:08.615Z"
   },
   {
    "duration": 1202,
    "start_time": "2024-02-24T20:18:08.621Z"
   },
   {
    "duration": 20,
    "start_time": "2024-02-24T20:18:09.826Z"
   },
   {
    "duration": 28,
    "start_time": "2024-02-24T20:18:09.848Z"
   },
   {
    "duration": 22,
    "start_time": "2024-02-24T20:18:09.878Z"
   },
   {
    "duration": 24,
    "start_time": "2024-02-24T20:18:11.461Z"
   },
   {
    "duration": 5,
    "start_time": "2024-02-24T20:18:15.432Z"
   },
   {
    "duration": 7,
    "start_time": "2024-02-24T20:18:16.380Z"
   },
   {
    "duration": 5,
    "start_time": "2024-02-24T20:19:33.810Z"
   },
   {
    "duration": 8,
    "start_time": "2024-02-24T20:19:34.800Z"
   },
   {
    "duration": 11,
    "start_time": "2024-02-24T20:24:06.759Z"
   },
   {
    "duration": 10,
    "start_time": "2024-02-24T20:27:00.948Z"
   },
   {
    "duration": 15,
    "start_time": "2024-02-24T20:28:55.004Z"
   },
   {
    "duration": 330,
    "start_time": "2024-02-24T20:30:00.608Z"
   },
   {
    "duration": 1471,
    "start_time": "2024-02-24T20:30:21.126Z"
   },
   {
    "duration": 936,
    "start_time": "2024-02-24T20:31:25.068Z"
   },
   {
    "duration": 951,
    "start_time": "2024-02-24T20:31:36.214Z"
   },
   {
    "duration": 584,
    "start_time": "2024-02-24T20:34:20.194Z"
   },
   {
    "duration": 4,
    "start_time": "2024-02-24T20:34:35.725Z"
   },
   {
    "duration": 339,
    "start_time": "2024-02-24T20:34:55.054Z"
   },
   {
    "duration": 493,
    "start_time": "2024-02-24T20:37:02.363Z"
   },
   {
    "duration": 536,
    "start_time": "2024-02-24T20:37:46.909Z"
   },
   {
    "duration": 620,
    "start_time": "2024-02-24T20:38:17.236Z"
   },
   {
    "duration": 572,
    "start_time": "2024-02-24T20:38:21.937Z"
   },
   {
    "duration": 563,
    "start_time": "2024-02-24T20:40:36.100Z"
   },
   {
    "duration": 10,
    "start_time": "2024-02-24T20:50:28.646Z"
   },
   {
    "duration": 3222,
    "start_time": "2024-02-24T20:52:32.714Z"
   },
   {
    "duration": 110,
    "start_time": "2024-02-24T20:53:01.449Z"
   },
   {
    "duration": 13597,
    "start_time": "2024-02-24T20:57:04.068Z"
   },
   {
    "duration": 405,
    "start_time": "2024-02-24T21:00:28.083Z"
   },
   {
    "duration": 1397,
    "start_time": "2024-02-24T21:02:18.213Z"
   },
   {
    "duration": 1714,
    "start_time": "2024-02-24T21:02:58.111Z"
   },
   {
    "duration": 1336,
    "start_time": "2024-02-24T21:03:42.932Z"
   },
   {
    "duration": 1539,
    "start_time": "2024-02-24T21:08:41.069Z"
   },
   {
    "duration": 1355,
    "start_time": "2024-02-24T21:09:06.345Z"
   },
   {
    "duration": 1091,
    "start_time": "2024-02-24T21:17:30.035Z"
   },
   {
    "duration": 1322,
    "start_time": "2024-02-24T21:18:35.405Z"
   },
   {
    "duration": 8,
    "start_time": "2024-02-24T21:19:29.392Z"
   },
   {
    "duration": 8,
    "start_time": "2024-02-24T21:20:18.658Z"
   },
   {
    "duration": 9,
    "start_time": "2024-02-24T21:20:33.812Z"
   },
   {
    "duration": 44,
    "start_time": "2024-02-24T21:31:46.125Z"
   },
   {
    "duration": 1354,
    "start_time": "2024-02-25T17:27:46.758Z"
   },
   {
    "duration": 93,
    "start_time": "2024-02-25T17:27:54.336Z"
   },
   {
    "duration": 3466,
    "start_time": "2024-02-25T17:27:57.968Z"
   },
   {
    "duration": 85,
    "start_time": "2024-02-25T17:28:08.116Z"
   },
   {
    "duration": 80,
    "start_time": "2024-02-25T17:28:08.203Z"
   },
   {
    "duration": 85,
    "start_time": "2024-02-25T17:28:08.285Z"
   },
   {
    "duration": 5,
    "start_time": "2024-02-25T17:28:08.372Z"
   },
   {
    "duration": 11,
    "start_time": "2024-02-25T17:28:08.394Z"
   },
   {
    "duration": 47,
    "start_time": "2024-02-25T17:28:08.406Z"
   },
   {
    "duration": 69,
    "start_time": "2024-02-25T17:28:08.455Z"
   },
   {
    "duration": 38,
    "start_time": "2024-02-25T17:28:08.526Z"
   },
   {
    "duration": 36,
    "start_time": "2024-02-25T17:28:08.566Z"
   },
   {
    "duration": 59,
    "start_time": "2024-02-25T17:28:08.605Z"
   },
   {
    "duration": 61,
    "start_time": "2024-02-25T17:28:08.665Z"
   },
   {
    "duration": 42,
    "start_time": "2024-02-25T17:28:08.727Z"
   },
   {
    "duration": 0,
    "start_time": "2024-02-25T17:28:08.771Z"
   },
   {
    "duration": 0,
    "start_time": "2024-02-25T17:28:08.772Z"
   },
   {
    "duration": 0,
    "start_time": "2024-02-25T17:28:08.773Z"
   },
   {
    "duration": 0,
    "start_time": "2024-02-25T17:28:08.774Z"
   },
   {
    "duration": 0,
    "start_time": "2024-02-25T17:28:08.775Z"
   },
   {
    "duration": 0,
    "start_time": "2024-02-25T17:28:08.777Z"
   },
   {
    "duration": 0,
    "start_time": "2024-02-25T17:28:08.778Z"
   },
   {
    "duration": 0,
    "start_time": "2024-02-25T17:28:08.779Z"
   },
   {
    "duration": 0,
    "start_time": "2024-02-25T17:28:08.779Z"
   },
   {
    "duration": 0,
    "start_time": "2024-02-25T17:28:08.781Z"
   },
   {
    "duration": 0,
    "start_time": "2024-02-25T17:28:08.782Z"
   },
   {
    "duration": 2,
    "start_time": "2024-02-25T17:28:53.956Z"
   },
   {
    "duration": 31,
    "start_time": "2024-02-25T17:28:57.622Z"
   },
   {
    "duration": 14,
    "start_time": "2024-02-25T17:28:58.971Z"
   },
   {
    "duration": 40,
    "start_time": "2024-02-25T17:28:59.502Z"
   },
   {
    "duration": 3,
    "start_time": "2024-02-25T17:29:05.104Z"
   },
   {
    "duration": 11,
    "start_time": "2024-02-25T17:29:05.555Z"
   },
   {
    "duration": 4,
    "start_time": "2024-02-25T17:29:10.223Z"
   },
   {
    "duration": 2362,
    "start_time": "2024-02-25T17:29:10.228Z"
   },
   {
    "duration": 3,
    "start_time": "2024-02-25T17:29:12.592Z"
   },
   {
    "duration": 102,
    "start_time": "2024-02-25T17:29:12.597Z"
   },
   {
    "duration": 72,
    "start_time": "2024-02-25T17:29:12.700Z"
   },
   {
    "duration": 22,
    "start_time": "2024-02-25T17:29:12.773Z"
   },
   {
    "duration": 7,
    "start_time": "2024-02-25T17:29:12.796Z"
   },
   {
    "duration": 5,
    "start_time": "2024-02-25T17:29:12.804Z"
   },
   {
    "duration": 31,
    "start_time": "2024-02-25T17:29:12.810Z"
   },
   {
    "duration": 20,
    "start_time": "2024-02-25T17:29:12.843Z"
   },
   {
    "duration": 35,
    "start_time": "2024-02-25T17:29:12.865Z"
   },
   {
    "duration": 24,
    "start_time": "2024-02-25T17:29:12.902Z"
   },
   {
    "duration": 13,
    "start_time": "2024-02-25T17:29:12.927Z"
   },
   {
    "duration": 38,
    "start_time": "2024-02-25T17:29:12.941Z"
   },
   {
    "duration": 22,
    "start_time": "2024-02-25T17:29:12.980Z"
   },
   {
    "duration": 63,
    "start_time": "2024-02-25T17:29:13.004Z"
   },
   {
    "duration": 3,
    "start_time": "2024-02-25T17:29:13.069Z"
   },
   {
    "duration": 43,
    "start_time": "2024-02-25T17:29:13.073Z"
   },
   {
    "duration": 11,
    "start_time": "2024-02-25T17:29:18.028Z"
   },
   {
    "duration": 2000,
    "start_time": "2024-02-25T17:29:18.041Z"
   },
   {
    "duration": 26,
    "start_time": "2024-02-25T17:29:20.043Z"
   },
   {
    "duration": 41,
    "start_time": "2024-02-25T17:29:20.070Z"
   },
   {
    "duration": 1313,
    "start_time": "2024-02-25T17:29:20.113Z"
   },
   {
    "duration": 49,
    "start_time": "2024-02-25T17:29:21.427Z"
   },
   {
    "duration": 1473,
    "start_time": "2024-02-25T17:29:21.477Z"
   },
   {
    "duration": 1600,
    "start_time": "2024-02-25T17:29:22.952Z"
   },
   {
    "duration": 315,
    "start_time": "2024-02-25T17:29:43.015Z"
   },
   {
    "duration": 391,
    "start_time": "2024-02-25T17:34:12.464Z"
   },
   {
    "duration": 477,
    "start_time": "2024-02-25T17:39:48.149Z"
   },
   {
    "duration": 17,
    "start_time": "2024-02-25T17:54:56.973Z"
   },
   {
    "duration": 351,
    "start_time": "2024-02-25T18:42:53.905Z"
   },
   {
    "duration": 293,
    "start_time": "2024-02-25T18:44:04.678Z"
   },
   {
    "duration": 16,
    "start_time": "2024-02-25T18:47:50.777Z"
   },
   {
    "duration": 16,
    "start_time": "2024-02-25T18:48:03.717Z"
   },
   {
    "duration": 325,
    "start_time": "2024-02-25T18:48:27.737Z"
   },
   {
    "duration": 276,
    "start_time": "2024-02-25T18:48:42.771Z"
   },
   {
    "duration": 374,
    "start_time": "2024-02-25T18:48:56.869Z"
   },
   {
    "duration": 15,
    "start_time": "2024-02-25T18:55:37.268Z"
   },
   {
    "duration": 15,
    "start_time": "2024-02-25T19:25:31.958Z"
   },
   {
    "duration": 19,
    "start_time": "2024-02-25T19:32:18.206Z"
   },
   {
    "duration": 16,
    "start_time": "2024-02-25T19:32:34.567Z"
   },
   {
    "duration": 16,
    "start_time": "2024-02-25T19:33:11.439Z"
   },
   {
    "duration": 15,
    "start_time": "2024-02-25T19:34:18.620Z"
   },
   {
    "duration": 20,
    "start_time": "2024-02-25T19:49:17.538Z"
   },
   {
    "duration": 22,
    "start_time": "2024-02-25T19:51:16.602Z"
   },
   {
    "duration": 23,
    "start_time": "2024-02-25T19:51:54.641Z"
   },
   {
    "duration": 20,
    "start_time": "2024-02-25T19:55:25.228Z"
   },
   {
    "duration": 50,
    "start_time": "2024-02-26T17:05:46.618Z"
   },
   {
    "duration": 1301,
    "start_time": "2024-02-26T17:05:51.366Z"
   },
   {
    "duration": 3399,
    "start_time": "2024-02-26T17:05:52.669Z"
   },
   {
    "duration": 86,
    "start_time": "2024-02-26T17:05:56.070Z"
   },
   {
    "duration": 155,
    "start_time": "2024-02-26T17:05:56.158Z"
   },
   {
    "duration": 81,
    "start_time": "2024-02-26T17:05:56.315Z"
   },
   {
    "duration": 5,
    "start_time": "2024-02-26T17:05:56.414Z"
   },
   {
    "duration": 9,
    "start_time": "2024-02-26T17:05:56.421Z"
   },
   {
    "duration": 3,
    "start_time": "2024-02-26T17:05:56.432Z"
   },
   {
    "duration": 30,
    "start_time": "2024-02-26T17:05:56.437Z"
   },
   {
    "duration": 47,
    "start_time": "2024-02-26T17:05:56.469Z"
   },
   {
    "duration": 9,
    "start_time": "2024-02-26T17:05:56.517Z"
   },
   {
    "duration": 57,
    "start_time": "2024-02-26T17:05:56.528Z"
   },
   {
    "duration": 6,
    "start_time": "2024-02-26T17:05:56.587Z"
   },
   {
    "duration": 77,
    "start_time": "2024-02-26T17:05:56.594Z"
   },
   {
    "duration": 0,
    "start_time": "2024-02-26T17:05:56.672Z"
   },
   {
    "duration": 0,
    "start_time": "2024-02-26T17:05:56.673Z"
   },
   {
    "duration": 0,
    "start_time": "2024-02-26T17:05:56.674Z"
   },
   {
    "duration": 0,
    "start_time": "2024-02-26T17:05:56.676Z"
   },
   {
    "duration": 0,
    "start_time": "2024-02-26T17:05:56.676Z"
   },
   {
    "duration": 0,
    "start_time": "2024-02-26T17:05:56.678Z"
   },
   {
    "duration": 0,
    "start_time": "2024-02-26T17:05:56.679Z"
   },
   {
    "duration": 0,
    "start_time": "2024-02-26T17:05:56.680Z"
   },
   {
    "duration": 0,
    "start_time": "2024-02-26T17:05:56.681Z"
   },
   {
    "duration": 0,
    "start_time": "2024-02-26T17:05:56.682Z"
   },
   {
    "duration": 0,
    "start_time": "2024-02-26T17:05:56.683Z"
   },
   {
    "duration": 0,
    "start_time": "2024-02-26T17:05:56.684Z"
   },
   {
    "duration": 0,
    "start_time": "2024-02-26T17:05:56.685Z"
   },
   {
    "duration": 0,
    "start_time": "2024-02-26T17:05:56.686Z"
   },
   {
    "duration": 12,
    "start_time": "2024-02-26T17:07:37.281Z"
   },
   {
    "duration": 3,
    "start_time": "2024-02-26T17:07:48.401Z"
   },
   {
    "duration": 28,
    "start_time": "2024-02-26T17:07:53.445Z"
   },
   {
    "duration": 14,
    "start_time": "2024-02-26T17:07:53.475Z"
   },
   {
    "duration": 48,
    "start_time": "2024-02-26T17:07:53.491Z"
   },
   {
    "duration": 3,
    "start_time": "2024-02-26T17:07:53.540Z"
   },
   {
    "duration": 30,
    "start_time": "2024-02-26T17:07:53.545Z"
   },
   {
    "duration": 2166,
    "start_time": "2024-02-26T17:07:53.577Z"
   },
   {
    "duration": 28,
    "start_time": "2024-02-26T17:07:55.745Z"
   },
   {
    "duration": 7,
    "start_time": "2024-02-26T17:07:55.775Z"
   },
   {
    "duration": 1300,
    "start_time": "2024-02-26T17:07:55.783Z"
   },
   {
    "duration": 54,
    "start_time": "2024-02-26T17:07:57.085Z"
   },
   {
    "duration": 1594,
    "start_time": "2024-02-26T17:07:57.141Z"
   },
   {
    "duration": 381,
    "start_time": "2024-02-26T17:07:58.737Z"
   },
   {
    "duration": 23,
    "start_time": "2024-02-26T17:07:59.120Z"
   },
   {
    "duration": 342,
    "start_time": "2024-02-26T17:07:59.146Z"
   },
   {
    "duration": 32,
    "start_time": "2024-02-26T17:07:59.490Z"
   },
   {
    "duration": 156,
    "start_time": "2024-02-26T17:07:59.524Z"
   },
   {
    "duration": 16,
    "start_time": "2024-02-26T17:59:43.006Z"
   },
   {
    "duration": 26,
    "start_time": "2024-02-26T17:59:54.347Z"
   },
   {
    "duration": 22,
    "start_time": "2024-02-26T18:00:14.706Z"
   },
   {
    "duration": 23,
    "start_time": "2024-02-26T18:02:36.407Z"
   },
   {
    "duration": 23,
    "start_time": "2024-02-26T18:02:48.097Z"
   },
   {
    "duration": 1154,
    "start_time": "2024-02-26T18:05:21.969Z"
   },
   {
    "duration": 21,
    "start_time": "2024-02-26T18:06:03.625Z"
   },
   {
    "duration": 167,
    "start_time": "2024-02-26T18:06:14.373Z"
   },
   {
    "duration": 181,
    "start_time": "2024-02-26T18:09:01.966Z"
   },
   {
    "duration": 164,
    "start_time": "2024-02-26T18:09:11.591Z"
   },
   {
    "duration": 157,
    "start_time": "2024-02-26T18:09:17.474Z"
   },
   {
    "duration": 170,
    "start_time": "2024-02-26T18:10:13.323Z"
   },
   {
    "duration": 173,
    "start_time": "2024-02-26T18:10:34.058Z"
   },
   {
    "duration": 160,
    "start_time": "2024-02-26T18:11:11.684Z"
   },
   {
    "duration": 26,
    "start_time": "2024-02-26T18:21:56.063Z"
   },
   {
    "duration": 25,
    "start_time": "2024-02-26T18:23:10.587Z"
   },
   {
    "duration": 40,
    "start_time": "2024-02-26T18:23:59.354Z"
   },
   {
    "duration": 74,
    "start_time": "2024-02-26T18:25:40.351Z"
   },
   {
    "duration": 22,
    "start_time": "2024-02-26T18:25:51.669Z"
   },
   {
    "duration": 1284,
    "start_time": "2024-02-26T18:26:21.253Z"
   },
   {
    "duration": 1259,
    "start_time": "2024-02-26T18:26:42.480Z"
   },
   {
    "duration": 631,
    "start_time": "2024-02-26T18:27:35.792Z"
   },
   {
    "duration": 624,
    "start_time": "2024-02-26T18:27:44.316Z"
   },
   {
    "duration": 583,
    "start_time": "2024-02-26T18:27:54.071Z"
   },
   {
    "duration": 7635,
    "start_time": "2024-02-26T18:30:10.228Z"
   },
   {
    "duration": 40103,
    "start_time": "2024-02-26T18:30:22.579Z"
   },
   {
    "duration": 12959,
    "start_time": "2024-02-26T18:32:05.760Z"
   },
   {
    "duration": 35,
    "start_time": "2024-02-26T18:32:44.050Z"
   },
   {
    "duration": 199,
    "start_time": "2024-02-26T18:35:19.012Z"
   },
   {
    "duration": 189,
    "start_time": "2024-02-26T18:35:30.999Z"
   },
   {
    "duration": 189,
    "start_time": "2024-02-26T18:35:35.589Z"
   },
   {
    "duration": 199,
    "start_time": "2024-02-26T18:36:16.449Z"
   },
   {
    "duration": 187,
    "start_time": "2024-02-26T18:36:20.778Z"
   },
   {
    "duration": 192,
    "start_time": "2024-02-26T18:37:28.722Z"
   },
   {
    "duration": 73,
    "start_time": "2024-02-26T18:37:48.035Z"
   },
   {
    "duration": 181,
    "start_time": "2024-02-26T18:38:00.962Z"
   },
   {
    "duration": 88,
    "start_time": "2024-02-26T18:38:34.826Z"
   },
   {
    "duration": 175,
    "start_time": "2024-02-26T18:38:42.009Z"
   },
   {
    "duration": 186,
    "start_time": "2024-02-26T18:38:54.896Z"
   },
   {
    "duration": 169,
    "start_time": "2024-02-26T18:39:02.452Z"
   },
   {
    "duration": 174,
    "start_time": "2024-02-26T18:39:16.309Z"
   },
   {
    "duration": 172,
    "start_time": "2024-02-26T18:40:09.768Z"
   },
   {
    "duration": 178,
    "start_time": "2024-02-26T18:40:52.084Z"
   },
   {
    "duration": 178,
    "start_time": "2024-02-26T18:40:59.415Z"
   },
   {
    "duration": 172,
    "start_time": "2024-02-26T18:41:05.042Z"
   },
   {
    "duration": 174,
    "start_time": "2024-02-26T18:41:17.262Z"
   },
   {
    "duration": 184,
    "start_time": "2024-02-26T18:41:33.920Z"
   },
   {
    "duration": 208,
    "start_time": "2024-02-26T18:41:45.697Z"
   },
   {
    "duration": 186,
    "start_time": "2024-02-26T18:42:10.413Z"
   },
   {
    "duration": 187,
    "start_time": "2024-02-26T18:42:14.834Z"
   },
   {
    "duration": 172,
    "start_time": "2024-02-26T18:43:03.411Z"
   },
   {
    "duration": 171,
    "start_time": "2024-02-26T18:43:26.177Z"
   },
   {
    "duration": 180,
    "start_time": "2024-02-26T18:45:14.539Z"
   },
   {
    "duration": 141,
    "start_time": "2024-02-26T18:45:40.521Z"
   },
   {
    "duration": 1719,
    "start_time": "2024-02-26T18:46:33.607Z"
   },
   {
    "duration": 1570,
    "start_time": "2024-02-26T18:48:01.224Z"
   },
   {
    "duration": 1751,
    "start_time": "2024-02-26T18:48:50.825Z"
   },
   {
    "duration": 444,
    "start_time": "2024-02-26T18:49:01.060Z"
   },
   {
    "duration": 457,
    "start_time": "2024-02-26T18:52:18.276Z"
   },
   {
    "duration": 562,
    "start_time": "2024-02-26T18:54:08.240Z"
   },
   {
    "duration": 697,
    "start_time": "2024-02-26T18:55:21.485Z"
   },
   {
    "duration": 26,
    "start_time": "2024-02-26T18:56:33.176Z"
   },
   {
    "duration": 664,
    "start_time": "2024-02-26T18:56:48.934Z"
   },
   {
    "duration": 516,
    "start_time": "2024-02-26T18:57:20.794Z"
   },
   {
    "duration": 500,
    "start_time": "2024-02-26T18:58:51.404Z"
   },
   {
    "duration": 1029,
    "start_time": "2024-02-26T19:00:22.713Z"
   },
   {
    "duration": 968,
    "start_time": "2024-02-26T19:01:57.905Z"
   },
   {
    "duration": 1764,
    "start_time": "2024-02-26T19:03:56.960Z"
   },
   {
    "duration": 1764,
    "start_time": "2024-02-26T19:04:36.026Z"
   },
   {
    "duration": 1874,
    "start_time": "2024-02-26T19:05:42.566Z"
   },
   {
    "duration": 10,
    "start_time": "2024-02-26T19:06:12.279Z"
   },
   {
    "duration": 12,
    "start_time": "2024-02-26T19:06:16.685Z"
   },
   {
    "duration": 1859,
    "start_time": "2024-02-26T19:06:37.837Z"
   },
   {
    "duration": 2065,
    "start_time": "2024-02-26T19:07:05.178Z"
   },
   {
    "duration": 4,
    "start_time": "2024-02-26T19:07:10.208Z"
   },
   {
    "duration": 2776,
    "start_time": "2024-02-26T19:07:10.214Z"
   },
   {
    "duration": 2,
    "start_time": "2024-02-26T19:07:12.992Z"
   },
   {
    "duration": 57,
    "start_time": "2024-02-26T19:07:12.997Z"
   },
   {
    "duration": 87,
    "start_time": "2024-02-26T19:07:13.056Z"
   },
   {
    "duration": 4,
    "start_time": "2024-02-26T19:07:13.145Z"
   },
   {
    "duration": 37,
    "start_time": "2024-02-26T19:07:13.151Z"
   },
   {
    "duration": 21,
    "start_time": "2024-02-26T19:07:13.190Z"
   },
   {
    "duration": 41,
    "start_time": "2024-02-26T19:07:13.213Z"
   },
   {
    "duration": 22,
    "start_time": "2024-02-26T19:07:13.256Z"
   },
   {
    "duration": 11,
    "start_time": "2024-02-26T19:07:13.280Z"
   },
   {
    "duration": 51,
    "start_time": "2024-02-26T19:07:13.292Z"
   },
   {
    "duration": 18,
    "start_time": "2024-02-26T19:07:13.345Z"
   },
   {
    "duration": 73,
    "start_time": "2024-02-26T19:07:13.365Z"
   },
   {
    "duration": 17,
    "start_time": "2024-02-26T19:07:13.440Z"
   },
   {
    "duration": 112,
    "start_time": "2024-02-26T19:07:13.458Z"
   },
   {
    "duration": 3,
    "start_time": "2024-02-26T19:07:13.571Z"
   },
   {
    "duration": 47,
    "start_time": "2024-02-26T19:07:13.575Z"
   },
   {
    "duration": 5510,
    "start_time": "2024-02-26T19:07:13.624Z"
   },
   {
    "duration": 27,
    "start_time": "2024-02-26T19:07:19.136Z"
   },
   {
    "duration": 5,
    "start_time": "2024-02-26T19:07:19.164Z"
   },
   {
    "duration": 1414,
    "start_time": "2024-02-26T19:07:19.172Z"
   },
   {
    "duration": 62,
    "start_time": "2024-02-26T19:07:20.588Z"
   },
   {
    "duration": 1677,
    "start_time": "2024-02-26T19:07:20.651Z"
   },
   {
    "duration": 440,
    "start_time": "2024-02-26T19:07:22.331Z"
   },
   {
    "duration": 22,
    "start_time": "2024-02-26T19:07:22.773Z"
   },
   {
    "duration": 372,
    "start_time": "2024-02-26T19:07:22.797Z"
   },
   {
    "duration": 22,
    "start_time": "2024-02-26T19:07:23.172Z"
   },
   {
    "duration": 51,
    "start_time": "2024-02-26T19:07:23.196Z"
   },
   {
    "duration": 12,
    "start_time": "2024-02-26T19:07:23.249Z"
   },
   {
    "duration": 1889,
    "start_time": "2024-02-26T19:07:23.262Z"
   },
   {
    "duration": 4,
    "start_time": "2024-02-26T19:07:31.120Z"
   },
   {
    "duration": 2060,
    "start_time": "2024-02-26T19:07:37.623Z"
   },
   {
    "duration": 1400,
    "start_time": "2024-02-26T19:08:07.497Z"
   },
   {
    "duration": 1430,
    "start_time": "2024-02-26T19:09:03.730Z"
   },
   {
    "duration": 181,
    "start_time": "2024-02-26T19:09:14.824Z"
   },
   {
    "duration": 179,
    "start_time": "2024-02-26T19:09:59.888Z"
   },
   {
    "duration": 163,
    "start_time": "2024-02-26T19:10:47.882Z"
   },
   {
    "duration": 177,
    "start_time": "2024-02-26T19:11:13.463Z"
   },
   {
    "duration": 209,
    "start_time": "2024-02-26T19:11:29.535Z"
   },
   {
    "duration": 183,
    "start_time": "2024-02-26T19:11:41.441Z"
   },
   {
    "duration": 169,
    "start_time": "2024-02-26T19:11:50.364Z"
   },
   {
    "duration": 165,
    "start_time": "2024-02-26T19:12:02.075Z"
   },
   {
    "duration": 162,
    "start_time": "2024-02-26T19:12:44.241Z"
   },
   {
    "duration": 151,
    "start_time": "2024-02-26T19:13:20.924Z"
   },
   {
    "duration": 146,
    "start_time": "2024-02-26T19:13:38.477Z"
   },
   {
    "duration": 159,
    "start_time": "2024-02-26T19:13:47.055Z"
   },
   {
    "duration": 1216,
    "start_time": "2024-02-26T19:15:25.401Z"
   },
   {
    "duration": 160,
    "start_time": "2024-02-26T19:15:48.277Z"
   },
   {
    "duration": 168,
    "start_time": "2024-02-26T19:16:15.827Z"
   },
   {
    "duration": 187,
    "start_time": "2024-02-26T19:16:55.890Z"
   },
   {
    "duration": 274,
    "start_time": "2024-02-26T19:19:36.986Z"
   },
   {
    "duration": 12,
    "start_time": "2024-02-26T19:20:10.551Z"
   },
   {
    "duration": 1957,
    "start_time": "2024-02-26T19:20:14.325Z"
   },
   {
    "duration": 4,
    "start_time": "2024-02-26T19:20:51.643Z"
   },
   {
    "duration": 1990,
    "start_time": "2024-02-26T19:22:54.930Z"
   },
   {
    "duration": 27,
    "start_time": "2024-02-26T19:23:29.673Z"
   },
   {
    "duration": 20,
    "start_time": "2024-02-26T19:24:16.537Z"
   },
   {
    "duration": 16,
    "start_time": "2024-02-26T19:26:30.892Z"
   },
   {
    "duration": 15,
    "start_time": "2024-02-26T19:28:17.093Z"
   },
   {
    "duration": 28,
    "start_time": "2024-02-26T19:28:22.339Z"
   },
   {
    "duration": 1155,
    "start_time": "2024-02-26T19:28:34.633Z"
   },
   {
    "duration": 1130,
    "start_time": "2024-02-26T19:30:26.377Z"
   },
   {
    "duration": 1107,
    "start_time": "2024-02-26T19:33:45.966Z"
   },
   {
    "duration": 1034,
    "start_time": "2024-02-26T19:34:06.255Z"
   },
   {
    "duration": 69,
    "start_time": "2024-02-26T19:35:51.592Z"
   },
   {
    "duration": 162,
    "start_time": "2024-02-26T19:35:58.456Z"
   },
   {
    "duration": 171,
    "start_time": "2024-02-26T19:36:20.934Z"
   },
   {
    "duration": 1150,
    "start_time": "2024-02-26T19:36:28.414Z"
   },
   {
    "duration": 1048,
    "start_time": "2024-02-26T19:36:53.679Z"
   },
   {
    "duration": 279,
    "start_time": "2024-02-26T19:40:06.791Z"
   },
   {
    "duration": 191,
    "start_time": "2024-02-26T19:40:23.507Z"
   },
   {
    "duration": 190,
    "start_time": "2024-02-26T19:40:31.610Z"
   },
   {
    "duration": 267,
    "start_time": "2024-02-26T19:40:41.752Z"
   },
   {
    "duration": 177,
    "start_time": "2024-02-26T19:40:59.807Z"
   },
   {
    "duration": 339,
    "start_time": "2024-02-26T19:41:14.045Z"
   },
   {
    "duration": 322,
    "start_time": "2024-02-26T19:41:32.257Z"
   },
   {
    "duration": 323,
    "start_time": "2024-02-26T19:42:05.139Z"
   },
   {
    "duration": 334,
    "start_time": "2024-02-26T19:42:18.040Z"
   },
   {
    "duration": 390,
    "start_time": "2024-02-26T19:42:37.669Z"
   },
   {
    "duration": 569,
    "start_time": "2024-02-26T19:42:56.878Z"
   },
   {
    "duration": 684,
    "start_time": "2024-02-26T19:43:07.020Z"
   },
   {
    "duration": 538,
    "start_time": "2024-02-26T19:43:18.264Z"
   },
   {
    "duration": 524,
    "start_time": "2024-02-26T19:43:29.165Z"
   },
   {
    "duration": 766,
    "start_time": "2024-02-26T19:44:29.820Z"
   },
   {
    "duration": 998,
    "start_time": "2024-02-26T19:44:46.151Z"
   },
   {
    "duration": 941,
    "start_time": "2024-02-26T19:44:55.214Z"
   },
   {
    "duration": 136,
    "start_time": "2024-02-26T19:45:14.811Z"
   },
   {
    "duration": 806,
    "start_time": "2024-02-26T19:45:20.611Z"
   },
   {
    "duration": 118,
    "start_time": "2024-02-26T19:45:35.999Z"
   },
   {
    "duration": 837,
    "start_time": "2024-02-26T19:45:41.936Z"
   },
   {
    "duration": 28,
    "start_time": "2024-02-26T19:47:09.937Z"
   },
   {
    "duration": 638,
    "start_time": "2024-02-26T19:47:30.531Z"
   },
   {
    "duration": 27,
    "start_time": "2024-02-26T19:47:41.560Z"
   },
   {
    "duration": 458,
    "start_time": "2024-02-26T19:47:47.286Z"
   },
   {
    "duration": 683,
    "start_time": "2024-02-26T19:48:04.766Z"
   },
   {
    "duration": 722,
    "start_time": "2024-02-26T19:48:22.375Z"
   },
   {
    "duration": 844,
    "start_time": "2024-02-26T19:48:28.488Z"
   },
   {
    "duration": 746,
    "start_time": "2024-02-26T19:48:42.023Z"
   },
   {
    "duration": 689,
    "start_time": "2024-02-26T19:49:06.228Z"
   },
   {
    "duration": 644,
    "start_time": "2024-02-26T19:49:11.344Z"
   },
   {
    "duration": 740,
    "start_time": "2024-02-26T19:49:16.002Z"
   },
   {
    "duration": 709,
    "start_time": "2024-02-26T19:49:21.673Z"
   },
   {
    "duration": 694,
    "start_time": "2024-02-26T19:49:25.330Z"
   },
   {
    "duration": 702,
    "start_time": "2024-02-26T19:49:28.356Z"
   },
   {
    "duration": 27,
    "start_time": "2024-02-26T19:50:52.526Z"
   },
   {
    "duration": 27,
    "start_time": "2024-02-26T19:51:06.546Z"
   },
   {
    "duration": 28,
    "start_time": "2024-02-26T19:51:11.718Z"
   },
   {
    "duration": 34,
    "start_time": "2024-02-26T19:51:14.285Z"
   },
   {
    "duration": 35,
    "start_time": "2024-02-26T19:52:59.626Z"
   },
   {
    "duration": 867,
    "start_time": "2024-02-26T19:53:02.813Z"
   },
   {
    "duration": 763,
    "start_time": "2024-02-26T19:55:51.502Z"
   },
   {
    "duration": 755,
    "start_time": "2024-02-26T19:56:17.603Z"
   },
   {
    "duration": 74,
    "start_time": "2024-02-26T19:58:02.432Z"
   },
   {
    "duration": 6,
    "start_time": "2024-02-26T19:59:16.276Z"
   },
   {
    "duration": 6,
    "start_time": "2024-02-26T20:00:17.702Z"
   },
   {
    "duration": 70,
    "start_time": "2024-02-26T20:21:41.424Z"
   },
   {
    "duration": 91,
    "start_time": "2024-02-26T20:21:47.671Z"
   },
   {
    "duration": 81,
    "start_time": "2024-02-26T20:22:09.289Z"
   },
   {
    "duration": 105,
    "start_time": "2024-02-26T20:22:41.168Z"
   },
   {
    "duration": 81,
    "start_time": "2024-02-26T20:22:57.126Z"
   },
   {
    "duration": 156,
    "start_time": "2024-02-26T20:24:36.457Z"
   },
   {
    "duration": 86,
    "start_time": "2024-02-26T20:25:27.692Z"
   },
   {
    "duration": 83,
    "start_time": "2024-02-26T20:25:42.420Z"
   },
   {
    "duration": 83,
    "start_time": "2024-02-26T20:25:54.185Z"
   },
   {
    "duration": 82,
    "start_time": "2024-02-26T20:25:58.044Z"
   },
   {
    "duration": 97,
    "start_time": "2024-02-26T20:26:05.463Z"
   },
   {
    "duration": 114,
    "start_time": "2024-02-26T20:26:28.734Z"
   },
   {
    "duration": 102,
    "start_time": "2024-02-26T20:26:42.773Z"
   },
   {
    "duration": 106,
    "start_time": "2024-02-26T20:27:37.562Z"
   },
   {
    "duration": 96,
    "start_time": "2024-02-26T20:27:49.131Z"
   },
   {
    "duration": 102,
    "start_time": "2024-02-26T20:27:56.542Z"
   },
   {
    "duration": 166,
    "start_time": "2024-02-26T20:28:21.875Z"
   },
   {
    "duration": 105,
    "start_time": "2024-02-26T20:28:56.665Z"
   },
   {
    "duration": 103,
    "start_time": "2024-02-26T20:30:02.291Z"
   },
   {
    "duration": 90,
    "start_time": "2024-02-26T20:30:15.097Z"
   },
   {
    "duration": 237,
    "start_time": "2024-02-26T20:30:51.366Z"
   },
   {
    "duration": 338,
    "start_time": "2024-02-26T20:34:00.127Z"
   },
   {
    "duration": 237,
    "start_time": "2024-02-26T20:35:59.025Z"
   },
   {
    "duration": 268,
    "start_time": "2024-02-26T20:36:02.631Z"
   },
   {
    "duration": 204,
    "start_time": "2024-02-26T20:40:32.437Z"
   },
   {
    "duration": 250,
    "start_time": "2024-02-26T20:40:45.155Z"
   },
   {
    "duration": 238,
    "start_time": "2024-02-26T20:41:09.975Z"
   },
   {
    "duration": 263,
    "start_time": "2024-02-26T20:41:17.806Z"
   },
   {
    "duration": 267,
    "start_time": "2024-02-26T20:42:13.584Z"
   },
   {
    "duration": 263,
    "start_time": "2024-02-26T20:43:31.465Z"
   },
   {
    "duration": 304,
    "start_time": "2024-02-26T20:44:03.442Z"
   },
   {
    "duration": 291,
    "start_time": "2024-02-26T20:44:49.312Z"
   },
   {
    "duration": 383,
    "start_time": "2024-02-26T20:45:05.010Z"
   },
   {
    "duration": 284,
    "start_time": "2024-02-26T20:45:14.448Z"
   },
   {
    "duration": 291,
    "start_time": "2024-02-26T20:52:05.468Z"
   },
   {
    "duration": 237,
    "start_time": "2024-02-26T20:52:48.053Z"
   },
   {
    "duration": 232,
    "start_time": "2024-02-26T20:53:57.855Z"
   },
   {
    "duration": 293,
    "start_time": "2024-02-26T20:54:02.676Z"
   },
   {
    "duration": 273,
    "start_time": "2024-02-26T20:54:19.194Z"
   },
   {
    "duration": 273,
    "start_time": "2024-02-26T20:55:24.341Z"
   },
   {
    "duration": 425,
    "start_time": "2024-02-26T20:55:30.487Z"
   },
   {
    "duration": 421,
    "start_time": "2024-02-26T20:56:10.683Z"
   },
   {
    "duration": 394,
    "start_time": "2024-02-26T20:56:47.021Z"
   },
   {
    "duration": 98,
    "start_time": "2024-02-26T20:59:23.627Z"
   },
   {
    "duration": 404,
    "start_time": "2024-02-26T20:59:32.799Z"
   },
   {
    "duration": 403,
    "start_time": "2024-02-26T20:59:37.492Z"
   },
   {
    "duration": 455,
    "start_time": "2024-02-26T21:00:12.276Z"
   },
   {
    "duration": 658,
    "start_time": "2024-02-26T21:00:17.960Z"
   },
   {
    "duration": 464,
    "start_time": "2024-02-26T21:00:46.231Z"
   },
   {
    "duration": 501,
    "start_time": "2024-02-26T21:03:22.963Z"
   },
   {
    "duration": 463,
    "start_time": "2024-02-26T21:04:23.334Z"
   },
   {
    "duration": 488,
    "start_time": "2024-02-26T21:04:57.203Z"
   },
   {
    "duration": 7,
    "start_time": "2024-02-26T21:42:31.259Z"
   },
   {
    "duration": 26,
    "start_time": "2024-02-26T21:42:32.954Z"
   },
   {
    "duration": 7,
    "start_time": "2024-02-26T21:42:52.258Z"
   },
   {
    "duration": 26,
    "start_time": "2024-02-26T21:42:52.769Z"
   },
   {
    "duration": 7,
    "start_time": "2024-02-26T21:43:17.426Z"
   },
   {
    "duration": 518,
    "start_time": "2024-02-26T21:43:17.902Z"
   },
   {
    "duration": 534,
    "start_time": "2024-02-26T21:43:38.360Z"
   },
   {
    "duration": 8,
    "start_time": "2024-02-26T21:48:22.290Z"
   },
   {
    "duration": 7,
    "start_time": "2024-02-26T21:48:34.362Z"
   },
   {
    "duration": 109,
    "start_time": "2024-02-26T21:49:33.434Z"
   },
   {
    "duration": 7,
    "start_time": "2024-02-26T21:51:48.096Z"
   },
   {
    "duration": 7,
    "start_time": "2024-02-26T22:00:10.921Z"
   },
   {
    "duration": 512,
    "start_time": "2024-02-26T22:00:12.185Z"
   },
   {
    "duration": 639,
    "start_time": "2024-02-26T22:03:29.596Z"
   },
   {
    "duration": 495,
    "start_time": "2024-02-26T22:09:33.905Z"
   },
   {
    "duration": 508,
    "start_time": "2024-02-26T22:09:52.416Z"
   },
   {
    "duration": 487,
    "start_time": "2024-02-26T22:10:19.509Z"
   },
   {
    "duration": 489,
    "start_time": "2024-02-26T22:10:32.910Z"
   },
   {
    "duration": 503,
    "start_time": "2024-02-26T22:10:57.205Z"
   },
   {
    "duration": 521,
    "start_time": "2024-02-26T22:11:24.304Z"
   },
   {
    "duration": 436,
    "start_time": "2024-02-26T22:12:37.661Z"
   },
   {
    "duration": 2,
    "start_time": "2024-02-26T22:26:27.669Z"
   },
   {
    "duration": 1417,
    "start_time": "2024-02-27T18:11:29.504Z"
   },
   {
    "duration": 3787,
    "start_time": "2024-02-27T18:11:30.923Z"
   },
   {
    "duration": 61,
    "start_time": "2024-02-27T18:11:34.712Z"
   },
   {
    "duration": 83,
    "start_time": "2024-02-27T18:11:34.774Z"
   },
   {
    "duration": 80,
    "start_time": "2024-02-27T18:11:34.859Z"
   },
   {
    "duration": 6,
    "start_time": "2024-02-27T18:11:34.940Z"
   },
   {
    "duration": 8,
    "start_time": "2024-02-27T18:11:34.947Z"
   },
   {
    "duration": 4,
    "start_time": "2024-02-27T18:11:34.973Z"
   },
   {
    "duration": 35,
    "start_time": "2024-02-27T18:11:34.979Z"
   },
   {
    "duration": 24,
    "start_time": "2024-02-27T18:11:35.016Z"
   },
   {
    "duration": 31,
    "start_time": "2024-02-27T18:11:35.042Z"
   },
   {
    "duration": 13,
    "start_time": "2024-02-27T18:11:35.075Z"
   },
   {
    "duration": 11,
    "start_time": "2024-02-27T18:11:35.089Z"
   },
   {
    "duration": 134,
    "start_time": "2024-02-27T18:11:35.103Z"
   },
   {
    "duration": 0,
    "start_time": "2024-02-27T18:11:35.239Z"
   },
   {
    "duration": 2,
    "start_time": "2024-02-27T18:11:44.561Z"
   },
   {
    "duration": 21,
    "start_time": "2024-02-27T18:11:47.243Z"
   },
   {
    "duration": 14,
    "start_time": "2024-02-27T18:11:48.942Z"
   },
   {
    "duration": 4,
    "start_time": "2024-02-27T18:11:55.690Z"
   },
   {
    "duration": 24,
    "start_time": "2024-02-27T18:11:55.696Z"
   },
   {
    "duration": 1515,
    "start_time": "2024-02-27T18:11:55.722Z"
   },
   {
    "duration": 22,
    "start_time": "2024-02-27T18:11:57.238Z"
   },
   {
    "duration": 14,
    "start_time": "2024-02-27T18:11:57.263Z"
   },
   {
    "duration": 2159,
    "start_time": "2024-02-27T18:11:57.279Z"
   },
   {
    "duration": 58,
    "start_time": "2024-02-27T18:11:59.440Z"
   },
   {
    "duration": 1514,
    "start_time": "2024-02-27T18:11:59.499Z"
   },
   {
    "duration": 377,
    "start_time": "2024-02-27T18:12:01.015Z"
   },
   {
    "duration": 33,
    "start_time": "2024-02-27T18:12:01.394Z"
   },
   {
    "duration": 420,
    "start_time": "2024-02-27T18:12:01.429Z"
   },
   {
    "duration": 29,
    "start_time": "2024-02-27T18:12:01.851Z"
   },
   {
    "duration": 113,
    "start_time": "2024-02-27T18:12:01.883Z"
   },
   {
    "duration": 715,
    "start_time": "2024-02-27T18:12:01.998Z"
   },
   {
    "duration": 2,
    "start_time": "2024-02-27T18:12:02.717Z"
   },
   {
    "duration": 42,
    "start_time": "2024-02-27T18:21:03.689Z"
   },
   {
    "duration": 2456,
    "start_time": "2024-02-27T18:24:00.612Z"
   },
   {
    "duration": 137,
    "start_time": "2024-02-27T18:26:04.554Z"
   },
   {
    "duration": 130,
    "start_time": "2024-02-27T18:26:25.087Z"
   },
   {
    "duration": 506,
    "start_time": "2024-02-27T18:27:02.413Z"
   },
   {
    "duration": 1595,
    "start_time": "2024-02-27T18:28:26.776Z"
   },
   {
    "duration": 1794,
    "start_time": "2024-02-27T18:28:59.764Z"
   },
   {
    "duration": 57,
    "start_time": "2024-02-27T18:29:44.753Z"
   },
   {
    "duration": 115,
    "start_time": "2024-02-27T18:30:11.077Z"
   },
   {
    "duration": 52,
    "start_time": "2024-02-27T18:30:16.499Z"
   },
   {
    "duration": 188,
    "start_time": "2024-02-27T18:30:52.338Z"
   },
   {
    "duration": 56,
    "start_time": "2024-02-27T18:31:22.758Z"
   },
   {
    "duration": 57,
    "start_time": "2024-02-27T18:32:56.218Z"
   },
   {
    "duration": 84,
    "start_time": "2024-02-27T18:33:31.859Z"
   },
   {
    "duration": 102,
    "start_time": "2024-02-27T18:33:40.423Z"
   },
   {
    "duration": 28,
    "start_time": "2024-02-27T18:38:00.001Z"
   },
   {
    "duration": 30,
    "start_time": "2024-02-27T18:38:24.930Z"
   },
   {
    "duration": 35,
    "start_time": "2024-02-27T18:39:26.110Z"
   },
   {
    "duration": 21,
    "start_time": "2024-02-27T18:39:38.646Z"
   },
   {
    "duration": 27,
    "start_time": "2024-02-27T18:40:44.678Z"
   },
   {
    "duration": 22,
    "start_time": "2024-02-27T18:40:52.194Z"
   },
   {
    "duration": 22,
    "start_time": "2024-02-27T18:41:14.325Z"
   },
   {
    "duration": 24,
    "start_time": "2024-02-27T18:42:50.307Z"
   },
   {
    "duration": 69,
    "start_time": "2024-02-27T18:44:33.857Z"
   },
   {
    "duration": 42,
    "start_time": "2024-02-27T18:44:39.925Z"
   },
   {
    "duration": 29,
    "start_time": "2024-02-27T18:49:17.527Z"
   },
   {
    "duration": 23,
    "start_time": "2024-02-27T18:49:53.366Z"
   },
   {
    "duration": 31,
    "start_time": "2024-02-27T18:50:04.362Z"
   },
   {
    "duration": 531,
    "start_time": "2024-02-27T19:08:03.909Z"
   },
   {
    "duration": 574,
    "start_time": "2024-02-27T19:08:27.628Z"
   },
   {
    "duration": 525,
    "start_time": "2024-02-27T19:08:37.794Z"
   },
   {
    "duration": 631,
    "start_time": "2024-02-27T19:08:48.087Z"
   },
   {
    "duration": 526,
    "start_time": "2024-02-27T19:20:14.268Z"
   },
   {
    "duration": 568,
    "start_time": "2024-02-27T19:25:03.676Z"
   },
   {
    "duration": 568,
    "start_time": "2024-02-27T19:25:18.919Z"
   },
   {
    "duration": 478,
    "start_time": "2024-02-27T19:25:31.627Z"
   },
   {
    "duration": 527,
    "start_time": "2024-02-27T19:28:54.158Z"
   },
   {
    "duration": 169,
    "start_time": "2024-02-27T19:34:03.354Z"
   },
   {
    "duration": 10,
    "start_time": "2024-02-27T20:11:34.303Z"
   },
   {
    "duration": 9,
    "start_time": "2024-02-27T20:13:16.854Z"
   },
   {
    "duration": 21,
    "start_time": "2024-02-27T20:13:46.422Z"
   },
   {
    "duration": 99,
    "start_time": "2024-02-27T20:26:50.888Z"
   },
   {
    "duration": 12,
    "start_time": "2024-02-27T20:26:57.615Z"
   },
   {
    "duration": 14,
    "start_time": "2024-02-27T20:29:29.595Z"
   },
   {
    "duration": 49,
    "start_time": "2024-02-27T20:31:16.320Z"
   },
   {
    "duration": 71,
    "start_time": "2024-02-27T20:31:30.375Z"
   },
   {
    "duration": 83,
    "start_time": "2024-02-27T20:33:27.362Z"
   },
   {
    "duration": 15,
    "start_time": "2024-02-27T20:35:20.135Z"
   },
   {
    "duration": 10,
    "start_time": "2024-02-27T20:36:32.574Z"
   },
   {
    "duration": 8,
    "start_time": "2024-02-27T20:37:50.688Z"
   },
   {
    "duration": 15,
    "start_time": "2024-02-27T20:38:01.868Z"
   },
   {
    "duration": 7,
    "start_time": "2024-02-27T20:38:07.510Z"
   },
   {
    "duration": 79,
    "start_time": "2024-02-27T20:38:37.661Z"
   },
   {
    "duration": 76,
    "start_time": "2024-02-27T20:39:06.602Z"
   },
   {
    "duration": 54,
    "start_time": "2024-02-27T20:40:20.168Z"
   },
   {
    "duration": 44,
    "start_time": "2024-02-27T20:40:35.092Z"
   },
   {
    "duration": 64,
    "start_time": "2024-02-27T20:40:51.041Z"
   },
   {
    "duration": 26,
    "start_time": "2024-02-27T20:41:11.379Z"
   },
   {
    "duration": 67,
    "start_time": "2024-02-27T20:41:20.486Z"
   },
   {
    "duration": 69,
    "start_time": "2024-02-27T20:41:28.047Z"
   },
   {
    "duration": 50,
    "start_time": "2024-02-27T20:43:01.354Z"
   },
   {
    "duration": 53,
    "start_time": "2024-02-27T20:43:40.590Z"
   },
   {
    "duration": 42,
    "start_time": "2024-02-27T20:43:47.087Z"
   },
   {
    "duration": 57,
    "start_time": "2024-02-27T20:44:10.292Z"
   },
   {
    "duration": 57,
    "start_time": "2024-02-27T20:44:40.731Z"
   },
   {
    "duration": 62,
    "start_time": "2024-02-27T20:46:27.939Z"
   },
   {
    "duration": 61,
    "start_time": "2024-02-27T20:46:53.978Z"
   },
   {
    "duration": 72,
    "start_time": "2024-02-27T20:47:08.538Z"
   },
   {
    "duration": 2,
    "start_time": "2024-02-27T20:48:23.752Z"
   },
   {
    "duration": 80,
    "start_time": "2024-02-27T20:55:45.763Z"
   },
   {
    "duration": 82,
    "start_time": "2024-02-27T21:12:58.518Z"
   },
   {
    "duration": 76,
    "start_time": "2024-02-27T21:13:31.331Z"
   },
   {
    "duration": 79,
    "start_time": "2024-02-27T21:14:42.598Z"
   },
   {
    "duration": 105,
    "start_time": "2024-02-27T21:14:54.783Z"
   },
   {
    "duration": 92,
    "start_time": "2024-02-27T21:15:28.934Z"
   },
   {
    "duration": 75,
    "start_time": "2024-02-27T21:15:36.790Z"
   },
   {
    "duration": 73,
    "start_time": "2024-02-27T21:15:48.511Z"
   },
   {
    "duration": 85,
    "start_time": "2024-02-27T21:15:52.559Z"
   },
   {
    "duration": 85,
    "start_time": "2024-02-27T21:15:56.612Z"
   },
   {
    "duration": 89,
    "start_time": "2024-02-27T21:16:02.597Z"
   },
   {
    "duration": 82,
    "start_time": "2024-02-27T21:16:07.639Z"
   },
   {
    "duration": 85,
    "start_time": "2024-02-27T21:16:16.828Z"
   },
   {
    "duration": 90,
    "start_time": "2024-02-27T21:16:27.764Z"
   },
   {
    "duration": 76,
    "start_time": "2024-02-27T21:16:51.689Z"
   },
   {
    "duration": 9,
    "start_time": "2024-02-27T21:21:58.240Z"
   },
   {
    "duration": 9,
    "start_time": "2024-02-27T21:22:11.344Z"
   },
   {
    "duration": 9,
    "start_time": "2024-02-27T21:22:21.127Z"
   },
   {
    "duration": 14,
    "start_time": "2024-02-27T21:24:21.165Z"
   },
   {
    "duration": 16,
    "start_time": "2024-02-27T21:24:55.128Z"
   },
   {
    "duration": 17,
    "start_time": "2024-02-27T21:25:02.568Z"
   },
   {
    "duration": 8,
    "start_time": "2024-02-27T21:25:17.163Z"
   },
   {
    "duration": 7,
    "start_time": "2024-02-27T21:26:14.511Z"
   },
   {
    "duration": 18,
    "start_time": "2024-02-27T21:34:06.164Z"
   },
   {
    "duration": 36,
    "start_time": "2024-02-27T21:34:36.600Z"
   },
   {
    "duration": 37,
    "start_time": "2024-02-27T21:36:07.340Z"
   },
   {
    "duration": 36,
    "start_time": "2024-02-27T21:37:44.870Z"
   },
   {
    "duration": 43,
    "start_time": "2024-02-27T21:37:52.678Z"
   },
   {
    "duration": 38,
    "start_time": "2024-02-27T21:38:21.445Z"
   },
   {
    "duration": 40,
    "start_time": "2024-02-27T21:39:10.920Z"
   },
   {
    "duration": 39,
    "start_time": "2024-02-27T21:42:07.333Z"
   },
   {
    "duration": 11,
    "start_time": "2024-02-27T21:50:53.870Z"
   },
   {
    "duration": 12,
    "start_time": "2024-02-27T21:51:12.708Z"
   },
   {
    "duration": 12,
    "start_time": "2024-02-27T21:51:21.825Z"
   },
   {
    "duration": 30,
    "start_time": "2024-02-27T21:52:14.814Z"
   },
   {
    "duration": 24,
    "start_time": "2024-02-27T21:52:25.733Z"
   },
   {
    "duration": 40,
    "start_time": "2024-02-27T22:04:08.731Z"
   },
   {
    "duration": 104,
    "start_time": "2024-02-27T22:14:36.168Z"
   },
   {
    "duration": 3,
    "start_time": "2024-02-27T22:19:40.996Z"
   },
   {
    "duration": 2,
    "start_time": "2024-02-27T22:19:54.163Z"
   },
   {
    "duration": 3,
    "start_time": "2024-02-27T22:22:06.655Z"
   },
   {
    "duration": 28754,
    "start_time": "2024-02-27T22:28:00.527Z"
   },
   {
    "duration": 1419,
    "start_time": "2024-02-27T22:28:30.892Z"
   },
   {
    "duration": 2316,
    "start_time": "2024-02-27T22:29:49.161Z"
   },
   {
    "duration": 1428,
    "start_time": "2024-02-27T22:30:31.736Z"
   },
   {
    "duration": 1462,
    "start_time": "2024-02-28T16:18:01.965Z"
   },
   {
    "duration": 3746,
    "start_time": "2024-02-28T16:18:03.429Z"
   },
   {
    "duration": 58,
    "start_time": "2024-02-28T16:18:07.177Z"
   },
   {
    "duration": 84,
    "start_time": "2024-02-28T16:18:07.237Z"
   },
   {
    "duration": 83,
    "start_time": "2024-02-28T16:18:07.323Z"
   },
   {
    "duration": 4,
    "start_time": "2024-02-28T16:18:07.408Z"
   },
   {
    "duration": 12,
    "start_time": "2024-02-28T16:18:07.414Z"
   },
   {
    "duration": 4,
    "start_time": "2024-02-28T16:18:07.428Z"
   },
   {
    "duration": 57,
    "start_time": "2024-02-28T16:18:07.433Z"
   },
   {
    "duration": 23,
    "start_time": "2024-02-28T16:18:07.491Z"
   },
   {
    "duration": 9,
    "start_time": "2024-02-28T16:18:07.515Z"
   },
   {
    "duration": 21,
    "start_time": "2024-02-28T16:18:07.525Z"
   },
   {
    "duration": 46,
    "start_time": "2024-02-28T16:18:07.547Z"
   },
   {
    "duration": 39,
    "start_time": "2024-02-28T16:18:07.596Z"
   },
   {
    "duration": 13,
    "start_time": "2024-02-28T16:18:07.637Z"
   },
   {
    "duration": 28,
    "start_time": "2024-02-28T16:18:07.652Z"
   },
   {
    "duration": 1561,
    "start_time": "2024-02-28T16:18:07.682Z"
   },
   {
    "duration": 21,
    "start_time": "2024-02-28T16:18:09.245Z"
   },
   {
    "duration": 15,
    "start_time": "2024-02-28T16:18:09.267Z"
   },
   {
    "duration": 2358,
    "start_time": "2024-02-28T16:18:09.283Z"
   },
   {
    "duration": 60,
    "start_time": "2024-02-28T16:18:11.643Z"
   },
   {
    "duration": 1528,
    "start_time": "2024-02-28T16:18:11.705Z"
   },
   {
    "duration": 355,
    "start_time": "2024-02-28T16:18:13.236Z"
   },
   {
    "duration": 24,
    "start_time": "2024-02-28T16:18:13.594Z"
   },
   {
    "duration": 352,
    "start_time": "2024-02-28T16:18:13.620Z"
   },
   {
    "duration": 27,
    "start_time": "2024-02-28T16:18:13.973Z"
   },
   {
    "duration": 526,
    "start_time": "2024-02-28T16:18:14.002Z"
   },
   {
    "duration": 3,
    "start_time": "2024-02-28T16:18:14.530Z"
   },
   {
    "duration": 55,
    "start_time": "2024-02-28T16:18:14.535Z"
   },
   {
    "duration": 3,
    "start_time": "2024-02-28T16:18:14.592Z"
   },
   {
    "duration": 4,
    "start_time": "2024-02-28T16:21:47.238Z"
   },
   {
    "duration": 4,
    "start_time": "2024-02-28T16:28:09.220Z"
   },
   {
    "duration": 4,
    "start_time": "2024-02-28T16:28:14.958Z"
   },
   {
    "duration": 4,
    "start_time": "2024-02-28T16:28:27.691Z"
   },
   {
    "duration": 5,
    "start_time": "2024-02-28T18:30:56.264Z"
   },
   {
    "duration": 4,
    "start_time": "2024-02-28T18:31:05.533Z"
   },
   {
    "duration": 5,
    "start_time": "2024-02-28T18:31:26.244Z"
   },
   {
    "duration": 4,
    "start_time": "2024-02-28T18:31:36.234Z"
   },
   {
    "duration": 115,
    "start_time": "2024-02-28T18:31:57.544Z"
   },
   {
    "duration": 3,
    "start_time": "2024-02-28T18:35:02.555Z"
   },
   {
    "duration": 8,
    "start_time": "2024-02-28T18:40:54.065Z"
   },
   {
    "duration": 4,
    "start_time": "2024-02-28T18:43:43.146Z"
   },
   {
    "duration": 3,
    "start_time": "2024-02-28T18:44:15.294Z"
   },
   {
    "duration": 20,
    "start_time": "2024-02-28T18:47:02.138Z"
   },
   {
    "duration": 8,
    "start_time": "2024-02-28T18:47:12.723Z"
   },
   {
    "duration": 9,
    "start_time": "2024-02-28T18:49:11.951Z"
   },
   {
    "duration": 9,
    "start_time": "2024-02-28T18:49:32.462Z"
   },
   {
    "duration": 14,
    "start_time": "2024-02-28T18:49:41.218Z"
   },
   {
    "duration": 14,
    "start_time": "2024-02-28T18:50:05.624Z"
   },
   {
    "duration": 14,
    "start_time": "2024-02-28T18:50:33.145Z"
   },
   {
    "duration": 16,
    "start_time": "2024-02-28T18:51:19.482Z"
   },
   {
    "duration": 9,
    "start_time": "2024-02-28T18:51:41.317Z"
   },
   {
    "duration": 9,
    "start_time": "2024-02-28T18:51:48.397Z"
   },
   {
    "duration": 8,
    "start_time": "2024-02-28T18:52:40.426Z"
   },
   {
    "duration": 7,
    "start_time": "2024-02-28T18:53:01.641Z"
   },
   {
    "duration": 8,
    "start_time": "2024-02-28T18:53:14.426Z"
   },
   {
    "duration": 11,
    "start_time": "2024-02-28T18:53:21.130Z"
   },
   {
    "duration": 8,
    "start_time": "2024-02-28T18:53:31.693Z"
   },
   {
    "duration": 8,
    "start_time": "2024-02-28T18:54:09.632Z"
   },
   {
    "duration": 13,
    "start_time": "2024-02-28T18:56:37.802Z"
   },
   {
    "duration": 8,
    "start_time": "2024-02-28T18:56:46.285Z"
   },
   {
    "duration": 3,
    "start_time": "2024-02-28T18:58:09.725Z"
   },
   {
    "duration": 4,
    "start_time": "2024-02-28T18:59:00.440Z"
   },
   {
    "duration": 4,
    "start_time": "2024-02-28T19:00:47.250Z"
   },
   {
    "duration": 5,
    "start_time": "2024-02-28T19:01:00.501Z"
   },
   {
    "duration": 4,
    "start_time": "2024-02-28T19:01:22.863Z"
   },
   {
    "duration": 4,
    "start_time": "2024-02-28T19:04:05.687Z"
   },
   {
    "duration": 3,
    "start_time": "2024-02-28T19:04:21.248Z"
   },
   {
    "duration": 4,
    "start_time": "2024-02-28T19:04:33.745Z"
   },
   {
    "duration": 3,
    "start_time": "2024-02-28T19:04:47.708Z"
   },
   {
    "duration": 12,
    "start_time": "2024-02-28T19:05:57.691Z"
   },
   {
    "duration": 4,
    "start_time": "2024-02-28T19:06:04.727Z"
   },
   {
    "duration": 3,
    "start_time": "2024-02-28T19:06:13.053Z"
   },
   {
    "duration": 3,
    "start_time": "2024-02-28T19:06:35.234Z"
   },
   {
    "duration": 3,
    "start_time": "2024-02-28T19:06:45.315Z"
   },
   {
    "duration": 4,
    "start_time": "2024-02-28T19:06:59.187Z"
   },
   {
    "duration": 6,
    "start_time": "2024-02-28T19:08:05.197Z"
   },
   {
    "duration": 3,
    "start_time": "2024-02-28T19:10:59.236Z"
   },
   {
    "duration": 4,
    "start_time": "2024-02-28T19:11:31.651Z"
   },
   {
    "duration": 5,
    "start_time": "2024-02-28T19:11:31.742Z"
   },
   {
    "duration": 4,
    "start_time": "2024-02-28T19:14:11.970Z"
   },
   {
    "duration": 4,
    "start_time": "2024-02-28T19:16:38.659Z"
   },
   {
    "duration": 3,
    "start_time": "2024-02-28T19:19:48.830Z"
   },
   {
    "duration": 4,
    "start_time": "2024-02-28T19:19:55.255Z"
   },
   {
    "duration": 6,
    "start_time": "2024-02-28T19:24:43.018Z"
   },
   {
    "duration": 6,
    "start_time": "2024-02-28T19:24:54.480Z"
   },
   {
    "duration": 5,
    "start_time": "2024-02-28T19:25:00.513Z"
   },
   {
    "duration": 6,
    "start_time": "2024-02-28T19:25:05.067Z"
   },
   {
    "duration": 7,
    "start_time": "2024-02-28T19:25:19.454Z"
   },
   {
    "duration": 13,
    "start_time": "2024-02-28T19:25:31.166Z"
   },
   {
    "duration": 6,
    "start_time": "2024-02-28T19:25:39.610Z"
   },
   {
    "duration": 6,
    "start_time": "2024-02-28T19:25:43.437Z"
   },
   {
    "duration": 9,
    "start_time": "2024-02-28T19:26:14.075Z"
   },
   {
    "duration": 10,
    "start_time": "2024-02-28T19:26:28.859Z"
   },
   {
    "duration": 19,
    "start_time": "2024-02-28T19:27:58.439Z"
   },
   {
    "duration": 20,
    "start_time": "2024-02-28T19:28:09.862Z"
   },
   {
    "duration": 13,
    "start_time": "2024-02-28T19:28:18.340Z"
   },
   {
    "duration": 19,
    "start_time": "2024-02-28T20:15:52.613Z"
   },
   {
    "duration": 16,
    "start_time": "2024-02-28T20:16:11.515Z"
   },
   {
    "duration": 22,
    "start_time": "2024-02-28T20:16:23.575Z"
   },
   {
    "duration": 162,
    "start_time": "2024-02-28T20:16:34.487Z"
   },
   {
    "duration": 122,
    "start_time": "2024-02-28T20:16:41.549Z"
   },
   {
    "duration": 1466,
    "start_time": "2024-02-28T20:27:20.023Z"
   },
   {
    "duration": 1445,
    "start_time": "2024-02-28T20:28:04.681Z"
   },
   {
    "duration": 308,
    "start_time": "2024-02-28T20:28:41.697Z"
   },
   {
    "duration": 304,
    "start_time": "2024-02-28T20:28:52.655Z"
   },
   {
    "duration": 304,
    "start_time": "2024-02-28T20:30:59.958Z"
   },
   {
    "duration": 298,
    "start_time": "2024-02-28T20:31:28.242Z"
   },
   {
    "duration": 316,
    "start_time": "2024-02-28T20:43:45.103Z"
   },
   {
    "duration": 326,
    "start_time": "2024-02-28T20:45:33.030Z"
   },
   {
    "duration": 266,
    "start_time": "2024-02-28T20:46:09.691Z"
   },
   {
    "duration": 286,
    "start_time": "2024-02-28T20:47:09.494Z"
   },
   {
    "duration": 209,
    "start_time": "2024-02-28T20:47:45.506Z"
   },
   {
    "duration": 362,
    "start_time": "2024-02-28T20:48:53.569Z"
   },
   {
    "duration": 370,
    "start_time": "2024-02-28T20:49:27.748Z"
   },
   {
    "duration": 362,
    "start_time": "2024-02-28T20:49:39.302Z"
   },
   {
    "duration": 347,
    "start_time": "2024-02-28T20:50:20.794Z"
   },
   {
    "duration": 293,
    "start_time": "2024-02-28T20:55:33.531Z"
   },
   {
    "duration": 291,
    "start_time": "2024-02-28T21:00:52.862Z"
   },
   {
    "duration": 318,
    "start_time": "2024-02-28T21:01:25.898Z"
   },
   {
    "duration": 26,
    "start_time": "2024-02-28T21:02:52.027Z"
   },
   {
    "duration": 14,
    "start_time": "2024-02-28T21:03:56.640Z"
   },
   {
    "duration": 95,
    "start_time": "2024-02-28T21:04:01.430Z"
   },
   {
    "duration": 57,
    "start_time": "2024-02-28T21:06:03.303Z"
   },
   {
    "duration": 225,
    "start_time": "2024-02-28T21:06:09.096Z"
   },
   {
    "duration": 325,
    "start_time": "2024-02-28T21:07:42.562Z"
   },
   {
    "duration": 235,
    "start_time": "2024-02-28T21:07:48.863Z"
   },
   {
    "duration": 561,
    "start_time": "2024-02-28T21:08:50.571Z"
   },
   {
    "duration": 544,
    "start_time": "2024-02-28T21:09:16.536Z"
   },
   {
    "duration": 2654,
    "start_time": "2024-02-28T21:10:52.410Z"
   },
   {
    "duration": 2658,
    "start_time": "2024-02-28T21:13:36.122Z"
   },
   {
    "duration": 2449,
    "start_time": "2024-02-28T21:17:02.658Z"
   },
   {
    "duration": 2639,
    "start_time": "2024-02-28T21:19:09.621Z"
   },
   {
    "duration": 2294,
    "start_time": "2024-02-28T21:19:29.690Z"
   },
   {
    "duration": 21,
    "start_time": "2024-02-28T21:22:34.059Z"
   },
   {
    "duration": 2308,
    "start_time": "2024-02-28T21:23:22.791Z"
   },
   {
    "duration": 2305,
    "start_time": "2024-02-28T21:24:06.260Z"
   },
   {
    "duration": 14,
    "start_time": "2024-02-28T21:26:55.563Z"
   },
   {
    "duration": 38,
    "start_time": "2024-02-28T21:27:02.143Z"
   },
   {
    "duration": 2386,
    "start_time": "2024-02-28T21:27:53.994Z"
   },
   {
    "duration": 35,
    "start_time": "2024-02-28T21:31:45.341Z"
   },
   {
    "duration": 162,
    "start_time": "2024-02-28T21:42:45.546Z"
   },
   {
    "duration": 8,
    "start_time": "2024-02-28T21:43:48.535Z"
   },
   {
    "duration": 2410,
    "start_time": "2024-02-28T21:46:01.452Z"
   },
   {
    "duration": 2372,
    "start_time": "2024-02-28T21:47:02.534Z"
   },
   {
    "duration": 11,
    "start_time": "2024-02-28T21:49:22.864Z"
   },
   {
    "duration": 2371,
    "start_time": "2024-02-28T21:49:25.292Z"
   },
   {
    "duration": 6,
    "start_time": "2024-02-28T21:50:06.661Z"
   },
   {
    "duration": 2357,
    "start_time": "2024-02-28T21:50:08.943Z"
   },
   {
    "duration": 7,
    "start_time": "2024-02-28T21:50:33.099Z"
   },
   {
    "duration": 7,
    "start_time": "2024-02-28T21:51:01.671Z"
   },
   {
    "duration": 2297,
    "start_time": "2024-02-28T21:51:03.641Z"
   },
   {
    "duration": 8,
    "start_time": "2024-02-28T21:52:13.305Z"
   },
   {
    "duration": 2364,
    "start_time": "2024-02-28T21:52:14.861Z"
   },
   {
    "duration": 8,
    "start_time": "2024-02-28T21:52:31.344Z"
   },
   {
    "duration": 2396,
    "start_time": "2024-02-28T21:52:33.362Z"
   },
   {
    "duration": 2383,
    "start_time": "2024-02-28T21:56:48.036Z"
   },
   {
    "duration": 2349,
    "start_time": "2024-02-28T21:57:00.006Z"
   },
   {
    "duration": 9,
    "start_time": "2024-02-28T22:07:45.008Z"
   },
   {
    "duration": 2290,
    "start_time": "2024-02-28T22:07:47.469Z"
   },
   {
    "duration": 2353,
    "start_time": "2024-02-28T22:08:00.818Z"
   },
   {
    "duration": 10,
    "start_time": "2024-02-28T22:08:39.945Z"
   },
   {
    "duration": 2267,
    "start_time": "2024-02-28T22:08:41.879Z"
   },
   {
    "duration": 11,
    "start_time": "2024-02-28T22:09:26.344Z"
   },
   {
    "duration": 2258,
    "start_time": "2024-02-28T22:09:27.469Z"
   },
   {
    "duration": 8,
    "start_time": "2024-02-28T22:10:07.533Z"
   },
   {
    "duration": 2311,
    "start_time": "2024-02-28T22:10:14.184Z"
   },
   {
    "duration": 8,
    "start_time": "2024-02-28T22:10:29.434Z"
   },
   {
    "duration": 2303,
    "start_time": "2024-02-28T22:10:31.355Z"
   },
   {
    "duration": 14,
    "start_time": "2024-02-28T22:20:28.989Z"
   },
   {
    "duration": 212,
    "start_time": "2024-02-28T22:20:31.780Z"
   },
   {
    "duration": 8,
    "start_time": "2024-02-28T22:20:49.348Z"
   },
   {
    "duration": 212,
    "start_time": "2024-02-28T22:20:50.554Z"
   },
   {
    "duration": 8,
    "start_time": "2024-02-28T22:21:06.928Z"
   },
   {
    "duration": 2299,
    "start_time": "2024-02-28T22:21:10.626Z"
   },
   {
    "duration": 8,
    "start_time": "2024-02-28T22:22:27.747Z"
   },
   {
    "duration": 2290,
    "start_time": "2024-02-28T22:22:30.615Z"
   },
   {
    "duration": 8,
    "start_time": "2024-02-28T22:23:12.880Z"
   },
   {
    "duration": 2287,
    "start_time": "2024-02-28T22:23:14.095Z"
   },
   {
    "duration": 8,
    "start_time": "2024-02-28T22:23:22.839Z"
   },
   {
    "duration": 2223,
    "start_time": "2024-02-28T22:23:23.679Z"
   },
   {
    "duration": 7,
    "start_time": "2024-02-28T22:23:56.789Z"
   },
   {
    "duration": 2257,
    "start_time": "2024-02-28T22:23:57.555Z"
   },
   {
    "duration": 2375,
    "start_time": "2024-02-28T22:24:09.524Z"
   },
   {
    "duration": 8,
    "start_time": "2024-02-28T22:25:21.760Z"
   },
   {
    "duration": 2243,
    "start_time": "2024-02-28T22:25:22.861Z"
   },
   {
    "duration": 8,
    "start_time": "2024-02-28T22:25:41.709Z"
   },
   {
    "duration": 2274,
    "start_time": "2024-02-28T22:25:42.495Z"
   },
   {
    "duration": 2405,
    "start_time": "2024-02-28T22:25:46.354Z"
   },
   {
    "duration": 2,
    "start_time": "2024-02-28T22:28:21.275Z"
   },
   {
    "duration": 2299,
    "start_time": "2024-02-28T22:32:10.120Z"
   },
   {
    "duration": 22,
    "start_time": "2024-02-28T22:33:39.437Z"
   },
   {
    "duration": 26,
    "start_time": "2024-02-28T22:36:50.608Z"
   },
   {
    "duration": 9,
    "start_time": "2024-02-28T22:39:07.051Z"
   },
   {
    "duration": 17,
    "start_time": "2024-02-28T22:39:10.395Z"
   },
   {
    "duration": 8,
    "start_time": "2024-02-28T22:40:05.458Z"
   },
   {
    "duration": 2343,
    "start_time": "2024-02-28T22:40:06.842Z"
   },
   {
    "duration": 63,
    "start_time": "2024-02-28T22:46:54.720Z"
   },
   {
    "duration": 6,
    "start_time": "2024-02-28T22:51:54.995Z"
   },
   {
    "duration": 47,
    "start_time": "2024-02-28T22:51:56.908Z"
   },
   {
    "duration": 9,
    "start_time": "2024-02-28T22:56:13.183Z"
   },
   {
    "duration": 2365,
    "start_time": "2024-02-28T22:56:14.181Z"
   },
   {
    "duration": 8,
    "start_time": "2024-02-28T22:56:28.389Z"
   },
   {
    "duration": 2354,
    "start_time": "2024-02-28T22:56:31.383Z"
   },
   {
    "duration": 8,
    "start_time": "2024-02-28T22:56:45.991Z"
   },
   {
    "duration": 2370,
    "start_time": "2024-02-28T22:56:46.842Z"
   },
   {
    "duration": 13,
    "start_time": "2024-02-28T22:57:08.542Z"
   },
   {
    "duration": 2575,
    "start_time": "2024-02-28T22:57:09.306Z"
   },
   {
    "duration": 165,
    "start_time": "2024-02-28T22:57:28.447Z"
   },
   {
    "duration": 105,
    "start_time": "2024-02-28T22:57:38.344Z"
   },
   {
    "duration": 9,
    "start_time": "2024-02-28T22:57:44.598Z"
   },
   {
    "duration": 2354,
    "start_time": "2024-02-28T22:57:45.836Z"
   },
   {
    "duration": 2856,
    "start_time": "2024-02-28T22:59:12.053Z"
   },
   {
    "duration": 8,
    "start_time": "2024-02-28T23:10:14.884Z"
   },
   {
    "duration": 2400,
    "start_time": "2024-02-28T23:10:16.107Z"
   },
   {
    "duration": 2819,
    "start_time": "2024-02-28T23:10:20.679Z"
   },
   {
    "duration": 6,
    "start_time": "2024-02-28T23:16:29.202Z"
   },
   {
    "duration": 51,
    "start_time": "2024-02-28T23:16:30.540Z"
   },
   {
    "duration": 9,
    "start_time": "2024-02-28T23:16:45.020Z"
   },
   {
    "duration": 2378,
    "start_time": "2024-02-28T23:16:47.483Z"
   },
   {
    "duration": 2882,
    "start_time": "2024-02-28T23:17:00.863Z"
   },
   {
    "duration": 6,
    "start_time": "2024-02-28T23:34:29.997Z"
   },
   {
    "duration": 47,
    "start_time": "2024-02-28T23:34:32.725Z"
   },
   {
    "duration": 2432,
    "start_time": "2024-02-28T23:34:39.836Z"
   },
   {
    "duration": 22,
    "start_time": "2024-02-28T23:51:53.462Z"
   },
   {
    "duration": 1248,
    "start_time": "2024-02-29T00:29:00.778Z"
   },
   {
    "duration": 2614,
    "start_time": "2024-02-29T00:29:02.028Z"
   },
   {
    "duration": 59,
    "start_time": "2024-02-29T00:29:04.644Z"
   },
   {
    "duration": 49,
    "start_time": "2024-02-29T00:29:04.705Z"
   },
   {
    "duration": 87,
    "start_time": "2024-02-29T00:29:04.757Z"
   },
   {
    "duration": 5,
    "start_time": "2024-02-29T00:29:04.846Z"
   },
   {
    "duration": 28,
    "start_time": "2024-02-29T00:29:04.853Z"
   },
   {
    "duration": 4,
    "start_time": "2024-02-29T00:29:04.883Z"
   },
   {
    "duration": 37,
    "start_time": "2024-02-29T00:29:04.888Z"
   },
   {
    "duration": 23,
    "start_time": "2024-02-29T00:29:04.926Z"
   },
   {
    "duration": 29,
    "start_time": "2024-02-29T00:29:04.951Z"
   },
   {
    "duration": 20,
    "start_time": "2024-02-29T00:29:04.982Z"
   },
   {
    "duration": 12,
    "start_time": "2024-02-29T00:29:05.004Z"
   },
   {
    "duration": 66,
    "start_time": "2024-02-29T00:29:05.019Z"
   },
   {
    "duration": 14,
    "start_time": "2024-02-29T00:29:05.087Z"
   },
   {
    "duration": 2,
    "start_time": "2024-02-29T00:29:05.103Z"
   },
   {
    "duration": 1537,
    "start_time": "2024-02-29T00:29:05.107Z"
   },
   {
    "duration": 41,
    "start_time": "2024-02-29T00:29:06.645Z"
   },
   {
    "duration": 7,
    "start_time": "2024-02-29T00:29:06.688Z"
   },
   {
    "duration": 2357,
    "start_time": "2024-02-29T00:29:06.697Z"
   },
   {
    "duration": 6,
    "start_time": "2024-02-29T00:29:09.056Z"
   },
   {
    "duration": 56,
    "start_time": "2024-02-29T00:29:09.063Z"
   },
   {
    "duration": 1552,
    "start_time": "2024-02-29T00:29:09.121Z"
   },
   {
    "duration": 356,
    "start_time": "2024-02-29T00:29:10.675Z"
   },
   {
    "duration": 22,
    "start_time": "2024-02-29T00:29:11.032Z"
   },
   {
    "duration": 353,
    "start_time": "2024-02-29T00:29:11.056Z"
   },
   {
    "duration": 23,
    "start_time": "2024-02-29T00:29:11.411Z"
   },
   {
    "duration": 602,
    "start_time": "2024-02-29T00:29:11.435Z"
   },
   {
    "duration": 3,
    "start_time": "2024-02-29T00:29:12.039Z"
   },
   {
    "duration": 57,
    "start_time": "2024-02-29T00:29:12.043Z"
   },
   {
    "duration": 3,
    "start_time": "2024-02-29T00:29:12.102Z"
   },
   {
    "duration": 9,
    "start_time": "2024-02-29T00:29:12.106Z"
   },
   {
    "duration": 2405,
    "start_time": "2024-02-29T00:29:12.117Z"
   },
   {
    "duration": 2893,
    "start_time": "2024-02-29T00:29:14.524Z"
   },
   {
    "duration": 1087,
    "start_time": "2024-02-29T07:42:05.853Z"
   },
   {
    "duration": 3243,
    "start_time": "2024-02-29T07:42:06.941Z"
   },
   {
    "duration": 956,
    "start_time": "2024-02-29T07:42:10.186Z"
   },
   {
    "duration": 42,
    "start_time": "2024-02-29T07:42:11.143Z"
   },
   {
    "duration": 73,
    "start_time": "2024-02-29T07:42:11.187Z"
   },
   {
    "duration": 5,
    "start_time": "2024-02-29T07:42:11.261Z"
   },
   {
    "duration": 36,
    "start_time": "2024-02-29T07:42:11.267Z"
   },
   {
    "duration": 14,
    "start_time": "2024-02-29T07:42:11.304Z"
   },
   {
    "duration": 43,
    "start_time": "2024-02-29T07:42:11.319Z"
   },
   {
    "duration": 20,
    "start_time": "2024-02-29T07:42:11.363Z"
   },
   {
    "duration": 8,
    "start_time": "2024-02-29T07:42:11.384Z"
   },
   {
    "duration": 22,
    "start_time": "2024-02-29T07:42:11.394Z"
   },
   {
    "duration": 31,
    "start_time": "2024-02-29T07:42:11.418Z"
   },
   {
    "duration": 43,
    "start_time": "2024-02-29T07:42:11.452Z"
   },
   {
    "duration": 13,
    "start_time": "2024-02-29T07:42:11.498Z"
   },
   {
    "duration": 4,
    "start_time": "2024-02-29T07:42:11.512Z"
   },
   {
    "duration": 1385,
    "start_time": "2024-02-29T07:42:11.518Z"
   },
   {
    "duration": 19,
    "start_time": "2024-02-29T07:42:12.905Z"
   },
   {
    "duration": 20,
    "start_time": "2024-02-29T07:42:12.925Z"
   },
   {
    "duration": 2247,
    "start_time": "2024-02-29T07:42:12.947Z"
   },
   {
    "duration": 6,
    "start_time": "2024-02-29T07:42:15.196Z"
   },
   {
    "duration": 93,
    "start_time": "2024-02-29T07:42:15.204Z"
   },
   {
    "duration": 1347,
    "start_time": "2024-02-29T07:42:15.299Z"
   },
   {
    "duration": 333,
    "start_time": "2024-02-29T07:42:16.648Z"
   },
   {
    "duration": 21,
    "start_time": "2024-02-29T07:42:16.983Z"
   },
   {
    "duration": 324,
    "start_time": "2024-02-29T07:42:17.005Z"
   },
   {
    "duration": 27,
    "start_time": "2024-02-29T07:42:17.330Z"
   },
   {
    "duration": 488,
    "start_time": "2024-02-29T07:42:17.358Z"
   },
   {
    "duration": 2,
    "start_time": "2024-02-29T07:42:17.848Z"
   },
   {
    "duration": 63,
    "start_time": "2024-02-29T07:42:17.851Z"
   },
   {
    "duration": 2,
    "start_time": "2024-02-29T07:42:17.915Z"
   },
   {
    "duration": 8,
    "start_time": "2024-02-29T07:42:17.919Z"
   },
   {
    "duration": 2122,
    "start_time": "2024-02-29T07:42:17.928Z"
   },
   {
    "duration": 2700,
    "start_time": "2024-02-29T07:42:20.051Z"
   },
   {
    "duration": 1418,
    "start_time": "2024-02-29T16:53:17.061Z"
   },
   {
    "duration": 3494,
    "start_time": "2024-02-29T16:53:18.481Z"
   },
   {
    "duration": 78,
    "start_time": "2024-02-29T16:53:21.977Z"
   },
   {
    "duration": 148,
    "start_time": "2024-02-29T16:53:22.057Z"
   },
   {
    "duration": 82,
    "start_time": "2024-02-29T16:53:22.207Z"
   },
   {
    "duration": 5,
    "start_time": "2024-02-29T16:53:22.291Z"
   },
   {
    "duration": 28,
    "start_time": "2024-02-29T16:53:22.298Z"
   },
   {
    "duration": 4,
    "start_time": "2024-02-29T16:53:22.329Z"
   },
   {
    "duration": 34,
    "start_time": "2024-02-29T16:53:22.334Z"
   },
   {
    "duration": 24,
    "start_time": "2024-02-29T16:53:22.371Z"
   },
   {
    "duration": 35,
    "start_time": "2024-02-29T16:53:22.396Z"
   },
   {
    "duration": 21,
    "start_time": "2024-02-29T16:53:22.433Z"
   },
   {
    "duration": 23,
    "start_time": "2024-02-29T16:53:22.456Z"
   },
   {
    "duration": 65,
    "start_time": "2024-02-29T16:53:22.481Z"
   },
   {
    "duration": 16,
    "start_time": "2024-02-29T16:54:02.506Z"
   },
   {
    "duration": 24,
    "start_time": "2024-02-29T16:54:17.147Z"
   },
   {
    "duration": 19,
    "start_time": "2024-02-29T16:55:00.807Z"
   },
   {
    "duration": 5,
    "start_time": "2024-02-29T16:55:10.552Z"
   },
   {
    "duration": 20,
    "start_time": "2024-02-29T16:55:25.668Z"
   },
   {
    "duration": 133,
    "start_time": "2024-02-29T16:55:44.621Z"
   },
   {
    "duration": 7,
    "start_time": "2024-02-29T16:55:51.114Z"
   },
   {
    "duration": 68,
    "start_time": "2024-02-29T16:56:50.414Z"
   },
   {
    "duration": 6,
    "start_time": "2024-02-29T16:56:55.164Z"
   },
   {
    "duration": 6,
    "start_time": "2024-02-29T16:57:25.278Z"
   },
   {
    "duration": 8,
    "start_time": "2024-02-29T16:57:37.208Z"
   },
   {
    "duration": 77,
    "start_time": "2024-02-29T17:03:08.952Z"
   },
   {
    "duration": 14,
    "start_time": "2024-02-29T17:03:17.321Z"
   },
   {
    "duration": 72,
    "start_time": "2024-02-29T17:04:02.203Z"
   },
   {
    "duration": 89,
    "start_time": "2024-02-29T17:04:09.957Z"
   },
   {
    "duration": 89,
    "start_time": "2024-02-29T17:04:58.420Z"
   },
   {
    "duration": 83,
    "start_time": "2024-02-29T17:05:35.958Z"
   },
   {
    "duration": 12,
    "start_time": "2024-02-29T17:05:48.026Z"
   },
   {
    "duration": 11,
    "start_time": "2024-02-29T17:06:57.003Z"
   },
   {
    "duration": 12,
    "start_time": "2024-02-29T17:07:20.070Z"
   },
   {
    "duration": 11,
    "start_time": "2024-02-29T17:07:29.250Z"
   },
   {
    "duration": 4,
    "start_time": "2024-02-29T17:09:46.449Z"
   },
   {
    "duration": 2634,
    "start_time": "2024-02-29T17:09:46.455Z"
   },
   {
    "duration": 3,
    "start_time": "2024-02-29T17:09:49.092Z"
   },
   {
    "duration": 47,
    "start_time": "2024-02-29T17:09:49.097Z"
   },
   {
    "duration": 99,
    "start_time": "2024-02-29T17:09:49.147Z"
   },
   {
    "duration": 6,
    "start_time": "2024-02-29T17:09:49.248Z"
   },
   {
    "duration": 20,
    "start_time": "2024-02-29T17:09:49.255Z"
   },
   {
    "duration": 6,
    "start_time": "2024-02-29T17:09:49.277Z"
   },
   {
    "duration": 60,
    "start_time": "2024-02-29T17:09:49.285Z"
   },
   {
    "duration": 23,
    "start_time": "2024-02-29T17:09:49.347Z"
   },
   {
    "duration": 9,
    "start_time": "2024-02-29T17:09:49.372Z"
   },
   {
    "duration": 50,
    "start_time": "2024-02-29T17:09:49.383Z"
   },
   {
    "duration": 14,
    "start_time": "2024-02-29T17:09:49.434Z"
   },
   {
    "duration": 51,
    "start_time": "2024-02-29T17:09:49.450Z"
   },
   {
    "duration": 35,
    "start_time": "2024-02-29T17:09:49.502Z"
   },
   {
    "duration": 16,
    "start_time": "2024-02-29T17:09:49.539Z"
   },
   {
    "duration": 3,
    "start_time": "2024-02-29T17:10:32.476Z"
   },
   {
    "duration": 1607,
    "start_time": "2024-02-29T17:10:40.562Z"
   },
   {
    "duration": 425,
    "start_time": "2024-02-29T17:12:07.250Z"
   },
   {
    "duration": 382,
    "start_time": "2024-02-29T17:12:22.100Z"
   },
   {
    "duration": 135,
    "start_time": "2024-02-29T17:19:06.511Z"
   },
   {
    "duration": 389,
    "start_time": "2024-02-29T17:19:12.053Z"
   },
   {
    "duration": 120,
    "start_time": "2024-02-29T17:19:16.770Z"
   },
   {
    "duration": 507,
    "start_time": "2024-02-29T17:19:22.882Z"
   },
   {
    "duration": 399,
    "start_time": "2024-02-29T17:25:23.909Z"
   },
   {
    "duration": 396,
    "start_time": "2024-02-29T17:25:40.943Z"
   },
   {
    "duration": 131438,
    "start_time": "2024-02-29T17:26:16.089Z"
   },
   {
    "duration": 5935,
    "start_time": "2024-02-29T17:29:06.691Z"
   },
   {
    "duration": 1595,
    "start_time": "2024-02-29T17:29:52.426Z"
   },
   {
    "duration": 1289,
    "start_time": "2024-02-29T18:19:07.391Z"
   },
   {
    "duration": 2700,
    "start_time": "2024-02-29T18:19:08.682Z"
   },
   {
    "duration": 63,
    "start_time": "2024-02-29T18:19:11.385Z"
   },
   {
    "duration": 44,
    "start_time": "2024-02-29T18:19:11.451Z"
   },
   {
    "duration": 98,
    "start_time": "2024-02-29T18:19:11.497Z"
   },
   {
    "duration": 5,
    "start_time": "2024-02-29T18:19:11.597Z"
   },
   {
    "duration": 27,
    "start_time": "2024-02-29T18:19:11.603Z"
   },
   {
    "duration": 10,
    "start_time": "2024-02-29T18:19:11.632Z"
   },
   {
    "duration": 34,
    "start_time": "2024-02-29T18:19:11.644Z"
   },
   {
    "duration": 43,
    "start_time": "2024-02-29T18:19:11.681Z"
   },
   {
    "duration": 10,
    "start_time": "2024-02-29T18:19:11.726Z"
   },
   {
    "duration": 30,
    "start_time": "2024-02-29T18:19:11.737Z"
   },
   {
    "duration": 13,
    "start_time": "2024-02-29T18:19:11.769Z"
   },
   {
    "duration": 79,
    "start_time": "2024-02-29T18:19:11.784Z"
   },
   {
    "duration": 15,
    "start_time": "2024-02-29T18:19:11.864Z"
   },
   {
    "duration": 16,
    "start_time": "2024-02-29T18:19:11.881Z"
   },
   {
    "duration": 12,
    "start_time": "2024-02-29T18:19:11.899Z"
   },
   {
    "duration": 1769,
    "start_time": "2024-02-29T18:19:11.922Z"
   },
   {
    "duration": 34,
    "start_time": "2024-02-29T18:19:13.693Z"
   },
   {
    "duration": 6,
    "start_time": "2024-02-29T18:19:13.728Z"
   },
   {
    "duration": 2397,
    "start_time": "2024-02-29T18:19:13.736Z"
   },
   {
    "duration": 6,
    "start_time": "2024-02-29T18:19:16.135Z"
   },
   {
    "duration": 51,
    "start_time": "2024-02-29T18:19:16.143Z"
   },
   {
    "duration": 1578,
    "start_time": "2024-02-29T18:19:16.196Z"
   },
   {
    "duration": 374,
    "start_time": "2024-02-29T18:19:17.775Z"
   },
   {
    "duration": 24,
    "start_time": "2024-02-29T18:19:18.150Z"
   },
   {
    "duration": 359,
    "start_time": "2024-02-29T18:19:18.175Z"
   },
   {
    "duration": 30,
    "start_time": "2024-02-29T18:19:18.538Z"
   },
   {
    "duration": 547,
    "start_time": "2024-02-29T18:19:18.570Z"
   },
   {
    "duration": 5,
    "start_time": "2024-02-29T18:19:19.118Z"
   },
   {
    "duration": 62,
    "start_time": "2024-02-29T18:19:19.124Z"
   },
   {
    "duration": 3,
    "start_time": "2024-02-29T18:19:19.187Z"
   },
   {
    "duration": 14,
    "start_time": "2024-02-29T18:19:19.192Z"
   },
   {
    "duration": 2465,
    "start_time": "2024-02-29T18:19:19.207Z"
   },
   {
    "duration": 2915,
    "start_time": "2024-02-29T18:19:21.674Z"
   },
   {
    "duration": 1136,
    "start_time": "2024-02-29T19:44:57.651Z"
   },
   {
    "duration": 2330,
    "start_time": "2024-02-29T19:44:58.789Z"
   },
   {
    "duration": 663,
    "start_time": "2024-02-29T19:45:01.121Z"
   },
   {
    "duration": 153,
    "start_time": "2024-02-29T19:45:01.787Z"
   },
   {
    "duration": 79,
    "start_time": "2024-02-29T19:45:01.942Z"
   },
   {
    "duration": 5,
    "start_time": "2024-02-29T19:45:02.022Z"
   },
   {
    "duration": 29,
    "start_time": "2024-02-29T19:45:02.029Z"
   },
   {
    "duration": 31,
    "start_time": "2024-02-29T19:45:02.060Z"
   },
   {
    "duration": 74,
    "start_time": "2024-02-29T19:45:02.092Z"
   },
   {
    "duration": 21,
    "start_time": "2024-02-29T19:45:02.169Z"
   },
   {
    "duration": 14,
    "start_time": "2024-02-29T19:45:02.192Z"
   },
   {
    "duration": 35,
    "start_time": "2024-02-29T19:45:02.208Z"
   },
   {
    "duration": 11,
    "start_time": "2024-02-29T19:45:02.245Z"
   },
   {
    "duration": 41,
    "start_time": "2024-02-29T19:45:02.266Z"
   },
   {
    "duration": 13,
    "start_time": "2024-02-29T19:45:02.308Z"
   },
   {
    "duration": 33,
    "start_time": "2024-02-29T19:45:02.323Z"
   },
   {
    "duration": 27,
    "start_time": "2024-02-29T19:45:02.358Z"
   },
   {
    "duration": 1546,
    "start_time": "2024-02-29T19:45:02.386Z"
   },
   {
    "duration": 20,
    "start_time": "2024-02-29T19:45:03.933Z"
   },
   {
    "duration": 6,
    "start_time": "2024-02-29T19:45:03.965Z"
   },
   {
    "duration": 2156,
    "start_time": "2024-02-29T19:45:03.973Z"
   },
   {
    "duration": 5,
    "start_time": "2024-02-29T19:45:06.130Z"
   },
   {
    "duration": 57,
    "start_time": "2024-02-29T19:45:06.137Z"
   },
   {
    "duration": 1412,
    "start_time": "2024-02-29T19:45:06.195Z"
   },
   {
    "duration": 329,
    "start_time": "2024-02-29T19:45:07.608Z"
   },
   {
    "duration": 30,
    "start_time": "2024-02-29T19:45:07.938Z"
   },
   {
    "duration": 298,
    "start_time": "2024-02-29T19:45:07.970Z"
   },
   {
    "duration": 21,
    "start_time": "2024-02-29T19:45:08.271Z"
   },
   {
    "duration": 478,
    "start_time": "2024-02-29T19:45:08.293Z"
   },
   {
    "duration": 3,
    "start_time": "2024-02-29T19:45:08.772Z"
   },
   {
    "duration": 53,
    "start_time": "2024-02-29T19:45:08.776Z"
   },
   {
    "duration": 2,
    "start_time": "2024-02-29T19:45:08.831Z"
   },
   {
    "duration": 34,
    "start_time": "2024-02-29T19:45:08.835Z"
   },
   {
    "duration": 2175,
    "start_time": "2024-02-29T19:45:08.871Z"
   },
   {
    "duration": 2572,
    "start_time": "2024-02-29T19:45:11.047Z"
   },
   {
    "duration": 77,
    "start_time": "2024-02-29T21:56:23.400Z"
   },
   {
    "duration": 8,
    "start_time": "2024-02-29T21:56:48.307Z"
   },
   {
    "duration": 91,
    "start_time": "2024-02-29T21:58:55.406Z"
   },
   {
    "duration": 7,
    "start_time": "2024-02-29T21:59:30.858Z"
   },
   {
    "duration": 7,
    "start_time": "2024-02-29T21:59:37.652Z"
   },
   {
    "duration": 3,
    "start_time": "2024-02-29T21:59:51.570Z"
   },
   {
    "duration": 5,
    "start_time": "2024-02-29T21:59:59.510Z"
   },
   {
    "duration": 8,
    "start_time": "2024-02-29T22:00:14.733Z"
   },
   {
    "duration": 7,
    "start_time": "2024-02-29T22:00:33.641Z"
   },
   {
    "duration": 10,
    "start_time": "2024-02-29T22:01:45.137Z"
   },
   {
    "duration": 8,
    "start_time": "2024-02-29T22:02:00.730Z"
   },
   {
    "duration": 76,
    "start_time": "2024-02-29T22:03:39.209Z"
   },
   {
    "duration": 9,
    "start_time": "2024-02-29T22:04:04.628Z"
   },
   {
    "duration": 8,
    "start_time": "2024-02-29T22:04:20.408Z"
   },
   {
    "duration": 9,
    "start_time": "2024-02-29T22:04:44.134Z"
   },
   {
    "duration": 9,
    "start_time": "2024-02-29T22:04:52.798Z"
   },
   {
    "duration": 9,
    "start_time": "2024-02-29T22:05:02.674Z"
   },
   {
    "duration": 8,
    "start_time": "2024-02-29T22:05:32.102Z"
   },
   {
    "duration": 1254,
    "start_time": "2024-02-29T22:16:48.315Z"
   },
   {
    "duration": 2539,
    "start_time": "2024-02-29T22:16:49.570Z"
   },
   {
    "duration": 61,
    "start_time": "2024-02-29T22:16:52.111Z"
   },
   {
    "duration": 43,
    "start_time": "2024-02-29T22:16:52.175Z"
   },
   {
    "duration": 105,
    "start_time": "2024-02-29T22:16:52.220Z"
   },
   {
    "duration": 6,
    "start_time": "2024-02-29T22:16:52.327Z"
   },
   {
    "duration": 9,
    "start_time": "2024-02-29T22:16:52.335Z"
   },
   {
    "duration": 4,
    "start_time": "2024-02-29T22:16:52.346Z"
   },
   {
    "duration": 33,
    "start_time": "2024-02-29T22:16:52.352Z"
   },
   {
    "duration": 30,
    "start_time": "2024-02-29T22:16:52.424Z"
   },
   {
    "duration": 11,
    "start_time": "2024-02-29T22:16:52.456Z"
   },
   {
    "duration": 21,
    "start_time": "2024-02-29T22:16:52.468Z"
   },
   {
    "duration": 44,
    "start_time": "2024-02-29T22:16:52.490Z"
   },
   {
    "duration": 38,
    "start_time": "2024-02-29T22:16:52.536Z"
   },
   {
    "duration": 14,
    "start_time": "2024-02-29T22:16:52.576Z"
   },
   {
    "duration": 34,
    "start_time": "2024-02-29T22:16:52.591Z"
   },
   {
    "duration": 15,
    "start_time": "2024-02-29T22:16:52.626Z"
   },
   {
    "duration": 12,
    "start_time": "2024-02-29T22:16:52.642Z"
   },
   {
    "duration": 1669,
    "start_time": "2024-02-29T22:16:52.656Z"
   },
   {
    "duration": 23,
    "start_time": "2024-02-29T22:16:54.327Z"
   },
   {
    "duration": 6,
    "start_time": "2024-02-29T22:16:54.352Z"
   },
   {
    "duration": 2389,
    "start_time": "2024-02-29T22:16:54.360Z"
   },
   {
    "duration": 8,
    "start_time": "2024-02-29T22:16:56.751Z"
   },
   {
    "duration": 62,
    "start_time": "2024-02-29T22:16:56.761Z"
   },
   {
    "duration": 1521,
    "start_time": "2024-02-29T22:16:56.825Z"
   },
   {
    "duration": 346,
    "start_time": "2024-02-29T22:16:58.348Z"
   },
   {
    "duration": 31,
    "start_time": "2024-02-29T22:16:58.695Z"
   },
   {
    "duration": 321,
    "start_time": "2024-02-29T22:16:58.730Z"
   },
   {
    "duration": 21,
    "start_time": "2024-02-29T22:16:59.053Z"
   },
   {
    "duration": 514,
    "start_time": "2024-02-29T22:16:59.076Z"
   },
   {
    "duration": 3,
    "start_time": "2024-02-29T22:16:59.592Z"
   },
   {
    "duration": 49,
    "start_time": "2024-02-29T22:16:59.596Z"
   },
   {
    "duration": 3,
    "start_time": "2024-02-29T22:16:59.646Z"
   },
   {
    "duration": 9,
    "start_time": "2024-02-29T22:16:59.650Z"
   },
   {
    "duration": 182,
    "start_time": "2024-02-29T22:16:59.661Z"
   },
   {
    "duration": 0,
    "start_time": "2024-02-29T22:16:59.845Z"
   },
   {
    "duration": 5267,
    "start_time": "2024-02-29T22:18:03.857Z"
   },
   {
    "duration": 2772,
    "start_time": "2024-02-29T22:18:23.801Z"
   },
   {
    "duration": 80,
    "start_time": "2024-02-29T22:22:32.125Z"
   },
   {
    "duration": 70,
    "start_time": "2024-02-29T22:22:55.702Z"
   },
   {
    "duration": 2836,
    "start_time": "2024-02-29T22:23:14.274Z"
   },
   {
    "duration": 5386,
    "start_time": "2024-02-29T22:23:42.596Z"
   },
   {
    "duration": 2835,
    "start_time": "2024-02-29T22:27:13.232Z"
   },
   {
    "duration": 1243,
    "start_time": "2024-02-29T22:33:22.309Z"
   },
   {
    "duration": 2562,
    "start_time": "2024-02-29T22:33:23.553Z"
   },
   {
    "duration": 59,
    "start_time": "2024-02-29T22:33:26.117Z"
   },
   {
    "duration": 43,
    "start_time": "2024-02-29T22:33:26.178Z"
   },
   {
    "duration": 101,
    "start_time": "2024-02-29T22:33:26.223Z"
   },
   {
    "duration": 6,
    "start_time": "2024-02-29T22:33:26.325Z"
   },
   {
    "duration": 18,
    "start_time": "2024-02-29T22:33:26.332Z"
   },
   {
    "duration": 4,
    "start_time": "2024-02-29T22:33:26.351Z"
   },
   {
    "duration": 78,
    "start_time": "2024-02-29T22:33:26.357Z"
   },
   {
    "duration": 28,
    "start_time": "2024-02-29T22:33:26.437Z"
   },
   {
    "duration": 9,
    "start_time": "2024-02-29T22:33:26.466Z"
   },
   {
    "duration": 21,
    "start_time": "2024-02-29T22:33:26.477Z"
   },
   {
    "duration": 33,
    "start_time": "2024-02-29T22:33:26.500Z"
   },
   {
    "duration": 44,
    "start_time": "2024-02-29T22:33:26.534Z"
   },
   {
    "duration": 14,
    "start_time": "2024-02-29T22:33:26.580Z"
   },
   {
    "duration": 37,
    "start_time": "2024-02-29T22:33:26.595Z"
   },
   {
    "duration": 22,
    "start_time": "2024-02-29T22:33:26.634Z"
   },
   {
    "duration": 3,
    "start_time": "2024-02-29T22:33:26.658Z"
   },
   {
    "duration": 1678,
    "start_time": "2024-02-29T22:33:26.662Z"
   },
   {
    "duration": 22,
    "start_time": "2024-02-29T22:33:28.341Z"
   },
   {
    "duration": 5,
    "start_time": "2024-02-29T22:33:28.364Z"
   },
   {
    "duration": 2286,
    "start_time": "2024-02-29T22:33:28.370Z"
   },
   {
    "duration": 10,
    "start_time": "2024-02-29T22:33:30.658Z"
   },
   {
    "duration": 290,
    "start_time": "2024-02-29T22:33:30.670Z"
   },
   {
    "duration": 1461,
    "start_time": "2024-02-29T22:33:30.961Z"
   },
   {
    "duration": 371,
    "start_time": "2024-02-29T22:33:32.423Z"
   },
   {
    "duration": 37,
    "start_time": "2024-02-29T22:33:32.796Z"
   },
   {
    "duration": 346,
    "start_time": "2024-02-29T22:33:32.836Z"
   },
   {
    "duration": 24,
    "start_time": "2024-02-29T22:33:33.184Z"
   },
   {
    "duration": 532,
    "start_time": "2024-02-29T22:33:33.210Z"
   },
   {
    "duration": 2,
    "start_time": "2024-02-29T22:33:33.744Z"
   },
   {
    "duration": 45,
    "start_time": "2024-02-29T22:33:33.748Z"
   },
   {
    "duration": 2,
    "start_time": "2024-02-29T22:33:33.794Z"
   },
   {
    "duration": 25,
    "start_time": "2024-02-29T22:33:33.798Z"
   },
   {
    "duration": 5326,
    "start_time": "2024-02-29T22:33:33.825Z"
   },
   {
    "duration": 2854,
    "start_time": "2024-02-29T22:33:39.152Z"
   },
   {
    "duration": 1381,
    "start_time": "2024-03-01T07:55:53.440Z"
   },
   {
    "duration": 3497,
    "start_time": "2024-03-01T07:55:54.823Z"
   },
   {
    "duration": 779,
    "start_time": "2024-03-01T07:55:58.322Z"
   },
   {
    "duration": 80,
    "start_time": "2024-03-01T07:55:59.103Z"
   },
   {
    "duration": 105,
    "start_time": "2024-03-01T07:55:59.184Z"
   },
   {
    "duration": 6,
    "start_time": "2024-03-01T07:55:59.292Z"
   },
   {
    "duration": 10,
    "start_time": "2024-03-01T07:55:59.299Z"
   },
   {
    "duration": 6,
    "start_time": "2024-03-01T07:55:59.311Z"
   },
   {
    "duration": 61,
    "start_time": "2024-03-01T07:55:59.319Z"
   },
   {
    "duration": 24,
    "start_time": "2024-03-01T07:55:59.383Z"
   },
   {
    "duration": 9,
    "start_time": "2024-03-01T07:55:59.408Z"
   },
   {
    "duration": 38,
    "start_time": "2024-03-01T07:55:59.419Z"
   },
   {
    "duration": 28,
    "start_time": "2024-03-01T07:55:59.459Z"
   },
   {
    "duration": 42,
    "start_time": "2024-03-01T07:55:59.489Z"
   },
   {
    "duration": 36,
    "start_time": "2024-03-01T07:55:59.534Z"
   },
   {
    "duration": 16,
    "start_time": "2024-03-01T07:55:59.571Z"
   },
   {
    "duration": 8,
    "start_time": "2024-03-01T07:55:59.589Z"
   },
   {
    "duration": 3,
    "start_time": "2024-03-01T07:55:59.599Z"
   },
   {
    "duration": 1736,
    "start_time": "2024-03-01T07:55:59.604Z"
   },
   {
    "duration": 22,
    "start_time": "2024-03-01T07:56:01.342Z"
   },
   {
    "duration": 21,
    "start_time": "2024-03-01T07:56:01.379Z"
   },
   {
    "duration": 2401,
    "start_time": "2024-03-01T07:56:01.402Z"
   },
   {
    "duration": 6,
    "start_time": "2024-03-01T07:56:03.806Z"
   },
   {
    "duration": 79,
    "start_time": "2024-03-01T07:56:03.814Z"
   },
   {
    "duration": 1583,
    "start_time": "2024-03-01T07:56:03.894Z"
   },
   {
    "duration": 377,
    "start_time": "2024-03-01T07:56:05.479Z"
   },
   {
    "duration": 31,
    "start_time": "2024-03-01T07:56:05.857Z"
   },
   {
    "duration": 341,
    "start_time": "2024-03-01T07:56:05.891Z"
   },
   {
    "duration": 23,
    "start_time": "2024-03-01T07:56:06.234Z"
   },
   {
    "duration": 545,
    "start_time": "2024-03-01T07:56:06.259Z"
   },
   {
    "duration": 3,
    "start_time": "2024-03-01T07:56:06.806Z"
   },
   {
    "duration": 74,
    "start_time": "2024-03-01T07:56:06.810Z"
   },
   {
    "duration": 3,
    "start_time": "2024-03-01T07:56:06.886Z"
   },
   {
    "duration": 24,
    "start_time": "2024-03-01T07:56:06.891Z"
   },
   {
    "duration": 5676,
    "start_time": "2024-03-01T07:56:06.917Z"
   },
   {
    "duration": 2894,
    "start_time": "2024-03-01T07:56:12.595Z"
   }
  ],
  "kernelspec": {
   "display_name": "Python 3 (ipykernel)",
   "language": "python",
   "name": "python3"
  },
  "language_info": {
   "codemirror_mode": {
    "name": "ipython",
    "version": 3
   },
   "file_extension": ".py",
   "mimetype": "text/x-python",
   "name": "python",
   "nbconvert_exporter": "python",
   "pygments_lexer": "ipython3",
   "version": "3.9.5"
  },
  "toc": {
   "base_numbering": 1,
   "nav_menu": {},
   "number_sections": true,
   "sideBar": true,
   "skip_h1_title": true,
   "title_cell": "Table of Contents",
   "title_sidebar": "Contents",
   "toc_cell": false,
   "toc_position": {
    "height": "272px",
    "left": "444px",
    "top": "111.141px",
    "width": "177px"
   },
   "toc_section_display": true,
   "toc_window_display": true
  }
 },
 "nbformat": 4,
 "nbformat_minor": 4
}
