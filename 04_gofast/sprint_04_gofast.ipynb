{
 "cells": [
  {
   "cell_type": "markdown",
   "id": "34e06f95",
   "metadata": {},
   "source": [
    "# Исследование поведения пользователей сервиса GoFast"
   ]
  },
  {
   "cell_type": "markdown",
   "id": "08f6e0b6",
   "metadata": {
    "toc": true
   },
   "source": [
    "<h1>Содержание<span class=\"tocSkip\"></span></h1>\n",
    "<div class=\"toc\"><ul class=\"toc-item\"><li><span><a href=\"#Описание-проекта\" data-toc-modified-id=\"Описание-проекта-1\"><span class=\"toc-item-num\">1&nbsp;&nbsp;</span>Описание проекта</a></span></li><li><span><a href=\"#Ознакомление-с-данными\" data-toc-modified-id=\"Ознакомление-с-данными-2\"><span class=\"toc-item-num\">2&nbsp;&nbsp;</span>Ознакомление с данными</a></span></li><li><span><a href=\"#Предобработка-данных\" data-toc-modified-id=\"Предобработка-данных-3\"><span class=\"toc-item-num\">3&nbsp;&nbsp;</span>Предобработка данных</a></span><ul class=\"toc-item\"><li><span><a href=\"#Изменение-типа-данных\" data-toc-modified-id=\"Изменение-типа-данных-3.1\"><span class=\"toc-item-num\">3.1&nbsp;&nbsp;</span>Изменение типа данных</a></span></li><li><span><a href=\"#Добавление-столбца-с-номером-месяца\" data-toc-modified-id=\"Добавление-столбца-с-номером-месяца-3.2\"><span class=\"toc-item-num\">3.2&nbsp;&nbsp;</span>Добавление столбца с номером месяца</a></span><li><span><a href=\"#Проверка-пропусков-и-дубликатов\" data-toc-modified-id=\"Проверка-пропусков-и-дубликатов-3.3\"><span class=\"toc-item-num\">3.3&nbsp;&nbsp;</span>Проверка пропусков и дубликатов</a></span></li></ul></li><li><span><a href=\"#Исследовательский-анализ-данных\" data-toc-modified-id=\"Исследовательский-анализ-данных-4\"><span class=\"toc-item-num\">4&nbsp;&nbsp;</span>Исследовательский анализ данных</a></span><ul class=\"toc-item\"><li><span><a href=\"#Частота-встречаемости-городов\" data-toc-modified-id=\"Частота-встречаемости-городов-4.1\"><span class=\"toc-item-num\">4.1&nbsp;&nbsp;</span>Частота встречаемости городов</a></span><li><span><a href=\"#Cоотношение-пользователей-с-подпиской-и-без-подписки\" data-toc-modified-id=\"Cоотношение-пользователей-с-подпиской-и-без-подписки-4.2\"><span class=\"toc-item-num\">4.2&nbsp;&nbsp;</span>Cоотношение пользователей с подпиской и без подписки</a></span><li><span><a href=\"#Возраст-пользователей\" data-toc-modified-id=\"Возраст-пользователей-4.3\"><span class=\"toc-item-num\">4.3&nbsp;&nbsp;</span>Возраст пользователей</a></span></li><li><span><a href=\"#Расстояние,-которое-пользователь-преодолел-за-одну-поездку\" data-toc-modified-id=\"Расстояние,-которое-пользователь-преодолел-за-одну-поездку-4.4\"><span class=\"toc-item-num\">4.4&nbsp;&nbsp;</span>Расстояние, которое пользователь преодолел за одну поездку</a></span><li><span><a href=\"#Продолжительность-поездок\" data-toc-modified-id=\"Продолжительность-поездок-4.5\"><span class=\"toc-item-num\">4.5&nbsp;&nbsp;</span>Продолжительность поездок</a></span><li><span><a href=\"#Объединение-данных\" data-toc-modified-id=\"Объединение-данных-5\"><span class=\"toc-item-num\">5&nbsp;&nbsp;</span>Объединение данных</a></span><ul class=\"toc-item\"><li><span><a href=\"#Общий-датафрейм\" data-toc-modified-id=\"Общий-датафрейм-5.1\"><span class=\"toc-item-num\">5.1&nbsp;&nbsp;</span>Общий датафрейм</a></span></li><li><span><a href=\"#Деление-пользователей\" data-toc-modified-id=\"Деление-пользователей-5.2\"><span class=\"toc-item-num\">5.2&nbsp;&nbsp;</span>Деление пользователей</a></span></li><li><span><a href=\"#Визуализация-поведения-пользователей\" data-toc-modified-id=\"Визуализация-поведения-пользователей-5.3\"><span class=\"toc-item-num\">5.3&nbsp;&nbsp;</span>Визуализация поведения пользователей</a></span></li></ul></li><li><span><a href=\"#Подсчёт-выручки\" data-toc-modified-id=\"Подсчёт-выручки-6\"><span class=\"toc-item-num\">6&nbsp;&nbsp;</span>Подсчёт выручки</a></span><ul class=\"toc-item\"><li><span><a href=\"#Датафрейм-с-агрегированными-данными\" data-toc-modified-id=\"Датафрейм-с-агрегированными-данными-6.1\"><span class=\"toc-item-num\">6.1&nbsp;&nbsp;</span>Датафрейм с агрегированными данными</a></span><li><span><a href=\"#Расчет-выручки\" data-toc-modified-id=\"Расчет-выручки-6.2\"><span class=\"toc-item-num\">6.2&nbsp;&nbsp;</span>Расчет выручки</a></span><li><span><a href=\"#Проверка-гипотез\" data-toc-modified-id=\"Проверка-гипотез-7\"><span class=\"toc-item-num\">7&nbsp;&nbsp;</span>Проверка гипотез</a></span><ul class=\"toc-item\"><li><span><a href=\"#Длительность-поездок\" data-toc-modified-id=\"Длительность-поездок-7.1\"><span class=\"toc-item-num\">7.1&nbsp;&nbsp;</span>Длительность поездок</a></span><li><span><a href=\"#Расстояние-поездок\" data-toc-modified-id=\"Расстояние-поездок-7.2\"><span class=\"toc-item-num\">7.2&nbsp;&nbsp;</span>Расстояние поездок</a></span><li><span><a href=\"#Помесячная-выручка\" data-toc-modified-id=\"Помесячная-выручка-7.3\"><span class=\"toc-item-num\">7.3&nbsp;&nbsp;</span>Помесячная выручка</a></span><li><span><a href=\"#Обновление-серверов\" data-toc-modified-id=\"Обновление-серверов-7.4\"><span class=\"toc-item-num\">7.4&nbsp;&nbsp;</span>Обновление серверов</a></span></li></ul></li><li><span><a href=\"#Вывод\" data-toc-modified-id=\"Вывод-8\"><span class=\"toc-item-num\">8&nbsp;&nbsp;</span>Вывод</a></span></div>"
   ]
  },
  {
   "cell_type": "markdown",
   "id": "37dee7fb",
   "metadata": {},
   "source": [
    "## Описание проекта"
   ]
  },
  {
   "cell_type": "markdown",
   "id": "8f3db4d9",
   "metadata": {},
   "source": [
    "В нашем распоряжении данные сервиса аренды самокатов GoFast. Для аренды самокатов используется мобильное приложение. Клиентам доступен сервис как с подпиской, так и без подписки.\n",
    "\n",
    "**Без подписки:**\n",
    "- Абнонетская плата отсутствует\n",
    "- Стоимость поездки 8 руб./мин.\n",
    "- Стоимость старта (начала поездки) - 50 руб.\n",
    "\n",
    "**С подпиской:**\n",
    "- Абнонетская плата: 199 руб./мес.\n",
    "- Стоимость поездки: 6 руб./мин.\n",
    "- Стоимость старта: бесплатно\n",
    "\n",
    "Нам предстоит провести предварительный анализ данных о поведении пользователей сервиса аренды самокатов и проверить несколько гипотез, чтобы помочь вырасти бизнесу. В нашем распоряжении 3 таблицы:"
   ]
  },
  {
   "cell_type": "markdown",
   "id": "49f28f60",
   "metadata": {},
   "source": [
    "**Пользователи** - `users_go.csv`\n",
    "- `user_id` - уникальный идентификатор пользователя\n",
    "- `name` - имя пользователя\n",
    "- `age` - возраст\n",
    "- `city` - город\n",
    "- `subscription_type` - тип подписки (free, ultra)\n",
    "\n",
    "**Поездки** - `rides_go.csv`\n",
    "- `user_id` - уникальный идентификатор пользователя\n",
    "- `distance` - расстояние, которое пользователь проехал в текущей сессии (в метрах)\n",
    "- `duration` - продолжительность сессии (в минутах) — время с того момента, как пользователь нажал кнопку «Начать поездку» до момента, как он нажал кнопку «Завершить поездку»\n",
    "- `date` - дата совершения поездки\n",
    "\n",
    "**Подписки** - `subscriptions_go.csv`\n",
    "- `subscription_type` - тип подписки\n",
    "- `minute_price` - стоимость одной минуты поездки по данной подписке\n",
    "- `start_ride_price` - стоимость начала поездки\n",
    "- `subscription_fee` - стоимость ежемесячного платежа"
   ]
  },
  {
   "cell_type": "markdown",
   "id": "8024ed22",
   "metadata": {},
   "source": [
    "## Ознакомление с данными"
   ]
  },
  {
   "cell_type": "code",
   "execution_count": 1,
   "id": "9d1ddf92",
   "metadata": {},
   "outputs": [],
   "source": [
    "# импорт библиотек\n",
    "import pandas as pd\n",
    "import matplotlib.pyplot as plt\n",
    "import seaborn as sns\n",
    "import numpy as np\n",
    "from scipy import stats as st\n",
    "\n",
    "pd.set_option(\"display.float_format\", \"{:.2f}\".format)\n",
    "pd.set_option('display.max_columns', 50)"
   ]
  },
  {
   "cell_type": "markdown",
   "id": "1bc2e32a",
   "metadata": {},
   "source": [
    "Прочтем данные из таблиц и запишем их в переменные"
   ]
  },
  {
   "cell_type": "code",
   "execution_count": 2,
   "id": "aa39e913",
   "metadata": {},
   "outputs": [],
   "source": [
    "df_users = pd.read_csv('/datasets/users_go.csv')\n",
    "df_rides = pd.read_csv('/datasets/rides_go.csv')\n",
    "df_subscriptions = pd.read_csv('/datasets/subscriptions_go.csv')"
   ]
  },
  {
   "cell_type": "code",
   "execution_count": 3,
   "id": "ae811b86",
   "metadata": {
    "scrolled": false
   },
   "outputs": [],
   "source": [
    "# напишем функцию, выводящую информацию о каждой таблице\n",
    "def get_data_info(df, df_name):\n",
    "    print(df_name)\n",
    "    display(df.head(10))\n",
    "    display(df.info())\n",
    "    display(df.describe(percentiles=[0.05, 1/4, 1/2, 3/4, 0.95, 0.99]).T)\n",
    "    print('Количество дубликатов:', df.duplicated().sum())\n",
    "    print('-' * 100)"
   ]
  },
  {
   "cell_type": "code",
   "execution_count": 4,
   "id": "d93fa29c",
   "metadata": {},
   "outputs": [
    {
     "name": "stdout",
     "output_type": "stream",
     "text": [
      "Таблица \"df_users\" (пользователи)\n"
     ]
    },
    {
     "data": {
      "text/html": [
       "<div>\n",
       "<style scoped>\n",
       "    .dataframe tbody tr th:only-of-type {\n",
       "        vertical-align: middle;\n",
       "    }\n",
       "\n",
       "    .dataframe tbody tr th {\n",
       "        vertical-align: top;\n",
       "    }\n",
       "\n",
       "    .dataframe thead th {\n",
       "        text-align: right;\n",
       "    }\n",
       "</style>\n",
       "<table border=\"1\" class=\"dataframe\">\n",
       "  <thead>\n",
       "    <tr style=\"text-align: right;\">\n",
       "      <th></th>\n",
       "      <th>user_id</th>\n",
       "      <th>name</th>\n",
       "      <th>age</th>\n",
       "      <th>city</th>\n",
       "      <th>subscription_type</th>\n",
       "    </tr>\n",
       "  </thead>\n",
       "  <tbody>\n",
       "    <tr>\n",
       "      <th>0</th>\n",
       "      <td>1</td>\n",
       "      <td>Кира</td>\n",
       "      <td>22</td>\n",
       "      <td>Тюмень</td>\n",
       "      <td>ultra</td>\n",
       "    </tr>\n",
       "    <tr>\n",
       "      <th>1</th>\n",
       "      <td>2</td>\n",
       "      <td>Станислав</td>\n",
       "      <td>31</td>\n",
       "      <td>Омск</td>\n",
       "      <td>ultra</td>\n",
       "    </tr>\n",
       "    <tr>\n",
       "      <th>2</th>\n",
       "      <td>3</td>\n",
       "      <td>Алексей</td>\n",
       "      <td>20</td>\n",
       "      <td>Москва</td>\n",
       "      <td>ultra</td>\n",
       "    </tr>\n",
       "    <tr>\n",
       "      <th>3</th>\n",
       "      <td>4</td>\n",
       "      <td>Константин</td>\n",
       "      <td>26</td>\n",
       "      <td>Ростов-на-Дону</td>\n",
       "      <td>ultra</td>\n",
       "    </tr>\n",
       "    <tr>\n",
       "      <th>4</th>\n",
       "      <td>5</td>\n",
       "      <td>Адель</td>\n",
       "      <td>28</td>\n",
       "      <td>Омск</td>\n",
       "      <td>ultra</td>\n",
       "    </tr>\n",
       "    <tr>\n",
       "      <th>5</th>\n",
       "      <td>6</td>\n",
       "      <td>Регина</td>\n",
       "      <td>25</td>\n",
       "      <td>Краснодар</td>\n",
       "      <td>ultra</td>\n",
       "    </tr>\n",
       "    <tr>\n",
       "      <th>6</th>\n",
       "      <td>7</td>\n",
       "      <td>Игорь</td>\n",
       "      <td>23</td>\n",
       "      <td>Омск</td>\n",
       "      <td>ultra</td>\n",
       "    </tr>\n",
       "    <tr>\n",
       "      <th>7</th>\n",
       "      <td>8</td>\n",
       "      <td>Юрий</td>\n",
       "      <td>23</td>\n",
       "      <td>Краснодар</td>\n",
       "      <td>ultra</td>\n",
       "    </tr>\n",
       "    <tr>\n",
       "      <th>8</th>\n",
       "      <td>9</td>\n",
       "      <td>Ян</td>\n",
       "      <td>21</td>\n",
       "      <td>Пятигорск</td>\n",
       "      <td>ultra</td>\n",
       "    </tr>\n",
       "    <tr>\n",
       "      <th>9</th>\n",
       "      <td>10</td>\n",
       "      <td>Валерий</td>\n",
       "      <td>18</td>\n",
       "      <td>Екатеринбург</td>\n",
       "      <td>ultra</td>\n",
       "    </tr>\n",
       "  </tbody>\n",
       "</table>\n",
       "</div>"
      ],
      "text/plain": [
       "   user_id        name  age            city subscription_type\n",
       "0        1        Кира   22          Тюмень             ultra\n",
       "1        2   Станислав   31            Омск             ultra\n",
       "2        3     Алексей   20          Москва             ultra\n",
       "3        4  Константин   26  Ростов-на-Дону             ultra\n",
       "4        5       Адель   28            Омск             ultra\n",
       "5        6      Регина   25       Краснодар             ultra\n",
       "6        7       Игорь   23            Омск             ultra\n",
       "7        8        Юрий   23       Краснодар             ultra\n",
       "8        9          Ян   21       Пятигорск             ultra\n",
       "9       10     Валерий   18    Екатеринбург             ultra"
      ]
     },
     "metadata": {},
     "output_type": "display_data"
    },
    {
     "name": "stdout",
     "output_type": "stream",
     "text": [
      "<class 'pandas.core.frame.DataFrame'>\n",
      "RangeIndex: 1565 entries, 0 to 1564\n",
      "Data columns (total 5 columns):\n",
      " #   Column             Non-Null Count  Dtype \n",
      "---  ------             --------------  ----- \n",
      " 0   user_id            1565 non-null   int64 \n",
      " 1   name               1565 non-null   object\n",
      " 2   age                1565 non-null   int64 \n",
      " 3   city               1565 non-null   object\n",
      " 4   subscription_type  1565 non-null   object\n",
      "dtypes: int64(2), object(3)\n",
      "memory usage: 61.3+ KB\n"
     ]
    },
    {
     "data": {
      "text/plain": [
       "None"
      ]
     },
     "metadata": {},
     "output_type": "display_data"
    },
    {
     "data": {
      "text/html": [
       "<div>\n",
       "<style scoped>\n",
       "    .dataframe tbody tr th:only-of-type {\n",
       "        vertical-align: middle;\n",
       "    }\n",
       "\n",
       "    .dataframe tbody tr th {\n",
       "        vertical-align: top;\n",
       "    }\n",
       "\n",
       "    .dataframe thead th {\n",
       "        text-align: right;\n",
       "    }\n",
       "</style>\n",
       "<table border=\"1\" class=\"dataframe\">\n",
       "  <thead>\n",
       "    <tr style=\"text-align: right;\">\n",
       "      <th></th>\n",
       "      <th>count</th>\n",
       "      <th>mean</th>\n",
       "      <th>std</th>\n",
       "      <th>min</th>\n",
       "      <th>5%</th>\n",
       "      <th>25%</th>\n",
       "      <th>50%</th>\n",
       "      <th>75%</th>\n",
       "      <th>95%</th>\n",
       "      <th>99%</th>\n",
       "      <th>max</th>\n",
       "    </tr>\n",
       "  </thead>\n",
       "  <tbody>\n",
       "    <tr>\n",
       "      <th>user_id</th>\n",
       "      <td>1565.00</td>\n",
       "      <td>762.63</td>\n",
       "      <td>443.26</td>\n",
       "      <td>1.00</td>\n",
       "      <td>75.20</td>\n",
       "      <td>378.00</td>\n",
       "      <td>762.00</td>\n",
       "      <td>1146.00</td>\n",
       "      <td>1455.80</td>\n",
       "      <td>1518.36</td>\n",
       "      <td>1534.00</td>\n",
       "    </tr>\n",
       "    <tr>\n",
       "      <th>age</th>\n",
       "      <td>1565.00</td>\n",
       "      <td>24.92</td>\n",
       "      <td>4.55</td>\n",
       "      <td>12.00</td>\n",
       "      <td>17.20</td>\n",
       "      <td>22.00</td>\n",
       "      <td>25.00</td>\n",
       "      <td>28.00</td>\n",
       "      <td>33.00</td>\n",
       "      <td>35.00</td>\n",
       "      <td>43.00</td>\n",
       "    </tr>\n",
       "  </tbody>\n",
       "</table>\n",
       "</div>"
      ],
      "text/plain": [
       "          count   mean    std   min    5%    25%    50%     75%     95%  \\\n",
       "user_id 1565.00 762.63 443.26  1.00 75.20 378.00 762.00 1146.00 1455.80   \n",
       "age     1565.00  24.92   4.55 12.00 17.20  22.00  25.00   28.00   33.00   \n",
       "\n",
       "            99%     max  \n",
       "user_id 1518.36 1534.00  \n",
       "age       35.00   43.00  "
      ]
     },
     "metadata": {},
     "output_type": "display_data"
    },
    {
     "name": "stdout",
     "output_type": "stream",
     "text": [
      "Количество дубликатов: 31\n",
      "----------------------------------------------------------------------------------------------------\n"
     ]
    }
   ],
   "source": [
    "get_data_info(df_users, 'Таблица \"df_users\" (пользователи)')"
   ]
  },
  {
   "cell_type": "code",
   "execution_count": 5,
   "id": "1dd69594",
   "metadata": {},
   "outputs": [
    {
     "name": "stdout",
     "output_type": "stream",
     "text": [
      "Доля пользователей, которым нет 14 лет: 0.77%\n"
     ]
    }
   ],
   "source": [
    "teen_percent = len(df_users.query('age < 14')) / len(df_users) * 100\n",
    "print('Доля пользователей, которым нет 14 лет: {0:.2f}%'.format(teen_percent))"
   ]
  },
  {
   "cell_type": "markdown",
   "id": "31660f5a",
   "metadata": {},
   "source": [
    "- В датасете `df_users` содержится 31 явный дубликат\n",
    "- Из описательной статистики видно, что в таблице есть информация о пользователях, которые не достигли 14 лет (по правилам минимальный возраст для аренды самоката начинается с 14 лет). Количество таких записей невелико (0.77%) - они не сильно влияют на статистику. Их можно удалить, но мы их оставим\n",
    "- Резких всплесков и выбросов не наблюдается: в столбце `age` медиана примерно равна средней (25).\n",
    "\n",
    "Выгрузка достаточно качественная."
   ]
  },
  {
   "cell_type": "code",
   "execution_count": 6,
   "id": "9e94d1cb",
   "metadata": {},
   "outputs": [
    {
     "name": "stdout",
     "output_type": "stream",
     "text": [
      "Датасет \"df_rides\" (поездки)\n"
     ]
    },
    {
     "data": {
      "text/html": [
       "<div>\n",
       "<style scoped>\n",
       "    .dataframe tbody tr th:only-of-type {\n",
       "        vertical-align: middle;\n",
       "    }\n",
       "\n",
       "    .dataframe tbody tr th {\n",
       "        vertical-align: top;\n",
       "    }\n",
       "\n",
       "    .dataframe thead th {\n",
       "        text-align: right;\n",
       "    }\n",
       "</style>\n",
       "<table border=\"1\" class=\"dataframe\">\n",
       "  <thead>\n",
       "    <tr style=\"text-align: right;\">\n",
       "      <th></th>\n",
       "      <th>user_id</th>\n",
       "      <th>distance</th>\n",
       "      <th>duration</th>\n",
       "      <th>date</th>\n",
       "    </tr>\n",
       "  </thead>\n",
       "  <tbody>\n",
       "    <tr>\n",
       "      <th>0</th>\n",
       "      <td>1</td>\n",
       "      <td>4409.92</td>\n",
       "      <td>25.60</td>\n",
       "      <td>2021-01-01</td>\n",
       "    </tr>\n",
       "    <tr>\n",
       "      <th>1</th>\n",
       "      <td>1</td>\n",
       "      <td>2617.59</td>\n",
       "      <td>15.82</td>\n",
       "      <td>2021-01-18</td>\n",
       "    </tr>\n",
       "    <tr>\n",
       "      <th>2</th>\n",
       "      <td>1</td>\n",
       "      <td>754.16</td>\n",
       "      <td>6.23</td>\n",
       "      <td>2021-04-20</td>\n",
       "    </tr>\n",
       "    <tr>\n",
       "      <th>3</th>\n",
       "      <td>1</td>\n",
       "      <td>2694.78</td>\n",
       "      <td>18.51</td>\n",
       "      <td>2021-08-11</td>\n",
       "    </tr>\n",
       "    <tr>\n",
       "      <th>4</th>\n",
       "      <td>1</td>\n",
       "      <td>4028.69</td>\n",
       "      <td>26.27</td>\n",
       "      <td>2021-08-28</td>\n",
       "    </tr>\n",
       "    <tr>\n",
       "      <th>5</th>\n",
       "      <td>1</td>\n",
       "      <td>2770.89</td>\n",
       "      <td>16.65</td>\n",
       "      <td>2021-10-09</td>\n",
       "    </tr>\n",
       "    <tr>\n",
       "      <th>6</th>\n",
       "      <td>1</td>\n",
       "      <td>3039.02</td>\n",
       "      <td>14.93</td>\n",
       "      <td>2021-10-19</td>\n",
       "    </tr>\n",
       "    <tr>\n",
       "      <th>7</th>\n",
       "      <td>1</td>\n",
       "      <td>2842.12</td>\n",
       "      <td>23.12</td>\n",
       "      <td>2021-11-06</td>\n",
       "    </tr>\n",
       "    <tr>\n",
       "      <th>8</th>\n",
       "      <td>1</td>\n",
       "      <td>3412.69</td>\n",
       "      <td>15.24</td>\n",
       "      <td>2021-11-14</td>\n",
       "    </tr>\n",
       "    <tr>\n",
       "      <th>9</th>\n",
       "      <td>1</td>\n",
       "      <td>748.69</td>\n",
       "      <td>15.04</td>\n",
       "      <td>2021-11-22</td>\n",
       "    </tr>\n",
       "  </tbody>\n",
       "</table>\n",
       "</div>"
      ],
      "text/plain": [
       "   user_id  distance  duration        date\n",
       "0        1   4409.92     25.60  2021-01-01\n",
       "1        1   2617.59     15.82  2021-01-18\n",
       "2        1    754.16      6.23  2021-04-20\n",
       "3        1   2694.78     18.51  2021-08-11\n",
       "4        1   4028.69     26.27  2021-08-28\n",
       "5        1   2770.89     16.65  2021-10-09\n",
       "6        1   3039.02     14.93  2021-10-19\n",
       "7        1   2842.12     23.12  2021-11-06\n",
       "8        1   3412.69     15.24  2021-11-14\n",
       "9        1    748.69     15.04  2021-11-22"
      ]
     },
     "metadata": {},
     "output_type": "display_data"
    },
    {
     "name": "stdout",
     "output_type": "stream",
     "text": [
      "<class 'pandas.core.frame.DataFrame'>\n",
      "RangeIndex: 18068 entries, 0 to 18067\n",
      "Data columns (total 4 columns):\n",
      " #   Column    Non-Null Count  Dtype  \n",
      "---  ------    --------------  -----  \n",
      " 0   user_id   18068 non-null  int64  \n",
      " 1   distance  18068 non-null  float64\n",
      " 2   duration  18068 non-null  float64\n",
      " 3   date      18068 non-null  object \n",
      "dtypes: float64(2), int64(1), object(1)\n",
      "memory usage: 564.8+ KB\n"
     ]
    },
    {
     "data": {
      "text/plain": [
       "None"
      ]
     },
     "metadata": {},
     "output_type": "display_data"
    },
    {
     "data": {
      "text/html": [
       "<div>\n",
       "<style scoped>\n",
       "    .dataframe tbody tr th:only-of-type {\n",
       "        vertical-align: middle;\n",
       "    }\n",
       "\n",
       "    .dataframe tbody tr th {\n",
       "        vertical-align: top;\n",
       "    }\n",
       "\n",
       "    .dataframe thead th {\n",
       "        text-align: right;\n",
       "    }\n",
       "</style>\n",
       "<table border=\"1\" class=\"dataframe\">\n",
       "  <thead>\n",
       "    <tr style=\"text-align: right;\">\n",
       "      <th></th>\n",
       "      <th>count</th>\n",
       "      <th>mean</th>\n",
       "      <th>std</th>\n",
       "      <th>min</th>\n",
       "      <th>5%</th>\n",
       "      <th>25%</th>\n",
       "      <th>50%</th>\n",
       "      <th>75%</th>\n",
       "      <th>95%</th>\n",
       "      <th>99%</th>\n",
       "      <th>max</th>\n",
       "    </tr>\n",
       "  </thead>\n",
       "  <tbody>\n",
       "    <tr>\n",
       "      <th>user_id</th>\n",
       "      <td>18068.00</td>\n",
       "      <td>842.87</td>\n",
       "      <td>434.73</td>\n",
       "      <td>1.00</td>\n",
       "      <td>96.00</td>\n",
       "      <td>487.00</td>\n",
       "      <td>889.00</td>\n",
       "      <td>1213.25</td>\n",
       "      <td>1471.00</td>\n",
       "      <td>1523.00</td>\n",
       "      <td>1534.00</td>\n",
       "    </tr>\n",
       "    <tr>\n",
       "      <th>distance</th>\n",
       "      <td>18068.00</td>\n",
       "      <td>3070.66</td>\n",
       "      <td>1116.83</td>\n",
       "      <td>0.86</td>\n",
       "      <td>689.01</td>\n",
       "      <td>2543.23</td>\n",
       "      <td>3133.61</td>\n",
       "      <td>3776.22</td>\n",
       "      <td>4740.09</td>\n",
       "      <td>5478.62</td>\n",
       "      <td>7211.01</td>\n",
       "    </tr>\n",
       "    <tr>\n",
       "      <th>duration</th>\n",
       "      <td>18068.00</td>\n",
       "      <td>17.81</td>\n",
       "      <td>6.09</td>\n",
       "      <td>0.50</td>\n",
       "      <td>8.24</td>\n",
       "      <td>13.60</td>\n",
       "      <td>17.68</td>\n",
       "      <td>21.72</td>\n",
       "      <td>28.43</td>\n",
       "      <td>32.50</td>\n",
       "      <td>40.82</td>\n",
       "    </tr>\n",
       "  </tbody>\n",
       "</table>\n",
       "</div>"
      ],
      "text/plain": [
       "            count    mean     std  min     5%     25%     50%     75%     95%  \\\n",
       "user_id  18068.00  842.87  434.73 1.00  96.00  487.00  889.00 1213.25 1471.00   \n",
       "distance 18068.00 3070.66 1116.83 0.86 689.01 2543.23 3133.61 3776.22 4740.09   \n",
       "duration 18068.00   17.81    6.09 0.50   8.24   13.60   17.68   21.72   28.43   \n",
       "\n",
       "             99%     max  \n",
       "user_id  1523.00 1534.00  \n",
       "distance 5478.62 7211.01  \n",
       "duration   32.50   40.82  "
      ]
     },
     "metadata": {},
     "output_type": "display_data"
    },
    {
     "name": "stdout",
     "output_type": "stream",
     "text": [
      "Количество дубликатов: 0\n",
      "----------------------------------------------------------------------------------------------------\n"
     ]
    }
   ],
   "source": [
    "get_data_info(df_rides, 'Датасет \"df_rides\" (поездки)')"
   ]
  },
  {
   "cell_type": "code",
   "execution_count": 7,
   "id": "730466bc",
   "metadata": {},
   "outputs": [
    {
     "name": "stdout",
     "output_type": "stream",
     "text": [
      "Доля поездок с маленьким расстоянием: 0.01%\n",
      "Доля поездок с маленькой длительностью: 0.53%\n"
     ]
    }
   ],
   "source": [
    "small_distance_percent = len(df_rides.query('distance < 1')) / len(df_rides) * 100\n",
    "small_duration_percent = len(df_rides.query('duration < 1')) / len(df_rides) * 100\n",
    "\n",
    "print('Доля поездок с маленьким расстоянием: {0:.2f}%'.format(small_distance_percent))\n",
    "print('Доля поездок с маленькой длительностью: {0:.2f}%'.format(small_duration_percent))"
   ]
  },
  {
   "cell_type": "markdown",
   "id": "ec879821",
   "metadata": {},
   "source": [
    "- В датасете `df_rides` нет дубликатов и пропусков\n",
    "- Резких всплесков и выбросов не наблюдается: в столбцах `distance` и `distance` медианы и средние примерно одинаковы. Смущают поездки, у которых длительность составляет менее 1 минуты и расстояние менее 1 метра. К счастью, таких поездок малое количество - ими можно пренебречь\n",
    "- В столбце `date` необходимо изменить тип данных на `date`. В остальных столбцах всех таблиц тип данных корректный"
   ]
  },
  {
   "cell_type": "code",
   "execution_count": 8,
   "id": "a8e27e58",
   "metadata": {},
   "outputs": [
    {
     "name": "stdout",
     "output_type": "stream",
     "text": [
      "Датасет \"df_subscriptions\" (подписки)\n"
     ]
    },
    {
     "data": {
      "text/html": [
       "<div>\n",
       "<style scoped>\n",
       "    .dataframe tbody tr th:only-of-type {\n",
       "        vertical-align: middle;\n",
       "    }\n",
       "\n",
       "    .dataframe tbody tr th {\n",
       "        vertical-align: top;\n",
       "    }\n",
       "\n",
       "    .dataframe thead th {\n",
       "        text-align: right;\n",
       "    }\n",
       "</style>\n",
       "<table border=\"1\" class=\"dataframe\">\n",
       "  <thead>\n",
       "    <tr style=\"text-align: right;\">\n",
       "      <th></th>\n",
       "      <th>subscription_type</th>\n",
       "      <th>minute_price</th>\n",
       "      <th>start_ride_price</th>\n",
       "      <th>subscription_fee</th>\n",
       "    </tr>\n",
       "  </thead>\n",
       "  <tbody>\n",
       "    <tr>\n",
       "      <th>0</th>\n",
       "      <td>free</td>\n",
       "      <td>8</td>\n",
       "      <td>50</td>\n",
       "      <td>0</td>\n",
       "    </tr>\n",
       "    <tr>\n",
       "      <th>1</th>\n",
       "      <td>ultra</td>\n",
       "      <td>6</td>\n",
       "      <td>0</td>\n",
       "      <td>199</td>\n",
       "    </tr>\n",
       "  </tbody>\n",
       "</table>\n",
       "</div>"
      ],
      "text/plain": [
       "  subscription_type  minute_price  start_ride_price  subscription_fee\n",
       "0              free             8                50                 0\n",
       "1             ultra             6                 0               199"
      ]
     },
     "metadata": {},
     "output_type": "display_data"
    },
    {
     "name": "stdout",
     "output_type": "stream",
     "text": [
      "<class 'pandas.core.frame.DataFrame'>\n",
      "RangeIndex: 2 entries, 0 to 1\n",
      "Data columns (total 4 columns):\n",
      " #   Column             Non-Null Count  Dtype \n",
      "---  ------             --------------  ----- \n",
      " 0   subscription_type  2 non-null      object\n",
      " 1   minute_price       2 non-null      int64 \n",
      " 2   start_ride_price   2 non-null      int64 \n",
      " 3   subscription_fee   2 non-null      int64 \n",
      "dtypes: int64(3), object(1)\n",
      "memory usage: 192.0+ bytes\n"
     ]
    },
    {
     "data": {
      "text/plain": [
       "None"
      ]
     },
     "metadata": {},
     "output_type": "display_data"
    },
    {
     "data": {
      "text/html": [
       "<div>\n",
       "<style scoped>\n",
       "    .dataframe tbody tr th:only-of-type {\n",
       "        vertical-align: middle;\n",
       "    }\n",
       "\n",
       "    .dataframe tbody tr th {\n",
       "        vertical-align: top;\n",
       "    }\n",
       "\n",
       "    .dataframe thead th {\n",
       "        text-align: right;\n",
       "    }\n",
       "</style>\n",
       "<table border=\"1\" class=\"dataframe\">\n",
       "  <thead>\n",
       "    <tr style=\"text-align: right;\">\n",
       "      <th></th>\n",
       "      <th>count</th>\n",
       "      <th>mean</th>\n",
       "      <th>std</th>\n",
       "      <th>min</th>\n",
       "      <th>5%</th>\n",
       "      <th>25%</th>\n",
       "      <th>50%</th>\n",
       "      <th>75%</th>\n",
       "      <th>95%</th>\n",
       "      <th>99%</th>\n",
       "      <th>max</th>\n",
       "    </tr>\n",
       "  </thead>\n",
       "  <tbody>\n",
       "    <tr>\n",
       "      <th>minute_price</th>\n",
       "      <td>2.00</td>\n",
       "      <td>7.00</td>\n",
       "      <td>1.41</td>\n",
       "      <td>6.00</td>\n",
       "      <td>6.10</td>\n",
       "      <td>6.50</td>\n",
       "      <td>7.00</td>\n",
       "      <td>7.50</td>\n",
       "      <td>7.90</td>\n",
       "      <td>7.98</td>\n",
       "      <td>8.00</td>\n",
       "    </tr>\n",
       "    <tr>\n",
       "      <th>start_ride_price</th>\n",
       "      <td>2.00</td>\n",
       "      <td>25.00</td>\n",
       "      <td>35.36</td>\n",
       "      <td>0.00</td>\n",
       "      <td>2.50</td>\n",
       "      <td>12.50</td>\n",
       "      <td>25.00</td>\n",
       "      <td>37.50</td>\n",
       "      <td>47.50</td>\n",
       "      <td>49.50</td>\n",
       "      <td>50.00</td>\n",
       "    </tr>\n",
       "    <tr>\n",
       "      <th>subscription_fee</th>\n",
       "      <td>2.00</td>\n",
       "      <td>99.50</td>\n",
       "      <td>140.71</td>\n",
       "      <td>0.00</td>\n",
       "      <td>9.95</td>\n",
       "      <td>49.75</td>\n",
       "      <td>99.50</td>\n",
       "      <td>149.25</td>\n",
       "      <td>189.05</td>\n",
       "      <td>197.01</td>\n",
       "      <td>199.00</td>\n",
       "    </tr>\n",
       "  </tbody>\n",
       "</table>\n",
       "</div>"
      ],
      "text/plain": [
       "                  count  mean    std  min   5%   25%   50%    75%    95%  \\\n",
       "minute_price       2.00  7.00   1.41 6.00 6.10  6.50  7.00   7.50   7.90   \n",
       "start_ride_price   2.00 25.00  35.36 0.00 2.50 12.50 25.00  37.50  47.50   \n",
       "subscription_fee   2.00 99.50 140.71 0.00 9.95 49.75 99.50 149.25 189.05   \n",
       "\n",
       "                    99%    max  \n",
       "minute_price       7.98   8.00  \n",
       "start_ride_price  49.50  50.00  \n",
       "subscription_fee 197.01 199.00  "
      ]
     },
     "metadata": {},
     "output_type": "display_data"
    },
    {
     "name": "stdout",
     "output_type": "stream",
     "text": [
      "Количество дубликатов: 0\n",
      "----------------------------------------------------------------------------------------------------\n"
     ]
    }
   ],
   "source": [
    "get_data_info(df_subscriptions, 'Датасет \"df_subscriptions\" (подписки)')"
   ]
  },
  {
   "cell_type": "markdown",
   "id": "2cce3cea",
   "metadata": {},
   "source": [
    "В датасете `df_subscriptions` нет дубликатов и пропусков. Это справочная таблица с описанием типов подписок."
   ]
  },
  {
   "cell_type": "markdown",
   "id": "de6f84ea",
   "metadata": {},
   "source": [
    "**Вывод**\n",
    "\n",
    "По предварительному анализу в данных не наблюдается критических проблем. Датасеты достаточно качественные.\n",
    "\n",
    "- В предоставленных таблицах нет пропусков\n",
    "- В датасете `df_users` нужно удалить явные дубликаты\n",
    "- В датасете `df_rides` в столбце `date` необходимо изменить тип данных на `date`."
   ]
  },
  {
   "cell_type": "markdown",
   "id": "7c10d43d",
   "metadata": {},
   "source": [
    "## Предобработка данных"
   ]
  },
  {
   "cell_type": "markdown",
   "id": "d9717d62",
   "metadata": {},
   "source": [
    "### Изменение типа данных"
   ]
  },
  {
   "cell_type": "code",
   "execution_count": 9,
   "id": "06e37673",
   "metadata": {},
   "outputs": [
    {
     "name": "stdout",
     "output_type": "stream",
     "text": [
      "<class 'pandas.core.frame.DataFrame'>\n",
      "RangeIndex: 18068 entries, 0 to 18067\n",
      "Data columns (total 4 columns):\n",
      " #   Column    Non-Null Count  Dtype         \n",
      "---  ------    --------------  -----         \n",
      " 0   user_id   18068 non-null  int64         \n",
      " 1   distance  18068 non-null  float64       \n",
      " 2   duration  18068 non-null  float64       \n",
      " 3   date      18068 non-null  datetime64[ns]\n",
      "dtypes: datetime64[ns](1), float64(2), int64(1)\n",
      "memory usage: 564.8 KB\n"
     ]
    }
   ],
   "source": [
    "df_rides['date'] = pd.to_datetime(df_rides['date'], format = '%Y-%m-%d')\n",
    "\n",
    "# Проверяем\n",
    "df_rides.info()"
   ]
  },
  {
   "cell_type": "markdown",
   "id": "92b2e149",
   "metadata": {},
   "source": [
    "### Добавление столбца с номером месяца"
   ]
  },
  {
   "cell_type": "code",
   "execution_count": 10,
   "id": "de2ea715",
   "metadata": {},
   "outputs": [
    {
     "data": {
      "text/html": [
       "<div>\n",
       "<style scoped>\n",
       "    .dataframe tbody tr th:only-of-type {\n",
       "        vertical-align: middle;\n",
       "    }\n",
       "\n",
       "    .dataframe tbody tr th {\n",
       "        vertical-align: top;\n",
       "    }\n",
       "\n",
       "    .dataframe thead th {\n",
       "        text-align: right;\n",
       "    }\n",
       "</style>\n",
       "<table border=\"1\" class=\"dataframe\">\n",
       "  <thead>\n",
       "    <tr style=\"text-align: right;\">\n",
       "      <th></th>\n",
       "      <th>user_id</th>\n",
       "      <th>distance</th>\n",
       "      <th>duration</th>\n",
       "      <th>date</th>\n",
       "      <th>month</th>\n",
       "    </tr>\n",
       "  </thead>\n",
       "  <tbody>\n",
       "    <tr>\n",
       "      <th>0</th>\n",
       "      <td>1</td>\n",
       "      <td>4409.92</td>\n",
       "      <td>25.60</td>\n",
       "      <td>2021-01-01</td>\n",
       "      <td>1</td>\n",
       "    </tr>\n",
       "    <tr>\n",
       "      <th>1</th>\n",
       "      <td>1</td>\n",
       "      <td>2617.59</td>\n",
       "      <td>15.82</td>\n",
       "      <td>2021-01-18</td>\n",
       "      <td>1</td>\n",
       "    </tr>\n",
       "    <tr>\n",
       "      <th>2</th>\n",
       "      <td>1</td>\n",
       "      <td>754.16</td>\n",
       "      <td>6.23</td>\n",
       "      <td>2021-04-20</td>\n",
       "      <td>4</td>\n",
       "    </tr>\n",
       "    <tr>\n",
       "      <th>3</th>\n",
       "      <td>1</td>\n",
       "      <td>2694.78</td>\n",
       "      <td>18.51</td>\n",
       "      <td>2021-08-11</td>\n",
       "      <td>8</td>\n",
       "    </tr>\n",
       "    <tr>\n",
       "      <th>4</th>\n",
       "      <td>1</td>\n",
       "      <td>4028.69</td>\n",
       "      <td>26.27</td>\n",
       "      <td>2021-08-28</td>\n",
       "      <td>8</td>\n",
       "    </tr>\n",
       "  </tbody>\n",
       "</table>\n",
       "</div>"
      ],
      "text/plain": [
       "   user_id  distance  duration       date  month\n",
       "0        1   4409.92     25.60 2021-01-01      1\n",
       "1        1   2617.59     15.82 2021-01-18      1\n",
       "2        1    754.16      6.23 2021-04-20      4\n",
       "3        1   2694.78     18.51 2021-08-11      8\n",
       "4        1   4028.69     26.27 2021-08-28      8"
      ]
     },
     "execution_count": 10,
     "metadata": {},
     "output_type": "execute_result"
    }
   ],
   "source": [
    "df_rides['month'] = df_rides['date'].dt.month\n",
    "\n",
    "# Проверяем\n",
    "df_rides.head()"
   ]
  },
  {
   "cell_type": "markdown",
   "id": "5e148b8b",
   "metadata": {},
   "source": [
    "### Проверка пропусков и дубликатов"
   ]
  },
  {
   "cell_type": "markdown",
   "id": "f824d1ba",
   "metadata": {},
   "source": [
    "Напишем функцию, которая определяет количество пропусков и дубликатов в датасете"
   ]
  },
  {
   "cell_type": "code",
   "execution_count": 11,
   "id": "b63f510b",
   "metadata": {},
   "outputs": [],
   "source": [
    "def get_na_dup(df, df_name):\n",
    "    print(df_name)\n",
    "    print('Количество дубликатов:', df.duplicated().sum(), '( {0:.2f}%'.format(df.duplicated().sum() / len(df)), ')' )\n",
    "    print('')\n",
    "    print('Пропуски:')\n",
    "    display((df.isna().sum()/len(df)*100).sort_values(ascending = False))"
   ]
  },
  {
   "cell_type": "code",
   "execution_count": 12,
   "id": "2e28d855",
   "metadata": {},
   "outputs": [
    {
     "name": "stdout",
     "output_type": "stream",
     "text": [
      "Датасет \"пользователи\"\n",
      "Количество дубликатов: 31 ( 0.02% )\n",
      "\n",
      "Пропуски:\n"
     ]
    },
    {
     "data": {
      "text/plain": [
       "user_id             0.00\n",
       "name                0.00\n",
       "age                 0.00\n",
       "city                0.00\n",
       "subscription_type   0.00\n",
       "dtype: float64"
      ]
     },
     "metadata": {},
     "output_type": "display_data"
    }
   ],
   "source": [
    "get_na_dup(df_users, 'Датасет \"пользователи\"')"
   ]
  },
  {
   "cell_type": "code",
   "execution_count": 13,
   "id": "d73e1819",
   "metadata": {},
   "outputs": [
    {
     "name": "stdout",
     "output_type": "stream",
     "text": [
      "Количество дубликатов: 0\n"
     ]
    }
   ],
   "source": [
    "# Удалим явные дубликаты и создадим новый датасет df_users_new\n",
    "df_users_new = df_users.drop_duplicates()\n",
    "\n",
    "# Проверим\n",
    "print('Количество дубликатов:', df_users_new.duplicated().sum())"
   ]
  },
  {
   "cell_type": "markdown",
   "id": "88657c74",
   "metadata": {},
   "source": [
    "Данные в таблице `df_users_new` корректны - можно работать с ними."
   ]
  },
  {
   "cell_type": "code",
   "execution_count": 14,
   "id": "25c118a3",
   "metadata": {},
   "outputs": [
    {
     "name": "stdout",
     "output_type": "stream",
     "text": [
      "Датасет \"пользователи\"\n",
      "Количество дубликатов: 0 ( 0.00% )\n",
      "\n",
      "Пропуски:\n"
     ]
    },
    {
     "data": {
      "text/plain": [
       "user_id    0.00\n",
       "distance   0.00\n",
       "duration   0.00\n",
       "date       0.00\n",
       "month      0.00\n",
       "dtype: float64"
      ]
     },
     "metadata": {},
     "output_type": "display_data"
    }
   ],
   "source": [
    "get_na_dup(df_rides, 'Датасет \"пользователи\"')"
   ]
  },
  {
   "cell_type": "markdown",
   "id": "514562f9",
   "metadata": {},
   "source": [
    "С данными все отлично. Пропусков и дубликатов нет."
   ]
  },
  {
   "cell_type": "markdown",
   "id": "3d5a9858",
   "metadata": {},
   "source": [
    "**Вывод**\n",
    "\n",
    "Мы предобработали данные:\n",
    "- Удалили 31 дубликат в `df_users`\n",
    "- В `df_rides` добавили столбец с номерами месяцев и привели тип данных в столбце `data` к `data`\n",
    "\n",
    "Данные достаточно качественные. Можно продолжить работать с ними."
   ]
  },
  {
   "cell_type": "markdown",
   "id": "b51b802d",
   "metadata": {},
   "source": [
    "## Исследовательский анализ данных"
   ]
  },
  {
   "cell_type": "markdown",
   "id": "76ecd5cd",
   "metadata": {},
   "source": [
    "Опишем и визуализируем общую информацию о пользователях и поездках"
   ]
  },
  {
   "cell_type": "markdown",
   "id": "5c63e4bd",
   "metadata": {},
   "source": [
    "### Частота встречаемости городов"
   ]
  },
  {
   "cell_type": "code",
   "execution_count": 15,
   "id": "d03ec00b",
   "metadata": {},
   "outputs": [
    {
     "data": {
      "text/html": [
       "<div>\n",
       "<style scoped>\n",
       "    .dataframe tbody tr th:only-of-type {\n",
       "        vertical-align: middle;\n",
       "    }\n",
       "\n",
       "    .dataframe tbody tr th {\n",
       "        vertical-align: top;\n",
       "    }\n",
       "\n",
       "    .dataframe thead th {\n",
       "        text-align: right;\n",
       "    }\n",
       "</style>\n",
       "<table border=\"1\" class=\"dataframe\">\n",
       "  <thead>\n",
       "    <tr style=\"text-align: right;\">\n",
       "      <th></th>\n",
       "      <th>user_id</th>\n",
       "    </tr>\n",
       "    <tr>\n",
       "      <th>city</th>\n",
       "      <th></th>\n",
       "    </tr>\n",
       "  </thead>\n",
       "  <tbody>\n",
       "    <tr>\n",
       "      <th>Москва</th>\n",
       "      <td>168</td>\n",
       "    </tr>\n",
       "    <tr>\n",
       "      <th>Тюмень</th>\n",
       "      <td>180</td>\n",
       "    </tr>\n",
       "    <tr>\n",
       "      <th>Омск</th>\n",
       "      <td>183</td>\n",
       "    </tr>\n",
       "    <tr>\n",
       "      <th>Сочи</th>\n",
       "      <td>189</td>\n",
       "    </tr>\n",
       "    <tr>\n",
       "      <th>Краснодар</th>\n",
       "      <td>193</td>\n",
       "    </tr>\n",
       "    <tr>\n",
       "      <th>Ростов-на-Дону</th>\n",
       "      <td>198</td>\n",
       "    </tr>\n",
       "    <tr>\n",
       "      <th>Екатеринбург</th>\n",
       "      <td>204</td>\n",
       "    </tr>\n",
       "    <tr>\n",
       "      <th>Пятигорск</th>\n",
       "      <td>219</td>\n",
       "    </tr>\n",
       "  </tbody>\n",
       "</table>\n",
       "</div>"
      ],
      "text/plain": [
       "                user_id\n",
       "city                   \n",
       "Москва              168\n",
       "Тюмень              180\n",
       "Омск                183\n",
       "Сочи                189\n",
       "Краснодар           193\n",
       "Ростов-на-Дону      198\n",
       "Екатеринбург        204\n",
       "Пятигорск           219"
      ]
     },
     "metadata": {},
     "output_type": "display_data"
    },
    {
     "data": {
      "text/plain": [
       "Text(0, 0.5, 'Город')"
      ]
     },
     "execution_count": 15,
     "metadata": {},
     "output_type": "execute_result"
    },
    {
     "data": {
      "image/png": "[encoded data removed]",
      "text/plain": [
       "<Figure size 720x360 with 1 Axes>"
      ]
     },
     "metadata": {
      "needs_background": "light"
     },
     "output_type": "display_data"
    }
   ],
   "source": [
    "# Построим сводную таблицу\n",
    "city_grouped = df_users_new.pivot_table(index='city', \n",
    "                                    values='user_id', \n",
    "                                    aggfunc='count').sort_values(by='user_id', ascending=True)\n",
    "\n",
    "# Выведем таблицу на экран и построим график\n",
    "display(city_grouped)\n",
    "city_grouped.plot(kind='barh', figsize=(10,5))\n",
    "plt.title(\"Частота встречаемости городов\")\n",
    "plt.xlabel(\"Количество пользователей\")\n",
    "plt.ylabel(\"Город\")"
   ]
  },
  {
   "cell_type": "markdown",
   "id": "b97e85c0",
   "metadata": {},
   "source": [
    "Наиболее часто встречаемый город в выборке - Пятигорск (219). Наименьшая частота - Москва (168)."
   ]
  },
  {
   "cell_type": "markdown",
   "id": "3d6363a0",
   "metadata": {},
   "source": [
    "### Cоотношение пользователей с подпиской и без подписки"
   ]
  },
  {
   "cell_type": "code",
   "execution_count": 35,
   "id": "df483dc5",
   "metadata": {},
   "outputs": [
    {
     "data": {
      "text/html": [
       "<div>\n",
       "<style scoped>\n",
       "    .dataframe tbody tr th:only-of-type {\n",
       "        vertical-align: middle;\n",
       "    }\n",
       "\n",
       "    .dataframe tbody tr th {\n",
       "        vertical-align: top;\n",
       "    }\n",
       "\n",
       "    .dataframe thead th {\n",
       "        text-align: right;\n",
       "    }\n",
       "</style>\n",
       "<table border=\"1\" class=\"dataframe\">\n",
       "  <thead>\n",
       "    <tr style=\"text-align: right;\">\n",
       "      <th></th>\n",
       "      <th>user_id</th>\n",
       "    </tr>\n",
       "    <tr>\n",
       "      <th>subscription_type</th>\n",
       "      <th></th>\n",
       "    </tr>\n",
       "  </thead>\n",
       "  <tbody>\n",
       "    <tr>\n",
       "      <th>free</th>\n",
       "      <td>835</td>\n",
       "    </tr>\n",
       "    <tr>\n",
       "      <th>ultra</th>\n",
       "      <td>699</td>\n",
       "    </tr>\n",
       "  </tbody>\n",
       "</table>\n",
       "</div>"
      ],
      "text/plain": [
       "                   user_id\n",
       "subscription_type         \n",
       "free                   835\n",
       "ultra                  699"
      ]
     },
     "metadata": {},
     "output_type": "display_data"
    },
    {
     "name": "stdout",
     "output_type": "stream",
     "text": [
      "Доля пользователей с подпиской ultra: 45.57%\n",
      "Доля пользователей с подпиской free: 54.43%\n"
     ]
    },
    {
     "data": {
      "image/png": "[encoded data removed]",
      "text/plain": [
       "<Figure size 432x432 with 1 Axes>"
      ]
     },
     "metadata": {},
     "output_type": "display_data"
    }
   ],
   "source": [
    "# Построим таблицу\n",
    "sub_grouped = df_users_new.pivot_table(index='subscription_type', \n",
    "                                    values='user_id', \n",
    "                                    aggfunc='count').sort_values(by='user_id', ascending=False)\n",
    "display(sub_grouped)\n",
    "\n",
    "# Доля пользователей с подпиской ultra и free\n",
    "users_ultra = len(df_users_new[df_users_new['subscription_type'] == 'ultra']) / len(df_users_new) * 100\n",
    "users_free = len(df_users_new[df_users_new['subscription_type'] == 'free']) / len(df_users_new) * 100\n",
    "\n",
    "# Построим график pie chart\n",
    "sub_grouped.plot(kind='pie', y='user_id', autopct='%1.0f%%', figsize=(6,6))\n",
    "plt.title('Доля пользователей с подпиской и без подписки')\n",
    "plt.xlabel('')\n",
    "plt.ylabel('')\n",
    "plt.legend().remove()\n",
    "\n",
    "print('Доля пользователей с подпиской ultra: {0:.2f}%'.format(users_ultra))\n",
    "print('Доля пользователей с подпиской free: {0:.2f}%'.format(users_free))"
   ]
  },
  {
   "cell_type": "markdown",
   "id": "6c2d353b",
   "metadata": {},
   "source": [
    "В выборке преобладают пользователи, у которых нет подписки ultra (54%)."
   ]
  },
  {
   "cell_type": "markdown",
   "id": "8f1209f5",
   "metadata": {},
   "source": [
    "### Возраст пользователей"
   ]
  },
  {
   "cell_type": "code",
   "execution_count": 17,
   "id": "e9509a46",
   "metadata": {},
   "outputs": [
    {
     "data": {
      "text/plain": [
       "count   1534.00\n",
       "mean      24.90\n",
       "std        4.57\n",
       "min       12.00\n",
       "25%       22.00\n",
       "50%       25.00\n",
       "75%       28.00\n",
       "max       43.00\n",
       "Name: age, dtype: float64"
      ]
     },
     "execution_count": 17,
     "metadata": {},
     "output_type": "execute_result"
    },
    {
     "data": {
      "image/png": "[encoded data removed]",
      "text/plain": [
       "<Figure size 1296x360 with 1 Axes>"
      ]
     },
     "metadata": {
      "needs_background": "light"
     },
     "output_type": "display_data"
    }
   ],
   "source": [
    "# Построим сводную таблицу\n",
    "age_grouped = df_users_new.pivot_table(index='age', \n",
    "                                    values='user_id', \n",
    "                                    aggfunc='count').sort_values(by='user_id', ascending=False)\n",
    "\n",
    "# Построим график\n",
    "age_grouped.plot(kind='bar', figsize=(18,5))\n",
    "df_users_new['age'].describe()"
   ]
  },
  {
   "cell_type": "markdown",
   "id": "aec56790",
   "metadata": {},
   "source": [
    "По графику видно, что наибольшее количество пользователей в возрасте 25 лет. Этот возраст является еще и медианным, также среднее значение возраста очень близко к отметке 25. Выбросов и выдающихся значений не наблюдается."
   ]
  },
  {
   "cell_type": "markdown",
   "id": "7b2cf0f8",
   "metadata": {},
   "source": [
    "### Расстояние, которое пользователь преодолел за одну поездку"
   ]
  },
  {
   "cell_type": "code",
   "execution_count": 18,
   "id": "5f1d404c",
   "metadata": {},
   "outputs": [
    {
     "data": {
      "text/plain": [
       "count   18068.00\n",
       "mean     3070.66\n",
       "std      1116.83\n",
       "min         0.86\n",
       "25%      2543.23\n",
       "50%      3133.61\n",
       "75%      3776.22\n",
       "max      7211.01\n",
       "Name: distance, dtype: float64"
      ]
     },
     "execution_count": 18,
     "metadata": {},
     "output_type": "execute_result"
    },
    {
     "data": {
      "image/png": "[encoded data removed]",
      "text/plain": [
       "<Figure size 1296x360 with 1 Axes>"
      ]
     },
     "metadata": {
      "needs_background": "light"
     },
     "output_type": "display_data"
    }
   ],
   "source": [
    "# df_rides.hist('distance', bins=1000, figsize=(18,5))\n",
    "# df_rides.set_title('title')\n",
    "\n",
    "df_rides['distance'].plot(kind='hist', bins=1000, figsize=(18,5))\n",
    "plt.title(\"Распределение расстояния поездок\")\n",
    "plt.xlabel('Расстояние поездки, м')\n",
    "plt.ylabel('Частота')\n",
    "\n",
    "df_rides['distance'].describe()"
   ]
  },
  {
   "cell_type": "markdown",
   "id": "d7e72f6b",
   "metadata": {},
   "source": [
    "Медианное значение почти схоже со средним. По левой части графику вдно, что есть выделяющаяся группа пользователей, которые используют самокат на расстоянии до 1,5 км. Выдающихся значений в выборке не наблюдается."
   ]
  },
  {
   "cell_type": "markdown",
   "id": "875b5f51",
   "metadata": {},
   "source": [
    "### Продолжительность поездок"
   ]
  },
  {
   "cell_type": "code",
   "execution_count": 19,
   "id": "a4b95e6c",
   "metadata": {},
   "outputs": [
    {
     "data": {
      "text/plain": [
       "count   18068.00\n",
       "mean       17.81\n",
       "std         6.09\n",
       "min         0.50\n",
       "25%        13.60\n",
       "50%        17.68\n",
       "75%        21.72\n",
       "max        40.82\n",
       "Name: duration, dtype: float64"
      ]
     },
     "execution_count": 19,
     "metadata": {},
     "output_type": "execute_result"
    },
    {
     "data": {
      "image/png": "[encoded data removed]",
      "text/plain": [
       "<Figure size 1296x360 with 1 Axes>"
      ]
     },
     "metadata": {
      "needs_background": "light"
     },
     "output_type": "display_data"
    }
   ],
   "source": [
    "df_rides.hist('duration', bins=150, figsize=(18,5))\n",
    "df_rides['duration'].describe()"
   ]
  },
  {
   "cell_type": "markdown",
   "id": "9cf6d191",
   "metadata": {},
   "source": [
    "По графику видно, что в данных имеется около 100 поездок по 30 сек. Будем считать их за выбросы."
   ]
  },
  {
   "cell_type": "code",
   "execution_count": 20,
   "id": "9dbdabba",
   "metadata": {},
   "outputs": [
    {
     "data": {
      "text/html": [
       "<div>\n",
       "<style scoped>\n",
       "    .dataframe tbody tr th:only-of-type {\n",
       "        vertical-align: middle;\n",
       "    }\n",
       "\n",
       "    .dataframe tbody tr th {\n",
       "        vertical-align: top;\n",
       "    }\n",
       "\n",
       "    .dataframe thead th {\n",
       "        text-align: right;\n",
       "    }\n",
       "</style>\n",
       "<table border=\"1\" class=\"dataframe\">\n",
       "  <thead>\n",
       "    <tr style=\"text-align: right;\">\n",
       "      <th></th>\n",
       "      <th>user_id</th>\n",
       "      <th>distance</th>\n",
       "      <th>duration</th>\n",
       "      <th>date</th>\n",
       "      <th>month</th>\n",
       "    </tr>\n",
       "  </thead>\n",
       "  <tbody>\n",
       "    <tr>\n",
       "      <th>6531</th>\n",
       "      <td>701</td>\n",
       "      <td>4196.45</td>\n",
       "      <td>0.50</td>\n",
       "      <td>2021-08-31</td>\n",
       "      <td>8</td>\n",
       "    </tr>\n",
       "    <tr>\n",
       "      <th>6570</th>\n",
       "      <td>704</td>\n",
       "      <td>4830.82</td>\n",
       "      <td>0.50</td>\n",
       "      <td>2021-10-14</td>\n",
       "      <td>10</td>\n",
       "    </tr>\n",
       "    <tr>\n",
       "      <th>6680</th>\n",
       "      <td>712</td>\n",
       "      <td>4684.00</td>\n",
       "      <td>0.50</td>\n",
       "      <td>2021-03-04</td>\n",
       "      <td>3</td>\n",
       "    </tr>\n",
       "    <tr>\n",
       "      <th>6695</th>\n",
       "      <td>713</td>\n",
       "      <td>5215.64</td>\n",
       "      <td>0.50</td>\n",
       "      <td>2021-02-25</td>\n",
       "      <td>2</td>\n",
       "    </tr>\n",
       "    <tr>\n",
       "      <th>6768</th>\n",
       "      <td>718</td>\n",
       "      <td>5197.44</td>\n",
       "      <td>0.50</td>\n",
       "      <td>2021-02-11</td>\n",
       "      <td>2</td>\n",
       "    </tr>\n",
       "    <tr>\n",
       "      <th>...</th>\n",
       "      <td>...</td>\n",
       "      <td>...</td>\n",
       "      <td>...</td>\n",
       "      <td>...</td>\n",
       "      <td>...</td>\n",
       "    </tr>\n",
       "    <tr>\n",
       "      <th>17004</th>\n",
       "      <td>1460</td>\n",
       "      <td>5531.34</td>\n",
       "      <td>0.50</td>\n",
       "      <td>2021-01-19</td>\n",
       "      <td>1</td>\n",
       "    </tr>\n",
       "    <tr>\n",
       "      <th>17242</th>\n",
       "      <td>1477</td>\n",
       "      <td>6724.93</td>\n",
       "      <td>0.50</td>\n",
       "      <td>2021-01-12</td>\n",
       "      <td>1</td>\n",
       "    </tr>\n",
       "    <tr>\n",
       "      <th>17314</th>\n",
       "      <td>1483</td>\n",
       "      <td>4445.48</td>\n",
       "      <td>0.50</td>\n",
       "      <td>2021-03-06</td>\n",
       "      <td>3</td>\n",
       "    </tr>\n",
       "    <tr>\n",
       "      <th>17505</th>\n",
       "      <td>1496</td>\n",
       "      <td>5722.55</td>\n",
       "      <td>0.50</td>\n",
       "      <td>2021-02-14</td>\n",
       "      <td>2</td>\n",
       "    </tr>\n",
       "    <tr>\n",
       "      <th>17909</th>\n",
       "      <td>1524</td>\n",
       "      <td>4104.00</td>\n",
       "      <td>0.50</td>\n",
       "      <td>2021-06-18</td>\n",
       "      <td>6</td>\n",
       "    </tr>\n",
       "  </tbody>\n",
       "</table>\n",
       "<p>95 rows × 5 columns</p>\n",
       "</div>"
      ],
      "text/plain": [
       "       user_id  distance  duration       date  month\n",
       "6531       701   4196.45      0.50 2021-08-31      8\n",
       "6570       704   4830.82      0.50 2021-10-14     10\n",
       "6680       712   4684.00      0.50 2021-03-04      3\n",
       "6695       713   5215.64      0.50 2021-02-25      2\n",
       "6768       718   5197.44      0.50 2021-02-11      2\n",
       "...        ...       ...       ...        ...    ...\n",
       "17004     1460   5531.34      0.50 2021-01-19      1\n",
       "17242     1477   6724.93      0.50 2021-01-12      1\n",
       "17314     1483   4445.48      0.50 2021-03-06      3\n",
       "17505     1496   5722.55      0.50 2021-02-14      2\n",
       "17909     1524   4104.00      0.50 2021-06-18      6\n",
       "\n",
       "[95 rows x 5 columns]"
      ]
     },
     "execution_count": 20,
     "metadata": {},
     "output_type": "execute_result"
    }
   ],
   "source": [
    "df_rides.query('duration == 0.5')"
   ]
  },
  {
   "cell_type": "markdown",
   "id": "b207c4e5",
   "metadata": {},
   "source": [
    "## Объединение данных"
   ]
  },
  {
   "cell_type": "markdown",
   "id": "f9c107f9",
   "metadata": {},
   "source": [
    "### Общий датафрейм"
   ]
  },
  {
   "cell_type": "markdown",
   "id": "dc7619a3",
   "metadata": {},
   "source": [
    "Объединим данные о пользователях, поездках и подписках в один датафрейм."
   ]
  },
  {
   "cell_type": "code",
   "execution_count": 21,
   "id": "65b58025",
   "metadata": {},
   "outputs": [
    {
     "name": "stdout",
     "output_type": "stream",
     "text": [
      "<class 'pandas.core.frame.DataFrame'>\n",
      "Int64Index: 18068 entries, 0 to 18067\n",
      "Data columns (total 12 columns):\n",
      " #   Column             Non-Null Count  Dtype         \n",
      "---  ------             --------------  -----         \n",
      " 0   user_id            18068 non-null  int64         \n",
      " 1   distance           18068 non-null  float64       \n",
      " 2   duration           18068 non-null  float64       \n",
      " 3   date               18068 non-null  datetime64[ns]\n",
      " 4   month              18068 non-null  int64         \n",
      " 5   name               18068 non-null  object        \n",
      " 6   age                18068 non-null  int64         \n",
      " 7   city               18068 non-null  object        \n",
      " 8   subscription_type  18068 non-null  object        \n",
      " 9   minute_price       18068 non-null  int64         \n",
      " 10  start_ride_price   18068 non-null  int64         \n",
      " 11  subscription_fee   18068 non-null  int64         \n",
      "dtypes: datetime64[ns](1), float64(2), int64(6), object(3)\n",
      "memory usage: 1.8+ MB\n"
     ]
    }
   ],
   "source": [
    "df_users_rides = df_rides.merge(df_users_new, on='user_id', how='left')\n",
    "df_final = df_users_rides.merge(df_subscriptions, on='subscription_type', how='left')\n",
    "df_final.info()"
   ]
  },
  {
   "cell_type": "markdown",
   "id": "af0c461e",
   "metadata": {},
   "source": [
    "Количество записей в новом датафрейме `df_final` получилось 18068, что соостветствует количеству записей в `df_rides`, и 12 столбцов."
   ]
  },
  {
   "cell_type": "markdown",
   "id": "3ddf03e8",
   "metadata": {},
   "source": [
    "### Деление пользователей"
   ]
  },
  {
   "cell_type": "code",
   "execution_count": 22,
   "id": "f94666b2",
   "metadata": {},
   "outputs": [
    {
     "data": {
      "text/html": [
       "<div>\n",
       "<style scoped>\n",
       "    .dataframe tbody tr th:only-of-type {\n",
       "        vertical-align: middle;\n",
       "    }\n",
       "\n",
       "    .dataframe tbody tr th {\n",
       "        vertical-align: top;\n",
       "    }\n",
       "\n",
       "    .dataframe thead th {\n",
       "        text-align: right;\n",
       "    }\n",
       "</style>\n",
       "<table border=\"1\" class=\"dataframe\">\n",
       "  <thead>\n",
       "    <tr style=\"text-align: right;\">\n",
       "      <th></th>\n",
       "      <th>user_id</th>\n",
       "      <th>distance</th>\n",
       "      <th>duration</th>\n",
       "      <th>date</th>\n",
       "      <th>month</th>\n",
       "      <th>name</th>\n",
       "      <th>age</th>\n",
       "      <th>city</th>\n",
       "      <th>subscription_type</th>\n",
       "      <th>minute_price</th>\n",
       "      <th>start_ride_price</th>\n",
       "      <th>subscription_fee</th>\n",
       "    </tr>\n",
       "  </thead>\n",
       "  <tbody>\n",
       "    <tr>\n",
       "      <th>0</th>\n",
       "      <td>1</td>\n",
       "      <td>4409.92</td>\n",
       "      <td>25.60</td>\n",
       "      <td>2021-01-01</td>\n",
       "      <td>1</td>\n",
       "      <td>Кира</td>\n",
       "      <td>22</td>\n",
       "      <td>Тюмень</td>\n",
       "      <td>ultra</td>\n",
       "      <td>6</td>\n",
       "      <td>0</td>\n",
       "      <td>199</td>\n",
       "    </tr>\n",
       "    <tr>\n",
       "      <th>1</th>\n",
       "      <td>1</td>\n",
       "      <td>2617.59</td>\n",
       "      <td>15.82</td>\n",
       "      <td>2021-01-18</td>\n",
       "      <td>1</td>\n",
       "      <td>Кира</td>\n",
       "      <td>22</td>\n",
       "      <td>Тюмень</td>\n",
       "      <td>ultra</td>\n",
       "      <td>6</td>\n",
       "      <td>0</td>\n",
       "      <td>199</td>\n",
       "    </tr>\n",
       "    <tr>\n",
       "      <th>2</th>\n",
       "      <td>1</td>\n",
       "      <td>754.16</td>\n",
       "      <td>6.23</td>\n",
       "      <td>2021-04-20</td>\n",
       "      <td>4</td>\n",
       "      <td>Кира</td>\n",
       "      <td>22</td>\n",
       "      <td>Тюмень</td>\n",
       "      <td>ultra</td>\n",
       "      <td>6</td>\n",
       "      <td>0</td>\n",
       "      <td>199</td>\n",
       "    </tr>\n",
       "    <tr>\n",
       "      <th>3</th>\n",
       "      <td>1</td>\n",
       "      <td>2694.78</td>\n",
       "      <td>18.51</td>\n",
       "      <td>2021-08-11</td>\n",
       "      <td>8</td>\n",
       "      <td>Кира</td>\n",
       "      <td>22</td>\n",
       "      <td>Тюмень</td>\n",
       "      <td>ultra</td>\n",
       "      <td>6</td>\n",
       "      <td>0</td>\n",
       "      <td>199</td>\n",
       "    </tr>\n",
       "    <tr>\n",
       "      <th>4</th>\n",
       "      <td>1</td>\n",
       "      <td>4028.69</td>\n",
       "      <td>26.27</td>\n",
       "      <td>2021-08-28</td>\n",
       "      <td>8</td>\n",
       "      <td>Кира</td>\n",
       "      <td>22</td>\n",
       "      <td>Тюмень</td>\n",
       "      <td>ultra</td>\n",
       "      <td>6</td>\n",
       "      <td>0</td>\n",
       "      <td>199</td>\n",
       "    </tr>\n",
       "  </tbody>\n",
       "</table>\n",
       "</div>"
      ],
      "text/plain": [
       "   user_id  distance  duration       date  month  name  age    city  \\\n",
       "0        1   4409.92     25.60 2021-01-01      1  Кира   22  Тюмень   \n",
       "1        1   2617.59     15.82 2021-01-18      1  Кира   22  Тюмень   \n",
       "2        1    754.16      6.23 2021-04-20      4  Кира   22  Тюмень   \n",
       "3        1   2694.78     18.51 2021-08-11      8  Кира   22  Тюмень   \n",
       "4        1   4028.69     26.27 2021-08-28      8  Кира   22  Тюмень   \n",
       "\n",
       "  subscription_type  minute_price  start_ride_price  subscription_fee  \n",
       "0             ultra             6                 0               199  \n",
       "1             ultra             6                 0               199  \n",
       "2             ultra             6                 0               199  \n",
       "3             ultra             6                 0               199  \n",
       "4             ultra             6                 0               199  "
      ]
     },
     "metadata": {},
     "output_type": "display_data"
    },
    {
     "data": {
      "text/html": [
       "<div>\n",
       "<style scoped>\n",
       "    .dataframe tbody tr th:only-of-type {\n",
       "        vertical-align: middle;\n",
       "    }\n",
       "\n",
       "    .dataframe tbody tr th {\n",
       "        vertical-align: top;\n",
       "    }\n",
       "\n",
       "    .dataframe thead th {\n",
       "        text-align: right;\n",
       "    }\n",
       "</style>\n",
       "<table border=\"1\" class=\"dataframe\">\n",
       "  <thead>\n",
       "    <tr style=\"text-align: right;\">\n",
       "      <th></th>\n",
       "      <th>user_id</th>\n",
       "      <th>distance</th>\n",
       "      <th>duration</th>\n",
       "      <th>date</th>\n",
       "      <th>month</th>\n",
       "      <th>name</th>\n",
       "      <th>age</th>\n",
       "      <th>city</th>\n",
       "      <th>subscription_type</th>\n",
       "      <th>minute_price</th>\n",
       "      <th>start_ride_price</th>\n",
       "      <th>subscription_fee</th>\n",
       "    </tr>\n",
       "  </thead>\n",
       "  <tbody>\n",
       "    <tr>\n",
       "      <th>6500</th>\n",
       "      <td>700</td>\n",
       "      <td>2515.69</td>\n",
       "      <td>14.94</td>\n",
       "      <td>2021-01-02</td>\n",
       "      <td>1</td>\n",
       "      <td>Айдар</td>\n",
       "      <td>22</td>\n",
       "      <td>Омск</td>\n",
       "      <td>free</td>\n",
       "      <td>8</td>\n",
       "      <td>50</td>\n",
       "      <td>0</td>\n",
       "    </tr>\n",
       "    <tr>\n",
       "      <th>6501</th>\n",
       "      <td>700</td>\n",
       "      <td>846.93</td>\n",
       "      <td>16.23</td>\n",
       "      <td>2021-02-01</td>\n",
       "      <td>2</td>\n",
       "      <td>Айдар</td>\n",
       "      <td>22</td>\n",
       "      <td>Омск</td>\n",
       "      <td>free</td>\n",
       "      <td>8</td>\n",
       "      <td>50</td>\n",
       "      <td>0</td>\n",
       "    </tr>\n",
       "    <tr>\n",
       "      <th>6502</th>\n",
       "      <td>700</td>\n",
       "      <td>4004.43</td>\n",
       "      <td>20.02</td>\n",
       "      <td>2021-02-04</td>\n",
       "      <td>2</td>\n",
       "      <td>Айдар</td>\n",
       "      <td>22</td>\n",
       "      <td>Омск</td>\n",
       "      <td>free</td>\n",
       "      <td>8</td>\n",
       "      <td>50</td>\n",
       "      <td>0</td>\n",
       "    </tr>\n",
       "    <tr>\n",
       "      <th>6503</th>\n",
       "      <td>700</td>\n",
       "      <td>1205.91</td>\n",
       "      <td>9.78</td>\n",
       "      <td>2021-02-10</td>\n",
       "      <td>2</td>\n",
       "      <td>Айдар</td>\n",
       "      <td>22</td>\n",
       "      <td>Омск</td>\n",
       "      <td>free</td>\n",
       "      <td>8</td>\n",
       "      <td>50</td>\n",
       "      <td>0</td>\n",
       "    </tr>\n",
       "    <tr>\n",
       "      <th>6504</th>\n",
       "      <td>700</td>\n",
       "      <td>3047.38</td>\n",
       "      <td>17.43</td>\n",
       "      <td>2021-02-14</td>\n",
       "      <td>2</td>\n",
       "      <td>Айдар</td>\n",
       "      <td>22</td>\n",
       "      <td>Омск</td>\n",
       "      <td>free</td>\n",
       "      <td>8</td>\n",
       "      <td>50</td>\n",
       "      <td>0</td>\n",
       "    </tr>\n",
       "  </tbody>\n",
       "</table>\n",
       "</div>"
      ],
      "text/plain": [
       "      user_id  distance  duration       date  month   name  age  city  \\\n",
       "6500      700   2515.69     14.94 2021-01-02      1  Айдар   22  Омск   \n",
       "6501      700    846.93     16.23 2021-02-01      2  Айдар   22  Омск   \n",
       "6502      700   4004.43     20.02 2021-02-04      2  Айдар   22  Омск   \n",
       "6503      700   1205.91      9.78 2021-02-10      2  Айдар   22  Омск   \n",
       "6504      700   3047.38     17.43 2021-02-14      2  Айдар   22  Омск   \n",
       "\n",
       "     subscription_type  minute_price  start_ride_price  subscription_fee  \n",
       "6500              free             8                50                 0  \n",
       "6501              free             8                50                 0  \n",
       "6502              free             8                50                 0  \n",
       "6503              free             8                50                 0  \n",
       "6504              free             8                50                 0  "
      ]
     },
     "metadata": {},
     "output_type": "display_data"
    }
   ],
   "source": [
    "# Датафрейм пользователей с подпиской\n",
    "df_sub_ultra = df_final[df_final['subscription_type'] == 'ultra']\n",
    "\n",
    "# Датафрейм пользователей без подписки\n",
    "df_sub_free = df_final[df_final['subscription_type'] == 'free']\n",
    "\n",
    "display(df_sub_ultra.head())\n",
    "display(df_sub_free.head())"
   ]
  },
  {
   "cell_type": "markdown",
   "id": "0e03081e",
   "metadata": {},
   "source": [
    "Таблицы успешно поделены."
   ]
  },
  {
   "cell_type": "markdown",
   "id": "1394625f",
   "metadata": {},
   "source": [
    "### Визуализация поведения пользователей"
   ]
  },
  {
   "cell_type": "markdown",
   "id": "2c951f10",
   "metadata": {},
   "source": [
    "Построим графики для сравнения поведения (расстояние и длительность поездки) пользователей с подпиской и без подписки."
   ]
  },
  {
   "cell_type": "code",
   "execution_count": 23,
   "id": "eca9652f",
   "metadata": {},
   "outputs": [
    {
     "data": {
      "image/png": "[encoded data removed]",
      "text/plain": [
       "<Figure size 1296x360 with 1 Axes>"
      ]
     },
     "metadata": {
      "needs_background": "light"
     },
     "output_type": "display_data"
    }
   ],
   "source": [
    "fig, ax = plt.subplots(figsize=(18, 5))\n",
    "ax.hist(df_sub_ultra.duration, 50, alpha=0.4, label='ultra')\n",
    "ax.hist(df_sub_free.duration, 50, alpha=0.2, label='free')\n",
    "plt.title('Длительность поездок')\n",
    "plt.xlabel('Длительность поездок, мин.')\n",
    "plt.ylabel('Количество поездок')\n",
    "plt.legend(loc='upper right')\n",
    "plt.show()"
   ]
  },
  {
   "cell_type": "markdown",
   "id": "fe806545",
   "metadata": {},
   "source": [
    "По графику видно, что длительность поездки и боих категорий пользователей примерно одинаковая. Пользователи без подписки совершают больше поездок (возможно, в силу того, что в выборке их больше)."
   ]
  },
  {
   "cell_type": "markdown",
   "id": "97068cf2",
   "metadata": {},
   "source": [
    "Проанализируем расстояние поездок у рассматриваемых категорий пользователей."
   ]
  },
  {
   "cell_type": "code",
   "execution_count": 24,
   "id": "a84bdd54",
   "metadata": {},
   "outputs": [
    {
     "data": {
      "image/png": "[encoded data removed]",
      "text/plain": [
       "<Figure size 1296x360 with 1 Axes>"
      ]
     },
     "metadata": {
      "needs_background": "light"
     },
     "output_type": "display_data"
    }
   ],
   "source": [
    "fig, ax = plt.subplots(figsize=(18, 5))\n",
    "ax.hist(df_sub_ultra.distance, 50, alpha=0.4, label='ultra')\n",
    "ax.hist(df_sub_free.distance, 50, alpha=0.2, label='free')\n",
    "plt.title('Расстояние поездки')\n",
    "plt.xlabel('Расстояние поездок, м.')\n",
    "plt.ylabel('Количество поездок')\n",
    "plt.legend(loc='upper right')\n",
    "plt.show()"
   ]
  },
  {
   "cell_type": "markdown",
   "id": "4a3aacf4",
   "metadata": {},
   "source": [
    "По графику видно, что коротких поездок (до 1,5км) совершают больше пользователи без подписки, чем с подпиской. Разброс расстояний поездок также больше у пользователей без подписки. Пользователи с подпиской ультра предпочитают брать самокат на короткие поездки и на поездки расстоянием от 2км до 5км."
   ]
  },
  {
   "cell_type": "markdown",
   "id": "49ff3864",
   "metadata": {},
   "source": [
    "## Подсчёт выручки"
   ]
  },
  {
   "cell_type": "markdown",
   "id": "8df25b66",
   "metadata": {},
   "source": [
    "### Датафрейм с агрегированными данными"
   ]
  },
  {
   "cell_type": "markdown",
   "id": "c8b21772",
   "metadata": {},
   "source": [
    "5.1 Создайте датафрейм с агрегированными данными о поездках на основе датафрейма с объединёнными данными из шага 4: найдите суммарное расстояние, количество поездок и суммарное время для каждого пользователя за каждый месяц."
   ]
  },
  {
   "cell_type": "markdown",
   "id": "444335d4",
   "metadata": {},
   "source": [
    "Найдем суммарное расстояние, количество поездок и суммарное время для каждого пользователя за каждый месяц."
   ]
  },
  {
   "cell_type": "code",
   "execution_count": 25,
   "id": "43463adb",
   "metadata": {
    "scrolled": true
   },
   "outputs": [
    {
     "data": {
      "text/html": [
       "<div>\n",
       "<style scoped>\n",
       "    .dataframe tbody tr th:only-of-type {\n",
       "        vertical-align: middle;\n",
       "    }\n",
       "\n",
       "    .dataframe tbody tr th {\n",
       "        vertical-align: top;\n",
       "    }\n",
       "\n",
       "    .dataframe thead th {\n",
       "        text-align: right;\n",
       "    }\n",
       "</style>\n",
       "<table border=\"1\" class=\"dataframe\">\n",
       "  <thead>\n",
       "    <tr style=\"text-align: right;\">\n",
       "      <th></th>\n",
       "      <th>user_id</th>\n",
       "      <th>month</th>\n",
       "      <th>subscription_type</th>\n",
       "      <th>duration_total</th>\n",
       "      <th>distance_total</th>\n",
       "      <th>rides_amount</th>\n",
       "      <th>minute_price</th>\n",
       "      <th>start_ride_price</th>\n",
       "      <th>subscription_fee</th>\n",
       "    </tr>\n",
       "  </thead>\n",
       "  <tbody>\n",
       "    <tr>\n",
       "      <th>0</th>\n",
       "      <td>1</td>\n",
       "      <td>1</td>\n",
       "      <td>ultra</td>\n",
       "      <td>42.00</td>\n",
       "      <td>7027.51</td>\n",
       "      <td>2</td>\n",
       "      <td>6</td>\n",
       "      <td>0</td>\n",
       "      <td>199</td>\n",
       "    </tr>\n",
       "    <tr>\n",
       "      <th>1</th>\n",
       "      <td>1</td>\n",
       "      <td>4</td>\n",
       "      <td>ultra</td>\n",
       "      <td>7.00</td>\n",
       "      <td>754.16</td>\n",
       "      <td>1</td>\n",
       "      <td>6</td>\n",
       "      <td>0</td>\n",
       "      <td>199</td>\n",
       "    </tr>\n",
       "    <tr>\n",
       "      <th>2</th>\n",
       "      <td>1</td>\n",
       "      <td>8</td>\n",
       "      <td>ultra</td>\n",
       "      <td>46.00</td>\n",
       "      <td>6723.47</td>\n",
       "      <td>2</td>\n",
       "      <td>6</td>\n",
       "      <td>0</td>\n",
       "      <td>199</td>\n",
       "    </tr>\n",
       "    <tr>\n",
       "      <th>3</th>\n",
       "      <td>1</td>\n",
       "      <td>10</td>\n",
       "      <td>ultra</td>\n",
       "      <td>32.00</td>\n",
       "      <td>5809.91</td>\n",
       "      <td>2</td>\n",
       "      <td>6</td>\n",
       "      <td>0</td>\n",
       "      <td>199</td>\n",
       "    </tr>\n",
       "    <tr>\n",
       "      <th>4</th>\n",
       "      <td>1</td>\n",
       "      <td>11</td>\n",
       "      <td>ultra</td>\n",
       "      <td>56.00</td>\n",
       "      <td>7003.50</td>\n",
       "      <td>3</td>\n",
       "      <td>6</td>\n",
       "      <td>0</td>\n",
       "      <td>199</td>\n",
       "    </tr>\n",
       "  </tbody>\n",
       "</table>\n",
       "</div>"
      ],
      "text/plain": [
       "   user_id  month subscription_type  duration_total  distance_total  \\\n",
       "0        1      1             ultra           42.00         7027.51   \n",
       "1        1      4             ultra            7.00          754.16   \n",
       "2        1      8             ultra           46.00         6723.47   \n",
       "3        1     10             ultra           32.00         5809.91   \n",
       "4        1     11             ultra           56.00         7003.50   \n",
       "\n",
       "   rides_amount  minute_price  start_ride_price  subscription_fee  \n",
       "0             2             6                 0               199  \n",
       "1             1             6                 0               199  \n",
       "2             2             6                 0               199  \n",
       "3             2             6                 0               199  \n",
       "4             3             6                 0               199  "
      ]
     },
     "execution_count": 25,
     "metadata": {},
     "output_type": "execute_result"
    }
   ],
   "source": [
    "# Округлим значения в столбце duration\n",
    "df_final['duration'] = np.ceil(df_final['duration'])\n",
    "\n",
    "# Решение через groupby()\n",
    "df_final_grouped = df_final.groupby(['user_id', 'month', 'subscription_type']).agg({'duration':['sum'],\n",
    "                                                                                   'distance':['sum'], \n",
    "                                                                                   'user_id':['count'],\n",
    "                                                                                   'minute_price':['first'],\n",
    "                                                                                   'start_ride_price':['first'],\n",
    "                                                                                   'subscription_fee':['first']})\n",
    "\n",
    "# Убираем мультииндекс в столбцах\n",
    "df_final_grouped.columns = df_final_grouped.columns.droplevel(1)\n",
    "\n",
    "# Переименуем столбцы\n",
    "df_final_grouped = df_final_grouped.rename(columns={df_final_grouped.columns[0]: 'duration_total',\n",
    "                                                    df_final_grouped.columns[1]: 'distance_total',\n",
    "                                                    df_final_grouped.columns[2]: 'rides_amount',\n",
    "                                                    df_final_grouped.columns[3]: 'minute_price',\n",
    "                                                    df_final_grouped.columns[4]: 'start_ride_price', \n",
    "                                                    df_final_grouped.columns[5]: 'subscription_fee'})\n",
    "\n",
    "# Сбросим индексы\n",
    "df_final_grouped.reset_index(inplace=True)\n",
    "\n",
    "# Выведем на экран получившуюся таблицу\n",
    "df_final_grouped.head()"
   ]
  },
  {
   "cell_type": "markdown",
   "id": "accdd3ae",
   "metadata": {},
   "source": [
    "Мы сгруппировали данные по для каждого пользователя за каждый месяц, округлили общую продолжительность поездки. Данные готовы, чтобы рассчитать выручку."
   ]
  },
  {
   "cell_type": "markdown",
   "id": "a2dcdca8",
   "metadata": {},
   "source": [
    "### Расчет выручки"
   ]
  },
  {
   "cell_type": "markdown",
   "id": "5eae8421",
   "metadata": {},
   "source": [
    "Добавим в таблицу `df_final_grouped` столбец с выручкой, которую принес каждый пользователь. Для этого напишем функцию `calculate_revenue()`, которая считает выручку для каждого типа пользователя (с подпиской и без подписки)."
   ]
  },
  {
   "cell_type": "markdown",
   "id": "191ba83e",
   "metadata": {},
   "source": [
    "**Формула расчета выручки:**\n",
    "\n",
    "стоимость старта поездки × количество поездок + стоимость одной минуты поездки × общая продолжительность всех поездок в минутах + стоимость подписки"
   ]
  },
  {
   "cell_type": "code",
   "execution_count": 27,
   "id": "65b8cea9",
   "metadata": {},
   "outputs": [
    {
     "data": {
      "text/html": [
       "<div>\n",
       "<style scoped>\n",
       "    .dataframe tbody tr th:only-of-type {\n",
       "        vertical-align: middle;\n",
       "    }\n",
       "\n",
       "    .dataframe tbody tr th {\n",
       "        vertical-align: top;\n",
       "    }\n",
       "\n",
       "    .dataframe thead th {\n",
       "        text-align: right;\n",
       "    }\n",
       "</style>\n",
       "<table border=\"1\" class=\"dataframe\">\n",
       "  <thead>\n",
       "    <tr style=\"text-align: right;\">\n",
       "      <th></th>\n",
       "      <th>user_id</th>\n",
       "      <th>month</th>\n",
       "      <th>subscription_type</th>\n",
       "      <th>duration_total</th>\n",
       "      <th>distance_total</th>\n",
       "      <th>rides_amount</th>\n",
       "      <th>minute_price</th>\n",
       "      <th>start_ride_price</th>\n",
       "      <th>subscription_fee</th>\n",
       "      <th>total_revenue</th>\n",
       "    </tr>\n",
       "  </thead>\n",
       "  <tbody>\n",
       "    <tr>\n",
       "      <th>0</th>\n",
       "      <td>1</td>\n",
       "      <td>1</td>\n",
       "      <td>ultra</td>\n",
       "      <td>42.00</td>\n",
       "      <td>7027.51</td>\n",
       "      <td>2</td>\n",
       "      <td>6</td>\n",
       "      <td>0</td>\n",
       "      <td>199</td>\n",
       "      <td>451.00</td>\n",
       "    </tr>\n",
       "    <tr>\n",
       "      <th>1</th>\n",
       "      <td>1</td>\n",
       "      <td>4</td>\n",
       "      <td>ultra</td>\n",
       "      <td>7.00</td>\n",
       "      <td>754.16</td>\n",
       "      <td>1</td>\n",
       "      <td>6</td>\n",
       "      <td>0</td>\n",
       "      <td>199</td>\n",
       "      <td>241.00</td>\n",
       "    </tr>\n",
       "    <tr>\n",
       "      <th>2</th>\n",
       "      <td>1</td>\n",
       "      <td>8</td>\n",
       "      <td>ultra</td>\n",
       "      <td>46.00</td>\n",
       "      <td>6723.47</td>\n",
       "      <td>2</td>\n",
       "      <td>6</td>\n",
       "      <td>0</td>\n",
       "      <td>199</td>\n",
       "      <td>475.00</td>\n",
       "    </tr>\n",
       "    <tr>\n",
       "      <th>3</th>\n",
       "      <td>1</td>\n",
       "      <td>10</td>\n",
       "      <td>ultra</td>\n",
       "      <td>32.00</td>\n",
       "      <td>5809.91</td>\n",
       "      <td>2</td>\n",
       "      <td>6</td>\n",
       "      <td>0</td>\n",
       "      <td>199</td>\n",
       "      <td>391.00</td>\n",
       "    </tr>\n",
       "    <tr>\n",
       "      <th>4</th>\n",
       "      <td>1</td>\n",
       "      <td>11</td>\n",
       "      <td>ultra</td>\n",
       "      <td>56.00</td>\n",
       "      <td>7003.50</td>\n",
       "      <td>3</td>\n",
       "      <td>6</td>\n",
       "      <td>0</td>\n",
       "      <td>199</td>\n",
       "      <td>535.00</td>\n",
       "    </tr>\n",
       "  </tbody>\n",
       "</table>\n",
       "</div>"
      ],
      "text/plain": [
       "   user_id  month subscription_type  duration_total  distance_total  \\\n",
       "0        1      1             ultra           42.00         7027.51   \n",
       "1        1      4             ultra            7.00          754.16   \n",
       "2        1      8             ultra           46.00         6723.47   \n",
       "3        1     10             ultra           32.00         5809.91   \n",
       "4        1     11             ultra           56.00         7003.50   \n",
       "\n",
       "   rides_amount  minute_price  start_ride_price  subscription_fee  \\\n",
       "0             2             6                 0               199   \n",
       "1             1             6                 0               199   \n",
       "2             2             6                 0               199   \n",
       "3             2             6                 0               199   \n",
       "4             3             6                 0               199   \n",
       "\n",
       "   total_revenue  \n",
       "0         451.00  \n",
       "1         241.00  \n",
       "2         475.00  \n",
       "3         391.00  \n",
       "4         535.00  "
      ]
     },
     "execution_count": 27,
     "metadata": {},
     "output_type": "execute_result"
    }
   ],
   "source": [
    "df_final_grouped['total_revenue'] = (df_final_grouped['start_ride_price'] \n",
    "                                     * df_final_grouped['rides_amount'] # проблему описал выше\n",
    "                                     + df_final_grouped['minute_price']\n",
    "                                     * df_final_grouped['duration_total']\n",
    "                                     + df_final_grouped['subscription_fee'])\n",
    "\n",
    "df_final_grouped.head()"
   ]
  },
  {
   "cell_type": "markdown",
   "id": "1281dede",
   "metadata": {},
   "source": [
    "Рассчитали помесячную выручку от каждого пользователя и занесли значения в столбец `total_revenue`."
   ]
  },
  {
   "cell_type": "markdown",
   "id": "eb8e9097",
   "metadata": {},
   "source": [
    "## Проверка гипотез"
   ]
  },
  {
   "cell_type": "markdown",
   "id": "eded161e",
   "metadata": {},
   "source": [
    "В целях увеличения количества пользователей с подпиской нужно проверить несколько гипотез.\n",
    "Значение критического уровня стиатистической значимости (альфа) примем равным 5% во всех экспериментах."
   ]
  },
  {
   "cell_type": "markdown",
   "id": "1f3b26bb",
   "metadata": {},
   "source": [
    "### Длительность поездок"
   ]
  },
  {
   "cell_type": "markdown",
   "id": "f15639e7",
   "metadata": {},
   "source": [
    "Вопрос: тратят ли пользователи с подпиской больше времени на поездку? Чтобы выяснить это, сформулируем гипотезы (о равенстве средних двух генеральных совокупностей):\n",
    "\n",
    "- **H0**: пользователи с подпиской в среднем тратят на поездки столько же времени, сколько и пользователи без подписки.\n",
    "- **H1**: пользователи с подпиской в среднем тратят на поездки больше времени, чем пользователи без подписки."
   ]
  },
  {
   "cell_type": "code",
   "execution_count": 29,
   "id": "b973514f",
   "metadata": {},
   "outputs": [
    {
     "name": "stdout",
     "output_type": "stream",
     "text": [
      "p-значение: 1.2804098316645618e-34\n",
      "Отвергаем нулевую гипотезу\n",
      "-----\n",
      "Среднее значение продолжительности поездки для пользователей с подпиской: 18.54 мин.\n",
      "Среднее значение продолжительности поездки для пользователей без подписки: 17.39 мин.\n"
     ]
    }
   ],
   "source": [
    "alpha = 0.05  # критический уровень статистической значимости\n",
    "\n",
    "# Проверяем 2 независимые выборки - используем метод ttest_ind. Гипотеза левосторонняя\n",
    "results = st.ttest_ind(df_sub_free['duration'], df_sub_ultra['duration'], alternative='less')\n",
    "\n",
    "print('p-значение:', results.pvalue)\n",
    "\n",
    "if results.pvalue < alpha:\n",
    "    print('Отвергаем нулевую гипотезу')\n",
    "else:\n",
    "    print('Не удалось отвергнуть нулевую гипотезу')\n",
    "\n",
    "print('-----')\n",
    "print('Среднее значение продолжительности поездки для пользователей с подпиской:', round(df_sub_ultra['duration'].mean(), 2), 'мин.')\n",
    "print('Среднее значение продолжительности поездки для пользователей без подписки:', round(df_sub_free['duration'].mean(), 2), 'мин.')"
   ]
  },
  {
   "cell_type": "markdown",
   "id": "e1deb06d",
   "metadata": {},
   "source": [
    "Гипотеза **H0** не подтвердилась, поэтому средняя продолжительность поездок у пользователей с подпиской больше, чем у пользователей без подписки."
   ]
  },
  {
   "cell_type": "markdown",
   "id": "20b35685",
   "metadata": {},
   "source": [
    "### Расстояние поездок"
   ]
  },
  {
   "cell_type": "markdown",
   "id": "18357143",
   "metadata": {},
   "source": [
    "Расстояние одной поездки в 3130 метров — оптимальное с точки зрения износа самоката. Можно ли сказать, что среднее расстояние, которое проезжают пользователи с подпиской за одну поездку, не превышает 3130 метров? Сформулируем 2 гипотезы:\n",
    "\n",
    "- **H0**: пользователи с подпиской проезжают 3130 метров за одну поездку.\n",
    "- **H1**: пользователи с подпиской проезжают более 3130 метров за одну поездку."
   ]
  },
  {
   "cell_type": "code",
   "execution_count": 30,
   "id": "65e389c1",
   "metadata": {},
   "outputs": [
    {
     "name": "stdout",
     "output_type": "stream",
     "text": [
      "p-значение: 0.9195368847849785\n",
      "Не удалось отвергнуть нулевую гипотезу: расстояние достигает запланированных показателей\n"
     ]
    }
   ],
   "source": [
    "interested_value = 3130 # оптимальное расстояние одной поездки с точки зрения износа самоката\n",
    "\n",
    "alpha = 0.05 # уровень статистической значимости\n",
    "\n",
    "# Проверяем одностороннюю гипотезу и анализируем одну выборку, поэтому используем метод ttest_1samp\n",
    "results = st.ttest_1samp(df_sub_ultra['distance'], interested_value, alternative='greater')\n",
    "\n",
    "print('p-значение:', results.pvalue)\n",
    "\n",
    "if results.pvalue < alpha:\n",
    "    print(f'Отвергаем нулевую гипотезу: расстояние поездки значимо меньше {interested_value} м.')\n",
    "else:\n",
    "    print('Не удалось отвергнуть нулевую гипотезу: расстояние достигает запланированных показателей')"
   ]
  },
  {
   "cell_type": "markdown",
   "id": "c0ca97c3",
   "metadata": {},
   "source": [
    "Гипотеза **H0** не отвергнута, поэтому можно сказать, что среднее расстояние, которое проезжают пользователи с подпиской за одну поездку, не превышает 3130 метров."
   ]
  },
  {
   "cell_type": "markdown",
   "id": "bbb5bea1",
   "metadata": {},
   "source": [
    "### Помесячная выручка"
   ]
  },
  {
   "cell_type": "markdown",
   "id": "25e5c24c",
   "metadata": {},
   "source": [
    "Проверим гипотезу о том, будет ли помесячная выручка от пользователей с подпиской по месяцам выше, чем выручка от пользователей без подписки. Сформулируем 2 гипотезы:\n",
    "\n",
    "- **H0**: средняя выручка от пользователей с подпиской по месяцам одинакова со средней выручкой от пользователей без подписки.\n",
    "- **H1**: средняя выручка от пользователей с подпиской по месяцам выше, чем средняя выручка от пользователей без подписки."
   ]
  },
  {
   "cell_type": "code",
   "execution_count": 31,
   "id": "4fd07b4a",
   "metadata": {},
   "outputs": [],
   "source": [
    "# Возьмем значения столбца total_revenue из df_final_grouped\n",
    "revenue_ultra = df_final_grouped[df_final_grouped['subscription_type'] == 'ultra']['total_revenue']\n",
    "revenue_free = df_final_grouped[df_final_grouped['subscription_type'] == 'free']['total_revenue']"
   ]
  },
  {
   "cell_type": "markdown",
   "id": "ea58424a",
   "metadata": {},
   "source": [
    "Для проверки гипотез используем метод `ttest_ind`. В нем есть параметр `equal_var`, с ним нужно определиться, проверив дисперсии выборок. Не забываю поставить `ddof` в метод `var`, т.к. датасет это не вся совокупность, а выборка."
   ]
  },
  {
   "cell_type": "code",
   "execution_count": 32,
   "id": "6dfb15a1",
   "metadata": {
    "scrolled": true
   },
   "outputs": [
    {
     "name": "stdout",
     "output_type": "stream",
     "text": [
      "ultra:  7790.31073335113\n",
      "free:  33807.56269650313\n"
     ]
    }
   ],
   "source": [
    "var_ultra = np.var(revenue_ultra, ddof=1)\n",
    "var_free = np.var(revenue_free, ddof=1)\n",
    "\n",
    "print('ultra: ', var_ultra)\n",
    "print('free: ', var_free)"
   ]
  },
  {
   "cell_type": "markdown",
   "id": "2b2368b8",
   "metadata": {},
   "source": [
    "Дисперсии отличаются, поэтому `equal_var=False`"
   ]
  },
  {
   "cell_type": "code",
   "execution_count": 33,
   "id": "401ae575",
   "metadata": {},
   "outputs": [
    {
     "name": "stdout",
     "output_type": "stream",
     "text": [
      "p-значение: 8.874140893976874e-40\n",
      "Отвергаем нулевую гипотезу\n",
      "-----\n",
      "Среднее значение выручки от пользователей с подпиской: 362.79 руб.\n",
      "Среднее значение выручки от пользователей без подписки: 328.64 руб.\n"
     ]
    }
   ],
   "source": [
    "alpha = 0.05  # критический уровень статистической значимости\n",
    "\n",
    "# Проверяем 2 независимые выборки - используем метод ttest_ind. Гипотеза левосторонняя (среднее 1 выборки < среднего 2 выборки)\n",
    "results = st.ttest_ind(revenue_free, \n",
    "                       revenue_ultra, \n",
    "                       equal_var=False, \n",
    "                       alternative='less')\n",
    "\n",
    "print('p-значение:', results.pvalue)\n",
    "\n",
    "if results.pvalue < alpha:\n",
    "    print('Отвергаем нулевую гипотезу')\n",
    "else:\n",
    "    print('Не удалось отвергнуть нулевую гипотезу')\n",
    "    \n",
    "print('-----')\n",
    "print('Среднее значение выручки от пользователей с подпиской:', round(revenue_ultra.mean(), 2), 'руб.')\n",
    "print('Среднее значение выручки от пользователей без подписки:', round(revenue_free.mean(), 2), 'руб.')"
   ]
  },
  {
   "cell_type": "markdown",
   "id": "200906e1",
   "metadata": {},
   "source": [
    "Средняя выручка от пользователей с подпиской выше, чем средняя выручка от пользователей без подписки."
   ]
  },
  {
   "cell_type": "markdown",
   "id": "4f3f60f6",
   "metadata": {},
   "source": [
    "### Обновление серверов"
   ]
  },
  {
   "cell_type": "markdown",
   "id": "4ee081c9",
   "metadata": {},
   "source": [
    "**Вопрос**: _представьте такую ситуацию: техническая команда сервиса обновила сервера, с которыми взаимодействует мобильное приложение. Она надеется, что из-за этого количество обращений в техподдержку значимо снизилось. Некоторый файл содержит для каждого пользователя данные о количестве обращений до обновления и после него. Какой тест вам понадобился бы для проверки этой гипотезы?_\n",
    "\n",
    "**Ответ**: мы имеем две зависимые (парные) выборки, поэтому будем проверять гипотезу о равенстве среднего значения генеральной совокупности до и после изменения. Используемый метод - `st.ttest_rel`, аргументы - парные выборки до и после изменения. Проверяемая гипотеза - правостороняя."
   ]
  },
  {
   "cell_type": "markdown",
   "id": "34b49346",
   "metadata": {},
   "source": [
    "## Вывод"
   ]
  },
  {
   "cell_type": "markdown",
   "id": "6b533e2e",
   "metadata": {},
   "source": [
    "Мы провели анализ поведения клиентов сервиса GoFst по основным параметрам: продолжительность поездки, дальность поездки, выручка сервиса от пользователей. Выборка данных оказалась достаточно качественной: нет пропусков, малое количество выдающихся значений, тип данных корректный.\n",
    "\n",
    "- В представленной выборке оказалось больше пользователей из Пятигорска (219 пользователей). Москва оказалась городом с наименьшим количеством пользователей (168).\n",
    "- В выборке преобладает количество пользователей без подписки (54.43%). Доля пользователей с подпиской ultra составляет 45,57%.\n",
    "- Медианный и средний возраст пользователя составляет 25 лет\n",
    "- Пользователи используют самокат для поездок на расстояние от нескольких метров до 7 км. Преобладают поездки в интервале от 2,5 км до 4 км. В выборке есть группа пользователей, использующих самокат для поездок на расстоянии до 1,5 км. Предположим, что это поездки от метро/остановки до дома.\n",
    "- Средняя и медианная продолжительность поездок составила около 17 мин. В выборке было 95 поездок с продолжительностью 30 сек. Вероятно, это выбросы.\n",
    "\n",
    "**Поведение пользователей**\n",
    "- **Длительность поездок** у обоих категорий пользователей (с подпиской и без подписки) примерно одинаковая\n",
    "- **Расстояние поездки**:  часть пользователей без подписки ездят на бОльшие расстояния, чем пользователи с подпиской ultra. Возможно, это связано с тем, что самокаты на длинные поездки берут в парках на прогулке пользователи, которые редко используют самокат, как средство передвижения. Отдельно можно выделить 2 категории пользователей (независимо от наличия подписки): те, кто ездит на короткие расстояния и на большие (от 1,5 км).\n",
    "\n",
    "Далее мы сделали общий датафрейм, в котором посчитали выручку в разрезе пользователей по месяцам (`df_final_grouped`, столбец `total_revenue `).\n",
    "\n",
    "**Проверка гипотез**\n",
    "- **Длительность поездки** в среднем у пользователей с подпиской больше, чем у пользователей без подписки.\n",
    "- **Расстояние поездки**: среднее расстояние поездки у пользователей с подпиской не превышает оптимального значения для износа самоката (3130 м). Это означает, что данная группа пользователей меньше изнашивает оборудование при прочих равных условиях.\n",
    "- **Выручка** от пользователей с подпиской вероятно окажется в среднем выше, чем у пользователей без подписки.\n",
    "\n",
    "**Рекомендации**\n",
    "- Необходимо более подробно изучить группу пользователей, которые используют самокат для поездки на короткие расстояния\n",
    "- Также можно рассмотреть возможность повышения стоимости минуты, если расстояние поездки будет превышать оптимальное значение для износа самоката. Возможно, данное повышение цены с этого расстояния компенсировать более низкой ценой минуты до этого расстояния\n",
    "- Так как больше денег сервису приносят пользователи с подпиской, то нужно стимулировать пользователей оформлять подписку. Скорее всего, нужно нацелиться на тех, кто редко использует самокат. При этом, за счет таких пользователей износ самокатов будет меньше."
   ]
  }
 ],
 "metadata": {
  "ExecuteTimeLog": [
   {
    "duration": 1841,
    "start_time": "2023-09-26T19:33:12.824Z"
   },
   {
    "duration": 201,
    "start_time": "2023-09-26T19:33:17.830Z"
   },
   {
    "duration": 134,
    "start_time": "2023-09-26T19:33:20.529Z"
   },
   {
    "duration": 141,
    "start_time": "2023-09-26T19:35:40.582Z"
   },
   {
    "duration": 168,
    "start_time": "2023-09-26T19:45:39.573Z"
   },
   {
    "duration": 194,
    "start_time": "2023-09-26T19:45:58.104Z"
   },
   {
    "duration": 155,
    "start_time": "2023-09-26T19:46:11.566Z"
   },
   {
    "duration": 154,
    "start_time": "2023-09-26T19:47:45.964Z"
   },
   {
    "duration": 162,
    "start_time": "2023-09-26T19:48:08.798Z"
   },
   {
    "duration": 147,
    "start_time": "2023-09-26T19:50:35.535Z"
   },
   {
    "duration": 203,
    "start_time": "2023-09-26T19:52:19.964Z"
   },
   {
    "duration": 13,
    "start_time": "2023-09-26T20:06:09.127Z"
   },
   {
    "duration": 9,
    "start_time": "2023-09-26T20:07:49.745Z"
   },
   {
    "duration": 13,
    "start_time": "2023-09-26T20:08:06.727Z"
   },
   {
    "duration": 12,
    "start_time": "2023-09-26T20:11:13.346Z"
   },
   {
    "duration": 13,
    "start_time": "2023-09-26T20:11:24.531Z"
   },
   {
    "duration": 22,
    "start_time": "2023-09-26T20:11:41.325Z"
   },
   {
    "duration": 13,
    "start_time": "2023-09-26T20:11:56.459Z"
   },
   {
    "duration": 11,
    "start_time": "2023-09-26T20:12:01.642Z"
   },
   {
    "duration": 133,
    "start_time": "2023-09-26T20:12:07.161Z"
   },
   {
    "duration": 14,
    "start_time": "2023-09-26T20:18:19.302Z"
   },
   {
    "duration": 4,
    "start_time": "2023-09-26T20:21:50.736Z"
   },
   {
    "duration": 52,
    "start_time": "2023-09-26T20:22:15.886Z"
   },
   {
    "duration": 40,
    "start_time": "2023-09-26T20:22:45.032Z"
   },
   {
    "duration": 41,
    "start_time": "2023-09-26T20:24:00.395Z"
   },
   {
    "duration": 39,
    "start_time": "2023-09-26T20:24:08.797Z"
   },
   {
    "duration": 5,
    "start_time": "2023-09-26T20:25:42.554Z"
   },
   {
    "duration": 42,
    "start_time": "2023-09-26T20:25:44.457Z"
   },
   {
    "duration": 5,
    "start_time": "2023-09-26T20:26:08.322Z"
   },
   {
    "duration": 5,
    "start_time": "2023-09-26T20:26:15.106Z"
   },
   {
    "duration": 40,
    "start_time": "2023-09-26T20:26:15.556Z"
   },
   {
    "duration": 7,
    "start_time": "2023-09-26T20:32:27.197Z"
   },
   {
    "duration": 13,
    "start_time": "2023-09-26T20:33:04.721Z"
   },
   {
    "duration": 6,
    "start_time": "2023-09-26T20:33:12.064Z"
   },
   {
    "duration": 8,
    "start_time": "2023-09-26T20:33:54.592Z"
   },
   {
    "duration": 6,
    "start_time": "2023-09-26T20:34:59.955Z"
   },
   {
    "duration": 46,
    "start_time": "2023-09-26T20:36:57.098Z"
   },
   {
    "duration": 44,
    "start_time": "2023-09-26T20:38:19.227Z"
   },
   {
    "duration": 11,
    "start_time": "2023-09-26T20:45:36.964Z"
   },
   {
    "duration": 4,
    "start_time": "2023-09-26T20:47:18.593Z"
   },
   {
    "duration": 163,
    "start_time": "2023-09-26T20:47:19.559Z"
   },
   {
    "duration": 4,
    "start_time": "2023-09-26T20:47:19.994Z"
   },
   {
    "duration": 41,
    "start_time": "2023-09-26T20:47:20.876Z"
   },
   {
    "duration": 7,
    "start_time": "2023-09-26T20:47:21.825Z"
   },
   {
    "duration": 45,
    "start_time": "2023-09-26T20:47:23.276Z"
   },
   {
    "duration": 11,
    "start_time": "2023-09-26T20:47:26.637Z"
   },
   {
    "duration": 43,
    "start_time": "2023-09-26T20:47:28.675Z"
   },
   {
    "duration": 44,
    "start_time": "2023-09-26T20:50:52.616Z"
   },
   {
    "duration": 7,
    "start_time": "2023-09-26T21:00:39.927Z"
   },
   {
    "duration": 9,
    "start_time": "2023-09-26T21:00:49.330Z"
   },
   {
    "duration": 11,
    "start_time": "2023-09-26T21:01:46.440Z"
   },
   {
    "duration": 10,
    "start_time": "2023-09-26T21:02:07.344Z"
   },
   {
    "duration": 9,
    "start_time": "2023-09-26T21:03:00.668Z"
   },
   {
    "duration": 17,
    "start_time": "2023-09-26T21:03:01.135Z"
   },
   {
    "duration": 12,
    "start_time": "2023-09-26T21:06:37.426Z"
   },
   {
    "duration": 1385,
    "start_time": "2023-09-27T21:08:16.183Z"
   },
   {
    "duration": 229,
    "start_time": "2023-09-27T21:08:17.570Z"
   },
   {
    "duration": 4,
    "start_time": "2023-09-27T21:08:17.801Z"
   },
   {
    "duration": 58,
    "start_time": "2023-09-27T21:08:17.807Z"
   },
   {
    "duration": 8,
    "start_time": "2023-09-27T21:08:17.867Z"
   },
   {
    "duration": 85,
    "start_time": "2023-09-27T21:08:17.876Z"
   },
   {
    "duration": 8,
    "start_time": "2023-09-27T21:08:17.962Z"
   },
   {
    "duration": 64,
    "start_time": "2023-09-27T21:08:17.972Z"
   },
   {
    "duration": 16,
    "start_time": "2023-09-27T21:08:18.038Z"
   },
   {
    "duration": 12,
    "start_time": "2023-09-27T21:08:18.056Z"
   },
   {
    "duration": 4,
    "start_time": "2023-09-27T21:11:35.477Z"
   },
   {
    "duration": 13,
    "start_time": "2023-09-27T21:11:35.995Z"
   },
   {
    "duration": 3,
    "start_time": "2023-09-27T21:12:00.475Z"
   },
   {
    "duration": 19,
    "start_time": "2023-09-27T21:12:00.897Z"
   },
   {
    "duration": 3,
    "start_time": "2023-09-27T21:12:27.974Z"
   },
   {
    "duration": 9,
    "start_time": "2023-09-27T21:12:29.993Z"
   },
   {
    "duration": 96,
    "start_time": "2023-09-27T21:15:33.977Z"
   },
   {
    "duration": 3,
    "start_time": "2023-09-27T21:15:58.700Z"
   },
   {
    "duration": 12,
    "start_time": "2023-09-27T21:15:59.480Z"
   },
   {
    "duration": 4,
    "start_time": "2023-09-27T21:18:40.971Z"
   },
   {
    "duration": 9,
    "start_time": "2023-09-27T21:18:41.590Z"
   },
   {
    "duration": 9,
    "start_time": "2023-09-27T21:22:46.660Z"
   },
   {
    "duration": 5,
    "start_time": "2023-09-27T21:25:52.551Z"
   },
   {
    "duration": 16,
    "start_time": "2023-09-27T21:25:53.124Z"
   },
   {
    "duration": 4,
    "start_time": "2023-09-27T21:26:03.448Z"
   },
   {
    "duration": 12,
    "start_time": "2023-09-27T21:26:03.824Z"
   },
   {
    "duration": 8,
    "start_time": "2023-09-27T21:27:12.295Z"
   },
   {
    "duration": 28,
    "start_time": "2023-09-27T21:29:56.003Z"
   },
   {
    "duration": 117,
    "start_time": "2023-09-27T21:46:51.690Z"
   },
   {
    "duration": 20,
    "start_time": "2023-09-27T21:47:04.326Z"
   },
   {
    "duration": 15,
    "start_time": "2023-09-27T21:48:40.876Z"
   },
   {
    "duration": 19,
    "start_time": "2023-09-27T21:49:52.070Z"
   },
   {
    "duration": 9,
    "start_time": "2023-09-27T21:58:52.808Z"
   },
   {
    "duration": 12,
    "start_time": "2023-09-27T22:04:17.844Z"
   },
   {
    "duration": 7,
    "start_time": "2023-09-27T22:05:53.730Z"
   },
   {
    "duration": 12,
    "start_time": "2023-09-27T22:06:55.826Z"
   },
   {
    "duration": 14,
    "start_time": "2023-09-27T22:07:57.039Z"
   },
   {
    "duration": 18,
    "start_time": "2023-09-27T22:08:33.910Z"
   },
   {
    "duration": 326,
    "start_time": "2023-09-27T22:08:52.177Z"
   },
   {
    "duration": 27,
    "start_time": "2023-09-27T22:09:04.506Z"
   },
   {
    "duration": 186,
    "start_time": "2023-09-27T22:09:12.178Z"
   },
   {
    "duration": 164,
    "start_time": "2023-09-27T22:09:30.840Z"
   },
   {
    "duration": 170,
    "start_time": "2023-09-27T22:09:49.873Z"
   },
   {
    "duration": 303,
    "start_time": "2023-09-27T22:10:37.627Z"
   },
   {
    "duration": 21,
    "start_time": "2023-09-27T22:10:51.386Z"
   },
   {
    "duration": 364,
    "start_time": "2023-09-27T22:10:59.547Z"
   },
   {
    "duration": 21,
    "start_time": "2023-09-27T22:11:29.927Z"
   },
   {
    "duration": 307,
    "start_time": "2023-09-27T22:11:41.330Z"
   },
   {
    "duration": 12,
    "start_time": "2023-09-27T22:12:07.228Z"
   },
   {
    "duration": 183,
    "start_time": "2023-09-27T22:13:27.674Z"
   },
   {
    "duration": 155,
    "start_time": "2023-09-27T22:14:01.288Z"
   },
   {
    "duration": 156,
    "start_time": "2023-09-27T22:14:11.808Z"
   },
   {
    "duration": 15,
    "start_time": "2023-09-27T22:14:34.656Z"
   },
   {
    "duration": 6,
    "start_time": "2023-09-27T22:14:50.373Z"
   },
   {
    "duration": 159,
    "start_time": "2023-09-27T22:14:55.704Z"
   },
   {
    "duration": 157,
    "start_time": "2023-09-27T22:16:16.700Z"
   },
   {
    "duration": 167,
    "start_time": "2023-09-27T22:16:53.924Z"
   },
   {
    "duration": 174,
    "start_time": "2023-09-27T22:18:40.591Z"
   },
   {
    "duration": 18,
    "start_time": "2023-09-27T22:23:15.079Z"
   },
   {
    "duration": 17,
    "start_time": "2023-09-27T22:23:49.360Z"
   },
   {
    "duration": 29,
    "start_time": "2023-09-27T22:24:15.556Z"
   },
   {
    "duration": 111,
    "start_time": "2023-09-27T22:24:35.856Z"
   },
   {
    "duration": 31,
    "start_time": "2023-09-27T22:25:09.974Z"
   },
   {
    "duration": 17,
    "start_time": "2023-09-27T22:26:53.815Z"
   },
   {
    "duration": 6,
    "start_time": "2023-09-27T22:27:05.830Z"
   },
   {
    "duration": 7,
    "start_time": "2023-09-27T22:27:35.024Z"
   },
   {
    "duration": 121,
    "start_time": "2023-09-28T18:40:38.880Z"
   },
   {
    "duration": 80,
    "start_time": "2023-09-28T18:40:49.382Z"
   },
   {
    "duration": 1448,
    "start_time": "2023-09-28T18:41:00.515Z"
   },
   {
    "duration": 199,
    "start_time": "2023-09-28T18:41:01.965Z"
   },
   {
    "duration": 4,
    "start_time": "2023-09-28T18:41:02.165Z"
   },
   {
    "duration": 92,
    "start_time": "2023-09-28T18:41:02.171Z"
   },
   {
    "duration": 9,
    "start_time": "2023-09-28T18:41:02.265Z"
   },
   {
    "duration": 115,
    "start_time": "2023-09-28T18:41:02.275Z"
   },
   {
    "duration": 78,
    "start_time": "2023-09-28T18:41:02.392Z"
   },
   {
    "duration": 88,
    "start_time": "2023-09-28T18:41:02.472Z"
   },
   {
    "duration": 77,
    "start_time": "2023-09-28T18:41:02.562Z"
   },
   {
    "duration": 30,
    "start_time": "2023-09-28T18:41:02.643Z"
   },
   {
    "duration": 75,
    "start_time": "2023-09-28T18:41:02.675Z"
   },
   {
    "duration": 55,
    "start_time": "2023-09-28T18:41:02.752Z"
   },
   {
    "duration": 43,
    "start_time": "2023-09-28T18:41:02.809Z"
   },
   {
    "duration": 58,
    "start_time": "2023-09-28T18:41:02.854Z"
   },
   {
    "duration": 227,
    "start_time": "2023-09-28T18:41:02.914Z"
   },
   {
    "duration": 12,
    "start_time": "2023-09-28T18:44:21.100Z"
   },
   {
    "duration": 15,
    "start_time": "2023-09-28T18:44:26.317Z"
   },
   {
    "duration": 111,
    "start_time": "2023-09-28T18:44:50.813Z"
   },
   {
    "duration": 135,
    "start_time": "2023-09-28T18:45:05.134Z"
   },
   {
    "duration": 78,
    "start_time": "2023-09-28T18:45:34.794Z"
   },
   {
    "duration": 19,
    "start_time": "2023-09-28T18:45:40.243Z"
   },
   {
    "duration": 22,
    "start_time": "2023-09-28T18:45:56.043Z"
   },
   {
    "duration": 135,
    "start_time": "2023-09-28T18:46:00.664Z"
   },
   {
    "duration": 125,
    "start_time": "2023-09-28T18:46:11.143Z"
   },
   {
    "duration": 13,
    "start_time": "2023-09-28T18:48:30.990Z"
   },
   {
    "duration": 17,
    "start_time": "2023-09-28T18:49:26.320Z"
   },
   {
    "duration": 15,
    "start_time": "2023-09-28T18:49:39.684Z"
   },
   {
    "duration": 204,
    "start_time": "2023-09-28T19:06:12.870Z"
   },
   {
    "duration": 150,
    "start_time": "2023-09-28T19:06:51.883Z"
   },
   {
    "duration": 202,
    "start_time": "2023-09-28T19:07:28.667Z"
   },
   {
    "duration": 213,
    "start_time": "2023-09-28T19:08:48.042Z"
   },
   {
    "duration": 147,
    "start_time": "2023-09-28T19:09:01.663Z"
   },
   {
    "duration": 300,
    "start_time": "2023-09-28T19:11:59.537Z"
   },
   {
    "duration": 271,
    "start_time": "2023-09-28T19:12:26.113Z"
   },
   {
    "duration": 327,
    "start_time": "2023-09-28T19:13:56.065Z"
   },
   {
    "duration": 302,
    "start_time": "2023-09-28T19:14:06.013Z"
   },
   {
    "duration": 332,
    "start_time": "2023-09-28T19:14:44.194Z"
   },
   {
    "duration": 265,
    "start_time": "2023-09-28T19:14:52.843Z"
   },
   {
    "duration": 281,
    "start_time": "2023-09-28T19:21:41.124Z"
   },
   {
    "duration": 140,
    "start_time": "2023-09-28T19:21:52.301Z"
   },
   {
    "duration": 209,
    "start_time": "2023-09-28T19:21:59.236Z"
   },
   {
    "duration": 159,
    "start_time": "2023-09-28T19:22:07.295Z"
   },
   {
    "duration": 166,
    "start_time": "2023-09-28T19:22:16.737Z"
   },
   {
    "duration": 172,
    "start_time": "2023-09-28T19:22:22.534Z"
   },
   {
    "duration": 137,
    "start_time": "2023-09-28T19:22:34.137Z"
   },
   {
    "duration": 355,
    "start_time": "2023-09-28T19:24:12.193Z"
   },
   {
    "duration": 1365,
    "start_time": "2023-09-28T19:24:20.795Z"
   },
   {
    "duration": 1454,
    "start_time": "2023-09-28T19:24:35.894Z"
   },
   {
    "duration": 280,
    "start_time": "2023-09-28T19:24:47.692Z"
   },
   {
    "duration": 188,
    "start_time": "2023-09-28T19:25:08.825Z"
   },
   {
    "duration": 158,
    "start_time": "2023-09-28T19:25:26.444Z"
   },
   {
    "duration": 1590,
    "start_time": "2023-09-28T19:26:07.659Z"
   },
   {
    "duration": 1623,
    "start_time": "2023-09-28T19:26:25.327Z"
   },
   {
    "duration": 1489,
    "start_time": "2023-09-28T19:37:16.337Z"
   },
   {
    "duration": 258,
    "start_time": "2023-09-28T19:37:51.708Z"
   },
   {
    "duration": 500,
    "start_time": "2023-09-28T19:38:01.064Z"
   },
   {
    "duration": 187,
    "start_time": "2023-09-28T19:38:08.965Z"
   },
   {
    "duration": 314,
    "start_time": "2023-09-28T19:38:17.937Z"
   },
   {
    "duration": 332,
    "start_time": "2023-09-28T19:40:14.757Z"
   },
   {
    "duration": 363,
    "start_time": "2023-09-28T19:41:06.716Z"
   },
   {
    "duration": 320,
    "start_time": "2023-09-28T19:42:47.790Z"
   },
   {
    "duration": 17,
    "start_time": "2023-09-28T19:53:39.403Z"
   },
   {
    "duration": 21,
    "start_time": "2023-09-28T19:55:06.420Z"
   },
   {
    "duration": 27,
    "start_time": "2023-09-28T19:55:27.294Z"
   },
   {
    "duration": 34,
    "start_time": "2023-09-28T19:55:46.790Z"
   },
   {
    "duration": 32,
    "start_time": "2023-09-28T19:56:00.007Z"
   },
   {
    "duration": 24,
    "start_time": "2023-09-28T19:56:28.713Z"
   },
   {
    "duration": 30,
    "start_time": "2023-09-28T20:02:24.045Z"
   },
   {
    "duration": 144,
    "start_time": "2023-09-28T20:05:55.563Z"
   },
   {
    "duration": 286,
    "start_time": "2023-09-28T20:06:38.957Z"
   },
   {
    "duration": 529,
    "start_time": "2023-09-28T20:07:43.237Z"
   },
   {
    "duration": 194,
    "start_time": "2023-09-28T20:09:52.743Z"
   },
   {
    "duration": 263,
    "start_time": "2023-09-28T20:11:00.303Z"
   },
   {
    "duration": 340,
    "start_time": "2023-09-28T20:11:07.817Z"
   },
   {
    "duration": 325,
    "start_time": "2023-09-28T20:11:40.142Z"
   },
   {
    "duration": 322,
    "start_time": "2023-09-28T20:11:51.498Z"
   },
   {
    "duration": 335,
    "start_time": "2023-09-28T20:12:23.721Z"
   },
   {
    "duration": 348,
    "start_time": "2023-09-28T20:12:43.530Z"
   },
   {
    "duration": 277,
    "start_time": "2023-09-28T20:14:29.205Z"
   },
   {
    "duration": 337,
    "start_time": "2023-09-28T20:14:45.229Z"
   },
   {
    "duration": 604,
    "start_time": "2023-09-28T20:14:53.317Z"
   },
   {
    "duration": 309,
    "start_time": "2023-09-28T20:14:58.906Z"
   },
   {
    "duration": 294,
    "start_time": "2023-09-28T20:16:46.109Z"
   },
   {
    "duration": 323,
    "start_time": "2023-09-28T20:26:38.836Z"
   },
   {
    "duration": 288,
    "start_time": "2023-09-28T20:27:18.017Z"
   },
   {
    "duration": 320,
    "start_time": "2023-09-28T20:27:21.251Z"
   },
   {
    "duration": 1452,
    "start_time": "2023-09-29T16:40:08.981Z"
   },
   {
    "duration": 308,
    "start_time": "2023-09-29T16:40:10.435Z"
   },
   {
    "duration": 3,
    "start_time": "2023-09-29T16:40:10.745Z"
   },
   {
    "duration": 48,
    "start_time": "2023-09-29T16:40:10.750Z"
   },
   {
    "duration": 6,
    "start_time": "2023-09-29T16:40:10.800Z"
   },
   {
    "duration": 70,
    "start_time": "2023-09-29T16:40:10.808Z"
   },
   {
    "duration": 8,
    "start_time": "2023-09-29T16:40:10.880Z"
   },
   {
    "duration": 57,
    "start_time": "2023-09-29T16:40:10.889Z"
   },
   {
    "duration": 23,
    "start_time": "2023-09-29T16:40:10.949Z"
   },
   {
    "duration": 9,
    "start_time": "2023-09-29T16:40:10.974Z"
   },
   {
    "duration": 3,
    "start_time": "2023-09-29T16:40:10.985Z"
   },
   {
    "duration": 12,
    "start_time": "2023-09-29T16:40:10.990Z"
   },
   {
    "duration": 43,
    "start_time": "2023-09-29T16:40:11.004Z"
   },
   {
    "duration": 22,
    "start_time": "2023-09-29T16:40:11.051Z"
   },
   {
    "duration": 218,
    "start_time": "2023-09-29T16:40:11.075Z"
   },
   {
    "duration": 148,
    "start_time": "2023-09-29T16:40:11.294Z"
   },
   {
    "duration": 310,
    "start_time": "2023-09-29T16:40:11.445Z"
   },
   {
    "duration": 1396,
    "start_time": "2023-09-29T16:40:11.758Z"
   },
   {
    "duration": 336,
    "start_time": "2023-09-29T16:40:13.157Z"
   },
   {
    "duration": 25,
    "start_time": "2023-09-29T16:40:13.495Z"
   },
   {
    "duration": 35,
    "start_time": "2023-09-29T16:40:13.522Z"
   },
   {
    "duration": 421,
    "start_time": "2023-09-29T16:40:13.559Z"
   },
   {
    "duration": 386,
    "start_time": "2023-09-29T16:40:13.981Z"
   },
   {
    "duration": 85,
    "start_time": "2023-09-29T16:40:39.472Z"
   },
   {
    "duration": 81,
    "start_time": "2023-09-29T16:40:57.770Z"
   },
   {
    "duration": 124,
    "start_time": "2023-09-29T16:41:12.304Z"
   },
   {
    "duration": 3,
    "start_time": "2023-09-29T16:42:07.376Z"
   },
   {
    "duration": 104,
    "start_time": "2023-09-29T16:42:07.381Z"
   },
   {
    "duration": 4,
    "start_time": "2023-09-29T16:42:07.486Z"
   },
   {
    "duration": 60,
    "start_time": "2023-09-29T16:42:07.492Z"
   },
   {
    "duration": 36,
    "start_time": "2023-09-29T16:42:07.555Z"
   },
   {
    "duration": 91,
    "start_time": "2023-09-29T16:42:07.593Z"
   },
   {
    "duration": 10,
    "start_time": "2023-09-29T16:42:07.686Z"
   },
   {
    "duration": 68,
    "start_time": "2023-09-29T16:42:07.697Z"
   },
   {
    "duration": 15,
    "start_time": "2023-09-29T16:42:07.768Z"
   },
   {
    "duration": 47,
    "start_time": "2023-09-29T16:42:07.785Z"
   },
   {
    "duration": 18,
    "start_time": "2023-09-29T16:42:07.833Z"
   },
   {
    "duration": 29,
    "start_time": "2023-09-29T16:42:07.854Z"
   },
   {
    "duration": 17,
    "start_time": "2023-09-29T16:42:07.885Z"
   },
   {
    "duration": 25,
    "start_time": "2023-09-29T16:42:07.903Z"
   },
   {
    "duration": 173,
    "start_time": "2023-09-29T16:42:07.929Z"
   },
   {
    "duration": 137,
    "start_time": "2023-09-29T16:42:08.104Z"
   },
   {
    "duration": 277,
    "start_time": "2023-09-29T16:42:08.243Z"
   },
   {
    "duration": 1285,
    "start_time": "2023-09-29T16:42:08.522Z"
   },
   {
    "duration": 319,
    "start_time": "2023-09-29T16:42:09.809Z"
   },
   {
    "duration": 32,
    "start_time": "2023-09-29T16:42:10.129Z"
   },
   {
    "duration": 55,
    "start_time": "2023-09-29T16:42:10.163Z"
   },
   {
    "duration": 417,
    "start_time": "2023-09-29T16:42:10.220Z"
   },
   {
    "duration": 349,
    "start_time": "2023-09-29T16:42:10.638Z"
   },
   {
    "duration": 34,
    "start_time": "2023-09-29T16:42:24.143Z"
   },
   {
    "duration": 41,
    "start_time": "2023-09-29T16:43:26.861Z"
   },
   {
    "duration": 79,
    "start_time": "2023-09-29T16:43:44.594Z"
   },
   {
    "duration": 81,
    "start_time": "2023-09-29T16:43:51.894Z"
   },
   {
    "duration": 38,
    "start_time": "2023-09-29T16:44:05.162Z"
   },
   {
    "duration": 44,
    "start_time": "2023-09-29T16:45:23.920Z"
   },
   {
    "duration": 23,
    "start_time": "2023-09-29T16:45:36.867Z"
   },
   {
    "duration": 26,
    "start_time": "2023-09-29T16:46:23.173Z"
   },
   {
    "duration": 27,
    "start_time": "2023-09-29T16:46:30.010Z"
   },
   {
    "duration": 4,
    "start_time": "2023-09-29T17:03:42.345Z"
   },
   {
    "duration": 25,
    "start_time": "2023-09-29T17:05:50.653Z"
   },
   {
    "duration": 15108,
    "start_time": "2023-09-29T17:08:00.641Z"
   },
   {
    "duration": 5,
    "start_time": "2023-09-29T17:09:26.994Z"
   },
   {
    "duration": 15243,
    "start_time": "2023-09-29T17:10:38.135Z"
   },
   {
    "duration": 44,
    "start_time": "2023-09-29T17:12:04.240Z"
   },
   {
    "duration": 24,
    "start_time": "2023-09-29T17:12:50.107Z"
   },
   {
    "duration": 4,
    "start_time": "2023-09-29T17:13:12.743Z"
   },
   {
    "duration": 27,
    "start_time": "2023-09-29T17:13:23.243Z"
   },
   {
    "duration": 1380,
    "start_time": "2023-09-29T17:13:50.126Z"
   },
   {
    "duration": 26,
    "start_time": "2023-09-29T17:14:03.726Z"
   },
   {
    "duration": 28,
    "start_time": "2023-09-29T17:18:11.408Z"
   },
   {
    "duration": 19,
    "start_time": "2023-09-29T17:18:28.319Z"
   },
   {
    "duration": 9811,
    "start_time": "2023-09-29T17:18:33.586Z"
   },
   {
    "duration": 4,
    "start_time": "2023-09-29T17:21:44.770Z"
   },
   {
    "duration": 77,
    "start_time": "2023-09-29T17:21:44.775Z"
   },
   {
    "duration": 3,
    "start_time": "2023-09-29T17:21:44.854Z"
   },
   {
    "duration": 35,
    "start_time": "2023-09-29T17:21:44.859Z"
   },
   {
    "duration": 5,
    "start_time": "2023-09-29T17:21:44.895Z"
   },
   {
    "duration": 58,
    "start_time": "2023-09-29T17:21:44.901Z"
   },
   {
    "duration": 8,
    "start_time": "2023-09-29T17:21:44.961Z"
   },
   {
    "duration": 36,
    "start_time": "2023-09-29T17:21:44.970Z"
   },
   {
    "duration": 37,
    "start_time": "2023-09-29T17:21:45.008Z"
   },
   {
    "duration": 61,
    "start_time": "2023-09-29T17:21:45.047Z"
   },
   {
    "duration": 3,
    "start_time": "2023-09-29T17:21:45.110Z"
   },
   {
    "duration": 28,
    "start_time": "2023-09-29T17:21:45.115Z"
   },
   {
    "duration": 41,
    "start_time": "2023-09-29T17:21:45.145Z"
   },
   {
    "duration": 17,
    "start_time": "2023-09-29T17:21:45.188Z"
   },
   {
    "duration": 146,
    "start_time": "2023-09-29T17:21:45.207Z"
   },
   {
    "duration": 138,
    "start_time": "2023-09-29T17:21:45.355Z"
   },
   {
    "duration": 257,
    "start_time": "2023-09-29T17:21:45.495Z"
   },
   {
    "duration": 1300,
    "start_time": "2023-09-29T17:21:45.754Z"
   },
   {
    "duration": 314,
    "start_time": "2023-09-29T17:21:47.056Z"
   },
   {
    "duration": 24,
    "start_time": "2023-09-29T17:21:47.372Z"
   },
   {
    "duration": 23,
    "start_time": "2023-09-29T17:21:47.398Z"
   },
   {
    "duration": 292,
    "start_time": "2023-09-29T17:21:47.423Z"
   },
   {
    "duration": 279,
    "start_time": "2023-09-29T17:21:47.717Z"
   },
   {
    "duration": 30,
    "start_time": "2023-09-29T17:21:47.998Z"
   },
   {
    "duration": 24,
    "start_time": "2023-09-29T17:21:48.029Z"
   },
   {
    "duration": 19,
    "start_time": "2023-09-29T17:21:50.832Z"
   },
   {
    "duration": 10176,
    "start_time": "2023-09-29T17:21:51.796Z"
   },
   {
    "duration": 10,
    "start_time": "2023-09-29T17:50:49.557Z"
   },
   {
    "duration": 3,
    "start_time": "2023-09-29T17:51:34.461Z"
   },
   {
    "duration": 70,
    "start_time": "2023-09-29T17:51:34.466Z"
   },
   {
    "duration": 4,
    "start_time": "2023-09-29T17:51:34.537Z"
   },
   {
    "duration": 33,
    "start_time": "2023-09-29T17:51:34.542Z"
   },
   {
    "duration": 5,
    "start_time": "2023-09-29T17:51:34.577Z"
   },
   {
    "duration": 35,
    "start_time": "2023-09-29T17:51:34.584Z"
   },
   {
    "duration": 28,
    "start_time": "2023-09-29T17:51:34.621Z"
   },
   {
    "duration": 29,
    "start_time": "2023-09-29T17:51:34.650Z"
   },
   {
    "duration": 12,
    "start_time": "2023-09-29T17:51:34.680Z"
   },
   {
    "duration": 8,
    "start_time": "2023-09-29T17:51:34.694Z"
   },
   {
    "duration": 3,
    "start_time": "2023-09-29T17:51:34.704Z"
   },
   {
    "duration": 44,
    "start_time": "2023-09-29T17:51:34.708Z"
   },
   {
    "duration": 7,
    "start_time": "2023-09-29T17:51:34.753Z"
   },
   {
    "duration": 12,
    "start_time": "2023-09-29T17:51:34.762Z"
   },
   {
    "duration": 181,
    "start_time": "2023-09-29T17:51:34.776Z"
   },
   {
    "duration": 282,
    "start_time": "2023-09-29T17:51:34.958Z"
   },
   {
    "duration": 266,
    "start_time": "2023-09-29T17:51:35.244Z"
   },
   {
    "duration": 1317,
    "start_time": "2023-09-29T17:51:35.512Z"
   },
   {
    "duration": 348,
    "start_time": "2023-09-29T17:51:36.831Z"
   },
   {
    "duration": 24,
    "start_time": "2023-09-29T17:51:37.180Z"
   },
   {
    "duration": 40,
    "start_time": "2023-09-29T17:51:37.206Z"
   },
   {
    "duration": 287,
    "start_time": "2023-09-29T17:51:37.249Z"
   },
   {
    "duration": 281,
    "start_time": "2023-09-29T17:51:37.538Z"
   },
   {
    "duration": 40,
    "start_time": "2023-09-29T17:51:37.821Z"
   },
   {
    "duration": 162,
    "start_time": "2023-09-29T17:51:37.863Z"
   },
   {
    "duration": 10255,
    "start_time": "2023-09-29T17:51:38.027Z"
   },
   {
    "duration": 5,
    "start_time": "2023-09-29T17:51:53.170Z"
   },
   {
    "duration": 6,
    "start_time": "2023-09-29T17:55:50.896Z"
   },
   {
    "duration": 1449,
    "start_time": "2023-09-30T09:46:20.208Z"
   },
   {
    "duration": 221,
    "start_time": "2023-09-30T09:46:21.659Z"
   },
   {
    "duration": 4,
    "start_time": "2023-09-30T09:46:21.881Z"
   },
   {
    "duration": 44,
    "start_time": "2023-09-30T09:46:21.887Z"
   },
   {
    "duration": 8,
    "start_time": "2023-09-30T09:46:21.932Z"
   },
   {
    "duration": 69,
    "start_time": "2023-09-30T09:46:21.941Z"
   },
   {
    "duration": 9,
    "start_time": "2023-09-30T09:46:22.012Z"
   },
   {
    "duration": 60,
    "start_time": "2023-09-30T09:46:22.024Z"
   },
   {
    "duration": 13,
    "start_time": "2023-09-30T09:46:22.086Z"
   },
   {
    "duration": 42,
    "start_time": "2023-09-30T09:46:22.111Z"
   },
   {
    "duration": 6,
    "start_time": "2023-09-30T09:46:22.155Z"
   },
   {
    "duration": 29,
    "start_time": "2023-09-30T09:46:22.162Z"
   },
   {
    "duration": 7,
    "start_time": "2023-09-30T09:46:22.193Z"
   },
   {
    "duration": 21,
    "start_time": "2023-09-30T09:46:22.201Z"
   },
   {
    "duration": 243,
    "start_time": "2023-09-30T09:46:22.223Z"
   },
   {
    "duration": 209,
    "start_time": "2023-09-30T09:46:22.469Z"
   },
   {
    "duration": 350,
    "start_time": "2023-09-30T09:46:22.681Z"
   },
   {
    "duration": 1563,
    "start_time": "2023-09-30T09:46:23.033Z"
   },
   {
    "duration": 377,
    "start_time": "2023-09-30T09:46:24.598Z"
   },
   {
    "duration": 37,
    "start_time": "2023-09-30T09:46:24.978Z"
   },
   {
    "duration": 28,
    "start_time": "2023-09-30T09:46:25.017Z"
   },
   {
    "duration": 504,
    "start_time": "2023-09-30T09:46:25.047Z"
   },
   {
    "duration": 312,
    "start_time": "2023-09-30T09:46:25.553Z"
   },
   {
    "duration": 43,
    "start_time": "2023-09-30T09:46:25.867Z"
   },
   {
    "duration": 22,
    "start_time": "2023-09-30T09:46:25.912Z"
   },
   {
    "duration": 10998,
    "start_time": "2023-09-30T09:46:25.936Z"
   },
   {
    "duration": 7,
    "start_time": "2023-09-30T09:46:36.935Z"
   },
   {
    "duration": 247,
    "start_time": "2023-09-30T09:46:51.117Z"
   },
   {
    "duration": 6,
    "start_time": "2023-09-30T09:48:24.473Z"
   },
   {
    "duration": 6,
    "start_time": "2023-09-30T10:11:18.143Z"
   },
   {
    "duration": 11,
    "start_time": "2023-09-30T10:21:23.377Z"
   },
   {
    "duration": 14,
    "start_time": "2023-09-30T10:21:48.389Z"
   },
   {
    "duration": 20,
    "start_time": "2023-09-30T10:22:02.706Z"
   },
   {
    "duration": 28,
    "start_time": "2023-09-30T10:22:30.708Z"
   },
   {
    "duration": 15,
    "start_time": "2023-09-30T10:22:48.271Z"
   },
   {
    "duration": 17,
    "start_time": "2023-09-30T10:23:20.384Z"
   },
   {
    "duration": 12,
    "start_time": "2023-09-30T10:23:29.651Z"
   },
   {
    "duration": 17,
    "start_time": "2023-09-30T10:23:37.204Z"
   },
   {
    "duration": 15,
    "start_time": "2023-09-30T10:24:43.796Z"
   },
   {
    "duration": 18,
    "start_time": "2023-09-30T10:25:33.211Z"
   },
   {
    "duration": 9,
    "start_time": "2023-09-30T10:33:16.668Z"
   },
   {
    "duration": 5,
    "start_time": "2023-09-30T10:33:54.947Z"
   },
   {
    "duration": 5,
    "start_time": "2023-09-30T10:37:36.557Z"
   },
   {
    "duration": 10,
    "start_time": "2023-09-30T10:39:20.079Z"
   },
   {
    "duration": 7,
    "start_time": "2023-09-30T10:39:31.294Z"
   },
   {
    "duration": 6,
    "start_time": "2023-09-30T10:40:45.722Z"
   },
   {
    "duration": 6,
    "start_time": "2023-09-30T10:40:50.842Z"
   },
   {
    "duration": 1346,
    "start_time": "2023-09-30T12:42:21.900Z"
   },
   {
    "duration": 73,
    "start_time": "2023-09-30T12:42:23.248Z"
   },
   {
    "duration": 4,
    "start_time": "2023-09-30T12:42:23.323Z"
   },
   {
    "duration": 79,
    "start_time": "2023-09-30T12:42:23.328Z"
   },
   {
    "duration": 6,
    "start_time": "2023-09-30T12:42:23.410Z"
   },
   {
    "duration": 50,
    "start_time": "2023-09-30T12:42:23.418Z"
   },
   {
    "duration": 8,
    "start_time": "2023-09-30T12:42:23.470Z"
   },
   {
    "duration": 60,
    "start_time": "2023-09-30T12:42:23.480Z"
   },
   {
    "duration": 15,
    "start_time": "2023-09-30T12:42:23.541Z"
   },
   {
    "duration": 32,
    "start_time": "2023-09-30T12:42:23.558Z"
   },
   {
    "duration": 9,
    "start_time": "2023-09-30T12:42:23.592Z"
   },
   {
    "duration": 30,
    "start_time": "2023-09-30T12:42:23.602Z"
   },
   {
    "duration": 9,
    "start_time": "2023-09-30T12:42:23.635Z"
   },
   {
    "duration": 39,
    "start_time": "2023-09-30T12:42:23.647Z"
   },
   {
    "duration": 195,
    "start_time": "2023-09-30T12:42:23.688Z"
   },
   {
    "duration": 165,
    "start_time": "2023-09-30T12:42:23.884Z"
   },
   {
    "duration": 325,
    "start_time": "2023-09-30T12:42:24.051Z"
   },
   {
    "duration": 1599,
    "start_time": "2023-09-30T12:42:24.378Z"
   },
   {
    "duration": 375,
    "start_time": "2023-09-30T12:42:25.979Z"
   },
   {
    "duration": 30,
    "start_time": "2023-09-30T12:42:26.356Z"
   },
   {
    "duration": 44,
    "start_time": "2023-09-30T12:42:26.388Z"
   },
   {
    "duration": 505,
    "start_time": "2023-09-30T12:42:26.434Z"
   },
   {
    "duration": 323,
    "start_time": "2023-09-30T12:42:26.941Z"
   },
   {
    "duration": 32,
    "start_time": "2023-09-30T12:42:27.266Z"
   },
   {
    "duration": 20,
    "start_time": "2023-09-30T12:42:27.308Z"
   },
   {
    "duration": 11435,
    "start_time": "2023-09-30T12:42:27.330Z"
   },
   {
    "duration": 5,
    "start_time": "2023-09-30T12:42:38.767Z"
   },
   {
    "duration": 15,
    "start_time": "2023-09-30T12:42:38.774Z"
   },
   {
    "duration": 27,
    "start_time": "2023-09-30T12:42:38.791Z"
   },
   {
    "duration": 12,
    "start_time": "2023-09-30T12:42:38.820Z"
   },
   {
    "duration": 26,
    "start_time": "2023-09-30T12:42:38.833Z"
   },
   {
    "duration": 1250,
    "start_time": "2023-09-30T14:58:46.442Z"
   },
   {
    "duration": 68,
    "start_time": "2023-09-30T14:58:47.694Z"
   },
   {
    "duration": 4,
    "start_time": "2023-09-30T14:58:47.763Z"
   },
   {
    "duration": 50,
    "start_time": "2023-09-30T14:58:47.770Z"
   },
   {
    "duration": 7,
    "start_time": "2023-09-30T14:58:47.822Z"
   },
   {
    "duration": 68,
    "start_time": "2023-09-30T14:58:47.831Z"
   },
   {
    "duration": 9,
    "start_time": "2023-09-30T14:58:47.901Z"
   },
   {
    "duration": 42,
    "start_time": "2023-09-30T14:58:47.912Z"
   },
   {
    "duration": 14,
    "start_time": "2023-09-30T14:58:47.956Z"
   },
   {
    "duration": 11,
    "start_time": "2023-09-30T14:58:47.973Z"
   },
   {
    "duration": 40,
    "start_time": "2023-09-30T14:58:47.986Z"
   },
   {
    "duration": 17,
    "start_time": "2023-09-30T14:58:48.028Z"
   },
   {
    "duration": 8,
    "start_time": "2023-09-30T14:58:48.046Z"
   },
   {
    "duration": 17,
    "start_time": "2023-09-30T14:58:48.055Z"
   },
   {
    "duration": 227,
    "start_time": "2023-09-30T14:58:48.074Z"
   },
   {
    "duration": 197,
    "start_time": "2023-09-30T14:58:48.303Z"
   },
   {
    "duration": 387,
    "start_time": "2023-09-30T14:58:48.502Z"
   },
   {
    "duration": 1627,
    "start_time": "2023-09-30T14:58:48.891Z"
   },
   {
    "duration": 394,
    "start_time": "2023-09-30T14:58:50.520Z"
   },
   {
    "duration": 43,
    "start_time": "2023-09-30T14:58:50.916Z"
   },
   {
    "duration": 34,
    "start_time": "2023-09-30T14:58:50.961Z"
   },
   {
    "duration": 514,
    "start_time": "2023-09-30T14:58:50.997Z"
   },
   {
    "duration": 393,
    "start_time": "2023-09-30T14:58:51.513Z"
   },
   {
    "duration": 38,
    "start_time": "2023-09-30T14:58:51.910Z"
   },
   {
    "duration": 25,
    "start_time": "2023-09-30T14:58:51.950Z"
   },
   {
    "duration": 11765,
    "start_time": "2023-09-30T14:58:51.977Z"
   },
   {
    "duration": 7,
    "start_time": "2023-09-30T14:59:03.743Z"
   },
   {
    "duration": 10,
    "start_time": "2023-09-30T14:59:03.753Z"
   },
   {
    "duration": 31,
    "start_time": "2023-09-30T14:59:03.764Z"
   },
   {
    "duration": 19,
    "start_time": "2023-09-30T14:59:03.796Z"
   },
   {
    "duration": 9,
    "start_time": "2023-09-30T14:59:03.816Z"
   },
   {
    "duration": 7,
    "start_time": "2023-09-30T15:37:12.704Z"
   },
   {
    "duration": 18,
    "start_time": "2023-09-30T15:42:17.039Z"
   },
   {
    "duration": 1218,
    "start_time": "2023-09-30T15:52:15.199Z"
   },
   {
    "duration": 68,
    "start_time": "2023-09-30T15:52:16.419Z"
   },
   {
    "duration": 3,
    "start_time": "2023-09-30T15:52:16.489Z"
   },
   {
    "duration": 74,
    "start_time": "2023-09-30T15:52:16.494Z"
   },
   {
    "duration": 7,
    "start_time": "2023-09-30T15:52:16.570Z"
   },
   {
    "duration": 66,
    "start_time": "2023-09-30T15:52:16.579Z"
   },
   {
    "duration": 7,
    "start_time": "2023-09-30T15:52:16.647Z"
   },
   {
    "duration": 48,
    "start_time": "2023-09-30T15:52:16.656Z"
   },
   {
    "duration": 29,
    "start_time": "2023-09-30T15:52:16.706Z"
   },
   {
    "duration": 18,
    "start_time": "2023-09-30T15:52:16.738Z"
   },
   {
    "duration": 26,
    "start_time": "2023-09-30T15:52:16.757Z"
   },
   {
    "duration": 32,
    "start_time": "2023-09-30T15:52:16.785Z"
   },
   {
    "duration": 23,
    "start_time": "2023-09-30T15:52:16.819Z"
   },
   {
    "duration": 19,
    "start_time": "2023-09-30T15:52:16.844Z"
   },
   {
    "duration": 203,
    "start_time": "2023-09-30T15:52:16.865Z"
   },
   {
    "duration": 147,
    "start_time": "2023-09-30T15:52:17.070Z"
   },
   {
    "duration": 302,
    "start_time": "2023-09-30T15:52:17.218Z"
   },
   {
    "duration": 1414,
    "start_time": "2023-09-30T15:52:17.524Z"
   },
   {
    "duration": 390,
    "start_time": "2023-09-30T15:52:18.940Z"
   },
   {
    "duration": 26,
    "start_time": "2023-09-30T15:52:19.332Z"
   },
   {
    "duration": 26,
    "start_time": "2023-09-30T15:52:19.360Z"
   },
   {
    "duration": 468,
    "start_time": "2023-09-30T15:52:19.389Z"
   },
   {
    "duration": 316,
    "start_time": "2023-09-30T15:52:19.860Z"
   },
   {
    "duration": 29,
    "start_time": "2023-09-30T15:52:20.179Z"
   },
   {
    "duration": 41,
    "start_time": "2023-09-30T15:52:20.210Z"
   },
   {
    "duration": 10416,
    "start_time": "2023-09-30T15:52:20.253Z"
   },
   {
    "duration": 6,
    "start_time": "2023-09-30T15:52:30.671Z"
   },
   {
    "duration": 139,
    "start_time": "2023-09-30T15:52:30.680Z"
   },
   {
    "duration": 121,
    "start_time": "2023-09-30T15:52:30.821Z"
   },
   {
    "duration": 81,
    "start_time": "2023-09-30T15:52:30.943Z"
   },
   {
    "duration": 132,
    "start_time": "2023-09-30T15:52:31.026Z"
   },
   {
    "duration": 1225,
    "start_time": "2023-09-30T20:36:14.913Z"
   },
   {
    "duration": 306,
    "start_time": "2023-09-30T20:36:16.140Z"
   },
   {
    "duration": 3,
    "start_time": "2023-09-30T20:36:16.448Z"
   },
   {
    "duration": 36,
    "start_time": "2023-09-30T20:36:16.453Z"
   },
   {
    "duration": 5,
    "start_time": "2023-09-30T20:36:16.491Z"
   },
   {
    "duration": 56,
    "start_time": "2023-09-30T20:36:16.498Z"
   },
   {
    "duration": 7,
    "start_time": "2023-09-30T20:36:16.555Z"
   },
   {
    "duration": 31,
    "start_time": "2023-09-30T20:36:16.564Z"
   },
   {
    "duration": 14,
    "start_time": "2023-09-30T20:36:16.597Z"
   },
   {
    "duration": 11,
    "start_time": "2023-09-30T20:36:16.645Z"
   },
   {
    "duration": 3,
    "start_time": "2023-09-30T20:36:16.658Z"
   },
   {
    "duration": 49,
    "start_time": "2023-09-30T20:36:16.663Z"
   },
   {
    "duration": 7,
    "start_time": "2023-09-30T20:36:16.714Z"
   },
   {
    "duration": 24,
    "start_time": "2023-09-30T20:36:16.723Z"
   },
   {
    "duration": 156,
    "start_time": "2023-09-30T20:36:21.401Z"
   },
   {
    "duration": 145,
    "start_time": "2023-09-30T20:37:27.491Z"
   },
   {
    "duration": 156,
    "start_time": "2023-09-30T20:37:46.970Z"
   },
   {
    "duration": 149,
    "start_time": "2023-09-30T20:38:27.917Z"
   },
   {
    "duration": 134,
    "start_time": "2023-09-30T20:40:58.984Z"
   },
   {
    "duration": 153,
    "start_time": "2023-09-30T20:41:49.977Z"
   },
   {
    "duration": 90,
    "start_time": "2023-09-30T20:43:20.597Z"
   },
   {
    "duration": 219,
    "start_time": "2023-09-30T20:44:12.163Z"
   },
   {
    "duration": 146,
    "start_time": "2023-09-30T20:44:44.765Z"
   },
   {
    "duration": 1694,
    "start_time": "2023-09-30T20:52:23.826Z"
   },
   {
    "duration": 9105,
    "start_time": "2023-09-30T20:53:32.786Z"
   },
   {
    "duration": 1004,
    "start_time": "2023-09-30T20:53:49.427Z"
   },
   {
    "duration": 301,
    "start_time": "2023-09-30T20:54:06.795Z"
   },
   {
    "duration": 2232,
    "start_time": "2023-09-30T20:54:12.144Z"
   },
   {
    "duration": 1518,
    "start_time": "2023-09-30T20:55:27.896Z"
   },
   {
    "duration": 16,
    "start_time": "2023-09-30T20:58:22.363Z"
   },
   {
    "duration": 21,
    "start_time": "2023-09-30T20:58:52.982Z"
   },
   {
    "duration": 16,
    "start_time": "2023-09-30T21:00:36.766Z"
   },
   {
    "duration": 12,
    "start_time": "2023-09-30T21:05:07.059Z"
   },
   {
    "duration": 11,
    "start_time": "2023-09-30T21:05:21.807Z"
   },
   {
    "duration": 4,
    "start_time": "2023-09-30T21:07:07.440Z"
   },
   {
    "duration": 74,
    "start_time": "2023-09-30T21:07:07.446Z"
   },
   {
    "duration": 3,
    "start_time": "2023-09-30T21:07:07.521Z"
   },
   {
    "duration": 38,
    "start_time": "2023-09-30T21:07:07.526Z"
   },
   {
    "duration": 5,
    "start_time": "2023-09-30T21:07:07.566Z"
   },
   {
    "duration": 41,
    "start_time": "2023-09-30T21:07:07.572Z"
   },
   {
    "duration": 31,
    "start_time": "2023-09-30T21:07:07.615Z"
   },
   {
    "duration": 34,
    "start_time": "2023-09-30T21:07:07.647Z"
   },
   {
    "duration": 12,
    "start_time": "2023-09-30T21:07:07.683Z"
   },
   {
    "duration": 9,
    "start_time": "2023-09-30T21:07:07.697Z"
   },
   {
    "duration": 3,
    "start_time": "2023-09-30T21:07:07.707Z"
   },
   {
    "duration": 41,
    "start_time": "2023-09-30T21:07:07.712Z"
   },
   {
    "duration": 7,
    "start_time": "2023-09-30T21:07:07.754Z"
   },
   {
    "duration": 17,
    "start_time": "2023-09-30T21:07:07.762Z"
   },
   {
    "duration": 179,
    "start_time": "2023-09-30T21:07:07.780Z"
   },
   {
    "duration": 94,
    "start_time": "2023-09-30T21:07:07.961Z"
   },
   {
    "duration": 260,
    "start_time": "2023-09-30T21:07:08.057Z"
   },
   {
    "duration": 1293,
    "start_time": "2023-09-30T21:07:08.319Z"
   },
   {
    "duration": 309,
    "start_time": "2023-09-30T21:07:09.614Z"
   },
   {
    "duration": 24,
    "start_time": "2023-09-30T21:07:09.925Z"
   },
   {
    "duration": 24,
    "start_time": "2023-09-30T21:07:09.950Z"
   },
   {
    "duration": 26,
    "start_time": "2023-09-30T21:07:09.975Z"
   },
   {
    "duration": 437,
    "start_time": "2023-09-30T21:07:10.003Z"
   },
   {
    "duration": 278,
    "start_time": "2023-09-30T21:07:10.443Z"
   },
   {
    "duration": 27,
    "start_time": "2023-09-30T21:07:13.828Z"
   },
   {
    "duration": 10,
    "start_time": "2023-09-30T21:14:07.277Z"
   },
   {
    "duration": 30,
    "start_time": "2023-09-30T21:19:09.238Z"
   },
   {
    "duration": 32,
    "start_time": "2023-09-30T21:19:24.804Z"
   },
   {
    "duration": 29,
    "start_time": "2023-09-30T21:21:31.357Z"
   },
   {
    "duration": 38,
    "start_time": "2023-09-30T21:23:15.920Z"
   },
   {
    "duration": 11,
    "start_time": "2023-09-30T21:29:33.001Z"
   },
   {
    "duration": 9,
    "start_time": "2023-09-30T21:31:42.285Z"
   },
   {
    "duration": 37,
    "start_time": "2023-09-30T21:32:02.903Z"
   },
   {
    "duration": 9,
    "start_time": "2023-09-30T21:32:15.282Z"
   },
   {
    "duration": 348,
    "start_time": "2023-09-30T21:35:09.719Z"
   },
   {
    "duration": 3,
    "start_time": "2023-09-30T21:35:39.875Z"
   },
   {
    "duration": 68,
    "start_time": "2023-09-30T21:35:39.880Z"
   },
   {
    "duration": 4,
    "start_time": "2023-09-30T21:35:39.949Z"
   },
   {
    "duration": 33,
    "start_time": "2023-09-30T21:35:39.954Z"
   },
   {
    "duration": 6,
    "start_time": "2023-09-30T21:35:39.989Z"
   },
   {
    "duration": 62,
    "start_time": "2023-09-30T21:35:39.996Z"
   },
   {
    "duration": 7,
    "start_time": "2023-09-30T21:35:40.060Z"
   },
   {
    "duration": 32,
    "start_time": "2023-09-30T21:35:40.069Z"
   },
   {
    "duration": 13,
    "start_time": "2023-09-30T21:35:40.103Z"
   },
   {
    "duration": 9,
    "start_time": "2023-09-30T21:35:40.145Z"
   },
   {
    "duration": 24,
    "start_time": "2023-09-30T21:35:40.155Z"
   },
   {
    "duration": 21,
    "start_time": "2023-09-30T21:35:40.180Z"
   },
   {
    "duration": 6,
    "start_time": "2023-09-30T21:35:40.203Z"
   },
   {
    "duration": 14,
    "start_time": "2023-09-30T21:35:40.211Z"
   },
   {
    "duration": 167,
    "start_time": "2023-09-30T21:35:40.226Z"
   },
   {
    "duration": 98,
    "start_time": "2023-09-30T21:35:40.394Z"
   },
   {
    "duration": 261,
    "start_time": "2023-09-30T21:35:40.494Z"
   },
   {
    "duration": 1275,
    "start_time": "2023-09-30T21:35:40.757Z"
   },
   {
    "duration": 311,
    "start_time": "2023-09-30T21:35:42.033Z"
   },
   {
    "duration": 14,
    "start_time": "2023-09-30T21:35:42.345Z"
   },
   {
    "duration": 34,
    "start_time": "2023-09-30T21:35:42.360Z"
   },
   {
    "duration": 24,
    "start_time": "2023-09-30T21:35:42.396Z"
   },
   {
    "duration": 430,
    "start_time": "2023-09-30T21:35:42.421Z"
   },
   {
    "duration": 276,
    "start_time": "2023-09-30T21:35:42.853Z"
   },
   {
    "duration": 38,
    "start_time": "2023-09-30T21:35:43.130Z"
   },
   {
    "duration": 16,
    "start_time": "2023-09-30T21:35:43.170Z"
   },
   {
    "duration": 416,
    "start_time": "2023-09-30T21:35:49.171Z"
   },
   {
    "duration": 335,
    "start_time": "2023-09-30T21:36:41.383Z"
   },
   {
    "duration": 3,
    "start_time": "2023-09-30T21:38:03.533Z"
   },
   {
    "duration": 334,
    "start_time": "2023-09-30T21:38:23.566Z"
   },
   {
    "duration": 18,
    "start_time": "2023-09-30T21:40:44.780Z"
   },
   {
    "duration": 343,
    "start_time": "2023-09-30T21:41:11.546Z"
   },
   {
    "duration": 21,
    "start_time": "2023-09-30T21:42:00.166Z"
   },
   {
    "duration": 4,
    "start_time": "2023-09-30T21:45:10.601Z"
   },
   {
    "duration": 367,
    "start_time": "2023-09-30T21:45:17.748Z"
   },
   {
    "duration": 19,
    "start_time": "2023-09-30T21:45:58.262Z"
   },
   {
    "duration": 20,
    "start_time": "2023-09-30T21:46:20.545Z"
   },
   {
    "duration": 333,
    "start_time": "2023-09-30T21:46:41.648Z"
   },
   {
    "duration": 19,
    "start_time": "2023-09-30T21:47:04.030Z"
   },
   {
    "duration": 20,
    "start_time": "2023-09-30T21:48:05.657Z"
   },
   {
    "duration": 20,
    "start_time": "2023-09-30T21:49:16.347Z"
   },
   {
    "duration": 20,
    "start_time": "2023-09-30T21:49:36.394Z"
   },
   {
    "duration": 36,
    "start_time": "2023-09-30T21:50:15.480Z"
   },
   {
    "duration": 43,
    "start_time": "2023-09-30T21:51:04.146Z"
   },
   {
    "duration": 38,
    "start_time": "2023-09-30T21:51:11.727Z"
   },
   {
    "duration": 45,
    "start_time": "2023-09-30T21:51:39.059Z"
   },
   {
    "duration": 35,
    "start_time": "2023-09-30T21:52:32.843Z"
   },
   {
    "duration": 3,
    "start_time": "2023-09-30T21:54:18.012Z"
   },
   {
    "duration": 27,
    "start_time": "2023-09-30T22:00:18.227Z"
   },
   {
    "duration": 20,
    "start_time": "2023-09-30T22:01:07.424Z"
   },
   {
    "duration": 36,
    "start_time": "2023-09-30T22:03:00.840Z"
   },
   {
    "duration": 36,
    "start_time": "2023-09-30T22:03:12.923Z"
   },
   {
    "duration": 3,
    "start_time": "2023-09-30T22:03:46.695Z"
   },
   {
    "duration": 72,
    "start_time": "2023-09-30T22:03:46.700Z"
   },
   {
    "duration": 3,
    "start_time": "2023-09-30T22:03:46.774Z"
   },
   {
    "duration": 31,
    "start_time": "2023-09-30T22:03:46.779Z"
   },
   {
    "duration": 4,
    "start_time": "2023-09-30T22:03:46.812Z"
   },
   {
    "duration": 47,
    "start_time": "2023-09-30T22:03:46.817Z"
   },
   {
    "duration": 7,
    "start_time": "2023-09-30T22:03:46.866Z"
   },
   {
    "duration": 33,
    "start_time": "2023-09-30T22:03:46.874Z"
   },
   {
    "duration": 35,
    "start_time": "2023-09-30T22:03:46.909Z"
   },
   {
    "duration": 9,
    "start_time": "2023-09-30T22:03:46.945Z"
   },
   {
    "duration": 4,
    "start_time": "2023-09-30T22:03:46.955Z"
   },
   {
    "duration": 14,
    "start_time": "2023-09-30T22:03:46.960Z"
   },
   {
    "duration": 6,
    "start_time": "2023-09-30T22:03:46.976Z"
   },
   {
    "duration": 15,
    "start_time": "2023-09-30T22:03:46.983Z"
   },
   {
    "duration": 189,
    "start_time": "2023-09-30T22:03:46.999Z"
   },
   {
    "duration": 91,
    "start_time": "2023-09-30T22:03:47.189Z"
   },
   {
    "duration": 265,
    "start_time": "2023-09-30T22:03:47.281Z"
   },
   {
    "duration": 1268,
    "start_time": "2023-09-30T22:03:47.548Z"
   },
   {
    "duration": 302,
    "start_time": "2023-09-30T22:03:48.817Z"
   },
   {
    "duration": 13,
    "start_time": "2023-09-30T22:03:49.121Z"
   },
   {
    "duration": 30,
    "start_time": "2023-09-30T22:03:49.135Z"
   },
   {
    "duration": 29,
    "start_time": "2023-09-30T22:03:49.167Z"
   },
   {
    "duration": 432,
    "start_time": "2023-09-30T22:03:49.198Z"
   },
   {
    "duration": 291,
    "start_time": "2023-09-30T22:03:49.633Z"
   },
   {
    "duration": 35,
    "start_time": "2023-09-30T22:03:53.043Z"
   },
   {
    "duration": 33,
    "start_time": "2023-09-30T22:04:01.005Z"
   },
   {
    "duration": 31,
    "start_time": "2023-09-30T22:04:11.843Z"
   },
   {
    "duration": 37,
    "start_time": "2023-09-30T22:04:51.889Z"
   },
   {
    "duration": 32,
    "start_time": "2023-09-30T22:07:08.639Z"
   },
   {
    "duration": 113,
    "start_time": "2023-09-30T22:08:31.805Z"
   },
   {
    "duration": 33,
    "start_time": "2023-09-30T22:08:45.657Z"
   },
   {
    "duration": 33,
    "start_time": "2023-09-30T22:10:28.840Z"
   },
   {
    "duration": 32,
    "start_time": "2023-09-30T22:10:46.224Z"
   },
   {
    "duration": 33,
    "start_time": "2023-09-30T22:11:18.204Z"
   },
   {
    "duration": 32,
    "start_time": "2023-09-30T22:12:43.454Z"
   },
   {
    "duration": 34,
    "start_time": "2023-09-30T22:12:56.470Z"
   },
   {
    "duration": 36,
    "start_time": "2023-09-30T22:13:56.839Z"
   },
   {
    "duration": 24,
    "start_time": "2023-09-30T22:14:30.004Z"
   },
   {
    "duration": 10,
    "start_time": "2023-09-30T22:16:00.671Z"
   },
   {
    "duration": 9,
    "start_time": "2023-09-30T22:16:24.304Z"
   },
   {
    "duration": 7,
    "start_time": "2023-09-30T22:20:57.938Z"
   },
   {
    "duration": 7,
    "start_time": "2023-09-30T22:21:12.188Z"
   },
   {
    "duration": 6,
    "start_time": "2023-09-30T22:21:33.480Z"
   },
   {
    "duration": 8,
    "start_time": "2023-09-30T22:21:56.369Z"
   },
   {
    "duration": 7,
    "start_time": "2023-09-30T22:22:35.553Z"
   },
   {
    "duration": 12,
    "start_time": "2023-09-30T22:23:47.087Z"
   },
   {
    "duration": 8,
    "start_time": "2023-09-30T22:26:43.336Z"
   },
   {
    "duration": 9,
    "start_time": "2023-09-30T22:33:44.834Z"
   },
   {
    "duration": 7,
    "start_time": "2023-09-30T22:38:57.613Z"
   },
   {
    "duration": 3,
    "start_time": "2023-09-30T22:43:09.197Z"
   },
   {
    "duration": 78,
    "start_time": "2023-09-30T22:43:09.202Z"
   },
   {
    "duration": 3,
    "start_time": "2023-09-30T22:43:09.282Z"
   },
   {
    "duration": 48,
    "start_time": "2023-09-30T22:43:09.287Z"
   },
   {
    "duration": 9,
    "start_time": "2023-09-30T22:43:09.337Z"
   },
   {
    "duration": 41,
    "start_time": "2023-09-30T22:43:09.347Z"
   },
   {
    "duration": 8,
    "start_time": "2023-09-30T22:43:09.390Z"
   },
   {
    "duration": 80,
    "start_time": "2023-09-30T22:43:09.399Z"
   },
   {
    "duration": 12,
    "start_time": "2023-09-30T22:43:09.481Z"
   },
   {
    "duration": 9,
    "start_time": "2023-09-30T22:43:09.494Z"
   },
   {
    "duration": 3,
    "start_time": "2023-09-30T22:43:09.505Z"
   },
   {
    "duration": 14,
    "start_time": "2023-09-30T22:43:09.509Z"
   },
   {
    "duration": 8,
    "start_time": "2023-09-30T22:43:09.555Z"
   },
   {
    "duration": 13,
    "start_time": "2023-09-30T22:43:09.564Z"
   },
   {
    "duration": 196,
    "start_time": "2023-09-30T22:43:09.578Z"
   },
   {
    "duration": 101,
    "start_time": "2023-09-30T22:43:09.775Z"
   },
   {
    "duration": 276,
    "start_time": "2023-09-30T22:43:09.877Z"
   },
   {
    "duration": 1327,
    "start_time": "2023-09-30T22:43:10.157Z"
   },
   {
    "duration": 332,
    "start_time": "2023-09-30T22:43:11.485Z"
   },
   {
    "duration": 14,
    "start_time": "2023-09-30T22:43:11.820Z"
   },
   {
    "duration": 25,
    "start_time": "2023-09-30T22:43:11.845Z"
   },
   {
    "duration": 26,
    "start_time": "2023-09-30T22:43:11.872Z"
   },
   {
    "duration": 498,
    "start_time": "2023-09-30T22:43:11.900Z"
   },
   {
    "duration": 299,
    "start_time": "2023-09-30T22:43:12.403Z"
   },
   {
    "duration": 45,
    "start_time": "2023-09-30T22:43:12.704Z"
   },
   {
    "duration": 4,
    "start_time": "2023-09-30T22:43:12.751Z"
   },
   {
    "duration": 18,
    "start_time": "2023-09-30T22:43:12.756Z"
   },
   {
    "duration": 3,
    "start_time": "2023-09-30T22:43:12.776Z"
   },
   {
    "duration": 7,
    "start_time": "2023-09-30T22:43:12.780Z"
   },
   {
    "duration": 6,
    "start_time": "2023-09-30T22:43:12.789Z"
   },
   {
    "duration": 1386,
    "start_time": "2023-09-30T22:43:12.796Z"
   },
   {
    "duration": 0,
    "start_time": "2023-09-30T22:43:14.184Z"
   },
   {
    "duration": 1367,
    "start_time": "2023-09-30T22:44:42.280Z"
   },
   {
    "duration": 1663,
    "start_time": "2023-09-30T22:45:28.812Z"
   },
   {
    "duration": 1640,
    "start_time": "2023-09-30T22:47:53.181Z"
   },
   {
    "duration": 9,
    "start_time": "2023-09-30T22:48:56.794Z"
   },
   {
    "duration": 4,
    "start_time": "2023-09-30T22:52:09.762Z"
   },
   {
    "duration": 68,
    "start_time": "2023-09-30T22:52:09.768Z"
   },
   {
    "duration": 4,
    "start_time": "2023-09-30T22:52:09.837Z"
   },
   {
    "duration": 48,
    "start_time": "2023-09-30T22:52:09.842Z"
   },
   {
    "duration": 6,
    "start_time": "2023-09-30T22:52:09.892Z"
   },
   {
    "duration": 61,
    "start_time": "2023-09-30T22:52:09.900Z"
   },
   {
    "duration": 7,
    "start_time": "2023-09-30T22:52:09.962Z"
   },
   {
    "duration": 38,
    "start_time": "2023-09-30T22:52:09.970Z"
   },
   {
    "duration": 14,
    "start_time": "2023-09-30T22:52:10.045Z"
   },
   {
    "duration": 9,
    "start_time": "2023-09-30T22:52:10.060Z"
   },
   {
    "duration": 3,
    "start_time": "2023-09-30T22:52:10.071Z"
   },
   {
    "duration": 13,
    "start_time": "2023-09-30T22:52:10.075Z"
   },
   {
    "duration": 56,
    "start_time": "2023-09-30T22:52:10.089Z"
   },
   {
    "duration": 14,
    "start_time": "2023-09-30T22:52:10.147Z"
   },
   {
    "duration": 194,
    "start_time": "2023-09-30T22:52:10.162Z"
   },
   {
    "duration": 116,
    "start_time": "2023-09-30T22:52:10.358Z"
   },
   {
    "duration": 279,
    "start_time": "2023-09-30T22:52:10.476Z"
   },
   {
    "duration": 1334,
    "start_time": "2023-09-30T22:52:10.757Z"
   },
   {
    "duration": 334,
    "start_time": "2023-09-30T22:52:12.093Z"
   },
   {
    "duration": 24,
    "start_time": "2023-09-30T22:52:12.429Z"
   },
   {
    "duration": 27,
    "start_time": "2023-09-30T22:52:12.455Z"
   },
   {
    "duration": 27,
    "start_time": "2023-09-30T22:52:12.484Z"
   },
   {
    "duration": 553,
    "start_time": "2023-09-30T22:52:12.512Z"
   },
   {
    "duration": 377,
    "start_time": "2023-09-30T22:52:13.067Z"
   },
   {
    "duration": 51,
    "start_time": "2023-09-30T22:52:13.446Z"
   },
   {
    "duration": 3,
    "start_time": "2023-09-30T22:52:13.499Z"
   },
   {
    "duration": 15,
    "start_time": "2023-09-30T22:52:13.504Z"
   },
   {
    "duration": 2,
    "start_time": "2023-09-30T22:52:13.521Z"
   },
   {
    "duration": 8,
    "start_time": "2023-09-30T22:52:13.544Z"
   },
   {
    "duration": 5,
    "start_time": "2023-09-30T22:52:13.553Z"
   },
   {
    "duration": 8,
    "start_time": "2023-09-30T22:52:16.213Z"
   },
   {
    "duration": 4,
    "start_time": "2023-09-30T22:52:17.619Z"
   },
   {
    "duration": 1089,
    "start_time": "2023-09-30T22:52:25.115Z"
   },
   {
    "duration": 9,
    "start_time": "2023-09-30T22:53:08.180Z"
   },
   {
    "duration": 8,
    "start_time": "2023-09-30T22:53:34.976Z"
   },
   {
    "duration": 7,
    "start_time": "2023-09-30T22:53:52.679Z"
   },
   {
    "duration": 15,
    "start_time": "2023-09-30T23:08:11.758Z"
   },
   {
    "duration": 8,
    "start_time": "2023-09-30T23:08:25.609Z"
   },
   {
    "duration": 8,
    "start_time": "2023-09-30T23:08:37.328Z"
   },
   {
    "duration": 7,
    "start_time": "2023-09-30T23:08:45.242Z"
   },
   {
    "duration": 1193,
    "start_time": "2023-09-30T23:10:29.424Z"
   },
   {
    "duration": 67,
    "start_time": "2023-09-30T23:10:30.619Z"
   },
   {
    "duration": 3,
    "start_time": "2023-09-30T23:10:30.690Z"
   },
   {
    "duration": 78,
    "start_time": "2023-09-30T23:10:30.694Z"
   },
   {
    "duration": 34,
    "start_time": "2023-09-30T23:10:30.774Z"
   },
   {
    "duration": 95,
    "start_time": "2023-09-30T23:10:30.810Z"
   },
   {
    "duration": 12,
    "start_time": "2023-09-30T23:10:30.907Z"
   },
   {
    "duration": 50,
    "start_time": "2023-09-30T23:10:30.920Z"
   },
   {
    "duration": 29,
    "start_time": "2023-09-30T23:10:30.972Z"
   },
   {
    "duration": 36,
    "start_time": "2023-09-30T23:10:31.003Z"
   },
   {
    "duration": 11,
    "start_time": "2023-09-30T23:10:31.041Z"
   },
   {
    "duration": 38,
    "start_time": "2023-09-30T23:10:31.054Z"
   },
   {
    "duration": 15,
    "start_time": "2023-09-30T23:10:31.094Z"
   },
   {
    "duration": 39,
    "start_time": "2023-09-30T23:10:31.111Z"
   },
   {
    "duration": 182,
    "start_time": "2023-09-30T23:10:31.152Z"
   },
   {
    "duration": 96,
    "start_time": "2023-09-30T23:10:31.336Z"
   },
   {
    "duration": 283,
    "start_time": "2023-09-30T23:10:31.434Z"
   },
   {
    "duration": 1356,
    "start_time": "2023-09-30T23:10:31.719Z"
   },
   {
    "duration": 336,
    "start_time": "2023-09-30T23:10:33.077Z"
   },
   {
    "duration": 13,
    "start_time": "2023-09-30T23:10:33.415Z"
   },
   {
    "duration": 36,
    "start_time": "2023-09-30T23:10:33.430Z"
   },
   {
    "duration": 25,
    "start_time": "2023-09-30T23:10:33.467Z"
   },
   {
    "duration": 418,
    "start_time": "2023-09-30T23:10:33.493Z"
   },
   {
    "duration": 326,
    "start_time": "2023-09-30T23:10:33.913Z"
   },
   {
    "duration": 37,
    "start_time": "2023-09-30T23:10:34.243Z"
   },
   {
    "duration": 2,
    "start_time": "2023-09-30T23:10:34.282Z"
   },
   {
    "duration": 28,
    "start_time": "2023-09-30T23:10:34.287Z"
   },
   {
    "duration": 2,
    "start_time": "2023-09-30T23:10:34.316Z"
   },
   {
    "duration": 22,
    "start_time": "2023-09-30T23:10:34.320Z"
   },
   {
    "duration": 9,
    "start_time": "2023-09-30T23:10:34.343Z"
   },
   {
    "duration": 8,
    "start_time": "2023-09-30T23:10:34.354Z"
   },
   {
    "duration": 14,
    "start_time": "2023-09-30T23:10:34.364Z"
   },
   {
    "duration": 16,
    "start_time": "2023-09-30T23:10:34.380Z"
   },
   {
    "duration": 1210,
    "start_time": "2023-10-01T15:46:05.875Z"
   },
   {
    "duration": 74,
    "start_time": "2023-10-01T15:46:07.087Z"
   },
   {
    "duration": 5,
    "start_time": "2023-10-01T15:46:07.163Z"
   },
   {
    "duration": 46,
    "start_time": "2023-10-01T15:46:07.169Z"
   },
   {
    "duration": 7,
    "start_time": "2023-10-01T15:46:07.217Z"
   },
   {
    "duration": 49,
    "start_time": "2023-10-01T15:46:07.226Z"
   },
   {
    "duration": 8,
    "start_time": "2023-10-01T15:46:07.277Z"
   },
   {
    "duration": 66,
    "start_time": "2023-10-01T15:46:07.286Z"
   },
   {
    "duration": 14,
    "start_time": "2023-10-01T15:46:07.354Z"
   },
   {
    "duration": 10,
    "start_time": "2023-10-01T15:46:07.370Z"
   },
   {
    "duration": 3,
    "start_time": "2023-10-01T15:46:07.382Z"
   },
   {
    "duration": 23,
    "start_time": "2023-10-01T15:46:07.387Z"
   },
   {
    "duration": 34,
    "start_time": "2023-10-01T15:46:07.412Z"
   },
   {
    "duration": 15,
    "start_time": "2023-10-01T15:46:07.449Z"
   },
   {
    "duration": 202,
    "start_time": "2023-10-01T15:46:07.466Z"
   },
   {
    "duration": 103,
    "start_time": "2023-10-01T15:46:07.669Z"
   },
   {
    "duration": 286,
    "start_time": "2023-10-01T15:46:07.773Z"
   },
   {
    "duration": 1386,
    "start_time": "2023-10-01T15:46:08.060Z"
   },
   {
    "duration": 340,
    "start_time": "2023-10-01T15:46:09.448Z"
   },
   {
    "duration": 15,
    "start_time": "2023-10-01T15:46:09.789Z"
   },
   {
    "duration": 51,
    "start_time": "2023-10-01T15:46:09.806Z"
   },
   {
    "duration": 39,
    "start_time": "2023-10-01T15:46:09.860Z"
   },
   {
    "duration": 407,
    "start_time": "2023-10-01T15:46:09.902Z"
   },
   {
    "duration": 293,
    "start_time": "2023-10-01T15:46:10.311Z"
   },
   {
    "duration": 57,
    "start_time": "2023-10-01T15:46:10.606Z"
   },
   {
    "duration": 3,
    "start_time": "2023-10-01T15:46:10.665Z"
   },
   {
    "duration": 20,
    "start_time": "2023-10-01T15:46:10.670Z"
   },
   {
    "duration": 3,
    "start_time": "2023-10-01T15:46:10.692Z"
   },
   {
    "duration": 25,
    "start_time": "2023-10-01T15:46:10.696Z"
   },
   {
    "duration": 23,
    "start_time": "2023-10-01T15:46:10.723Z"
   },
   {
    "duration": 71,
    "start_time": "2023-10-01T15:46:10.748Z"
   },
   {
    "duration": 15,
    "start_time": "2023-10-01T15:46:10.821Z"
   },
   {
    "duration": 10,
    "start_time": "2023-10-01T15:46:10.838Z"
   },
   {
    "duration": 137,
    "start_time": "2023-10-01T15:47:56.639Z"
   },
   {
    "duration": 86,
    "start_time": "2023-10-01T15:48:01.834Z"
   },
   {
    "duration": 6,
    "start_time": "2023-10-01T15:50:35.411Z"
   }
  ],
  "kernelspec": {
   "display_name": "Python 3 (ipykernel)",
   "language": "python",
   "name": "python3"
  },
  "language_info": {
   "codemirror_mode": {
    "name": "ipython",
    "version": 3
   },
   "file_extension": ".py",
   "mimetype": "text/x-python",
   "name": "python",
   "nbconvert_exporter": "python",
   "pygments_lexer": "ipython3",
   "version": "3.9.5"
  },
  "toc": {
   "base_numbering": 1,
   "nav_menu": {
    "height": "156px",
    "width": "346px"
   },
   "number_sections": true,
   "sideBar": true,
   "skip_h1_title": true,
   "title_cell": "Содержание",
   "title_sidebar": "Содержание",
   "toc_cell": true,
   "toc_position": {
    "height": "calc(100% - 180px)",
    "left": "10px",
    "top": "150px",
    "width": "298.594px"
   },
   "toc_section_display": true,
   "toc_window_display": true
  }
 },
 "nbformat": 4,
 "nbformat_minor": 5
}
