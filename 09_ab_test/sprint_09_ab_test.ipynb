{
 "cells": [
  {
   "cell_type": "markdown",
   "metadata": {},
   "source": [
    "# Проект: Принятие решений в бизнесе"
   ]
  },
  {
   "cell_type": "markdown",
   "metadata": {
    "toc": true
   },
   "source": [
    "<h1>Содержание<span class=\"tocSkip\"></span></h1>\n",
    "<div class=\"toc\"><ul class=\"toc-item\"><li><span><a href=\"#Описание-проекта\" data-toc-modified-id=\"Описание-проекта-1\"><span class=\"toc-item-num\">1&nbsp;&nbsp;</span>Описание проекта</a></span></li><li><span><a href=\"#Ознакомление-с-данными\" data-toc-modified-id=\"Ознакомление-с-данными-2\"><span class=\"toc-item-num\">2&nbsp;&nbsp;</span>Ознакомление с данными</a></span></li><li><span><a href=\"#Предобработка-данных\" data-toc-modified-id=\"Предобработка-данных-3\"><span class=\"toc-item-num\">3&nbsp;&nbsp;</span>Предобработка данных</a></span></li><li><span><a href=\"#Часть-1.-Приоритизация-гипотез\" data-toc-modified-id=\"Часть-1.-Приоритизация-гипотез-4\"><span class=\"toc-item-num\">4&nbsp;&nbsp;</span>Часть 1. Приоритизация гипотез</a></span></li><li><span><a href=\"#Часть-2.-Анализ-A/B-теста\" data-toc-modified-id=\"Часть-2.-Анализ-A/B-теста-5\"><span class=\"toc-item-num\">5&nbsp;&nbsp;</span>Часть 2. Анализ A/B-теста</a></span><ul class=\"toc-item\"><li><span><a href=\"#Кумулятивная-выручка\" data-toc-modified-id=\"Кумулятивная-выручка-5.1\"><span class=\"toc-item-num\">5.1&nbsp;&nbsp;</span>Кумулятивная выручка</a></span></li><li><span><a href=\"#Кумулятивный-средний-чек\" data-toc-modified-id=\"Кумулятивный-средний-чек-5.2\"><span class=\"toc-item-num\">5.2&nbsp;&nbsp;</span>Кумулятивный средний чек</a></span></li><li><span><a href=\"#Относительное-изменение-кумулятивного-среднего-чека\" data-toc-modified-id=\"Относительное-изменение-кумулятивного-среднего-чека-5.3\"><span class=\"toc-item-num\">5.3&nbsp;&nbsp;</span>Относительное изменение кумулятивного среднего чека</a></span></li><li><span><a href=\"#Кумулятивное-среднее-количество-заказов-на-посетителя\" data-toc-modified-id=\"Кумулятивное-среднее-количество-заказов-на-посетителя-5.4\"><span class=\"toc-item-num\">5.4&nbsp;&nbsp;</span>Кумулятивное среднее количество заказов на посетителя</a></span></li><li><span><a href=\"#Относительное-изменение-кумулятивного-среднего-количества-заказов\" data-toc-modified-id=\"Относительное-изменение-кумулятивного-среднего-количества-заказов-5.5\"><span class=\"toc-item-num\">5.5&nbsp;&nbsp;</span>Относительное изменение кумулятивного среднего количества заказов</a></span></li><li><span><a href=\"#Количество-заказов-по-пользователям\" data-toc-modified-id=\"Количество-заказов-по-пользователям-5.6\"><span class=\"toc-item-num\">5.6&nbsp;&nbsp;</span>Количество заказов по пользователям</a></span></li><li><span><a href=\"#Граница-для-определения-аномальных-пользователей\" data-toc-modified-id=\"Граница-для-определения-аномальных-пользователей-5.7\"><span class=\"toc-item-num\">5.7&nbsp;&nbsp;</span>Граница для определения аномальных пользователей</a></span></li><li><span><a href=\"#График-стоимостей-заказов\" data-toc-modified-id=\"График-стоимостей-заказов-5.8\"><span class=\"toc-item-num\">5.8&nbsp;&nbsp;</span>График стоимостей заказов</a></span></li><li><span><a href=\"#Граница-для-определения-аномальных-стоимостей-заказов\" data-toc-modified-id=\"Граница-для-определения-аномальных-стоимостей-заказов-5.9\"><span class=\"toc-item-num\">5.9&nbsp;&nbsp;</span>Граница для определения аномальных стоимостей заказов</a></span></li><li><span><a href=\"#Статистическая-значимость-различий-в-среднем-количестве-заказов\" data-toc-modified-id=\"Статистическая-значимость-различий-в-среднем-количестве-заказов-5.10\"><span class=\"toc-item-num\">5.10&nbsp;&nbsp;</span>Статистическая значимость различий в среднем количестве заказов</a></span></li><li><span><a href=\"#Статистическая-значимость-различий-в-среднем-чеке\" data-toc-modified-id=\"Статистическая-значимость-различий-в-среднем-чеке-5.11\"><span class=\"toc-item-num\">5.11&nbsp;&nbsp;</span>Статистическая значимость различий в среднем чеке</a></span></li><li><span><a href=\"#Статистическая-значимость-различий-в-среднем-количестве-заказов\" data-toc-modified-id=\"Статистическая-значимость-различий-в-среднем-количестве-заказов-5.12\"><span class=\"toc-item-num\">5.12&nbsp;&nbsp;</span>Статистическая значимость различий в среднем количестве заказов</a></span></li><li><span><a href=\"#Статистическая-значимость-различий-в-среднем-чеке\" data-toc-modified-id=\"Статистическая-значимость-различий-в-среднем-чеке-5.13\"><span class=\"toc-item-num\">5.13&nbsp;&nbsp;</span>Статистическая значимость различий в среднем чеке</a></span></li><li><span><a href=\"#Решение-по-результатам-теста\" data-toc-modified-id=\"Решение-по-результатам-теста-5.14\"><span class=\"toc-item-num\">5.14&nbsp;&nbsp;</span>Решение по результатам теста</a></span></li></ul></li><li><span><a href=\"#Вывод\" data-toc-modified-id=\"Вывод-6\"><span class=\"toc-item-num\">6&nbsp;&nbsp;</span>Вывод</a></span></li></ul></div>"
   ]
  },
  {
   "cell_type": "markdown",
   "metadata": {},
   "source": [
    "## Описание проекта"
   ]
  },
  {
   "cell_type": "markdown",
   "metadata": {},
   "source": [
    "Аналитиками совместно с отделом маркетинга интернет-магазина был подготовлен список гипотез для увеличения выручки.\n",
    "\n",
    "**Цель проекта** - запустить A/B-тест и проанализировать результаты.\n",
    "\n",
    "Проект разбит на 2 части:\n",
    "\n",
    "**Часть 1. Приоритизация гипотез**\n",
    "В файле `/datasets/hypothesis.csv` содержится 9 гипотез по увеличению выручки интернет-магазина с указанными параметрами `Reach`, `Impact`, `Confidence`, `Effort`.\n",
    "**Задача**\n",
    "- Применить фреймворк ICE для приоритизации гипотез\n",
    "- Применить фреймворк RICE для приоритизации гипотез\n",
    "- Указать, как изменилась приоритизация гипотез при применении RICE вместо ICE\n",
    "\n",
    "**Часть 2. Анализ A/B-теста**\n",
    "**Задача**: Провести анализ итогов A/B-теста \n",
    "\n",
    "**Описание данных**\n",
    "\n",
    "В нашем распоряжении имеются 3 таблицы:\n",
    "\n",
    "**``hypothesis.csv``** - гипотезы:\n",
    "- ``Hypothesis`` — краткое описание гипотезы,\n",
    "- ``Reach`` — охват пользователей по 10-балльной шкале,\n",
    "- ``Impact`` — влияние на пользователей по 10-балльной шкале,\n",
    "- ``Confidence`` — уверенность в гипотезе по 10-балльной шкале,\n",
    "- ``Efforts`` — затраты ресурсов на проверку гипотезы по 10-балльной шкале. Чем больше значение Efforts, тем дороже проверка гипотезы.\n",
    "\n",
    "**``orders.csv``** - информация о заказах:\n",
    "- ``transactionId`` — идентификатор заказа,\n",
    "- ``visitorId`` — идентификатор пользователя, совершившего заказ\n",
    "- ``date`` — дата, когда был совершён заказ\n",
    "- ``revenue`` — выручка заказа\n",
    "- ``group`` — группа A/B-теста, в которую попал заказ\n",
    "\n",
    "**``visitors.csv``** - информация о посещениях:\n",
    "- ``date`` — дата\n",
    "- ``group`` — группа A/B-теста\n",
    "- ``visitors`` — количество пользователей в указанную дату в указанной группе A/B-теста"
   ]
  },
  {
   "cell_type": "markdown",
   "metadata": {},
   "source": [
    "## Ознакомление с данными"
   ]
  },
  {
   "cell_type": "code",
   "execution_count": 1,
   "metadata": {},
   "outputs": [],
   "source": [
    "# импорт библиотек\n",
    "import pandas as pd\n",
    "from datetime import datetime, timedelta\n",
    "import seaborn as sns\n",
    "from matplotlib import pyplot as plt\n",
    "import numpy as np\n",
    "import scipy.stats as stats\n",
    "\n",
    "pd.set_option(\"display.float_format\", \"{:.2f}\".format)\n",
    "pd.set_option('display.max_colwidth', False)"
   ]
  },
  {
   "cell_type": "code",
   "execution_count": 2,
   "metadata": {},
   "outputs": [],
   "source": [
    "# загрузка данных\n",
    "hypothesis = pd.read_csv('/datasets/hypothesis.csv')  # гипотезы\n",
    "orders = pd.read_csv('/datasets/orders.csv')  # заказы\n",
    "visitors = pd.read_csv('/datasets/visitors.csv')  # посетительни\n",
    "\n",
    "# присвоим имена датафреймам\n",
    "hypothesis.name = 'hypothesis'\n",
    "orders.name = 'orders'\n",
    "visitors.name = 'visitors'"
   ]
  },
  {
   "cell_type": "code",
   "execution_count": 3,
   "metadata": {},
   "outputs": [],
   "source": [
    "# функция для вывода информации о данных в таблице\n",
    "def get_df_info(df):\n",
    "    \n",
    "    # 5 рандомных строк\n",
    "    print('-' * 5, 'Таблица', df.name, '-' * 5)\n",
    "    display(df.sample(5))\n",
    "    \n",
    "    # общая информация\n",
    "    print('-' * 5, 'Общая информация о \"', df.name, '\"', '-' * 5, '\\n')\n",
    "    df.info()\n",
    "    \n",
    "    # пропуски\n",
    "    print('\\n', '-' * 5, 'Пропуски в \"', df.name, '\"', '-' * 5, '\\n')\n",
    "    \n",
    "    if df.isna().sum().sum() != 0:\n",
    "        display(df.isna().sum().sort_values(ascending = False))\n",
    "        print(f'Средний процент пропусков составил: {(df.isna().sum()/len(df)*100).mean():.2f}%')\n",
    "    else:\n",
    "        print('Пропусков не найдено \\n')\n",
    "        \n",
    "    # дубликаты\n",
    "    print('-' * 5, 'Информация о дубликатах в \"', df.name, '\"', '-' * 5, '\\n')\n",
    "    print('Количество явных дубликатов:', df.duplicated().sum(), '\\n')"
   ]
  },
  {
   "cell_type": "code",
   "execution_count": 4,
   "metadata": {},
   "outputs": [
    {
     "name": "stdout",
     "output_type": "stream",
     "text": [
      "----- Таблица hypothesis -----\n"
     ]
    },
    {
     "data": {
      "text/html": [
       "<div>\n",
       "<style scoped>\n",
       "    .dataframe tbody tr th:only-of-type {\n",
       "        vertical-align: middle;\n",
       "    }\n",
       "\n",
       "    .dataframe tbody tr th {\n",
       "        vertical-align: top;\n",
       "    }\n",
       "\n",
       "    .dataframe thead th {\n",
       "        text-align: right;\n",
       "    }\n",
       "</style>\n",
       "<table border=\"1\" class=\"dataframe\">\n",
       "  <thead>\n",
       "    <tr style=\"text-align: right;\">\n",
       "      <th></th>\n",
       "      <th>Hypothesis</th>\n",
       "      <th>Reach</th>\n",
       "      <th>Impact</th>\n",
       "      <th>Confidence</th>\n",
       "      <th>Efforts</th>\n",
       "    </tr>\n",
       "  </thead>\n",
       "  <tbody>\n",
       "    <tr>\n",
       "      <th>1</th>\n",
       "      <td>Запустить собственную службу доставки, что сократит срок доставки заказов</td>\n",
       "      <td>2</td>\n",
       "      <td>5</td>\n",
       "      <td>4</td>\n",
       "      <td>10</td>\n",
       "    </tr>\n",
       "    <tr>\n",
       "      <th>8</th>\n",
       "      <td>Запустить акцию, дающую скидку на товар в день рождения</td>\n",
       "      <td>1</td>\n",
       "      <td>9</td>\n",
       "      <td>9</td>\n",
       "      <td>5</td>\n",
       "    </tr>\n",
       "    <tr>\n",
       "      <th>3</th>\n",
       "      <td>Изменить структура категорий, что увеличит конверсию, т.к. пользователи быстрее найдут нужный товар</td>\n",
       "      <td>8</td>\n",
       "      <td>3</td>\n",
       "      <td>3</td>\n",
       "      <td>8</td>\n",
       "    </tr>\n",
       "    <tr>\n",
       "      <th>4</th>\n",
       "      <td>Изменить цвет фона главной страницы, чтобы увеличить вовлеченность пользователей</td>\n",
       "      <td>3</td>\n",
       "      <td>1</td>\n",
       "      <td>1</td>\n",
       "      <td>1</td>\n",
       "    </tr>\n",
       "    <tr>\n",
       "      <th>6</th>\n",
       "      <td>Показать на главной странице баннеры с актуальными акциями и распродажами, чтобы увеличить конверсию</td>\n",
       "      <td>5</td>\n",
       "      <td>3</td>\n",
       "      <td>8</td>\n",
       "      <td>3</td>\n",
       "    </tr>\n",
       "  </tbody>\n",
       "</table>\n",
       "</div>"
      ],
      "text/plain": [
       "                                                                                             Hypothesis  \\\n",
       "1  Запустить собственную службу доставки, что сократит срок доставки заказов                              \n",
       "8  Запустить акцию, дающую скидку на товар в день рождения                                                \n",
       "3  Изменить структура категорий, что увеличит конверсию, т.к. пользователи быстрее найдут нужный товар    \n",
       "4  Изменить цвет фона главной страницы, чтобы увеличить вовлеченность пользователей                       \n",
       "6  Показать на главной странице баннеры с актуальными акциями и распродажами, чтобы увеличить конверсию   \n",
       "\n",
       "   Reach  Impact  Confidence  Efforts  \n",
       "1  2      5       4           10       \n",
       "8  1      9       9           5        \n",
       "3  8      3       3           8        \n",
       "4  3      1       1           1        \n",
       "6  5      3       8           3        "
      ]
     },
     "metadata": {},
     "output_type": "display_data"
    },
    {
     "name": "stdout",
     "output_type": "stream",
     "text": [
      "----- Общая информация о \" hypothesis \" ----- \n",
      "\n",
      "<class 'pandas.core.frame.DataFrame'>\n",
      "RangeIndex: 9 entries, 0 to 8\n",
      "Data columns (total 5 columns):\n",
      " #   Column      Non-Null Count  Dtype \n",
      "---  ------      --------------  ----- \n",
      " 0   Hypothesis  9 non-null      object\n",
      " 1   Reach       9 non-null      int64 \n",
      " 2   Impact      9 non-null      int64 \n",
      " 3   Confidence  9 non-null      int64 \n",
      " 4   Efforts     9 non-null      int64 \n",
      "dtypes: int64(4), object(1)\n",
      "memory usage: 488.0+ bytes\n",
      "\n",
      " ----- Пропуски в \" hypothesis \" ----- \n",
      "\n",
      "Пропусков не найдено \n",
      "\n",
      "----- Информация о дубликатах в \" hypothesis \" ----- \n",
      "\n",
      "Количество явных дубликатов: 0 \n",
      "\n",
      "----- Таблица orders -----\n"
     ]
    },
    {
     "data": {
      "text/html": [
       "<div>\n",
       "<style scoped>\n",
       "    .dataframe tbody tr th:only-of-type {\n",
       "        vertical-align: middle;\n",
       "    }\n",
       "\n",
       "    .dataframe tbody tr th {\n",
       "        vertical-align: top;\n",
       "    }\n",
       "\n",
       "    .dataframe thead th {\n",
       "        text-align: right;\n",
       "    }\n",
       "</style>\n",
       "<table border=\"1\" class=\"dataframe\">\n",
       "  <thead>\n",
       "    <tr style=\"text-align: right;\">\n",
       "      <th></th>\n",
       "      <th>transactionId</th>\n",
       "      <th>visitorId</th>\n",
       "      <th>date</th>\n",
       "      <th>revenue</th>\n",
       "      <th>group</th>\n",
       "    </tr>\n",
       "  </thead>\n",
       "  <tbody>\n",
       "    <tr>\n",
       "      <th>191</th>\n",
       "      <td>2361024027</td>\n",
       "      <td>3967698036</td>\n",
       "      <td>2019-08-02</td>\n",
       "      <td>1690</td>\n",
       "      <td>A</td>\n",
       "    </tr>\n",
       "    <tr>\n",
       "      <th>853</th>\n",
       "      <td>262925486</td>\n",
       "      <td>2772153338</td>\n",
       "      <td>2019-08-27</td>\n",
       "      <td>2000</td>\n",
       "      <td>A</td>\n",
       "    </tr>\n",
       "    <tr>\n",
       "      <th>315</th>\n",
       "      <td>1939633950</td>\n",
       "      <td>157579733</td>\n",
       "      <td>2019-08-19</td>\n",
       "      <td>2330</td>\n",
       "      <td>B</td>\n",
       "    </tr>\n",
       "    <tr>\n",
       "      <th>184</th>\n",
       "      <td>1367815478</td>\n",
       "      <td>138252163</td>\n",
       "      <td>2019-08-23</td>\n",
       "      <td>4580</td>\n",
       "      <td>A</td>\n",
       "    </tr>\n",
       "    <tr>\n",
       "      <th>113</th>\n",
       "      <td>2663968367</td>\n",
       "      <td>821846484</td>\n",
       "      <td>2019-08-01</td>\n",
       "      <td>1630</td>\n",
       "      <td>A</td>\n",
       "    </tr>\n",
       "  </tbody>\n",
       "</table>\n",
       "</div>"
      ],
      "text/plain": [
       "     transactionId   visitorId        date  revenue group\n",
       "191  2361024027     3967698036  2019-08-02  1690     A   \n",
       "853  262925486      2772153338  2019-08-27  2000     A   \n",
       "315  1939633950     157579733   2019-08-19  2330     B   \n",
       "184  1367815478     138252163   2019-08-23  4580     A   \n",
       "113  2663968367     821846484   2019-08-01  1630     A   "
      ]
     },
     "metadata": {},
     "output_type": "display_data"
    },
    {
     "name": "stdout",
     "output_type": "stream",
     "text": [
      "----- Общая информация о \" orders \" ----- \n",
      "\n",
      "<class 'pandas.core.frame.DataFrame'>\n",
      "RangeIndex: 1197 entries, 0 to 1196\n",
      "Data columns (total 5 columns):\n",
      " #   Column         Non-Null Count  Dtype \n",
      "---  ------         --------------  ----- \n",
      " 0   transactionId  1197 non-null   int64 \n",
      " 1   visitorId      1197 non-null   int64 \n",
      " 2   date           1197 non-null   object\n",
      " 3   revenue        1197 non-null   int64 \n",
      " 4   group          1197 non-null   object\n",
      "dtypes: int64(3), object(2)\n",
      "memory usage: 46.9+ KB\n",
      "\n",
      " ----- Пропуски в \" orders \" ----- \n",
      "\n",
      "Пропусков не найдено \n",
      "\n",
      "----- Информация о дубликатах в \" orders \" ----- \n",
      "\n",
      "Количество явных дубликатов: 0 \n",
      "\n",
      "----- Таблица visitors -----\n"
     ]
    },
    {
     "data": {
      "text/html": [
       "<div>\n",
       "<style scoped>\n",
       "    .dataframe tbody tr th:only-of-type {\n",
       "        vertical-align: middle;\n",
       "    }\n",
       "\n",
       "    .dataframe tbody tr th {\n",
       "        vertical-align: top;\n",
       "    }\n",
       "\n",
       "    .dataframe thead th {\n",
       "        text-align: right;\n",
       "    }\n",
       "</style>\n",
       "<table border=\"1\" class=\"dataframe\">\n",
       "  <thead>\n",
       "    <tr style=\"text-align: right;\">\n",
       "      <th></th>\n",
       "      <th>date</th>\n",
       "      <th>group</th>\n",
       "      <th>visitors</th>\n",
       "    </tr>\n",
       "  </thead>\n",
       "  <tbody>\n",
       "    <tr>\n",
       "      <th>56</th>\n",
       "      <td>2019-08-26</td>\n",
       "      <td>B</td>\n",
       "      <td>676</td>\n",
       "    </tr>\n",
       "    <tr>\n",
       "      <th>24</th>\n",
       "      <td>2019-08-25</td>\n",
       "      <td>A</td>\n",
       "      <td>621</td>\n",
       "    </tr>\n",
       "    <tr>\n",
       "      <th>22</th>\n",
       "      <td>2019-08-23</td>\n",
       "      <td>A</td>\n",
       "      <td>468</td>\n",
       "    </tr>\n",
       "    <tr>\n",
       "      <th>12</th>\n",
       "      <td>2019-08-13</td>\n",
       "      <td>A</td>\n",
       "      <td>748</td>\n",
       "    </tr>\n",
       "    <tr>\n",
       "      <th>54</th>\n",
       "      <td>2019-08-24</td>\n",
       "      <td>B</td>\n",
       "      <td>378</td>\n",
       "    </tr>\n",
       "  </tbody>\n",
       "</table>\n",
       "</div>"
      ],
      "text/plain": [
       "          date group  visitors\n",
       "56  2019-08-26  B     676     \n",
       "24  2019-08-25  A     621     \n",
       "22  2019-08-23  A     468     \n",
       "12  2019-08-13  A     748     \n",
       "54  2019-08-24  B     378     "
      ]
     },
     "metadata": {},
     "output_type": "display_data"
    },
    {
     "name": "stdout",
     "output_type": "stream",
     "text": [
      "----- Общая информация о \" visitors \" ----- \n",
      "\n",
      "<class 'pandas.core.frame.DataFrame'>\n",
      "RangeIndex: 62 entries, 0 to 61\n",
      "Data columns (total 3 columns):\n",
      " #   Column    Non-Null Count  Dtype \n",
      "---  ------    --------------  ----- \n",
      " 0   date      62 non-null     object\n",
      " 1   group     62 non-null     object\n",
      " 2   visitors  62 non-null     int64 \n",
      "dtypes: int64(1), object(2)\n",
      "memory usage: 1.6+ KB\n",
      "\n",
      " ----- Пропуски в \" visitors \" ----- \n",
      "\n",
      "Пропусков не найдено \n",
      "\n",
      "----- Информация о дубликатах в \" visitors \" ----- \n",
      "\n",
      "Количество явных дубликатов: 0 \n",
      "\n"
     ]
    }
   ],
   "source": [
    "# поочередно выводим данные о таблицах\n",
    "dfs = [hypothesis, orders, visitors]\n",
    "\n",
    "for df in dfs: get_df_info(df)"
   ]
  },
  {
   "cell_type": "markdown",
   "metadata": {},
   "source": [
    "**Вывод**\n",
    "\n",
    "1. В наших таблицах отсутствуют явные дубликаты и пропуски\n",
    "2. Наименования столбцов не приведены к стилю snak_case\n",
    "3. Типы данных в столбцах с датой некорректны (``object`` вместо ``date``)"
   ]
  },
  {
   "cell_type": "markdown",
   "metadata": {},
   "source": [
    "## Предобработка данных"
   ]
  },
  {
   "cell_type": "markdown",
   "metadata": {},
   "source": [
    "Приведем наименования столбцов к единому стилю snack_case и изменим тип данных в столбцах с датой"
   ]
  },
  {
   "cell_type": "code",
   "execution_count": 5,
   "metadata": {},
   "outputs": [],
   "source": [
    "# функция для изменения стиля наименований столбцов\n",
    "def change_columns_name(df):\n",
    "    df.columns = df.columns.str.lower()"
   ]
  },
  {
   "cell_type": "code",
   "execution_count": 6,
   "metadata": {},
   "outputs": [],
   "source": [
    "# вызовем функцию change_columns_name в цикле по списку dfs\n",
    "for df in dfs: change_columns_name(df)"
   ]
  },
  {
   "cell_type": "markdown",
   "metadata": {},
   "source": [
    "Заметим, что в `orders` имена столбцов `transactionId` и `visitorId` не стилизованы. Исправим это."
   ]
  },
  {
   "cell_type": "code",
   "execution_count": 7,
   "metadata": {},
   "outputs": [],
   "source": [
    "orders.rename(columns={'transactionid': 'transaction_id',\n",
    "                       'visitorid': 'visitor_id'}, inplace = True)"
   ]
  },
  {
   "cell_type": "code",
   "execution_count": 8,
   "metadata": {},
   "outputs": [],
   "source": [
    "# преобразование дат\n",
    "orders['date'] = pd.to_datetime(orders['date']).dt.date\n",
    "visitors['date'] = pd.to_datetime(visitors['date']).dt.date"
   ]
  },
  {
   "cell_type": "markdown",
   "metadata": {},
   "source": [
    "**Вывод**\n",
    "\n",
    "Мы проанализировали входные данные. Они достаточно качественные: нет явных дубликатов и пропусков. Также привели данные с датами к соответствующему типу. Заголовки столбцов привели к общепринятому формату.\n",
    "\n",
    "Данные для дальнейшего анализа подготовлены."
   ]
  },
  {
   "cell_type": "code",
   "execution_count": 9,
   "metadata": {},
   "outputs": [
    {
     "data": {
      "text/plain": [
       "array(['A', 'B'], dtype=object)"
      ]
     },
     "execution_count": 9,
     "metadata": {},
     "output_type": "execute_result"
    }
   ],
   "source": [
    "# группы в A/B-тесте\n",
    "visitors.group.unique()"
   ]
  },
  {
   "cell_type": "code",
   "execution_count": 10,
   "metadata": {},
   "outputs": [
    {
     "name": "stdout",
     "output_type": "stream",
     "text": [
      "Дата начала теста: 2019-08-01\n",
      "Дата окончания теста: 2019-08-31\n"
     ]
    }
   ],
   "source": [
    "# дата начала и окончания теста\n",
    "print('Дата начала теста:', orders.date.min())\n",
    "print('Дата окончания теста:', orders.date.max())"
   ]
  },
  {
   "cell_type": "code",
   "execution_count": 11,
   "metadata": {},
   "outputs": [
    {
     "data": {
      "text/html": [
       "<div>\n",
       "<style scoped>\n",
       "    .dataframe tbody tr th:only-of-type {\n",
       "        vertical-align: middle;\n",
       "    }\n",
       "\n",
       "    .dataframe tbody tr th {\n",
       "        vertical-align: top;\n",
       "    }\n",
       "\n",
       "    .dataframe thead th {\n",
       "        text-align: right;\n",
       "    }\n",
       "</style>\n",
       "<table border=\"1\" class=\"dataframe\">\n",
       "  <thead>\n",
       "    <tr style=\"text-align: right;\">\n",
       "      <th></th>\n",
       "      <th>visitor_id</th>\n",
       "      <th>group</th>\n",
       "    </tr>\n",
       "  </thead>\n",
       "  <tbody>\n",
       "    <tr>\n",
       "      <th>1023</th>\n",
       "      <td>4256040402</td>\n",
       "      <td>11</td>\n",
       "    </tr>\n",
       "    <tr>\n",
       "      <th>591</th>\n",
       "      <td>2458001652</td>\n",
       "      <td>11</td>\n",
       "    </tr>\n",
       "    <tr>\n",
       "      <th>569</th>\n",
       "      <td>2378935119</td>\n",
       "      <td>9</td>\n",
       "    </tr>\n",
       "    <tr>\n",
       "      <th>487</th>\n",
       "      <td>2038680547</td>\n",
       "      <td>8</td>\n",
       "    </tr>\n",
       "    <tr>\n",
       "      <th>44</th>\n",
       "      <td>199603092</td>\n",
       "      <td>5</td>\n",
       "    </tr>\n",
       "  </tbody>\n",
       "</table>\n",
       "</div>"
      ],
      "text/plain": [
       "      visitor_id  group\n",
       "1023  4256040402  11   \n",
       "591   2458001652  11   \n",
       "569   2378935119  9    \n",
       "487   2038680547  8    \n",
       "44    199603092   5    "
      ]
     },
     "metadata": {},
     "output_type": "display_data"
    },
    {
     "name": "stdout",
     "output_type": "stream",
     "text": [
      "Количество посетителей, попавших в обе группы: 94\n"
     ]
    }
   ],
   "source": [
    "# посетители, попавшие в обе группы\n",
    "orders_pivot = orders.pivot_table(index='visitor_id',\n",
    "                                  aggfunc={'group': 'count'}).reset_index().query('group !=1').sort_values(by='group', \n",
    "                                                                                                           ascending=False)\n",
    "\n",
    "display(orders_pivot.head())\n",
    "print('Количество посетителей, попавших в обе группы:', len(orders_pivot))"
   ]
  },
  {
   "cell_type": "markdown",
   "metadata": {},
   "source": [
    "Действительно, есть пользователи, которые попали в обе группы. В нашем тестировании такие пользователи не помогут сделать результат точнее, а наоборот - исказят его. Будет непонятно, что именно повлияло на их поведение."
   ]
  },
  {
   "cell_type": "markdown",
   "metadata": {},
   "source": [
    "## Часть 1. Приоритизация гипотез"
   ]
  },
  {
   "cell_type": "markdown",
   "metadata": {},
   "source": [
    "В таблице `hypothesis` 9 гипотез по увеличению выручки интернет-магазина с указанными параметрами `Reach`, `Impact`, `Confidence`, `Effort`."
   ]
  },
  {
   "cell_type": "markdown",
   "metadata": {},
   "source": [
    "Применим фреймворк `ICE` для приоритизации гипотез. Отсортируем их по убыванию приоритета."
   ]
  },
  {
   "cell_type": "code",
   "execution_count": 12,
   "metadata": {
    "scrolled": true
   },
   "outputs": [
    {
     "data": {
      "text/html": [
       "<div>\n",
       "<style scoped>\n",
       "    .dataframe tbody tr th:only-of-type {\n",
       "        vertical-align: middle;\n",
       "    }\n",
       "\n",
       "    .dataframe tbody tr th {\n",
       "        vertical-align: top;\n",
       "    }\n",
       "\n",
       "    .dataframe thead th {\n",
       "        text-align: right;\n",
       "    }\n",
       "</style>\n",
       "<table border=\"1\" class=\"dataframe\">\n",
       "  <thead>\n",
       "    <tr style=\"text-align: right;\">\n",
       "      <th></th>\n",
       "      <th>hypothesis</th>\n",
       "      <th>ICE</th>\n",
       "    </tr>\n",
       "  </thead>\n",
       "  <tbody>\n",
       "    <tr>\n",
       "      <th>8</th>\n",
       "      <td>Запустить акцию, дающую скидку на товар в день рождения</td>\n",
       "      <td>16.20</td>\n",
       "    </tr>\n",
       "    <tr>\n",
       "      <th>0</th>\n",
       "      <td>Добавить два новых канала привлечения трафика, что позволит привлекать на 30% больше пользователей</td>\n",
       "      <td>13.33</td>\n",
       "    </tr>\n",
       "    <tr>\n",
       "      <th>7</th>\n",
       "      <td>Добавить форму подписки на все основные страницы, чтобы собрать базу клиентов для email-рассылок</td>\n",
       "      <td>11.20</td>\n",
       "    </tr>\n",
       "    <tr>\n",
       "      <th>6</th>\n",
       "      <td>Показать на главной странице баннеры с актуальными акциями и распродажами, чтобы увеличить конверсию</td>\n",
       "      <td>8.00</td>\n",
       "    </tr>\n",
       "    <tr>\n",
       "      <th>2</th>\n",
       "      <td>Добавить блоки рекомендаций товаров на сайт интернет магазина, чтобы повысить конверсию и средний чек заказа</td>\n",
       "      <td>7.00</td>\n",
       "    </tr>\n",
       "    <tr>\n",
       "      <th>1</th>\n",
       "      <td>Запустить собственную службу доставки, что сократит срок доставки заказов</td>\n",
       "      <td>2.00</td>\n",
       "    </tr>\n",
       "    <tr>\n",
       "      <th>5</th>\n",
       "      <td>Добавить страницу отзывов клиентов о магазине, что позволит увеличить количество заказов</td>\n",
       "      <td>1.33</td>\n",
       "    </tr>\n",
       "    <tr>\n",
       "      <th>3</th>\n",
       "      <td>Изменить структура категорий, что увеличит конверсию, т.к. пользователи быстрее найдут нужный товар</td>\n",
       "      <td>1.12</td>\n",
       "    </tr>\n",
       "    <tr>\n",
       "      <th>4</th>\n",
       "      <td>Изменить цвет фона главной страницы, чтобы увеличить вовлеченность пользователей</td>\n",
       "      <td>1.00</td>\n",
       "    </tr>\n",
       "  </tbody>\n",
       "</table>\n",
       "</div>"
      ],
      "text/plain": [
       "                                                                                                     hypothesis  \\\n",
       "8  Запустить акцию, дающую скидку на товар в день рождения                                                        \n",
       "0  Добавить два новых канала привлечения трафика, что позволит привлекать на 30% больше пользователей             \n",
       "7  Добавить форму подписки на все основные страницы, чтобы собрать базу клиентов для email-рассылок               \n",
       "6  Показать на главной странице баннеры с актуальными акциями и распродажами, чтобы увеличить конверсию           \n",
       "2  Добавить блоки рекомендаций товаров на сайт интернет магазина, чтобы повысить конверсию и средний чек заказа   \n",
       "1  Запустить собственную службу доставки, что сократит срок доставки заказов                                      \n",
       "5  Добавить страницу отзывов клиентов о магазине, что позволит увеличить количество заказов                       \n",
       "3  Изменить структура категорий, что увеличит конверсию, т.к. пользователи быстрее найдут нужный товар            \n",
       "4  Изменить цвет фона главной страницы, чтобы увеличить вовлеченность пользователей                               \n",
       "\n",
       "    ICE  \n",
       "8 16.20  \n",
       "0 13.33  \n",
       "7 11.20  \n",
       "6 8.00   \n",
       "2 7.00   \n",
       "1 2.00   \n",
       "5 1.33   \n",
       "3 1.12   \n",
       "4 1.00   "
      ]
     },
     "metadata": {},
     "output_type": "display_data"
    }
   ],
   "source": [
    "hypothesis['ICE'] = hypothesis['impact'] * hypothesis['confidence'] / hypothesis['efforts']\n",
    "\n",
    "display(hypothesis[['hypothesis', 'ICE']].sort_values(by='ICE', ascending=False))"
   ]
  },
  {
   "cell_type": "markdown",
   "metadata": {},
   "source": [
    "Наиболее перспективные гипотезы по ICE 8, 0, 7."
   ]
  },
  {
   "cell_type": "markdown",
   "metadata": {},
   "source": [
    "Применим фреймворк `RICE` для приоритизации гипотез. Отсортируем их по убыванию приоритета."
   ]
  },
  {
   "cell_type": "code",
   "execution_count": 13,
   "metadata": {},
   "outputs": [
    {
     "data": {
      "text/html": [
       "<div>\n",
       "<style scoped>\n",
       "    .dataframe tbody tr th:only-of-type {\n",
       "        vertical-align: middle;\n",
       "    }\n",
       "\n",
       "    .dataframe tbody tr th {\n",
       "        vertical-align: top;\n",
       "    }\n",
       "\n",
       "    .dataframe thead th {\n",
       "        text-align: right;\n",
       "    }\n",
       "</style>\n",
       "<table border=\"1\" class=\"dataframe\">\n",
       "  <thead>\n",
       "    <tr style=\"text-align: right;\">\n",
       "      <th></th>\n",
       "      <th>hypothesis</th>\n",
       "      <th>RICE</th>\n",
       "    </tr>\n",
       "  </thead>\n",
       "  <tbody>\n",
       "    <tr>\n",
       "      <th>7</th>\n",
       "      <td>Добавить форму подписки на все основные страницы, чтобы собрать базу клиентов для email-рассылок</td>\n",
       "      <td>112.00</td>\n",
       "    </tr>\n",
       "    <tr>\n",
       "      <th>2</th>\n",
       "      <td>Добавить блоки рекомендаций товаров на сайт интернет магазина, чтобы повысить конверсию и средний чек заказа</td>\n",
       "      <td>56.00</td>\n",
       "    </tr>\n",
       "    <tr>\n",
       "      <th>0</th>\n",
       "      <td>Добавить два новых канала привлечения трафика, что позволит привлекать на 30% больше пользователей</td>\n",
       "      <td>40.00</td>\n",
       "    </tr>\n",
       "    <tr>\n",
       "      <th>6</th>\n",
       "      <td>Показать на главной странице баннеры с актуальными акциями и распродажами, чтобы увеличить конверсию</td>\n",
       "      <td>40.00</td>\n",
       "    </tr>\n",
       "    <tr>\n",
       "      <th>8</th>\n",
       "      <td>Запустить акцию, дающую скидку на товар в день рождения</td>\n",
       "      <td>16.20</td>\n",
       "    </tr>\n",
       "    <tr>\n",
       "      <th>3</th>\n",
       "      <td>Изменить структура категорий, что увеличит конверсию, т.к. пользователи быстрее найдут нужный товар</td>\n",
       "      <td>9.00</td>\n",
       "    </tr>\n",
       "    <tr>\n",
       "      <th>1</th>\n",
       "      <td>Запустить собственную службу доставки, что сократит срок доставки заказов</td>\n",
       "      <td>4.00</td>\n",
       "    </tr>\n",
       "    <tr>\n",
       "      <th>5</th>\n",
       "      <td>Добавить страницу отзывов клиентов о магазине, что позволит увеличить количество заказов</td>\n",
       "      <td>4.00</td>\n",
       "    </tr>\n",
       "    <tr>\n",
       "      <th>4</th>\n",
       "      <td>Изменить цвет фона главной страницы, чтобы увеличить вовлеченность пользователей</td>\n",
       "      <td>3.00</td>\n",
       "    </tr>\n",
       "  </tbody>\n",
       "</table>\n",
       "</div>"
      ],
      "text/plain": [
       "                                                                                                     hypothesis  \\\n",
       "7  Добавить форму подписки на все основные страницы, чтобы собрать базу клиентов для email-рассылок               \n",
       "2  Добавить блоки рекомендаций товаров на сайт интернет магазина, чтобы повысить конверсию и средний чек заказа   \n",
       "0  Добавить два новых канала привлечения трафика, что позволит привлекать на 30% больше пользователей             \n",
       "6  Показать на главной странице баннеры с актуальными акциями и распродажами, чтобы увеличить конверсию           \n",
       "8  Запустить акцию, дающую скидку на товар в день рождения                                                        \n",
       "3  Изменить структура категорий, что увеличит конверсию, т.к. пользователи быстрее найдут нужный товар            \n",
       "1  Запустить собственную службу доставки, что сократит срок доставки заказов                                      \n",
       "5  Добавить страницу отзывов клиентов о магазине, что позволит увеличить количество заказов                       \n",
       "4  Изменить цвет фона главной страницы, чтобы увеличить вовлеченность пользователей                               \n",
       "\n",
       "    RICE  \n",
       "7 112.00  \n",
       "2 56.00   \n",
       "0 40.00   \n",
       "6 40.00   \n",
       "8 16.20   \n",
       "3 9.00    \n",
       "1 4.00    \n",
       "5 4.00    \n",
       "4 3.00    "
      ]
     },
     "metadata": {},
     "output_type": "display_data"
    }
   ],
   "source": [
    "hypothesis['RICE'] = hypothesis['reach'] * hypothesis['impact'] * hypothesis['confidence'] / hypothesis['efforts']\n",
    "\n",
    "display(hypothesis[['hypothesis', 'RICE']].sort_values(by='RICE', ascending=False))"
   ]
  },
  {
   "cell_type": "markdown",
   "metadata": {},
   "source": [
    "Наиболее перспективные гипотезы по RICE 7, 2, 0."
   ]
  },
  {
   "cell_type": "markdown",
   "metadata": {},
   "source": [
    "**Вывод**\n",
    "\n",
    "Гипотезы 7 и 0 остались в ТОП-3 при изменении фреймворка для приоретизации гипотез. То есть, добавление формы подписки на все основные страницы и доавбление 2 новых канала привлечения трафика. Гипотеза 7 выбилась вперед за счет количества пользователей, которых затронет данное изменение, также параметр reach у 7 гипотезы составляет 10, в то время как у других гипотез он меньше. С акцией ко дню рождения получилось так, что она затронет людей только в определенный день, поэтому она опустилась при RICE. "
   ]
  },
  {
   "cell_type": "markdown",
   "metadata": {},
   "source": [
    "## Часть 2. Анализ A/B-теста"
   ]
  },
  {
   "cell_type": "markdown",
   "metadata": {},
   "source": [
    "Необходимо проанализировать результаты тестирования, содражащихся в таблицах `orders` и в `visitors`."
   ]
  },
  {
   "cell_type": "markdown",
   "metadata": {},
   "source": [
    "### Кумулятивная выручка"
   ]
  },
  {
   "cell_type": "markdown",
   "metadata": {},
   "source": [
    "Построим график кумулятивной выручки по группам"
   ]
  },
  {
   "cell_type": "code",
   "execution_count": 14,
   "metadata": {},
   "outputs": [
    {
     "data": {
      "image/png": "[encoded data removed]",
      "text/plain": [
       "<Figure size 1296x432 with 1 Axes>"
      ]
     },
     "metadata": {
      "needs_background": "light"
     },
     "output_type": "display_data"
    }
   ],
   "source": [
    "datesGroups = orders[['date','group']].drop_duplicates()\n",
    "\n",
    "ordersAggregated = datesGroups.apply(lambda x: orders[np.logical_and(orders['date'] <= x['date'], \n",
    "                                                                     orders['group'] == x['group'])].agg({'date' : 'max', \n",
    "                                                                                                          'group' : 'max', \n",
    "                                                                                                          'transaction_id' : 'nunique', \n",
    "                                                                                                          'visitor_id' : 'nunique', \n",
    "                                                                                                          'revenue' : 'sum'}), axis=1).sort_values(by=['date','group'])\n",
    "\n",
    "\n",
    "ordersAggregated.pivot_table(index='date', \n",
    "                             columns='group', \n",
    "                             values='revenue', \n",
    "                             aggfunc='sum').plot(grid=True, \n",
    "                                                 figsize=(18, 6));\n",
    "\n",
    "plt.ylabel('Сумма покупок, у.е.')\n",
    "plt.xlabel('Дата покупки')\n",
    "plt.title('Динамика кумулятивной выручки по дням')\n",
    "plt.show()"
   ]
  },
  {
   "cell_type": "markdown",
   "metadata": {},
   "source": [
    "По графику можно наблюдать повышение выручки по обеим группам на протяжении всего тестирования. Примерно с 18 августа выручка по группе B резко возрасла. Так как выручка - это произведение количества продаж на стоимость товаров, то такой всплеск может свидетельствовать о наличии крупных заказов (по стоимости) или о увеличении количества покупаемых товаров."
   ]
  },
  {
   "cell_type": "markdown",
   "metadata": {},
   "source": [
    "### Кумулятивный средний чек"
   ]
  },
  {
   "cell_type": "markdown",
   "metadata": {},
   "source": [
    "Построим график кумулятивного среднего чека по группам"
   ]
  },
  {
   "cell_type": "code",
   "execution_count": 15,
   "metadata": {},
   "outputs": [
    {
     "data": {
      "image/png": "[encoded data removed]",
      "text/plain": [
       "<Figure size 1296x432 with 1 Axes>"
      ]
     },
     "metadata": {
      "needs_background": "light"
     },
     "output_type": "display_data"
    }
   ],
   "source": [
    "# получаем агрегированные кумулятивные по дням данные о посетителях\n",
    "visitorsAggregated = datesGroups.apply(lambda x: visitors[np.logical_and(visitors['date'] <= x['date'], \n",
    "                                                                         visitors['group'] == x['group'])].agg({'date' : 'max', \n",
    "                                                                                                                'group' : 'max', \n",
    "                                                                                                                'visitors' : 'sum'}), axis=1).sort_values(by=['date','group'])\n",
    "\n",
    "# объединяем кумулятивные данные в одной таблице и присваиваем ее столбцам понятные названия\n",
    "cumulativeData = ordersAggregated.merge(visitorsAggregated, left_on=['date', 'group'], right_on=['date', 'group'])\n",
    "cumulativeData.columns = ['date', 'group', 'orders', 'buyers', 'revenue', 'visitors']\n",
    "\n",
    "cumulativeData['avg_bill'] = cumulativeData['revenue'] / cumulativeData['orders']\n",
    "\n",
    "# построим график динамики среднего чека\n",
    "cumulativeData.pivot_table(index='date', \n",
    "                           columns='group', \n",
    "                           values='avg_bill', \n",
    "                           aggfunc='sum').plot(grid=True, \n",
    "                                               figsize=(18, 6));\n",
    "\n",
    "plt.ylabel('Средний чек, у.е.')\n",
    "plt.xlabel('Дата покупки')\n",
    "plt.title('Динамика кумулятивного среднего чека по дням')\n",
    "plt.show();"
   ]
  },
  {
   "cell_type": "markdown",
   "metadata": {},
   "source": [
    "В начале тестирования средний чек группы А превышал средний чек группы В, однако примерно после 1 августа 2019 года средний чек группы B превышал аналогичный показатель группы A на рассматриваемом интервале, за исключением периода возле 13 августа - средний чек группы A снова был выше, чем у группы B. При этом, до 6 августа динамика по группе A была отрицательной. Далее наблюдался резкий рост среднего чека группы B, которыйдо конца эксперимента значительно превышал показатель по группе A.\n",
    "\n",
    "Возможно, что всплеск по группе B был связан с ростом количества заказов или их стоимости (дорогие заказы)."
   ]
  },
  {
   "cell_type": "markdown",
   "metadata": {},
   "source": [
    "### Относительное изменение кумулятивного среднего чека"
   ]
  },
  {
   "cell_type": "markdown",
   "metadata": {},
   "source": [
    "Построим график относительного изменения кумулятивного среднего чека группы B к группе A"
   ]
  },
  {
   "cell_type": "code",
   "execution_count": 16,
   "metadata": {},
   "outputs": [
    {
     "data": {
      "image/png": "[encoded data removed]",
      "text/plain": [
       "<Figure size 1296x432 with 1 Axes>"
      ]
     },
     "metadata": {
      "needs_background": "light"
     },
     "output_type": "display_data"
    }
   ],
   "source": [
    "# мерджим таблицы\n",
    "agg_data = cumulativeData.query('group == \"A\"').merge(cumulativeData.query('group == \"B\"'),\n",
    "                                                      left_on='date', \n",
    "                                                      right_on='date', \n",
    "                                                      how='left', \n",
    "                                                      suffixes=['A', 'B'])\n",
    "\n",
    "# рисуем отношение средних чеков\n",
    "plt.figure(figsize=(18,6))\n",
    "plt.plot(agg_data['date'], (agg_data['avg_billB'])/(agg_data['avg_billA'])-1)\n",
    "plt.xlabel('Дата покупки')\n",
    "plt.title('Динамика относительного изменения кумулятивного среднего чека')\n",
    "\n",
    "# добавляем ось X\n",
    "plt.axhline(y=0, color='black', linestyle='--');"
   ]
  },
  {
   "cell_type": "markdown",
   "metadata": {},
   "source": [
    "С начала эксперимента минимальное значение параметр принимал 13 августа. Крупный скачок пришелся на 20 августа. Предположение то же - крупная покупка или стремительный рост объемов заказов."
   ]
  },
  {
   "cell_type": "markdown",
   "metadata": {},
   "source": [
    "### Кумулятивное среднее количество заказов на посетителя"
   ]
  },
  {
   "cell_type": "markdown",
   "metadata": {},
   "source": [
    "Построим график кумулятивного среднего количества заказов на посетителя по группам. Будем считать данную метрику, как конверсия."
   ]
  },
  {
   "cell_type": "code",
   "execution_count": 17,
   "metadata": {},
   "outputs": [
    {
     "data": {
      "image/png": "[encoded data removed]",
      "text/plain": [
       "<Figure size 1296x432 with 1 Axes>"
      ]
     },
     "metadata": {
      "needs_background": "light"
     },
     "output_type": "display_data"
    }
   ],
   "source": [
    "cumulativeData['conversion'] = cumulativeData['orders'] / cumulativeData['visitors']\n",
    "\n",
    "# построим график динамики конверсии чека\n",
    "cumulativeData.pivot_table(index='date', \n",
    "                           columns='group', \n",
    "                           values='conversion', \n",
    "                           aggfunc='sum').plot(grid=True, \n",
    "                                               figsize=(18, 6));\n",
    "\n",
    "plt.ylabel('Конверсия')\n",
    "plt.xlabel('Дата покупки')\n",
    "plt.title('Динамика кумулятивного среднего количества заказов на посетителя по дням')\n",
    "plt.show();"
   ]
  },
  {
   "cell_type": "markdown",
   "metadata": {},
   "source": [
    "В начале экспериента конверсия у двух групп отличалась. Примерно после 6 августа и до конца исследования конверсия группы B превышала конверсию группы A. К концу эксперимента конверсия начала падать у обеих групп."
   ]
  },
  {
   "cell_type": "markdown",
   "metadata": {},
   "source": [
    "### Относительное изменение кумулятивного среднего количества заказов"
   ]
  },
  {
   "cell_type": "markdown",
   "metadata": {},
   "source": [
    "Построим график относительного изменения кумулятивного среднего количества заказов на посетителя группы B к группе A."
   ]
  },
  {
   "cell_type": "code",
   "execution_count": 18,
   "metadata": {},
   "outputs": [
    {
     "data": {
      "image/png": "[encoded data removed]",
      "text/plain": [
       "<Figure size 1296x432 with 1 Axes>"
      ]
     },
     "metadata": {
      "needs_background": "light"
     },
     "output_type": "display_data"
    }
   ],
   "source": [
    "# мерджим таблицы\n",
    "agg_data = cumulativeData.query('group == \"A\"').merge(cumulativeData.query('group == \"B\"'),\n",
    "                                                      left_on='date', \n",
    "                                                      right_on='date', \n",
    "                                                      how='left', \n",
    "                                                      suffixes=['A', 'B'])\n",
    "\n",
    "# рисуем отношение средних чеков\n",
    "plt.figure(figsize=(18,6))\n",
    "plt.plot(agg_data['date'], (agg_data['conversionB'])/(agg_data['conversionA'])-1)\n",
    "plt.xlabel('Дата')\n",
    "plt.title('Динамика относительного изменения кумулятивного среднего количества заказов')\n",
    "\n",
    "plt.axhline(y=0, color='black', linestyle='--')\n",
    "plt.axhline(y=0.15, color='grey', linestyle='--');"
   ]
  },
  {
   "cell_type": "markdown",
   "metadata": {},
   "source": [
    "Отношение среднего количества заказов стабилизируется примерно после 9 августа (фиксируется вокруг прироста 15%). Группа B лидирует."
   ]
  },
  {
   "cell_type": "markdown",
   "metadata": {},
   "source": [
    "### Количество заказов по пользователям"
   ]
  },
  {
   "cell_type": "markdown",
   "metadata": {},
   "source": [
    "Построим точечный график количества заказов по пользователям."
   ]
  },
  {
   "cell_type": "code",
   "execution_count": 19,
   "metadata": {},
   "outputs": [
    {
     "data": {
      "image/png": "[encoded data removed]",
      "text/plain": [
       "<Figure size 1296x432 with 1 Axes>"
      ]
     },
     "metadata": {
      "needs_background": "light"
     },
     "output_type": "display_data"
    }
   ],
   "source": [
    "user_orders = orders.pivot_table(index='visitor_id', \n",
    "                                 values='transaction_id', \n",
    "                                 aggfunc='count').reset_index().sort_values(by='transaction_id', \n",
    "                                                                            ascending=False)\n",
    "\n",
    "user_orders.plot(x='visitor_id', y='transaction_id', kind='scatter', figsize=(18,6), alpha=0.3)\n",
    "plt.xlabel('Посетители')\n",
    "plt.ylabel('Количество заказов')\n",
    "plt.title('Распределение количества заказов по посетителям')\n",
    "plt.show()"
   ]
  },
  {
   "cell_type": "markdown",
   "metadata": {},
   "source": [
    "Большинство посетителей совершили минимум одну покупку. Меньше посетителей совершили 2, 3 и более покупок (заказов). Также по графику можно наблюдать выбросы (пользователи, совершившие более трех покупок)."
   ]
  },
  {
   "cell_type": "markdown",
   "metadata": {},
   "source": [
    "### Граница для определения аномальных пользователей"
   ]
  },
  {
   "cell_type": "markdown",
   "metadata": {},
   "source": [
    "Посчитаем 95-й и 99-й перцентили количества заказов на пользователя и выберем границу для определения аномальных заказов."
   ]
  },
  {
   "cell_type": "code",
   "execution_count": 20,
   "metadata": {},
   "outputs": [
    {
     "data": {
      "text/plain": [
       "count   1031.00\n",
       "mean    1.16   \n",
       "std     0.72   \n",
       "min     1.00   \n",
       "1%      1.00   \n",
       "5%      1.00   \n",
       "50%     1.00   \n",
       "90%     1.00   \n",
       "95%     2.00   \n",
       "99%     4.00   \n",
       "max     11.00  \n",
       "Name: transaction_id, dtype: float64"
      ]
     },
     "execution_count": 20,
     "metadata": {},
     "output_type": "execute_result"
    }
   ],
   "source": [
    "user_orders['transaction_id'].describe(percentiles=[0.01, 0.05, 0.50, 0.90, 0.95, 0.99])"
   ]
  },
  {
   "cell_type": "markdown",
   "metadata": {},
   "source": [
    "Из описательной статистики видно, 95 перцентиль составляет 2, а 99-й - 4. Это означает, что примерно 10% посетителей сделали более 1 заказа. Максимальное количество заказов - 11. Будем считать, что более 1-го заказа - аномалия."
   ]
  },
  {
   "cell_type": "code",
   "execution_count": 21,
   "metadata": {},
   "outputs": [
    {
     "name": "stdout",
     "output_type": "stream",
     "text": [
      "9.12%\n"
     ]
    }
   ],
   "source": [
    "# Доля выбросов\n",
    "print('{:.2%}'.format(len(user_orders.query('transaction_id > 1'))/len(user_orders)))"
   ]
  },
  {
   "cell_type": "markdown",
   "metadata": {},
   "source": [
    "### График стоимостей заказов"
   ]
  },
  {
   "cell_type": "markdown",
   "metadata": {},
   "source": [
    "Построим точечный график стоимостей заказов"
   ]
  },
  {
   "cell_type": "code",
   "execution_count": 22,
   "metadata": {},
   "outputs": [
    {
     "data": {
      "image/png": "[encoded data removed]",
      "text/plain": [
       "<Figure size 1296x432 with 1 Axes>"
      ]
     },
     "metadata": {
      "needs_background": "light"
     },
     "output_type": "display_data"
    }
   ],
   "source": [
    "revenue_group = orders.pivot_table(index='visitor_id', \n",
    "                                   values='revenue', \n",
    "                                   aggfunc='sum').reset_index().sort_values(by='revenue',\n",
    "                                                                            ascending=False)\n",
    "\n",
    "revenue_group.plot(x='visitor_id', y='revenue', kind='scatter', figsize=(18,6), alpha=0.5)\n",
    "plt.xlabel('Посетители')\n",
    "plt.ylabel('Стоимость заказов')\n",
    "plt.title('Распределение стоимости заказов по посетителям')\n",
    "plt.show()"
   ]
  },
  {
   "cell_type": "markdown",
   "metadata": {},
   "source": [
    "По графику можно увидеть, что есть выбросы, однако более точную информацию о распределении получим из описательной статистики стоимости заказов."
   ]
  },
  {
   "cell_type": "markdown",
   "metadata": {},
   "source": [
    "### Граница для определения аномальных стоимостей заказов"
   ]
  },
  {
   "cell_type": "code",
   "execution_count": 23,
   "metadata": {},
   "outputs": [
    {
     "data": {
      "text/plain": [
       "count   1031.00   \n",
       "mean    9692.11   \n",
       "std     42984.48  \n",
       "min     50.00     \n",
       "1%      100.00    \n",
       "5%      350.00    \n",
       "50%     3250.00   \n",
       "90%     19260.00  \n",
       "95%     32899.50  \n",
       "99%     67750.00  \n",
       "max     1294500.00\n",
       "Name: revenue, dtype: float64"
      ]
     },
     "execution_count": 23,
     "metadata": {},
     "output_type": "execute_result"
    }
   ],
   "source": [
    "revenue_group['revenue'].describe(percentiles=[0.01, 0.05, 0.50, 0.90, 0.95, 0.99])"
   ]
  },
  {
   "cell_type": "markdown",
   "metadata": {},
   "source": [
    "Из описательной статистики видно, 95 перцентиль составляет 32899.50 у.е., а 99-й - 67750.00 у.е. Самый дорогой заказ - 1294500.00 у.е. Возможно, эти заказы и есть резкие скачки на графиках. За аномальные заказы можем считать те, стоимость которых выше 33000 у.е."
   ]
  },
  {
   "cell_type": "markdown",
   "metadata": {},
   "source": [
    "### Статистическая значимость различий в среднем количестве заказов"
   ]
  },
  {
   "cell_type": "markdown",
   "metadata": {},
   "source": [
    "Посчитаем статистическую значимость различий в среднем количестве заказов на посетителя между группами по «сырым» данным."
   ]
  },
  {
   "cell_type": "markdown",
   "metadata": {},
   "source": [
    "Займемся подготовкой \"сырых\" данных"
   ]
  },
  {
   "cell_type": "code",
   "execution_count": 24,
   "metadata": {},
   "outputs": [],
   "source": [
    "# группа A\n",
    "visitorsADaily = visitors[visitors['group'] == 'A'][['date', 'visitors']]\n",
    "visitorsADaily.columns = ['date', 'visitorsPerDateA']\n",
    "\n",
    "# Выведем столбец с накоплением посещений по дням\n",
    "visitorsACummulative = visitorsADaily.apply(\n",
    "    lambda x: visitorsADaily[visitorsADaily['date'] <= x['date']].agg(\n",
    "        {'date': 'max', 'visitorsPerDateA': 'sum'}),  axis=1,)\n",
    "\n",
    "visitorsACummulative.columns = ['date', 'visitorsCummulativeA']"
   ]
  },
  {
   "cell_type": "code",
   "execution_count": 25,
   "metadata": {},
   "outputs": [],
   "source": [
    "# Группа B\n",
    "visitorsBDaily = visitors[visitors['group'] == 'B'][['date', 'visitors']]\n",
    "visitorsBDaily.columns = ['date', 'visitorsPerDateB']\n",
    "\n",
    "# Выведем столбец с накоплением посещений по дням\n",
    "visitorsBCummulative = visitorsBDaily.apply(\n",
    "    lambda x: visitorsBDaily[visitorsBDaily['date'] <= x['date']].agg(\n",
    "        {'date': 'max', 'visitorsPerDateB': 'sum'}), axis=1,)\n",
    "\n",
    "visitorsBCummulative.columns = ['date', 'visitorsCummulativeB']"
   ]
  },
  {
   "cell_type": "code",
   "execution_count": 26,
   "metadata": {},
   "outputs": [],
   "source": [
    "# Количество заказов и выручка по дням группы A\n",
    "ordersADaily = (\n",
    "    orders[orders['group'] == 'A'][['date', 'transaction_id', 'visitor_id', 'revenue']]\n",
    "    .groupby('date', as_index=False)\n",
    "    .agg({'transaction_id': pd.Series.nunique, 'revenue': 'sum'}))\n",
    "\n",
    "ordersADaily.columns = ['date', 'ordersPerDateA', 'revenuePerDateA']\n",
    "\n",
    "# Кумулятивное кол-во заказов и выручка по дням группы A\n",
    "ordersACummulative = ordersADaily.apply(\n",
    "    lambda x: ordersADaily[ordersADaily['date'] <= x['date']].agg(\n",
    "        {'date': 'max', 'ordersPerDateA': 'sum', 'revenuePerDateA': 'sum'}), axis=1).sort_values(by=['date'])\n",
    "\n",
    "ordersACummulative.columns = ['date', 'ordersCummulativeA', 'revenueCummulativeA']"
   ]
  },
  {
   "cell_type": "code",
   "execution_count": 27,
   "metadata": {},
   "outputs": [],
   "source": [
    "# Количество заказов и выручка по дням группы B\n",
    "ordersBDaily = (\n",
    "    orders[orders['group'] == 'B'][['date', 'transaction_id', 'visitor_id', 'revenue']]\n",
    "    .groupby('date', as_index=False)\n",
    "    .agg({'transaction_id': pd.Series.nunique, 'revenue': 'sum'}))\n",
    "\n",
    "ordersBDaily.columns = ['date', 'ordersPerDateB', 'revenuePerDateB']\n",
    "\n",
    "# Кумулятивное кол-во заказов и выручка по дням группы B\n",
    "ordersBCummulative = ordersBDaily.apply(\n",
    "    lambda x: ordersBDaily[ordersBDaily['date'] <= x['date']].agg(\n",
    "        {'date': 'max', 'ordersPerDateB': 'sum', 'revenuePerDateB': 'sum'}), axis=1).sort_values(by=['date'])\n",
    "\n",
    "ordersBCummulative.columns = ['date', 'ordersCummulativeB', 'revenueCummulativeB']"
   ]
  },
  {
   "cell_type": "code",
   "execution_count": 28,
   "metadata": {},
   "outputs": [],
   "source": [
    "data = (\n",
    "    ordersADaily.merge(\n",
    "        ordersBDaily, left_on='date', right_on='date', how='left'\n",
    "    )\n",
    "    .merge(ordersACummulative, left_on='date', right_on='date', how='left')\n",
    "    .merge(ordersBCummulative, left_on='date', right_on='date', how='left')\n",
    "    .merge(visitorsADaily, left_on='date', right_on='date', how='left')\n",
    "    .merge(visitorsBDaily, left_on='date', right_on='date', how='left')\n",
    "    .merge(visitorsACummulative, left_on='date', right_on='date', how='left')\n",
    "    .merge(visitorsBCummulative, left_on='date', right_on='date', how='left')\n",
    ")"
   ]
  },
  {
   "cell_type": "code",
   "execution_count": 29,
   "metadata": {},
   "outputs": [],
   "source": [
    "ordersByUsersA = (\n",
    "    orders[orders['group'] == 'A']\n",
    "    .groupby('visitor_id', as_index=False)\n",
    "    .agg({'transaction_id': pd.Series.nunique}))\n",
    "\n",
    "ordersByUsersA.columns = ['visitor_id', 'orders']\n",
    "\n",
    "ordersByUsersB = (\n",
    "    orders[orders['group'] == 'B']\n",
    "    .groupby('visitor_id', as_index=False)\n",
    "    .agg({'transaction_id': pd.Series.nunique}))\n",
    "\n",
    "ordersByUsersB.columns = ['visitor_id', 'orders']"
   ]
  },
  {
   "cell_type": "code",
   "execution_count": 30,
   "metadata": {},
   "outputs": [],
   "source": [
    "sampleA = pd.concat([ordersByUsersA['orders'],pd.Series(0, index=np.arange(data['visitorsPerDateA'].sum() - len(ordersByUsersA['orders'])), name='orders')],axis=0)\n",
    "\n",
    "sampleB = pd.concat([ordersByUsersB['orders'],pd.Series(0, index=np.arange(data['visitorsPerDateB'].sum() - len(ordersByUsersB['orders'])), name='orders')],axis=0)"
   ]
  },
  {
   "cell_type": "markdown",
   "metadata": {},
   "source": [
    "Данные подготовлены, сформулируем гипотезы:\n",
    "\n",
    "- **H0**: различий в среднем количестве заказов между группами нет.\n",
    "- **H1**: различия в среднем количестве заказов между группами есть."
   ]
  },
  {
   "cell_type": "code",
   "execution_count": 31,
   "metadata": {},
   "outputs": [
    {
     "name": "stdout",
     "output_type": "stream",
     "text": [
      "p-value: 0.017\n",
      "относительный выигрыш группы B: 0.138\n",
      "-----\n",
      "Среднее количество заказов в группе A: 1.11\n",
      "Среднее количество заказов в группе B: 1.09\n"
     ]
    }
   ],
   "source": [
    "print('p-value:', \"{0:.3f}\".format(stats.mannwhitneyu(sampleA, sampleB)[1]))\n",
    "print('относительный выигрыш группы B:', \"{0:.3f}\".format(sampleB.mean() / sampleA.mean() - 1))\n",
    "\n",
    "print('-----')\n",
    "print('Среднее количество заказов в группе A:', round(ordersByUsersA['orders'].mean(), 2))\n",
    "print('Среднее количество заказов в группе B:', round(ordersByUsersB['orders'].mean(), 2))"
   ]
  },
  {
   "cell_type": "markdown",
   "metadata": {},
   "source": [
    "По сырым данным различия в среднем числе заказов групп A и B присутствуют.\n",
    "p-value = 0.017 < 0.05. Следовательно, нулевую гипотезу **H0** о том, что статистически значимых различий в среднем числе заказов между группами нет, отвергаем. Относительный выигрыш группы B составил <i>13,8%</i>."
   ]
  },
  {
   "cell_type": "markdown",
   "metadata": {},
   "source": [
    "### Статистическая значимость различий в среднем чеке"
   ]
  },
  {
   "cell_type": "markdown",
   "metadata": {},
   "source": [
    "Посчитаем статистическую значимость различий в среднем чеке заказа между группами по «сырым» данным. Сформулируем гипотезы:\n",
    "\n",
    "- **H0**: различий в среднем чеке между группами нет.\n",
    "- **H1**: различия в среднем чеке между группами есть."
   ]
  },
  {
   "cell_type": "code",
   "execution_count": 32,
   "metadata": {},
   "outputs": [
    {
     "name": "stdout",
     "output_type": "stream",
     "text": [
      "p-value: 0.729\n",
      "относительный выигрыш группы B: 0.259\n",
      "-----\n",
      "Средний чек в группе A: 7333.58\n",
      "Средний чек в группе B: 9230.88\n"
     ]
    }
   ],
   "source": [
    "print('p-value:', '{0:.3f}'.format(stats.mannwhitneyu(orders[orders['group']=='A']['revenue'], orders[orders['group']=='B']['revenue'])[1]))\n",
    "print('относительный выигрыш группы B:', '{0:.3f}'.format(orders[orders['group']=='B']['revenue'].mean()/orders[orders['group']=='A']['revenue'].mean()-1))\n",
    "\n",
    "print('-----')\n",
    "print('Средний чек в группе A:', round(orders[orders['group']=='A']['revenue'].mean(), 2))\n",
    "print('Средний чек в группе B:', round(orders[orders['group']=='B']['revenue'].mean(), 2))"
   ]
  },
  {
   "cell_type": "markdown",
   "metadata": {},
   "source": [
    "P-value значительно выше 0.05 => нулевую гипотезу не отвергаем. Наблюдаемое различие не значимо, так как получено случайно из-за единичных выбросов"
   ]
  },
  {
   "cell_type": "markdown",
   "metadata": {},
   "source": [
    "### Статистическая значимость различий в среднем количестве заказов"
   ]
  },
  {
   "cell_type": "markdown",
   "metadata": {},
   "source": [
    "Посчитаем статистическую значимость различий в среднем количестве заказов на посетителя между группами по «очищенным» данным. Как мы условились ранее, аномальное количество заказов - более 1-го заказа и аномальная стоимость заказов - более 33 тыс. у.е. Так мы уберем 5% посетителей с наибольшей стоимостью заказов и 10% с наибольшим числом заказов."
   ]
  },
  {
   "cell_type": "code",
   "execution_count": 33,
   "metadata": {},
   "outputs": [
    {
     "name": "stdout",
     "output_type": "stream",
     "text": [
      "1099    148427295\n",
      "18      199603092\n",
      "928     204675465\n",
      "23      237748145\n",
      "37      249864742\n",
      "Name: visitor_id, dtype: int64\n",
      "\n",
      "Количество аномальных пользователей: 98\n"
     ]
    }
   ],
   "source": [
    "# срез посетителей с числом заказов более 1\n",
    "usersWithManyOrders = pd.concat([ordersByUsersA[ordersByUsersA['orders'] > 1]['visitor_id'],\n",
    "                                 ordersByUsersB[ordersByUsersB['orders'] > 1]['visitor_id']],\n",
    "                                axis=0)\n",
    "\n",
    "usersWithExpensiveOrders = orders[orders['revenue'] > 33000]['visitor_id']\n",
    "\n",
    "abnormalUsers = (pd.concat([usersWithManyOrders, usersWithExpensiveOrders], axis=0)\n",
    "                .drop_duplicates()\n",
    "                .sort_values())\n",
    "\n",
    "print(abnormalUsers.head(5))\n",
    "print('')\n",
    "print('Количество аномальных пользователей:', abnormalUsers.shape[0])"
   ]
  },
  {
   "cell_type": "markdown",
   "metadata": {},
   "source": [
    "Всего 98 аномальных посетителей. Посмотрим, как их действия повлияли на результаты тестирования. Также, как и в п. 5.10 подготовим данные по группам теста."
   ]
  },
  {
   "cell_type": "code",
   "execution_count": 34,
   "metadata": {},
   "outputs": [],
   "source": [
    "# статичтическая значимость различий в среднем кол-ве заказов\n",
    "\n",
    "sampleAFiltered = pd.concat(\n",
    "    [ordersByUsersA[np.logical_not(ordersByUsersA['visitor_id'].isin(abnormalUsers))]['orders'],\n",
    "     pd.Series(0, index=np.arange(data['visitorsPerDateA'].sum() - len(ordersByUsersA['orders'])),\n",
    "               name='orders')], axis=0)\n",
    "\n",
    "sampleBFiltered = pd.concat(\n",
    "    [ordersByUsersB[np.logical_not(ordersByUsersB['visitor_id'].isin(abnormalUsers))]['orders'],\n",
    "     pd.Series(0, index=np.arange(data['visitorsPerDateB'].sum() - len(ordersByUsersB['orders'])), \n",
    "               name='orders')], axis=0)"
   ]
  },
  {
   "cell_type": "markdown",
   "metadata": {},
   "source": [
    "Применим статистический критерий Манна-Уитни к полученным выборкам"
   ]
  },
  {
   "cell_type": "code",
   "execution_count": 35,
   "metadata": {
    "scrolled": true
   },
   "outputs": [
    {
     "name": "stdout",
     "output_type": "stream",
     "text": [
      "p-value: 0.014\n",
      "относительный выигрыш группы B: 0.170\n"
     ]
    }
   ],
   "source": [
    "print('p-value:', '{0:.3f}'.format(stats.mannwhitneyu(sampleAFiltered, sampleBFiltered)[1]))\n",
    "print('относительный выигрыш группы B:', '{0:.3f}'.format(sampleBFiltered.mean()/sampleAFiltered.mean()-1))"
   ]
  },
  {
   "cell_type": "markdown",
   "metadata": {},
   "source": [
    "Результаты не сильно отличаются: p-value < 0.05. Следовательно, **H0** (гипотеза о том, что различий в среднем количестве заказов между группами нет) отвергаем. Относительный выигрыш группы B увеличился на 3.2 *п.п.* и стал равен 17%. Почти без изменений."
   ]
  },
  {
   "cell_type": "markdown",
   "metadata": {},
   "source": [
    "### Статистическая значимость различий в среднем чеке"
   ]
  },
  {
   "cell_type": "markdown",
   "metadata": {},
   "source": [
    "Посчитаем статистическую значимость различий в среднем чеке заказа между группами по «очищенным» данным."
   ]
  },
  {
   "cell_type": "code",
   "execution_count": 36,
   "metadata": {},
   "outputs": [
    {
     "name": "stdout",
     "output_type": "stream",
     "text": [
      "p-value: 0.926\n",
      "относительный выигрыш группы B: 0.014\n"
     ]
    }
   ],
   "source": [
    "print('p-value:', \n",
    "    '{0:.3f}'.format(\n",
    "        stats.mannwhitneyu(\n",
    "            orders[\n",
    "                np.logical_and(\n",
    "                    orders['group'] == 'A',\n",
    "                    np.logical_not(orders['visitor_id'].isin(abnormalUsers)),\n",
    "                )\n",
    "            ]['revenue'],\n",
    "            orders[\n",
    "                np.logical_and(\n",
    "                    orders['group'] == 'B',\n",
    "                    np.logical_not(orders['visitor_id'].isin(abnormalUsers)),\n",
    "                )\n",
    "            ]['revenue'],\n",
    "        )[1]\n",
    "    )\n",
    ")\n",
    "\n",
    "print('относительный выигрыш группы B:', \n",
    "    \"{0:.3f}\".format(\n",
    "        orders[\n",
    "            np.logical_and(\n",
    "                orders['group'] == 'B',\n",
    "                np.logical_not(orders['visitor_id'].isin(abnormalUsers)),\n",
    "            )\n",
    "        ]['revenue'].mean()\n",
    "        / orders[\n",
    "            np.logical_and(\n",
    "                orders['group'] == 'A',\n",
    "                np.logical_not(orders['visitor_id'].isin(abnormalUsers)),\n",
    "            )\n",
    "        ]['revenue'].mean()\n",
    "        - 1\n",
    "    )\n",
    ")"
   ]
  },
  {
   "cell_type": "markdown",
   "metadata": {},
   "source": [
    "P-value увеличился на 19,7 п.п., однако все еще значительно выше 0.05, поэтому **H0** не отвергаем (в среднем чеке нет различий). Разница между сегментами сократилась с 0.259 до 0.014."
   ]
  },
  {
   "cell_type": "markdown",
   "metadata": {},
   "source": [
    "### Решение по результатам теста"
   ]
  },
  {
   "cell_type": "markdown",
   "metadata": {},
   "source": [
    "Построим график относительного изменения кумулятивного среднего чека группы B к группе A по очищенным данным (аналогично п.5.3)"
   ]
  },
  {
   "cell_type": "code",
   "execution_count": 37,
   "metadata": {},
   "outputs": [
    {
     "data": {
      "image/png": "[encoded data removed]",
      "text/plain": [
       "<Figure size 1296x432 with 1 Axes>"
      ]
     },
     "metadata": {
      "needs_background": "light"
     },
     "output_type": "display_data"
    }
   ],
   "source": [
    "# получаем очищенную таблицу orders_filtered\n",
    "orders_filtered = orders.query('not visitor_id in @abnormalUsers')\n",
    "\n",
    "datesGroups = orders_filtered[['date','group']].drop_duplicates()\n",
    "\n",
    "# строим кумулятивную таблицу ordersAggregated\n",
    "ordersAggregated = datesGroups.apply(lambda x: orders_filtered[np.logical_and(orders_filtered['date'] <= x['date'], \n",
    "                                                                     orders_filtered['group'] == x['group'])].agg({'date' : 'max',\n",
    "                                                                                                                   'group' : 'max',\n",
    "                                                                                                                   'transaction_id' : 'nunique',\n",
    "                                                                                                                   'visitor_id' : 'nunique',\n",
    "                                                                                                                   'revenue' : 'sum'}), axis=1).sort_values(by=['date','group'])\n",
    "\n",
    "# добавим столбец со значением среднего чека\n",
    "ordersAggregated['avg_bill'] = ordersAggregated['revenue'] / ordersAggregated['transaction_id']\n",
    "\n",
    "agg_data = ordersAggregated.query('group == \"A\"').merge(ordersAggregated.query('group == \"B\"'),\n",
    "                                                      left_on='date', \n",
    "                                                      right_on='date', \n",
    "                                                      how='left', \n",
    "                                                      suffixes=['A', 'B'])\n",
    "\n",
    "# рисуем отношение средних чеков\n",
    "plt.figure(figsize=(18,6))\n",
    "plt.plot(agg_data['date'], (agg_data['avg_billB'])/(agg_data['avg_billA'])-1)\n",
    "plt.xlabel('Дата покупки')\n",
    "plt.title('Динамика относительного изменения кумулятивного среднего чека')\n",
    "\n",
    "# добавляем ось X\n",
    "plt.axhline(y=0, color='black', linestyle='--');"
   ]
  },
  {
   "cell_type": "markdown",
   "metadata": {},
   "source": [
    "Без аномальных данных график \"выпрямился\", скачок сглажен. График говорит о том, что результаты группы B с начала теста првышали результаты группы A, однако со временем к концу теста относительное изменение среднего чека колеблется возле нулевой границы. \n",
    "\n",
    "Исходя из обнаруженных фактов целесобразно **остановить тест**: \n",
    "- Замечен прирост среднего количества заказов по группе B,\n",
    "- На прирост среднего чека гипотеза не повлияла, нет значительной тенденции к улучшунию."
   ]
  },
  {
   "cell_type": "markdown",
   "metadata": {},
   "source": [
    "## Вывод\n",
    "\n",
    "Нам были предоставлены качественные данные: отсутствовали пропуски, дубликаты. На этапе предобработки привели данные с датами к корректному типу, заголовки столбцов к общепринятому формату.\n",
    "\n",
    "**Приоритезация гипотез**\n",
    "- Наиболее перспективная гипотеза по `ICE`: Запустить акцию, дающую скидку на товар в день рождения\n",
    "- Наиболее перспективная гипотеза по `RICE`: Добавить форму подписки на все основные страницы, чтобы собрать базу клиентов для email-рассылок\n",
    "\n",
    "**Результаты A/B теста**:\n",
    "- Наблюдается статистически значимое различие между группами по среднему количеству заказов (по очищенным и сырым данным);\n",
    "- По \"сырым\" и \"очищенным\" данным нет статистически значимого различия по среднему чеку;\n",
    "- График различия среднего количества заказов между группами сообщает, что результаты группы B лучше группы A: имеют тенденцию к росту, либо зафиксировались около среднего значения;\n",
    "- График относительного изменения кумулятивного среднего чека к концу теста стабилизируется возле \"нулевой\" границы => различия между средними чеками в двух группам практически нет;\n",
    "- Имеются предпосылки для остановки теста: был замечен прирост среднего количества заказов по группе B, на прирост среднего чека гипотеза не повлияла."
   ]
  }
 ],
 "metadata": {
  "ExecuteTimeLog": [
   {
    "duration": 1400,
    "start_time": "2023-12-03T19:22:23.144Z"
   },
   {
    "duration": 185,
    "start_time": "2023-12-03T19:23:28.709Z"
   },
   {
    "duration": 5,
    "start_time": "2023-12-03T19:23:55.203Z"
   },
   {
    "duration": 54,
    "start_time": "2023-12-03T19:24:08.839Z"
   },
   {
    "duration": 3,
    "start_time": "2023-12-03T19:30:38.437Z"
   },
   {
    "duration": 3,
    "start_time": "2023-12-03T19:36:52.696Z"
   },
   {
    "duration": 8,
    "start_time": "2023-12-03T19:36:55.680Z"
   },
   {
    "duration": 4,
    "start_time": "2023-12-03T19:38:05.226Z"
   },
   {
    "duration": 82,
    "start_time": "2023-12-03T19:38:05.231Z"
   },
   {
    "duration": 7,
    "start_time": "2023-12-03T19:38:05.316Z"
   },
   {
    "duration": 80,
    "start_time": "2023-12-03T19:38:05.324Z"
   },
   {
    "duration": 5,
    "start_time": "2023-12-03T19:38:05.406Z"
   },
   {
    "duration": 8,
    "start_time": "2023-12-03T19:38:08.500Z"
   },
   {
    "duration": 4,
    "start_time": "2023-12-03T19:39:13.104Z"
   },
   {
    "duration": 83,
    "start_time": "2023-12-03T19:39:13.110Z"
   },
   {
    "duration": 5,
    "start_time": "2023-12-03T19:39:13.195Z"
   },
   {
    "duration": 70,
    "start_time": "2023-12-03T19:39:13.201Z"
   },
   {
    "duration": 9,
    "start_time": "2023-12-03T19:39:13.273Z"
   },
   {
    "duration": 3,
    "start_time": "2023-12-03T19:39:13.283Z"
   },
   {
    "duration": 7,
    "start_time": "2023-12-03T19:39:15.786Z"
   },
   {
    "duration": 10,
    "start_time": "2023-12-03T19:39:39.934Z"
   },
   {
    "duration": 4,
    "start_time": "2023-12-03T19:39:47.666Z"
   },
   {
    "duration": 3,
    "start_time": "2023-12-03T19:43:48.336Z"
   },
   {
    "duration": 80,
    "start_time": "2023-12-03T19:43:48.341Z"
   },
   {
    "duration": 6,
    "start_time": "2023-12-03T19:43:48.423Z"
   },
   {
    "duration": 48,
    "start_time": "2023-12-03T19:43:48.431Z"
   },
   {
    "duration": 2,
    "start_time": "2023-12-03T19:43:48.481Z"
   },
   {
    "duration": 11,
    "start_time": "2023-12-03T19:43:48.484Z"
   },
   {
    "duration": 6,
    "start_time": "2023-12-03T19:43:48.496Z"
   },
   {
    "duration": 3,
    "start_time": "2023-12-03T19:43:50.933Z"
   },
   {
    "duration": 7,
    "start_time": "2023-12-03T19:43:51.775Z"
   },
   {
    "duration": 118,
    "start_time": "2023-12-03T19:44:01.015Z"
   },
   {
    "duration": 3,
    "start_time": "2023-12-03T19:44:25.695Z"
   },
   {
    "duration": 77,
    "start_time": "2023-12-03T19:44:25.700Z"
   },
   {
    "duration": 5,
    "start_time": "2023-12-03T19:44:25.779Z"
   },
   {
    "duration": 74,
    "start_time": "2023-12-03T19:44:25.785Z"
   },
   {
    "duration": 21,
    "start_time": "2023-12-03T19:44:25.861Z"
   },
   {
    "duration": 3,
    "start_time": "2023-12-03T19:44:25.884Z"
   },
   {
    "duration": 12,
    "start_time": "2023-12-03T19:44:25.889Z"
   },
   {
    "duration": 3,
    "start_time": "2023-12-03T19:44:27.827Z"
   },
   {
    "duration": 6,
    "start_time": "2023-12-03T19:44:28.247Z"
   },
   {
    "duration": 27,
    "start_time": "2023-12-03T19:44:34.913Z"
   },
   {
    "duration": 3,
    "start_time": "2023-12-03T19:46:07.502Z"
   },
   {
    "duration": 73,
    "start_time": "2023-12-03T19:46:07.508Z"
   },
   {
    "duration": 5,
    "start_time": "2023-12-03T19:46:07.582Z"
   },
   {
    "duration": 49,
    "start_time": "2023-12-03T19:46:07.588Z"
   },
   {
    "duration": 3,
    "start_time": "2023-12-03T19:46:07.639Z"
   },
   {
    "duration": 7,
    "start_time": "2023-12-03T19:46:07.643Z"
   },
   {
    "duration": 31,
    "start_time": "2023-12-03T19:46:07.651Z"
   },
   {
    "duration": 3,
    "start_time": "2023-12-03T19:46:09.131Z"
   },
   {
    "duration": 6,
    "start_time": "2023-12-03T19:46:09.612Z"
   },
   {
    "duration": 27,
    "start_time": "2023-12-03T19:46:18.903Z"
   },
   {
    "duration": 3,
    "start_time": "2023-12-03T19:46:48.535Z"
   },
   {
    "duration": 75,
    "start_time": "2023-12-03T19:46:48.539Z"
   },
   {
    "duration": 5,
    "start_time": "2023-12-03T19:46:48.615Z"
   },
   {
    "duration": 52,
    "start_time": "2023-12-03T19:46:48.621Z"
   },
   {
    "duration": 3,
    "start_time": "2023-12-03T19:46:48.675Z"
   },
   {
    "duration": 6,
    "start_time": "2023-12-03T19:46:48.679Z"
   },
   {
    "duration": 11,
    "start_time": "2023-12-03T19:46:53.281Z"
   },
   {
    "duration": 6,
    "start_time": "2023-12-03T19:46:53.681Z"
   },
   {
    "duration": 45,
    "start_time": "2023-12-03T19:47:08.861Z"
   },
   {
    "duration": 4,
    "start_time": "2023-12-03T19:48:05.958Z"
   },
   {
    "duration": 46,
    "start_time": "2023-12-03T19:48:12.730Z"
   },
   {
    "duration": 6,
    "start_time": "2023-12-03T19:49:02.546Z"
   },
   {
    "duration": 51,
    "start_time": "2023-12-03T19:49:06.431Z"
   },
   {
    "duration": 1371,
    "start_time": "2023-12-05T17:20:26.701Z"
   },
   {
    "duration": 200,
    "start_time": "2023-12-05T17:20:28.074Z"
   },
   {
    "duration": 6,
    "start_time": "2023-12-05T17:20:28.276Z"
   },
   {
    "duration": 83,
    "start_time": "2023-12-05T17:20:28.283Z"
   },
   {
    "duration": 3,
    "start_time": "2023-12-05T17:20:28.368Z"
   },
   {
    "duration": 15,
    "start_time": "2023-12-05T17:20:28.373Z"
   },
   {
    "duration": 12,
    "start_time": "2023-12-05T17:20:28.389Z"
   },
   {
    "duration": 26,
    "start_time": "2023-12-05T17:20:28.403Z"
   },
   {
    "duration": 6,
    "start_time": "2023-12-05T17:20:32.638Z"
   },
   {
    "duration": 9,
    "start_time": "2023-12-05T17:21:09.705Z"
   },
   {
    "duration": 101,
    "start_time": "2023-12-05T17:24:01.071Z"
   },
   {
    "duration": 10,
    "start_time": "2023-12-05T17:24:20.969Z"
   },
   {
    "duration": 9,
    "start_time": "2023-12-05T17:32:50.798Z"
   },
   {
    "duration": 18,
    "start_time": "2023-12-05T17:42:17.722Z"
   },
   {
    "duration": 30,
    "start_time": "2023-12-05T17:48:04.894Z"
   },
   {
    "duration": 15,
    "start_time": "2023-12-05T17:48:20.664Z"
   },
   {
    "duration": 23,
    "start_time": "2023-12-05T17:49:47.896Z"
   },
   {
    "duration": 342,
    "start_time": "2023-12-05T17:52:36.267Z"
   },
   {
    "duration": 249,
    "start_time": "2023-12-05T17:57:53.213Z"
   },
   {
    "duration": 225,
    "start_time": "2023-12-05T17:59:14.540Z"
   },
   {
    "duration": 37,
    "start_time": "2023-12-05T18:04:32.200Z"
   },
   {
    "duration": 27,
    "start_time": "2023-12-05T18:05:04.749Z"
   },
   {
    "duration": 151,
    "start_time": "2023-12-05T18:06:06.676Z"
   },
   {
    "duration": 347,
    "start_time": "2023-12-05T18:06:36.059Z"
   },
   {
    "duration": 322,
    "start_time": "2023-12-05T18:07:03.061Z"
   },
   {
    "duration": 365,
    "start_time": "2023-12-05T18:07:08.850Z"
   },
   {
    "duration": 390,
    "start_time": "2023-12-05T18:09:21.160Z"
   },
   {
    "duration": 452,
    "start_time": "2023-12-05T18:09:33.917Z"
   },
   {
    "duration": 385,
    "start_time": "2023-12-05T18:09:53.201Z"
   },
   {
    "duration": 19,
    "start_time": "2023-12-05T18:16:13.330Z"
   },
   {
    "duration": 10,
    "start_time": "2023-12-05T18:16:23.396Z"
   },
   {
    "duration": 21,
    "start_time": "2023-12-05T19:31:40.424Z"
   },
   {
    "duration": 10,
    "start_time": "2023-12-05T19:32:34.088Z"
   },
   {
    "duration": 104,
    "start_time": "2023-12-05T19:36:00.563Z"
   },
   {
    "duration": 106,
    "start_time": "2023-12-05T19:36:09.945Z"
   },
   {
    "duration": 9,
    "start_time": "2023-12-05T19:36:57.105Z"
   },
   {
    "duration": 20,
    "start_time": "2023-12-05T19:42:21.281Z"
   },
   {
    "duration": 10,
    "start_time": "2023-12-05T19:43:44.197Z"
   },
   {
    "duration": 11,
    "start_time": "2023-12-05T19:46:59.014Z"
   },
   {
    "duration": 267,
    "start_time": "2023-12-05T19:49:25.245Z"
   },
   {
    "duration": 229,
    "start_time": "2023-12-05T19:54:37.062Z"
   },
   {
    "duration": 12,
    "start_time": "2023-12-05T20:14:37.775Z"
   },
   {
    "duration": 12,
    "start_time": "2023-12-05T20:16:26.168Z"
   },
   {
    "duration": 45,
    "start_time": "2023-12-05T20:22:10.426Z"
   },
   {
    "duration": 31,
    "start_time": "2023-12-05T20:23:00.365Z"
   },
   {
    "duration": 354,
    "start_time": "2023-12-05T20:25:05.652Z"
   },
   {
    "duration": 314,
    "start_time": "2023-12-05T20:25:36.155Z"
   },
   {
    "duration": 280,
    "start_time": "2023-12-05T20:25:46.842Z"
   },
   {
    "duration": 215,
    "start_time": "2023-12-05T20:27:00.752Z"
   },
   {
    "duration": 150,
    "start_time": "2023-12-05T20:27:31.871Z"
   },
   {
    "duration": 238,
    "start_time": "2023-12-05T20:28:49.237Z"
   },
   {
    "duration": 272,
    "start_time": "2023-12-05T20:29:42.266Z"
   },
   {
    "duration": 275,
    "start_time": "2023-12-05T20:30:32.660Z"
   },
   {
    "duration": 259,
    "start_time": "2023-12-05T20:30:36.630Z"
   },
   {
    "duration": 264,
    "start_time": "2023-12-05T20:30:41.004Z"
   },
   {
    "duration": 289,
    "start_time": "2023-12-05T20:30:47.495Z"
   },
   {
    "duration": 409,
    "start_time": "2023-12-05T20:30:59.378Z"
   },
   {
    "duration": 301,
    "start_time": "2023-12-05T20:31:05.506Z"
   },
   {
    "duration": 274,
    "start_time": "2023-12-05T20:31:12.344Z"
   },
   {
    "duration": 285,
    "start_time": "2023-12-05T20:31:35.950Z"
   },
   {
    "duration": 313,
    "start_time": "2023-12-05T20:32:32.100Z"
   },
   {
    "duration": 13,
    "start_time": "2023-12-05T20:49:48.989Z"
   },
   {
    "duration": 15,
    "start_time": "2023-12-05T20:51:39.941Z"
   },
   {
    "duration": 252,
    "start_time": "2023-12-05T20:52:28.723Z"
   },
   {
    "duration": 277,
    "start_time": "2023-12-05T20:53:43.261Z"
   },
   {
    "duration": 1319,
    "start_time": "2023-12-05T21:06:25.876Z"
   },
   {
    "duration": 16,
    "start_time": "2023-12-05T21:07:04.421Z"
   },
   {
    "duration": 328,
    "start_time": "2023-12-05T21:07:25.375Z"
   },
   {
    "duration": 325,
    "start_time": "2023-12-05T21:07:52.076Z"
   },
   {
    "duration": 323,
    "start_time": "2023-12-05T21:12:37.878Z"
   },
   {
    "duration": 308,
    "start_time": "2023-12-05T21:12:44.863Z"
   },
   {
    "duration": 4,
    "start_time": "2023-12-05T21:21:58.279Z"
   },
   {
    "duration": 6,
    "start_time": "2023-12-05T21:22:17.589Z"
   },
   {
    "duration": 14,
    "start_time": "2023-12-05T21:23:41.144Z"
   },
   {
    "duration": 15,
    "start_time": "2023-12-05T21:23:53.103Z"
   },
   {
    "duration": 13,
    "start_time": "2023-12-05T21:24:21.205Z"
   },
   {
    "duration": 14,
    "start_time": "2023-12-05T21:24:56.173Z"
   },
   {
    "duration": 22,
    "start_time": "2023-12-05T21:27:43.946Z"
   },
   {
    "duration": 20,
    "start_time": "2023-12-05T21:29:56.672Z"
   },
   {
    "duration": 20,
    "start_time": "2023-12-05T21:31:00.885Z"
   },
   {
    "duration": 121,
    "start_time": "2023-12-05T21:31:19.290Z"
   },
   {
    "duration": 24,
    "start_time": "2023-12-05T21:31:39.273Z"
   },
   {
    "duration": 19,
    "start_time": "2023-12-05T21:31:57.517Z"
   },
   {
    "duration": 115,
    "start_time": "2023-12-05T21:32:02.625Z"
   },
   {
    "duration": 239,
    "start_time": "2023-12-05T21:34:35.098Z"
   },
   {
    "duration": 136,
    "start_time": "2023-12-05T21:35:00.105Z"
   },
   {
    "duration": 1327,
    "start_time": "2023-12-07T17:01:14.692Z"
   },
   {
    "duration": 201,
    "start_time": "2023-12-07T17:01:16.021Z"
   },
   {
    "duration": 5,
    "start_time": "2023-12-07T17:01:16.224Z"
   },
   {
    "duration": 53,
    "start_time": "2023-12-07T17:01:16.230Z"
   },
   {
    "duration": 3,
    "start_time": "2023-12-07T17:01:16.285Z"
   },
   {
    "duration": 34,
    "start_time": "2023-12-07T17:01:16.289Z"
   },
   {
    "duration": 16,
    "start_time": "2023-12-07T17:01:16.325Z"
   },
   {
    "duration": 398,
    "start_time": "2023-12-07T17:01:16.342Z"
   },
   {
    "duration": 0,
    "start_time": "2023-12-07T17:01:16.742Z"
   },
   {
    "duration": 0,
    "start_time": "2023-12-07T17:01:16.743Z"
   },
   {
    "duration": 0,
    "start_time": "2023-12-07T17:01:16.745Z"
   },
   {
    "duration": 0,
    "start_time": "2023-12-07T17:01:16.746Z"
   },
   {
    "duration": 0,
    "start_time": "2023-12-07T17:01:16.747Z"
   },
   {
    "duration": 0,
    "start_time": "2023-12-07T17:01:16.748Z"
   },
   {
    "duration": 0,
    "start_time": "2023-12-07T17:01:16.749Z"
   },
   {
    "duration": 121,
    "start_time": "2023-12-07T17:01:54.740Z"
   },
   {
    "duration": 16,
    "start_time": "2023-12-07T17:03:21.857Z"
   },
   {
    "duration": 15,
    "start_time": "2023-12-07T17:03:28.156Z"
   },
   {
    "duration": 15,
    "start_time": "2023-12-07T17:03:40.965Z"
   },
   {
    "duration": 127,
    "start_time": "2023-12-07T17:03:51.102Z"
   },
   {
    "duration": 9,
    "start_time": "2023-12-07T17:04:09.885Z"
   },
   {
    "duration": 14,
    "start_time": "2023-12-07T17:05:46.003Z"
   },
   {
    "duration": 126,
    "start_time": "2023-12-07T17:05:52.913Z"
   },
   {
    "duration": 121,
    "start_time": "2023-12-07T17:06:40.991Z"
   },
   {
    "duration": 121,
    "start_time": "2023-12-07T17:07:41.961Z"
   },
   {
    "duration": 123,
    "start_time": "2023-12-07T17:07:51.419Z"
   },
   {
    "duration": 258,
    "start_time": "2023-12-07T17:08:02.177Z"
   },
   {
    "duration": 7,
    "start_time": "2023-12-07T17:08:42.416Z"
   },
   {
    "duration": 9,
    "start_time": "2023-12-07T17:08:46.223Z"
   },
   {
    "duration": 10,
    "start_time": "2023-12-07T17:08:47.923Z"
   },
   {
    "duration": 457,
    "start_time": "2023-12-07T17:08:51.342Z"
   },
   {
    "duration": 408,
    "start_time": "2023-12-07T17:08:53.806Z"
   },
   {
    "duration": 373,
    "start_time": "2023-12-07T17:08:56.290Z"
   },
   {
    "duration": 272,
    "start_time": "2023-12-07T17:08:58.625Z"
   },
   {
    "duration": 338,
    "start_time": "2023-12-07T17:09:00.875Z"
   },
   {
    "duration": 270,
    "start_time": "2023-12-07T17:09:03.321Z"
   },
   {
    "duration": 56,
    "start_time": "2023-12-07T17:09:53.812Z"
   },
   {
    "duration": 150,
    "start_time": "2023-12-07T17:09:58.842Z"
   },
   {
    "duration": 14,
    "start_time": "2023-12-07T17:19:28.289Z"
   },
   {
    "duration": 17,
    "start_time": "2023-12-07T17:21:45.670Z"
   },
   {
    "duration": 16,
    "start_time": "2023-12-07T17:22:51.540Z"
   },
   {
    "duration": 15,
    "start_time": "2023-12-07T17:23:44.166Z"
   },
   {
    "duration": 16,
    "start_time": "2023-12-07T17:24:23.969Z"
   },
   {
    "duration": 23,
    "start_time": "2023-12-07T17:24:37.866Z"
   },
   {
    "duration": 7,
    "start_time": "2023-12-07T17:24:44.983Z"
   },
   {
    "duration": 13,
    "start_time": "2023-12-07T17:25:18.994Z"
   },
   {
    "duration": 8,
    "start_time": "2023-12-07T17:27:14.380Z"
   },
   {
    "duration": 4,
    "start_time": "2023-12-07T17:33:34.924Z"
   },
   {
    "duration": 8,
    "start_time": "2023-12-07T17:34:05.020Z"
   },
   {
    "duration": 25,
    "start_time": "2023-12-07T17:35:24.365Z"
   },
   {
    "duration": 17,
    "start_time": "2023-12-07T17:35:42.051Z"
   },
   {
    "duration": 17,
    "start_time": "2023-12-07T17:36:05.249Z"
   },
   {
    "duration": 15,
    "start_time": "2023-12-07T17:36:13.627Z"
   },
   {
    "duration": 16,
    "start_time": "2023-12-07T17:36:22.050Z"
   },
   {
    "duration": 19,
    "start_time": "2023-12-07T17:36:33.801Z"
   },
   {
    "duration": 6,
    "start_time": "2023-12-07T17:36:50.310Z"
   },
   {
    "duration": 5,
    "start_time": "2023-12-07T17:36:57.515Z"
   },
   {
    "duration": 5,
    "start_time": "2023-12-07T17:41:32.292Z"
   },
   {
    "duration": 12,
    "start_time": "2023-12-07T17:45:26.958Z"
   },
   {
    "duration": 9,
    "start_time": "2023-12-07T17:45:52.008Z"
   },
   {
    "duration": 6,
    "start_time": "2023-12-07T17:45:58.736Z"
   },
   {
    "duration": 12,
    "start_time": "2023-12-07T17:46:35.862Z"
   },
   {
    "duration": 13,
    "start_time": "2023-12-07T17:47:15.700Z"
   },
   {
    "duration": 20,
    "start_time": "2023-12-07T17:52:03.560Z"
   },
   {
    "duration": 19,
    "start_time": "2023-12-07T17:52:10.714Z"
   },
   {
    "duration": 904,
    "start_time": "2023-12-07T17:52:19.545Z"
   },
   {
    "duration": 168,
    "start_time": "2023-12-07T17:52:42.789Z"
   },
   {
    "duration": 174,
    "start_time": "2023-12-07T17:54:33.456Z"
   },
   {
    "duration": 162,
    "start_time": "2023-12-07T17:55:38.626Z"
   },
   {
    "duration": 188,
    "start_time": "2023-12-07T17:56:21.624Z"
   },
   {
    "duration": 187,
    "start_time": "2023-12-07T17:56:25.484Z"
   },
   {
    "duration": 10,
    "start_time": "2023-12-07T18:00:29.167Z"
   },
   {
    "duration": 53,
    "start_time": "2023-12-07T18:05:52.159Z"
   },
   {
    "duration": 12,
    "start_time": "2023-12-07T18:13:05.181Z"
   },
   {
    "duration": 155,
    "start_time": "2023-12-07T18:18:00.021Z"
   },
   {
    "duration": 44,
    "start_time": "2023-12-07T18:19:20.333Z"
   },
   {
    "duration": 52,
    "start_time": "2023-12-07T18:20:29.863Z"
   },
   {
    "duration": 45,
    "start_time": "2023-12-07T18:22:42.376Z"
   },
   {
    "duration": 62,
    "start_time": "2023-12-07T18:22:58.767Z"
   },
   {
    "duration": 16,
    "start_time": "2023-12-07T18:33:07.279Z"
   },
   {
    "duration": 13,
    "start_time": "2023-12-07T18:33:21.642Z"
   },
   {
    "duration": 59,
    "start_time": "2023-12-07T18:37:00.177Z"
   },
   {
    "duration": 64,
    "start_time": "2023-12-07T18:37:05.352Z"
   },
   {
    "duration": 18,
    "start_time": "2023-12-07T18:56:23.687Z"
   },
   {
    "duration": 52,
    "start_time": "2023-12-07T19:00:13.781Z"
   },
   {
    "duration": 26,
    "start_time": "2023-12-07T19:01:28.525Z"
   },
   {
    "duration": 121,
    "start_time": "2023-12-07T19:27:08.454Z"
   },
   {
    "duration": 7,
    "start_time": "2023-12-07T19:27:09.218Z"
   },
   {
    "duration": 10,
    "start_time": "2023-12-07T19:27:09.837Z"
   },
   {
    "duration": 3,
    "start_time": "2023-12-07T19:27:37.018Z"
   },
   {
    "duration": 120,
    "start_time": "2023-12-07T19:27:47.638Z"
   },
   {
    "duration": 6,
    "start_time": "2023-12-07T19:27:48.405Z"
   },
   {
    "duration": 25,
    "start_time": "2023-12-07T19:27:49.104Z"
   },
   {
    "duration": 129,
    "start_time": "2023-12-07T19:40:09.746Z"
   },
   {
    "duration": 6,
    "start_time": "2023-12-07T19:40:10.449Z"
   },
   {
    "duration": 24,
    "start_time": "2023-12-07T19:40:12.282Z"
   },
   {
    "duration": 123,
    "start_time": "2023-12-07T19:51:00.423Z"
   },
   {
    "duration": 26,
    "start_time": "2023-12-07T19:53:47.808Z"
   },
   {
    "duration": 25,
    "start_time": "2023-12-07T19:54:13.572Z"
   },
   {
    "duration": 45,
    "start_time": "2023-12-07T19:54:25.391Z"
   },
   {
    "duration": 24,
    "start_time": "2023-12-07T19:54:29.026Z"
   },
   {
    "duration": 26,
    "start_time": "2023-12-07T19:54:49.016Z"
   },
   {
    "duration": 12,
    "start_time": "2023-12-07T20:07:06.233Z"
   },
   {
    "duration": 13,
    "start_time": "2023-12-07T20:12:24.865Z"
   },
   {
    "duration": 1257,
    "start_time": "2023-12-09T11:54:29.788Z"
   },
   {
    "duration": 192,
    "start_time": "2023-12-09T11:54:31.047Z"
   },
   {
    "duration": 4,
    "start_time": "2023-12-09T11:54:31.241Z"
   },
   {
    "duration": 78,
    "start_time": "2023-12-09T11:54:31.247Z"
   },
   {
    "duration": 2,
    "start_time": "2023-12-09T11:54:31.326Z"
   },
   {
    "duration": 34,
    "start_time": "2023-12-09T11:54:31.330Z"
   },
   {
    "duration": 44,
    "start_time": "2023-12-09T11:54:31.365Z"
   },
   {
    "duration": 49,
    "start_time": "2023-12-09T11:54:31.411Z"
   },
   {
    "duration": 39,
    "start_time": "2023-12-09T11:54:31.461Z"
   },
   {
    "duration": 28,
    "start_time": "2023-12-09T11:54:31.502Z"
   },
   {
    "duration": 438,
    "start_time": "2023-12-09T11:54:31.531Z"
   },
   {
    "duration": 309,
    "start_time": "2023-12-09T11:54:31.970Z"
   },
   {
    "duration": 363,
    "start_time": "2023-12-09T11:54:32.281Z"
   },
   {
    "duration": 248,
    "start_time": "2023-12-09T11:54:32.645Z"
   },
   {
    "duration": 313,
    "start_time": "2023-12-09T11:54:32.895Z"
   },
   {
    "duration": 146,
    "start_time": "2023-12-09T11:54:33.215Z"
   },
   {
    "duration": 6,
    "start_time": "2023-12-09T11:54:33.363Z"
   },
   {
    "duration": 19,
    "start_time": "2023-12-09T11:54:33.370Z"
   },
   {
    "duration": 150,
    "start_time": "2023-12-09T11:54:33.390Z"
   },
   {
    "duration": 6,
    "start_time": "2023-12-09T11:54:33.542Z"
   },
   {
    "duration": 46,
    "start_time": "2023-12-09T11:54:33.549Z"
   },
   {
    "duration": 41,
    "start_time": "2023-12-09T11:54:33.596Z"
   },
   {
    "duration": 51,
    "start_time": "2023-12-09T11:54:33.639Z"
   },
   {
    "duration": 45,
    "start_time": "2023-12-09T11:54:33.691Z"
   },
   {
    "duration": 22,
    "start_time": "2023-12-09T11:54:33.737Z"
   },
   {
    "duration": 128,
    "start_time": "2023-12-09T11:54:33.760Z"
   },
   {
    "duration": 1211,
    "start_time": "2023-12-09T11:54:33.889Z"
   },
   {
    "duration": 0,
    "start_time": "2023-12-09T11:54:35.101Z"
   },
   {
    "duration": 0,
    "start_time": "2023-12-09T11:54:35.102Z"
   },
   {
    "duration": 3,
    "start_time": "2023-12-09T12:06:34.441Z"
   },
   {
    "duration": 77,
    "start_time": "2023-12-09T12:06:34.446Z"
   },
   {
    "duration": 4,
    "start_time": "2023-12-09T12:06:34.524Z"
   },
   {
    "duration": 51,
    "start_time": "2023-12-09T12:06:34.529Z"
   },
   {
    "duration": 2,
    "start_time": "2023-12-09T12:06:34.581Z"
   },
   {
    "duration": 5,
    "start_time": "2023-12-09T12:06:34.584Z"
   },
   {
    "duration": 4,
    "start_time": "2023-12-09T12:06:34.590Z"
   },
   {
    "duration": 8,
    "start_time": "2023-12-09T12:06:34.595Z"
   },
   {
    "duration": 13,
    "start_time": "2023-12-09T12:06:34.605Z"
   },
   {
    "duration": 12,
    "start_time": "2023-12-09T12:06:34.620Z"
   },
   {
    "duration": 386,
    "start_time": "2023-12-09T12:06:34.633Z"
   },
   {
    "duration": 300,
    "start_time": "2023-12-09T12:06:35.021Z"
   },
   {
    "duration": 295,
    "start_time": "2023-12-09T12:06:35.322Z"
   },
   {
    "duration": 224,
    "start_time": "2023-12-09T12:06:35.618Z"
   },
   {
    "duration": 267,
    "start_time": "2023-12-09T12:06:35.843Z"
   },
   {
    "duration": 144,
    "start_time": "2023-12-09T12:06:36.114Z"
   },
   {
    "duration": 8,
    "start_time": "2023-12-09T12:06:36.259Z"
   },
   {
    "duration": 20,
    "start_time": "2023-12-09T12:06:36.268Z"
   },
   {
    "duration": 154,
    "start_time": "2023-12-09T12:06:36.289Z"
   },
   {
    "duration": 6,
    "start_time": "2023-12-09T12:06:36.444Z"
   },
   {
    "duration": 42,
    "start_time": "2023-12-09T12:06:36.451Z"
   },
   {
    "duration": 36,
    "start_time": "2023-12-09T12:06:36.494Z"
   },
   {
    "duration": 62,
    "start_time": "2023-12-09T12:06:36.532Z"
   },
   {
    "duration": 45,
    "start_time": "2023-12-09T12:06:36.595Z"
   },
   {
    "duration": 22,
    "start_time": "2023-12-09T12:06:36.641Z"
   },
   {
    "duration": 125,
    "start_time": "2023-12-09T12:06:36.664Z"
   },
   {
    "duration": 115,
    "start_time": "2023-12-09T12:06:39.324Z"
   },
   {
    "duration": 1186,
    "start_time": "2023-12-09T12:06:40.091Z"
   },
   {
    "duration": 1434,
    "start_time": "2023-12-09T12:07:05.791Z"
   },
   {
    "duration": 10,
    "start_time": "2023-12-09T12:07:30.816Z"
   },
   {
    "duration": 1377,
    "start_time": "2023-12-09T12:07:45.921Z"
   },
   {
    "duration": 1294,
    "start_time": "2023-12-09T12:08:00.204Z"
   },
   {
    "duration": 2,
    "start_time": "2023-12-09T12:08:36.116Z"
   },
   {
    "duration": 79,
    "start_time": "2023-12-09T12:08:36.120Z"
   },
   {
    "duration": 4,
    "start_time": "2023-12-09T12:08:36.200Z"
   },
   {
    "duration": 58,
    "start_time": "2023-12-09T12:08:36.206Z"
   },
   {
    "duration": 2,
    "start_time": "2023-12-09T12:08:36.265Z"
   },
   {
    "duration": 16,
    "start_time": "2023-12-09T12:08:36.268Z"
   },
   {
    "duration": 10,
    "start_time": "2023-12-09T12:08:36.285Z"
   },
   {
    "duration": 15,
    "start_time": "2023-12-09T12:08:36.296Z"
   },
   {
    "duration": 12,
    "start_time": "2023-12-09T12:08:36.312Z"
   },
   {
    "duration": 26,
    "start_time": "2023-12-09T12:08:36.326Z"
   },
   {
    "duration": 327,
    "start_time": "2023-12-09T12:08:36.353Z"
   },
   {
    "duration": 296,
    "start_time": "2023-12-09T12:08:36.682Z"
   },
   {
    "duration": 294,
    "start_time": "2023-12-09T12:08:36.979Z"
   },
   {
    "duration": 228,
    "start_time": "2023-12-09T12:08:37.274Z"
   },
   {
    "duration": 313,
    "start_time": "2023-12-09T12:08:37.503Z"
   },
   {
    "duration": 144,
    "start_time": "2023-12-09T12:08:37.818Z"
   },
   {
    "duration": 7,
    "start_time": "2023-12-09T12:08:37.963Z"
   },
   {
    "duration": 20,
    "start_time": "2023-12-09T12:08:37.971Z"
   },
   {
    "duration": 154,
    "start_time": "2023-12-09T12:08:37.993Z"
   },
   {
    "duration": 6,
    "start_time": "2023-12-09T12:08:38.148Z"
   },
   {
    "duration": 43,
    "start_time": "2023-12-09T12:08:38.155Z"
   },
   {
    "duration": 37,
    "start_time": "2023-12-09T12:08:38.200Z"
   },
   {
    "duration": 46,
    "start_time": "2023-12-09T12:08:38.238Z"
   },
   {
    "duration": 52,
    "start_time": "2023-12-09T12:08:38.285Z"
   },
   {
    "duration": 24,
    "start_time": "2023-12-09T12:08:38.338Z"
   },
   {
    "duration": 133,
    "start_time": "2023-12-09T12:08:38.363Z"
   },
   {
    "duration": 119,
    "start_time": "2023-12-09T12:08:40.664Z"
   },
   {
    "duration": 6,
    "start_time": "2023-12-09T12:08:41.396Z"
   },
   {
    "duration": 19,
    "start_time": "2023-12-09T12:08:44.063Z"
   },
   {
    "duration": 10,
    "start_time": "2023-12-09T12:08:52.162Z"
   },
   {
    "duration": 9,
    "start_time": "2023-12-09T12:09:10.678Z"
   },
   {
    "duration": 7,
    "start_time": "2023-12-09T12:18:23.841Z"
   },
   {
    "duration": 19,
    "start_time": "2023-12-09T12:18:26.607Z"
   },
   {
    "duration": 20,
    "start_time": "2023-12-09T12:18:46.305Z"
   },
   {
    "duration": 11,
    "start_time": "2023-12-09T12:29:59.989Z"
   },
   {
    "duration": 13,
    "start_time": "2023-12-09T12:51:52.451Z"
   },
   {
    "duration": 14,
    "start_time": "2023-12-09T13:15:16.536Z"
   },
   {
    "duration": 10,
    "start_time": "2023-12-09T13:16:43.972Z"
   },
   {
    "duration": 12,
    "start_time": "2023-12-09T13:21:22.565Z"
   },
   {
    "duration": 25,
    "start_time": "2023-12-09T13:22:52.084Z"
   },
   {
    "duration": 21,
    "start_time": "2023-12-09T13:23:23.025Z"
   },
   {
    "duration": 135,
    "start_time": "2023-12-09T13:25:11.201Z"
   },
   {
    "duration": 131,
    "start_time": "2023-12-09T13:26:42.129Z"
   },
   {
    "duration": 148,
    "start_time": "2023-12-09T13:31:00.395Z"
   },
   {
    "duration": 90,
    "start_time": "2023-12-09T13:32:10.606Z"
   },
   {
    "duration": 143,
    "start_time": "2023-12-09T13:33:30.017Z"
   },
   {
    "duration": 3,
    "start_time": "2023-12-09T13:33:57.052Z"
   },
   {
    "duration": 80,
    "start_time": "2023-12-09T13:33:57.057Z"
   },
   {
    "duration": 4,
    "start_time": "2023-12-09T13:33:57.139Z"
   },
   {
    "duration": 103,
    "start_time": "2023-12-09T13:33:57.144Z"
   },
   {
    "duration": 12,
    "start_time": "2023-12-09T13:33:57.248Z"
   },
   {
    "duration": 15,
    "start_time": "2023-12-09T13:33:57.262Z"
   },
   {
    "duration": 4,
    "start_time": "2023-12-09T13:33:57.278Z"
   },
   {
    "duration": 5,
    "start_time": "2023-12-09T13:33:57.283Z"
   },
   {
    "duration": 9,
    "start_time": "2023-12-09T13:33:57.289Z"
   },
   {
    "duration": 12,
    "start_time": "2023-12-09T13:33:57.300Z"
   },
   {
    "duration": 346,
    "start_time": "2023-12-09T13:33:57.313Z"
   },
   {
    "duration": 297,
    "start_time": "2023-12-09T13:33:57.660Z"
   },
   {
    "duration": 274,
    "start_time": "2023-12-09T13:33:57.959Z"
   },
   {
    "duration": 232,
    "start_time": "2023-12-09T13:33:58.234Z"
   },
   {
    "duration": 282,
    "start_time": "2023-12-09T13:33:58.467Z"
   },
   {
    "duration": 143,
    "start_time": "2023-12-09T13:33:58.751Z"
   },
   {
    "duration": 7,
    "start_time": "2023-12-09T13:33:58.895Z"
   },
   {
    "duration": 13,
    "start_time": "2023-12-09T13:33:58.903Z"
   },
   {
    "duration": 154,
    "start_time": "2023-12-09T13:33:58.917Z"
   },
   {
    "duration": 6,
    "start_time": "2023-12-09T13:33:59.073Z"
   },
   {
    "duration": 52,
    "start_time": "2023-12-09T13:33:59.080Z"
   },
   {
    "duration": 37,
    "start_time": "2023-12-09T13:33:59.133Z"
   },
   {
    "duration": 59,
    "start_time": "2023-12-09T13:33:59.171Z"
   },
   {
    "duration": 44,
    "start_time": "2023-12-09T13:33:59.231Z"
   },
   {
    "duration": 15,
    "start_time": "2023-12-09T13:33:59.276Z"
   },
   {
    "duration": 115,
    "start_time": "2023-12-09T13:33:59.292Z"
   },
   {
    "duration": 9,
    "start_time": "2023-12-09T13:33:59.408Z"
   },
   {
    "duration": 26,
    "start_time": "2023-12-09T13:33:59.420Z"
   },
   {
    "duration": 10,
    "start_time": "2023-12-09T13:33:59.447Z"
   },
   {
    "duration": 11,
    "start_time": "2023-12-09T13:33:59.458Z"
   },
   {
    "duration": 18,
    "start_time": "2023-12-09T13:33:59.470Z"
   },
   {
    "duration": 21,
    "start_time": "2023-12-09T13:33:59.489Z"
   },
   {
    "duration": 12,
    "start_time": "2023-12-09T13:33:59.511Z"
   },
   {
    "duration": 29,
    "start_time": "2023-12-09T13:33:59.524Z"
   },
   {
    "duration": 22,
    "start_time": "2023-12-09T13:34:11.196Z"
   },
   {
    "duration": 150,
    "start_time": "2023-12-09T13:34:12.327Z"
   },
   {
    "duration": 144,
    "start_time": "2023-12-09T13:34:59.365Z"
   },
   {
    "duration": 147,
    "start_time": "2023-12-09T13:35:04.988Z"
   },
   {
    "duration": 134,
    "start_time": "2023-12-09T13:35:13.793Z"
   },
   {
    "duration": 71,
    "start_time": "2023-12-09T13:38:04.272Z"
   },
   {
    "duration": 1295,
    "start_time": "2023-12-09T13:38:30.531Z"
   },
   {
    "duration": 131,
    "start_time": "2023-12-09T13:38:49.706Z"
   },
   {
    "duration": 1259,
    "start_time": "2023-12-09T13:39:06.941Z"
   },
   {
    "duration": 134,
    "start_time": "2023-12-09T13:39:16.156Z"
   },
   {
    "duration": 143,
    "start_time": "2023-12-09T13:40:04.440Z"
   },
   {
    "duration": 405,
    "start_time": "2023-12-09T13:41:08.614Z"
   },
   {
    "duration": 21,
    "start_time": "2023-12-09T13:42:24.829Z"
   },
   {
    "duration": 19,
    "start_time": "2023-12-09T13:43:09.323Z"
   },
   {
    "duration": 25,
    "start_time": "2023-12-09T13:43:40.061Z"
   },
   {
    "duration": 27,
    "start_time": "2023-12-09T13:43:57.447Z"
   },
   {
    "duration": 30,
    "start_time": "2023-12-09T13:44:11.373Z"
   },
   {
    "duration": 2,
    "start_time": "2023-12-09T13:44:29.415Z"
   },
   {
    "duration": 74,
    "start_time": "2023-12-09T13:44:29.422Z"
   },
   {
    "duration": 4,
    "start_time": "2023-12-09T13:44:29.498Z"
   },
   {
    "duration": 45,
    "start_time": "2023-12-09T13:44:29.503Z"
   },
   {
    "duration": 2,
    "start_time": "2023-12-09T13:44:29.550Z"
   },
   {
    "duration": 15,
    "start_time": "2023-12-09T13:44:29.554Z"
   },
   {
    "duration": 7,
    "start_time": "2023-12-09T13:44:29.570Z"
   },
   {
    "duration": 12,
    "start_time": "2023-12-09T13:44:29.578Z"
   },
   {
    "duration": 10,
    "start_time": "2023-12-09T13:44:29.591Z"
   },
   {
    "duration": 29,
    "start_time": "2023-12-09T13:44:29.602Z"
   },
   {
    "duration": 321,
    "start_time": "2023-12-09T13:44:29.632Z"
   },
   {
    "duration": 306,
    "start_time": "2023-12-09T13:44:29.954Z"
   },
   {
    "duration": 281,
    "start_time": "2023-12-09T13:44:30.261Z"
   },
   {
    "duration": 226,
    "start_time": "2023-12-09T13:44:30.544Z"
   },
   {
    "duration": 288,
    "start_time": "2023-12-09T13:44:30.773Z"
   },
   {
    "duration": 148,
    "start_time": "2023-12-09T13:44:31.063Z"
   },
   {
    "duration": 6,
    "start_time": "2023-12-09T13:44:31.215Z"
   },
   {
    "duration": 37,
    "start_time": "2023-12-09T13:44:31.223Z"
   },
   {
    "duration": 175,
    "start_time": "2023-12-09T13:44:31.262Z"
   },
   {
    "duration": 7,
    "start_time": "2023-12-09T13:44:31.438Z"
   },
   {
    "duration": 53,
    "start_time": "2023-12-09T13:44:31.446Z"
   },
   {
    "duration": 59,
    "start_time": "2023-12-09T13:44:31.501Z"
   },
   {
    "duration": 77,
    "start_time": "2023-12-09T13:44:31.562Z"
   },
   {
    "duration": 45,
    "start_time": "2023-12-09T13:44:31.640Z"
   },
   {
    "duration": 2,
    "start_time": "2023-12-09T13:44:31.686Z"
   },
   {
    "duration": 138,
    "start_time": "2023-12-09T13:44:31.689Z"
   },
   {
    "duration": 5,
    "start_time": "2023-12-09T13:44:31.828Z"
   },
   {
    "duration": 39,
    "start_time": "2023-12-09T13:44:31.834Z"
   },
   {
    "duration": 17,
    "start_time": "2023-12-09T13:44:31.874Z"
   },
   {
    "duration": 21,
    "start_time": "2023-12-09T13:44:31.892Z"
   },
   {
    "duration": 17,
    "start_time": "2023-12-09T13:44:31.914Z"
   },
   {
    "duration": 40,
    "start_time": "2023-12-09T13:44:31.932Z"
   },
   {
    "duration": 15,
    "start_time": "2023-12-09T13:44:31.974Z"
   },
   {
    "duration": 27,
    "start_time": "2023-12-09T13:44:31.990Z"
   },
   {
    "duration": 43,
    "start_time": "2023-12-09T13:44:32.019Z"
   },
   {
    "duration": 24,
    "start_time": "2023-12-09T13:45:06.066Z"
   },
   {
    "duration": 403,
    "start_time": "2023-12-09T13:48:03.523Z"
   },
   {
    "duration": 434,
    "start_time": "2023-12-09T13:48:39.217Z"
   },
   {
    "duration": 502,
    "start_time": "2023-12-09T13:49:05.715Z"
   },
   {
    "duration": 415,
    "start_time": "2023-12-09T13:58:30.215Z"
   },
   {
    "duration": 8,
    "start_time": "2023-12-09T15:17:30.105Z"
   },
   {
    "duration": 10,
    "start_time": "2023-12-09T15:19:11.828Z"
   },
   {
    "duration": 8,
    "start_time": "2023-12-09T15:20:34.753Z"
   },
   {
    "duration": 10,
    "start_time": "2023-12-09T15:20:47.375Z"
   },
   {
    "duration": 8,
    "start_time": "2023-12-09T15:23:39.845Z"
   },
   {
    "duration": 3,
    "start_time": "2023-12-09T15:25:38.557Z"
   },
   {
    "duration": 82,
    "start_time": "2023-12-09T15:25:38.561Z"
   },
   {
    "duration": 5,
    "start_time": "2023-12-09T15:25:38.645Z"
   },
   {
    "duration": 44,
    "start_time": "2023-12-09T15:25:38.651Z"
   },
   {
    "duration": 2,
    "start_time": "2023-12-09T15:25:38.697Z"
   },
   {
    "duration": 7,
    "start_time": "2023-12-09T15:25:38.700Z"
   },
   {
    "duration": 6,
    "start_time": "2023-12-09T15:25:38.708Z"
   },
   {
    "duration": 5,
    "start_time": "2023-12-09T15:25:38.715Z"
   },
   {
    "duration": 6,
    "start_time": "2023-12-09T15:25:38.721Z"
   },
   {
    "duration": 10,
    "start_time": "2023-12-09T15:25:38.729Z"
   },
   {
    "duration": 324,
    "start_time": "2023-12-09T15:25:38.741Z"
   },
   {
    "duration": 304,
    "start_time": "2023-12-09T15:25:39.066Z"
   },
   {
    "duration": 295,
    "start_time": "2023-12-09T15:25:39.371Z"
   },
   {
    "duration": 224,
    "start_time": "2023-12-09T15:25:39.667Z"
   },
   {
    "duration": 313,
    "start_time": "2023-12-09T15:25:39.892Z"
   },
   {
    "duration": 164,
    "start_time": "2023-12-09T15:25:40.206Z"
   },
   {
    "duration": 8,
    "start_time": "2023-12-09T15:25:40.372Z"
   },
   {
    "duration": 6,
    "start_time": "2023-12-09T15:25:40.381Z"
   },
   {
    "duration": 169,
    "start_time": "2023-12-09T15:25:40.388Z"
   },
   {
    "duration": 7,
    "start_time": "2023-12-09T15:25:40.558Z"
   },
   {
    "duration": 35,
    "start_time": "2023-12-09T15:25:40.566Z"
   },
   {
    "duration": 37,
    "start_time": "2023-12-09T15:25:40.615Z"
   },
   {
    "duration": 61,
    "start_time": "2023-12-09T15:25:40.654Z"
   },
   {
    "duration": 43,
    "start_time": "2023-12-09T15:25:40.717Z"
   },
   {
    "duration": 130,
    "start_time": "2023-12-09T15:25:40.761Z"
   },
   {
    "duration": 5,
    "start_time": "2023-12-09T15:25:40.892Z"
   },
   {
    "duration": 24,
    "start_time": "2023-12-09T15:25:40.899Z"
   },
   {
    "duration": 10,
    "start_time": "2023-12-09T15:25:40.925Z"
   },
   {
    "duration": 7,
    "start_time": "2023-12-09T15:25:40.939Z"
   },
   {
    "duration": 7,
    "start_time": "2023-12-09T15:25:40.947Z"
   },
   {
    "duration": 22,
    "start_time": "2023-12-09T15:25:40.955Z"
   },
   {
    "duration": 38,
    "start_time": "2023-12-09T15:25:40.979Z"
   },
   {
    "duration": 405,
    "start_time": "2023-12-09T15:25:41.019Z"
   },
   {
    "duration": 7,
    "start_time": "2023-12-09T15:34:24.372Z"
   },
   {
    "duration": 8,
    "start_time": "2023-12-09T15:34:40.841Z"
   },
   {
    "duration": 9,
    "start_time": "2023-12-09T15:34:47.184Z"
   },
   {
    "duration": 1066,
    "start_time": "2023-12-09T15:39:34.218Z"
   },
   {
    "duration": 76,
    "start_time": "2023-12-09T15:39:35.286Z"
   },
   {
    "duration": 5,
    "start_time": "2023-12-09T15:39:35.363Z"
   },
   {
    "duration": 49,
    "start_time": "2023-12-09T15:39:35.370Z"
   },
   {
    "duration": 3,
    "start_time": "2023-12-09T15:39:35.420Z"
   },
   {
    "duration": 13,
    "start_time": "2023-12-09T15:39:35.424Z"
   },
   {
    "duration": 6,
    "start_time": "2023-12-09T15:39:35.438Z"
   },
   {
    "duration": 9,
    "start_time": "2023-12-09T15:39:35.445Z"
   },
   {
    "duration": 18,
    "start_time": "2023-12-09T15:39:35.455Z"
   },
   {
    "duration": 9,
    "start_time": "2023-12-09T15:39:35.475Z"
   },
   {
    "duration": 398,
    "start_time": "2023-12-09T15:39:35.485Z"
   },
   {
    "duration": 311,
    "start_time": "2023-12-09T15:39:35.885Z"
   },
   {
    "duration": 301,
    "start_time": "2023-12-09T15:39:36.197Z"
   },
   {
    "duration": 253,
    "start_time": "2023-12-09T15:39:36.500Z"
   },
   {
    "duration": 268,
    "start_time": "2023-12-09T15:39:36.755Z"
   },
   {
    "duration": 150,
    "start_time": "2023-12-09T15:39:37.024Z"
   },
   {
    "duration": 7,
    "start_time": "2023-12-09T15:39:37.175Z"
   },
   {
    "duration": 13,
    "start_time": "2023-12-09T15:39:37.183Z"
   },
   {
    "duration": 154,
    "start_time": "2023-12-09T15:39:37.197Z"
   },
   {
    "duration": 6,
    "start_time": "2023-12-09T15:39:37.352Z"
   },
   {
    "duration": 55,
    "start_time": "2023-12-09T15:39:37.360Z"
   },
   {
    "duration": 37,
    "start_time": "2023-12-09T15:39:37.417Z"
   },
   {
    "duration": 41,
    "start_time": "2023-12-09T15:39:37.455Z"
   },
   {
    "duration": 52,
    "start_time": "2023-12-09T15:39:37.497Z"
   },
   {
    "duration": 126,
    "start_time": "2023-12-09T15:39:37.550Z"
   },
   {
    "duration": 98,
    "start_time": "2023-12-09T15:39:37.677Z"
   },
   {
    "duration": 0,
    "start_time": "2023-12-09T15:39:37.777Z"
   },
   {
    "duration": 0,
    "start_time": "2023-12-09T15:39:37.777Z"
   },
   {
    "duration": 0,
    "start_time": "2023-12-09T15:39:37.778Z"
   },
   {
    "duration": 0,
    "start_time": "2023-12-09T15:39:37.779Z"
   },
   {
    "duration": 0,
    "start_time": "2023-12-09T15:39:37.780Z"
   },
   {
    "duration": 0,
    "start_time": "2023-12-09T15:39:37.780Z"
   },
   {
    "duration": 0,
    "start_time": "2023-12-09T15:39:37.781Z"
   },
   {
    "duration": 18,
    "start_time": "2023-12-09T15:42:31.113Z"
   },
   {
    "duration": 115,
    "start_time": "2023-12-09T15:42:31.887Z"
   },
   {
    "duration": 5,
    "start_time": "2023-12-09T15:42:32.551Z"
   },
   {
    "duration": 1045,
    "start_time": "2023-12-09T15:42:44.308Z"
   },
   {
    "duration": 74,
    "start_time": "2023-12-09T15:42:45.355Z"
   },
   {
    "duration": 4,
    "start_time": "2023-12-09T15:42:45.430Z"
   },
   {
    "duration": 54,
    "start_time": "2023-12-09T15:42:45.436Z"
   },
   {
    "duration": 3,
    "start_time": "2023-12-09T15:42:45.491Z"
   },
   {
    "duration": 4,
    "start_time": "2023-12-09T15:42:45.495Z"
   },
   {
    "duration": 4,
    "start_time": "2023-12-09T15:42:45.500Z"
   },
   {
    "duration": 12,
    "start_time": "2023-12-09T15:42:45.505Z"
   },
   {
    "duration": 8,
    "start_time": "2023-12-09T15:42:45.519Z"
   },
   {
    "duration": 7,
    "start_time": "2023-12-09T15:42:45.529Z"
   },
   {
    "duration": 426,
    "start_time": "2023-12-09T15:42:45.537Z"
   },
   {
    "duration": 292,
    "start_time": "2023-12-09T15:42:45.964Z"
   },
   {
    "duration": 259,
    "start_time": "2023-12-09T15:42:46.258Z"
   },
   {
    "duration": 231,
    "start_time": "2023-12-09T15:42:46.518Z"
   },
   {
    "duration": 266,
    "start_time": "2023-12-09T15:42:46.751Z"
   },
   {
    "duration": 143,
    "start_time": "2023-12-09T15:42:47.018Z"
   },
   {
    "duration": 7,
    "start_time": "2023-12-09T15:42:47.162Z"
   },
   {
    "duration": 4,
    "start_time": "2023-12-09T15:42:47.171Z"
   },
   {
    "duration": 164,
    "start_time": "2023-12-09T15:42:47.176Z"
   },
   {
    "duration": 6,
    "start_time": "2023-12-09T15:42:47.341Z"
   },
   {
    "duration": 34,
    "start_time": "2023-12-09T15:42:47.348Z"
   },
   {
    "duration": 49,
    "start_time": "2023-12-09T15:42:47.383Z"
   },
   {
    "duration": 41,
    "start_time": "2023-12-09T15:42:47.434Z"
   },
   {
    "duration": 54,
    "start_time": "2023-12-09T15:42:47.477Z"
   },
   {
    "duration": 15,
    "start_time": "2023-12-09T15:42:47.532Z"
   },
   {
    "duration": 123,
    "start_time": "2023-12-09T15:42:47.548Z"
   },
   {
    "duration": 4,
    "start_time": "2023-12-09T15:42:47.673Z"
   },
   {
    "duration": 19,
    "start_time": "2023-12-09T15:42:47.679Z"
   },
   {
    "duration": 23,
    "start_time": "2023-12-09T15:42:47.699Z"
   },
   {
    "duration": 7,
    "start_time": "2023-12-09T15:42:47.723Z"
   },
   {
    "duration": 6,
    "start_time": "2023-12-09T15:42:47.731Z"
   },
   {
    "duration": 18,
    "start_time": "2023-12-09T15:42:47.738Z"
   },
   {
    "duration": 10,
    "start_time": "2023-12-09T15:42:47.757Z"
   },
   {
    "duration": 437,
    "start_time": "2023-12-09T15:42:47.768Z"
   },
   {
    "duration": 1131,
    "start_time": "2023-12-09T16:02:13.240Z"
   },
   {
    "duration": 78,
    "start_time": "2023-12-09T16:02:14.373Z"
   },
   {
    "duration": 4,
    "start_time": "2023-12-09T16:02:14.453Z"
   },
   {
    "duration": 78,
    "start_time": "2023-12-09T16:02:14.459Z"
   },
   {
    "duration": 2,
    "start_time": "2023-12-09T16:02:14.539Z"
   },
   {
    "duration": 31,
    "start_time": "2023-12-09T16:02:14.543Z"
   },
   {
    "duration": 26,
    "start_time": "2023-12-09T16:02:14.575Z"
   },
   {
    "duration": 14,
    "start_time": "2023-12-09T16:02:14.603Z"
   },
   {
    "duration": 27,
    "start_time": "2023-12-09T16:02:14.618Z"
   },
   {
    "duration": 27,
    "start_time": "2023-12-09T16:02:14.646Z"
   },
   {
    "duration": 468,
    "start_time": "2023-12-09T16:02:14.675Z"
   },
   {
    "duration": 370,
    "start_time": "2023-12-09T16:02:15.145Z"
   },
   {
    "duration": 315,
    "start_time": "2023-12-09T16:02:15.516Z"
   },
   {
    "duration": 268,
    "start_time": "2023-12-09T16:02:15.833Z"
   },
   {
    "duration": 316,
    "start_time": "2023-12-09T16:02:16.103Z"
   },
   {
    "duration": 157,
    "start_time": "2023-12-09T16:02:16.420Z"
   },
   {
    "duration": 8,
    "start_time": "2023-12-09T16:02:16.579Z"
   },
   {
    "duration": 19,
    "start_time": "2023-12-09T16:02:16.599Z"
   },
   {
    "duration": 181,
    "start_time": "2023-12-09T16:02:16.620Z"
   },
   {
    "duration": 8,
    "start_time": "2023-12-09T16:02:16.802Z"
   },
   {
    "duration": 57,
    "start_time": "2023-12-09T16:02:16.811Z"
   },
   {
    "duration": 63,
    "start_time": "2023-12-09T16:02:16.870Z"
   },
   {
    "duration": 94,
    "start_time": "2023-12-09T16:02:16.935Z"
   },
   {
    "duration": 75,
    "start_time": "2023-12-09T16:02:17.031Z"
   },
   {
    "duration": 20,
    "start_time": "2023-12-09T16:02:17.108Z"
   },
   {
    "duration": 140,
    "start_time": "2023-12-09T16:02:17.129Z"
   },
   {
    "duration": 6,
    "start_time": "2023-12-09T16:02:17.270Z"
   },
   {
    "duration": 36,
    "start_time": "2023-12-09T16:02:17.278Z"
   },
   {
    "duration": 12,
    "start_time": "2023-12-09T16:02:17.316Z"
   },
   {
    "duration": 13,
    "start_time": "2023-12-09T16:02:17.329Z"
   },
   {
    "duration": 9,
    "start_time": "2023-12-09T16:02:17.344Z"
   },
   {
    "duration": 27,
    "start_time": "2023-12-09T16:02:17.354Z"
   },
   {
    "duration": 13,
    "start_time": "2023-12-09T16:02:17.399Z"
   },
   {
    "duration": 559,
    "start_time": "2023-12-09T16:02:17.414Z"
   },
   {
    "duration": 1487,
    "start_time": "2023-12-10T11:12:21.430Z"
   },
   {
    "duration": 195,
    "start_time": "2023-12-10T11:12:22.919Z"
   },
   {
    "duration": 6,
    "start_time": "2023-12-10T11:12:23.116Z"
   },
   {
    "duration": 107,
    "start_time": "2023-12-10T11:12:23.123Z"
   },
   {
    "duration": 2,
    "start_time": "2023-12-10T11:12:23.232Z"
   },
   {
    "duration": 78,
    "start_time": "2023-12-10T11:12:23.236Z"
   },
   {
    "duration": 13,
    "start_time": "2023-12-10T11:12:23.316Z"
   },
   {
    "duration": 14,
    "start_time": "2023-12-10T11:12:23.330Z"
   },
   {
    "duration": 23,
    "start_time": "2023-12-10T11:12:23.346Z"
   },
   {
    "duration": 14,
    "start_time": "2023-12-10T11:12:23.371Z"
   },
   {
    "duration": 550,
    "start_time": "2023-12-10T11:12:23.387Z"
   },
   {
    "duration": 396,
    "start_time": "2023-12-10T11:12:23.938Z"
   },
   {
    "duration": 375,
    "start_time": "2023-12-10T11:12:24.336Z"
   },
   {
    "duration": 345,
    "start_time": "2023-12-10T11:12:24.712Z"
   },
   {
    "duration": 304,
    "start_time": "2023-12-10T11:12:25.059Z"
   },
   {
    "duration": 181,
    "start_time": "2023-12-10T11:12:25.364Z"
   },
   {
    "duration": 8,
    "start_time": "2023-12-10T11:12:25.547Z"
   },
   {
    "duration": 27,
    "start_time": "2023-12-10T11:12:25.557Z"
   },
   {
    "duration": 270,
    "start_time": "2023-12-10T11:12:25.585Z"
   },
   {
    "duration": 9,
    "start_time": "2023-12-10T11:12:25.857Z"
   },
   {
    "duration": 60,
    "start_time": "2023-12-10T11:12:25.867Z"
   },
   {
    "duration": 54,
    "start_time": "2023-12-10T11:12:25.929Z"
   },
   {
    "duration": 61,
    "start_time": "2023-12-10T11:12:25.985Z"
   },
   {
    "duration": 56,
    "start_time": "2023-12-10T11:12:26.048Z"
   },
   {
    "duration": 31,
    "start_time": "2023-12-10T11:12:26.106Z"
   },
   {
    "duration": 156,
    "start_time": "2023-12-10T11:12:26.139Z"
   },
   {
    "duration": 7,
    "start_time": "2023-12-10T11:12:26.296Z"
   },
   {
    "duration": 28,
    "start_time": "2023-12-10T11:12:30.136Z"
   },
   {
    "duration": 10,
    "start_time": "2023-12-10T11:20:52.422Z"
   },
   {
    "duration": 1263,
    "start_time": "2023-12-10T11:21:11.185Z"
   },
   {
    "duration": 1157,
    "start_time": "2023-12-10T11:21:16.513Z"
   },
   {
    "duration": 12,
    "start_time": "2023-12-10T11:21:26.522Z"
   },
   {
    "duration": 4,
    "start_time": "2023-12-10T11:21:38.073Z"
   },
   {
    "duration": 5,
    "start_time": "2023-12-10T11:22:19.916Z"
   },
   {
    "duration": 6,
    "start_time": "2023-12-10T11:22:57.767Z"
   },
   {
    "duration": 6,
    "start_time": "2023-12-10T11:23:04.861Z"
   },
   {
    "duration": 6,
    "start_time": "2023-12-10T11:23:23.719Z"
   },
   {
    "duration": 4,
    "start_time": "2023-12-10T11:27:44.739Z"
   },
   {
    "duration": 5,
    "start_time": "2023-12-10T11:28:05.958Z"
   },
   {
    "duration": 13,
    "start_time": "2023-12-10T11:29:59.551Z"
   },
   {
    "duration": 80,
    "start_time": "2023-12-10T11:32:00.117Z"
   },
   {
    "duration": 15,
    "start_time": "2023-12-10T11:32:26.772Z"
   },
   {
    "duration": 13,
    "start_time": "2023-12-10T11:33:00.161Z"
   },
   {
    "duration": 14,
    "start_time": "2023-12-10T11:33:14.496Z"
   },
   {
    "duration": 16,
    "start_time": "2023-12-10T11:33:40.583Z"
   },
   {
    "duration": 84,
    "start_time": "2023-12-10T11:34:22.485Z"
   },
   {
    "duration": 15,
    "start_time": "2023-12-10T11:34:26.830Z"
   },
   {
    "duration": 18,
    "start_time": "2023-12-10T11:38:27.188Z"
   },
   {
    "duration": 75,
    "start_time": "2023-12-10T11:38:45.324Z"
   },
   {
    "duration": 13,
    "start_time": "2023-12-10T11:38:48.776Z"
   },
   {
    "duration": 13,
    "start_time": "2023-12-10T11:39:00.611Z"
   },
   {
    "duration": 22,
    "start_time": "2023-12-10T11:39:14.818Z"
   },
   {
    "duration": 18,
    "start_time": "2023-12-10T11:39:21.603Z"
   },
   {
    "duration": 20,
    "start_time": "2023-12-10T11:41:56.639Z"
   },
   {
    "duration": 5,
    "start_time": "2023-12-10T11:43:26.424Z"
   },
   {
    "duration": 5,
    "start_time": "2023-12-10T11:43:40.246Z"
   },
   {
    "duration": 1228,
    "start_time": "2023-12-10T11:44:48.165Z"
   },
   {
    "duration": 77,
    "start_time": "2023-12-10T11:44:49.395Z"
   },
   {
    "duration": 7,
    "start_time": "2023-12-10T11:44:49.474Z"
   },
   {
    "duration": 74,
    "start_time": "2023-12-10T11:44:49.482Z"
   },
   {
    "duration": 3,
    "start_time": "2023-12-10T11:44:49.558Z"
   },
   {
    "duration": 13,
    "start_time": "2023-12-10T11:44:49.563Z"
   },
   {
    "duration": 17,
    "start_time": "2023-12-10T11:44:49.578Z"
   },
   {
    "duration": 18,
    "start_time": "2023-12-10T11:44:49.597Z"
   },
   {
    "duration": 20,
    "start_time": "2023-12-10T11:44:49.617Z"
   },
   {
    "duration": 8,
    "start_time": "2023-12-10T11:44:49.638Z"
   },
   {
    "duration": 21,
    "start_time": "2023-12-10T11:44:49.647Z"
   },
   {
    "duration": 11,
    "start_time": "2023-12-10T11:44:49.670Z"
   },
   {
    "duration": 12,
    "start_time": "2023-12-10T11:44:49.683Z"
   },
   {
    "duration": 545,
    "start_time": "2023-12-10T11:44:49.699Z"
   },
   {
    "duration": 387,
    "start_time": "2023-12-10T11:44:50.246Z"
   },
   {
    "duration": 345,
    "start_time": "2023-12-10T11:44:50.635Z"
   },
   {
    "duration": 328,
    "start_time": "2023-12-10T11:44:50.981Z"
   },
   {
    "duration": 343,
    "start_time": "2023-12-10T11:44:51.311Z"
   },
   {
    "duration": 187,
    "start_time": "2023-12-10T11:44:51.656Z"
   },
   {
    "duration": 9,
    "start_time": "2023-12-10T11:44:51.845Z"
   },
   {
    "duration": 5,
    "start_time": "2023-12-10T11:44:51.856Z"
   },
   {
    "duration": 218,
    "start_time": "2023-12-10T11:44:51.862Z"
   },
   {
    "duration": 9,
    "start_time": "2023-12-10T11:44:52.081Z"
   },
   {
    "duration": 67,
    "start_time": "2023-12-10T11:44:52.091Z"
   },
   {
    "duration": 44,
    "start_time": "2023-12-10T11:44:52.160Z"
   },
   {
    "duration": 69,
    "start_time": "2023-12-10T11:44:52.206Z"
   },
   {
    "duration": 77,
    "start_time": "2023-12-10T11:44:52.276Z"
   },
   {
    "duration": 29,
    "start_time": "2023-12-10T11:44:52.355Z"
   },
   {
    "duration": 160,
    "start_time": "2023-12-10T11:44:52.386Z"
   },
   {
    "duration": 6,
    "start_time": "2023-12-10T11:44:52.548Z"
   },
   {
    "duration": 29,
    "start_time": "2023-12-10T11:44:52.556Z"
   },
   {
    "duration": 16,
    "start_time": "2023-12-10T11:44:52.586Z"
   },
   {
    "duration": 10,
    "start_time": "2023-12-10T11:44:52.622Z"
   },
   {
    "duration": 30,
    "start_time": "2023-12-10T11:44:52.634Z"
   },
   {
    "duration": 33,
    "start_time": "2023-12-10T11:44:52.665Z"
   },
   {
    "duration": 14,
    "start_time": "2023-12-10T11:44:52.700Z"
   },
   {
    "duration": 619,
    "start_time": "2023-12-10T11:44:52.715Z"
   },
   {
    "duration": 1216,
    "start_time": "2023-12-10T11:46:38.149Z"
   },
   {
    "duration": 76,
    "start_time": "2023-12-10T11:46:39.367Z"
   },
   {
    "duration": 5,
    "start_time": "2023-12-10T11:46:39.445Z"
   },
   {
    "duration": 80,
    "start_time": "2023-12-10T11:46:39.451Z"
   },
   {
    "duration": 3,
    "start_time": "2023-12-10T11:46:39.534Z"
   },
   {
    "duration": 5,
    "start_time": "2023-12-10T11:46:39.538Z"
   },
   {
    "duration": 5,
    "start_time": "2023-12-10T11:46:39.544Z"
   },
   {
    "duration": 7,
    "start_time": "2023-12-10T11:46:39.551Z"
   },
   {
    "duration": 6,
    "start_time": "2023-12-10T11:46:39.560Z"
   },
   {
    "duration": 11,
    "start_time": "2023-12-10T11:46:39.567Z"
   },
   {
    "duration": 56,
    "start_time": "2023-12-10T11:46:39.579Z"
   },
   {
    "duration": 10,
    "start_time": "2023-12-10T11:46:39.637Z"
   },
   {
    "duration": 10,
    "start_time": "2023-12-10T11:46:39.649Z"
   },
   {
    "duration": 578,
    "start_time": "2023-12-10T11:46:39.662Z"
   },
   {
    "duration": 397,
    "start_time": "2023-12-10T11:46:40.241Z"
   },
   {
    "duration": 359,
    "start_time": "2023-12-10T11:46:40.639Z"
   },
   {
    "duration": 341,
    "start_time": "2023-12-10T11:46:41.000Z"
   },
   {
    "duration": 339,
    "start_time": "2023-12-10T11:46:41.343Z"
   },
   {
    "duration": 190,
    "start_time": "2023-12-10T11:46:41.684Z"
   },
   {
    "duration": 9,
    "start_time": "2023-12-10T11:46:41.876Z"
   },
   {
    "duration": 11,
    "start_time": "2023-12-10T11:46:41.887Z"
   },
   {
    "duration": 217,
    "start_time": "2023-12-10T11:46:41.899Z"
   },
   {
    "duration": 9,
    "start_time": "2023-12-10T11:46:42.118Z"
   },
   {
    "duration": 46,
    "start_time": "2023-12-10T11:46:42.128Z"
   },
   {
    "duration": 71,
    "start_time": "2023-12-10T11:46:42.176Z"
   },
   {
    "duration": 58,
    "start_time": "2023-12-10T11:46:42.249Z"
   },
   {
    "duration": 77,
    "start_time": "2023-12-10T11:46:42.309Z"
   },
   {
    "duration": 35,
    "start_time": "2023-12-10T11:46:42.387Z"
   },
   {
    "duration": 171,
    "start_time": "2023-12-10T11:46:42.424Z"
   },
   {
    "duration": 6,
    "start_time": "2023-12-10T11:46:42.597Z"
   },
   {
    "duration": 44,
    "start_time": "2023-12-10T11:46:42.604Z"
   },
   {
    "duration": 14,
    "start_time": "2023-12-10T11:46:42.649Z"
   },
   {
    "duration": 10,
    "start_time": "2023-12-10T11:46:42.665Z"
   },
   {
    "duration": 9,
    "start_time": "2023-12-10T11:46:42.676Z"
   },
   {
    "duration": 27,
    "start_time": "2023-12-10T11:46:42.722Z"
   },
   {
    "duration": 14,
    "start_time": "2023-12-10T11:46:42.751Z"
   },
   {
    "duration": 596,
    "start_time": "2023-12-10T11:46:42.767Z"
   },
   {
    "duration": 1203,
    "start_time": "2023-12-10T13:26:05.219Z"
   },
   {
    "duration": 191,
    "start_time": "2023-12-10T13:26:06.424Z"
   },
   {
    "duration": 4,
    "start_time": "2023-12-10T13:26:06.616Z"
   },
   {
    "duration": 60,
    "start_time": "2023-12-10T13:26:06.622Z"
   },
   {
    "duration": 2,
    "start_time": "2023-12-10T13:26:06.683Z"
   },
   {
    "duration": 12,
    "start_time": "2023-12-10T13:26:06.686Z"
   },
   {
    "duration": 16,
    "start_time": "2023-12-10T13:26:06.699Z"
   },
   {
    "duration": 21,
    "start_time": "2023-12-10T13:26:06.716Z"
   },
   {
    "duration": 38,
    "start_time": "2023-12-10T13:26:06.738Z"
   },
   {
    "duration": 18,
    "start_time": "2023-12-10T13:26:06.778Z"
   },
   {
    "duration": 27,
    "start_time": "2023-12-10T13:26:06.797Z"
   },
   {
    "duration": 8,
    "start_time": "2023-12-10T13:26:06.826Z"
   },
   {
    "duration": 18,
    "start_time": "2023-12-10T13:26:06.835Z"
   },
   {
    "duration": 423,
    "start_time": "2023-12-10T13:26:06.854Z"
   },
   {
    "duration": 299,
    "start_time": "2023-12-10T13:26:07.278Z"
   },
   {
    "duration": 368,
    "start_time": "2023-12-10T13:26:07.578Z"
   },
   {
    "duration": 259,
    "start_time": "2023-12-10T13:26:07.947Z"
   },
   {
    "duration": 308,
    "start_time": "2023-12-10T13:26:08.207Z"
   },
   {
    "duration": 143,
    "start_time": "2023-12-10T13:26:08.516Z"
   },
   {
    "duration": 8,
    "start_time": "2023-12-10T13:26:08.667Z"
   },
   {
    "duration": 5,
    "start_time": "2023-12-10T13:26:08.676Z"
   },
   {
    "duration": 159,
    "start_time": "2023-12-10T13:26:08.682Z"
   },
   {
    "duration": 6,
    "start_time": "2023-12-10T13:26:08.842Z"
   },
   {
    "duration": 35,
    "start_time": "2023-12-10T13:26:08.849Z"
   },
   {
    "duration": 45,
    "start_time": "2023-12-10T13:26:08.885Z"
   },
   {
    "duration": 50,
    "start_time": "2023-12-10T13:26:08.931Z"
   },
   {
    "duration": 59,
    "start_time": "2023-12-10T13:26:08.982Z"
   },
   {
    "duration": 16,
    "start_time": "2023-12-10T13:26:09.044Z"
   },
   {
    "duration": 127,
    "start_time": "2023-12-10T13:26:09.061Z"
   },
   {
    "duration": 5,
    "start_time": "2023-12-10T13:26:09.189Z"
   },
   {
    "duration": 33,
    "start_time": "2023-12-10T13:26:09.195Z"
   },
   {
    "duration": 10,
    "start_time": "2023-12-10T13:26:09.229Z"
   },
   {
    "duration": 7,
    "start_time": "2023-12-10T13:26:09.240Z"
   },
   {
    "duration": 9,
    "start_time": "2023-12-10T13:26:09.248Z"
   },
   {
    "duration": 18,
    "start_time": "2023-12-10T13:26:09.258Z"
   },
   {
    "duration": 10,
    "start_time": "2023-12-10T13:26:09.277Z"
   },
   {
    "duration": 469,
    "start_time": "2023-12-10T13:26:09.288Z"
   }
  ],
  "kernelspec": {
   "display_name": "Python 3 (ipykernel)",
   "language": "python",
   "name": "python3"
  },
  "language_info": {
   "codemirror_mode": {
    "name": "ipython",
    "version": 3
   },
   "file_extension": ".py",
   "mimetype": "text/x-python",
   "name": "python",
   "nbconvert_exporter": "python",
   "pygments_lexer": "ipython3",
   "version": "3.9.5"
  },
  "toc": {
   "base_numbering": 1,
   "nav_menu": {},
   "number_sections": true,
   "sideBar": false,
   "skip_h1_title": true,
   "title_cell": "Содержание",
   "title_sidebar": "Содержание",
   "toc_cell": true,
   "toc_position": {
    "height": "500.328px",
    "left": "33px",
    "top": "111.141px",
    "width": "195px"
   },
   "toc_section_display": true,
   "toc_window_display": true
  }
 },
 "nbformat": 4,
 "nbformat_minor": 4
}
