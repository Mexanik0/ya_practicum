{
 "cells": [
  {
   "cell_type": "markdown",
   "metadata": {},
   "source": [
    "# Сборный проект №1"
   ]
  },
  {
   "cell_type": "markdown",
   "metadata": {
    "toc": true
   },
   "source": [
    "<h1>Содержание<span class=\"tocSkip\"></span></h1>\n",
    "<div class=\"toc\"><ul class=\"toc-item\"><li><span><a href=\"#Описание-проекта\" data-toc-modified-id=\"Описание-проекта-1\"><span class=\"toc-item-num\">1&nbsp;&nbsp;</span>Описание проекта</a></span></li><li><span><a href=\"#Ознакомление-с-данными\" data-toc-modified-id=\"Ознакомление-с-данными-2\"><span class=\"toc-item-num\">2&nbsp;&nbsp;</span>Ознакомление с данными</a></span></li><li><span><a href=\"#Предобработка-данных\" data-toc-modified-id=\"Предобработка-данных-3\"><span class=\"toc-item-num\">3&nbsp;&nbsp;</span>Предобработка данных</a></span><ul class=\"toc-item\"><li><span><a href=\"#Наименования-столбцов\" data-toc-modified-id=\"Наименования-столбцов-3.1\"><span class=\"toc-item-num\">3.1&nbsp;&nbsp;</span>Наименования столбцов</a></span></li><li><span><a href=\"#Обработка-пропусков\" data-toc-modified-id=\"Обработка-пропусков-3.2\"><span class=\"toc-item-num\">3.2&nbsp;&nbsp;</span>Обработка пропусков</a></span></li><li><span><a href=\"#Обработка-дубликатов\" data-toc-modified-id=\"Обработка-дубликатов-3.3\"><span class=\"toc-item-num\">3.3&nbsp;&nbsp;</span>Обработка дубликатов</a></span></li><li><span><a href=\"#Изменение-типа-данных\" data-toc-modified-id=\"Изменение-типа-данных-3.4\"><span class=\"toc-item-num\">3.4&nbsp;&nbsp;</span>Изменение типа данных</a></span></li><li><span><a href=\"#Суммарные-продажи-в-регионах\" data-toc-modified-id=\"Суммарные-продажи-в-регионах-3.5\"><span class=\"toc-item-num\">3.5&nbsp;&nbsp;</span>Суммарные продажи в регионах</a></span></li></ul></li><li><span><a href=\"#Исследовательский-анализ-данных\" data-toc-modified-id=\"Исследовательский-анализ-данных-4\"><span class=\"toc-item-num\">4&nbsp;&nbsp;</span>Исследовательский анализ данных</a></span><ul class=\"toc-item\"><li><span><a href=\"#Динамика-выпуска-игр\" data-toc-modified-id=\"Динамика-выпуска-игр-4.1\"><span class=\"toc-item-num\">4.1&nbsp;&nbsp;</span>Динамика выпуска игр</a></span></li><li><span><a href=\"#Динамика-продаж-по-платформам\" data-toc-modified-id=\"Динамика-продаж-по-платформам-4.2\"><span class=\"toc-item-num\">4.2&nbsp;&nbsp;</span>Динамика продаж по платформам</a></span></li><li><span><a href=\"#Актуальный-период\" data-toc-modified-id=\"Актуальный-период-4.3\"><span class=\"toc-item-num\">4.3&nbsp;&nbsp;</span>Актуальный период</a></span></li><li><span><a href=\"#Потенциально-прибыльные-платформы\" data-toc-modified-id=\"Потенциально-прибыльные-платформы-4.4\"><span class=\"toc-item-num\">4.4&nbsp;&nbsp;</span>Потенциально прибыльные платформы</a></span></li><li><span><a href=\"#Ящик-с-усами-по-продажам\" data-toc-modified-id=\"Ящик-с-усами-по-продажам-4.5\"><span class=\"toc-item-num\">4.5&nbsp;&nbsp;</span>Ящик с усами по продажам</a></span></li><li><span><a href=\"#Влияние-отзывов-на-продажи\" data-toc-modified-id=\"Влияние-отзывов-на-продажи-4.6\"><span class=\"toc-item-num\">4.6&nbsp;&nbsp;</span>Влияние отзывов на продажи</a></span><li><span><a href=\"#Распределение-игр-по-жанрам\" data-toc-modified-id=\"Распределение-игр-по-жанрам-4.7\"><span class=\"toc-item-num\">4.7&nbsp;&nbsp;</span>Распределение игр по жанрам</a></span></li></ul></li><li><span><a href=\"#Портрет-пользователя\" data-toc-modified-id=\"Портрет-пользователя-5\"><span class=\"toc-item-num\">5&nbsp;&nbsp;</span>Портрет пользователя</a></span><ul class=\"toc-item\"><li><span><a href=\"#ТОП-5-популярных-платформ\" data-toc-modified-id=\"ТОП-5-популярных-платформ-5.1\"><span class=\"toc-item-num\">5.1&nbsp;&nbsp;</span>ТОП 5 популярных платформ</a></span><li><span><a href=\"#ТОП-5-популярных-жанров\" data-toc-modified-id=\"ТОП-5-популярных-жанров-5.2\"><span class=\"toc-item-num\">5.2&nbsp;&nbsp;</span>ТОП 5 популярных жанров</a></span></li><li><span><a href=\"#Влияние-рейтинга-ESRB-на-продажи-в-регионе\" data-toc-modified-id=\"Влияние-рейтинга-ESRB-на-продажи-в-регионе-5.3\"><span class=\"toc-item-num\">5.3&nbsp;&nbsp;</span>Влияние рейтинга ESRB на продажи в регионе</a></span></li></ul></li><li><span><a href=\"#Проверка-гипотез\" data-toc-modified-id=\"Проверка-гипотез-6\"><span class=\"toc-item-num\">6&nbsp;&nbsp;</span>Проверка гипотез</a></span><ul class=\"toc-item\"><li><span><a href=\"#Гипотеза-1\" data-toc-modified-id=\"Гипотеза-1-6.1\"><span class=\"toc-item-num\">6.1&nbsp;&nbsp;</span>Гипотеза 1</a></span></li><li><span><a href=\"#Гипотеза-2\" data-toc-modified-id=\"Гипотеза-2-6.2\"><span class=\"toc-item-num\">6.2&nbsp;&nbsp;</span>Гипотеза 2</a></span></li></ul></li><li><span><a href=\"#Вывод\" data-toc-modified-id=\"Вывод-7\"><span class=\"toc-item-num\">7&nbsp;&nbsp;</span>Вывод</a></span></li></ul></div>"
   ]
  },
  {
   "cell_type": "markdown",
   "metadata": {},
   "source": [
    "## Описание проекта"
   ]
  },
  {
   "cell_type": "markdown",
   "metadata": {},
   "source": [
    "Интернет-магазин «Стримчик» продаёт по всему миру компьютерные игры. В нашем распоряжении исторические данные (файл `games.csv`) из открытых источников о продажах игр, оценки пользователей и экспертов, жанры и платформы (например, Xbox или PlayStation).\n",
    "\n",
    "**Цель проекта** - выявить определяющие успешность игры закономерности.\n",
    "\n",
    "Это позволит сделать ставку на потенциально популярный продукт и спланировать рекламные кампании.\n",
    "\n",
    "Вместе с данными нам было направлено описание полей таблицы:\n",
    "\n",
    "- `Name` — название игры\n",
    "- `Platform` — платформа\n",
    "- `Year_of_Release` — год выпуска\n",
    "- `Genre` — жанр игры\n",
    "- `NA_sales` — продажи в Северной Америке (миллионы проданных копий)\n",
    "- `EU_sales` — продажи в Европе (миллионы проданных копий)\n",
    "- `JP_sales` — продажи в Японии (миллионы проданных копий)\n",
    "- `Other_sales` — продажи в других странах (миллионы проданных копий)\n",
    "- `Critic_Score` — оценка критиков (максимум 100)\n",
    "- `User_Score` — оценка пользователей (максимум 10)\n",
    "- `Rating` — рейтинг от организации ESRB (англ. Entertainment Software Rating Board). Эта ассоциация определяет рейтинг компьютерных игр и присваивает им подходящую возрастную категорию."
   ]
  },
  {
   "cell_type": "markdown",
   "metadata": {},
   "source": [
    "## Ознакомление с данными"
   ]
  },
  {
   "cell_type": "code",
   "execution_count": 1,
   "metadata": {},
   "outputs": [],
   "source": [
    "# импорт библиотек\n",
    "import pandas as pd\n",
    "import matplotlib.pyplot as plt\n",
    "import numpy as np\n",
    "from scipy import stats as st\n",
    "import seaborn as sns\n",
    "import warnings\n",
    "\n",
    "pd.set_option(\"display.float_format\", \"{:.2f}\".format)\n",
    "pd.set_option('chained_assignment', None) # Добавлено, чтобы отключить предупреждения v1\n",
    "warnings.filterwarnings(\"ignore\")"
   ]
  },
  {
   "cell_type": "code",
   "execution_count": 2,
   "metadata": {},
   "outputs": [],
   "source": [
    "# Прочтем данные из таблицы и запишем их в переменную\n",
    "df = pd.read_csv('/datasets/games.csv')"
   ]
  },
  {
   "cell_type": "code",
   "execution_count": 3,
   "metadata": {
    "scrolled": true
   },
   "outputs": [
    {
     "data": {
      "text/html": [
       "<div>\n",
       "<style scoped>\n",
       "    .dataframe tbody tr th:only-of-type {\n",
       "        vertical-align: middle;\n",
       "    }\n",
       "\n",
       "    .dataframe tbody tr th {\n",
       "        vertical-align: top;\n",
       "    }\n",
       "\n",
       "    .dataframe thead th {\n",
       "        text-align: right;\n",
       "    }\n",
       "</style>\n",
       "<table border=\"1\" class=\"dataframe\">\n",
       "  <thead>\n",
       "    <tr style=\"text-align: right;\">\n",
       "      <th></th>\n",
       "      <th>Name</th>\n",
       "      <th>Platform</th>\n",
       "      <th>Year_of_Release</th>\n",
       "      <th>Genre</th>\n",
       "      <th>NA_sales</th>\n",
       "      <th>EU_sales</th>\n",
       "      <th>JP_sales</th>\n",
       "      <th>Other_sales</th>\n",
       "      <th>Critic_Score</th>\n",
       "      <th>User_Score</th>\n",
       "      <th>Rating</th>\n",
       "    </tr>\n",
       "  </thead>\n",
       "  <tbody>\n",
       "    <tr>\n",
       "      <th>0</th>\n",
       "      <td>Wii Sports</td>\n",
       "      <td>Wii</td>\n",
       "      <td>2006.00</td>\n",
       "      <td>Sports</td>\n",
       "      <td>41.36</td>\n",
       "      <td>28.96</td>\n",
       "      <td>3.77</td>\n",
       "      <td>8.45</td>\n",
       "      <td>76.00</td>\n",
       "      <td>8</td>\n",
       "      <td>E</td>\n",
       "    </tr>\n",
       "    <tr>\n",
       "      <th>1</th>\n",
       "      <td>Super Mario Bros.</td>\n",
       "      <td>NES</td>\n",
       "      <td>1985.00</td>\n",
       "      <td>Platform</td>\n",
       "      <td>29.08</td>\n",
       "      <td>3.58</td>\n",
       "      <td>6.81</td>\n",
       "      <td>0.77</td>\n",
       "      <td>NaN</td>\n",
       "      <td>NaN</td>\n",
       "      <td>NaN</td>\n",
       "    </tr>\n",
       "    <tr>\n",
       "      <th>2</th>\n",
       "      <td>Mario Kart Wii</td>\n",
       "      <td>Wii</td>\n",
       "      <td>2008.00</td>\n",
       "      <td>Racing</td>\n",
       "      <td>15.68</td>\n",
       "      <td>12.76</td>\n",
       "      <td>3.79</td>\n",
       "      <td>3.29</td>\n",
       "      <td>82.00</td>\n",
       "      <td>8.3</td>\n",
       "      <td>E</td>\n",
       "    </tr>\n",
       "    <tr>\n",
       "      <th>3</th>\n",
       "      <td>Wii Sports Resort</td>\n",
       "      <td>Wii</td>\n",
       "      <td>2009.00</td>\n",
       "      <td>Sports</td>\n",
       "      <td>15.61</td>\n",
       "      <td>10.93</td>\n",
       "      <td>3.28</td>\n",
       "      <td>2.95</td>\n",
       "      <td>80.00</td>\n",
       "      <td>8</td>\n",
       "      <td>E</td>\n",
       "    </tr>\n",
       "    <tr>\n",
       "      <th>4</th>\n",
       "      <td>Pokemon Red/Pokemon Blue</td>\n",
       "      <td>GB</td>\n",
       "      <td>1996.00</td>\n",
       "      <td>Role-Playing</td>\n",
       "      <td>11.27</td>\n",
       "      <td>8.89</td>\n",
       "      <td>10.22</td>\n",
       "      <td>1.00</td>\n",
       "      <td>NaN</td>\n",
       "      <td>NaN</td>\n",
       "      <td>NaN</td>\n",
       "    </tr>\n",
       "  </tbody>\n",
       "</table>\n",
       "</div>"
      ],
      "text/plain": [
       "                       Name Platform  Year_of_Release         Genre  NA_sales  \\\n",
       "0                Wii Sports      Wii          2006.00        Sports     41.36   \n",
       "1         Super Mario Bros.      NES          1985.00      Platform     29.08   \n",
       "2            Mario Kart Wii      Wii          2008.00        Racing     15.68   \n",
       "3         Wii Sports Resort      Wii          2009.00        Sports     15.61   \n",
       "4  Pokemon Red/Pokemon Blue       GB          1996.00  Role-Playing     11.27   \n",
       "\n",
       "   EU_sales  JP_sales  Other_sales  Critic_Score User_Score Rating  \n",
       "0     28.96      3.77         8.45         76.00          8      E  \n",
       "1      3.58      6.81         0.77           NaN        NaN    NaN  \n",
       "2     12.76      3.79         3.29         82.00        8.3      E  \n",
       "3     10.93      3.28         2.95         80.00          8      E  \n",
       "4      8.89     10.22         1.00           NaN        NaN    NaN  "
      ]
     },
     "metadata": {},
     "output_type": "display_data"
    }
   ],
   "source": [
    "# Первые 5 записей таблицы\n",
    "display(df.head())"
   ]
  },
  {
   "cell_type": "code",
   "execution_count": 4,
   "metadata": {},
   "outputs": [
    {
     "data": {
      "text/plain": [
       "Critic_Score       8578\n",
       "Rating             6766\n",
       "User_Score         6701\n",
       "Year_of_Release     269\n",
       "Name                  2\n",
       "Genre                 2\n",
       "Platform              0\n",
       "NA_sales              0\n",
       "EU_sales              0\n",
       "JP_sales              0\n",
       "Other_sales           0\n",
       "dtype: int64"
      ]
     },
     "metadata": {},
     "output_type": "display_data"
    },
    {
     "data": {
      "text/plain": [
       "Critic_Score      51.32\n",
       "Rating            40.48\n",
       "User_Score        40.09\n",
       "Year_of_Release    1.61\n",
       "Name               0.01\n",
       "Genre              0.01\n",
       "Platform           0.00\n",
       "NA_sales           0.00\n",
       "EU_sales           0.00\n",
       "JP_sales           0.00\n",
       "Other_sales        0.00\n",
       "dtype: float64"
      ]
     },
     "metadata": {},
     "output_type": "display_data"
    },
    {
     "name": "stdout",
     "output_type": "stream",
     "text": [
      "Средний процент пропусков составил: 12.14%\n"
     ]
    }
   ],
   "source": [
    "# Количество пропусков\n",
    "display(df.isna().sum().sort_values(ascending = False))\n",
    "\n",
    "# Доля пропусков\n",
    "display((df.isna().sum()/len(df)*100).sort_values(ascending = False))\n",
    "print(f'Средний процент пропусков составил: {(df.isna().sum()/len(df)*100).mean():.2f}%')"
   ]
  },
  {
   "cell_type": "code",
   "execution_count": 5,
   "metadata": {
    "scrolled": true
   },
   "outputs": [
    {
     "name": "stdout",
     "output_type": "stream",
     "text": [
      "<class 'pandas.core.frame.DataFrame'>\n",
      "RangeIndex: 16715 entries, 0 to 16714\n",
      "Data columns (total 11 columns):\n",
      " #   Column           Non-Null Count  Dtype  \n",
      "---  ------           --------------  -----  \n",
      " 0   Name             16713 non-null  object \n",
      " 1   Platform         16715 non-null  object \n",
      " 2   Year_of_Release  16446 non-null  float64\n",
      " 3   Genre            16713 non-null  object \n",
      " 4   NA_sales         16715 non-null  float64\n",
      " 5   EU_sales         16715 non-null  float64\n",
      " 6   JP_sales         16715 non-null  float64\n",
      " 7   Other_sales      16715 non-null  float64\n",
      " 8   Critic_Score     8137 non-null   float64\n",
      " 9   User_Score       10014 non-null  object \n",
      " 10  Rating           9949 non-null   object \n",
      "dtypes: float64(6), object(5)\n",
      "memory usage: 1.4+ MB\n"
     ]
    },
    {
     "data": {
      "text/plain": [
       "None"
      ]
     },
     "metadata": {},
     "output_type": "display_data"
    }
   ],
   "source": [
    "# Общая информация о данных\n",
    "display(df.info())"
   ]
  },
  {
   "cell_type": "code",
   "execution_count": 6,
   "metadata": {},
   "outputs": [
    {
     "data": {
      "text/html": [
       "<div>\n",
       "<style scoped>\n",
       "    .dataframe tbody tr th:only-of-type {\n",
       "        vertical-align: middle;\n",
       "    }\n",
       "\n",
       "    .dataframe tbody tr th {\n",
       "        vertical-align: top;\n",
       "    }\n",
       "\n",
       "    .dataframe thead th {\n",
       "        text-align: right;\n",
       "    }\n",
       "</style>\n",
       "<table border=\"1\" class=\"dataframe\">\n",
       "  <thead>\n",
       "    <tr style=\"text-align: right;\">\n",
       "      <th></th>\n",
       "      <th>count</th>\n",
       "      <th>mean</th>\n",
       "      <th>std</th>\n",
       "      <th>min</th>\n",
       "      <th>5%</th>\n",
       "      <th>25%</th>\n",
       "      <th>50%</th>\n",
       "      <th>75%</th>\n",
       "      <th>95%</th>\n",
       "      <th>99%</th>\n",
       "      <th>max</th>\n",
       "    </tr>\n",
       "  </thead>\n",
       "  <tbody>\n",
       "    <tr>\n",
       "      <th>Year_of_Release</th>\n",
       "      <td>16446.00</td>\n",
       "      <td>2006.48</td>\n",
       "      <td>5.88</td>\n",
       "      <td>1980.00</td>\n",
       "      <td>1996.00</td>\n",
       "      <td>2003.00</td>\n",
       "      <td>2007.00</td>\n",
       "      <td>2010.00</td>\n",
       "      <td>2015.00</td>\n",
       "      <td>2016.00</td>\n",
       "      <td>2016.00</td>\n",
       "    </tr>\n",
       "    <tr>\n",
       "      <th>NA_sales</th>\n",
       "      <td>16715.00</td>\n",
       "      <td>0.26</td>\n",
       "      <td>0.81</td>\n",
       "      <td>0.00</td>\n",
       "      <td>0.00</td>\n",
       "      <td>0.00</td>\n",
       "      <td>0.08</td>\n",
       "      <td>0.24</td>\n",
       "      <td>1.06</td>\n",
       "      <td>2.79</td>\n",
       "      <td>41.36</td>\n",
       "    </tr>\n",
       "    <tr>\n",
       "      <th>EU_sales</th>\n",
       "      <td>16715.00</td>\n",
       "      <td>0.15</td>\n",
       "      <td>0.50</td>\n",
       "      <td>0.00</td>\n",
       "      <td>0.00</td>\n",
       "      <td>0.00</td>\n",
       "      <td>0.02</td>\n",
       "      <td>0.11</td>\n",
       "      <td>0.62</td>\n",
       "      <td>1.94</td>\n",
       "      <td>28.96</td>\n",
       "    </tr>\n",
       "    <tr>\n",
       "      <th>JP_sales</th>\n",
       "      <td>16715.00</td>\n",
       "      <td>0.08</td>\n",
       "      <td>0.31</td>\n",
       "      <td>0.00</td>\n",
       "      <td>0.00</td>\n",
       "      <td>0.00</td>\n",
       "      <td>0.00</td>\n",
       "      <td>0.04</td>\n",
       "      <td>0.36</td>\n",
       "      <td>1.27</td>\n",
       "      <td>10.22</td>\n",
       "    </tr>\n",
       "    <tr>\n",
       "      <th>Other_sales</th>\n",
       "      <td>16715.00</td>\n",
       "      <td>0.05</td>\n",
       "      <td>0.19</td>\n",
       "      <td>0.00</td>\n",
       "      <td>0.00</td>\n",
       "      <td>0.00</td>\n",
       "      <td>0.01</td>\n",
       "      <td>0.03</td>\n",
       "      <td>0.20</td>\n",
       "      <td>0.63</td>\n",
       "      <td>10.57</td>\n",
       "    </tr>\n",
       "    <tr>\n",
       "      <th>Critic_Score</th>\n",
       "      <td>8137.00</td>\n",
       "      <td>68.97</td>\n",
       "      <td>13.94</td>\n",
       "      <td>13.00</td>\n",
       "      <td>43.00</td>\n",
       "      <td>60.00</td>\n",
       "      <td>71.00</td>\n",
       "      <td>79.00</td>\n",
       "      <td>89.00</td>\n",
       "      <td>94.00</td>\n",
       "      <td>98.00</td>\n",
       "    </tr>\n",
       "  </tbody>\n",
       "</table>\n",
       "</div>"
      ],
      "text/plain": [
       "                   count    mean   std     min      5%     25%     50%  \\\n",
       "Year_of_Release 16446.00 2006.48  5.88 1980.00 1996.00 2003.00 2007.00   \n",
       "NA_sales        16715.00    0.26  0.81    0.00    0.00    0.00    0.08   \n",
       "EU_sales        16715.00    0.15  0.50    0.00    0.00    0.00    0.02   \n",
       "JP_sales        16715.00    0.08  0.31    0.00    0.00    0.00    0.00   \n",
       "Other_sales     16715.00    0.05  0.19    0.00    0.00    0.00    0.01   \n",
       "Critic_Score     8137.00   68.97 13.94   13.00   43.00   60.00   71.00   \n",
       "\n",
       "                    75%     95%     99%     max  \n",
       "Year_of_Release 2010.00 2015.00 2016.00 2016.00  \n",
       "NA_sales           0.24    1.06    2.79   41.36  \n",
       "EU_sales           0.11    0.62    1.94   28.96  \n",
       "JP_sales           0.04    0.36    1.27   10.22  \n",
       "Other_sales        0.03    0.20    0.63   10.57  \n",
       "Critic_Score      79.00   89.00   94.00   98.00  "
      ]
     },
     "metadata": {},
     "output_type": "display_data"
    }
   ],
   "source": [
    "# Описательная статистика\n",
    "display(df.describe(percentiles=[0.05, 1/4, 1/2, 3/4, 0.95, 0.99]).T)"
   ]
  },
  {
   "cell_type": "code",
   "execution_count": 7,
   "metadata": {},
   "outputs": [
    {
     "name": "stdout",
     "output_type": "stream",
     "text": [
      "Количество явных дубликатов: 0\n"
     ]
    }
   ],
   "source": [
    "print('Количество явных дубликатов:', df.duplicated().sum())"
   ]
  },
  {
   "cell_type": "code",
   "execution_count": 8,
   "metadata": {},
   "outputs": [
    {
     "data": {
      "text/html": [
       "<div>\n",
       "<style scoped>\n",
       "    .dataframe tbody tr th:only-of-type {\n",
       "        vertical-align: middle;\n",
       "    }\n",
       "\n",
       "    .dataframe tbody tr th {\n",
       "        vertical-align: top;\n",
       "    }\n",
       "\n",
       "    .dataframe thead th {\n",
       "        text-align: right;\n",
       "    }\n",
       "</style>\n",
       "<table border=\"1\" class=\"dataframe\">\n",
       "  <thead>\n",
       "    <tr style=\"text-align: right;\">\n",
       "      <th></th>\n",
       "      <th>Name</th>\n",
       "      <th>Platform</th>\n",
       "      <th>Year_of_Release</th>\n",
       "      <th>Genre</th>\n",
       "      <th>NA_sales</th>\n",
       "      <th>EU_sales</th>\n",
       "      <th>JP_sales</th>\n",
       "      <th>Other_sales</th>\n",
       "      <th>Critic_Score</th>\n",
       "      <th>User_Score</th>\n",
       "      <th>Rating</th>\n",
       "    </tr>\n",
       "  </thead>\n",
       "  <tbody>\n",
       "    <tr>\n",
       "      <th>14244</th>\n",
       "      <td>NaN</td>\n",
       "      <td>GEN</td>\n",
       "      <td>1993.00</td>\n",
       "      <td>NaN</td>\n",
       "      <td>0.00</td>\n",
       "      <td>0.00</td>\n",
       "      <td>0.03</td>\n",
       "      <td>0.00</td>\n",
       "      <td>NaN</td>\n",
       "      <td>NaN</td>\n",
       "      <td>NaN</td>\n",
       "    </tr>\n",
       "    <tr>\n",
       "      <th>16230</th>\n",
       "      <td>Madden NFL 13</td>\n",
       "      <td>PS3</td>\n",
       "      <td>2012.00</td>\n",
       "      <td>Sports</td>\n",
       "      <td>0.00</td>\n",
       "      <td>0.01</td>\n",
       "      <td>0.00</td>\n",
       "      <td>0.00</td>\n",
       "      <td>83.00</td>\n",
       "      <td>5.5</td>\n",
       "      <td>E</td>\n",
       "    </tr>\n",
       "  </tbody>\n",
       "</table>\n",
       "</div>"
      ],
      "text/plain": [
       "                Name Platform  Year_of_Release   Genre  NA_sales  EU_sales  \\\n",
       "14244            NaN      GEN          1993.00     NaN      0.00      0.00   \n",
       "16230  Madden NFL 13      PS3          2012.00  Sports      0.00      0.01   \n",
       "\n",
       "       JP_sales  Other_sales  Critic_Score User_Score Rating  \n",
       "14244      0.03         0.00           NaN        NaN    NaN  \n",
       "16230      0.00         0.00         83.00        5.5      E  "
      ]
     },
     "execution_count": 8,
     "metadata": {},
     "output_type": "execute_result"
    }
   ],
   "source": [
    "duplicate_rows = df[df.duplicated(['Name', 'Platform', 'Year_of_Release'])]\n",
    "duplicate_rows"
   ]
  },
  {
   "cell_type": "markdown",
   "metadata": {},
   "source": [
    "Найдено 2 неявных дубликата. 14244 и 16230. Можно удалить обе, при этом проверить записи с name=NaN."
   ]
  },
  {
   "cell_type": "markdown",
   "metadata": {},
   "source": [
    "**Вывод**\n",
    "\n",
    "В таблице содержится 16715 записей, каждая запись - игра с 9 характеристиками. Предварительный анализ показал:\n",
    "1. В именах столбцов заглавные буквы\n",
    "2. В данных есть пропуски\n",
    "3. Некорректный тип данных в `Year_of_Release` (год релиза), значение в этом столбце должно выражаться целым числом `int`. `User_Score` выражен в `object`, корректный тип - `float` (оценка выражается в числовом выражении)\n",
    "4. Найдены неявные дубликаты по столбцам `Name`, `Platform`, `Year_of_Release`"
   ]
  },
  {
   "cell_type": "markdown",
   "metadata": {},
   "source": [
    "## Предобработка данных"
   ]
  },
  {
   "cell_type": "markdown",
   "metadata": {},
   "source": [
    "### Наименования столбцов"
   ]
  },
  {
   "cell_type": "markdown",
   "metadata": {},
   "source": [
    "Приведем наименования столбцов к нижнему регистру"
   ]
  },
  {
   "cell_type": "code",
   "execution_count": 9,
   "metadata": {},
   "outputs": [],
   "source": [
    "df.columns = map(str.lower, df.columns)"
   ]
  },
  {
   "cell_type": "markdown",
   "metadata": {},
   "source": [
    "### Обработка пропусков"
   ]
  },
  {
   "cell_type": "markdown",
   "metadata": {},
   "source": [
    "Предполагаемые причины пропусков:\n",
    "- `Critic_Score` - еще не дана оценка критиков. Рейтинг не выставлялся в те времена\n",
    "- `Rating` - рейтинг мог еще не сформироваться\n",
    "- `User_Score` - игра еще не получила оценки пользователей\n",
    "- `Year_of_Release` - не проставлен при заполнении / техническая ошибка / еще не вышла\n",
    "- `Name` - не проставлен при заполнении / техническая ошибка\n",
    "- `Genre` - не проставлен при заполнении / техническая ошибка"
   ]
  },
  {
   "cell_type": "code",
   "execution_count": 10,
   "metadata": {},
   "outputs": [
    {
     "data": {
      "text/html": [
       "<div>\n",
       "<style scoped>\n",
       "    .dataframe tbody tr th:only-of-type {\n",
       "        vertical-align: middle;\n",
       "    }\n",
       "\n",
       "    .dataframe tbody tr th {\n",
       "        vertical-align: top;\n",
       "    }\n",
       "\n",
       "    .dataframe thead th {\n",
       "        text-align: right;\n",
       "    }\n",
       "</style>\n",
       "<table border=\"1\" class=\"dataframe\">\n",
       "  <thead>\n",
       "    <tr style=\"text-align: right;\">\n",
       "      <th></th>\n",
       "      <th>name</th>\n",
       "      <th>platform</th>\n",
       "      <th>year_of_release</th>\n",
       "      <th>genre</th>\n",
       "      <th>na_sales</th>\n",
       "      <th>eu_sales</th>\n",
       "      <th>jp_sales</th>\n",
       "      <th>other_sales</th>\n",
       "      <th>critic_score</th>\n",
       "      <th>user_score</th>\n",
       "      <th>rating</th>\n",
       "    </tr>\n",
       "  </thead>\n",
       "  <tbody>\n",
       "    <tr>\n",
       "      <th>659</th>\n",
       "      <td>NaN</td>\n",
       "      <td>GEN</td>\n",
       "      <td>1993.00</td>\n",
       "      <td>NaN</td>\n",
       "      <td>1.78</td>\n",
       "      <td>0.53</td>\n",
       "      <td>0.00</td>\n",
       "      <td>0.08</td>\n",
       "      <td>NaN</td>\n",
       "      <td>NaN</td>\n",
       "      <td>NaN</td>\n",
       "    </tr>\n",
       "    <tr>\n",
       "      <th>14244</th>\n",
       "      <td>NaN</td>\n",
       "      <td>GEN</td>\n",
       "      <td>1993.00</td>\n",
       "      <td>NaN</td>\n",
       "      <td>0.00</td>\n",
       "      <td>0.00</td>\n",
       "      <td>0.03</td>\n",
       "      <td>0.00</td>\n",
       "      <td>NaN</td>\n",
       "      <td>NaN</td>\n",
       "      <td>NaN</td>\n",
       "    </tr>\n",
       "  </tbody>\n",
       "</table>\n",
       "</div>"
      ],
      "text/plain": [
       "      name platform  year_of_release genre  na_sales  eu_sales  jp_sales  \\\n",
       "659    NaN      GEN          1993.00   NaN      1.78      0.53      0.00   \n",
       "14244  NaN      GEN          1993.00   NaN      0.00      0.00      0.03   \n",
       "\n",
       "       other_sales  critic_score user_score rating  \n",
       "659           0.08           NaN        NaN    NaN  \n",
       "14244         0.00           NaN        NaN    NaN  "
      ]
     },
     "execution_count": 10,
     "metadata": {},
     "output_type": "execute_result"
    }
   ],
   "source": [
    "# Посмотрим, что находистя в 'name'\n",
    "df[df['name'].isna()]"
   ]
  },
  {
   "cell_type": "markdown",
   "metadata": {},
   "source": [
    "Ни имени, ни жанра, ни оценок и всего 2 записи. Можно удалять."
   ]
  },
  {
   "cell_type": "code",
   "execution_count": 11,
   "metadata": {},
   "outputs": [],
   "source": [
    " df = df.dropna(subset=['name']).reset_index(drop=True)"
   ]
  },
  {
   "cell_type": "markdown",
   "metadata": {},
   "source": [
    "Доля пропусков в `year_of_release` составляет всего лишь 1,61% (269 шт.), поэтому их можно удалить из датасета."
   ]
  },
  {
   "cell_type": "code",
   "execution_count": 12,
   "metadata": {},
   "outputs": [],
   "source": [
    "df = df.dropna(subset=['year_of_release']).reset_index(drop=True)"
   ]
  },
  {
   "cell_type": "markdown",
   "metadata": {},
   "source": [
    "Выведем все значения из `user_score`. Найдем значения \"tbd\""
   ]
  },
  {
   "cell_type": "code",
   "execution_count": 13,
   "metadata": {
    "scrolled": true
   },
   "outputs": [
    {
     "data": {
      "text/plain": [
       "array(['8', '8.3', '8.5', '6.6', '8.4', '8.6', '7.7', '6.3', '7.4', '8.2',\n",
       "       '9', '7.9', '8.1', '8.7', '7.1', '3.4', '5.3', '4.8', '3.2', '8.9',\n",
       "       '6.4', '7.8', '7.5', '2.6', '7.2', '9.2', '7', '7.3', '4.3', '7.6',\n",
       "       '5.7', '5', '9.1', '6.5', 'tbd', '8.8', '6.9', '9.4', '6.8', '6.1',\n",
       "       '6.7', '5.4', '4', '4.9', '4.5', '9.3', '6.2', '4.2', '6', '3.7',\n",
       "       '4.1', '5.8', '5.6', '5.5', '4.4', '4.6', '5.9', '3.9', '3.1',\n",
       "       '2.9', '5.2', '3.3', '4.7', '5.1', '3.5', '2.5', '1.9', '3', '2.7',\n",
       "       '2.2', '2', '9.5', '2.1', '3.6', '2.8', '1.8', '3.8', '0', '1.6',\n",
       "       '9.6', '2.4', '1.7', '1.1', '0.3', '1.5', '0.7', '1.2', '2.3',\n",
       "       '0.5', '1.3', '0.2', '0.6', '1.4', '0.9', '1', '9.7'], dtype=object)"
      ]
     },
     "execution_count": 13,
     "metadata": {},
     "output_type": "execute_result"
    }
   ],
   "source": [
    "(df[df['user_score'].notna()]['user_score'].unique())"
   ]
  },
  {
   "cell_type": "markdown",
   "metadata": {},
   "source": [
    "Найдено странное значение `tbd`. Вероятно поэтому тип данных в этом столбце оказался `object`. С забугорного (американского) - это to be determined = будет определено. Заменим данную аббревиатуру на NaN с типом `float`."
   ]
  },
  {
   "cell_type": "code",
   "execution_count": 14,
   "metadata": {},
   "outputs": [],
   "source": [
    "df.loc[df['user_score'] == 'tbd', 'user_score'] = float('nan')"
   ]
  },
  {
   "cell_type": "markdown",
   "metadata": {},
   "source": [
    "Пропуски в `rating`. Пишут, что ESRB предназначен для маркировки игр для США и Канады, поэтому пропуски не являются ошибочными. К этим играм не присваивают рейтинг. Поставим заглушку на пропуски."
   ]
  },
  {
   "cell_type": "code",
   "execution_count": 15,
   "metadata": {},
   "outputs": [],
   "source": [
    "df['rating'] = df['rating'].fillna(value='non_rating')"
   ]
  },
  {
   "cell_type": "code",
   "execution_count": 16,
   "metadata": {},
   "outputs": [
    {
     "data": {
      "text/html": [
       "<div>\n",
       "<style scoped>\n",
       "    .dataframe tbody tr th:only-of-type {\n",
       "        vertical-align: middle;\n",
       "    }\n",
       "\n",
       "    .dataframe tbody tr th {\n",
       "        vertical-align: top;\n",
       "    }\n",
       "\n",
       "    .dataframe thead th {\n",
       "        text-align: right;\n",
       "    }\n",
       "</style>\n",
       "<table border=\"1\" class=\"dataframe\">\n",
       "  <thead>\n",
       "    <tr style=\"text-align: right;\">\n",
       "      <th></th>\n",
       "      <th>eu_sales</th>\n",
       "      <th>jp_sales</th>\n",
       "      <th>na_sales</th>\n",
       "    </tr>\n",
       "    <tr>\n",
       "      <th>rating</th>\n",
       "      <th></th>\n",
       "      <th></th>\n",
       "      <th></th>\n",
       "    </tr>\n",
       "  </thead>\n",
       "  <tbody>\n",
       "    <tr>\n",
       "      <th>non_rating</th>\n",
       "      <td>609.65</td>\n",
       "      <td>836.74</td>\n",
       "      <td>1225.84</td>\n",
       "    </tr>\n",
       "  </tbody>\n",
       "</table>\n",
       "</div>"
      ],
      "text/plain": [
       "            eu_sales  jp_sales  na_sales\n",
       "rating                                  \n",
       "non_rating    609.65    836.74   1225.84"
      ]
     },
     "execution_count": 16,
     "metadata": {},
     "output_type": "execute_result"
    }
   ],
   "source": [
    "# Проверим, сколько копий было продано без рейтинга и узнаем, в какой стране.\n",
    "df.query('rating == \"non_rating\"').pivot_table(index='rating', \n",
    "                                               values=['na_sales', 'eu_sales', 'jp_sales'], \n",
    "                                               aggfunc='sum')"
   ]
  },
  {
   "cell_type": "markdown",
   "metadata": {},
   "source": [
    "### Обработка дубликатов"
   ]
  },
  {
   "cell_type": "markdown",
   "metadata": {},
   "source": [
    "Явных дубликатов не обнаружено. Неявные присутствуют - удалим их по столбцам `name`, `platform`, `year_of_release`."
   ]
  },
  {
   "cell_type": "code",
   "execution_count": 17,
   "metadata": {},
   "outputs": [
    {
     "data": {
      "text/html": [
       "<div>\n",
       "<style scoped>\n",
       "    .dataframe tbody tr th:only-of-type {\n",
       "        vertical-align: middle;\n",
       "    }\n",
       "\n",
       "    .dataframe tbody tr th {\n",
       "        vertical-align: top;\n",
       "    }\n",
       "\n",
       "    .dataframe thead th {\n",
       "        text-align: right;\n",
       "    }\n",
       "</style>\n",
       "<table border=\"1\" class=\"dataframe\">\n",
       "  <thead>\n",
       "    <tr style=\"text-align: right;\">\n",
       "      <th></th>\n",
       "      <th>name</th>\n",
       "      <th>platform</th>\n",
       "      <th>year_of_release</th>\n",
       "      <th>genre</th>\n",
       "      <th>na_sales</th>\n",
       "      <th>eu_sales</th>\n",
       "      <th>jp_sales</th>\n",
       "      <th>other_sales</th>\n",
       "      <th>critic_score</th>\n",
       "      <th>user_score</th>\n",
       "      <th>rating</th>\n",
       "    </tr>\n",
       "  </thead>\n",
       "  <tbody>\n",
       "    <tr>\n",
       "      <th>0</th>\n",
       "      <td>Wii Sports</td>\n",
       "      <td>Wii</td>\n",
       "      <td>2006.00</td>\n",
       "      <td>Sports</td>\n",
       "      <td>41.36</td>\n",
       "      <td>28.96</td>\n",
       "      <td>3.77</td>\n",
       "      <td>8.45</td>\n",
       "      <td>76.00</td>\n",
       "      <td>8</td>\n",
       "      <td>E</td>\n",
       "    </tr>\n",
       "    <tr>\n",
       "      <th>1</th>\n",
       "      <td>Super Mario Bros.</td>\n",
       "      <td>NES</td>\n",
       "      <td>1985.00</td>\n",
       "      <td>Platform</td>\n",
       "      <td>29.08</td>\n",
       "      <td>3.58</td>\n",
       "      <td>6.81</td>\n",
       "      <td>0.77</td>\n",
       "      <td>NaN</td>\n",
       "      <td>NaN</td>\n",
       "      <td>non_rating</td>\n",
       "    </tr>\n",
       "    <tr>\n",
       "      <th>2</th>\n",
       "      <td>Mario Kart Wii</td>\n",
       "      <td>Wii</td>\n",
       "      <td>2008.00</td>\n",
       "      <td>Racing</td>\n",
       "      <td>15.68</td>\n",
       "      <td>12.76</td>\n",
       "      <td>3.79</td>\n",
       "      <td>3.29</td>\n",
       "      <td>82.00</td>\n",
       "      <td>8.3</td>\n",
       "      <td>E</td>\n",
       "    </tr>\n",
       "    <tr>\n",
       "      <th>3</th>\n",
       "      <td>Wii Sports Resort</td>\n",
       "      <td>Wii</td>\n",
       "      <td>2009.00</td>\n",
       "      <td>Sports</td>\n",
       "      <td>15.61</td>\n",
       "      <td>10.93</td>\n",
       "      <td>3.28</td>\n",
       "      <td>2.95</td>\n",
       "      <td>80.00</td>\n",
       "      <td>8</td>\n",
       "      <td>E</td>\n",
       "    </tr>\n",
       "    <tr>\n",
       "      <th>4</th>\n",
       "      <td>Pokemon Red/Pokemon Blue</td>\n",
       "      <td>GB</td>\n",
       "      <td>1996.00</td>\n",
       "      <td>Role-Playing</td>\n",
       "      <td>11.27</td>\n",
       "      <td>8.89</td>\n",
       "      <td>10.22</td>\n",
       "      <td>1.00</td>\n",
       "      <td>NaN</td>\n",
       "      <td>NaN</td>\n",
       "      <td>non_rating</td>\n",
       "    </tr>\n",
       "    <tr>\n",
       "      <th>...</th>\n",
       "      <td>...</td>\n",
       "      <td>...</td>\n",
       "      <td>...</td>\n",
       "      <td>...</td>\n",
       "      <td>...</td>\n",
       "      <td>...</td>\n",
       "      <td>...</td>\n",
       "      <td>...</td>\n",
       "      <td>...</td>\n",
       "      <td>...</td>\n",
       "      <td>...</td>\n",
       "    </tr>\n",
       "    <tr>\n",
       "      <th>16439</th>\n",
       "      <td>Samurai Warriors: Sanada Maru</td>\n",
       "      <td>PS3</td>\n",
       "      <td>2016.00</td>\n",
       "      <td>Action</td>\n",
       "      <td>0.00</td>\n",
       "      <td>0.00</td>\n",
       "      <td>0.01</td>\n",
       "      <td>0.00</td>\n",
       "      <td>NaN</td>\n",
       "      <td>NaN</td>\n",
       "      <td>non_rating</td>\n",
       "    </tr>\n",
       "    <tr>\n",
       "      <th>16440</th>\n",
       "      <td>LMA Manager 2007</td>\n",
       "      <td>X360</td>\n",
       "      <td>2006.00</td>\n",
       "      <td>Sports</td>\n",
       "      <td>0.00</td>\n",
       "      <td>0.01</td>\n",
       "      <td>0.00</td>\n",
       "      <td>0.00</td>\n",
       "      <td>NaN</td>\n",
       "      <td>NaN</td>\n",
       "      <td>non_rating</td>\n",
       "    </tr>\n",
       "    <tr>\n",
       "      <th>16441</th>\n",
       "      <td>Haitaka no Psychedelica</td>\n",
       "      <td>PSV</td>\n",
       "      <td>2016.00</td>\n",
       "      <td>Adventure</td>\n",
       "      <td>0.00</td>\n",
       "      <td>0.00</td>\n",
       "      <td>0.01</td>\n",
       "      <td>0.00</td>\n",
       "      <td>NaN</td>\n",
       "      <td>NaN</td>\n",
       "      <td>non_rating</td>\n",
       "    </tr>\n",
       "    <tr>\n",
       "      <th>16442</th>\n",
       "      <td>Spirits &amp; Spells</td>\n",
       "      <td>GBA</td>\n",
       "      <td>2003.00</td>\n",
       "      <td>Platform</td>\n",
       "      <td>0.01</td>\n",
       "      <td>0.00</td>\n",
       "      <td>0.00</td>\n",
       "      <td>0.00</td>\n",
       "      <td>NaN</td>\n",
       "      <td>NaN</td>\n",
       "      <td>non_rating</td>\n",
       "    </tr>\n",
       "    <tr>\n",
       "      <th>16443</th>\n",
       "      <td>Winning Post 8 2016</td>\n",
       "      <td>PSV</td>\n",
       "      <td>2016.00</td>\n",
       "      <td>Simulation</td>\n",
       "      <td>0.00</td>\n",
       "      <td>0.00</td>\n",
       "      <td>0.01</td>\n",
       "      <td>0.00</td>\n",
       "      <td>NaN</td>\n",
       "      <td>NaN</td>\n",
       "      <td>non_rating</td>\n",
       "    </tr>\n",
       "  </tbody>\n",
       "</table>\n",
       "<p>16443 rows × 11 columns</p>\n",
       "</div>"
      ],
      "text/plain": [
       "                                name platform  year_of_release         genre  \\\n",
       "0                         Wii Sports      Wii          2006.00        Sports   \n",
       "1                  Super Mario Bros.      NES          1985.00      Platform   \n",
       "2                     Mario Kart Wii      Wii          2008.00        Racing   \n",
       "3                  Wii Sports Resort      Wii          2009.00        Sports   \n",
       "4           Pokemon Red/Pokemon Blue       GB          1996.00  Role-Playing   \n",
       "...                              ...      ...              ...           ...   \n",
       "16439  Samurai Warriors: Sanada Maru      PS3          2016.00        Action   \n",
       "16440               LMA Manager 2007     X360          2006.00        Sports   \n",
       "16441        Haitaka no Psychedelica      PSV          2016.00     Adventure   \n",
       "16442               Spirits & Spells      GBA          2003.00      Platform   \n",
       "16443            Winning Post 8 2016      PSV          2016.00    Simulation   \n",
       "\n",
       "       na_sales  eu_sales  jp_sales  other_sales  critic_score user_score  \\\n",
       "0         41.36     28.96      3.77         8.45         76.00          8   \n",
       "1         29.08      3.58      6.81         0.77           NaN        NaN   \n",
       "2         15.68     12.76      3.79         3.29         82.00        8.3   \n",
       "3         15.61     10.93      3.28         2.95         80.00          8   \n",
       "4         11.27      8.89     10.22         1.00           NaN        NaN   \n",
       "...         ...       ...       ...          ...           ...        ...   \n",
       "16439      0.00      0.00      0.01         0.00           NaN        NaN   \n",
       "16440      0.00      0.01      0.00         0.00           NaN        NaN   \n",
       "16441      0.00      0.00      0.01         0.00           NaN        NaN   \n",
       "16442      0.01      0.00      0.00         0.00           NaN        NaN   \n",
       "16443      0.00      0.00      0.01         0.00           NaN        NaN   \n",
       "\n",
       "           rating  \n",
       "0               E  \n",
       "1      non_rating  \n",
       "2               E  \n",
       "3               E  \n",
       "4      non_rating  \n",
       "...           ...  \n",
       "16439  non_rating  \n",
       "16440  non_rating  \n",
       "16441  non_rating  \n",
       "16442  non_rating  \n",
       "16443  non_rating  \n",
       "\n",
       "[16443 rows x 11 columns]"
      ]
     },
     "execution_count": 17,
     "metadata": {},
     "output_type": "execute_result"
    }
   ],
   "source": [
    "df.drop_duplicates(subset=['name', 'platform', 'year_of_release'])"
   ]
  },
  {
   "cell_type": "markdown",
   "metadata": {},
   "source": [
    "### Изменение типа данных"
   ]
  },
  {
   "cell_type": "markdown",
   "metadata": {},
   "source": [
    "Приведем данные к корректному типу: `user_score` к `float`, `year_of_release` к `int`."
   ]
  },
  {
   "cell_type": "code",
   "execution_count": 18,
   "metadata": {},
   "outputs": [],
   "source": [
    "df['year_of_release'] = df['year_of_release'].astype(int)\n",
    "df['user_score'] = df['user_score'].astype(float)"
   ]
  },
  {
   "cell_type": "markdown",
   "metadata": {},
   "source": [
    "### Суммарные продажи в регионах"
   ]
  },
  {
   "cell_type": "markdown",
   "metadata": {},
   "source": [
    "Посчитаем суммарные продажи во всех регионах и запишием их в отдельный столбец `total_sales`"
   ]
  },
  {
   "cell_type": "code",
   "execution_count": 19,
   "metadata": {},
   "outputs": [
    {
     "data": {
      "text/html": [
       "<div>\n",
       "<style scoped>\n",
       "    .dataframe tbody tr th:only-of-type {\n",
       "        vertical-align: middle;\n",
       "    }\n",
       "\n",
       "    .dataframe tbody tr th {\n",
       "        vertical-align: top;\n",
       "    }\n",
       "\n",
       "    .dataframe thead th {\n",
       "        text-align: right;\n",
       "    }\n",
       "</style>\n",
       "<table border=\"1\" class=\"dataframe\">\n",
       "  <thead>\n",
       "    <tr style=\"text-align: right;\">\n",
       "      <th></th>\n",
       "      <th>name</th>\n",
       "      <th>platform</th>\n",
       "      <th>year_of_release</th>\n",
       "      <th>genre</th>\n",
       "      <th>na_sales</th>\n",
       "      <th>eu_sales</th>\n",
       "      <th>jp_sales</th>\n",
       "      <th>other_sales</th>\n",
       "      <th>critic_score</th>\n",
       "      <th>user_score</th>\n",
       "      <th>rating</th>\n",
       "      <th>total_sales</th>\n",
       "    </tr>\n",
       "  </thead>\n",
       "  <tbody>\n",
       "    <tr>\n",
       "      <th>0</th>\n",
       "      <td>Wii Sports</td>\n",
       "      <td>Wii</td>\n",
       "      <td>2006</td>\n",
       "      <td>Sports</td>\n",
       "      <td>41.36</td>\n",
       "      <td>28.96</td>\n",
       "      <td>3.77</td>\n",
       "      <td>8.45</td>\n",
       "      <td>76.00</td>\n",
       "      <td>8.00</td>\n",
       "      <td>E</td>\n",
       "      <td>82.54</td>\n",
       "    </tr>\n",
       "    <tr>\n",
       "      <th>1</th>\n",
       "      <td>Super Mario Bros.</td>\n",
       "      <td>NES</td>\n",
       "      <td>1985</td>\n",
       "      <td>Platform</td>\n",
       "      <td>29.08</td>\n",
       "      <td>3.58</td>\n",
       "      <td>6.81</td>\n",
       "      <td>0.77</td>\n",
       "      <td>NaN</td>\n",
       "      <td>NaN</td>\n",
       "      <td>non_rating</td>\n",
       "      <td>40.24</td>\n",
       "    </tr>\n",
       "    <tr>\n",
       "      <th>2</th>\n",
       "      <td>Mario Kart Wii</td>\n",
       "      <td>Wii</td>\n",
       "      <td>2008</td>\n",
       "      <td>Racing</td>\n",
       "      <td>15.68</td>\n",
       "      <td>12.76</td>\n",
       "      <td>3.79</td>\n",
       "      <td>3.29</td>\n",
       "      <td>82.00</td>\n",
       "      <td>8.30</td>\n",
       "      <td>E</td>\n",
       "      <td>35.52</td>\n",
       "    </tr>\n",
       "    <tr>\n",
       "      <th>3</th>\n",
       "      <td>Wii Sports Resort</td>\n",
       "      <td>Wii</td>\n",
       "      <td>2009</td>\n",
       "      <td>Sports</td>\n",
       "      <td>15.61</td>\n",
       "      <td>10.93</td>\n",
       "      <td>3.28</td>\n",
       "      <td>2.95</td>\n",
       "      <td>80.00</td>\n",
       "      <td>8.00</td>\n",
       "      <td>E</td>\n",
       "      <td>32.77</td>\n",
       "    </tr>\n",
       "    <tr>\n",
       "      <th>4</th>\n",
       "      <td>Pokemon Red/Pokemon Blue</td>\n",
       "      <td>GB</td>\n",
       "      <td>1996</td>\n",
       "      <td>Role-Playing</td>\n",
       "      <td>11.27</td>\n",
       "      <td>8.89</td>\n",
       "      <td>10.22</td>\n",
       "      <td>1.00</td>\n",
       "      <td>NaN</td>\n",
       "      <td>NaN</td>\n",
       "      <td>non_rating</td>\n",
       "      <td>31.38</td>\n",
       "    </tr>\n",
       "  </tbody>\n",
       "</table>\n",
       "</div>"
      ],
      "text/plain": [
       "                       name platform  year_of_release         genre  na_sales  \\\n",
       "0                Wii Sports      Wii             2006        Sports     41.36   \n",
       "1         Super Mario Bros.      NES             1985      Platform     29.08   \n",
       "2            Mario Kart Wii      Wii             2008        Racing     15.68   \n",
       "3         Wii Sports Resort      Wii             2009        Sports     15.61   \n",
       "4  Pokemon Red/Pokemon Blue       GB             1996  Role-Playing     11.27   \n",
       "\n",
       "   eu_sales  jp_sales  other_sales  critic_score  user_score      rating  \\\n",
       "0     28.96      3.77         8.45         76.00        8.00           E   \n",
       "1      3.58      6.81         0.77           NaN         NaN  non_rating   \n",
       "2     12.76      3.79         3.29         82.00        8.30           E   \n",
       "3     10.93      3.28         2.95         80.00        8.00           E   \n",
       "4      8.89     10.22         1.00           NaN         NaN  non_rating   \n",
       "\n",
       "   total_sales  \n",
       "0        82.54  \n",
       "1        40.24  \n",
       "2        35.52  \n",
       "3        32.77  \n",
       "4        31.38  "
      ]
     },
     "execution_count": 19,
     "metadata": {},
     "output_type": "execute_result"
    }
   ],
   "source": [
    "df['total_sales'] = df['na_sales'] + df['eu_sales'] + df['jp_sales'] + df['other_sales']\n",
    "\n",
    "# Посмотрим, что получилось\n",
    "df.head()"
   ]
  },
  {
   "cell_type": "code",
   "execution_count": 20,
   "metadata": {},
   "outputs": [
    {
     "name": "stdout",
     "output_type": "stream",
     "text": [
      "<class 'pandas.core.frame.DataFrame'>\n",
      "RangeIndex: 16444 entries, 0 to 16443\n",
      "Data columns (total 12 columns):\n",
      " #   Column           Non-Null Count  Dtype  \n",
      "---  ------           --------------  -----  \n",
      " 0   name             16444 non-null  object \n",
      " 1   platform         16444 non-null  object \n",
      " 2   year_of_release  16444 non-null  int64  \n",
      " 3   genre            16444 non-null  object \n",
      " 4   na_sales         16444 non-null  float64\n",
      " 5   eu_sales         16444 non-null  float64\n",
      " 6   jp_sales         16444 non-null  float64\n",
      " 7   other_sales      16444 non-null  float64\n",
      " 8   critic_score     7983 non-null   float64\n",
      " 9   user_score       7463 non-null   float64\n",
      " 10  rating           16444 non-null  object \n",
      " 11  total_sales      16444 non-null  float64\n",
      "dtypes: float64(7), int64(1), object(4)\n",
      "memory usage: 1.5+ MB\n",
      "None\n",
      "-------------------------\n",
      "name [' Beyblade Burst' ' Fire Emblem Fates' \" Frozen: Olaf's Quest\" ...\n",
      " 'uDraw Studio' 'uDraw Studio: Instant Artist'\n",
      " '¡Shin Chan Flipa en colores!']\n",
      "name : кол-во NaN 0 , процент NaN 0.0 %\n",
      "-------------------------\n",
      "platform ['2600' '3DO' '3DS' 'DC' 'DS' 'GB' 'GBA' 'GC' 'GEN' 'GG' 'N64' 'NES' 'NG'\n",
      " 'PC' 'PCFX' 'PS' 'PS2' 'PS3' 'PS4' 'PSP' 'PSV' 'SAT' 'SCD' 'SNES' 'TG16'\n",
      " 'WS' 'Wii' 'WiiU' 'X360' 'XB' 'XOne']\n",
      "platform : кол-во NaN 0 , процент NaN 0.0 %\n",
      "-------------------------\n",
      "year_of_release [1980 1981 1982 1983 1984 1985 1986 1987 1988 1989 1990 1991 1992 1993\n",
      " 1994 1995 1996 1997 1998 1999 2000 2001 2002 2003 2004 2005 2006 2007\n",
      " 2008 2009 2010 2011 2012 2013 2014 2015 2016]\n",
      "year_of_release : кол-во NaN 0 , процент NaN 0.0 %\n",
      "-------------------------\n",
      "genre ['Action' 'Adventure' 'Fighting' 'Misc' 'Platform' 'Puzzle' 'Racing'\n",
      " 'Role-Playing' 'Shooter' 'Simulation' 'Sports' 'Strategy']\n",
      "genre : кол-во NaN 0 , процент NaN 0.0 %\n",
      "-------------------------\n",
      "critic_score [13. 17. 19. 20. 21. 23. 24. 25. 26. 27. 28. 29. 30. 31. 32. 33. 34. 35.\n",
      " 36. 37. 38. 39. 40. 41. 42. 43. 44. 45. 46. 47. 48. 49. 50. 51. 52. 53.\n",
      " 54. 55. 56. 57. 58. 59. 60. 61. 62. 63. 64. 65. 66. 67. 68. 69. 70. 71.\n",
      " 72. 73. 74. 75. 76. 77. 78. 79. 80. 81. 82. 83. 84. 85. 86. 87. 88. 89.\n",
      " 90. 91. 92. 93. 94. 95. 96. 97. 98. nan]\n",
      "critic_score : кол-во NaN 8461 , процент NaN 51.45 %\n",
      "-------------------------\n",
      "user_score [0.  0.2 0.3 0.5 0.6 0.7 0.9 1.  1.1 1.2 1.3 1.4 1.5 1.6 1.7 1.8 1.9 2.\n",
      " 2.1 2.2 2.3 2.4 2.5 2.6 2.7 2.8 2.9 3.  3.1 3.2 3.3 3.4 3.5 3.6 3.7 3.8\n",
      " 3.9 4.  4.1 4.2 4.3 4.4 4.5 4.6 4.7 4.8 4.9 5.  5.1 5.2 5.3 5.4 5.5 5.6\n",
      " 5.7 5.8 5.9 6.  6.1 6.2 6.3 6.4 6.5 6.6 6.7 6.8 6.9 7.  7.1 7.2 7.3 7.4\n",
      " 7.5 7.6 7.7 7.8 7.9 8.  8.1 8.2 8.3 8.4 8.5 8.6 8.7 8.8 8.9 9.  9.1 9.2\n",
      " 9.3 9.4 9.5 9.6 9.7 nan]\n",
      "user_score : кол-во NaN 8981 , процент NaN 54.62 %\n",
      "-------------------------\n",
      "rating ['AO' 'E' 'E10+' 'EC' 'K-A' 'M' 'RP' 'T' 'non_rating']\n",
      "rating : кол-во NaN 0 , процент NaN 0.0 %\n"
     ]
    }
   ],
   "source": [
    "# Посмотрим, что осталось\n",
    "temp = df.copy() \n",
    "list_c = ['name', 'platform', 'year_of_release', 'genre', 'critic_score', 'user_score', 'rating']\n",
    "print(temp.info())\n",
    "for col_l in list_c:\n",
    "  print('-'* 25)\n",
    "  print(col_l, temp[col_l].sort_values().unique())\n",
    "  print(col_l,': кол-во NaN',temp[col_l].isna().sum(),\n",
    "        ', процент NaN', round(temp[col_l].isna().mean()*100,2),'%') "
   ]
  },
  {
   "cell_type": "markdown",
   "metadata": {},
   "source": [
    "**Вывод**\n",
    "\n",
    "Мы привели имена столбцов к общепринятому стилю, привели данные в столбцах `year_of_release` и `user_score` к типу `int`. Также удалили пропсуки в столбцах `name`, `year_of_release`, так как их было малое количество и данные записи теряют свой смысл. В столбце `user_score` обнаружена запись `tbd`, которая обозначает аналог пропусков (заменили на NaN). Остались пропуски в `critic_score` (51,45%), `user_score` (54,62%).\n",
    "\n",
    "Далее были посчитаны суммарные продажи во всех регионах (результат занесли в столбец `total_sales`).\n",
    "\n",
    "После предобработки данных в таблице осталось 16442 записи."
   ]
  },
  {
   "cell_type": "markdown",
   "metadata": {},
   "source": [
    "## Исследовательский анализ данных"
   ]
  },
  {
   "cell_type": "markdown",
   "metadata": {},
   "source": [
    "### Динамика выпуска игр"
   ]
  },
  {
   "cell_type": "markdown",
   "metadata": {},
   "source": [
    "Посмотрим на динамику выпуска игр в разные годы и определим целевой период для анализа."
   ]
  },
  {
   "cell_type": "code",
   "execution_count": 21,
   "metadata": {
    "scrolled": false
   },
   "outputs": [
    {
     "data": {
      "image/png": "[encoded data removed]",
      "text/plain": [
       "<Figure size 1296x360 with 1 Axes>"
      ]
     },
     "metadata": {
      "needs_background": "light"
     },
     "output_type": "display_data"
    }
   ],
   "source": [
    "# Построим линейный график\n",
    "plt.figure(figsize=(18,5))\n",
    "plt.plot(df.groupby('year_of_release')['name'].agg('count'))\n",
    "plt.title('Динамика выпуска игр с 1980-2016 гг.')\n",
    "plt.xlabel('Год выпуска')\n",
    "plt.ylabel('Количество релизов')\n",
    "plt.show(); "
   ]
  },
  {
   "cell_type": "markdown",
   "metadata": {},
   "source": [
    "Посмотрим, на какие годы приходится пик выпуска игр. Возьмем ТОП-10"
   ]
  },
  {
   "cell_type": "code",
   "execution_count": 22,
   "metadata": {
    "scrolled": true
   },
   "outputs": [
    {
     "data": {
      "text/plain": [
       "year_of_release\n",
       "2008    1427\n",
       "2009    1426\n",
       "2010    1255\n",
       "2007    1197\n",
       "2011    1136\n",
       "2006    1006\n",
       "2005     939\n",
       "2002     829\n",
       "2003     775\n",
       "2004     762\n",
       "Name: name, dtype: int64"
      ]
     },
     "execution_count": 22,
     "metadata": {},
     "output_type": "execute_result"
    }
   ],
   "source": [
    "df.groupby('year_of_release')['name'].agg('count').sort_values(ascending=False).head(10)"
   ]
  },
  {
   "cell_type": "markdown",
   "metadata": {},
   "source": [
    "Рост выпуска игр наблюдался в период с 1990-х по 2008 гг. В 2008 году был пик выпуска - 1427 игр. Начиная с 2008 года наблюдается снижение выпуска игр к 2016 году - отрицательная тенденция. Для анализа можно взять игры, выпущенные после 1990-х гг. До этого периода игровая индустрия развивалась не так динамично, разработка была не масштабной. В 1990-1995 гг. индустрия разработики игр получила мощный толчок, вероятно, из-за доступности ПК широкой публике пользователей."
   ]
  },
  {
   "cell_type": "markdown",
   "metadata": {},
   "source": [
    "### Динамика продаж по платформам"
   ]
  },
  {
   "cell_type": "markdown",
   "metadata": {},
   "source": [
    "Посмотрим, как менялись продажи по платформам. Выберем платформы с наибольшими суммарными продажами, построим распределение по годам и изучим жизненный цикл платформы."
   ]
  },
  {
   "cell_type": "code",
   "execution_count": 23,
   "metadata": {},
   "outputs": [
    {
     "data": {
      "text/html": [
       "<div>\n",
       "<style scoped>\n",
       "    .dataframe tbody tr th:only-of-type {\n",
       "        vertical-align: middle;\n",
       "    }\n",
       "\n",
       "    .dataframe tbody tr th {\n",
       "        vertical-align: top;\n",
       "    }\n",
       "\n",
       "    .dataframe thead th {\n",
       "        text-align: right;\n",
       "    }\n",
       "</style>\n",
       "<table border=\"1\" class=\"dataframe\">\n",
       "  <thead>\n",
       "    <tr style=\"text-align: right;\">\n",
       "      <th>year_of_release</th>\n",
       "      <th>platform</th>\n",
       "      <th>1980</th>\n",
       "      <th>1981</th>\n",
       "      <th>1982</th>\n",
       "      <th>1983</th>\n",
       "      <th>1984</th>\n",
       "      <th>1985</th>\n",
       "      <th>1986</th>\n",
       "      <th>1987</th>\n",
       "      <th>1988</th>\n",
       "      <th>...</th>\n",
       "      <th>2008</th>\n",
       "      <th>2009</th>\n",
       "      <th>2010</th>\n",
       "      <th>2011</th>\n",
       "      <th>2012</th>\n",
       "      <th>2013</th>\n",
       "      <th>2014</th>\n",
       "      <th>2015</th>\n",
       "      <th>2016</th>\n",
       "      <th>All</th>\n",
       "    </tr>\n",
       "  </thead>\n",
       "  <tbody>\n",
       "    <tr>\n",
       "      <th>16</th>\n",
       "      <td>PS2</td>\n",
       "      <td>0.00</td>\n",
       "      <td>0.00</td>\n",
       "      <td>0.00</td>\n",
       "      <td>0.00</td>\n",
       "      <td>0.00</td>\n",
       "      <td>0.00</td>\n",
       "      <td>0.00</td>\n",
       "      <td>0.00</td>\n",
       "      <td>0.00</td>\n",
       "      <td>...</td>\n",
       "      <td>53.90</td>\n",
       "      <td>26.40</td>\n",
       "      <td>5.64</td>\n",
       "      <td>0.45</td>\n",
       "      <td>0.00</td>\n",
       "      <td>0.00</td>\n",
       "      <td>0.00</td>\n",
       "      <td>0.00</td>\n",
       "      <td>0.00</td>\n",
       "      <td>1233.56</td>\n",
       "    </tr>\n",
       "    <tr>\n",
       "      <th>28</th>\n",
       "      <td>X360</td>\n",
       "      <td>0.00</td>\n",
       "      <td>0.00</td>\n",
       "      <td>0.00</td>\n",
       "      <td>0.00</td>\n",
       "      <td>0.00</td>\n",
       "      <td>0.00</td>\n",
       "      <td>0.00</td>\n",
       "      <td>0.00</td>\n",
       "      <td>0.00</td>\n",
       "      <td>...</td>\n",
       "      <td>135.26</td>\n",
       "      <td>120.29</td>\n",
       "      <td>170.03</td>\n",
       "      <td>143.84</td>\n",
       "      <td>99.74</td>\n",
       "      <td>88.58</td>\n",
       "      <td>34.74</td>\n",
       "      <td>11.96</td>\n",
       "      <td>1.52</td>\n",
       "      <td>961.24</td>\n",
       "    </tr>\n",
       "    <tr>\n",
       "      <th>17</th>\n",
       "      <td>PS3</td>\n",
       "      <td>0.00</td>\n",
       "      <td>0.00</td>\n",
       "      <td>0.00</td>\n",
       "      <td>0.00</td>\n",
       "      <td>0.00</td>\n",
       "      <td>0.00</td>\n",
       "      <td>0.00</td>\n",
       "      <td>0.00</td>\n",
       "      <td>0.00</td>\n",
       "      <td>...</td>\n",
       "      <td>118.52</td>\n",
       "      <td>130.93</td>\n",
       "      <td>142.17</td>\n",
       "      <td>156.78</td>\n",
       "      <td>107.36</td>\n",
       "      <td>113.25</td>\n",
       "      <td>47.76</td>\n",
       "      <td>16.82</td>\n",
       "      <td>3.60</td>\n",
       "      <td>931.34</td>\n",
       "    </tr>\n",
       "    <tr>\n",
       "      <th>26</th>\n",
       "      <td>Wii</td>\n",
       "      <td>0.00</td>\n",
       "      <td>0.00</td>\n",
       "      <td>0.00</td>\n",
       "      <td>0.00</td>\n",
       "      <td>0.00</td>\n",
       "      <td>0.00</td>\n",
       "      <td>0.00</td>\n",
       "      <td>0.00</td>\n",
       "      <td>0.00</td>\n",
       "      <td>...</td>\n",
       "      <td>171.32</td>\n",
       "      <td>206.97</td>\n",
       "      <td>127.95</td>\n",
       "      <td>59.65</td>\n",
       "      <td>21.71</td>\n",
       "      <td>8.59</td>\n",
       "      <td>3.75</td>\n",
       "      <td>1.14</td>\n",
       "      <td>0.18</td>\n",
       "      <td>891.18</td>\n",
       "    </tr>\n",
       "    <tr>\n",
       "      <th>4</th>\n",
       "      <td>DS</td>\n",
       "      <td>0.00</td>\n",
       "      <td>0.00</td>\n",
       "      <td>0.00</td>\n",
       "      <td>0.00</td>\n",
       "      <td>0.00</td>\n",
       "      <td>0.02</td>\n",
       "      <td>0.00</td>\n",
       "      <td>0.00</td>\n",
       "      <td>0.00</td>\n",
       "      <td>...</td>\n",
       "      <td>145.31</td>\n",
       "      <td>119.54</td>\n",
       "      <td>85.02</td>\n",
       "      <td>26.18</td>\n",
       "      <td>11.01</td>\n",
       "      <td>1.54</td>\n",
       "      <td>0.00</td>\n",
       "      <td>0.00</td>\n",
       "      <td>0.00</td>\n",
       "      <td>802.78</td>\n",
       "    </tr>\n",
       "  </tbody>\n",
       "</table>\n",
       "<p>5 rows × 39 columns</p>\n",
       "</div>"
      ],
      "text/plain": [
       "year_of_release platform  1980  1981  1982  1983  1984  1985  1986  1987  \\\n",
       "16                   PS2  0.00  0.00  0.00  0.00  0.00  0.00  0.00  0.00   \n",
       "28                  X360  0.00  0.00  0.00  0.00  0.00  0.00  0.00  0.00   \n",
       "17                   PS3  0.00  0.00  0.00  0.00  0.00  0.00  0.00  0.00   \n",
       "26                   Wii  0.00  0.00  0.00  0.00  0.00  0.00  0.00  0.00   \n",
       "4                     DS  0.00  0.00  0.00  0.00  0.00  0.02  0.00  0.00   \n",
       "\n",
       "year_of_release  1988  ...   2008   2009   2010   2011   2012   2013  2014  \\\n",
       "16               0.00  ...  53.90  26.40   5.64   0.45   0.00   0.00  0.00   \n",
       "28               0.00  ... 135.26 120.29 170.03 143.84  99.74  88.58 34.74   \n",
       "17               0.00  ... 118.52 130.93 142.17 156.78 107.36 113.25 47.76   \n",
       "26               0.00  ... 171.32 206.97 127.95  59.65  21.71   8.59  3.75   \n",
       "4                0.00  ... 145.31 119.54  85.02  26.18  11.01   1.54  0.00   \n",
       "\n",
       "year_of_release  2015  2016     All  \n",
       "16               0.00  0.00 1233.56  \n",
       "28              11.96  1.52  961.24  \n",
       "17              16.82  3.60  931.34  \n",
       "26               1.14  0.18  891.18  \n",
       "4                0.00  0.00  802.78  \n",
       "\n",
       "[5 rows x 39 columns]"
      ]
     },
     "metadata": {},
     "output_type": "display_data"
    }
   ],
   "source": [
    "# Построим сводную таблицу\n",
    "platform_sales = df.pivot_table(index='platform', \n",
    "                                values='total_sales', \n",
    "                                aggfunc='sum', \n",
    "                                fill_value=0,\n",
    "                                margins=True,\n",
    "                                columns='year_of_release').reset_index().sort_values(by='All', ascending=False)\n",
    "\n",
    "# Выведем ТОП 5 платформ по суммарным продажам\n",
    "display(platform_sales[platform_sales['platform'] != 'All'].head())"
   ]
  },
  {
   "cell_type": "markdown",
   "metadata": {},
   "source": [
    "Для оценки срока появления новых платформ и ухода старых построим такую же таблицу и график, но по количеству продаж."
   ]
  },
  {
   "cell_type": "code",
   "execution_count": 24,
   "metadata": {
    "scrolled": false
   },
   "outputs": [
    {
     "data": {
      "image/png": "[encoded data removed]",
      "text/plain": [
       "<Figure size 1296x360 with 1 Axes>"
      ]
     },
     "metadata": {
      "needs_background": "light"
     },
     "output_type": "display_data"
    }
   ],
   "source": [
    "platform_output = df.pivot_table(index='platform', values = 'name', columns='year_of_release', aggfunc='count').T\n",
    "\n",
    "# display(platform_output.head(5))\n",
    "\n",
    "# построим график\n",
    "plt.figure(figsize=(18, 5))\n",
    "plt.plot(platform_output['PS2'], marker ='o', label='PS2')\n",
    "plt.plot(platform_output['X360'], marker ='o', label='X360')\n",
    "plt.plot(platform_output['PS3'], marker ='o', label='PS3')\n",
    "plt.plot(platform_output['Wii'], marker ='o', label='Wii')\n",
    "plt.plot(platform_output['DS'], marker ='o', label='DS')\n",
    "plt.title('Динамика выпуска игр в разрезе платформ с 1980-2016 гг.') # Добавлено v1\n",
    "plt.xlabel('Годы')\n",
    "plt.ylabel('Количество игр')\n",
    "plt.grid()\n",
    "plt.legend(loc='upper left')\n",
    "plt.show()"
   ]
  },
  {
   "cell_type": "markdown",
   "metadata": {},
   "source": [
    "Выделены ТОП 5 популярных платформ по продажам: PS2, X360, PS3, Wii, DS. Из графика видно, что у плафтормы DS есть выпуск в 1985 году, однако это не соответствует действительности - платформа была анонсирована в 2004 году (см. гугл). Жизненный цикл платформы составляет примерно 10 лет."
   ]
  },
  {
   "cell_type": "code",
   "execution_count": 25,
   "metadata": {},
   "outputs": [
    {
     "data": {
      "text/plain": [
       "7.0"
      ]
     },
     "execution_count": 25,
     "metadata": {},
     "output_type": "execute_result"
    }
   ],
   "source": [
    "temp = df.copy() \n",
    "time_life = temp.pivot_table(index='platform', values='year_of_release', aggfunc=['min', 'max']).reset_index()\n",
    "time_life['life'] = time_life['max'] - time_life['min'] + 1 # в срок жизни платформы, должны входить границы диапазона, \n",
    "                                                            # поэтому +1\n",
    "time_life['life'].median()"
   ]
  },
  {
   "cell_type": "markdown",
   "metadata": {},
   "source": [
    "### Актуальный период"
   ]
  },
  {
   "cell_type": "markdown",
   "metadata": {},
   "source": [
    "Как выяснили выше, целесобразно анализировать данные с начала активного периода развития игровой индустрии - с 1995 года. Однако, для прогнозирования нужно взять более актуальный интервал (не более 3-х лет). Оставим данные после 2013 года и дальше будем работать с ними."
   ]
  },
  {
   "cell_type": "code",
   "execution_count": 26,
   "metadata": {},
   "outputs": [],
   "source": [
    "df_new = df[df['year_of_release'] > 2013] "
   ]
  },
  {
   "cell_type": "markdown",
   "metadata": {},
   "source": [
    "### Потенциально прибыльные платформы"
   ]
  },
  {
   "cell_type": "markdown",
   "metadata": {},
   "source": [
    "Посмотрим на динамику суммы продаж лидеров платформ в актуальном периоде (с 2014 по 2016 гг.)."
   ]
  },
  {
   "cell_type": "code",
   "execution_count": 27,
   "metadata": {},
   "outputs": [
    {
     "data": {
      "text/html": [
       "<div>\n",
       "<style scoped>\n",
       "    .dataframe tbody tr th:only-of-type {\n",
       "        vertical-align: middle;\n",
       "    }\n",
       "\n",
       "    .dataframe tbody tr th {\n",
       "        vertical-align: top;\n",
       "    }\n",
       "\n",
       "    .dataframe thead th {\n",
       "        text-align: right;\n",
       "    }\n",
       "</style>\n",
       "<table border=\"1\" class=\"dataframe\">\n",
       "  <thead>\n",
       "    <tr style=\"text-align: right;\">\n",
       "      <th></th>\n",
       "      <th>platform</th>\n",
       "      <th>total_sales</th>\n",
       "    </tr>\n",
       "  </thead>\n",
       "  <tbody>\n",
       "    <tr>\n",
       "      <th>3</th>\n",
       "      <td>PS4</td>\n",
       "      <td>288.15</td>\n",
       "    </tr>\n",
       "    <tr>\n",
       "      <th>9</th>\n",
       "      <td>XOne</td>\n",
       "      <td>140.36</td>\n",
       "    </tr>\n",
       "    <tr>\n",
       "      <th>0</th>\n",
       "      <td>3DS</td>\n",
       "      <td>86.68</td>\n",
       "    </tr>\n",
       "    <tr>\n",
       "      <th>2</th>\n",
       "      <td>PS3</td>\n",
       "      <td>68.18</td>\n",
       "    </tr>\n",
       "    <tr>\n",
       "      <th>8</th>\n",
       "      <td>X360</td>\n",
       "      <td>48.22</td>\n",
       "    </tr>\n",
       "    <tr>\n",
       "      <th>7</th>\n",
       "      <td>WiiU</td>\n",
       "      <td>42.98</td>\n",
       "    </tr>\n",
       "    <tr>\n",
       "      <th>1</th>\n",
       "      <td>PC</td>\n",
       "      <td>27.05</td>\n",
       "    </tr>\n",
       "    <tr>\n",
       "      <th>5</th>\n",
       "      <td>PSV</td>\n",
       "      <td>22.40</td>\n",
       "    </tr>\n",
       "    <tr>\n",
       "      <th>6</th>\n",
       "      <td>Wii</td>\n",
       "      <td>5.07</td>\n",
       "    </tr>\n",
       "    <tr>\n",
       "      <th>4</th>\n",
       "      <td>PSP</td>\n",
       "      <td>0.36</td>\n",
       "    </tr>\n",
       "  </tbody>\n",
       "</table>\n",
       "</div>"
      ],
      "text/plain": [
       "  platform  total_sales\n",
       "3      PS4       288.15\n",
       "9     XOne       140.36\n",
       "0      3DS        86.68\n",
       "2      PS3        68.18\n",
       "8     X360        48.22\n",
       "7     WiiU        42.98\n",
       "1       PC        27.05\n",
       "5      PSV        22.40\n",
       "6      Wii         5.07\n",
       "4      PSP         0.36"
      ]
     },
     "metadata": {},
     "output_type": "display_data"
    }
   ],
   "source": [
    "# Выведем новый рейтинг платформ по продажам по актуальному интервалу\n",
    "display(df_new.pivot_table(index='platform',\n",
    "                           values='total_sales',\n",
    "                           aggfunc='sum').sort_index().reset_index().sort_values(by='total_sales', ascending=False))"
   ]
  },
  {
   "cell_type": "markdown",
   "metadata": {},
   "source": [
    "С изменением рассматриваемого интервала изменился ТОП 5 платформ: PS4, XOne, 3DS, PS3, X360. Посмотрим на динамику продаж в разрезе платформ и годов."
   ]
  },
  {
   "cell_type": "code",
   "execution_count": 28,
   "metadata": {
    "scrolled": false
   },
   "outputs": [
    {
     "data": {
      "image/png": "[encoded data removed]",
      "text/plain": [
       "<Figure size 1080x432 with 1 Axes>"
      ]
     },
     "metadata": {
      "needs_background": "light"
     },
     "output_type": "display_data"
    }
   ],
   "source": [
    "# Оставим ТОП 5 платформ\n",
    "platform_top_5 = [\"PS4\", \"XOne\", \"3DS\", \"PS3\", \"X360\"]\n",
    "platform_profit = df_new.query('platform in @platform_top_5')\n",
    "\n",
    "# Построим сводную таблицу\n",
    "platform_profit = platform_profit.pivot_table(index=['platform','year_of_release'],\n",
    "                                              values='total_sales',\n",
    "                                              aggfunc='sum').sort_index().reset_index().sort_values(by='total_sales', ascending=False)\n",
    "\n",
    "# Построим график\n",
    "sns.catplot(x=\"year_of_release\", \n",
    "            y=\"total_sales\", \n",
    "            hue=\"platform\", \n",
    "            kind=\"bar\", \n",
    "            legend=False,\n",
    "            data=platform_profit, \n",
    "            height=6, \n",
    "            aspect=2.5).set_axis_labels('Годы', 'Суммарные продажи, млн. копий')\n",
    "plt.legend(title='Платформа')\n",
    "plt.title('Динамика продаж игр в разрезе платформ за 2014-2016 гг.')\n",
    "plt.show();"
   ]
  },
  {
   "cell_type": "markdown",
   "metadata": {},
   "source": [
    "Платформы PS4 и XOne имеют одинаковое направление динамики (с 2014 г. по 2015 г. наблюдался рост продаж, однако в 2016 г. продажи упали). Суммарные продажи PS4 от года к году почти в 2 раза выше, чем у XOne. У остальных платформ (PS3, 3DS, X360) наблюдается негативная тенденция (суммарные продажи падают от года к году)."
   ]
  },
  {
   "cell_type": "markdown",
   "metadata": {},
   "source": [
    "### Ящик с усами по продажам"
   ]
  },
  {
   "cell_type": "markdown",
   "metadata": {},
   "source": [
    "Построим ящик с усами по глобальным продажам в разрезе платформ"
   ]
  },
  {
   "cell_type": "code",
   "execution_count": 29,
   "metadata": {
    "scrolled": false
   },
   "outputs": [
    {
     "data": {
      "image/png": "[encoded data removed]",
      "text/plain": [
       "<Figure size 1152x576 with 1 Axes>"
      ]
     },
     "metadata": {
      "needs_background": "light"
     },
     "output_type": "display_data"
    }
   ],
   "source": [
    "df_new[['platform', 'name', 'total_sales']].boxplot(column='total_sales', by='platform', figsize=(16,8))\n",
    "\n",
    "plt.xlabel('Наименование платформ')\n",
    "plt.ylabel('Количество проданных копий, млн')\n",
    "plt.title('размах продаж по перспективным платформам')\n",
    "plt.show()"
   ]
  },
  {
   "cell_type": "markdown",
   "metadata": {},
   "source": [
    "Много выбросов - плохо видны сами ящики. Изменим масштаб, чтобы увидеть нижнюю часть boxplot-ов."
   ]
  },
  {
   "cell_type": "code",
   "execution_count": 30,
   "metadata": {},
   "outputs": [
    {
     "data": {
      "image/png": "[encoded data removed]",
      "text/plain": [
       "<Figure size 1152x576 with 1 Axes>"
      ]
     },
     "metadata": {
      "needs_background": "light"
     },
     "output_type": "display_data"
    }
   ],
   "source": [
    "df_new[['platform', 'name', 'total_sales']].boxplot(column='total_sales', by='platform', figsize=(16,8))\n",
    "\n",
    "plt.xlabel('Наименование платформ')\n",
    "plt.ylabel('Количество проданных копий, млн')\n",
    "plt.title('Ящик с усами по продажам в разрезе платформ')\n",
    "plt.ylim(0, 2)\n",
    "plt.show()"
   ]
  },
  {
   "cell_type": "markdown",
   "metadata": {},
   "source": [
    "Графики имеюют большой размах. Ящики у всех платформ маленькие, поэтому, можно предположить, что большая часть продаж игр на рассматриваемых платформах делается за счет выбросов (хитов). Больше всего \"стабильных\" игр находится у PS4, Wii и XOne."
   ]
  },
  {
   "cell_type": "markdown",
   "metadata": {},
   "source": [
    "### Влияние отзывов на продажи"
   ]
  },
  {
   "cell_type": "markdown",
   "metadata": {},
   "source": [
    "Рассмотрим, как влияют на продажи внутри одной популярной платформы отзывы пользователей и критиков. Построим диаграмму рассеяния и посчитаем корреляцию между отзывами и продажами."
   ]
  },
  {
   "cell_type": "code",
   "execution_count": 31,
   "metadata": {
    "scrolled": true
   },
   "outputs": [
    {
     "data": {
      "text/html": [
       "<div>\n",
       "<style scoped>\n",
       "    .dataframe tbody tr th:only-of-type {\n",
       "        vertical-align: middle;\n",
       "    }\n",
       "\n",
       "    .dataframe tbody tr th {\n",
       "        vertical-align: top;\n",
       "    }\n",
       "\n",
       "    .dataframe thead th {\n",
       "        text-align: right;\n",
       "    }\n",
       "</style>\n",
       "<table border=\"1\" class=\"dataframe\">\n",
       "  <thead>\n",
       "    <tr style=\"text-align: right;\">\n",
       "      <th></th>\n",
       "      <th>critic_score</th>\n",
       "      <th>user_score</th>\n",
       "    </tr>\n",
       "  </thead>\n",
       "  <tbody>\n",
       "    <tr>\n",
       "      <th>count</th>\n",
       "      <td>718.00</td>\n",
       "      <td>888.00</td>\n",
       "    </tr>\n",
       "    <tr>\n",
       "      <th>mean</th>\n",
       "      <td>72.31</td>\n",
       "      <td>6.62</td>\n",
       "    </tr>\n",
       "    <tr>\n",
       "      <th>std</th>\n",
       "      <td>12.21</td>\n",
       "      <td>1.59</td>\n",
       "    </tr>\n",
       "    <tr>\n",
       "      <th>min</th>\n",
       "      <td>19.00</td>\n",
       "      <td>0.20</td>\n",
       "    </tr>\n",
       "    <tr>\n",
       "      <th>25%</th>\n",
       "      <td>66.00</td>\n",
       "      <td>5.80</td>\n",
       "    </tr>\n",
       "    <tr>\n",
       "      <th>50%</th>\n",
       "      <td>74.00</td>\n",
       "      <td>7.00</td>\n",
       "    </tr>\n",
       "    <tr>\n",
       "      <th>75%</th>\n",
       "      <td>81.00</td>\n",
       "      <td>7.80</td>\n",
       "    </tr>\n",
       "    <tr>\n",
       "      <th>max</th>\n",
       "      <td>97.00</td>\n",
       "      <td>9.30</td>\n",
       "    </tr>\n",
       "  </tbody>\n",
       "</table>\n",
       "</div>"
      ],
      "text/plain": [
       "       critic_score  user_score\n",
       "count        718.00      888.00\n",
       "mean          72.31        6.62\n",
       "std           12.21        1.59\n",
       "min           19.00        0.20\n",
       "25%           66.00        5.80\n",
       "50%           74.00        7.00\n",
       "75%           81.00        7.80\n",
       "max           97.00        9.30"
      ]
     },
     "execution_count": 31,
     "metadata": {},
     "output_type": "execute_result"
    }
   ],
   "source": [
    "# Заметим, что в столбцах с оценками разнобальная шкала оценивания\n",
    "df_new[['critic_score', 'user_score']].describe()"
   ]
  },
  {
   "cell_type": "code",
   "execution_count": 32,
   "metadata": {
    "scrolled": false
   },
   "outputs": [
    {
     "data": {
      "text/html": [
       "<div>\n",
       "<style scoped>\n",
       "    .dataframe tbody tr th:only-of-type {\n",
       "        vertical-align: middle;\n",
       "    }\n",
       "\n",
       "    .dataframe tbody tr th {\n",
       "        vertical-align: top;\n",
       "    }\n",
       "\n",
       "    .dataframe thead th {\n",
       "        text-align: right;\n",
       "    }\n",
       "</style>\n",
       "<table border=\"1\" class=\"dataframe\">\n",
       "  <thead>\n",
       "    <tr style=\"text-align: right;\">\n",
       "      <th></th>\n",
       "      <th>critic_score</th>\n",
       "      <th>user_score</th>\n",
       "    </tr>\n",
       "  </thead>\n",
       "  <tbody>\n",
       "    <tr>\n",
       "      <th>count</th>\n",
       "      <td>718.00</td>\n",
       "      <td>888.00</td>\n",
       "    </tr>\n",
       "    <tr>\n",
       "      <th>mean</th>\n",
       "      <td>72.31</td>\n",
       "      <td>66.24</td>\n",
       "    </tr>\n",
       "    <tr>\n",
       "      <th>std</th>\n",
       "      <td>12.21</td>\n",
       "      <td>15.90</td>\n",
       "    </tr>\n",
       "    <tr>\n",
       "      <th>min</th>\n",
       "      <td>19.00</td>\n",
       "      <td>2.00</td>\n",
       "    </tr>\n",
       "    <tr>\n",
       "      <th>25%</th>\n",
       "      <td>66.00</td>\n",
       "      <td>58.00</td>\n",
       "    </tr>\n",
       "    <tr>\n",
       "      <th>50%</th>\n",
       "      <td>74.00</td>\n",
       "      <td>70.00</td>\n",
       "    </tr>\n",
       "    <tr>\n",
       "      <th>75%</th>\n",
       "      <td>81.00</td>\n",
       "      <td>78.00</td>\n",
       "    </tr>\n",
       "    <tr>\n",
       "      <th>max</th>\n",
       "      <td>97.00</td>\n",
       "      <td>93.00</td>\n",
       "    </tr>\n",
       "  </tbody>\n",
       "</table>\n",
       "</div>"
      ],
      "text/plain": [
       "       critic_score  user_score\n",
       "count        718.00      888.00\n",
       "mean          72.31       66.24\n",
       "std           12.21       15.90\n",
       "min           19.00        2.00\n",
       "25%           66.00       58.00\n",
       "50%           74.00       70.00\n",
       "75%           81.00       78.00\n",
       "max           97.00       93.00"
      ]
     },
     "execution_count": 32,
     "metadata": {},
     "output_type": "execute_result"
    }
   ],
   "source": [
    "# Приведем оценки к единой шкале\n",
    "df_new.loc[:, 'user_score'] = df_new['user_score'] * 10\n",
    "\n",
    "# Проверим\n",
    "df_new[['critic_score', 'user_score']].describe()"
   ]
  },
  {
   "cell_type": "markdown",
   "metadata": {},
   "source": [
    "Построим диаграммы рассеивания для ТОП 5 платформ в разрезе оценок пользователей и критиков."
   ]
  },
  {
   "cell_type": "code",
   "execution_count": 33,
   "metadata": {
    "scrolled": false
   },
   "outputs": [
    {
     "data": {
      "image/png": "[encoded data removed]",
      "text/plain": [
       "<Figure size 1080x216 with 5 Axes>"
      ]
     },
     "metadata": {
      "needs_background": "light"
     },
     "output_type": "display_data"
    },
    {
     "data": {
      "image/png": "[encoded data removed]",
      "text/plain": [
       "<Figure size 1080x216 with 5 Axes>"
      ]
     },
     "metadata": {
      "needs_background": "light"
     },
     "output_type": "display_data"
    }
   ],
   "source": [
    "# Достаем данные по ТОП 5 платформ\n",
    "df_new_top = df_new.query('platform in @platform_top_5')\n",
    "\n",
    "# Диаграммы рассеивания влияния оценки критиков на продажи платформы\n",
    "sns.FacetGrid(df_new_top, col=\"platform\").map(plt.scatter, \"critic_score\", \"total_sales\", edgecolor=\"w\", alpha=0.4);\n",
    "\n",
    "# Диаграммы рассеивания влияния оценки пользователей на продажи платформы\n",
    "sns.FacetGrid(df_new_top, col=\"platform\").map(plt.scatter, \"user_score\", \"total_sales\", edgecolor=\"w\", alpha=0.4);"
   ]
  },
  {
   "cell_type": "markdown",
   "metadata": {},
   "source": [
    "Визуально видно, что оценки пользователей и критиков примерно одинаковые (оценки пользователей более разбросаны по баллам), без особых выбросов, однако их влияние на продажи разные. Чтобы понять степень влияния оценок на продажи, рассчитаем корреляцию между отзывами и продажами."
   ]
  },
  {
   "cell_type": "code",
   "execution_count": 35,
   "metadata": {},
   "outputs": [
    {
     "name": "stdout",
     "output_type": "stream",
     "text": [
      "Корреляции между отзывами пользователей и продажами:\n",
      "- Платформа PS4: -0.04\n",
      "- Платформа XOne: -0.07\n",
      "- Платформа 3DS: 0.22\n",
      "- Платформа PS3: -0.17\n",
      "- Платформа X360: -0.14\n",
      "\n",
      "Корреляции между отзывами критиков и продажами:\n",
      "- Платформа PS4: 0.4\n",
      "- Платформа XOne: 0.43\n",
      "- Платформа 3DS: 0.31\n",
      "- Платформа PS3: 0.45\n",
      "- Платформа X360: 0.53\n"
     ]
    }
   ],
   "source": [
    "print('Корреляции между отзывами пользователей и продажами:')\n",
    "\n",
    "for plat in platform_top_5:\n",
    "    df_new_top_filtered = df_new_top.query('platform == @plat')\n",
    "    corr_value = round(df_new_top_filtered['user_score'].corr(df_new_top_filtered['total_sales']), 2)\n",
    "    print(f'- Платформа {plat}: {corr_value}')\n",
    "\n",
    "print('')\n",
    "print('Корреляции между отзывами критиков и продажами:')\n",
    "\n",
    "for plat in platform_top_5:\n",
    "    df_new_top_filtered = df_new_top.query('platform == @plat')\n",
    "    corr_value = round(df_new_top_filtered['critic_score'].corr(df_new_top_filtered['total_sales']), 2)\n",
    "    print(f'- Платформа {plat}: {corr_value}')"
   ]
  },
  {
   "cell_type": "markdown",
   "metadata": {},
   "source": [
    "**Вывод**\n",
    "\n",
    "Заметим, что отзывы пользователей обратно пропорционально влияют на продажи (кроме платформы 3DS), причем очень слабо. Связь между отзывами критиков и продажами значительно сильнее и прямо пропорциональна. Таким образом, при составлении прогноза лучше полагаться на оценки критиков."
   ]
  },
  {
   "cell_type": "markdown",
   "metadata": {},
   "source": [
    "### Распределение игр по жанрам"
   ]
  },
  {
   "cell_type": "markdown",
   "metadata": {},
   "source": [
    "Посмотрим на общее распределение игр по жанрам (по количеству выпуска и продажам)."
   ]
  },
  {
   "cell_type": "code",
   "execution_count": 36,
   "metadata": {},
   "outputs": [
    {
     "data": {
      "image/png": "[encoded data removed]",
      "text/plain": [
       "<Figure size 1296x432 with 1 Axes>"
      ]
     },
     "metadata": {
      "needs_background": "light"
     },
     "output_type": "display_data"
    }
   ],
   "source": [
    "df_new_genre = df_new.pivot_table(index='genre', \n",
    "                                  values='total_sales', \n",
    "                                  aggfunc='median').sort_values(by='total_sales', ascending=False)\n",
    "\n",
    "df_new_genre.plot(kind='bar', figsize=(18,6))\n",
    "plt.title('Распределение продаж по жанрам игр')\n",
    "plt.ylabel('Суммарные продажи')\n",
    "plt.xlabel('Жанры игр');"
   ]
  },
  {
   "cell_type": "markdown",
   "metadata": {},
   "source": [
    "Самыми прибыльными оказались жанры Shooter, Sports, Platform."
   ]
  },
  {
   "cell_type": "code",
   "execution_count": 37,
   "metadata": {
    "scrolled": false
   },
   "outputs": [
    {
     "data": {
      "image/png": "[encoded data removed]",
      "text/plain": [
       "<Figure size 1296x432 with 1 Axes>"
      ]
     },
     "metadata": {
      "needs_background": "light"
     },
     "output_type": "display_data"
    }
   ],
   "source": [
    "df_new_genre = df_new.pivot_table(index='genre', \n",
    "                                  values='year_of_release', \n",
    "                                  aggfunc='count').sort_values(by='year_of_release', ascending=False)\n",
    "\n",
    "df_new_genre.plot(kind='bar', figsize=(18,6))\n",
    "plt.title('Распределение выпуска по жанрам игр')\n",
    "plt.ylabel('Выпуск, шт.')\n",
    "plt.xlabel('Жанры игр');"
   ]
  },
  {
   "cell_type": "markdown",
   "metadata": {},
   "source": [
    "Самыми популярными жанрами оказались Action, Role-Playing, Adventure. Если сопоставить данные распределения, то популярность жанров разнится с продажами."
   ]
  },
  {
   "cell_type": "markdown",
   "metadata": {},
   "source": [
    "## Портрет пользователя"
   ]
  },
  {
   "cell_type": "markdown",
   "metadata": {},
   "source": [
    "Определим портрет пользователя каждого региона (NA, EU, JP)"
   ]
  },
  {
   "cell_type": "markdown",
   "metadata": {},
   "source": [
    "### ТОП 5 популярных платформ"
   ]
  },
  {
   "cell_type": "markdown",
   "metadata": {},
   "source": [
    "Напишем функцию `get_popular()`, которая определяет доли продаж каждой из ТОП 5 платформ (по суммарным продажам)."
   ]
  },
  {
   "cell_type": "code",
   "execution_count": 38,
   "metadata": {},
   "outputs": [],
   "source": [
    "region_list = ['na_sales', 'eu_sales', 'jp_sales']\n",
    "\n",
    "def get_popular(region, index_name):\n",
    "    plat_pop = df_new[df_new[region].notna()]\n",
    "    plat_pop_pivot = plat_pop.pivot_table(index=index_name,\n",
    "                                          values=region,\n",
    "                                          aggfunc='sum').sort_values(by=region, ascending=False).reset_index().head()\n",
    "    \n",
    "    plat_pop_pivot['ratio'] = plat_pop_pivot[region] / plat_pop_pivot[region].sum()\n",
    "    \n",
    "    plat_pop_pivot = plat_pop_pivot.rename(columns={plat_pop_pivot.columns[2]: f'ratio_{region}'})\n",
    "    \n",
    "    return plat_pop_pivot"
   ]
  },
  {
   "cell_type": "code",
   "execution_count": 39,
   "metadata": {},
   "outputs": [],
   "source": [
    "# Критерий рейтинга\n",
    "parameter = 'platform'\n",
    "\n",
    "# Доля продаж по ТОП 5 платформам\n",
    "ratio_na_sales = get_popular('na_sales', parameter).drop(columns=['na_sales'])\n",
    "ratio_eu_sales = get_popular('eu_sales', parameter).drop(columns=['eu_sales'])\n",
    "ratio_jp_sales = get_popular('jp_sales', parameter).drop(columns=['jp_sales'])"
   ]
  },
  {
   "cell_type": "markdown",
   "metadata": {},
   "source": [
    "Рассмотрим промежуточные таблицы подробнее"
   ]
  },
  {
   "cell_type": "code",
   "execution_count": 40,
   "metadata": {},
   "outputs": [
    {
     "data": {
      "text/html": [
       "<div>\n",
       "<style scoped>\n",
       "    .dataframe tbody tr th:only-of-type {\n",
       "        vertical-align: middle;\n",
       "    }\n",
       "\n",
       "    .dataframe tbody tr th {\n",
       "        vertical-align: top;\n",
       "    }\n",
       "\n",
       "    .dataframe thead th {\n",
       "        text-align: right;\n",
       "    }\n",
       "</style>\n",
       "<table border=\"1\" class=\"dataframe\">\n",
       "  <thead>\n",
       "    <tr style=\"text-align: right;\">\n",
       "      <th></th>\n",
       "      <th>platform</th>\n",
       "      <th>na_sales</th>\n",
       "      <th>ratio_na_sales</th>\n",
       "    </tr>\n",
       "  </thead>\n",
       "  <tbody>\n",
       "    <tr>\n",
       "      <th>0</th>\n",
       "      <td>PS4</td>\n",
       "      <td>98.61</td>\n",
       "      <td>0.39</td>\n",
       "    </tr>\n",
       "    <tr>\n",
       "      <th>1</th>\n",
       "      <td>XOne</td>\n",
       "      <td>81.27</td>\n",
       "      <td>0.32</td>\n",
       "    </tr>\n",
       "    <tr>\n",
       "      <th>2</th>\n",
       "      <td>X360</td>\n",
       "      <td>28.30</td>\n",
       "      <td>0.11</td>\n",
       "    </tr>\n",
       "    <tr>\n",
       "      <th>3</th>\n",
       "      <td>3DS</td>\n",
       "      <td>22.64</td>\n",
       "      <td>0.09</td>\n",
       "    </tr>\n",
       "    <tr>\n",
       "      <th>4</th>\n",
       "      <td>PS3</td>\n",
       "      <td>22.05</td>\n",
       "      <td>0.09</td>\n",
       "    </tr>\n",
       "  </tbody>\n",
       "</table>\n",
       "</div>"
      ],
      "text/plain": [
       "  platform  na_sales  ratio_na_sales\n",
       "0      PS4     98.61            0.39\n",
       "1     XOne     81.27            0.32\n",
       "2     X360     28.30            0.11\n",
       "3      3DS     22.64            0.09\n",
       "4      PS3     22.05            0.09"
      ]
     },
     "execution_count": 40,
     "metadata": {},
     "output_type": "execute_result"
    }
   ],
   "source": [
    "# Посмотрим на долю продаж по ТОП 5 платформам в NA\n",
    "get_popular('na_sales', parameter)"
   ]
  },
  {
   "cell_type": "markdown",
   "metadata": {},
   "source": [
    "В Северной Америке самыми продаваемыми считаются игры на платформе X360 (1/3 от всех продаж ТОП 5 платформ). Можно заметить, что ТОП состоит из консолей одинакового типа."
   ]
  },
  {
   "cell_type": "code",
   "execution_count": 41,
   "metadata": {},
   "outputs": [
    {
     "data": {
      "text/html": [
       "<div>\n",
       "<style scoped>\n",
       "    .dataframe tbody tr th:only-of-type {\n",
       "        vertical-align: middle;\n",
       "    }\n",
       "\n",
       "    .dataframe tbody tr th {\n",
       "        vertical-align: top;\n",
       "    }\n",
       "\n",
       "    .dataframe thead th {\n",
       "        text-align: right;\n",
       "    }\n",
       "</style>\n",
       "<table border=\"1\" class=\"dataframe\">\n",
       "  <thead>\n",
       "    <tr style=\"text-align: right;\">\n",
       "      <th></th>\n",
       "      <th>platform</th>\n",
       "      <th>eu_sales</th>\n",
       "      <th>ratio_eu_sales</th>\n",
       "    </tr>\n",
       "  </thead>\n",
       "  <tbody>\n",
       "    <tr>\n",
       "      <th>0</th>\n",
       "      <td>PS4</td>\n",
       "      <td>130.04</td>\n",
       "      <td>0.55</td>\n",
       "    </tr>\n",
       "    <tr>\n",
       "      <th>1</th>\n",
       "      <td>XOne</td>\n",
       "      <td>46.25</td>\n",
       "      <td>0.20</td>\n",
       "    </tr>\n",
       "    <tr>\n",
       "      <th>2</th>\n",
       "      <td>PS3</td>\n",
       "      <td>25.54</td>\n",
       "      <td>0.11</td>\n",
       "    </tr>\n",
       "    <tr>\n",
       "      <th>3</th>\n",
       "      <td>PC</td>\n",
       "      <td>17.97</td>\n",
       "      <td>0.08</td>\n",
       "    </tr>\n",
       "    <tr>\n",
       "      <th>4</th>\n",
       "      <td>3DS</td>\n",
       "      <td>16.12</td>\n",
       "      <td>0.07</td>\n",
       "    </tr>\n",
       "  </tbody>\n",
       "</table>\n",
       "</div>"
      ],
      "text/plain": [
       "  platform  eu_sales  ratio_eu_sales\n",
       "0      PS4    130.04            0.55\n",
       "1     XOne     46.25            0.20\n",
       "2      PS3     25.54            0.11\n",
       "3       PC     17.97            0.08\n",
       "4      3DS     16.12            0.07"
      ]
     },
     "execution_count": 41,
     "metadata": {},
     "output_type": "execute_result"
    }
   ],
   "source": [
    "# Посмотрим на долю продаж по ТОП 5 платформам в EU\n",
    "get_popular('eu_sales', parameter)"
   ]
  },
  {
   "cell_type": "markdown",
   "metadata": {},
   "source": [
    "В Европе самыми продаваемыми считаются игры на платформе PS3 (30% от всех продаж ТОП 5 платформ). В отличие от Северной Америки X360 стоит на третьем месте по продажам."
   ]
  },
  {
   "cell_type": "code",
   "execution_count": 42,
   "metadata": {},
   "outputs": [
    {
     "data": {
      "text/html": [
       "<div>\n",
       "<style scoped>\n",
       "    .dataframe tbody tr th:only-of-type {\n",
       "        vertical-align: middle;\n",
       "    }\n",
       "\n",
       "    .dataframe tbody tr th {\n",
       "        vertical-align: top;\n",
       "    }\n",
       "\n",
       "    .dataframe thead th {\n",
       "        text-align: right;\n",
       "    }\n",
       "</style>\n",
       "<table border=\"1\" class=\"dataframe\">\n",
       "  <thead>\n",
       "    <tr style=\"text-align: right;\">\n",
       "      <th></th>\n",
       "      <th>platform</th>\n",
       "      <th>jp_sales</th>\n",
       "      <th>ratio_jp_sales</th>\n",
       "    </tr>\n",
       "  </thead>\n",
       "  <tbody>\n",
       "    <tr>\n",
       "      <th>0</th>\n",
       "      <td>3DS</td>\n",
       "      <td>44.24</td>\n",
       "      <td>0.48</td>\n",
       "    </tr>\n",
       "    <tr>\n",
       "      <th>1</th>\n",
       "      <td>PS4</td>\n",
       "      <td>15.02</td>\n",
       "      <td>0.16</td>\n",
       "    </tr>\n",
       "    <tr>\n",
       "      <th>2</th>\n",
       "      <td>PSV</td>\n",
       "      <td>14.54</td>\n",
       "      <td>0.16</td>\n",
       "    </tr>\n",
       "    <tr>\n",
       "      <th>3</th>\n",
       "      <td>PS3</td>\n",
       "      <td>11.22</td>\n",
       "      <td>0.12</td>\n",
       "    </tr>\n",
       "    <tr>\n",
       "      <th>4</th>\n",
       "      <td>WiiU</td>\n",
       "      <td>7.31</td>\n",
       "      <td>0.08</td>\n",
       "    </tr>\n",
       "  </tbody>\n",
       "</table>\n",
       "</div>"
      ],
      "text/plain": [
       "  platform  jp_sales  ratio_jp_sales\n",
       "0      3DS     44.24            0.48\n",
       "1      PS4     15.02            0.16\n",
       "2      PSV     14.54            0.16\n",
       "3      PS3     11.22            0.12\n",
       "4     WiiU      7.31            0.08"
      ]
     },
     "execution_count": 42,
     "metadata": {},
     "output_type": "execute_result"
    }
   ],
   "source": [
    "# Посмотрим на долю продаж по ТОП 5 платформам в JP\n",
    "get_popular('jp_sales', parameter)"
   ]
  },
  {
   "cell_type": "markdown",
   "metadata": {},
   "source": [
    "В Японии лучше всего продаются игры на платформе 3DS (47%). Остальной ТОП 5 занимают консоли отечественного производства. В данном рейтинге нет X360. Видимо, японцам нравится отечественный продукт."
   ]
  },
  {
   "cell_type": "markdown",
   "metadata": {},
   "source": [
    "Объединим таблицы и построим общий график"
   ]
  },
  {
   "cell_type": "code",
   "execution_count": 43,
   "metadata": {},
   "outputs": [
    {
     "data": {
      "image/png": "[encoded data removed]",
      "text/plain": [
       "<Figure size 1296x360 with 1 Axes>"
      ]
     },
     "metadata": {
      "needs_background": "light"
     },
     "output_type": "display_data"
    }
   ],
   "source": [
    "platform_total_sales_ratio = ratio_na_sales.merge(ratio_eu_sales, on=parameter, how='outer')\n",
    "platform_total_sales_ratio = platform_total_sales_ratio.merge(ratio_jp_sales, on=parameter, how='outer')\n",
    "\n",
    "# Посмотреть результат объединения\n",
    "# display(genre_total_sales_ratio)\n",
    "\n",
    "# Построим график\n",
    "(platform_total_sales_ratio.pivot_table(index=parameter,\n",
    "                                        values=['ratio_na_sales', 'ratio_eu_sales', 'ratio_jp_sales'],\n",
    "                                        aggfunc='sum').plot(kind='bar', figsize=(18, 5)));\n",
    "\n",
    "plt.xlabel('Платформа')\n",
    "plt.ylabel('Продажи, млн копий')\n",
    "plt.title('Распределение продаж по ТОП жанрам')\n",
    "plt.legend(title='Доли продаж по регионам')\n",
    "plt.show()"
   ]
  },
  {
   "cell_type": "code",
   "execution_count": 44,
   "metadata": {},
   "outputs": [
    {
     "data": {
      "text/html": [
       "<div>\n",
       "<style scoped>\n",
       "    .dataframe tbody tr th:only-of-type {\n",
       "        vertical-align: middle;\n",
       "    }\n",
       "\n",
       "    .dataframe tbody tr th {\n",
       "        vertical-align: top;\n",
       "    }\n",
       "\n",
       "    .dataframe thead th {\n",
       "        text-align: right;\n",
       "    }\n",
       "</style>\n",
       "<table border=\"1\" class=\"dataframe\">\n",
       "  <thead>\n",
       "    <tr style=\"text-align: right;\">\n",
       "      <th></th>\n",
       "      <th>ratio_eu_sales</th>\n",
       "      <th>ratio_jp_sales</th>\n",
       "      <th>ratio_na_sales</th>\n",
       "    </tr>\n",
       "    <tr>\n",
       "      <th>platform</th>\n",
       "      <th></th>\n",
       "      <th></th>\n",
       "      <th></th>\n",
       "    </tr>\n",
       "  </thead>\n",
       "  <tbody>\n",
       "    <tr>\n",
       "      <th>3DS</th>\n",
       "      <td>0.07</td>\n",
       "      <td>0.48</td>\n",
       "      <td>0.09</td>\n",
       "    </tr>\n",
       "    <tr>\n",
       "      <th>PC</th>\n",
       "      <td>0.08</td>\n",
       "      <td>0.00</td>\n",
       "      <td>0.00</td>\n",
       "    </tr>\n",
       "    <tr>\n",
       "      <th>PS3</th>\n",
       "      <td>0.11</td>\n",
       "      <td>0.12</td>\n",
       "      <td>0.09</td>\n",
       "    </tr>\n",
       "    <tr>\n",
       "      <th>PS4</th>\n",
       "      <td>0.55</td>\n",
       "      <td>0.16</td>\n",
       "      <td>0.39</td>\n",
       "    </tr>\n",
       "    <tr>\n",
       "      <th>PSV</th>\n",
       "      <td>0.00</td>\n",
       "      <td>0.16</td>\n",
       "      <td>0.00</td>\n",
       "    </tr>\n",
       "    <tr>\n",
       "      <th>WiiU</th>\n",
       "      <td>0.00</td>\n",
       "      <td>0.08</td>\n",
       "      <td>0.00</td>\n",
       "    </tr>\n",
       "    <tr>\n",
       "      <th>X360</th>\n",
       "      <td>0.00</td>\n",
       "      <td>0.00</td>\n",
       "      <td>0.11</td>\n",
       "    </tr>\n",
       "    <tr>\n",
       "      <th>XOne</th>\n",
       "      <td>0.20</td>\n",
       "      <td>0.00</td>\n",
       "      <td>0.32</td>\n",
       "    </tr>\n",
       "  </tbody>\n",
       "</table>\n",
       "</div>"
      ],
      "text/plain": [
       "          ratio_eu_sales  ratio_jp_sales  ratio_na_sales\n",
       "platform                                                \n",
       "3DS                 0.07            0.48            0.09\n",
       "PC                  0.08            0.00            0.00\n",
       "PS3                 0.11            0.12            0.09\n",
       "PS4                 0.55            0.16            0.39\n",
       "PSV                 0.00            0.16            0.00\n",
       "WiiU                0.00            0.08            0.00\n",
       "X360                0.00            0.00            0.11\n",
       "XOne                0.20            0.00            0.32"
      ]
     },
     "execution_count": 44,
     "metadata": {},
     "output_type": "execute_result"
    }
   ],
   "source": [
    "platform_total_sales_ratio.pivot_table(index=parameter,\n",
    "                                        values=['ratio_na_sales', 'ratio_eu_sales', 'ratio_jp_sales'],\n",
    "                                        aggfunc='sum')"
   ]
  },
  {
   "cell_type": "markdown",
   "metadata": {},
   "source": [
    "### ТОП 5 популярных жанров"
   ]
  },
  {
   "cell_type": "markdown",
   "metadata": {},
   "source": [
    "Посмотрим, как жанры влияют на продажи игр."
   ]
  },
  {
   "cell_type": "code",
   "execution_count": 44,
   "metadata": {
    "scrolled": true
   },
   "outputs": [],
   "source": [
    "parameter = 'genre'\n",
    "\n",
    "# Доля продаж по ТОП 5 жанрам\n",
    "ratio_na_sales = get_popular('na_sales', parameter).drop(columns=['na_sales']).set_index('genre')\n",
    "ratio_eu_sales = get_popular('eu_sales', parameter).drop(columns=['eu_sales']).set_index('genre')\n",
    "ratio_jp_sales = get_popular('jp_sales', parameter).drop(columns=['jp_sales']).set_index('genre')\n",
    "\n",
    "# Для просмотра таблиц\n",
    "# display(ratio_na_sales.info())\n",
    "# display(ratio_eu_sales)\n",
    "# display(ratio_jp_sales)"
   ]
  },
  {
   "cell_type": "markdown",
   "metadata": {},
   "source": [
    "Объединим таблицы и построим общий график"
   ]
  },
  {
   "cell_type": "code",
   "execution_count": 46,
   "metadata": {},
   "outputs": [
    {
     "data": {
      "image/png": "[encoded data removed]",
      "text/plain": [
       "<Figure size 1296x432 with 3 Axes>"
      ]
     },
     "metadata": {},
     "output_type": "display_data"
    }
   ],
   "source": [
    "# Определим сетку графиков\n",
    "fig, axs = plt.subplots(nrows= 1, ncols= 3, figsize=(18,6))\n",
    "\n",
    "# Заголовки\n",
    "fig.suptitle('ТОП 5 жанров в регионах')\n",
    "\n",
    "axs[0].title.set_text('Северная Америка')\n",
    "axs[1].title.set_text('Европа')\n",
    "axs[2].title.set_text('Япония')\n",
    "\n",
    "# Рисуем\n",
    "axs[0].pie(ratio_na_sales['ratio_na_sales'].to_list(), labels=ratio_na_sales.index, autopct='%1.1f%%')\n",
    "axs[1].pie(ratio_eu_sales['ratio_eu_sales'].to_list(), labels=ratio_eu_sales.index, autopct='%1.1f%%')\n",
    "axs[2].pie(ratio_jp_sales['ratio_jp_sales'].to_list(), labels=ratio_jp_sales.index, autopct='%1.1f%%');"
   ]
  },
  {
   "cell_type": "markdown",
   "metadata": {},
   "source": [
    "В ТОП 5 во всех рассматриваемых регионах оказались жанры Action, Shooter, Sports.\n",
    "\n",
    "- В Северной Америке наибольшую долю в продажах занимает жанр Shooter (далее Action, Sports)\n",
    "- В Европе наибольшую долю в продажах занимает жанр Action (далее Shooter, Sports)\n",
    "- В Японии наибольшую долю в продажах занимает жанр Role-Playing (Action, Fighting. Остальные доли составляют малую часть от ТОП 5)."
   ]
  },
  {
   "cell_type": "markdown",
   "metadata": {},
   "source": [
    "### Влияние рейтинга ESRB на продажи в регионе"
   ]
  },
  {
   "cell_type": "markdown",
   "metadata": {},
   "source": [
    "- E: любой возраст\n",
    "- E10+: >= 10 лет\n",
    "- T: >= 13 лет\n",
    "- M: >= 17 лет\n",
    "- EC: >= 3 лет\n",
    "- RP: рейтинг еще не присвоен"
   ]
  },
  {
   "cell_type": "markdown",
   "metadata": {},
   "source": [
    "Посмотрим, как рейтинг ESRB влияет на продажи игр в рассматриваемых регионах (Северная Америка, Европа, Япония)"
   ]
  },
  {
   "cell_type": "code",
   "execution_count": 47,
   "metadata": {},
   "outputs": [
    {
     "data": {
      "image/png": "[encoded data removed]",
      "text/plain": [
       "<Figure size 1080x360 with 1 Axes>"
      ]
     },
     "metadata": {
      "needs_background": "light"
     },
     "output_type": "display_data"
    }
   ],
   "source": [
    "(df_new.pivot_table(index='rating', \n",
    "                    values=region_list, \n",
    "                    aggfunc='sum').plot(kind='bar', figsize=(15, 5), legend=False))\n",
    "\n",
    "plt.xlabel('Рейтинг ESRB')\n",
    "plt.ylabel('Продажи, млн копий')\n",
    "plt.title('Продажи в зависимости от рейтинга в различных регионах')\n",
    "plt.legend()\n",
    "plt.show()"
   ]
  },
  {
   "cell_type": "markdown",
   "metadata": {},
   "source": [
    "Изобразим в табличном виде"
   ]
  },
  {
   "cell_type": "code",
   "execution_count": 48,
   "metadata": {},
   "outputs": [
    {
     "data": {
      "text/html": [
       "<div>\n",
       "<style scoped>\n",
       "    .dataframe tbody tr th:only-of-type {\n",
       "        vertical-align: middle;\n",
       "    }\n",
       "\n",
       "    .dataframe tbody tr th {\n",
       "        vertical-align: top;\n",
       "    }\n",
       "\n",
       "    .dataframe thead th {\n",
       "        text-align: right;\n",
       "    }\n",
       "</style>\n",
       "<table border=\"1\" class=\"dataframe\">\n",
       "  <thead>\n",
       "    <tr style=\"text-align: right;\">\n",
       "      <th></th>\n",
       "      <th>rating</th>\n",
       "      <th>eu_sales</th>\n",
       "      <th>jp_sales</th>\n",
       "      <th>na_sales</th>\n",
       "    </tr>\n",
       "  </thead>\n",
       "  <tbody>\n",
       "    <tr>\n",
       "      <th>0</th>\n",
       "      <td>E</td>\n",
       "      <td>58.06</td>\n",
       "      <td>8.94</td>\n",
       "      <td>50.74</td>\n",
       "    </tr>\n",
       "    <tr>\n",
       "      <th>1</th>\n",
       "      <td>E10+</td>\n",
       "      <td>26.16</td>\n",
       "      <td>4.46</td>\n",
       "      <td>33.23</td>\n",
       "    </tr>\n",
       "    <tr>\n",
       "      <th>2</th>\n",
       "      <td>M</td>\n",
       "      <td>93.44</td>\n",
       "      <td>8.01</td>\n",
       "      <td>96.42</td>\n",
       "    </tr>\n",
       "    <tr>\n",
       "      <th>3</th>\n",
       "      <td>T</td>\n",
       "      <td>34.07</td>\n",
       "      <td>14.78</td>\n",
       "      <td>38.95</td>\n",
       "    </tr>\n",
       "    <tr>\n",
       "      <th>4</th>\n",
       "      <td>non_rating</td>\n",
       "      <td>58.95</td>\n",
       "      <td>56.90</td>\n",
       "      <td>64.72</td>\n",
       "    </tr>\n",
       "  </tbody>\n",
       "</table>\n",
       "</div>"
      ],
      "text/plain": [
       "       rating  eu_sales  jp_sales  na_sales\n",
       "0           E     58.06      8.94     50.74\n",
       "1        E10+     26.16      4.46     33.23\n",
       "2           M     93.44      8.01     96.42\n",
       "3           T     34.07     14.78     38.95\n",
       "4  non_rating     58.95     56.90     64.72"
      ]
     },
     "execution_count": 48,
     "metadata": {},
     "output_type": "execute_result"
    }
   ],
   "source": [
    "df_new.pivot_table(index='rating', \n",
    "                   values=region_list, \n",
    "                   aggfunc='sum').reset_index()"
   ]
  },
  {
   "cell_type": "markdown",
   "metadata": {},
   "source": [
    "По графику видно, что в Японии игры без рейтинга продаются лучше, чем игры с рейтингом. Это обосновано тем, что данная шкала рейтинга не актуальная для Японии, а актуальна для США и Канады.\n",
    "\n",
    "Самые продаваемые игры:\n",
    "- В Европе - с рейтингом М\n",
    "- В Японии - с рейтингом T\n",
    "- В Северной Америке - также рейтингом M"
   ]
  },
  {
   "cell_type": "code",
   "execution_count": 49,
   "metadata": {},
   "outputs": [
    {
     "name": "stdout",
     "output_type": "stream",
     "text": [
      "0 0.0\n"
     ]
    },
    {
     "data": {
      "text/plain": [
       "non_rating    749\n",
       "T             271\n",
       "M             265\n",
       "E             219\n",
       "E10+          185\n",
       "Name: rating, dtype: int64"
      ]
     },
     "execution_count": 49,
     "metadata": {},
     "output_type": "execute_result"
    }
   ],
   "source": [
    "temp = df_new.copy()\n",
    "print(temp.rating.isna().sum(), temp.rating.isna().sum()/len(temp))\n",
    "temp.rating.value_counts()"
   ]
  },
  {
   "cell_type": "markdown",
   "metadata": {},
   "source": [
    "## Проверка гипотез"
   ]
  },
  {
   "cell_type": "markdown",
   "metadata": {},
   "source": [
    "### Гипотеза 1"
   ]
  },
  {
   "cell_type": "markdown",
   "metadata": {},
   "source": [
    "Проверим, одинаковые ли средние пользовательские рейтинги платформ Xbox One и PC. Значение критического уровня стиатистической значимости (альфа) примем равным 5% для всех экспериментов."
   ]
  },
  {
   "cell_type": "code",
   "execution_count": 50,
   "metadata": {},
   "outputs": [],
   "source": [
    "# Подготовим датасеты для проверки гипотез\n",
    "df_new_xbox = df_new.query('platform == \"XOne\" & user_score.notna()')\n",
    "df_new_pc = df_new.query('platform == \"PC\" & user_score.notna()')"
   ]
  },
  {
   "cell_type": "markdown",
   "metadata": {},
   "source": [
    "Сформулируем гипотезы:\n",
    "\n",
    "- **H0**: средний пользовательский рейтинг Xbox One **равен** среднему пользовательскому рейтингу PC\n",
    "- **H1**: средний пользовательский рейтинг Xbox One **не равен** среднему пользовательскому рейтингу PC"
   ]
  },
  {
   "cell_type": "code",
   "execution_count": 52,
   "metadata": {},
   "outputs": [
    {
     "name": "stdout",
     "output_type": "stream",
     "text": [
      "Xbox One: 187.95460055096416\n",
      "PC: 287.7374361730717\n"
     ]
    }
   ],
   "source": [
    "var_xone = np.var(df_new_xbox['user_score'])\n",
    "var_pc = np.var(df_new_pc['user_score'])\n",
    "\n",
    "print('Xbox One:', var_xone)\n",
    "print('PC:', var_pc)"
   ]
  },
  {
   "cell_type": "markdown",
   "metadata": {},
   "source": [
    "Дисперсии отличаются, поэтому `equal_var=False`.\n",
    "\n",
    "Для проверки гипотезы будем использовать `ttest_ind`, так как он предназначен для рассчета Т-критерия для средних значений двух независимых выборок."
   ]
  },
  {
   "cell_type": "code",
   "execution_count": 53,
   "metadata": {},
   "outputs": [
    {
     "name": "stdout",
     "output_type": "stream",
     "text": [
      "p-значение: 0.11601398086668918\n",
      "Не удалось отвергнуть нулевую гипотезу\n",
      "-----\n",
      "Среднее значение пользоватеьского рейтинга Xbox One: 65.95\n",
      "Среднее значение пользоватеьского рейтинга PC 62.98\n"
     ]
    }
   ],
   "source": [
    "alpha = 0.05\n",
    "\n",
    "results = st.ttest_ind(df_new_xbox['user_score'], \n",
    "                       df_new_pc['user_score'], \n",
    "                       equal_var=False)\n",
    "\n",
    "print('p-значение:', results.pvalue)\n",
    "\n",
    "if results.pvalue < alpha:\n",
    "    print('Отвергаем нулевую гипотезу')\n",
    "else:\n",
    "    print('Не удалось отвергнуть нулевую гипотезу')\n",
    "\n",
    "print('-----')\n",
    "print('Среднее значение пользоватеьского рейтинга Xbox One:', round(df_new_xbox['user_score'].mean(), 2))\n",
    "print('Среднее значение пользоватеьского рейтинга PC', round(df_new_pc['user_score'].mean(), 2))"
   ]
  },
  {
   "cell_type": "markdown",
   "metadata": {},
   "source": [
    "Гипотеза **H0** не отвергнута, поэтому вероятность того, что мы ошибаемся, когда говорим о равенстве средних значений пользовательских рейтингов равна 12%."
   ]
  },
  {
   "cell_type": "markdown",
   "metadata": {},
   "source": [
    "### Гипотеза 2"
   ]
  },
  {
   "cell_type": "markdown",
   "metadata": {},
   "source": [
    "Проверим, являются ли средние пользовательские рейтинги жанров Action и Sports разными."
   ]
  },
  {
   "cell_type": "code",
   "execution_count": 54,
   "metadata": {},
   "outputs": [],
   "source": [
    "# Подготовим датасеты для проверки гипотез\n",
    "df_new_action = df_new.query('genre == \"Action\" & user_score.notna()')\n",
    "df_new_sports = df_new.query('genre == \"Sports\" & user_score.notna()')"
   ]
  },
  {
   "cell_type": "markdown",
   "metadata": {},
   "source": [
    "Сформулируем гипотезы:\n",
    "\n",
    "- **H0**: средний пользовательский рейтинг жанра Action **равен** среднему пользовательскому рейтингу жанра Sports\n",
    "- **H1**: средний пользовательский рейтинг жанра Action **не равен** среднему пользовательскому рейтингу жанра Sports"
   ]
  },
  {
   "cell_type": "markdown",
   "metadata": {},
   "source": [
    "Проверим дисперсии выборок и определимся с параметром `equal_var`"
   ]
  },
  {
   "cell_type": "code",
   "execution_count": 56,
   "metadata": {},
   "outputs": [
    {
     "name": "stdout",
     "output_type": "stream",
     "text": [
      "Action: 189.208448117539\n",
      "Sports: 341.98375596751185\n"
     ]
    }
   ],
   "source": [
    "var_action = np.var(df_new_action['user_score'])\n",
    "var_sports = np.var(df_new_sports['user_score'])\n",
    "\n",
    "print('Action:', var_action)\n",
    "print('Sports:', var_sports)"
   ]
  },
  {
   "cell_type": "markdown",
   "metadata": {},
   "source": [
    "Дисперсии отличаются => `equal_var=False`.<br>\n",
    "\n",
    "Для проверки гипотезы будем использовать `ttest_ind`, так как он предназначен для рассчета Т-критерия для средних значений двух независимых выборок."
   ]
  },
  {
   "cell_type": "code",
   "execution_count": 57,
   "metadata": {},
   "outputs": [
    {
     "name": "stdout",
     "output_type": "stream",
     "text": [
      "p-значение: 1.182555038264477e-14\n",
      "Отвергаем нулевую гипотезу\n",
      "-----\n",
      "Среднее значение пользоватеьского рейтинга жанра Action: 67.61\n",
      "Среднее значение пользоватеьского рейтинга жанра Sports 52.25\n"
     ]
    }
   ],
   "source": [
    "alpha = 0.05\n",
    "\n",
    "results = st.ttest_ind(df_new_action['user_score'], \n",
    "                       df_new_sports['user_score'], \n",
    "                       equal_var=False)\n",
    "\n",
    "print('p-значение:', results.pvalue)\n",
    "\n",
    "if results.pvalue < alpha:\n",
    "    print('Отвергаем нулевую гипотезу')\n",
    "else:\n",
    "    print('Не удалось отвергнуть нулевую гипотезу')\n",
    "\n",
    "print('-----')\n",
    "print('Среднее значение пользоватеьского рейтинга жанра Action:', round(df_new_action['user_score'].mean(), 2))\n",
    "print('Среднее значение пользоватеьского рейтинга жанра Sports', round(df_new_sports['user_score'].mean(), 2))"
   ]
  },
  {
   "cell_type": "markdown",
   "metadata": {},
   "source": [
    "Гипотеза **H0** отвергнута. На имеющихся данных, на уровне значимости 5% есть основания отвергнуть нулевую гипотезу о равенстве средних значений пользовательских рейтингов (отзывов) жанров `Action` и `Sports` в пользу альтернативной гипотезы."
   ]
  },
  {
   "cell_type": "markdown",
   "metadata": {},
   "source": [
    "## Вывод"
   ]
  },
  {
   "cell_type": "markdown",
   "metadata": {},
   "source": [
    "В представленной выборке были обработаны пропуски (средний процент пропусков составил: 12.14%), в некоторых столбцах исправили тип данных, удалили неявные дубликаты.\n",
    "\n",
    "**Исследовательский анализ данных**\n",
    "- **Динамика выпуска игр**. Пик выпуска игр (ТОП-10) приходится на 2002-2011 гг. С 1990-2008 гг. производство игр росло. Пик выпуска пришелся на 2008 год - тогда было выпущено 1427 игр. Далее наблюдалось снижение выпуска. Для дальнейшего анализа мы из выборки взяли только те игры, выпущенные после 1990-х гг. (до 90-х гг. была другая конъюнктура, разработка была не такой масштабной, доступ к ПК имела малая часть пользователей)\n",
    "- **Динамика продаж по платформам**. Выделили ТОП 5 платформ с наибольшими суммарными продажами - PS2, X360, PS3, Wii, DS. Анализ динамики выпуска показал, что стабильной популярности на протяжении анализируемого периода у рассматриваемых платформ не наблюдалось: одна сменяла другую, а жизненный цикл платформы примерно равен 7 лет. Цикл можно описать нормальным распределением: рост, пик, спад.\n",
    "- **Актуальный период для прогноза** взяли интервал с 2014-2016 гг.\n",
    "- **Потенциально прибыльные платформы**. На интервале 2014-2016 гг. наиболее привлекательные с точки зрения прибыльности выглядят PS4, XOne, 3DS, PS3, X360. Среди них выделяются еще наиболее прибыльные: PS4 и XOne. В 2015 году суммарные продажи увеличились по сравнению с предыдущим годом, в то время как продажи остальных платформ падали. В целом наблюдается отрицательная тенденция (суммарные продажи падают от года к году).\n",
    "- **Ящик с усами**. График навел на мысль, что бОльшая часть продаж происходит за счет выхода хитов на какой-либо платформе. \"Стабильная\" (ящик) часть продаж у рассматриваемых платформ маленькая. Много выбросов.\n",
    "- **Влияние отзывов**. Зависимость между между отзывами пользователей обратно пропорционально продажам (кроме платформы 3DS), причем зависимость очень слабая. Связь между отзывами критиков и продажами значительно сильнее и прямо пропорциональна. Так, при составлении прогноза лучше полагаться на оценки критиков.\n",
    "- **Распределение игр по жанрам**. Самые популярные жанры игр (Shooter, Sports, Platform) не соответствуют самым прибыльным жанрам (Action, Role-Playing, Adventure).\n",
    "\n",
    "**Портрет пользователя регионов**\n",
    "\n",
    "Доли ТОП 5 самых продаваемых платформ по регионам:\n",
    "- **Северная Америка (NA)**. Самая продаваемая платформа - X360 (33% от всех продаж ТОП 5 платформ по региону)\n",
    "- **Европа (EU)**. Самая продаваемая платформа - PS3 (30% от всех продаж ТОП 5 платформ по региону)\n",
    "- **Япония (JP)**. Лучше всего продаюются игры на платформе 3DS (47%). Остальной список ТОП 5 занимают отечественные консоли от Sony. X360 в списке ТОП 5 продаваемых платформ не значится.\n",
    "\n",
    "Доли ТОП 5 популярных жанров\n",
    "\n",
    "Во всех трех регионах в ТОП 5 по продажам вошли такие жанры, как Action и Role-Playing. Fighting и Platform держались в ТОП 5 только в Японии. Racing был в ТОП 5 только в Европе.\n",
    "\n",
    "Рейтинг ESRB актуален для Америки, менее актуален для Европы и почти не актуален для Японии. Таким образом, данный рейтинг больше \"влияет\" на продажи в Северной Америке. \n",
    "\n",
    "**Гипотезы**\n",
    "1. Средний пользовательский рейтинг платформы `Xbox One` **не равен** среднему пользовательскому рейтингу платформы `PC`. Рейтинги разные, поэтому не стоит сравнивать две платформы по этому критерию.\n",
    "2. Средний пользовательский рейтинг жанра `Action` **не равен** среднему пользовательскому рейтингу жанра `Sports`. Рейтинги разные, поэтому не стоит сравнивать два жанра по этому критерию. \n",
    "\n",
    "**Рекомендации**\n",
    "- Выпускать игры на платформы Xbox One и PS4\n",
    "- Ориентация на Европу и Америку (популярность платформ выше в этих регионах)\n",
    "- Популярные жанры: Shooter, Action, Sport\n",
    "- Стоит обратить внимание на отзывы критиков\n",
    "- Самый распространенный рейтинг - M, T"
   ]
  }
 ],
 "metadata": {
  "ExecuteTimeLog": [
   {
    "duration": 1411,
    "start_time": "2023-10-02T16:51:51.163Z"
   },
   {
    "duration": 104,
    "start_time": "2023-10-02T16:51:53.242Z"
   },
   {
    "duration": 100,
    "start_time": "2023-10-02T16:53:04.281Z"
   },
   {
    "duration": 64,
    "start_time": "2023-10-02T16:59:47.717Z"
   },
   {
    "duration": 87,
    "start_time": "2023-10-02T17:01:40.440Z"
   },
   {
    "duration": 69,
    "start_time": "2023-10-02T17:02:00.361Z"
   },
   {
    "duration": 62,
    "start_time": "2023-10-02T17:07:20.479Z"
   },
   {
    "duration": 43,
    "start_time": "2023-10-02T17:07:47.606Z"
   },
   {
    "duration": 94,
    "start_time": "2023-10-02T17:09:09.908Z"
   },
   {
    "duration": 79,
    "start_time": "2023-10-02T17:09:20.643Z"
   },
   {
    "duration": 94,
    "start_time": "2023-10-02T17:09:30.272Z"
   },
   {
    "duration": 103,
    "start_time": "2023-10-02T17:09:56.859Z"
   },
   {
    "duration": 90,
    "start_time": "2023-10-02T17:10:05.804Z"
   },
   {
    "duration": 83,
    "start_time": "2023-10-02T17:10:49.521Z"
   },
   {
    "duration": 112,
    "start_time": "2023-10-02T17:11:38.357Z"
   },
   {
    "duration": 19,
    "start_time": "2023-10-02T17:11:44.720Z"
   },
   {
    "duration": 132,
    "start_time": "2023-10-02T17:14:15.124Z"
   },
   {
    "duration": 54,
    "start_time": "2023-10-02T17:14:39.458Z"
   },
   {
    "duration": 12,
    "start_time": "2023-10-02T17:15:08.508Z"
   },
   {
    "duration": 31,
    "start_time": "2023-10-02T17:15:33.607Z"
   },
   {
    "duration": 15,
    "start_time": "2023-10-02T17:15:38.039Z"
   },
   {
    "duration": 3,
    "start_time": "2023-10-02T17:34:37.050Z"
   },
   {
    "duration": 12,
    "start_time": "2023-10-02T17:34:43.067Z"
   },
   {
    "duration": 3,
    "start_time": "2023-10-02T17:34:47.917Z"
   },
   {
    "duration": 17,
    "start_time": "2023-10-02T17:55:08.837Z"
   },
   {
    "duration": 93,
    "start_time": "2023-10-02T17:57:16.252Z"
   },
   {
    "duration": 7,
    "start_time": "2023-10-02T17:57:36.387Z"
   },
   {
    "duration": 13,
    "start_time": "2023-10-02T17:57:49.052Z"
   },
   {
    "duration": 7,
    "start_time": "2023-10-02T17:59:54.097Z"
   },
   {
    "duration": 21,
    "start_time": "2023-10-02T18:03:36.476Z"
   },
   {
    "duration": 8,
    "start_time": "2023-10-02T18:03:38.045Z"
   },
   {
    "duration": 10,
    "start_time": "2023-10-02T18:09:49.153Z"
   },
   {
    "duration": 7,
    "start_time": "2023-10-02T18:13:09.066Z"
   },
   {
    "duration": 166,
    "start_time": "2023-10-02T18:14:53.949Z"
   },
   {
    "duration": 7,
    "start_time": "2023-10-02T18:22:29.235Z"
   },
   {
    "duration": 3,
    "start_time": "2023-10-02T18:23:12.601Z"
   },
   {
    "duration": 12,
    "start_time": "2023-10-02T18:25:48.865Z"
   },
   {
    "duration": 16,
    "start_time": "2023-10-02T18:33:21.446Z"
   },
   {
    "duration": 32,
    "start_time": "2023-10-02T19:57:39.429Z"
   },
   {
    "duration": 5,
    "start_time": "2023-10-02T19:58:01.298Z"
   },
   {
    "duration": 4,
    "start_time": "2023-10-02T19:58:10.030Z"
   },
   {
    "duration": 20,
    "start_time": "2023-10-02T19:58:28.098Z"
   },
   {
    "duration": 19,
    "start_time": "2023-10-02T19:58:38.076Z"
   },
   {
    "duration": 8,
    "start_time": "2023-10-02T20:00:00.292Z"
   },
   {
    "duration": 78,
    "start_time": "2023-10-02T20:02:36.215Z"
   },
   {
    "duration": 169,
    "start_time": "2023-10-02T20:02:42.509Z"
   },
   {
    "duration": 156,
    "start_time": "2023-10-02T20:03:21.394Z"
   },
   {
    "duration": 153,
    "start_time": "2023-10-02T20:03:38.644Z"
   },
   {
    "duration": 167,
    "start_time": "2023-10-02T20:03:59.431Z"
   },
   {
    "duration": 172,
    "start_time": "2023-10-02T20:04:05.696Z"
   },
   {
    "duration": 179,
    "start_time": "2023-10-02T20:05:01.761Z"
   },
   {
    "duration": 185,
    "start_time": "2023-10-02T20:05:19.214Z"
   },
   {
    "duration": 230,
    "start_time": "2023-10-02T20:05:46.743Z"
   },
   {
    "duration": 199,
    "start_time": "2023-10-02T20:06:43.782Z"
   },
   {
    "duration": 271,
    "start_time": "2023-10-02T20:06:51.977Z"
   },
   {
    "duration": 9,
    "start_time": "2023-10-02T20:07:46.996Z"
   },
   {
    "duration": 209,
    "start_time": "2023-10-02T20:07:48.441Z"
   },
   {
    "duration": 12,
    "start_time": "2023-10-02T20:30:02.209Z"
   },
   {
    "duration": 24,
    "start_time": "2023-10-02T20:34:39.525Z"
   },
   {
    "duration": 51,
    "start_time": "2023-10-02T20:34:47.125Z"
   },
   {
    "duration": 53,
    "start_time": "2023-10-02T20:35:12.363Z"
   },
   {
    "duration": 254,
    "start_time": "2023-10-02T20:37:52.897Z"
   },
   {
    "duration": 33,
    "start_time": "2023-10-02T20:38:48.524Z"
   },
   {
    "duration": 52,
    "start_time": "2023-10-02T20:39:08.441Z"
   },
   {
    "duration": 28,
    "start_time": "2023-10-02T20:39:26.173Z"
   },
   {
    "duration": 51,
    "start_time": "2023-10-02T20:42:28.874Z"
   },
   {
    "duration": 1372,
    "start_time": "2023-10-03T14:33:48.800Z"
   },
   {
    "duration": 103,
    "start_time": "2023-10-03T14:33:50.175Z"
   },
   {
    "duration": 19,
    "start_time": "2023-10-03T14:33:50.280Z"
   },
   {
    "duration": 30,
    "start_time": "2023-10-03T14:33:50.301Z"
   },
   {
    "duration": 47,
    "start_time": "2023-10-03T14:33:50.334Z"
   },
   {
    "duration": 33,
    "start_time": "2023-10-03T14:33:50.384Z"
   },
   {
    "duration": 52,
    "start_time": "2023-10-03T14:33:50.419Z"
   },
   {
    "duration": 37,
    "start_time": "2023-10-03T14:33:50.472Z"
   },
   {
    "duration": 48,
    "start_time": "2023-10-03T14:33:50.510Z"
   },
   {
    "duration": 30,
    "start_time": "2023-10-03T14:33:50.560Z"
   },
   {
    "duration": 37,
    "start_time": "2023-10-03T14:33:50.591Z"
   },
   {
    "duration": 13,
    "start_time": "2023-10-03T14:33:50.630Z"
   },
   {
    "duration": 22,
    "start_time": "2023-10-03T14:33:50.645Z"
   },
   {
    "duration": 46,
    "start_time": "2023-10-03T14:33:50.670Z"
   },
   {
    "duration": 24,
    "start_time": "2023-10-03T14:33:50.717Z"
   },
   {
    "duration": 213,
    "start_time": "2023-10-03T14:33:50.743Z"
   },
   {
    "duration": 7,
    "start_time": "2023-10-03T14:33:50.958Z"
   },
   {
    "duration": 83,
    "start_time": "2023-10-03T14:43:26.627Z"
   },
   {
    "duration": 124,
    "start_time": "2023-10-03T14:44:50.397Z"
   },
   {
    "duration": 134,
    "start_time": "2023-10-03T14:44:56.785Z"
   },
   {
    "duration": 150,
    "start_time": "2023-10-03T14:45:43.003Z"
   },
   {
    "duration": 67,
    "start_time": "2023-10-03T14:45:57.484Z"
   },
   {
    "duration": 84,
    "start_time": "2023-10-03T14:46:17.398Z"
   },
   {
    "duration": 74,
    "start_time": "2023-10-03T14:46:21.472Z"
   },
   {
    "duration": 90,
    "start_time": "2023-10-03T14:46:33.438Z"
   },
   {
    "duration": 107,
    "start_time": "2023-10-03T14:55:03.230Z"
   },
   {
    "duration": 128,
    "start_time": "2023-10-03T14:55:19.433Z"
   },
   {
    "duration": 77,
    "start_time": "2023-10-03T14:55:38.600Z"
   },
   {
    "duration": 77,
    "start_time": "2023-10-03T14:56:30.291Z"
   },
   {
    "duration": 77,
    "start_time": "2023-10-03T14:57:33.338Z"
   },
   {
    "duration": 64,
    "start_time": "2023-10-03T15:01:03.886Z"
   },
   {
    "duration": 1608,
    "start_time": "2023-10-03T15:01:21.486Z"
   },
   {
    "duration": 2040,
    "start_time": "2023-10-03T15:01:45.616Z"
   },
   {
    "duration": 1885,
    "start_time": "2023-10-03T15:02:33.691Z"
   },
   {
    "duration": 231,
    "start_time": "2023-10-03T15:03:40.492Z"
   },
   {
    "duration": 105,
    "start_time": "2023-10-03T15:04:47.232Z"
   },
   {
    "duration": 25,
    "start_time": "2023-10-03T15:08:08.086Z"
   },
   {
    "duration": 53,
    "start_time": "2023-10-03T15:08:41.196Z"
   },
   {
    "duration": 75,
    "start_time": "2023-10-03T15:09:52.302Z"
   },
   {
    "duration": 21,
    "start_time": "2023-10-03T15:10:11.301Z"
   },
   {
    "duration": 263,
    "start_time": "2023-10-03T15:10:37.943Z"
   },
   {
    "duration": 3506,
    "start_time": "2023-10-03T15:11:05.418Z"
   },
   {
    "duration": 2945,
    "start_time": "2023-10-03T15:11:17.664Z"
   },
   {
    "duration": 4844,
    "start_time": "2023-10-03T15:14:50.193Z"
   },
   {
    "duration": 2156,
    "start_time": "2023-10-03T15:15:06.201Z"
   },
   {
    "duration": 2595,
    "start_time": "2023-10-03T15:15:41.527Z"
   },
   {
    "duration": 24,
    "start_time": "2023-10-03T15:16:01.531Z"
   },
   {
    "duration": 24,
    "start_time": "2023-10-03T15:16:13.729Z"
   },
   {
    "duration": 65,
    "start_time": "2023-10-03T15:16:27.794Z"
   },
   {
    "duration": 100,
    "start_time": "2023-10-03T15:17:10.933Z"
   },
   {
    "duration": 223,
    "start_time": "2023-10-03T15:17:27.001Z"
   },
   {
    "duration": 208,
    "start_time": "2023-10-03T15:18:18.702Z"
   },
   {
    "duration": 89,
    "start_time": "2023-10-03T15:18:51.321Z"
   },
   {
    "duration": 196,
    "start_time": "2023-10-03T15:19:00.621Z"
   },
   {
    "duration": 204,
    "start_time": "2023-10-03T15:19:31.194Z"
   },
   {
    "duration": 106,
    "start_time": "2023-10-03T15:20:02.702Z"
   },
   {
    "duration": 16,
    "start_time": "2023-10-03T15:21:27.828Z"
   },
   {
    "duration": 16,
    "start_time": "2023-10-03T15:21:36.416Z"
   },
   {
    "duration": 11,
    "start_time": "2023-10-03T15:21:42.768Z"
   },
   {
    "duration": 18,
    "start_time": "2023-10-03T15:21:47.385Z"
   },
   {
    "duration": 28,
    "start_time": "2023-10-03T15:22:04.460Z"
   },
   {
    "duration": 23,
    "start_time": "2023-10-03T15:22:55.999Z"
   },
   {
    "duration": 109,
    "start_time": "2023-10-03T15:26:15.267Z"
   },
   {
    "duration": 1117,
    "start_time": "2023-10-03T15:26:21.311Z"
   },
   {
    "duration": 45,
    "start_time": "2023-10-03T15:27:44.468Z"
   },
   {
    "duration": 22,
    "start_time": "2023-10-03T15:27:51.233Z"
   },
   {
    "duration": 78,
    "start_time": "2023-10-03T15:28:38.376Z"
   },
   {
    "duration": 21,
    "start_time": "2023-10-03T15:30:10.739Z"
   },
   {
    "duration": 32,
    "start_time": "2023-10-03T15:30:26.423Z"
   },
   {
    "duration": 62,
    "start_time": "2023-10-03T15:33:22.968Z"
   },
   {
    "duration": 65,
    "start_time": "2023-10-03T15:33:58.872Z"
   },
   {
    "duration": 3734,
    "start_time": "2023-10-03T15:35:13.240Z"
   },
   {
    "duration": 1440,
    "start_time": "2023-10-03T15:35:37.694Z"
   },
   {
    "duration": 2066,
    "start_time": "2023-10-03T15:35:44.578Z"
   },
   {
    "duration": 1742,
    "start_time": "2023-10-03T15:36:03.925Z"
   },
   {
    "duration": 1600,
    "start_time": "2023-10-03T15:36:26.014Z"
   },
   {
    "duration": 1541,
    "start_time": "2023-10-03T15:37:32.172Z"
   },
   {
    "duration": 219,
    "start_time": "2023-10-03T15:37:47.767Z"
   },
   {
    "duration": 274,
    "start_time": "2023-10-03T15:39:25.274Z"
   },
   {
    "duration": 246,
    "start_time": "2023-10-03T15:40:08.002Z"
   },
   {
    "duration": 228,
    "start_time": "2023-10-03T15:40:33.593Z"
   },
   {
    "duration": 13,
    "start_time": "2023-10-03T15:59:03.130Z"
   },
   {
    "duration": 16,
    "start_time": "2023-10-03T16:02:18.545Z"
   },
   {
    "duration": 5,
    "start_time": "2023-10-03T16:03:04.237Z"
   },
   {
    "duration": 16,
    "start_time": "2023-10-03T16:16:06.101Z"
   },
   {
    "duration": 84,
    "start_time": "2023-10-03T16:22:22.913Z"
   },
   {
    "duration": 22,
    "start_time": "2023-10-03T16:22:32.005Z"
   },
   {
    "duration": 19,
    "start_time": "2023-10-03T16:22:44.197Z"
   },
   {
    "duration": 37,
    "start_time": "2023-10-03T16:23:50.369Z"
   },
   {
    "duration": 369,
    "start_time": "2023-10-03T16:23:58.906Z"
   },
   {
    "duration": 22,
    "start_time": "2023-10-03T16:24:50.959Z"
   },
   {
    "duration": 100,
    "start_time": "2023-10-03T16:25:21.632Z"
   },
   {
    "duration": 22,
    "start_time": "2023-10-03T16:25:27.499Z"
   },
   {
    "duration": 439,
    "start_time": "2023-10-03T16:25:34.344Z"
   },
   {
    "duration": 3302,
    "start_time": "2023-10-03T16:32:13.234Z"
   },
   {
    "duration": 3486,
    "start_time": "2023-10-03T16:32:29.358Z"
   },
   {
    "duration": 2971,
    "start_time": "2023-10-03T16:32:55.363Z"
   },
   {
    "duration": 2633,
    "start_time": "2023-10-03T16:33:08.918Z"
   },
   {
    "duration": 3639,
    "start_time": "2023-10-03T16:33:53.400Z"
   },
   {
    "duration": 234,
    "start_time": "2023-10-03T16:34:28.910Z"
   },
   {
    "duration": 2094,
    "start_time": "2023-10-03T16:35:17.836Z"
   },
   {
    "duration": 1356,
    "start_time": "2023-10-03T16:35:37.542Z"
   },
   {
    "duration": 23,
    "start_time": "2023-10-03T16:38:30.932Z"
   },
   {
    "duration": 13,
    "start_time": "2023-10-03T16:38:57.705Z"
   },
   {
    "duration": 32,
    "start_time": "2023-10-03T16:39:04.182Z"
   },
   {
    "duration": 5,
    "start_time": "2023-10-03T16:39:17.405Z"
   },
   {
    "duration": 18,
    "start_time": "2023-10-03T16:39:18.951Z"
   },
   {
    "duration": 4,
    "start_time": "2023-10-03T16:41:01.358Z"
   },
   {
    "duration": 60,
    "start_time": "2023-10-03T16:41:44.673Z"
   },
   {
    "duration": 33,
    "start_time": "2023-10-03T16:44:01.851Z"
   },
   {
    "duration": 22,
    "start_time": "2023-10-03T16:44:13.017Z"
   },
   {
    "duration": 22,
    "start_time": "2023-10-03T16:44:21.583Z"
   },
   {
    "duration": 3136,
    "start_time": "2023-10-03T16:44:56.035Z"
   },
   {
    "duration": 10,
    "start_time": "2023-10-03T16:48:28.726Z"
   },
   {
    "duration": 62,
    "start_time": "2023-10-03T16:48:50.430Z"
   },
   {
    "duration": 1896,
    "start_time": "2023-10-03T16:48:57.702Z"
   },
   {
    "duration": 1749,
    "start_time": "2023-10-03T16:49:14.202Z"
   },
   {
    "duration": 1794,
    "start_time": "2023-10-03T16:49:27.686Z"
   },
   {
    "duration": 1870,
    "start_time": "2023-10-03T16:50:56.255Z"
   },
   {
    "duration": 868,
    "start_time": "2023-10-03T16:51:10.839Z"
   },
   {
    "duration": 834,
    "start_time": "2023-10-03T16:53:35.417Z"
   },
   {
    "duration": 840,
    "start_time": "2023-10-03T16:53:41.722Z"
   },
   {
    "duration": 78,
    "start_time": "2023-10-03T16:57:02.722Z"
   },
   {
    "duration": 813,
    "start_time": "2023-10-03T16:57:40.744Z"
   },
   {
    "duration": 616,
    "start_time": "2023-10-03T16:58:09.346Z"
   },
   {
    "duration": 614,
    "start_time": "2023-10-03T17:01:08.404Z"
   },
   {
    "duration": 560,
    "start_time": "2023-10-03T17:01:38.501Z"
   },
   {
    "duration": 583,
    "start_time": "2023-10-03T17:01:48.573Z"
   },
   {
    "duration": 589,
    "start_time": "2023-10-03T17:02:14.213Z"
   },
   {
    "duration": 619,
    "start_time": "2023-10-03T17:02:56.189Z"
   },
   {
    "duration": 567,
    "start_time": "2023-10-03T17:03:55.062Z"
   },
   {
    "duration": 14,
    "start_time": "2023-10-03T17:04:34.098Z"
   },
   {
    "duration": 1163,
    "start_time": "2023-10-03T17:04:42.496Z"
   },
   {
    "duration": 596,
    "start_time": "2023-10-03T17:05:00.972Z"
   },
   {
    "duration": 56,
    "start_time": "2023-10-03T17:11:11.966Z"
   },
   {
    "duration": 65,
    "start_time": "2023-10-03T17:14:16.371Z"
   },
   {
    "duration": 56,
    "start_time": "2023-10-03T17:15:48.581Z"
   },
   {
    "duration": 989,
    "start_time": "2023-10-03T17:16:00.788Z"
   },
   {
    "duration": 11,
    "start_time": "2023-10-03T17:17:22.622Z"
   },
   {
    "duration": 24,
    "start_time": "2023-10-03T17:17:32.538Z"
   },
   {
    "duration": 899,
    "start_time": "2023-10-03T17:17:41.012Z"
   },
   {
    "duration": 425,
    "start_time": "2023-10-03T17:20:21.574Z"
   },
   {
    "duration": 927,
    "start_time": "2023-10-03T17:20:41.930Z"
   },
   {
    "duration": 918,
    "start_time": "2023-10-03T17:23:23.105Z"
   },
   {
    "duration": 960,
    "start_time": "2023-10-03T17:23:44.532Z"
   },
   {
    "duration": 935,
    "start_time": "2023-10-03T17:23:58.625Z"
   },
   {
    "duration": 902,
    "start_time": "2023-10-03T17:24:39.608Z"
   },
   {
    "duration": 959,
    "start_time": "2023-10-03T17:26:58.482Z"
   },
   {
    "duration": 31,
    "start_time": "2023-10-03T17:29:56.099Z"
   },
   {
    "duration": 26,
    "start_time": "2023-10-03T17:30:29.172Z"
   },
   {
    "duration": 1026,
    "start_time": "2023-10-03T17:30:46.518Z"
   },
   {
    "duration": 1262,
    "start_time": "2023-10-03T17:33:05.689Z"
   },
   {
    "duration": 678,
    "start_time": "2023-10-03T17:33:48.450Z"
   },
   {
    "duration": 9,
    "start_time": "2023-10-03T18:44:35.018Z"
   },
   {
    "duration": 17,
    "start_time": "2023-10-03T18:44:40.263Z"
   },
   {
    "duration": 158,
    "start_time": "2023-10-03T18:52:56.714Z"
   },
   {
    "duration": 127,
    "start_time": "2023-10-03T18:53:06.366Z"
   },
   {
    "duration": 80,
    "start_time": "2023-10-03T18:53:13.396Z"
   },
   {
    "duration": 126,
    "start_time": "2023-10-03T18:53:25.014Z"
   },
   {
    "duration": 296,
    "start_time": "2023-10-03T18:54:08.199Z"
   },
   {
    "duration": 284,
    "start_time": "2023-10-03T18:54:58.298Z"
   },
   {
    "duration": 33,
    "start_time": "2023-10-03T18:58:03.392Z"
   },
   {
    "duration": 29,
    "start_time": "2023-10-03T18:58:57.497Z"
   },
   {
    "duration": 595,
    "start_time": "2023-10-03T18:59:10.350Z"
   },
   {
    "duration": 288,
    "start_time": "2023-10-03T18:59:54.657Z"
   },
   {
    "duration": 298,
    "start_time": "2023-10-03T19:01:07.042Z"
   },
   {
    "duration": 257,
    "start_time": "2023-10-03T19:01:43.309Z"
   },
   {
    "duration": 291,
    "start_time": "2023-10-03T19:03:01.425Z"
   },
   {
    "duration": 293,
    "start_time": "2023-10-03T19:03:10.825Z"
   },
   {
    "duration": 321,
    "start_time": "2023-10-03T19:05:27.810Z"
   },
   {
    "duration": 339,
    "start_time": "2023-10-03T19:07:27.557Z"
   },
   {
    "duration": 315,
    "start_time": "2023-10-03T19:07:53.276Z"
   },
   {
    "duration": 393,
    "start_time": "2023-10-03T19:10:32.396Z"
   },
   {
    "duration": 1277,
    "start_time": "2023-10-03T19:12:22.645Z"
   },
   {
    "duration": 300,
    "start_time": "2023-10-03T19:12:52.196Z"
   },
   {
    "duration": 350,
    "start_time": "2023-10-03T19:13:03.892Z"
   },
   {
    "duration": 1572,
    "start_time": "2023-10-03T19:13:29.976Z"
   },
   {
    "duration": 182,
    "start_time": "2023-10-03T19:13:56.658Z"
   },
   {
    "duration": 399,
    "start_time": "2023-10-03T19:16:16.922Z"
   },
   {
    "duration": 15,
    "start_time": "2023-10-03T19:17:13.436Z"
   },
   {
    "duration": 32,
    "start_time": "2023-10-03T19:18:58.524Z"
   },
   {
    "duration": 1970,
    "start_time": "2023-10-03T19:19:10.902Z"
   },
   {
    "duration": 17,
    "start_time": "2023-10-03T19:19:44.062Z"
   },
   {
    "duration": 5,
    "start_time": "2023-10-03T19:19:57.803Z"
   },
   {
    "duration": 67,
    "start_time": "2023-10-03T19:19:57.811Z"
   },
   {
    "duration": 28,
    "start_time": "2023-10-03T19:19:57.880Z"
   },
   {
    "duration": 27,
    "start_time": "2023-10-03T19:19:57.910Z"
   },
   {
    "duration": 17,
    "start_time": "2023-10-03T19:19:57.940Z"
   },
   {
    "duration": 65,
    "start_time": "2023-10-03T19:19:57.959Z"
   },
   {
    "duration": 15,
    "start_time": "2023-10-03T19:19:58.026Z"
   },
   {
    "duration": 7,
    "start_time": "2023-10-03T19:19:58.042Z"
   },
   {
    "duration": 28,
    "start_time": "2023-10-03T19:19:58.050Z"
   },
   {
    "duration": 26,
    "start_time": "2023-10-03T19:19:58.082Z"
   },
   {
    "duration": 25,
    "start_time": "2023-10-03T19:19:58.110Z"
   },
   {
    "duration": 25,
    "start_time": "2023-10-03T19:19:58.136Z"
   },
   {
    "duration": 29,
    "start_time": "2023-10-03T19:19:58.162Z"
   },
   {
    "duration": 17,
    "start_time": "2023-10-03T19:19:58.196Z"
   },
   {
    "duration": 21,
    "start_time": "2023-10-03T19:19:58.214Z"
   },
   {
    "duration": 205,
    "start_time": "2023-10-03T19:19:58.236Z"
   },
   {
    "duration": 8,
    "start_time": "2023-10-03T19:19:58.442Z"
   },
   {
    "duration": 95,
    "start_time": "2023-10-03T19:19:58.451Z"
   },
   {
    "duration": 251,
    "start_time": "2023-10-03T19:19:58.548Z"
   },
   {
    "duration": 7,
    "start_time": "2023-10-03T19:19:58.802Z"
   },
   {
    "duration": 23,
    "start_time": "2023-10-03T19:19:58.811Z"
   },
   {
    "duration": 658,
    "start_time": "2023-10-03T19:19:58.836Z"
   },
   {
    "duration": 302,
    "start_time": "2023-10-03T19:19:59.495Z"
   },
   {
    "duration": 0,
    "start_time": "2023-10-03T19:19:59.800Z"
   },
   {
    "duration": 20,
    "start_time": "2023-10-03T19:20:05.573Z"
   },
   {
    "duration": 16,
    "start_time": "2023-10-03T19:20:18.441Z"
   },
   {
    "duration": 69,
    "start_time": "2023-10-03T19:22:07.810Z"
   },
   {
    "duration": 18,
    "start_time": "2023-10-03T19:22:14.236Z"
   },
   {
    "duration": 17,
    "start_time": "2023-10-03T19:22:29.653Z"
   },
   {
    "duration": 16,
    "start_time": "2023-10-03T19:22:37.106Z"
   },
   {
    "duration": 4,
    "start_time": "2023-10-03T19:22:42.026Z"
   },
   {
    "duration": 83,
    "start_time": "2023-10-03T19:22:42.032Z"
   },
   {
    "duration": 11,
    "start_time": "2023-10-03T19:22:42.117Z"
   },
   {
    "duration": 40,
    "start_time": "2023-10-03T19:22:42.130Z"
   },
   {
    "duration": 36,
    "start_time": "2023-10-03T19:22:42.172Z"
   },
   {
    "duration": 32,
    "start_time": "2023-10-03T19:22:42.210Z"
   },
   {
    "duration": 16,
    "start_time": "2023-10-03T19:22:42.244Z"
   },
   {
    "duration": 20,
    "start_time": "2023-10-03T19:22:42.261Z"
   },
   {
    "duration": 24,
    "start_time": "2023-10-03T19:22:42.283Z"
   },
   {
    "duration": 10,
    "start_time": "2023-10-03T19:22:42.310Z"
   },
   {
    "duration": 14,
    "start_time": "2023-10-03T19:22:42.321Z"
   },
   {
    "duration": 12,
    "start_time": "2023-10-03T19:22:42.336Z"
   },
   {
    "duration": 6,
    "start_time": "2023-10-03T19:22:42.349Z"
   },
   {
    "duration": 22,
    "start_time": "2023-10-03T19:22:42.380Z"
   },
   {
    "duration": 36,
    "start_time": "2023-10-03T19:22:42.411Z"
   },
   {
    "duration": 208,
    "start_time": "2023-10-03T19:22:42.448Z"
   },
   {
    "duration": 8,
    "start_time": "2023-10-03T19:22:42.658Z"
   },
   {
    "duration": 93,
    "start_time": "2023-10-03T19:22:42.668Z"
   },
   {
    "duration": 259,
    "start_time": "2023-10-03T19:22:42.763Z"
   },
   {
    "duration": 4,
    "start_time": "2023-10-03T19:22:43.024Z"
   },
   {
    "duration": 23,
    "start_time": "2023-10-03T19:22:43.030Z"
   },
   {
    "duration": 623,
    "start_time": "2023-10-03T19:22:43.055Z"
   },
   {
    "duration": 319,
    "start_time": "2023-10-03T19:22:43.685Z"
   },
   {
    "duration": 0,
    "start_time": "2023-10-03T19:22:44.009Z"
   },
   {
    "duration": 16,
    "start_time": "2023-10-03T19:22:47.855Z"
   },
   {
    "duration": 16,
    "start_time": "2023-10-03T19:22:49.329Z"
   },
   {
    "duration": 4,
    "start_time": "2023-10-03T19:23:54.160Z"
   },
   {
    "duration": 90,
    "start_time": "2023-10-03T19:23:54.166Z"
   },
   {
    "duration": 11,
    "start_time": "2023-10-03T19:23:54.258Z"
   },
   {
    "duration": 55,
    "start_time": "2023-10-03T19:23:54.270Z"
   },
   {
    "duration": 15,
    "start_time": "2023-10-03T19:23:54.328Z"
   },
   {
    "duration": 47,
    "start_time": "2023-10-03T19:23:54.345Z"
   },
   {
    "duration": 30,
    "start_time": "2023-10-03T19:23:54.395Z"
   },
   {
    "duration": 4,
    "start_time": "2023-10-03T19:23:54.427Z"
   },
   {
    "duration": 21,
    "start_time": "2023-10-03T19:23:54.432Z"
   },
   {
    "duration": 15,
    "start_time": "2023-10-03T19:23:54.455Z"
   },
   {
    "duration": 24,
    "start_time": "2023-10-03T19:23:54.472Z"
   },
   {
    "duration": 20,
    "start_time": "2023-10-03T19:23:54.498Z"
   },
   {
    "duration": 8,
    "start_time": "2023-10-03T19:23:54.520Z"
   },
   {
    "duration": 7,
    "start_time": "2023-10-03T19:23:54.531Z"
   },
   {
    "duration": 19,
    "start_time": "2023-10-03T19:23:54.539Z"
   },
   {
    "duration": 212,
    "start_time": "2023-10-03T19:23:54.560Z"
   },
   {
    "duration": 23,
    "start_time": "2023-10-03T19:23:54.774Z"
   },
   {
    "duration": 69,
    "start_time": "2023-10-03T19:23:54.807Z"
   },
   {
    "duration": 266,
    "start_time": "2023-10-03T19:23:54.877Z"
   },
   {
    "duration": 5,
    "start_time": "2023-10-03T19:23:55.144Z"
   },
   {
    "duration": 17,
    "start_time": "2023-10-03T19:23:55.151Z"
   },
   {
    "duration": 660,
    "start_time": "2023-10-03T19:23:55.169Z"
   },
   {
    "duration": 357,
    "start_time": "2023-10-03T19:23:55.830Z"
   },
   {
    "duration": 0,
    "start_time": "2023-10-03T19:23:56.196Z"
   },
   {
    "duration": 16,
    "start_time": "2023-10-03T19:23:57.925Z"
   },
   {
    "duration": 1667,
    "start_time": "2023-10-03T19:23:58.509Z"
   },
   {
    "duration": 4,
    "start_time": "2023-10-03T19:24:11.522Z"
   },
   {
    "duration": 76,
    "start_time": "2023-10-03T19:24:11.529Z"
   },
   {
    "duration": 21,
    "start_time": "2023-10-03T19:24:11.607Z"
   },
   {
    "duration": 33,
    "start_time": "2023-10-03T19:24:11.629Z"
   },
   {
    "duration": 36,
    "start_time": "2023-10-03T19:24:11.664Z"
   },
   {
    "duration": 51,
    "start_time": "2023-10-03T19:24:11.702Z"
   },
   {
    "duration": 15,
    "start_time": "2023-10-03T19:24:11.755Z"
   },
   {
    "duration": 31,
    "start_time": "2023-10-03T19:24:11.772Z"
   },
   {
    "duration": 21,
    "start_time": "2023-10-03T19:24:11.809Z"
   },
   {
    "duration": 35,
    "start_time": "2023-10-03T19:24:11.831Z"
   },
   {
    "duration": 17,
    "start_time": "2023-10-03T19:24:11.868Z"
   },
   {
    "duration": 14,
    "start_time": "2023-10-03T19:24:11.887Z"
   },
   {
    "duration": 20,
    "start_time": "2023-10-03T19:24:11.902Z"
   },
   {
    "duration": 21,
    "start_time": "2023-10-03T19:24:11.926Z"
   },
   {
    "duration": 15,
    "start_time": "2023-10-03T19:24:11.949Z"
   },
   {
    "duration": 238,
    "start_time": "2023-10-03T19:24:11.966Z"
   },
   {
    "duration": 15,
    "start_time": "2023-10-03T19:24:12.210Z"
   },
   {
    "duration": 96,
    "start_time": "2023-10-03T19:24:12.227Z"
   },
   {
    "duration": 246,
    "start_time": "2023-10-03T19:24:12.325Z"
   },
   {
    "duration": 12,
    "start_time": "2023-10-03T19:24:12.573Z"
   },
   {
    "duration": 27,
    "start_time": "2023-10-03T19:24:12.589Z"
   },
   {
    "duration": 686,
    "start_time": "2023-10-03T19:24:12.618Z"
   },
   {
    "duration": 338,
    "start_time": "2023-10-03T19:24:13.306Z"
   },
   {
    "duration": 0,
    "start_time": "2023-10-03T19:24:13.646Z"
   },
   {
    "duration": 16,
    "start_time": "2023-10-03T19:24:15.640Z"
   },
   {
    "duration": 18,
    "start_time": "2023-10-03T19:24:16.456Z"
   },
   {
    "duration": 16,
    "start_time": "2023-10-03T19:24:40.723Z"
   },
   {
    "duration": 4,
    "start_time": "2023-10-03T19:24:51.109Z"
   },
   {
    "duration": 124,
    "start_time": "2023-10-03T19:24:51.119Z"
   },
   {
    "duration": 11,
    "start_time": "2023-10-03T19:24:51.245Z"
   },
   {
    "duration": 49,
    "start_time": "2023-10-03T19:24:51.258Z"
   },
   {
    "duration": 16,
    "start_time": "2023-10-03T19:24:51.309Z"
   },
   {
    "duration": 43,
    "start_time": "2023-10-03T19:24:51.327Z"
   },
   {
    "duration": 21,
    "start_time": "2023-10-03T19:24:51.372Z"
   },
   {
    "duration": 6,
    "start_time": "2023-10-03T19:24:51.395Z"
   },
   {
    "duration": 43,
    "start_time": "2023-10-03T19:24:51.403Z"
   },
   {
    "duration": 18,
    "start_time": "2023-10-03T19:24:51.447Z"
   },
   {
    "duration": 26,
    "start_time": "2023-10-03T19:24:51.468Z"
   },
   {
    "duration": 19,
    "start_time": "2023-10-03T19:24:51.496Z"
   },
   {
    "duration": 18,
    "start_time": "2023-10-03T19:24:51.517Z"
   },
   {
    "duration": 20,
    "start_time": "2023-10-03T19:24:51.536Z"
   },
   {
    "duration": 24,
    "start_time": "2023-10-03T19:24:51.558Z"
   },
   {
    "duration": 204,
    "start_time": "2023-10-03T19:24:51.591Z"
   },
   {
    "duration": 13,
    "start_time": "2023-10-03T19:24:51.798Z"
   },
   {
    "duration": 119,
    "start_time": "2023-10-03T19:24:51.813Z"
   },
   {
    "duration": 228,
    "start_time": "2023-10-03T19:24:51.933Z"
   },
   {
    "duration": 4,
    "start_time": "2023-10-03T19:24:52.164Z"
   },
   {
    "duration": 58,
    "start_time": "2023-10-03T19:24:52.170Z"
   },
   {
    "duration": 820,
    "start_time": "2023-10-03T19:24:52.229Z"
   },
   {
    "duration": 315,
    "start_time": "2023-10-03T19:24:53.050Z"
   },
   {
    "duration": 0,
    "start_time": "2023-10-03T19:24:53.368Z"
   },
   {
    "duration": 23,
    "start_time": "2023-10-03T19:24:54.180Z"
   },
   {
    "duration": 16,
    "start_time": "2023-10-03T19:24:54.741Z"
   },
   {
    "duration": 4,
    "start_time": "2023-10-03T19:26:23.125Z"
   },
   {
    "duration": 71,
    "start_time": "2023-10-03T19:26:23.131Z"
   },
   {
    "duration": 14,
    "start_time": "2023-10-03T19:26:23.207Z"
   },
   {
    "duration": 28,
    "start_time": "2023-10-03T19:26:23.224Z"
   },
   {
    "duration": 39,
    "start_time": "2023-10-03T19:26:23.254Z"
   },
   {
    "duration": 35,
    "start_time": "2023-10-03T19:26:23.295Z"
   },
   {
    "duration": 15,
    "start_time": "2023-10-03T19:26:23.332Z"
   },
   {
    "duration": 7,
    "start_time": "2023-10-03T19:26:23.349Z"
   },
   {
    "duration": 52,
    "start_time": "2023-10-03T19:26:23.357Z"
   },
   {
    "duration": 8,
    "start_time": "2023-10-03T19:26:23.411Z"
   },
   {
    "duration": 14,
    "start_time": "2023-10-03T19:26:23.421Z"
   },
   {
    "duration": 7,
    "start_time": "2023-10-03T19:26:23.437Z"
   },
   {
    "duration": 7,
    "start_time": "2023-10-03T19:26:23.446Z"
   },
   {
    "duration": 6,
    "start_time": "2023-10-03T19:26:23.455Z"
   },
   {
    "duration": 26,
    "start_time": "2023-10-03T19:26:23.463Z"
   },
   {
    "duration": 200,
    "start_time": "2023-10-03T19:26:23.496Z"
   },
   {
    "duration": 11,
    "start_time": "2023-10-03T19:26:23.700Z"
   },
   {
    "duration": 79,
    "start_time": "2023-10-03T19:26:23.713Z"
   },
   {
    "duration": 242,
    "start_time": "2023-10-03T19:26:23.795Z"
   },
   {
    "duration": 5,
    "start_time": "2023-10-03T19:26:24.039Z"
   },
   {
    "duration": 16,
    "start_time": "2023-10-03T19:26:24.046Z"
   },
   {
    "duration": 612,
    "start_time": "2023-10-03T19:26:24.064Z"
   },
   {
    "duration": 297,
    "start_time": "2023-10-03T19:26:24.678Z"
   },
   {
    "duration": 0,
    "start_time": "2023-10-03T19:26:24.976Z"
   },
   {
    "duration": 18,
    "start_time": "2023-10-03T19:26:28.362Z"
   },
   {
    "duration": 19,
    "start_time": "2023-10-03T19:26:29.739Z"
   },
   {
    "duration": 3,
    "start_time": "2023-10-03T19:26:48.348Z"
   },
   {
    "duration": 87,
    "start_time": "2023-10-03T19:26:48.353Z"
   },
   {
    "duration": 12,
    "start_time": "2023-10-03T19:26:48.442Z"
   },
   {
    "duration": 30,
    "start_time": "2023-10-03T19:26:48.456Z"
   },
   {
    "duration": 26,
    "start_time": "2023-10-03T19:26:48.489Z"
   },
   {
    "duration": 33,
    "start_time": "2023-10-03T19:26:48.517Z"
   },
   {
    "duration": 36,
    "start_time": "2023-10-03T19:26:48.551Z"
   },
   {
    "duration": 5,
    "start_time": "2023-10-03T19:26:48.589Z"
   },
   {
    "duration": 25,
    "start_time": "2023-10-03T19:26:48.596Z"
   },
   {
    "duration": 12,
    "start_time": "2023-10-03T19:26:48.624Z"
   },
   {
    "duration": 9,
    "start_time": "2023-10-03T19:26:48.637Z"
   },
   {
    "duration": 8,
    "start_time": "2023-10-03T19:26:48.648Z"
   },
   {
    "duration": 8,
    "start_time": "2023-10-03T19:26:48.657Z"
   },
   {
    "duration": 18,
    "start_time": "2023-10-03T19:26:48.666Z"
   },
   {
    "duration": 21,
    "start_time": "2023-10-03T19:26:48.689Z"
   },
   {
    "duration": 201,
    "start_time": "2023-10-03T19:26:48.713Z"
   },
   {
    "duration": 6,
    "start_time": "2023-10-03T19:26:48.916Z"
   },
   {
    "duration": 93,
    "start_time": "2023-10-03T19:26:48.924Z"
   },
   {
    "duration": 254,
    "start_time": "2023-10-03T19:26:49.018Z"
   },
   {
    "duration": 10,
    "start_time": "2023-10-03T19:26:49.274Z"
   },
   {
    "duration": 32,
    "start_time": "2023-10-03T19:26:49.287Z"
   },
   {
    "duration": 649,
    "start_time": "2023-10-03T19:26:49.321Z"
   },
   {
    "duration": 456,
    "start_time": "2023-10-03T19:26:49.972Z"
   },
   {
    "duration": 0,
    "start_time": "2023-10-03T19:26:50.430Z"
   },
   {
    "duration": 19,
    "start_time": "2023-10-03T19:26:52.106Z"
   },
   {
    "duration": 17,
    "start_time": "2023-10-03T19:26:52.744Z"
   },
   {
    "duration": 15,
    "start_time": "2023-10-03T19:27:26.965Z"
   },
   {
    "duration": 16,
    "start_time": "2023-10-03T19:27:38.053Z"
   },
   {
    "duration": 4,
    "start_time": "2023-10-03T19:27:48.272Z"
   },
   {
    "duration": 72,
    "start_time": "2023-10-03T19:27:48.279Z"
   },
   {
    "duration": 11,
    "start_time": "2023-10-03T19:27:48.353Z"
   },
   {
    "duration": 51,
    "start_time": "2023-10-03T19:27:48.365Z"
   },
   {
    "duration": 15,
    "start_time": "2023-10-03T19:27:48.419Z"
   },
   {
    "duration": 46,
    "start_time": "2023-10-03T19:27:48.436Z"
   },
   {
    "duration": 26,
    "start_time": "2023-10-03T19:27:48.483Z"
   },
   {
    "duration": 3,
    "start_time": "2023-10-03T19:27:48.511Z"
   },
   {
    "duration": 19,
    "start_time": "2023-10-03T19:27:48.516Z"
   },
   {
    "duration": 11,
    "start_time": "2023-10-03T19:27:48.537Z"
   },
   {
    "duration": 7,
    "start_time": "2023-10-03T19:27:48.550Z"
   },
   {
    "duration": 27,
    "start_time": "2023-10-03T19:27:48.559Z"
   },
   {
    "duration": 8,
    "start_time": "2023-10-03T19:27:48.590Z"
   },
   {
    "duration": 15,
    "start_time": "2023-10-03T19:27:48.601Z"
   },
   {
    "duration": 14,
    "start_time": "2023-10-03T19:27:48.618Z"
   },
   {
    "duration": 220,
    "start_time": "2023-10-03T19:27:48.634Z"
   },
   {
    "duration": 7,
    "start_time": "2023-10-03T19:27:48.856Z"
   },
   {
    "duration": 80,
    "start_time": "2023-10-03T19:27:48.865Z"
   },
   {
    "duration": 237,
    "start_time": "2023-10-03T19:27:48.947Z"
   },
   {
    "duration": 7,
    "start_time": "2023-10-03T19:27:49.187Z"
   },
   {
    "duration": 23,
    "start_time": "2023-10-03T19:27:49.202Z"
   },
   {
    "duration": 631,
    "start_time": "2023-10-03T19:27:49.227Z"
   },
   {
    "duration": 302,
    "start_time": "2023-10-03T19:27:49.860Z"
   },
   {
    "duration": 0,
    "start_time": "2023-10-03T19:27:50.164Z"
   },
   {
    "duration": 20,
    "start_time": "2023-10-03T19:27:51.268Z"
   },
   {
    "duration": 21,
    "start_time": "2023-10-03T19:27:52.069Z"
   },
   {
    "duration": 16,
    "start_time": "2023-10-03T19:27:55.737Z"
   },
   {
    "duration": 4,
    "start_time": "2023-10-03T19:28:02.028Z"
   },
   {
    "duration": 517,
    "start_time": "2023-10-03T19:28:02.034Z"
   },
   {
    "duration": 208,
    "start_time": "2023-10-03T19:28:02.553Z"
   },
   {
    "duration": 150,
    "start_time": "2023-10-03T19:28:02.762Z"
   },
   {
    "duration": 27,
    "start_time": "2023-10-03T19:28:02.915Z"
   },
   {
    "duration": 45,
    "start_time": "2023-10-03T19:28:02.944Z"
   },
   {
    "duration": 22,
    "start_time": "2023-10-03T19:28:02.992Z"
   },
   {
    "duration": 21,
    "start_time": "2023-10-03T19:28:03.016Z"
   },
   {
    "duration": 31,
    "start_time": "2023-10-03T19:28:03.039Z"
   },
   {
    "duration": 40,
    "start_time": "2023-10-03T19:28:03.071Z"
   },
   {
    "duration": 22,
    "start_time": "2023-10-03T19:28:03.112Z"
   },
   {
    "duration": 31,
    "start_time": "2023-10-03T19:28:03.136Z"
   },
   {
    "duration": 30,
    "start_time": "2023-10-03T19:28:03.169Z"
   },
   {
    "duration": 24,
    "start_time": "2023-10-03T19:28:03.206Z"
   },
   {
    "duration": 23,
    "start_time": "2023-10-03T19:28:03.231Z"
   },
   {
    "duration": 209,
    "start_time": "2023-10-03T19:28:03.257Z"
   },
   {
    "duration": 19,
    "start_time": "2023-10-03T19:28:03.467Z"
   },
   {
    "duration": 618,
    "start_time": "2023-10-03T19:28:03.488Z"
   },
   {
    "duration": 264,
    "start_time": "2023-10-03T19:28:04.108Z"
   },
   {
    "duration": 19,
    "start_time": "2023-10-03T19:28:04.374Z"
   },
   {
    "duration": 25,
    "start_time": "2023-10-03T19:28:04.404Z"
   },
   {
    "duration": 632,
    "start_time": "2023-10-03T19:28:04.431Z"
   },
   {
    "duration": 336,
    "start_time": "2023-10-03T19:28:05.067Z"
   },
   {
    "duration": 0,
    "start_time": "2023-10-03T19:28:05.406Z"
   },
   {
    "duration": 16,
    "start_time": "2023-10-03T19:28:06.462Z"
   },
   {
    "duration": 19,
    "start_time": "2023-10-03T19:28:08.201Z"
   },
   {
    "duration": 343,
    "start_time": "2023-10-03T19:28:46.525Z"
   },
   {
    "duration": 21,
    "start_time": "2023-10-03T19:32:04.039Z"
   },
   {
    "duration": 226,
    "start_time": "2023-10-03T19:35:06.805Z"
   },
   {
    "duration": 187,
    "start_time": "2023-10-03T19:35:24.170Z"
   },
   {
    "duration": 6,
    "start_time": "2023-10-03T19:36:31.169Z"
   },
   {
    "duration": 164,
    "start_time": "2023-10-03T19:36:45.706Z"
   },
   {
    "duration": 196,
    "start_time": "2023-10-03T19:37:09.869Z"
   },
   {
    "duration": 880,
    "start_time": "2023-10-03T19:37:21.919Z"
   },
   {
    "duration": 945,
    "start_time": "2023-10-03T19:39:22.904Z"
   },
   {
    "duration": 1493,
    "start_time": "2023-10-03T19:40:09.302Z"
   },
   {
    "duration": 854,
    "start_time": "2023-10-03T19:40:14.108Z"
   },
   {
    "duration": 12,
    "start_time": "2023-10-03T19:42:53.208Z"
   },
   {
    "duration": 30,
    "start_time": "2023-10-03T19:43:28.339Z"
   },
   {
    "duration": 16,
    "start_time": "2023-10-03T19:43:39.792Z"
   },
   {
    "duration": 300,
    "start_time": "2023-10-03T19:44:03.242Z"
   },
   {
    "duration": 387,
    "start_time": "2023-10-03T19:44:59.197Z"
   },
   {
    "duration": 10,
    "start_time": "2023-10-03T20:12:01.511Z"
   },
   {
    "duration": 355,
    "start_time": "2023-10-03T20:12:04.593Z"
   },
   {
    "duration": 10,
    "start_time": "2023-10-03T20:13:24.838Z"
   },
   {
    "duration": 382,
    "start_time": "2023-10-03T20:13:25.441Z"
   },
   {
    "duration": 10,
    "start_time": "2023-10-03T20:13:38.958Z"
   },
   {
    "duration": 352,
    "start_time": "2023-10-03T20:13:41.921Z"
   },
   {
    "duration": 9,
    "start_time": "2023-10-03T20:17:19.425Z"
   },
   {
    "duration": 419,
    "start_time": "2023-10-03T20:17:19.938Z"
   },
   {
    "duration": 11,
    "start_time": "2023-10-03T20:18:05.807Z"
   },
   {
    "duration": 150,
    "start_time": "2023-10-03T20:18:06.326Z"
   },
   {
    "duration": 11,
    "start_time": "2023-10-03T20:18:19.407Z"
   },
   {
    "duration": 146,
    "start_time": "2023-10-03T20:18:21.694Z"
   },
   {
    "duration": 9,
    "start_time": "2023-10-03T20:18:34.370Z"
   },
   {
    "duration": 156,
    "start_time": "2023-10-03T20:18:35.972Z"
   },
   {
    "duration": 15,
    "start_time": "2023-10-03T20:18:53.360Z"
   },
   {
    "duration": 170,
    "start_time": "2023-10-03T20:18:55.438Z"
   },
   {
    "duration": 10,
    "start_time": "2023-10-03T20:19:10.060Z"
   },
   {
    "duration": 353,
    "start_time": "2023-10-03T20:19:11.673Z"
   },
   {
    "duration": 13,
    "start_time": "2023-10-03T20:19:27.755Z"
   },
   {
    "duration": 295,
    "start_time": "2023-10-03T20:19:29.867Z"
   },
   {
    "duration": 1504,
    "start_time": "2023-10-03T20:23:07.121Z"
   },
   {
    "duration": 4,
    "start_time": "2023-10-03T20:23:34.811Z"
   },
   {
    "duration": 58,
    "start_time": "2023-10-03T20:23:34.817Z"
   },
   {
    "duration": 17,
    "start_time": "2023-10-03T20:23:34.877Z"
   },
   {
    "duration": 37,
    "start_time": "2023-10-03T20:23:34.896Z"
   },
   {
    "duration": 16,
    "start_time": "2023-10-03T20:23:34.935Z"
   },
   {
    "duration": 47,
    "start_time": "2023-10-03T20:23:34.953Z"
   },
   {
    "duration": 18,
    "start_time": "2023-10-03T20:23:35.002Z"
   },
   {
    "duration": 3,
    "start_time": "2023-10-03T20:23:35.022Z"
   },
   {
    "duration": 28,
    "start_time": "2023-10-03T20:23:35.027Z"
   },
   {
    "duration": 34,
    "start_time": "2023-10-03T20:23:35.057Z"
   },
   {
    "duration": 9,
    "start_time": "2023-10-03T20:23:35.093Z"
   },
   {
    "duration": 12,
    "start_time": "2023-10-03T20:23:35.104Z"
   },
   {
    "duration": 6,
    "start_time": "2023-10-03T20:23:35.117Z"
   },
   {
    "duration": 12,
    "start_time": "2023-10-03T20:23:35.126Z"
   },
   {
    "duration": 14,
    "start_time": "2023-10-03T20:23:35.139Z"
   },
   {
    "duration": 224,
    "start_time": "2023-10-03T20:23:35.155Z"
   },
   {
    "duration": 18,
    "start_time": "2023-10-03T20:23:35.381Z"
   },
   {
    "duration": 68,
    "start_time": "2023-10-03T20:23:35.400Z"
   },
   {
    "duration": 261,
    "start_time": "2023-10-03T20:23:35.470Z"
   },
   {
    "duration": 5,
    "start_time": "2023-10-03T20:23:35.733Z"
   },
   {
    "duration": 60,
    "start_time": "2023-10-03T20:23:35.740Z"
   },
   {
    "duration": 653,
    "start_time": "2023-10-03T20:23:35.801Z"
   },
   {
    "duration": 338,
    "start_time": "2023-10-03T20:23:36.456Z"
   },
   {
    "duration": 0,
    "start_time": "2023-10-03T20:23:36.796Z"
   },
   {
    "duration": 0,
    "start_time": "2023-10-03T20:23:36.800Z"
   },
   {
    "duration": 1499,
    "start_time": "2023-10-03T20:23:38.957Z"
   },
   {
    "duration": 894,
    "start_time": "2023-10-03T20:24:44.830Z"
   },
   {
    "duration": 971,
    "start_time": "2023-10-03T20:25:32.505Z"
   },
   {
    "duration": 1606,
    "start_time": "2023-10-03T20:28:01.658Z"
   },
   {
    "duration": 1554,
    "start_time": "2023-10-03T20:28:37.404Z"
   },
   {
    "duration": 1805,
    "start_time": "2023-10-03T20:28:45.507Z"
   },
   {
    "duration": 5,
    "start_time": "2023-10-03T20:30:57.936Z"
   },
   {
    "duration": 72,
    "start_time": "2023-10-03T20:30:57.943Z"
   },
   {
    "duration": 12,
    "start_time": "2023-10-03T20:30:58.017Z"
   },
   {
    "duration": 59,
    "start_time": "2023-10-03T20:30:58.032Z"
   },
   {
    "duration": 22,
    "start_time": "2023-10-03T20:30:58.096Z"
   },
   {
    "duration": 41,
    "start_time": "2023-10-03T20:30:58.119Z"
   },
   {
    "duration": 27,
    "start_time": "2023-10-03T20:30:58.162Z"
   },
   {
    "duration": 14,
    "start_time": "2023-10-03T20:30:58.191Z"
   },
   {
    "duration": 25,
    "start_time": "2023-10-03T20:30:58.206Z"
   },
   {
    "duration": 15,
    "start_time": "2023-10-03T20:30:58.235Z"
   },
   {
    "duration": 15,
    "start_time": "2023-10-03T20:30:58.252Z"
   },
   {
    "duration": 34,
    "start_time": "2023-10-03T20:30:58.269Z"
   },
   {
    "duration": 10,
    "start_time": "2023-10-03T20:30:58.305Z"
   },
   {
    "duration": 17,
    "start_time": "2023-10-03T20:30:58.316Z"
   },
   {
    "duration": 12,
    "start_time": "2023-10-03T20:30:58.335Z"
   },
   {
    "duration": 192,
    "start_time": "2023-10-03T20:30:58.349Z"
   },
   {
    "duration": 7,
    "start_time": "2023-10-03T20:30:58.543Z"
   },
   {
    "duration": 91,
    "start_time": "2023-10-03T20:30:58.552Z"
   },
   {
    "duration": 234,
    "start_time": "2023-10-03T20:30:58.645Z"
   },
   {
    "duration": 5,
    "start_time": "2023-10-03T20:30:58.883Z"
   },
   {
    "duration": 30,
    "start_time": "2023-10-03T20:30:58.890Z"
   },
   {
    "duration": 737,
    "start_time": "2023-10-03T20:30:58.922Z"
   },
   {
    "duration": 292,
    "start_time": "2023-10-03T20:30:59.661Z"
   },
   {
    "duration": 0,
    "start_time": "2023-10-03T20:30:59.956Z"
   },
   {
    "duration": 0,
    "start_time": "2023-10-03T20:30:59.957Z"
   },
   {
    "duration": 23,
    "start_time": "2023-10-03T20:31:07.532Z"
   },
   {
    "duration": 17,
    "start_time": "2023-10-03T20:31:08.524Z"
   },
   {
    "duration": 2383,
    "start_time": "2023-10-03T20:31:14.350Z"
   },
   {
    "duration": 259,
    "start_time": "2023-10-03T20:36:26.004Z"
   },
   {
    "duration": 282,
    "start_time": "2023-10-03T20:36:34.452Z"
   },
   {
    "duration": 254,
    "start_time": "2023-10-03T20:36:40.297Z"
   },
   {
    "duration": 295,
    "start_time": "2023-10-03T20:39:38.341Z"
   },
   {
    "duration": 28,
    "start_time": "2023-10-03T20:40:06.493Z"
   },
   {
    "duration": 248,
    "start_time": "2023-10-03T20:40:44.105Z"
   },
   {
    "duration": 246,
    "start_time": "2023-10-03T20:41:16.155Z"
   },
   {
    "duration": 263,
    "start_time": "2023-10-03T20:41:42.924Z"
   },
   {
    "duration": 252,
    "start_time": "2023-10-03T20:45:41.472Z"
   },
   {
    "duration": 345,
    "start_time": "2023-10-03T20:45:49.755Z"
   },
   {
    "duration": 240,
    "start_time": "2023-10-03T20:45:57.789Z"
   },
   {
    "duration": 259,
    "start_time": "2023-10-03T20:46:09.971Z"
   },
   {
    "duration": 232,
    "start_time": "2023-10-03T20:46:19.407Z"
   },
   {
    "duration": 13,
    "start_time": "2023-10-03T20:50:35.509Z"
   },
   {
    "duration": 13,
    "start_time": "2023-10-03T20:50:40.643Z"
   },
   {
    "duration": 215,
    "start_time": "2023-10-03T20:50:58.154Z"
   },
   {
    "duration": 240,
    "start_time": "2023-10-03T20:51:13.071Z"
   },
   {
    "duration": 217,
    "start_time": "2023-10-03T20:51:27.553Z"
   },
   {
    "duration": 212,
    "start_time": "2023-10-03T20:51:35.121Z"
   },
   {
    "duration": 249,
    "start_time": "2023-10-03T20:52:32.105Z"
   },
   {
    "duration": 238,
    "start_time": "2023-10-03T20:52:37.306Z"
   },
   {
    "duration": 221,
    "start_time": "2023-10-03T20:52:47.519Z"
   },
   {
    "duration": 197,
    "start_time": "2023-10-03T20:53:41.439Z"
   },
   {
    "duration": 265,
    "start_time": "2023-10-03T20:54:08.454Z"
   },
   {
    "duration": 24,
    "start_time": "2023-10-03T21:01:03.495Z"
   },
   {
    "duration": 281,
    "start_time": "2023-10-03T21:03:45.634Z"
   },
   {
    "duration": 1667,
    "start_time": "2023-10-04T17:28:34.166Z"
   },
   {
    "duration": 148,
    "start_time": "2023-10-04T17:28:35.836Z"
   },
   {
    "duration": 24,
    "start_time": "2023-10-04T17:28:35.986Z"
   },
   {
    "duration": 64,
    "start_time": "2023-10-04T17:28:36.014Z"
   },
   {
    "duration": 35,
    "start_time": "2023-10-04T17:28:36.081Z"
   },
   {
    "duration": 54,
    "start_time": "2023-10-04T17:28:36.118Z"
   },
   {
    "duration": 30,
    "start_time": "2023-10-04T17:28:36.174Z"
   },
   {
    "duration": 7,
    "start_time": "2023-10-04T17:28:36.207Z"
   },
   {
    "duration": 74,
    "start_time": "2023-10-04T17:28:36.216Z"
   },
   {
    "duration": 10,
    "start_time": "2023-10-04T17:28:36.298Z"
   },
   {
    "duration": 48,
    "start_time": "2023-10-04T17:28:36.311Z"
   },
   {
    "duration": 44,
    "start_time": "2023-10-04T17:28:36.362Z"
   },
   {
    "duration": 26,
    "start_time": "2023-10-04T17:28:36.408Z"
   },
   {
    "duration": 49,
    "start_time": "2023-10-04T17:28:36.436Z"
   },
   {
    "duration": 31,
    "start_time": "2023-10-04T17:28:36.487Z"
   },
   {
    "duration": 289,
    "start_time": "2023-10-04T17:28:36.520Z"
   },
   {
    "duration": 11,
    "start_time": "2023-10-04T17:28:36.811Z"
   },
   {
    "duration": 137,
    "start_time": "2023-10-04T17:28:36.824Z"
   },
   {
    "duration": 260,
    "start_time": "2023-10-04T17:28:36.962Z"
   },
   {
    "duration": 6,
    "start_time": "2023-10-04T17:28:37.225Z"
   },
   {
    "duration": 71,
    "start_time": "2023-10-04T17:28:37.233Z"
   },
   {
    "duration": 701,
    "start_time": "2023-10-04T17:28:37.306Z"
   },
   {
    "duration": 288,
    "start_time": "2023-10-04T17:28:38.009Z"
   },
   {
    "duration": 137,
    "start_time": "2023-10-04T17:28:38.299Z"
   },
   {
    "duration": 0,
    "start_time": "2023-10-04T17:28:38.438Z"
   },
   {
    "duration": 0,
    "start_time": "2023-10-04T17:28:38.448Z"
   },
   {
    "duration": 0,
    "start_time": "2023-10-04T17:28:38.449Z"
   },
   {
    "duration": 264,
    "start_time": "2023-10-04T17:29:00.987Z"
   },
   {
    "duration": 16,
    "start_time": "2023-10-04T17:29:54.973Z"
   },
   {
    "duration": 19,
    "start_time": "2023-10-04T17:29:56.089Z"
   },
   {
    "duration": 1674,
    "start_time": "2023-10-04T17:29:58.321Z"
   },
   {
    "duration": 232,
    "start_time": "2023-10-04T17:30:17.792Z"
   },
   {
    "duration": 264,
    "start_time": "2023-10-04T17:30:37.969Z"
   },
   {
    "duration": 278,
    "start_time": "2023-10-04T17:32:11.197Z"
   },
   {
    "duration": 322,
    "start_time": "2023-10-04T17:32:25.256Z"
   },
   {
    "duration": 264,
    "start_time": "2023-10-04T17:32:57.371Z"
   },
   {
    "duration": 278,
    "start_time": "2023-10-04T17:33:04.598Z"
   },
   {
    "duration": 294,
    "start_time": "2023-10-04T17:33:42.072Z"
   },
   {
    "duration": 258,
    "start_time": "2023-10-04T17:34:18.671Z"
   },
   {
    "duration": 286,
    "start_time": "2023-10-04T17:34:28.320Z"
   },
   {
    "duration": 402,
    "start_time": "2023-10-04T17:34:53.539Z"
   },
   {
    "duration": 278,
    "start_time": "2023-10-04T17:35:11.518Z"
   },
   {
    "duration": 270,
    "start_time": "2023-10-04T17:36:43.864Z"
   },
   {
    "duration": 302,
    "start_time": "2023-10-04T17:37:04.877Z"
   },
   {
    "duration": 325,
    "start_time": "2023-10-04T17:39:45.698Z"
   },
   {
    "duration": 271,
    "start_time": "2023-10-04T17:49:02.969Z"
   },
   {
    "duration": 258,
    "start_time": "2023-10-04T17:50:22.174Z"
   },
   {
    "duration": 300,
    "start_time": "2023-10-04T17:52:04.339Z"
   },
   {
    "duration": 109,
    "start_time": "2023-10-04T17:55:38.125Z"
   },
   {
    "duration": 257,
    "start_time": "2023-10-04T17:55:44.576Z"
   },
   {
    "duration": 266,
    "start_time": "2023-10-04T17:56:07.490Z"
   },
   {
    "duration": 289,
    "start_time": "2023-10-04T17:58:29.572Z"
   },
   {
    "duration": 355,
    "start_time": "2023-10-04T17:58:38.558Z"
   },
   {
    "duration": 283,
    "start_time": "2023-10-04T17:59:22.225Z"
   },
   {
    "duration": 370,
    "start_time": "2023-10-04T18:03:15.641Z"
   },
   {
    "duration": 301,
    "start_time": "2023-10-04T18:08:05.477Z"
   },
   {
    "duration": 300,
    "start_time": "2023-10-04T18:08:06.739Z"
   },
   {
    "duration": 17,
    "start_time": "2023-10-04T18:15:29.761Z"
   },
   {
    "duration": 1787,
    "start_time": "2023-10-04T18:16:59.135Z"
   },
   {
    "duration": 13,
    "start_time": "2023-10-04T18:20:18.469Z"
   },
   {
    "duration": 277,
    "start_time": "2023-10-04T18:20:28.244Z"
   },
   {
    "duration": 22,
    "start_time": "2023-10-04T18:20:45.565Z"
   },
   {
    "duration": 260,
    "start_time": "2023-10-04T18:20:52.219Z"
   },
   {
    "duration": 29,
    "start_time": "2023-10-04T18:24:10.271Z"
   },
   {
    "duration": 35,
    "start_time": "2023-10-04T18:24:40.334Z"
   },
   {
    "duration": 27,
    "start_time": "2023-10-04T18:26:05.158Z"
   },
   {
    "duration": 29,
    "start_time": "2023-10-04T18:26:48.737Z"
   },
   {
    "duration": 25,
    "start_time": "2023-10-04T18:26:57.721Z"
   },
   {
    "duration": 23,
    "start_time": "2023-10-04T18:27:25.585Z"
   },
   {
    "duration": 32,
    "start_time": "2023-10-04T18:27:39.333Z"
   },
   {
    "duration": 23,
    "start_time": "2023-10-04T18:32:38.659Z"
   },
   {
    "duration": 40,
    "start_time": "2023-10-04T18:32:48.971Z"
   },
   {
    "duration": 35,
    "start_time": "2023-10-04T18:33:09.374Z"
   },
   {
    "duration": 30,
    "start_time": "2023-10-04T18:34:16.218Z"
   },
   {
    "duration": 36,
    "start_time": "2023-10-04T18:35:01.633Z"
   },
   {
    "duration": 36,
    "start_time": "2023-10-04T18:36:28.773Z"
   },
   {
    "duration": 38,
    "start_time": "2023-10-04T18:36:52.434Z"
   },
   {
    "duration": 27,
    "start_time": "2023-10-04T18:39:42.363Z"
   },
   {
    "duration": 81,
    "start_time": "2023-10-04T18:46:36.497Z"
   },
   {
    "duration": 1354,
    "start_time": "2023-10-04T18:46:47.147Z"
   },
   {
    "duration": 1499,
    "start_time": "2023-10-04T18:47:04.346Z"
   },
   {
    "duration": 57,
    "start_time": "2023-10-04T18:47:18.129Z"
   },
   {
    "duration": 53,
    "start_time": "2023-10-04T18:47:30.914Z"
   },
   {
    "duration": 49,
    "start_time": "2023-10-04T18:47:49.529Z"
   },
   {
    "duration": 82,
    "start_time": "2023-10-04T18:48:34.448Z"
   },
   {
    "duration": 66,
    "start_time": "2023-10-04T18:49:11.576Z"
   },
   {
    "duration": 61,
    "start_time": "2023-10-04T18:49:55.444Z"
   },
   {
    "duration": 43,
    "start_time": "2023-10-04T18:50:36.694Z"
   },
   {
    "duration": 53,
    "start_time": "2023-10-04T18:51:13.377Z"
   },
   {
    "duration": 1602,
    "start_time": "2023-10-04T18:52:26.202Z"
   },
   {
    "duration": 42,
    "start_time": "2023-10-04T18:52:45.972Z"
   },
   {
    "duration": 59,
    "start_time": "2023-10-04T18:53:01.826Z"
   },
   {
    "duration": 76,
    "start_time": "2023-10-04T18:56:21.400Z"
   },
   {
    "duration": 23,
    "start_time": "2023-10-04T18:56:40.994Z"
   },
   {
    "duration": 45,
    "start_time": "2023-10-04T18:56:57.101Z"
   },
   {
    "duration": 48,
    "start_time": "2023-10-04T18:58:54.281Z"
   },
   {
    "duration": 273,
    "start_time": "2023-10-04T19:04:25.097Z"
   },
   {
    "duration": 404,
    "start_time": "2023-10-04T19:04:35.210Z"
   },
   {
    "duration": 268,
    "start_time": "2023-10-04T19:06:54.373Z"
   },
   {
    "duration": 318,
    "start_time": "2023-10-04T19:07:12.196Z"
   },
   {
    "duration": 208,
    "start_time": "2023-10-04T19:08:04.699Z"
   },
   {
    "duration": 211,
    "start_time": "2023-10-04T19:08:11.912Z"
   },
   {
    "duration": 64,
    "start_time": "2023-10-04T19:09:38.845Z"
   },
   {
    "duration": 72,
    "start_time": "2023-10-04T19:09:53.045Z"
   },
   {
    "duration": 51,
    "start_time": "2023-10-04T19:10:03.773Z"
   },
   {
    "duration": 58,
    "start_time": "2023-10-04T19:10:18.798Z"
   },
   {
    "duration": 218,
    "start_time": "2023-10-04T19:11:26.301Z"
   },
   {
    "duration": 262,
    "start_time": "2023-10-04T19:11:35.096Z"
   },
   {
    "duration": 250,
    "start_time": "2023-10-04T19:11:56.412Z"
   },
   {
    "duration": 23,
    "start_time": "2023-10-04T19:14:08.993Z"
   },
   {
    "duration": 22,
    "start_time": "2023-10-04T19:18:24.477Z"
   },
   {
    "duration": 1984,
    "start_time": "2023-10-04T19:20:22.823Z"
   },
   {
    "duration": 1994,
    "start_time": "2023-10-04T19:20:39.998Z"
   },
   {
    "duration": 258,
    "start_time": "2023-10-04T19:20:53.834Z"
   },
   {
    "duration": 221,
    "start_time": "2023-10-04T19:21:14.214Z"
   },
   {
    "duration": 22,
    "start_time": "2023-10-04T19:23:34.299Z"
   },
   {
    "duration": 261,
    "start_time": "2023-10-04T19:24:13.219Z"
   },
   {
    "duration": 1726,
    "start_time": "2023-10-04T19:25:30.967Z"
   },
   {
    "duration": 1666,
    "start_time": "2023-10-04T19:27:05.537Z"
   },
   {
    "duration": 27,
    "start_time": "2023-10-04T19:27:11.115Z"
   },
   {
    "duration": 27,
    "start_time": "2023-10-04T19:27:28.553Z"
   },
   {
    "duration": 217,
    "start_time": "2023-10-04T19:28:06.574Z"
   },
   {
    "duration": 330,
    "start_time": "2023-10-04T19:28:16.540Z"
   },
   {
    "duration": 19,
    "start_time": "2023-10-04T19:36:55.763Z"
   },
   {
    "duration": 231,
    "start_time": "2023-10-04T19:41:48.275Z"
   },
   {
    "duration": 275,
    "start_time": "2023-10-04T19:41:55.037Z"
   },
   {
    "duration": 239,
    "start_time": "2023-10-04T19:48:57.003Z"
   },
   {
    "duration": 208,
    "start_time": "2023-10-04T20:06:41.770Z"
   },
   {
    "duration": 15,
    "start_time": "2023-10-04T20:07:08.299Z"
   },
   {
    "duration": 274,
    "start_time": "2023-10-04T20:07:35.251Z"
   },
   {
    "duration": 316,
    "start_time": "2023-10-04T20:07:43.099Z"
   },
   {
    "duration": 282,
    "start_time": "2023-10-04T20:08:28.187Z"
   },
   {
    "duration": 122,
    "start_time": "2023-10-04T20:09:11.399Z"
   },
   {
    "duration": 1798,
    "start_time": "2023-10-04T20:09:16.019Z"
   },
   {
    "duration": 1964,
    "start_time": "2023-10-04T20:09:42.332Z"
   },
   {
    "duration": 40,
    "start_time": "2023-10-04T20:12:04.898Z"
   },
   {
    "duration": 15,
    "start_time": "2023-10-04T20:12:34.784Z"
   },
   {
    "duration": 17,
    "start_time": "2023-10-04T20:13:55.700Z"
   },
   {
    "duration": 24,
    "start_time": "2023-10-04T20:14:15.197Z"
   },
   {
    "duration": 65,
    "start_time": "2023-10-04T20:15:07.486Z"
   },
   {
    "duration": 84,
    "start_time": "2023-10-04T20:15:25.183Z"
   },
   {
    "duration": 17,
    "start_time": "2023-10-04T20:15:32.321Z"
   },
   {
    "duration": 17,
    "start_time": "2023-10-04T20:16:24.901Z"
   },
   {
    "duration": 24,
    "start_time": "2023-10-04T20:17:13.964Z"
   },
   {
    "duration": 21,
    "start_time": "2023-10-04T20:17:45.470Z"
   },
   {
    "duration": 34,
    "start_time": "2023-10-04T20:18:49.933Z"
   },
   {
    "duration": 23,
    "start_time": "2023-10-04T20:18:54.376Z"
   },
   {
    "duration": 258,
    "start_time": "2023-10-04T20:20:14.380Z"
   },
   {
    "duration": 18,
    "start_time": "2023-10-04T20:26:12.956Z"
   },
   {
    "duration": 27,
    "start_time": "2023-10-04T20:26:23.764Z"
   },
   {
    "duration": 20,
    "start_time": "2023-10-04T20:26:27.035Z"
   },
   {
    "duration": 17,
    "start_time": "2023-10-04T20:26:28.086Z"
   },
   {
    "duration": 20,
    "start_time": "2023-10-04T20:26:47.578Z"
   },
   {
    "duration": 19,
    "start_time": "2023-10-04T20:28:21.479Z"
   },
   {
    "duration": 17,
    "start_time": "2023-10-04T20:28:24.497Z"
   },
   {
    "duration": 17,
    "start_time": "2023-10-04T20:29:08.315Z"
   },
   {
    "duration": 12,
    "start_time": "2023-10-04T20:33:02.912Z"
   },
   {
    "duration": 20,
    "start_time": "2023-10-04T20:33:09.131Z"
   },
   {
    "duration": 36,
    "start_time": "2023-10-04T20:33:10.147Z"
   },
   {
    "duration": 26,
    "start_time": "2023-10-04T20:33:11.681Z"
   },
   {
    "duration": 13,
    "start_time": "2023-10-04T20:33:14.615Z"
   },
   {
    "duration": 9,
    "start_time": "2023-10-04T20:33:46.795Z"
   },
   {
    "duration": 9,
    "start_time": "2023-10-04T20:34:16.874Z"
   },
   {
    "duration": 26,
    "start_time": "2023-10-04T20:34:29.178Z"
   },
   {
    "duration": 8,
    "start_time": "2023-10-04T20:34:35.662Z"
   },
   {
    "duration": 25,
    "start_time": "2023-10-04T20:34:56.384Z"
   },
   {
    "duration": 31,
    "start_time": "2023-10-04T20:35:05.230Z"
   },
   {
    "duration": 14,
    "start_time": "2023-10-04T20:35:09.377Z"
   },
   {
    "duration": 5,
    "start_time": "2023-10-04T20:35:13.483Z"
   },
   {
    "duration": 15,
    "start_time": "2023-10-04T20:35:19.471Z"
   },
   {
    "duration": 15,
    "start_time": "2023-10-04T20:35:21.536Z"
   },
   {
    "duration": 18,
    "start_time": "2023-10-04T20:35:24.366Z"
   },
   {
    "duration": 7,
    "start_time": "2023-10-04T20:35:31.102Z"
   },
   {
    "duration": 15,
    "start_time": "2023-10-04T20:35:38.734Z"
   },
   {
    "duration": 18,
    "start_time": "2023-10-04T20:36:22.617Z"
   },
   {
    "duration": 24,
    "start_time": "2023-10-04T20:36:40.385Z"
   },
   {
    "duration": 39,
    "start_time": "2023-10-04T20:36:43.632Z"
   },
   {
    "duration": 18,
    "start_time": "2023-10-04T20:36:48.083Z"
   },
   {
    "duration": 27,
    "start_time": "2023-10-04T20:39:01.273Z"
   },
   {
    "duration": 39,
    "start_time": "2023-10-04T20:40:12.028Z"
   },
   {
    "duration": 16,
    "start_time": "2023-10-04T20:40:17.581Z"
   },
   {
    "duration": 223,
    "start_time": "2023-10-04T20:41:04.382Z"
   },
   {
    "duration": 112,
    "start_time": "2023-10-04T20:41:34.956Z"
   },
   {
    "duration": 240,
    "start_time": "2023-10-04T20:41:39.775Z"
   },
   {
    "duration": 42,
    "start_time": "2023-10-04T20:42:31.799Z"
   },
   {
    "duration": 631,
    "start_time": "2023-10-04T20:47:30.883Z"
   },
   {
    "duration": 48,
    "start_time": "2023-10-04T20:48:40.731Z"
   },
   {
    "duration": 258,
    "start_time": "2023-10-04T20:49:57.631Z"
   },
   {
    "duration": 339,
    "start_time": "2023-10-04T20:50:55.653Z"
   },
   {
    "duration": 291,
    "start_time": "2023-10-04T20:51:21.017Z"
   },
   {
    "duration": 269,
    "start_time": "2023-10-04T20:53:37.267Z"
   },
   {
    "duration": 35,
    "start_time": "2023-10-04T20:54:16.656Z"
   },
   {
    "duration": 26,
    "start_time": "2023-10-04T20:54:17.689Z"
   },
   {
    "duration": 266,
    "start_time": "2023-10-04T20:54:33.115Z"
   },
   {
    "duration": 275,
    "start_time": "2023-10-04T20:55:03.733Z"
   },
   {
    "duration": 5,
    "start_time": "2023-10-04T21:11:19.731Z"
   },
   {
    "duration": 31,
    "start_time": "2023-10-04T21:11:20.415Z"
   },
   {
    "duration": 16,
    "start_time": "2023-10-04T21:11:22.496Z"
   },
   {
    "duration": 98,
    "start_time": "2023-10-04T21:15:14.314Z"
   },
   {
    "duration": 10,
    "start_time": "2023-10-04T21:15:28.808Z"
   },
   {
    "duration": 35,
    "start_time": "2023-10-04T21:15:34.245Z"
   },
   {
    "duration": 254,
    "start_time": "2023-10-04T21:15:35.310Z"
   },
   {
    "duration": 16,
    "start_time": "2023-10-04T21:20:49.417Z"
   },
   {
    "duration": 22,
    "start_time": "2023-10-04T21:20:53.344Z"
   },
   {
    "duration": 17,
    "start_time": "2023-10-04T21:20:54.395Z"
   },
   {
    "duration": 200,
    "start_time": "2023-10-05T19:20:29.857Z"
   },
   {
    "duration": 44,
    "start_time": "2023-10-05T19:34:49.273Z"
   },
   {
    "duration": 1380,
    "start_time": "2023-10-05T19:34:55.878Z"
   },
   {
    "duration": 96,
    "start_time": "2023-10-05T19:34:57.260Z"
   },
   {
    "duration": 20,
    "start_time": "2023-10-05T19:34:57.358Z"
   },
   {
    "duration": 33,
    "start_time": "2023-10-05T19:34:57.380Z"
   },
   {
    "duration": 35,
    "start_time": "2023-10-05T19:34:57.416Z"
   },
   {
    "duration": 53,
    "start_time": "2023-10-05T19:34:57.453Z"
   },
   {
    "duration": 28,
    "start_time": "2023-10-05T19:34:57.508Z"
   },
   {
    "duration": 45,
    "start_time": "2023-10-05T19:34:57.538Z"
   },
   {
    "duration": 33,
    "start_time": "2023-10-05T19:34:57.585Z"
   },
   {
    "duration": 32,
    "start_time": "2023-10-05T19:34:57.620Z"
   },
   {
    "duration": 35,
    "start_time": "2023-10-05T19:34:57.654Z"
   },
   {
    "duration": 35,
    "start_time": "2023-10-05T19:34:57.691Z"
   },
   {
    "duration": 33,
    "start_time": "2023-10-05T19:34:57.728Z"
   },
   {
    "duration": 40,
    "start_time": "2023-10-05T19:34:57.766Z"
   },
   {
    "duration": 48,
    "start_time": "2023-10-05T19:34:57.808Z"
   },
   {
    "duration": 222,
    "start_time": "2023-10-05T19:34:57.858Z"
   },
   {
    "duration": 6,
    "start_time": "2023-10-05T19:34:58.082Z"
   },
   {
    "duration": 87,
    "start_time": "2023-10-05T19:34:58.090Z"
   },
   {
    "duration": 223,
    "start_time": "2023-10-05T19:34:58.180Z"
   },
   {
    "duration": 6,
    "start_time": "2023-10-05T19:34:58.405Z"
   },
   {
    "duration": 42,
    "start_time": "2023-10-05T19:34:58.413Z"
   },
   {
    "duration": 647,
    "start_time": "2023-10-05T19:34:58.457Z"
   },
   {
    "duration": 224,
    "start_time": "2023-10-05T19:34:59.105Z"
   },
   {
    "duration": 26,
    "start_time": "2023-10-05T19:34:59.331Z"
   },
   {
    "duration": 22,
    "start_time": "2023-10-05T19:34:59.359Z"
   },
   {
    "duration": 1493,
    "start_time": "2023-10-05T19:34:59.383Z"
   },
   {
    "duration": 235,
    "start_time": "2023-10-05T19:35:00.878Z"
   },
   {
    "duration": 241,
    "start_time": "2023-10-05T19:35:01.115Z"
   },
   {
    "duration": 233,
    "start_time": "2023-10-05T19:35:01.357Z"
   },
   {
    "duration": 4,
    "start_time": "2023-10-05T19:35:01.592Z"
   },
   {
    "duration": 110,
    "start_time": "2023-10-05T19:35:01.597Z"
   },
   {
    "duration": 53,
    "start_time": "2023-10-05T19:35:01.709Z"
   },
   {
    "duration": 152,
    "start_time": "2023-10-05T19:35:01.763Z"
   },
   {
    "duration": 194,
    "start_time": "2023-10-05T19:35:01.916Z"
   },
   {
    "duration": 282,
    "start_time": "2023-10-05T19:35:02.112Z"
   },
   {
    "duration": 33,
    "start_time": "2023-10-05T19:35:02.396Z"
   },
   {
    "duration": 314,
    "start_time": "2023-10-05T19:35:02.432Z"
   },
   {
    "duration": 204,
    "start_time": "2023-10-05T19:35:02.748Z"
   },
   {
    "duration": 34,
    "start_time": "2023-10-05T19:35:41.541Z"
   },
   {
    "duration": 5,
    "start_time": "2023-10-05T19:37:04.740Z"
   },
   {
    "duration": 68,
    "start_time": "2023-10-05T19:39:29.342Z"
   },
   {
    "duration": 7,
    "start_time": "2023-10-05T19:40:02.677Z"
   },
   {
    "duration": 18,
    "start_time": "2023-10-05T19:40:17.174Z"
   },
   {
    "duration": 11,
    "start_time": "2023-10-05T19:44:50.188Z"
   },
   {
    "duration": 25,
    "start_time": "2023-10-05T19:44:59.988Z"
   },
   {
    "duration": 22,
    "start_time": "2023-10-05T19:45:11.079Z"
   },
   {
    "duration": 45,
    "start_time": "2023-10-05T19:45:39.987Z"
   },
   {
    "duration": 9,
    "start_time": "2023-10-05T19:45:53.581Z"
   },
   {
    "duration": 7,
    "start_time": "2023-10-05T19:45:57.092Z"
   },
   {
    "duration": 9,
    "start_time": "2023-10-05T19:46:44.645Z"
   },
   {
    "duration": 11,
    "start_time": "2023-10-05T19:54:47.910Z"
   },
   {
    "duration": 12,
    "start_time": "2023-10-05T20:00:09.977Z"
   },
   {
    "duration": 11,
    "start_time": "2023-10-05T20:01:56.265Z"
   },
   {
    "duration": 10,
    "start_time": "2023-10-05T20:03:22.451Z"
   },
   {
    "duration": 11,
    "start_time": "2023-10-05T20:03:27.843Z"
   },
   {
    "duration": 9,
    "start_time": "2023-10-05T20:03:29.529Z"
   },
   {
    "duration": 25,
    "start_time": "2023-10-05T20:03:57.579Z"
   },
   {
    "duration": 13,
    "start_time": "2023-10-05T20:04:27.282Z"
   },
   {
    "duration": 8,
    "start_time": "2023-10-05T20:04:40.589Z"
   },
   {
    "duration": 1170,
    "start_time": "2023-10-05T20:58:17.474Z"
   },
   {
    "duration": 53,
    "start_time": "2023-10-05T20:58:18.646Z"
   },
   {
    "duration": 14,
    "start_time": "2023-10-05T20:58:18.700Z"
   },
   {
    "duration": 28,
    "start_time": "2023-10-05T20:58:18.716Z"
   },
   {
    "duration": 15,
    "start_time": "2023-10-05T20:58:18.746Z"
   },
   {
    "duration": 30,
    "start_time": "2023-10-05T20:58:18.763Z"
   },
   {
    "duration": 16,
    "start_time": "2023-10-05T20:58:18.795Z"
   },
   {
    "duration": 30,
    "start_time": "2023-10-05T20:58:18.814Z"
   },
   {
    "duration": 25,
    "start_time": "2023-10-05T20:58:18.846Z"
   },
   {
    "duration": 80,
    "start_time": "2023-10-05T20:58:18.874Z"
   },
   {
    "duration": 21,
    "start_time": "2023-10-05T20:58:18.956Z"
   },
   {
    "duration": 8,
    "start_time": "2023-10-05T20:58:18.978Z"
   },
   {
    "duration": 5,
    "start_time": "2023-10-05T20:58:18.988Z"
   },
   {
    "duration": 7,
    "start_time": "2023-10-05T20:58:18.995Z"
   },
   {
    "duration": 18,
    "start_time": "2023-10-05T20:58:19.003Z"
   },
   {
    "duration": 211,
    "start_time": "2023-10-05T20:58:19.022Z"
   },
   {
    "duration": 14,
    "start_time": "2023-10-05T20:58:19.234Z"
   },
   {
    "duration": 67,
    "start_time": "2023-10-05T20:58:19.250Z"
   },
   {
    "duration": 223,
    "start_time": "2023-10-05T20:58:19.318Z"
   },
   {
    "duration": 4,
    "start_time": "2023-10-05T20:58:19.544Z"
   },
   {
    "duration": 26,
    "start_time": "2023-10-05T20:58:19.550Z"
   },
   {
    "duration": 555,
    "start_time": "2023-10-05T20:58:19.578Z"
   },
   {
    "duration": 237,
    "start_time": "2023-10-05T20:58:20.135Z"
   },
   {
    "duration": 16,
    "start_time": "2023-10-05T20:58:20.373Z"
   },
   {
    "duration": 17,
    "start_time": "2023-10-05T20:58:20.390Z"
   },
   {
    "duration": 1443,
    "start_time": "2023-10-05T20:58:20.408Z"
   },
   {
    "duration": 244,
    "start_time": "2023-10-05T20:58:21.853Z"
   },
   {
    "duration": 259,
    "start_time": "2023-10-05T20:58:22.101Z"
   },
   {
    "duration": 228,
    "start_time": "2023-10-05T20:58:22.361Z"
   },
   {
    "duration": 4,
    "start_time": "2023-10-05T20:58:22.591Z"
   },
   {
    "duration": 35,
    "start_time": "2023-10-05T20:58:22.597Z"
   },
   {
    "duration": 21,
    "start_time": "2023-10-05T20:58:22.643Z"
   },
   {
    "duration": 18,
    "start_time": "2023-10-05T20:58:22.666Z"
   },
   {
    "duration": 20,
    "start_time": "2023-10-05T20:58:22.686Z"
   },
   {
    "duration": 239,
    "start_time": "2023-10-05T20:58:22.707Z"
   },
   {
    "duration": 28,
    "start_time": "2023-10-05T20:58:22.948Z"
   },
   {
    "duration": 243,
    "start_time": "2023-10-05T20:58:22.978Z"
   },
   {
    "duration": 209,
    "start_time": "2023-10-05T20:58:23.223Z"
   },
   {
    "duration": 17,
    "start_time": "2023-10-05T20:58:23.434Z"
   },
   {
    "duration": 7,
    "start_time": "2023-10-05T20:58:23.453Z"
   },
   {
    "duration": 17,
    "start_time": "2023-10-05T20:58:23.462Z"
   },
   {
    "duration": 7,
    "start_time": "2023-10-05T20:58:23.481Z"
   },
   {
    "duration": 1164,
    "start_time": "2023-10-05T21:46:10.865Z"
   },
   {
    "duration": 55,
    "start_time": "2023-10-05T21:46:12.031Z"
   },
   {
    "duration": 84,
    "start_time": "2023-10-05T21:46:12.088Z"
   },
   {
    "duration": 125,
    "start_time": "2023-10-05T21:46:12.174Z"
   },
   {
    "duration": 35,
    "start_time": "2023-10-05T21:46:12.301Z"
   },
   {
    "duration": 50,
    "start_time": "2023-10-05T21:46:12.338Z"
   },
   {
    "duration": 27,
    "start_time": "2023-10-05T21:46:12.389Z"
   },
   {
    "duration": 16,
    "start_time": "2023-10-05T21:46:12.417Z"
   },
   {
    "duration": 29,
    "start_time": "2023-10-05T21:46:12.434Z"
   },
   {
    "duration": 57,
    "start_time": "2023-10-05T21:46:12.464Z"
   },
   {
    "duration": 42,
    "start_time": "2023-10-05T21:46:12.523Z"
   },
   {
    "duration": 40,
    "start_time": "2023-10-05T21:46:12.567Z"
   },
   {
    "duration": 27,
    "start_time": "2023-10-05T21:46:12.608Z"
   },
   {
    "duration": 70,
    "start_time": "2023-10-05T21:46:12.637Z"
   },
   {
    "duration": 42,
    "start_time": "2023-10-05T21:46:12.708Z"
   },
   {
    "duration": 189,
    "start_time": "2023-10-05T21:46:12.751Z"
   },
   {
    "duration": 7,
    "start_time": "2023-10-05T21:46:12.942Z"
   },
   {
    "duration": 192,
    "start_time": "2023-10-05T21:46:12.951Z"
   },
   {
    "duration": 207,
    "start_time": "2023-10-05T21:46:13.144Z"
   },
   {
    "duration": 4,
    "start_time": "2023-10-05T21:46:13.353Z"
   },
   {
    "duration": 106,
    "start_time": "2023-10-05T21:46:13.359Z"
   },
   {
    "duration": 563,
    "start_time": "2023-10-05T21:46:13.467Z"
   },
   {
    "duration": 210,
    "start_time": "2023-10-05T21:46:14.032Z"
   },
   {
    "duration": 15,
    "start_time": "2023-10-05T21:46:14.243Z"
   },
   {
    "duration": 65,
    "start_time": "2023-10-05T21:46:14.259Z"
   },
   {
    "duration": 1482,
    "start_time": "2023-10-05T21:46:14.325Z"
   },
   {
    "duration": 260,
    "start_time": "2023-10-05T21:46:15.809Z"
   },
   {
    "duration": 273,
    "start_time": "2023-10-05T21:46:16.071Z"
   },
   {
    "duration": 248,
    "start_time": "2023-10-05T21:46:16.346Z"
   },
   {
    "duration": 5,
    "start_time": "2023-10-05T21:46:16.597Z"
   },
   {
    "duration": 72,
    "start_time": "2023-10-05T21:46:16.604Z"
   },
   {
    "duration": 26,
    "start_time": "2023-10-05T21:46:16.678Z"
   },
   {
    "duration": 28,
    "start_time": "2023-10-05T21:46:16.705Z"
   },
   {
    "duration": 36,
    "start_time": "2023-10-05T21:46:16.735Z"
   },
   {
    "duration": 219,
    "start_time": "2023-10-05T21:46:16.773Z"
   },
   {
    "duration": 39,
    "start_time": "2023-10-05T21:46:16.994Z"
   },
   {
    "duration": 232,
    "start_time": "2023-10-05T21:46:17.035Z"
   },
   {
    "duration": 204,
    "start_time": "2023-10-05T21:46:17.269Z"
   },
   {
    "duration": 10,
    "start_time": "2023-10-05T21:46:17.474Z"
   },
   {
    "duration": 35,
    "start_time": "2023-10-05T21:46:17.485Z"
   },
   {
    "duration": 38,
    "start_time": "2023-10-05T21:46:17.523Z"
   },
   {
    "duration": 26,
    "start_time": "2023-10-05T21:46:17.563Z"
   },
   {
    "duration": 80,
    "start_time": "2023-10-05T21:52:38.682Z"
   },
   {
    "duration": 25,
    "start_time": "2023-10-05T21:56:02.906Z"
   },
   {
    "duration": 8,
    "start_time": "2023-10-05T22:07:42.986Z"
   },
   {
    "duration": 87,
    "start_time": "2023-10-06T15:41:43.377Z"
   },
   {
    "duration": 43,
    "start_time": "2023-10-06T15:46:03.074Z"
   },
   {
    "duration": 1284,
    "start_time": "2023-10-06T15:46:07.766Z"
   },
   {
    "duration": 455,
    "start_time": "2023-10-06T15:46:09.052Z"
   },
   {
    "duration": 15,
    "start_time": "2023-10-06T15:46:09.509Z"
   },
   {
    "duration": 38,
    "start_time": "2023-10-06T15:46:09.526Z"
   },
   {
    "duration": 20,
    "start_time": "2023-10-06T15:46:09.566Z"
   },
   {
    "duration": 49,
    "start_time": "2023-10-06T15:46:09.588Z"
   },
   {
    "duration": 16,
    "start_time": "2023-10-06T15:46:09.639Z"
   },
   {
    "duration": 5,
    "start_time": "2023-10-06T15:46:09.657Z"
   },
   {
    "duration": 38,
    "start_time": "2023-10-06T15:46:09.663Z"
   },
   {
    "duration": 35,
    "start_time": "2023-10-06T15:46:09.704Z"
   },
   {
    "duration": 15,
    "start_time": "2023-10-06T15:46:09.741Z"
   },
   {
    "duration": 33,
    "start_time": "2023-10-06T15:46:09.758Z"
   },
   {
    "duration": 24,
    "start_time": "2023-10-06T15:46:09.793Z"
   },
   {
    "duration": 36,
    "start_time": "2023-10-06T15:46:09.818Z"
   },
   {
    "duration": 36,
    "start_time": "2023-10-06T15:46:09.856Z"
   },
   {
    "duration": 75,
    "start_time": "2023-10-06T15:46:09.894Z"
   },
   {
    "duration": 160,
    "start_time": "2023-10-06T15:46:12.491Z"
   },
   {
    "duration": 215,
    "start_time": "2023-10-06T15:48:57.467Z"
   },
   {
    "duration": 5,
    "start_time": "2023-10-06T15:57:26.348Z"
   },
   {
    "duration": 15,
    "start_time": "2023-10-06T16:08:41.167Z"
   },
   {
    "duration": 81,
    "start_time": "2023-10-06T16:08:43.000Z"
   },
   {
    "duration": 443,
    "start_time": "2023-10-06T16:08:49.093Z"
   },
   {
    "duration": 487,
    "start_time": "2023-10-06T16:09:34.182Z"
   },
   {
    "duration": 24,
    "start_time": "2023-10-06T16:13:13.926Z"
   },
   {
    "duration": 452,
    "start_time": "2023-10-06T16:13:21.965Z"
   },
   {
    "duration": 5,
    "start_time": "2023-10-06T16:15:16.330Z"
   },
   {
    "duration": 781,
    "start_time": "2023-10-06T16:15:27.198Z"
   },
   {
    "duration": 833,
    "start_time": "2023-10-06T16:17:58.189Z"
   },
   {
    "duration": 512,
    "start_time": "2023-10-06T16:18:38.809Z"
   },
   {
    "duration": 480,
    "start_time": "2023-10-06T16:18:51.125Z"
   },
   {
    "duration": 490,
    "start_time": "2023-10-06T16:19:20.293Z"
   },
   {
    "duration": 519,
    "start_time": "2023-10-06T16:19:34.729Z"
   },
   {
    "duration": 518,
    "start_time": "2023-10-06T16:20:43.396Z"
   },
   {
    "duration": 124,
    "start_time": "2023-10-06T16:21:16.317Z"
   },
   {
    "duration": 453,
    "start_time": "2023-10-06T16:23:45.589Z"
   },
   {
    "duration": 482,
    "start_time": "2023-10-06T16:24:42.946Z"
   },
   {
    "duration": 483,
    "start_time": "2023-10-06T16:25:31.563Z"
   },
   {
    "duration": 222,
    "start_time": "2023-10-06T16:31:13.873Z"
   },
   {
    "duration": 207,
    "start_time": "2023-10-06T16:32:55.924Z"
   },
   {
    "duration": 373,
    "start_time": "2023-10-06T16:38:21.638Z"
   },
   {
    "duration": 265,
    "start_time": "2023-10-06T16:38:41.920Z"
   },
   {
    "duration": 4,
    "start_time": "2023-10-06T16:47:46.166Z"
   },
   {
    "duration": 78,
    "start_time": "2023-10-06T16:55:00.604Z"
   },
   {
    "duration": 10,
    "start_time": "2023-10-06T16:57:23.461Z"
   },
   {
    "duration": 5,
    "start_time": "2023-10-06T16:57:29.507Z"
   },
   {
    "duration": 70,
    "start_time": "2023-10-06T16:57:29.514Z"
   },
   {
    "duration": 16,
    "start_time": "2023-10-06T16:57:29.586Z"
   },
   {
    "duration": 49,
    "start_time": "2023-10-06T16:57:29.604Z"
   },
   {
    "duration": 16,
    "start_time": "2023-10-06T16:57:29.654Z"
   },
   {
    "duration": 74,
    "start_time": "2023-10-06T16:57:29.671Z"
   },
   {
    "duration": 15,
    "start_time": "2023-10-06T16:57:29.747Z"
   },
   {
    "duration": 3,
    "start_time": "2023-10-06T16:57:29.764Z"
   },
   {
    "duration": 21,
    "start_time": "2023-10-06T16:57:29.769Z"
   },
   {
    "duration": 9,
    "start_time": "2023-10-06T16:57:29.794Z"
   },
   {
    "duration": 40,
    "start_time": "2023-10-06T16:57:29.804Z"
   },
   {
    "duration": 8,
    "start_time": "2023-10-06T16:57:29.846Z"
   },
   {
    "duration": 11,
    "start_time": "2023-10-06T16:57:29.856Z"
   },
   {
    "duration": 11,
    "start_time": "2023-10-06T16:57:29.870Z"
   },
   {
    "duration": 16,
    "start_time": "2023-10-06T16:57:29.883Z"
   },
   {
    "duration": 133,
    "start_time": "2023-10-06T16:57:29.901Z"
   },
   {
    "duration": 171,
    "start_time": "2023-10-06T16:57:30.045Z"
   },
   {
    "duration": 9,
    "start_time": "2023-10-06T16:57:30.218Z"
   },
   {
    "duration": 88,
    "start_time": "2023-10-06T16:57:30.229Z"
   },
   {
    "duration": 209,
    "start_time": "2023-10-06T16:57:30.319Z"
   },
   {
    "duration": 33,
    "start_time": "2023-10-06T16:57:30.529Z"
   },
   {
    "duration": 28,
    "start_time": "2023-10-06T16:57:30.564Z"
   },
   {
    "duration": 46,
    "start_time": "2023-10-06T16:57:30.594Z"
   },
   {
    "duration": 511,
    "start_time": "2023-10-06T16:57:30.642Z"
   },
   {
    "duration": 275,
    "start_time": "2023-10-06T16:57:31.155Z"
   },
   {
    "duration": 279,
    "start_time": "2023-10-06T16:57:31.432Z"
   },
   {
    "duration": 14,
    "start_time": "2023-10-06T16:57:31.712Z"
   },
   {
    "duration": 82,
    "start_time": "2023-10-06T16:57:31.729Z"
   },
   {
    "duration": 1556,
    "start_time": "2023-10-06T16:57:31.812Z"
   },
   {
    "duration": 244,
    "start_time": "2023-10-06T16:57:33.369Z"
   },
   {
    "duration": 220,
    "start_time": "2023-10-06T16:57:33.615Z"
   },
   {
    "duration": 236,
    "start_time": "2023-10-06T16:57:33.836Z"
   },
   {
    "duration": 8,
    "start_time": "2023-10-06T16:57:34.074Z"
   },
   {
    "duration": 48,
    "start_time": "2023-10-06T16:57:34.084Z"
   },
   {
    "duration": 21,
    "start_time": "2023-10-06T16:57:34.144Z"
   },
   {
    "duration": 54,
    "start_time": "2023-10-06T16:57:34.167Z"
   },
   {
    "duration": 40,
    "start_time": "2023-10-06T16:57:34.223Z"
   },
   {
    "duration": 229,
    "start_time": "2023-10-06T16:57:37.162Z"
   },
   {
    "duration": 12,
    "start_time": "2023-10-06T17:00:52.822Z"
   },
   {
    "duration": 5,
    "start_time": "2023-10-06T17:01:01.836Z"
   },
   {
    "duration": 108,
    "start_time": "2023-10-06T17:01:01.843Z"
   },
   {
    "duration": 16,
    "start_time": "2023-10-06T17:01:01.954Z"
   },
   {
    "duration": 54,
    "start_time": "2023-10-06T17:01:01.973Z"
   },
   {
    "duration": 31,
    "start_time": "2023-10-06T17:01:02.028Z"
   },
   {
    "duration": 66,
    "start_time": "2023-10-06T17:01:02.061Z"
   },
   {
    "duration": 18,
    "start_time": "2023-10-06T17:01:02.129Z"
   },
   {
    "duration": 17,
    "start_time": "2023-10-06T17:01:02.148Z"
   },
   {
    "duration": 65,
    "start_time": "2023-10-06T17:01:02.167Z"
   },
   {
    "duration": 29,
    "start_time": "2023-10-06T17:01:02.235Z"
   },
   {
    "duration": 28,
    "start_time": "2023-10-06T17:01:02.266Z"
   },
   {
    "duration": 46,
    "start_time": "2023-10-06T17:01:02.296Z"
   },
   {
    "duration": 45,
    "start_time": "2023-10-06T17:01:02.344Z"
   },
   {
    "duration": 210,
    "start_time": "2023-10-06T17:01:02.391Z"
   },
   {
    "duration": 66,
    "start_time": "2023-10-06T17:01:02.602Z"
   },
   {
    "duration": 106,
    "start_time": "2023-10-06T17:01:02.669Z"
   },
   {
    "duration": 168,
    "start_time": "2023-10-06T17:01:02.776Z"
   },
   {
    "duration": 7,
    "start_time": "2023-10-06T17:01:02.946Z"
   },
   {
    "duration": 119,
    "start_time": "2023-10-06T17:01:02.955Z"
   },
   {
    "duration": 228,
    "start_time": "2023-10-06T17:01:03.076Z"
   },
   {
    "duration": 33,
    "start_time": "2023-10-06T17:01:03.306Z"
   },
   {
    "duration": 7,
    "start_time": "2023-10-06T17:01:03.341Z"
   },
   {
    "duration": 58,
    "start_time": "2023-10-06T17:01:03.350Z"
   },
   {
    "duration": 399,
    "start_time": "2023-10-06T17:01:03.410Z"
   },
   {
    "duration": 415,
    "start_time": "2023-10-06T17:01:03.811Z"
   },
   {
    "duration": 297,
    "start_time": "2023-10-06T17:01:04.230Z"
   },
   {
    "duration": 21,
    "start_time": "2023-10-06T17:01:04.529Z"
   },
   {
    "duration": 26,
    "start_time": "2023-10-06T17:01:04.555Z"
   },
   {
    "duration": 1324,
    "start_time": "2023-10-06T17:01:04.583Z"
   },
   {
    "duration": 198,
    "start_time": "2023-10-06T17:01:05.909Z"
   },
   {
    "duration": 228,
    "start_time": "2023-10-06T17:01:06.144Z"
   },
   {
    "duration": 227,
    "start_time": "2023-10-06T17:01:06.373Z"
   },
   {
    "duration": 5,
    "start_time": "2023-10-06T17:01:06.601Z"
   },
   {
    "duration": 55,
    "start_time": "2023-10-06T17:01:06.607Z"
   },
   {
    "duration": 15,
    "start_time": "2023-10-06T17:01:06.664Z"
   },
   {
    "duration": 15,
    "start_time": "2023-10-06T17:01:06.680Z"
   },
   {
    "duration": 48,
    "start_time": "2023-10-06T17:01:06.697Z"
   },
   {
    "duration": 326,
    "start_time": "2023-10-06T17:01:06.747Z"
   },
   {
    "duration": 29,
    "start_time": "2023-10-06T17:01:07.075Z"
   },
   {
    "duration": 254,
    "start_time": "2023-10-06T17:01:07.106Z"
   },
   {
    "duration": 231,
    "start_time": "2023-10-06T17:01:08.591Z"
   },
   {
    "duration": 16,
    "start_time": "2023-10-06T17:01:09.398Z"
   },
   {
    "duration": 15,
    "start_time": "2023-10-06T17:01:37.791Z"
   },
   {
    "duration": 13,
    "start_time": "2023-10-06T17:01:55.925Z"
   },
   {
    "duration": 16,
    "start_time": "2023-10-06T17:02:06.379Z"
   },
   {
    "duration": 13,
    "start_time": "2023-10-06T17:02:15.277Z"
   },
   {
    "duration": 193,
    "start_time": "2023-10-06T17:02:35.994Z"
   },
   {
    "duration": 208,
    "start_time": "2023-10-06T17:05:15.253Z"
   },
   {
    "duration": 202,
    "start_time": "2023-10-06T17:07:06.392Z"
   },
   {
    "duration": 226,
    "start_time": "2023-10-06T17:07:12.460Z"
   },
   {
    "duration": 232,
    "start_time": "2023-10-06T17:08:07.930Z"
   },
   {
    "duration": 4,
    "start_time": "2023-10-06T17:18:11.442Z"
   },
   {
    "duration": 92,
    "start_time": "2023-10-06T17:18:11.448Z"
   },
   {
    "duration": 11,
    "start_time": "2023-10-06T17:18:11.542Z"
   },
   {
    "duration": 48,
    "start_time": "2023-10-06T17:18:11.554Z"
   },
   {
    "duration": 17,
    "start_time": "2023-10-06T17:18:11.604Z"
   },
   {
    "duration": 46,
    "start_time": "2023-10-06T17:18:11.623Z"
   },
   {
    "duration": 19,
    "start_time": "2023-10-06T17:18:11.671Z"
   },
   {
    "duration": 3,
    "start_time": "2023-10-06T17:18:11.691Z"
   },
   {
    "duration": 27,
    "start_time": "2023-10-06T17:18:11.696Z"
   },
   {
    "duration": 30,
    "start_time": "2023-10-06T17:18:11.725Z"
   },
   {
    "duration": 12,
    "start_time": "2023-10-06T17:18:11.757Z"
   },
   {
    "duration": 16,
    "start_time": "2023-10-06T17:18:11.770Z"
   },
   {
    "duration": 9,
    "start_time": "2023-10-06T17:18:11.787Z"
   },
   {
    "duration": 12,
    "start_time": "2023-10-06T17:18:11.799Z"
   },
   {
    "duration": 13,
    "start_time": "2023-10-06T17:18:11.813Z"
   },
   {
    "duration": 85,
    "start_time": "2023-10-06T17:18:11.828Z"
   },
   {
    "duration": 169,
    "start_time": "2023-10-06T17:18:11.915Z"
   },
   {
    "duration": 8,
    "start_time": "2023-10-06T17:18:12.086Z"
   },
   {
    "duration": 77,
    "start_time": "2023-10-06T17:18:12.095Z"
   },
   {
    "duration": 246,
    "start_time": "2023-10-06T17:18:12.173Z"
   },
   {
    "duration": 35,
    "start_time": "2023-10-06T17:18:12.420Z"
   },
   {
    "duration": 5,
    "start_time": "2023-10-06T17:18:12.457Z"
   },
   {
    "duration": 20,
    "start_time": "2023-10-06T17:18:12.463Z"
   },
   {
    "duration": 472,
    "start_time": "2023-10-06T17:18:12.485Z"
   },
   {
    "duration": 426,
    "start_time": "2023-10-06T17:18:12.959Z"
   },
   {
    "duration": 301,
    "start_time": "2023-10-06T17:18:13.386Z"
   },
   {
    "duration": 15,
    "start_time": "2023-10-06T17:18:13.689Z"
   },
   {
    "duration": 18,
    "start_time": "2023-10-06T17:18:13.706Z"
   },
   {
    "duration": 1502,
    "start_time": "2023-10-06T17:18:13.726Z"
   },
   {
    "duration": 258,
    "start_time": "2023-10-06T17:18:15.229Z"
   },
   {
    "duration": 222,
    "start_time": "2023-10-06T17:18:15.488Z"
   },
   {
    "duration": 222,
    "start_time": "2023-10-06T17:18:15.712Z"
   },
   {
    "duration": 8,
    "start_time": "2023-10-06T17:18:15.936Z"
   },
   {
    "duration": 36,
    "start_time": "2023-10-06T17:18:15.946Z"
   },
   {
    "duration": 16,
    "start_time": "2023-10-06T17:18:15.984Z"
   },
   {
    "duration": 17,
    "start_time": "2023-10-06T17:18:16.001Z"
   },
   {
    "duration": 39,
    "start_time": "2023-10-06T17:18:16.020Z"
   },
   {
    "duration": 342,
    "start_time": "2023-10-06T17:18:16.061Z"
   },
   {
    "duration": 39,
    "start_time": "2023-10-06T17:18:18.231Z"
   },
   {
    "duration": 394,
    "start_time": "2023-10-06T17:22:07.004Z"
   },
   {
    "duration": 141,
    "start_time": "2023-10-06T17:22:35.377Z"
   },
   {
    "duration": 99,
    "start_time": "2023-10-06T17:22:50.109Z"
   },
   {
    "duration": 616,
    "start_time": "2023-10-06T17:24:36.998Z"
   },
   {
    "duration": 632,
    "start_time": "2023-10-06T17:25:15.186Z"
   },
   {
    "duration": 12,
    "start_time": "2023-10-06T17:25:32.568Z"
   },
   {
    "duration": 1305,
    "start_time": "2023-10-06T17:25:56.187Z"
   },
   {
    "duration": 790,
    "start_time": "2023-10-06T17:26:21.337Z"
   },
   {
    "duration": 704,
    "start_time": "2023-10-06T17:26:31.321Z"
   },
   {
    "duration": 731,
    "start_time": "2023-10-06T17:26:38.705Z"
   },
   {
    "duration": 114,
    "start_time": "2023-10-06T17:30:12.433Z"
   },
   {
    "duration": 199,
    "start_time": "2023-10-06T17:30:22.514Z"
   },
   {
    "duration": 159,
    "start_time": "2023-10-06T17:36:20.470Z"
   },
   {
    "duration": 173,
    "start_time": "2023-10-06T17:37:06.821Z"
   },
   {
    "duration": 260,
    "start_time": "2023-10-06T17:37:17.255Z"
   },
   {
    "duration": 326,
    "start_time": "2023-10-06T17:39:56.980Z"
   },
   {
    "duration": 282,
    "start_time": "2023-10-06T17:40:10.881Z"
   },
   {
    "duration": 255,
    "start_time": "2023-10-06T17:40:20.782Z"
   },
   {
    "duration": 16,
    "start_time": "2023-10-06T17:41:31.705Z"
   },
   {
    "duration": 13,
    "start_time": "2023-10-06T17:41:41.036Z"
   },
   {
    "duration": 12,
    "start_time": "2023-10-06T17:42:55.046Z"
   },
   {
    "duration": 10,
    "start_time": "2023-10-06T17:47:06.888Z"
   },
   {
    "duration": 10,
    "start_time": "2023-10-06T17:48:07.042Z"
   },
   {
    "duration": 11,
    "start_time": "2023-10-06T17:49:32.418Z"
   },
   {
    "duration": 13,
    "start_time": "2023-10-06T17:49:48.248Z"
   },
   {
    "duration": 9,
    "start_time": "2023-10-06T17:49:57.115Z"
   },
   {
    "duration": 137,
    "start_time": "2023-10-06T17:50:02.270Z"
   },
   {
    "duration": 5,
    "start_time": "2023-10-06T17:50:09.961Z"
   },
   {
    "duration": 76,
    "start_time": "2023-10-06T17:50:09.968Z"
   },
   {
    "duration": 12,
    "start_time": "2023-10-06T17:50:10.046Z"
   },
   {
    "duration": 68,
    "start_time": "2023-10-06T17:50:10.061Z"
   },
   {
    "duration": 18,
    "start_time": "2023-10-06T17:50:10.131Z"
   },
   {
    "duration": 37,
    "start_time": "2023-10-06T17:50:10.151Z"
   },
   {
    "duration": 21,
    "start_time": "2023-10-06T17:50:10.190Z"
   },
   {
    "duration": 30,
    "start_time": "2023-10-06T17:50:10.213Z"
   },
   {
    "duration": 17,
    "start_time": "2023-10-06T17:50:10.247Z"
   },
   {
    "duration": 19,
    "start_time": "2023-10-06T17:50:10.266Z"
   },
   {
    "duration": 15,
    "start_time": "2023-10-06T17:50:10.287Z"
   },
   {
    "duration": 15,
    "start_time": "2023-10-06T17:50:10.304Z"
   },
   {
    "duration": 21,
    "start_time": "2023-10-06T17:50:10.321Z"
   },
   {
    "duration": 14,
    "start_time": "2023-10-06T17:50:10.345Z"
   },
   {
    "duration": 33,
    "start_time": "2023-10-06T17:50:10.361Z"
   },
   {
    "duration": 99,
    "start_time": "2023-10-06T17:50:10.397Z"
   },
   {
    "duration": 214,
    "start_time": "2023-10-06T17:50:10.498Z"
   },
   {
    "duration": 9,
    "start_time": "2023-10-06T17:50:10.714Z"
   },
   {
    "duration": 78,
    "start_time": "2023-10-06T17:50:10.724Z"
   },
   {
    "duration": 268,
    "start_time": "2023-10-06T17:50:10.804Z"
   },
   {
    "duration": 26,
    "start_time": "2023-10-06T17:50:11.075Z"
   },
   {
    "duration": 5,
    "start_time": "2023-10-06T17:50:11.103Z"
   },
   {
    "duration": 37,
    "start_time": "2023-10-06T17:50:11.109Z"
   },
   {
    "duration": 422,
    "start_time": "2023-10-06T17:50:11.150Z"
   },
   {
    "duration": 293,
    "start_time": "2023-10-06T17:50:11.573Z"
   },
   {
    "duration": 424,
    "start_time": "2023-10-06T17:50:11.868Z"
   },
   {
    "duration": 16,
    "start_time": "2023-10-06T17:50:12.294Z"
   },
   {
    "duration": 39,
    "start_time": "2023-10-06T17:50:12.312Z"
   },
   {
    "duration": 1444,
    "start_time": "2023-10-06T17:50:12.353Z"
   },
   {
    "duration": 223,
    "start_time": "2023-10-06T17:50:13.799Z"
   },
   {
    "duration": 364,
    "start_time": "2023-10-06T17:50:14.025Z"
   },
   {
    "duration": 223,
    "start_time": "2023-10-06T17:50:14.391Z"
   },
   {
    "duration": 4,
    "start_time": "2023-10-06T17:50:14.616Z"
   },
   {
    "duration": 44,
    "start_time": "2023-10-06T17:50:14.622Z"
   },
   {
    "duration": 22,
    "start_time": "2023-10-06T17:50:14.668Z"
   },
   {
    "duration": 23,
    "start_time": "2023-10-06T17:50:14.691Z"
   },
   {
    "duration": 42,
    "start_time": "2023-10-06T17:50:14.716Z"
   },
   {
    "duration": 302,
    "start_time": "2023-10-06T17:50:14.759Z"
   },
   {
    "duration": 53,
    "start_time": "2023-10-06T17:50:21.883Z"
   },
   {
    "duration": 125,
    "start_time": "2023-10-06T17:50:25.050Z"
   },
   {
    "duration": 47,
    "start_time": "2023-10-06T17:50:43.117Z"
   },
   {
    "duration": 219,
    "start_time": "2023-10-06T17:51:36.803Z"
   },
   {
    "duration": 121,
    "start_time": "2023-10-06T17:52:09.053Z"
   },
   {
    "duration": 14,
    "start_time": "2023-10-06T17:52:25.440Z"
   },
   {
    "duration": 117,
    "start_time": "2023-10-06T17:52:37.423Z"
   },
   {
    "duration": 115,
    "start_time": "2023-10-06T17:52:47.674Z"
   },
   {
    "duration": 79,
    "start_time": "2023-10-06T17:54:30.381Z"
   },
   {
    "duration": 139,
    "start_time": "2023-10-06T17:54:53.797Z"
   },
   {
    "duration": 338,
    "start_time": "2023-10-06T17:55:12.165Z"
   },
   {
    "duration": 3,
    "start_time": "2023-10-06T17:55:56.237Z"
   },
   {
    "duration": 363,
    "start_time": "2023-10-06T17:56:47.504Z"
   },
   {
    "duration": 3,
    "start_time": "2023-10-06T17:57:04.667Z"
   },
   {
    "duration": 70,
    "start_time": "2023-10-06T17:57:04.672Z"
   },
   {
    "duration": 11,
    "start_time": "2023-10-06T17:57:04.743Z"
   },
   {
    "duration": 28,
    "start_time": "2023-10-06T17:57:04.755Z"
   },
   {
    "duration": 15,
    "start_time": "2023-10-06T17:57:04.785Z"
   },
   {
    "duration": 49,
    "start_time": "2023-10-06T17:57:04.802Z"
   },
   {
    "duration": 14,
    "start_time": "2023-10-06T17:57:04.853Z"
   },
   {
    "duration": 3,
    "start_time": "2023-10-06T17:57:04.869Z"
   },
   {
    "duration": 17,
    "start_time": "2023-10-06T17:57:04.873Z"
   },
   {
    "duration": 11,
    "start_time": "2023-10-06T17:57:04.891Z"
   },
   {
    "duration": 23,
    "start_time": "2023-10-06T17:57:04.904Z"
   },
   {
    "duration": 17,
    "start_time": "2023-10-06T17:57:04.929Z"
   },
   {
    "duration": 13,
    "start_time": "2023-10-06T17:57:04.949Z"
   },
   {
    "duration": 10,
    "start_time": "2023-10-06T17:57:04.964Z"
   },
   {
    "duration": 16,
    "start_time": "2023-10-06T17:57:04.976Z"
   },
   {
    "duration": 98,
    "start_time": "2023-10-06T17:57:04.994Z"
   },
   {
    "duration": 194,
    "start_time": "2023-10-06T17:57:05.094Z"
   },
   {
    "duration": 7,
    "start_time": "2023-10-06T17:57:05.290Z"
   },
   {
    "duration": 84,
    "start_time": "2023-10-06T17:57:05.299Z"
   },
   {
    "duration": 227,
    "start_time": "2023-10-06T17:57:05.384Z"
   },
   {
    "duration": 32,
    "start_time": "2023-10-06T17:57:05.613Z"
   },
   {
    "duration": 4,
    "start_time": "2023-10-06T17:57:05.647Z"
   },
   {
    "duration": 19,
    "start_time": "2023-10-06T17:57:05.652Z"
   },
   {
    "duration": 443,
    "start_time": "2023-10-06T17:57:05.673Z"
   },
   {
    "duration": 283,
    "start_time": "2023-10-06T17:57:06.118Z"
   },
   {
    "duration": 365,
    "start_time": "2023-10-06T17:57:06.403Z"
   },
   {
    "duration": 14,
    "start_time": "2023-10-06T17:57:06.769Z"
   },
   {
    "duration": 14,
    "start_time": "2023-10-06T17:57:06.785Z"
   },
   {
    "duration": 1317,
    "start_time": "2023-10-06T17:57:06.800Z"
   },
   {
    "duration": 262,
    "start_time": "2023-10-06T17:57:08.119Z"
   },
   {
    "duration": 215,
    "start_time": "2023-10-06T17:57:08.383Z"
   },
   {
    "duration": 223,
    "start_time": "2023-10-06T17:57:08.600Z"
   },
   {
    "duration": 4,
    "start_time": "2023-10-06T17:57:08.825Z"
   },
   {
    "duration": 35,
    "start_time": "2023-10-06T17:57:08.831Z"
   },
   {
    "duration": 14,
    "start_time": "2023-10-06T17:57:08.868Z"
   },
   {
    "duration": 15,
    "start_time": "2023-10-06T17:57:08.884Z"
   },
   {
    "duration": 15,
    "start_time": "2023-10-06T17:57:08.902Z"
   },
   {
    "duration": 270,
    "start_time": "2023-10-06T17:57:08.919Z"
   },
   {
    "duration": 43,
    "start_time": "2023-10-06T17:57:13.111Z"
   },
   {
    "duration": 394,
    "start_time": "2023-10-06T17:57:14.078Z"
   },
   {
    "duration": 12,
    "start_time": "2023-10-06T17:58:22.957Z"
   },
   {
    "duration": 361,
    "start_time": "2023-10-06T17:58:48.177Z"
   },
   {
    "duration": 27,
    "start_time": "2023-10-06T17:59:37.047Z"
   },
   {
    "duration": 255,
    "start_time": "2023-10-06T17:59:41.380Z"
   },
   {
    "duration": 12,
    "start_time": "2023-10-06T18:04:00.611Z"
   },
   {
    "duration": 20,
    "start_time": "2023-10-06T18:04:17.912Z"
   },
   {
    "duration": 138,
    "start_time": "2023-10-06T18:09:10.094Z"
   },
   {
    "duration": 9,
    "start_time": "2023-10-06T18:09:19.130Z"
   },
   {
    "duration": 12,
    "start_time": "2023-10-06T18:09:24.994Z"
   },
   {
    "duration": 156,
    "start_time": "2023-10-06T18:10:19.429Z"
   },
   {
    "duration": 15,
    "start_time": "2023-10-06T18:11:42.986Z"
   },
   {
    "duration": 18,
    "start_time": "2023-10-06T18:12:19.440Z"
   },
   {
    "duration": 31,
    "start_time": "2023-10-06T18:12:31.586Z"
   },
   {
    "duration": 12,
    "start_time": "2023-10-06T18:17:16.572Z"
   },
   {
    "duration": 5,
    "start_time": "2023-10-06T18:20:34.879Z"
   },
   {
    "duration": 24,
    "start_time": "2023-10-06T18:22:32.948Z"
   },
   {
    "duration": 37,
    "start_time": "2023-10-06T18:23:19.536Z"
   },
   {
    "duration": 38,
    "start_time": "2023-10-06T18:27:56.185Z"
   },
   {
    "duration": 51,
    "start_time": "2023-10-06T18:28:14.003Z"
   },
   {
    "duration": 35,
    "start_time": "2023-10-06T18:28:48.455Z"
   },
   {
    "duration": 13,
    "start_time": "2023-10-06T18:33:27.332Z"
   },
   {
    "duration": 28,
    "start_time": "2023-10-06T18:33:39.333Z"
   },
   {
    "duration": 28,
    "start_time": "2023-10-06T18:33:50.855Z"
   },
   {
    "duration": 30,
    "start_time": "2023-10-06T18:34:00.369Z"
   },
   {
    "duration": 33,
    "start_time": "2023-10-06T18:34:24.052Z"
   },
   {
    "duration": 84,
    "start_time": "2023-10-06T18:40:12.023Z"
   },
   {
    "duration": 3,
    "start_time": "2023-10-06T18:40:27.673Z"
   },
   {
    "duration": 18,
    "start_time": "2023-10-06T18:54:27.804Z"
   },
   {
    "duration": 14,
    "start_time": "2023-10-06T18:55:20.955Z"
   },
   {
    "duration": 17,
    "start_time": "2023-10-06T18:57:13.511Z"
   },
   {
    "duration": 183,
    "start_time": "2023-10-06T18:57:31.463Z"
   },
   {
    "duration": 188,
    "start_time": "2023-10-06T18:58:15.815Z"
   },
   {
    "duration": 116,
    "start_time": "2023-10-06T19:00:31.537Z"
   },
   {
    "duration": 112,
    "start_time": "2023-10-06T19:00:44.387Z"
   },
   {
    "duration": 107,
    "start_time": "2023-10-06T19:00:57.270Z"
   },
   {
    "duration": 9,
    "start_time": "2023-10-06T19:01:40.524Z"
   },
   {
    "duration": 4,
    "start_time": "2023-10-06T19:02:16.043Z"
   },
   {
    "duration": 120,
    "start_time": "2023-10-06T19:02:31.145Z"
   },
   {
    "duration": 103,
    "start_time": "2023-10-06T19:02:53.613Z"
   },
   {
    "duration": 104,
    "start_time": "2023-10-06T19:03:49.414Z"
   },
   {
    "duration": 112,
    "start_time": "2023-10-06T19:04:33.383Z"
   },
   {
    "duration": 111,
    "start_time": "2023-10-06T19:04:46.438Z"
   },
   {
    "duration": 191,
    "start_time": "2023-10-06T19:05:08.973Z"
   },
   {
    "duration": 128,
    "start_time": "2023-10-06T19:05:31.704Z"
   },
   {
    "duration": 118,
    "start_time": "2023-10-06T19:09:40.386Z"
   },
   {
    "duration": 233,
    "start_time": "2023-10-06T19:09:46.886Z"
   },
   {
    "duration": 14,
    "start_time": "2023-10-06T19:10:44.772Z"
   },
   {
    "duration": 126,
    "start_time": "2023-10-06T19:10:48.772Z"
   },
   {
    "duration": 8,
    "start_time": "2023-10-06T19:34:07.487Z"
   },
   {
    "duration": 80,
    "start_time": "2023-10-06T19:34:49.536Z"
   },
   {
    "duration": 4,
    "start_time": "2023-10-06T19:35:27.677Z"
   },
   {
    "duration": 52,
    "start_time": "2023-10-06T19:35:27.683Z"
   },
   {
    "duration": 16,
    "start_time": "2023-10-06T19:35:27.737Z"
   },
   {
    "duration": 35,
    "start_time": "2023-10-06T19:35:27.761Z"
   },
   {
    "duration": 20,
    "start_time": "2023-10-06T19:35:27.798Z"
   },
   {
    "duration": 42,
    "start_time": "2023-10-06T19:35:27.819Z"
   },
   {
    "duration": 18,
    "start_time": "2023-10-06T19:35:27.862Z"
   },
   {
    "duration": 15,
    "start_time": "2023-10-06T19:35:27.882Z"
   },
   {
    "duration": 15,
    "start_time": "2023-10-06T19:35:27.899Z"
   },
   {
    "duration": 17,
    "start_time": "2023-10-06T19:35:27.916Z"
   },
   {
    "duration": 18,
    "start_time": "2023-10-06T19:35:27.935Z"
   },
   {
    "duration": 13,
    "start_time": "2023-10-06T19:35:27.954Z"
   },
   {
    "duration": 5,
    "start_time": "2023-10-06T19:35:27.969Z"
   },
   {
    "duration": 15,
    "start_time": "2023-10-06T19:35:27.978Z"
   },
   {
    "duration": 13,
    "start_time": "2023-10-06T19:35:27.995Z"
   },
   {
    "duration": 93,
    "start_time": "2023-10-06T19:35:28.010Z"
   },
   {
    "duration": 188,
    "start_time": "2023-10-06T19:35:28.104Z"
   },
   {
    "duration": 7,
    "start_time": "2023-10-06T19:35:28.294Z"
   },
   {
    "duration": 89,
    "start_time": "2023-10-06T19:35:28.302Z"
   },
   {
    "duration": 229,
    "start_time": "2023-10-06T19:35:28.393Z"
   },
   {
    "duration": 40,
    "start_time": "2023-10-06T19:35:28.623Z"
   },
   {
    "duration": 9,
    "start_time": "2023-10-06T19:35:28.664Z"
   },
   {
    "duration": 21,
    "start_time": "2023-10-06T19:35:28.675Z"
   },
   {
    "duration": 449,
    "start_time": "2023-10-06T19:35:28.698Z"
   },
   {
    "duration": 286,
    "start_time": "2023-10-06T19:35:29.155Z"
   },
   {
    "duration": 330,
    "start_time": "2023-10-06T19:35:29.443Z"
   },
   {
    "duration": 16,
    "start_time": "2023-10-06T19:35:29.775Z"
   },
   {
    "duration": 24,
    "start_time": "2023-10-06T19:35:29.792Z"
   },
   {
    "duration": 1529,
    "start_time": "2023-10-06T19:35:29.818Z"
   },
   {
    "duration": 3,
    "start_time": "2023-10-06T19:35:31.349Z"
   },
   {
    "duration": 128,
    "start_time": "2023-10-06T19:35:31.354Z"
   },
   {
    "duration": 255,
    "start_time": "2023-10-06T19:35:31.484Z"
   },
   {
    "duration": 241,
    "start_time": "2023-10-06T19:35:31.741Z"
   },
   {
    "duration": 5,
    "start_time": "2023-10-06T19:35:31.983Z"
   },
   {
    "duration": 60,
    "start_time": "2023-10-06T19:35:31.989Z"
   },
   {
    "duration": 21,
    "start_time": "2023-10-06T19:35:32.051Z"
   },
   {
    "duration": 30,
    "start_time": "2023-10-06T19:35:32.073Z"
   },
   {
    "duration": 30,
    "start_time": "2023-10-06T19:35:32.105Z"
   },
   {
    "duration": 281,
    "start_time": "2023-10-06T19:35:32.137Z"
   },
   {
    "duration": 65,
    "start_time": "2023-10-06T19:35:32.420Z"
   },
   {
    "duration": 294,
    "start_time": "2023-10-06T19:35:32.489Z"
   },
   {
    "duration": 14,
    "start_time": "2023-10-06T19:35:32.784Z"
   },
   {
    "duration": 136,
    "start_time": "2023-10-06T19:35:32.799Z"
   },
   {
    "duration": 181,
    "start_time": "2023-10-06T19:35:32.943Z"
   },
   {
    "duration": 19,
    "start_time": "2023-10-06T19:35:33.126Z"
   },
   {
    "duration": 20,
    "start_time": "2023-10-06T19:35:33.147Z"
   },
   {
    "duration": 8,
    "start_time": "2023-10-06T19:35:33.169Z"
   },
   {
    "duration": 4,
    "start_time": "2023-10-06T19:35:38.427Z"
   },
   {
    "duration": 4,
    "start_time": "2023-10-06T19:41:19.141Z"
   },
   {
    "duration": 3,
    "start_time": "2023-10-06T19:45:38.579Z"
   },
   {
    "duration": 4,
    "start_time": "2023-10-06T19:46:39.493Z"
   },
   {
    "duration": 6,
    "start_time": "2023-10-06T19:46:40.595Z"
   },
   {
    "duration": 10,
    "start_time": "2023-10-06T19:54:31.852Z"
   },
   {
    "duration": 3,
    "start_time": "2023-10-06T19:57:24.140Z"
   },
   {
    "duration": 11,
    "start_time": "2023-10-06T20:00:41.099Z"
   },
   {
    "duration": 2,
    "start_time": "2023-10-06T20:00:42.722Z"
   },
   {
    "duration": 5,
    "start_time": "2023-10-06T20:00:43.671Z"
   },
   {
    "duration": 6,
    "start_time": "2023-10-06T20:00:44.717Z"
   },
   {
    "duration": 7,
    "start_time": "2023-10-06T20:01:29.772Z"
   },
   {
    "duration": 152,
    "start_time": "2023-10-06T20:08:43.567Z"
   },
   {
    "duration": 87,
    "start_time": "2023-10-06T20:19:47.210Z"
   },
   {
    "duration": 5,
    "start_time": "2023-10-06T20:26:04.214Z"
   },
   {
    "duration": 6,
    "start_time": "2023-10-06T20:26:05.497Z"
   },
   {
    "duration": 85,
    "start_time": "2023-10-06T20:28:08.765Z"
   },
   {
    "duration": 98,
    "start_time": "2023-10-06T20:30:33.144Z"
   },
   {
    "duration": 211,
    "start_time": "2023-10-06T20:32:25.581Z"
   },
   {
    "duration": 361,
    "start_time": "2023-10-06T20:32:43.483Z"
   },
   {
    "duration": 248,
    "start_time": "2023-10-06T20:33:40.907Z"
   },
   {
    "duration": 214,
    "start_time": "2023-10-06T20:35:33.692Z"
   },
   {
    "duration": 11,
    "start_time": "2023-10-06T20:36:30.963Z"
   },
   {
    "duration": 10,
    "start_time": "2023-10-06T20:37:05.382Z"
   },
   {
    "duration": 11,
    "start_time": "2023-10-06T20:37:17.468Z"
   },
   {
    "duration": 3,
    "start_time": "2023-10-06T20:37:38.931Z"
   },
   {
    "duration": 73,
    "start_time": "2023-10-06T20:37:38.936Z"
   },
   {
    "duration": 11,
    "start_time": "2023-10-06T20:37:39.011Z"
   },
   {
    "duration": 48,
    "start_time": "2023-10-06T20:37:39.024Z"
   },
   {
    "duration": 16,
    "start_time": "2023-10-06T20:37:39.073Z"
   },
   {
    "duration": 30,
    "start_time": "2023-10-06T20:37:39.091Z"
   },
   {
    "duration": 43,
    "start_time": "2023-10-06T20:37:39.123Z"
   },
   {
    "duration": 15,
    "start_time": "2023-10-06T20:37:39.167Z"
   },
   {
    "duration": 26,
    "start_time": "2023-10-06T20:37:39.185Z"
   },
   {
    "duration": 26,
    "start_time": "2023-10-06T20:37:39.212Z"
   },
   {
    "duration": 20,
    "start_time": "2023-10-06T20:37:39.240Z"
   },
   {
    "duration": 21,
    "start_time": "2023-10-06T20:37:39.262Z"
   },
   {
    "duration": 8,
    "start_time": "2023-10-06T20:37:39.285Z"
   },
   {
    "duration": 11,
    "start_time": "2023-10-06T20:37:39.294Z"
   },
   {
    "duration": 15,
    "start_time": "2023-10-06T20:37:39.307Z"
   },
   {
    "duration": 81,
    "start_time": "2023-10-06T20:37:39.323Z"
   },
   {
    "duration": 176,
    "start_time": "2023-10-06T20:37:39.406Z"
   },
   {
    "duration": 7,
    "start_time": "2023-10-06T20:37:39.584Z"
   },
   {
    "duration": 81,
    "start_time": "2023-10-06T20:37:39.592Z"
   },
   {
    "duration": 223,
    "start_time": "2023-10-06T20:37:39.675Z"
   },
   {
    "duration": 24,
    "start_time": "2023-10-06T20:37:39.899Z"
   },
   {
    "duration": 3,
    "start_time": "2023-10-06T20:37:39.925Z"
   },
   {
    "duration": 38,
    "start_time": "2023-10-06T20:37:39.930Z"
   },
   {
    "duration": 404,
    "start_time": "2023-10-06T20:37:39.971Z"
   },
   {
    "duration": 277,
    "start_time": "2023-10-06T20:37:40.376Z"
   },
   {
    "duration": 395,
    "start_time": "2023-10-06T20:37:40.655Z"
   },
   {
    "duration": 16,
    "start_time": "2023-10-06T20:37:41.052Z"
   },
   {
    "duration": 19,
    "start_time": "2023-10-06T20:37:41.069Z"
   },
   {
    "duration": 1313,
    "start_time": "2023-10-06T20:37:41.089Z"
   },
   {
    "duration": 2,
    "start_time": "2023-10-06T20:37:42.404Z"
   },
   {
    "duration": 52,
    "start_time": "2023-10-06T20:37:42.407Z"
   },
   {
    "duration": 210,
    "start_time": "2023-10-06T20:37:42.461Z"
   },
   {
    "duration": 224,
    "start_time": "2023-10-06T20:37:42.673Z"
   },
   {
    "duration": 3,
    "start_time": "2023-10-06T20:37:42.899Z"
   },
   {
    "duration": 35,
    "start_time": "2023-10-06T20:37:42.904Z"
   },
   {
    "duration": 18,
    "start_time": "2023-10-06T20:37:42.940Z"
   },
   {
    "duration": 16,
    "start_time": "2023-10-06T20:37:42.960Z"
   },
   {
    "duration": 18,
    "start_time": "2023-10-06T20:37:42.978Z"
   },
   {
    "duration": 267,
    "start_time": "2023-10-06T20:37:42.997Z"
   },
   {
    "duration": 45,
    "start_time": "2023-10-06T20:37:43.266Z"
   },
   {
    "duration": 269,
    "start_time": "2023-10-06T20:37:43.312Z"
   },
   {
    "duration": 14,
    "start_time": "2023-10-06T20:37:43.583Z"
   },
   {
    "duration": 106,
    "start_time": "2023-10-06T20:37:43.598Z"
   },
   {
    "duration": 206,
    "start_time": "2023-10-06T20:37:49.256Z"
   },
   {
    "duration": 232,
    "start_time": "2023-10-06T20:37:50.473Z"
   },
   {
    "duration": 12,
    "start_time": "2023-10-06T20:40:03.280Z"
   },
   {
    "duration": 3,
    "start_time": "2023-10-06T20:40:18.701Z"
   },
   {
    "duration": 66,
    "start_time": "2023-10-06T20:40:18.706Z"
   },
   {
    "duration": 10,
    "start_time": "2023-10-06T20:40:18.774Z"
   },
   {
    "duration": 24,
    "start_time": "2023-10-06T20:40:18.785Z"
   },
   {
    "duration": 43,
    "start_time": "2023-10-06T20:40:18.811Z"
   },
   {
    "duration": 30,
    "start_time": "2023-10-06T20:40:18.857Z"
   },
   {
    "duration": 14,
    "start_time": "2023-10-06T20:40:18.888Z"
   },
   {
    "duration": 2,
    "start_time": "2023-10-06T20:40:18.904Z"
   },
   {
    "duration": 19,
    "start_time": "2023-10-06T20:40:18.908Z"
   },
   {
    "duration": 27,
    "start_time": "2023-10-06T20:40:18.929Z"
   },
   {
    "duration": 8,
    "start_time": "2023-10-06T20:40:18.959Z"
   },
   {
    "duration": 17,
    "start_time": "2023-10-06T20:40:18.969Z"
   },
   {
    "duration": 5,
    "start_time": "2023-10-06T20:40:18.987Z"
   },
   {
    "duration": 7,
    "start_time": "2023-10-06T20:40:18.993Z"
   },
   {
    "duration": 31,
    "start_time": "2023-10-06T20:40:19.001Z"
   },
   {
    "duration": 107,
    "start_time": "2023-10-06T20:40:19.034Z"
   },
   {
    "duration": 171,
    "start_time": "2023-10-06T20:40:19.142Z"
   },
   {
    "duration": 7,
    "start_time": "2023-10-06T20:40:19.315Z"
   },
   {
    "duration": 80,
    "start_time": "2023-10-06T20:40:19.323Z"
   },
   {
    "duration": 228,
    "start_time": "2023-10-06T20:40:19.405Z"
   },
   {
    "duration": 35,
    "start_time": "2023-10-06T20:40:19.635Z"
   },
   {
    "duration": 32,
    "start_time": "2023-10-06T20:40:19.671Z"
   },
   {
    "duration": 22,
    "start_time": "2023-10-06T20:40:19.705Z"
   },
   {
    "duration": 397,
    "start_time": "2023-10-06T20:40:19.729Z"
   },
   {
    "duration": 277,
    "start_time": "2023-10-06T20:40:20.127Z"
   },
   {
    "duration": 301,
    "start_time": "2023-10-06T20:40:20.406Z"
   },
   {
    "duration": 13,
    "start_time": "2023-10-06T20:40:20.709Z"
   },
   {
    "duration": 32,
    "start_time": "2023-10-06T20:40:20.723Z"
   },
   {
    "duration": 1502,
    "start_time": "2023-10-06T20:40:20.760Z"
   },
   {
    "duration": 3,
    "start_time": "2023-10-06T20:40:22.263Z"
   },
   {
    "duration": 30,
    "start_time": "2023-10-06T20:40:22.267Z"
   },
   {
    "duration": 221,
    "start_time": "2023-10-06T20:40:22.298Z"
   },
   {
    "duration": 263,
    "start_time": "2023-10-06T20:40:22.521Z"
   },
   {
    "duration": 5,
    "start_time": "2023-10-06T20:40:22.785Z"
   },
   {
    "duration": 65,
    "start_time": "2023-10-06T20:40:22.791Z"
   },
   {
    "duration": 15,
    "start_time": "2023-10-06T20:40:22.858Z"
   },
   {
    "duration": 13,
    "start_time": "2023-10-06T20:40:22.874Z"
   },
   {
    "duration": 21,
    "start_time": "2023-10-06T20:40:22.889Z"
   },
   {
    "duration": 255,
    "start_time": "2023-10-06T20:40:22.912Z"
   },
   {
    "duration": 28,
    "start_time": "2023-10-06T20:40:23.169Z"
   },
   {
    "duration": 261,
    "start_time": "2023-10-06T20:40:23.199Z"
   },
   {
    "duration": 99,
    "start_time": "2023-10-06T20:40:23.462Z"
   },
   {
    "duration": 227,
    "start_time": "2023-10-06T20:41:20.183Z"
   },
   {
    "duration": 227,
    "start_time": "2023-10-06T20:41:59.465Z"
   },
   {
    "duration": 356,
    "start_time": "2023-10-06T20:42:28.433Z"
   },
   {
    "duration": 213,
    "start_time": "2023-10-06T20:42:59.185Z"
   },
   {
    "duration": 264,
    "start_time": "2023-10-06T20:43:08.455Z"
   },
   {
    "duration": 262,
    "start_time": "2023-10-06T20:44:23.624Z"
   },
   {
    "duration": 289,
    "start_time": "2023-10-06T20:44:31.939Z"
   },
   {
    "duration": 250,
    "start_time": "2023-10-06T20:44:39.207Z"
   },
   {
    "duration": 272,
    "start_time": "2023-10-06T20:44:47.957Z"
   },
   {
    "duration": 427,
    "start_time": "2023-10-06T20:45:55.746Z"
   },
   {
    "duration": 311,
    "start_time": "2023-10-06T20:46:13.017Z"
   },
   {
    "duration": 405,
    "start_time": "2023-10-06T20:46:23.963Z"
   },
   {
    "duration": 301,
    "start_time": "2023-10-06T20:47:34.483Z"
   },
   {
    "duration": 302,
    "start_time": "2023-10-06T20:52:47.799Z"
   },
   {
    "duration": 312,
    "start_time": "2023-10-06T20:52:59.266Z"
   },
   {
    "duration": 310,
    "start_time": "2023-10-06T20:53:19.001Z"
   },
   {
    "duration": 430,
    "start_time": "2023-10-06T20:56:10.344Z"
   },
   {
    "duration": 306,
    "start_time": "2023-10-06T20:57:19.765Z"
   },
   {
    "duration": 3,
    "start_time": "2023-10-06T21:00:08.941Z"
   },
   {
    "duration": 293,
    "start_time": "2023-10-06T21:04:56.509Z"
   },
   {
    "duration": 291,
    "start_time": "2023-10-06T21:05:17.628Z"
   },
   {
    "duration": 300,
    "start_time": "2023-10-06T21:05:24.261Z"
   },
   {
    "duration": 301,
    "start_time": "2023-10-06T21:05:33.478Z"
   },
   {
    "duration": 288,
    "start_time": "2023-10-06T21:07:56.920Z"
   },
   {
    "duration": 388,
    "start_time": "2023-10-06T21:08:51.574Z"
   },
   {
    "duration": 274,
    "start_time": "2023-10-06T21:13:03.307Z"
   },
   {
    "duration": 27,
    "start_time": "2023-10-06T21:13:10.707Z"
   },
   {
    "duration": 3,
    "start_time": "2023-10-06T21:13:11.692Z"
   },
   {
    "duration": 264,
    "start_time": "2023-10-06T21:13:13.325Z"
   },
   {
    "duration": 291,
    "start_time": "2023-10-06T21:13:56.959Z"
   },
   {
    "duration": 446,
    "start_time": "2023-10-06T21:22:33.389Z"
   },
   {
    "duration": 431,
    "start_time": "2023-10-06T21:23:31.409Z"
   },
   {
    "duration": 245,
    "start_time": "2023-10-06T21:27:46.611Z"
   },
   {
    "duration": 1492,
    "start_time": "2023-10-06T21:42:02.903Z"
   },
   {
    "duration": 4,
    "start_time": "2023-10-06T21:42:16.131Z"
   },
   {
    "duration": 71,
    "start_time": "2023-10-06T21:42:16.137Z"
   },
   {
    "duration": 11,
    "start_time": "2023-10-06T21:42:16.210Z"
   },
   {
    "duration": 52,
    "start_time": "2023-10-06T21:42:16.223Z"
   },
   {
    "duration": 17,
    "start_time": "2023-10-06T21:42:16.277Z"
   },
   {
    "duration": 171,
    "start_time": "2023-10-06T21:42:16.295Z"
   },
   {
    "duration": 13,
    "start_time": "2023-10-06T21:42:16.467Z"
   },
   {
    "duration": 12,
    "start_time": "2023-10-06T21:42:22.218Z"
   },
   {
    "duration": 12,
    "start_time": "2023-10-06T21:42:39.486Z"
   },
   {
    "duration": 6,
    "start_time": "2023-10-06T21:45:57.214Z"
   },
   {
    "duration": 6,
    "start_time": "2023-10-06T21:47:04.333Z"
   },
   {
    "duration": 4,
    "start_time": "2023-10-06T21:47:21.898Z"
   },
   {
    "duration": 78,
    "start_time": "2023-10-06T21:47:21.904Z"
   },
   {
    "duration": 10,
    "start_time": "2023-10-06T21:47:21.984Z"
   },
   {
    "duration": 30,
    "start_time": "2023-10-06T21:47:21.996Z"
   },
   {
    "duration": 16,
    "start_time": "2023-10-06T21:47:22.027Z"
   },
   {
    "duration": 37,
    "start_time": "2023-10-06T21:47:22.045Z"
   },
   {
    "duration": 14,
    "start_time": "2023-10-06T21:47:22.084Z"
   },
   {
    "duration": 27,
    "start_time": "2023-10-06T21:47:22.099Z"
   },
   {
    "duration": 12,
    "start_time": "2023-10-06T21:47:25.720Z"
   },
   {
    "duration": 6,
    "start_time": "2023-10-06T21:47:26.673Z"
   },
   {
    "duration": 6,
    "start_time": "2023-10-06T21:49:09.858Z"
   },
   {
    "duration": 13,
    "start_time": "2023-10-06T21:49:48.978Z"
   },
   {
    "duration": 11,
    "start_time": "2023-10-06T21:50:21.677Z"
   },
   {
    "duration": 11,
    "start_time": "2023-10-06T21:50:37.848Z"
   },
   {
    "duration": 15,
    "start_time": "2023-10-06T21:50:56.445Z"
   },
   {
    "duration": 9,
    "start_time": "2023-10-06T21:51:03.863Z"
   },
   {
    "duration": 12,
    "start_time": "2023-10-06T21:51:10.663Z"
   },
   {
    "duration": 10,
    "start_time": "2023-10-06T21:51:16.596Z"
   },
   {
    "duration": 7,
    "start_time": "2023-10-06T21:52:05.613Z"
   },
   {
    "duration": 7,
    "start_time": "2023-10-06T21:52:17.133Z"
   },
   {
    "duration": 15,
    "start_time": "2023-10-06T21:52:24.017Z"
   },
   {
    "duration": 23,
    "start_time": "2023-10-06T21:55:17.177Z"
   },
   {
    "duration": 17,
    "start_time": "2023-10-06T22:04:37.761Z"
   },
   {
    "duration": 22,
    "start_time": "2023-10-06T22:05:05.526Z"
   },
   {
    "duration": 22,
    "start_time": "2023-10-06T22:12:39.434Z"
   },
   {
    "duration": 1393,
    "start_time": "2023-10-06T22:19:54.214Z"
   },
   {
    "duration": 9,
    "start_time": "2023-10-06T22:21:47.198Z"
   },
   {
    "duration": 9,
    "start_time": "2023-10-06T22:22:20.233Z"
   },
   {
    "duration": 3,
    "start_time": "2023-10-06T22:22:30.664Z"
   },
   {
    "duration": 87,
    "start_time": "2023-10-06T22:22:30.669Z"
   },
   {
    "duration": 11,
    "start_time": "2023-10-06T22:22:30.758Z"
   },
   {
    "duration": 69,
    "start_time": "2023-10-06T22:22:30.771Z"
   },
   {
    "duration": 38,
    "start_time": "2023-10-06T22:22:30.843Z"
   },
   {
    "duration": 58,
    "start_time": "2023-10-06T22:22:30.883Z"
   },
   {
    "duration": 31,
    "start_time": "2023-10-06T22:22:30.943Z"
   },
   {
    "duration": 65,
    "start_time": "2023-10-06T22:22:30.976Z"
   },
   {
    "duration": 41,
    "start_time": "2023-10-06T22:22:31.043Z"
   },
   {
    "duration": 83,
    "start_time": "2023-10-06T22:22:31.086Z"
   },
   {
    "duration": 43,
    "start_time": "2023-10-06T22:22:31.171Z"
   },
   {
    "duration": 66,
    "start_time": "2023-10-06T22:22:31.216Z"
   },
   {
    "duration": 59,
    "start_time": "2023-10-06T22:22:31.284Z"
   },
   {
    "duration": 41,
    "start_time": "2023-10-06T22:22:31.346Z"
   },
   {
    "duration": 39,
    "start_time": "2023-10-06T22:22:31.389Z"
   },
   {
    "duration": 11,
    "start_time": "2023-10-06T22:22:34.172Z"
   },
   {
    "duration": 8,
    "start_time": "2023-10-06T22:23:45.888Z"
   },
   {
    "duration": 8,
    "start_time": "2023-10-06T22:25:36.093Z"
   },
   {
    "duration": 8,
    "start_time": "2023-10-06T22:25:42.028Z"
   },
   {
    "duration": 11,
    "start_time": "2023-10-06T22:25:49.043Z"
   },
   {
    "duration": 11,
    "start_time": "2023-10-06T22:25:56.144Z"
   },
   {
    "duration": 8,
    "start_time": "2023-10-06T22:26:09.712Z"
   },
   {
    "duration": 8,
    "start_time": "2023-10-06T22:27:20.955Z"
   },
   {
    "duration": 8,
    "start_time": "2023-10-06T22:28:32.719Z"
   },
   {
    "duration": 9,
    "start_time": "2023-10-06T22:28:50.003Z"
   },
   {
    "duration": 4,
    "start_time": "2023-10-06T22:29:06.106Z"
   },
   {
    "duration": 4,
    "start_time": "2023-10-06T22:29:55.854Z"
   },
   {
    "duration": 51,
    "start_time": "2023-10-06T22:29:55.860Z"
   },
   {
    "duration": 11,
    "start_time": "2023-10-06T22:29:55.913Z"
   },
   {
    "duration": 23,
    "start_time": "2023-10-06T22:29:55.926Z"
   },
   {
    "duration": 16,
    "start_time": "2023-10-06T22:29:55.950Z"
   },
   {
    "duration": 27,
    "start_time": "2023-10-06T22:29:55.967Z"
   },
   {
    "duration": 14,
    "start_time": "2023-10-06T22:29:55.997Z"
   },
   {
    "duration": 32,
    "start_time": "2023-10-06T22:29:56.013Z"
   },
   {
    "duration": 12,
    "start_time": "2023-10-06T22:29:56.046Z"
   },
   {
    "duration": 20,
    "start_time": "2023-10-06T22:29:56.061Z"
   },
   {
    "duration": 10,
    "start_time": "2023-10-06T22:29:56.083Z"
   },
   {
    "duration": 8,
    "start_time": "2023-10-06T22:29:56.094Z"
   },
   {
    "duration": 7,
    "start_time": "2023-10-06T22:29:56.104Z"
   },
   {
    "duration": 11,
    "start_time": "2023-10-06T22:29:56.112Z"
   },
   {
    "duration": 5,
    "start_time": "2023-10-06T22:29:59.213Z"
   },
   {
    "duration": 16,
    "start_time": "2023-10-06T22:30:06.175Z"
   },
   {
    "duration": 10,
    "start_time": "2023-10-06T22:31:39.414Z"
   },
   {
    "duration": 11,
    "start_time": "2023-10-06T22:32:41.767Z"
   },
   {
    "duration": 4,
    "start_time": "2023-10-06T22:32:48.282Z"
   },
   {
    "duration": 68,
    "start_time": "2023-10-06T22:32:48.288Z"
   },
   {
    "duration": 11,
    "start_time": "2023-10-06T22:32:48.358Z"
   },
   {
    "duration": 46,
    "start_time": "2023-10-06T22:32:48.371Z"
   },
   {
    "duration": 37,
    "start_time": "2023-10-06T22:32:48.419Z"
   },
   {
    "duration": 34,
    "start_time": "2023-10-06T22:32:48.458Z"
   },
   {
    "duration": 14,
    "start_time": "2023-10-06T22:32:48.493Z"
   },
   {
    "duration": 16,
    "start_time": "2023-10-06T22:32:50.502Z"
   },
   {
    "duration": 18,
    "start_time": "2023-10-06T22:37:01.258Z"
   },
   {
    "duration": 28,
    "start_time": "2023-10-06T22:38:28.486Z"
   },
   {
    "duration": 26,
    "start_time": "2023-10-06T22:39:00.458Z"
   },
   {
    "duration": 1352,
    "start_time": "2023-10-06T22:39:08.921Z"
   },
   {
    "duration": 3,
    "start_time": "2023-10-06T22:39:18.959Z"
   },
   {
    "duration": 55,
    "start_time": "2023-10-06T22:39:18.964Z"
   },
   {
    "duration": 12,
    "start_time": "2023-10-06T22:39:19.021Z"
   },
   {
    "duration": 37,
    "start_time": "2023-10-06T22:39:19.035Z"
   },
   {
    "duration": 15,
    "start_time": "2023-10-06T22:39:19.074Z"
   },
   {
    "duration": 28,
    "start_time": "2023-10-06T22:39:19.091Z"
   },
   {
    "duration": 42,
    "start_time": "2023-10-06T22:39:19.121Z"
   },
   {
    "duration": 14,
    "start_time": "2023-10-06T22:39:19.164Z"
   },
   {
    "duration": 2,
    "start_time": "2023-10-06T22:39:19.180Z"
   },
   {
    "duration": 13,
    "start_time": "2023-10-06T22:39:19.183Z"
   },
   {
    "duration": 10,
    "start_time": "2023-10-06T22:39:19.198Z"
   },
   {
    "duration": 7,
    "start_time": "2023-10-06T22:39:19.209Z"
   },
   {
    "duration": 39,
    "start_time": "2023-10-06T22:39:19.217Z"
   },
   {
    "duration": 5,
    "start_time": "2023-10-06T22:39:19.259Z"
   },
   {
    "duration": 17,
    "start_time": "2023-10-06T22:39:22.438Z"
   },
   {
    "duration": 23,
    "start_time": "2023-10-06T22:39:24.444Z"
   },
   {
    "duration": 22,
    "start_time": "2023-10-06T22:41:30.450Z"
   },
   {
    "duration": 13,
    "start_time": "2023-10-06T22:42:57.870Z"
   },
   {
    "duration": 424,
    "start_time": "2023-10-06T22:43:04.169Z"
   },
   {
    "duration": 398,
    "start_time": "2023-10-06T22:43:10.869Z"
   },
   {
    "duration": 16,
    "start_time": "2023-10-06T22:43:18.985Z"
   },
   {
    "duration": 15,
    "start_time": "2023-10-06T22:43:46.704Z"
   },
   {
    "duration": 97,
    "start_time": "2023-10-06T22:44:34.723Z"
   },
   {
    "duration": 20,
    "start_time": "2023-10-06T22:45:08.443Z"
   },
   {
    "duration": 4,
    "start_time": "2023-10-06T22:45:39.577Z"
   },
   {
    "duration": 16,
    "start_time": "2023-10-06T22:45:40.313Z"
   },
   {
    "duration": 4,
    "start_time": "2023-10-06T22:46:36.593Z"
   },
   {
    "duration": 80,
    "start_time": "2023-10-06T22:46:36.599Z"
   },
   {
    "duration": 9,
    "start_time": "2023-10-06T22:46:36.681Z"
   },
   {
    "duration": 41,
    "start_time": "2023-10-06T22:46:36.692Z"
   },
   {
    "duration": 20,
    "start_time": "2023-10-06T22:46:36.735Z"
   },
   {
    "duration": 34,
    "start_time": "2023-10-06T22:46:36.758Z"
   },
   {
    "duration": 20,
    "start_time": "2023-10-06T22:46:36.793Z"
   },
   {
    "duration": 23,
    "start_time": "2023-10-06T22:46:36.815Z"
   },
   {
    "duration": 23,
    "start_time": "2023-10-06T22:46:36.841Z"
   },
   {
    "duration": 24,
    "start_time": "2023-10-06T22:46:36.866Z"
   },
   {
    "duration": 31,
    "start_time": "2023-10-06T22:46:36.892Z"
   },
   {
    "duration": 27,
    "start_time": "2023-10-06T22:46:36.925Z"
   },
   {
    "duration": 32,
    "start_time": "2023-10-06T22:46:36.954Z"
   },
   {
    "duration": 28,
    "start_time": "2023-10-06T22:46:36.988Z"
   },
   {
    "duration": 38,
    "start_time": "2023-10-06T22:46:37.018Z"
   },
   {
    "duration": 51,
    "start_time": "2023-10-06T22:46:37.058Z"
   },
   {
    "duration": 20,
    "start_time": "2023-10-06T22:46:37.111Z"
   },
   {
    "duration": 13,
    "start_time": "2023-10-06T22:47:34.432Z"
   },
   {
    "duration": 3,
    "start_time": "2023-10-06T22:47:47.395Z"
   },
   {
    "duration": 78,
    "start_time": "2023-10-06T22:47:47.401Z"
   },
   {
    "duration": 10,
    "start_time": "2023-10-06T22:47:47.481Z"
   },
   {
    "duration": 37,
    "start_time": "2023-10-06T22:47:47.492Z"
   },
   {
    "duration": 39,
    "start_time": "2023-10-06T22:47:47.531Z"
   },
   {
    "duration": 42,
    "start_time": "2023-10-06T22:47:47.571Z"
   },
   {
    "duration": 13,
    "start_time": "2023-10-06T22:47:47.615Z"
   },
   {
    "duration": 29,
    "start_time": "2023-10-06T22:47:47.629Z"
   },
   {
    "duration": 4,
    "start_time": "2023-10-06T22:47:47.659Z"
   },
   {
    "duration": 13,
    "start_time": "2023-10-06T22:47:47.664Z"
   },
   {
    "duration": 13,
    "start_time": "2023-10-06T22:47:47.679Z"
   },
   {
    "duration": 9,
    "start_time": "2023-10-06T22:47:47.693Z"
   },
   {
    "duration": 7,
    "start_time": "2023-10-06T22:47:47.703Z"
   },
   {
    "duration": 12,
    "start_time": "2023-10-06T22:47:47.711Z"
   },
   {
    "duration": 23,
    "start_time": "2023-10-06T22:47:47.725Z"
   },
   {
    "duration": 21,
    "start_time": "2023-10-06T22:47:47.750Z"
   },
   {
    "duration": 13,
    "start_time": "2023-10-06T22:47:51.817Z"
   },
   {
    "duration": 4,
    "start_time": "2023-10-06T22:48:10.656Z"
   },
   {
    "duration": 25,
    "start_time": "2023-10-06T22:51:56.429Z"
   },
   {
    "duration": 24,
    "start_time": "2023-10-06T22:52:02.095Z"
   },
   {
    "duration": 21,
    "start_time": "2023-10-06T22:53:18.200Z"
   },
   {
    "duration": 5,
    "start_time": "2023-10-06T22:58:03.571Z"
   },
   {
    "duration": 57,
    "start_time": "2023-10-06T22:58:04.156Z"
   },
   {
    "duration": 11,
    "start_time": "2023-10-06T22:58:04.720Z"
   },
   {
    "duration": 25,
    "start_time": "2023-10-06T22:58:05.359Z"
   },
   {
    "duration": 15,
    "start_time": "2023-10-06T22:58:06.203Z"
   },
   {
    "duration": 29,
    "start_time": "2023-10-06T22:58:07.859Z"
   },
   {
    "duration": 14,
    "start_time": "2023-10-06T22:58:08.570Z"
   },
   {
    "duration": 14,
    "start_time": "2023-10-06T22:58:11.803Z"
   },
   {
    "duration": 3,
    "start_time": "2023-10-06T22:58:16.520Z"
   },
   {
    "duration": 12,
    "start_time": "2023-10-06T22:58:18.421Z"
   },
   {
    "duration": 9,
    "start_time": "2023-10-06T22:58:20.086Z"
   },
   {
    "duration": 8,
    "start_time": "2023-10-06T22:58:21.320Z"
   },
   {
    "duration": 8,
    "start_time": "2023-10-06T22:58:22.636Z"
   },
   {
    "duration": 4,
    "start_time": "2023-10-06T22:58:23.836Z"
   },
   {
    "duration": 4,
    "start_time": "2023-10-06T22:58:26.020Z"
   },
   {
    "duration": 15,
    "start_time": "2023-10-06T22:58:26.571Z"
   },
   {
    "duration": 21,
    "start_time": "2023-10-06T22:58:28.670Z"
   },
   {
    "duration": 6,
    "start_time": "2023-10-06T22:58:31.070Z"
   },
   {
    "duration": 13,
    "start_time": "2023-10-06T22:58:32.804Z"
   },
   {
    "duration": 76,
    "start_time": "2023-10-06T22:58:36.757Z"
   },
   {
    "duration": 158,
    "start_time": "2023-10-06T22:58:45.859Z"
   },
   {
    "duration": 10,
    "start_time": "2023-10-06T22:58:49.438Z"
   },
   {
    "duration": 65,
    "start_time": "2023-10-06T22:58:52.439Z"
   },
   {
    "duration": 206,
    "start_time": "2023-10-06T22:58:54.505Z"
   },
   {
    "duration": 26,
    "start_time": "2023-10-06T22:58:58.409Z"
   },
   {
    "duration": 4,
    "start_time": "2023-10-06T22:59:02.621Z"
   },
   {
    "duration": 18,
    "start_time": "2023-10-06T22:59:05.521Z"
   },
   {
    "duration": 402,
    "start_time": "2023-10-06T22:59:08.640Z"
   },
   {
    "duration": 292,
    "start_time": "2023-10-06T22:59:18.389Z"
   },
   {
    "duration": 288,
    "start_time": "2023-10-06T22:59:21.055Z"
   },
   {
    "duration": 14,
    "start_time": "2023-10-06T22:59:25.356Z"
   },
   {
    "duration": 26,
    "start_time": "2023-10-06T22:59:26.241Z"
   },
   {
    "duration": 1397,
    "start_time": "2023-10-06T22:59:32.425Z"
   },
   {
    "duration": 3,
    "start_time": "2023-10-06T22:59:36.273Z"
   },
   {
    "duration": 30,
    "start_time": "2023-10-06T22:59:38.407Z"
   },
   {
    "duration": 215,
    "start_time": "2023-10-06T22:59:42.059Z"
   },
   {
    "duration": 211,
    "start_time": "2023-10-06T22:59:44.222Z"
   },
   {
    "duration": 4,
    "start_time": "2023-10-06T22:59:48.325Z"
   },
   {
    "duration": 27,
    "start_time": "2023-10-06T22:59:48.891Z"
   },
   {
    "duration": 23,
    "start_time": "2023-10-06T22:59:50.542Z"
   },
   {
    "duration": 23,
    "start_time": "2023-10-06T22:59:51.642Z"
   },
   {
    "duration": 22,
    "start_time": "2023-10-06T22:59:52.939Z"
   },
   {
    "duration": 227,
    "start_time": "2023-10-06T22:59:55.357Z"
   },
   {
    "duration": 42,
    "start_time": "2023-10-06T23:00:02.943Z"
   },
   {
    "duration": 3,
    "start_time": "2023-10-06T23:00:04.727Z"
   },
   {
    "duration": 272,
    "start_time": "2023-10-06T23:00:07.357Z"
   },
   {
    "duration": 202,
    "start_time": "2023-10-06T23:00:18.994Z"
   },
   {
    "duration": 9,
    "start_time": "2023-10-06T23:02:15.854Z"
   },
   {
    "duration": 205,
    "start_time": "2023-10-06T23:03:43.651Z"
   },
   {
    "duration": 191,
    "start_time": "2023-10-06T23:08:13.434Z"
   },
   {
    "duration": 197,
    "start_time": "2023-10-06T23:08:46.483Z"
   },
   {
    "duration": 206,
    "start_time": "2023-10-06T23:09:18.557Z"
   },
   {
    "duration": 190,
    "start_time": "2023-10-06T23:09:42.803Z"
   },
   {
    "duration": 205,
    "start_time": "2023-10-06T23:10:15.450Z"
   },
   {
    "duration": 319,
    "start_time": "2023-10-06T23:10:32.560Z"
   },
   {
    "duration": 189,
    "start_time": "2023-10-06T23:12:17.694Z"
   },
   {
    "duration": 15,
    "start_time": "2023-10-06T23:13:09.154Z"
   },
   {
    "duration": 15,
    "start_time": "2023-10-06T23:14:44.368Z"
   },
   {
    "duration": 3,
    "start_time": "2023-10-06T23:15:16.671Z"
   },
   {
    "duration": 138,
    "start_time": "2023-10-06T23:15:23.437Z"
   },
   {
    "duration": 16,
    "start_time": "2023-10-06T23:15:30.374Z"
   },
   {
    "duration": 1177,
    "start_time": "2023-10-06T23:23:06.087Z"
   },
   {
    "duration": 56,
    "start_time": "2023-10-06T23:23:07.266Z"
   },
   {
    "duration": 14,
    "start_time": "2023-10-06T23:23:07.323Z"
   },
   {
    "duration": 33,
    "start_time": "2023-10-06T23:23:07.339Z"
   },
   {
    "duration": 14,
    "start_time": "2023-10-06T23:23:07.374Z"
   },
   {
    "duration": 28,
    "start_time": "2023-10-06T23:23:07.390Z"
   },
   {
    "duration": 36,
    "start_time": "2023-10-06T23:23:07.420Z"
   },
   {
    "duration": 15,
    "start_time": "2023-10-06T23:23:07.459Z"
   },
   {
    "duration": 3,
    "start_time": "2023-10-06T23:23:07.476Z"
   },
   {
    "duration": 24,
    "start_time": "2023-10-06T23:23:07.481Z"
   },
   {
    "duration": 9,
    "start_time": "2023-10-06T23:23:07.507Z"
   },
   {
    "duration": 8,
    "start_time": "2023-10-06T23:23:07.517Z"
   },
   {
    "duration": 29,
    "start_time": "2023-10-06T23:23:07.527Z"
   },
   {
    "duration": 6,
    "start_time": "2023-10-06T23:23:07.561Z"
   },
   {
    "duration": 10,
    "start_time": "2023-10-06T23:23:07.568Z"
   },
   {
    "duration": 24,
    "start_time": "2023-10-06T23:23:07.579Z"
   },
   {
    "duration": 20,
    "start_time": "2023-10-06T23:23:07.604Z"
   },
   {
    "duration": 5,
    "start_time": "2023-10-06T23:23:07.625Z"
   },
   {
    "duration": 26,
    "start_time": "2023-10-06T23:23:07.632Z"
   },
   {
    "duration": 97,
    "start_time": "2023-10-06T23:23:07.660Z"
   },
   {
    "duration": 172,
    "start_time": "2023-10-06T23:23:07.758Z"
   },
   {
    "duration": 23,
    "start_time": "2023-10-06T23:23:07.931Z"
   },
   {
    "duration": 58,
    "start_time": "2023-10-06T23:23:07.956Z"
   },
   {
    "duration": 214,
    "start_time": "2023-10-06T23:23:08.016Z"
   },
   {
    "duration": 35,
    "start_time": "2023-10-06T23:23:08.232Z"
   },
   {
    "duration": 3,
    "start_time": "2023-10-06T23:23:08.268Z"
   },
   {
    "duration": 17,
    "start_time": "2023-10-06T23:23:08.273Z"
   },
   {
    "duration": 431,
    "start_time": "2023-10-06T23:23:08.291Z"
   },
   {
    "duration": 273,
    "start_time": "2023-10-06T23:23:08.724Z"
   },
   {
    "duration": 294,
    "start_time": "2023-10-06T23:23:08.999Z"
   },
   {
    "duration": 13,
    "start_time": "2023-10-06T23:23:09.295Z"
   },
   {
    "duration": 18,
    "start_time": "2023-10-06T23:23:09.309Z"
   },
   {
    "duration": 1432,
    "start_time": "2023-10-06T23:23:09.328Z"
   },
   {
    "duration": 2,
    "start_time": "2023-10-06T23:23:10.762Z"
   },
   {
    "duration": 28,
    "start_time": "2023-10-06T23:23:10.766Z"
   },
   {
    "duration": 224,
    "start_time": "2023-10-06T23:23:10.796Z"
   },
   {
    "duration": 242,
    "start_time": "2023-10-06T23:23:11.022Z"
   },
   {
    "duration": 4,
    "start_time": "2023-10-06T23:23:11.266Z"
   },
   {
    "duration": 33,
    "start_time": "2023-10-06T23:23:11.272Z"
   },
   {
    "duration": 14,
    "start_time": "2023-10-06T23:23:11.307Z"
   },
   {
    "duration": 34,
    "start_time": "2023-10-06T23:23:11.324Z"
   },
   {
    "duration": 17,
    "start_time": "2023-10-06T23:23:11.360Z"
   },
   {
    "duration": 246,
    "start_time": "2023-10-06T23:23:11.378Z"
   },
   {
    "duration": 42,
    "start_time": "2023-10-06T23:23:11.625Z"
   },
   {
    "duration": 2,
    "start_time": "2023-10-06T23:23:11.669Z"
   },
   {
    "duration": 305,
    "start_time": "2023-10-06T23:23:11.673Z"
   },
   {
    "duration": 195,
    "start_time": "2023-10-06T23:23:11.979Z"
   },
   {
    "duration": 13,
    "start_time": "2023-10-06T23:23:12.176Z"
   },
   {
    "duration": 9,
    "start_time": "2023-10-06T23:23:12.190Z"
   },
   {
    "duration": 26,
    "start_time": "2023-10-06T23:23:12.200Z"
   },
   {
    "duration": 5,
    "start_time": "2023-10-06T23:23:12.228Z"
   },
   {
    "duration": 21,
    "start_time": "2023-10-06T23:23:12.235Z"
   },
   {
    "duration": 11,
    "start_time": "2023-10-06T23:23:12.258Z"
   },
   {
    "duration": 32,
    "start_time": "2023-10-06T23:23:12.271Z"
   },
   {
    "duration": 13,
    "start_time": "2023-10-06T23:23:12.305Z"
   },
   {
    "duration": 7,
    "start_time": "2023-10-06T23:23:12.321Z"
   },
   {
    "duration": 7,
    "start_time": "2023-10-06T23:23:12.330Z"
   },
   {
    "duration": 1337,
    "start_time": "2023-10-07T16:55:33.147Z"
   },
   {
    "duration": 59,
    "start_time": "2023-10-07T16:55:34.486Z"
   },
   {
    "duration": 20,
    "start_time": "2023-10-07T16:55:34.546Z"
   },
   {
    "duration": 31,
    "start_time": "2023-10-07T16:55:34.569Z"
   },
   {
    "duration": 17,
    "start_time": "2023-10-07T16:55:34.601Z"
   },
   {
    "duration": 72,
    "start_time": "2023-10-07T16:55:34.619Z"
   },
   {
    "duration": 15,
    "start_time": "2023-10-07T16:55:34.694Z"
   },
   {
    "duration": 18,
    "start_time": "2023-10-07T16:55:34.711Z"
   },
   {
    "duration": 25,
    "start_time": "2023-10-07T16:55:34.730Z"
   },
   {
    "duration": 24,
    "start_time": "2023-10-07T16:55:34.765Z"
   },
   {
    "duration": 28,
    "start_time": "2023-10-07T16:55:34.791Z"
   },
   {
    "duration": 12,
    "start_time": "2023-10-07T16:55:34.822Z"
   },
   {
    "duration": 40,
    "start_time": "2023-10-07T16:55:34.835Z"
   },
   {
    "duration": 13,
    "start_time": "2023-10-07T16:55:34.878Z"
   },
   {
    "duration": 23,
    "start_time": "2023-10-07T16:55:34.893Z"
   },
   {
    "duration": 37,
    "start_time": "2023-10-07T16:55:34.918Z"
   },
   {
    "duration": 38,
    "start_time": "2023-10-07T16:55:34.957Z"
   },
   {
    "duration": 7,
    "start_time": "2023-10-07T16:55:34.997Z"
   },
   {
    "duration": 73,
    "start_time": "2023-10-07T16:55:35.005Z"
   },
   {
    "duration": 98,
    "start_time": "2023-10-07T16:55:35.080Z"
   },
   {
    "duration": 227,
    "start_time": "2023-10-07T16:55:35.180Z"
   },
   {
    "duration": 9,
    "start_time": "2023-10-07T16:55:35.410Z"
   },
   {
    "duration": 109,
    "start_time": "2023-10-07T16:55:35.421Z"
   },
   {
    "duration": 299,
    "start_time": "2023-10-07T16:55:35.532Z"
   },
   {
    "duration": 44,
    "start_time": "2023-10-07T16:55:35.833Z"
   },
   {
    "duration": 8,
    "start_time": "2023-10-07T16:55:35.880Z"
   },
   {
    "duration": 64,
    "start_time": "2023-10-07T16:55:35.891Z"
   },
   {
    "duration": 467,
    "start_time": "2023-10-07T16:55:35.960Z"
   },
   {
    "duration": 347,
    "start_time": "2023-10-07T16:55:36.429Z"
   },
   {
    "duration": 346,
    "start_time": "2023-10-07T16:55:36.780Z"
   },
   {
    "duration": 30,
    "start_time": "2023-10-07T16:55:37.128Z"
   },
   {
    "duration": 21,
    "start_time": "2023-10-07T16:55:37.160Z"
   },
   {
    "duration": 1800,
    "start_time": "2023-10-07T16:55:37.183Z"
   },
   {
    "duration": 3,
    "start_time": "2023-10-07T16:55:38.985Z"
   },
   {
    "duration": 36,
    "start_time": "2023-10-07T16:55:38.990Z"
   },
   {
    "duration": 311,
    "start_time": "2023-10-07T16:55:39.028Z"
   },
   {
    "duration": 275,
    "start_time": "2023-10-07T16:55:39.341Z"
   },
   {
    "duration": 5,
    "start_time": "2023-10-07T16:55:39.618Z"
   },
   {
    "duration": 52,
    "start_time": "2023-10-07T16:55:39.624Z"
   },
   {
    "duration": 18,
    "start_time": "2023-10-07T16:55:39.677Z"
   },
   {
    "duration": 17,
    "start_time": "2023-10-07T16:55:39.697Z"
   },
   {
    "duration": 50,
    "start_time": "2023-10-07T16:55:39.716Z"
   },
   {
    "duration": 293,
    "start_time": "2023-10-07T16:55:39.768Z"
   },
   {
    "duration": 37,
    "start_time": "2023-10-07T16:55:40.063Z"
   },
   {
    "duration": 3,
    "start_time": "2023-10-07T16:55:40.102Z"
   },
   {
    "duration": 377,
    "start_time": "2023-10-07T16:55:40.106Z"
   },
   {
    "duration": 242,
    "start_time": "2023-10-07T16:55:40.484Z"
   },
   {
    "duration": 30,
    "start_time": "2023-10-07T16:55:40.728Z"
   },
   {
    "duration": 22,
    "start_time": "2023-10-07T16:55:40.759Z"
   },
   {
    "duration": 22,
    "start_time": "2023-10-07T16:55:40.783Z"
   },
   {
    "duration": 26,
    "start_time": "2023-10-07T16:55:40.806Z"
   },
   {
    "duration": 22,
    "start_time": "2023-10-07T16:55:40.834Z"
   },
   {
    "duration": 19,
    "start_time": "2023-10-07T16:55:40.863Z"
   },
   {
    "duration": 33,
    "start_time": "2023-10-07T16:55:40.884Z"
   },
   {
    "duration": 6,
    "start_time": "2023-10-07T16:55:40.919Z"
   },
   {
    "duration": 18,
    "start_time": "2023-10-07T16:55:40.927Z"
   },
   {
    "duration": 27,
    "start_time": "2023-10-07T16:55:40.951Z"
   },
   {
    "duration": 1090,
    "start_time": "2023-12-10T19:25:32.953Z"
   },
   {
    "duration": 93,
    "start_time": "2023-12-10T19:25:34.045Z"
   },
   {
    "duration": 13,
    "start_time": "2023-12-10T19:25:34.139Z"
   },
   {
    "duration": 18,
    "start_time": "2023-12-10T19:25:34.153Z"
   },
   {
    "duration": 12,
    "start_time": "2023-12-10T19:25:34.172Z"
   },
   {
    "duration": 26,
    "start_time": "2023-12-10T19:25:34.185Z"
   },
   {
    "duration": 13,
    "start_time": "2023-12-10T19:25:34.212Z"
   },
   {
    "duration": 11,
    "start_time": "2023-12-10T19:25:34.226Z"
   },
   {
    "duration": 3,
    "start_time": "2023-12-10T19:25:34.238Z"
   },
   {
    "duration": 31,
    "start_time": "2023-12-10T19:25:34.242Z"
   },
   {
    "duration": 7,
    "start_time": "2023-12-10T19:25:34.275Z"
   },
   {
    "duration": 5,
    "start_time": "2023-12-10T19:25:34.284Z"
   },
   {
    "duration": 8,
    "start_time": "2023-12-10T19:25:34.291Z"
   },
   {
    "duration": 4,
    "start_time": "2023-12-10T19:25:34.302Z"
   },
   {
    "duration": 6,
    "start_time": "2023-12-10T19:25:34.307Z"
   },
   {
    "duration": 22,
    "start_time": "2023-12-10T19:25:34.314Z"
   },
   {
    "duration": 33,
    "start_time": "2023-12-10T19:25:34.337Z"
   },
   {
    "duration": 5,
    "start_time": "2023-12-10T19:25:34.371Z"
   },
   {
    "duration": 12,
    "start_time": "2023-12-10T19:25:34.377Z"
   },
   {
    "duration": 81,
    "start_time": "2023-12-10T19:25:34.390Z"
   },
   {
    "duration": 162,
    "start_time": "2023-12-10T19:25:34.472Z"
   },
   {
    "duration": 6,
    "start_time": "2023-12-10T19:25:34.636Z"
   },
   {
    "duration": 73,
    "start_time": "2023-12-10T19:25:34.643Z"
   },
   {
    "duration": 199,
    "start_time": "2023-12-10T19:25:34.718Z"
   },
   {
    "duration": 23,
    "start_time": "2023-12-10T19:25:34.918Z"
   },
   {
    "duration": 10,
    "start_time": "2023-12-10T19:25:34.942Z"
   },
   {
    "duration": 21,
    "start_time": "2023-12-10T19:25:34.953Z"
   },
   {
    "duration": 357,
    "start_time": "2023-12-10T19:25:34.976Z"
   },
   {
    "duration": 261,
    "start_time": "2023-12-10T19:25:35.334Z"
   },
   {
    "duration": 258,
    "start_time": "2023-12-10T19:25:35.597Z"
   },
   {
    "duration": 19,
    "start_time": "2023-12-10T19:25:35.857Z"
   },
   {
    "duration": 28,
    "start_time": "2023-12-10T19:25:35.877Z"
   },
   {
    "duration": 1236,
    "start_time": "2023-12-10T19:25:35.906Z"
   },
   {
    "duration": 2,
    "start_time": "2023-12-10T19:25:37.144Z"
   },
   {
    "duration": 53,
    "start_time": "2023-12-10T19:25:37.148Z"
   },
   {
    "duration": 207,
    "start_time": "2023-12-10T19:25:37.202Z"
   },
   {
    "duration": 195,
    "start_time": "2023-12-10T19:25:37.411Z"
   },
   {
    "duration": 4,
    "start_time": "2023-12-10T19:25:37.608Z"
   },
   {
    "duration": 35,
    "start_time": "2023-12-10T19:25:37.613Z"
   },
   {
    "duration": 18,
    "start_time": "2023-12-10T19:25:37.651Z"
   },
   {
    "duration": 14,
    "start_time": "2023-12-10T19:25:37.673Z"
   },
   {
    "duration": 12,
    "start_time": "2023-12-10T19:25:37.689Z"
   },
   {
    "duration": 200,
    "start_time": "2023-12-10T19:25:41.465Z"
   },
   {
    "duration": 11,
    "start_time": "2023-12-10T19:25:55.661Z"
   },
   {
    "duration": 1285,
    "start_time": "2024-01-07T21:07:02.177Z"
   },
   {
    "duration": 97,
    "start_time": "2024-01-07T21:07:03.464Z"
   },
   {
    "duration": 14,
    "start_time": "2024-01-07T21:07:03.562Z"
   },
   {
    "duration": 66,
    "start_time": "2024-01-07T21:07:03.578Z"
   },
   {
    "duration": 15,
    "start_time": "2024-01-07T21:07:03.646Z"
   },
   {
    "duration": 26,
    "start_time": "2024-01-07T21:07:03.663Z"
   },
   {
    "duration": 14,
    "start_time": "2024-01-07T21:07:03.691Z"
   },
   {
    "duration": 14,
    "start_time": "2024-01-07T21:07:03.706Z"
   },
   {
    "duration": 2,
    "start_time": "2024-01-07T21:07:03.746Z"
   },
   {
    "duration": 32,
    "start_time": "2024-01-07T21:07:03.751Z"
   },
   {
    "duration": 19,
    "start_time": "2024-01-07T21:07:03.784Z"
   },
   {
    "duration": 10,
    "start_time": "2024-01-07T21:07:03.805Z"
   },
   {
    "duration": 9,
    "start_time": "2024-01-07T21:07:03.816Z"
   },
   {
    "duration": 9,
    "start_time": "2024-01-07T21:07:03.827Z"
   },
   {
    "duration": 9,
    "start_time": "2024-01-07T21:07:03.838Z"
   },
   {
    "duration": 30,
    "start_time": "2024-01-07T21:07:03.848Z"
   },
   {
    "duration": 18,
    "start_time": "2024-01-07T21:07:03.879Z"
   },
   {
    "duration": 4,
    "start_time": "2024-01-07T21:07:03.899Z"
   },
   {
    "duration": 26,
    "start_time": "2024-01-07T21:07:03.905Z"
   },
   {
    "duration": 73,
    "start_time": "2024-01-07T21:07:03.932Z"
   },
   {
    "duration": 172,
    "start_time": "2024-01-07T21:07:04.007Z"
   },
   {
    "duration": 7,
    "start_time": "2024-01-07T21:07:04.181Z"
   },
   {
    "duration": 72,
    "start_time": "2024-01-07T21:07:04.190Z"
   },
   {
    "duration": 192,
    "start_time": "2024-01-07T21:07:09.225Z"
   },
   {
    "duration": 21,
    "start_time": "2024-01-07T21:07:12.215Z"
   }
  ],
  "kernelspec": {
   "display_name": "Python 3 (ipykernel)",
   "language": "python",
   "name": "python3"
  },
  "language_info": {
   "codemirror_mode": {
    "name": "ipython",
    "version": 3
   },
   "file_extension": ".py",
   "mimetype": "text/x-python",
   "name": "python",
   "nbconvert_exporter": "python",
   "pygments_lexer": "ipython3",
   "version": "3.9.5"
  },
  "toc": {
   "base_numbering": 1,
   "nav_menu": {},
   "number_sections": true,
   "sideBar": true,
   "skip_h1_title": true,
   "title_cell": "Содержание",
   "title_sidebar": "Содержание",
   "toc_cell": true,
   "toc_position": {
    "height": "calc(100% - 180px)",
    "left": "10px",
    "top": "150px",
    "width": "219.545px"
   },
   "toc_section_display": true,
   "toc_window_display": true
  }
 },
 "nbformat": 4,
 "nbformat_minor": 2
}
