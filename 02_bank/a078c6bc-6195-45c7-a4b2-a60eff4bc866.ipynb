{
 "cells": [
  {
   "cell_type": "markdown",
   "id": "5e0195d5",
   "metadata": {},
   "source": [
    "<div style=\"border:solid green 3px; padding: 20px\">\n",
    "<b>Привет Дмитрий! 👋</b>\n",
    "\n",
    "Меня зовут Александр Базилевич и я буду проверять твой проект. Предлагаю общаться на «ты» 🙂 Если это не удобно на ты - дай знать, и мы перейдем на \"вы\". Моя основная цель — не указать на совершенные тобою ошибки, а поделиться своим опытом и помочь тебе стать аналитиком данных\n",
    "\n",
    "Вижу выполнение всех заданий и наличие выводов. Все ключевые этапы в работе выполнены, так что в целом справиться с задачей тебе удалось. Есть ещё некоторые вопросы, которые требуют твоего внимания. Комментарии по ним помечены <font color='red'>красным цветом</font> ❌. После их доработки проект будет принят. Осталось совсем немного, буду ждать твою работу на повторное ревью 🙂\n",
    "\n",
    "Давай работать над проектом в диалоге: если ты <b>что-то меняешь</b> в проекте по моим рекомендациям — <b>пиши об этом</b>. Выбери для своих комментариев какой-то заметный цвет, так мне будет легче отследить изменения. Пожалуйста, <b>не перемещай, не изменяй и не удаляй мои комментарии</b>. Всё это поможет выполнить повторную проверку твоего проекта оперативнее\n",
    "\n",
    "Ты также можешь реагировать на мои комментарии своими, выделяя их цветами и наиболее понравившимся тебе способом оформления, но явно  отличающимся от моих комментариев. Это нужно, чтобы не создавалась путаница 😉\n",
    "\n",
    "<div class=\"alert alert-success\">\n",
    "<b>Комментарий ревьюера - все отлично! ✅</b>\n",
    "\n",
    "В случае, если решение на отдельном шаге является полностью правильным 👍 Так будут отмечены удачные и элегантные решения, на которые можно опираться в будущих проектах\n",
    "</div>\n",
    "\n",
    "<div class=\"alert alert-warning\">\n",
    "<b>Комментарий ревьюера - замечания и рекомендации ⚠️</b>\n",
    "\n",
    "В случае, когда решение на отдельном шаге станет еще лучше, если внести небольшие коррективы. Ты можешь учесть эти комментарии при выполнении будущих заданий или доработать проект сейчас (однако это не обязательно)\n",
    "</div>\n",
    "    \n",
    "<div class=\"alert alert-block alert-danger\">\n",
    "<b>Комментарий ревьюера - на доработку ❌</b>   \n",
    "\n",
    "В случае, когда решение на отдельном шаге требует существенной переработки и внесения правок. Напоминаю, что проект не может быть принят с первого раза, если ревью содержит комментарии, рекомендующие доработать шаги\n",
    "</div>\n",
    "    \n",
    "Увидев у тебя неточность, в первый раз я лишь укажу на ее наличие и дам тебе возможность найти и исправить ее. На реальной работе твой руководитель будет поступать также, и я пытаюсь подготовить тебя именно к работе аналитиком. Но если ты пока не справишься с такой задачей - при следующей проверке я дам более точную подсказку! 🤓\n",
    "</div>   "
   ]
  },
  {
   "cell_type": "markdown",
   "id": "386f2ae7",
   "metadata": {
    "deletable": false,
    "editable": false,
    "id": "386f2ae7"
   },
   "source": [
    "# Исследование надежности заемщиков\n"
   ]
  },
  {
   "cell_type": "markdown",
   "id": "ffe86f65",
   "metadata": {
    "deletable": false,
    "editable": false,
    "id": "ffe86f65"
   },
   "source": [
    "Во второй части проекта вы выполните шаги 3 и 4. Их вручную проверит ревьюер.\n",
    "Чтобы вам не пришлось писать код заново для шагов 1 и 2, мы добавили авторские решения в ячейки с кодом. \n",
    "\n"
   ]
  },
  {
   "cell_type": "markdown",
   "id": "26613308",
   "metadata": {
    "deletable": false,
    "editable": false,
    "id": "26613308"
   },
   "source": [
    "## Откройте таблицу и изучите общую информацию о данных"
   ]
  },
  {
   "cell_type": "markdown",
   "id": "3c9f838e",
   "metadata": {
    "deletable": false,
    "editable": false,
    "id": "3c9f838e"
   },
   "source": [
    "**Задание 1. Импортируйте библиотеку pandas. Считайте данные из csv-файла в датафрейм и сохраните в переменную `data`. Путь к файлу:**\n",
    "\n",
    "`/datasets/data.csv`"
   ]
  },
  {
   "cell_type": "code",
   "execution_count": 1,
   "id": "77a68a90",
   "metadata": {
    "deletable": false,
    "id": "77a68a90"
   },
   "outputs": [],
   "source": [
    "import pandas as pd\n",
    "\n",
    "try:\n",
    "    data = pd.read_csv('/datasets/data.csv')\n",
    "except:\n",
    "    data = pd.read_csv('https://code.s3.yandex.net/datasets/data.csv')"
   ]
  },
  {
   "cell_type": "markdown",
   "id": "45365635",
   "metadata": {
    "deletable": false,
    "editable": false,
    "id": "45365635"
   },
   "source": [
    "**Задание 2. Выведите первые 20 строчек датафрейма `data` на экран.**"
   ]
  },
  {
   "cell_type": "code",
   "execution_count": 2,
   "id": "b0451a9a",
   "metadata": {
    "deletable": false,
    "id": "b0451a9a",
    "outputId": "1a8f3ef2-d323-4ec2-ddf7-89670b5944c4"
   },
   "outputs": [
    {
     "data": {
      "text/html": [
       "<div>\n",
       "<style scoped>\n",
       "    .dataframe tbody tr th:only-of-type {\n",
       "        vertical-align: middle;\n",
       "    }\n",
       "\n",
       "    .dataframe tbody tr th {\n",
       "        vertical-align: top;\n",
       "    }\n",
       "\n",
       "    .dataframe thead th {\n",
       "        text-align: right;\n",
       "    }\n",
       "</style>\n",
       "<table border=\"1\" class=\"dataframe\">\n",
       "  <thead>\n",
       "    <tr style=\"text-align: right;\">\n",
       "      <th></th>\n",
       "      <th>children</th>\n",
       "      <th>days_employed</th>\n",
       "      <th>dob_years</th>\n",
       "      <th>education</th>\n",
       "      <th>education_id</th>\n",
       "      <th>family_status</th>\n",
       "      <th>family_status_id</th>\n",
       "      <th>gender</th>\n",
       "      <th>income_type</th>\n",
       "      <th>debt</th>\n",
       "      <th>total_income</th>\n",
       "      <th>purpose</th>\n",
       "    </tr>\n",
       "  </thead>\n",
       "  <tbody>\n",
       "    <tr>\n",
       "      <th>0</th>\n",
       "      <td>1</td>\n",
       "      <td>-8437.673028</td>\n",
       "      <td>42</td>\n",
       "      <td>высшее</td>\n",
       "      <td>0</td>\n",
       "      <td>женат / замужем</td>\n",
       "      <td>0</td>\n",
       "      <td>F</td>\n",
       "      <td>сотрудник</td>\n",
       "      <td>0</td>\n",
       "      <td>253875.639453</td>\n",
       "      <td>покупка жилья</td>\n",
       "    </tr>\n",
       "    <tr>\n",
       "      <th>1</th>\n",
       "      <td>1</td>\n",
       "      <td>-4024.803754</td>\n",
       "      <td>36</td>\n",
       "      <td>среднее</td>\n",
       "      <td>1</td>\n",
       "      <td>женат / замужем</td>\n",
       "      <td>0</td>\n",
       "      <td>F</td>\n",
       "      <td>сотрудник</td>\n",
       "      <td>0</td>\n",
       "      <td>112080.014102</td>\n",
       "      <td>приобретение автомобиля</td>\n",
       "    </tr>\n",
       "    <tr>\n",
       "      <th>2</th>\n",
       "      <td>0</td>\n",
       "      <td>-5623.422610</td>\n",
       "      <td>33</td>\n",
       "      <td>Среднее</td>\n",
       "      <td>1</td>\n",
       "      <td>женат / замужем</td>\n",
       "      <td>0</td>\n",
       "      <td>M</td>\n",
       "      <td>сотрудник</td>\n",
       "      <td>0</td>\n",
       "      <td>145885.952297</td>\n",
       "      <td>покупка жилья</td>\n",
       "    </tr>\n",
       "    <tr>\n",
       "      <th>3</th>\n",
       "      <td>3</td>\n",
       "      <td>-4124.747207</td>\n",
       "      <td>32</td>\n",
       "      <td>среднее</td>\n",
       "      <td>1</td>\n",
       "      <td>женат / замужем</td>\n",
       "      <td>0</td>\n",
       "      <td>M</td>\n",
       "      <td>сотрудник</td>\n",
       "      <td>0</td>\n",
       "      <td>267628.550329</td>\n",
       "      <td>дополнительное образование</td>\n",
       "    </tr>\n",
       "    <tr>\n",
       "      <th>4</th>\n",
       "      <td>0</td>\n",
       "      <td>340266.072047</td>\n",
       "      <td>53</td>\n",
       "      <td>среднее</td>\n",
       "      <td>1</td>\n",
       "      <td>гражданский брак</td>\n",
       "      <td>1</td>\n",
       "      <td>F</td>\n",
       "      <td>пенсионер</td>\n",
       "      <td>0</td>\n",
       "      <td>158616.077870</td>\n",
       "      <td>сыграть свадьбу</td>\n",
       "    </tr>\n",
       "    <tr>\n",
       "      <th>5</th>\n",
       "      <td>0</td>\n",
       "      <td>-926.185831</td>\n",
       "      <td>27</td>\n",
       "      <td>высшее</td>\n",
       "      <td>0</td>\n",
       "      <td>гражданский брак</td>\n",
       "      <td>1</td>\n",
       "      <td>M</td>\n",
       "      <td>компаньон</td>\n",
       "      <td>0</td>\n",
       "      <td>255763.565419</td>\n",
       "      <td>покупка жилья</td>\n",
       "    </tr>\n",
       "    <tr>\n",
       "      <th>6</th>\n",
       "      <td>0</td>\n",
       "      <td>-2879.202052</td>\n",
       "      <td>43</td>\n",
       "      <td>высшее</td>\n",
       "      <td>0</td>\n",
       "      <td>женат / замужем</td>\n",
       "      <td>0</td>\n",
       "      <td>F</td>\n",
       "      <td>компаньон</td>\n",
       "      <td>0</td>\n",
       "      <td>240525.971920</td>\n",
       "      <td>операции с жильем</td>\n",
       "    </tr>\n",
       "    <tr>\n",
       "      <th>7</th>\n",
       "      <td>0</td>\n",
       "      <td>-152.779569</td>\n",
       "      <td>50</td>\n",
       "      <td>СРЕДНЕЕ</td>\n",
       "      <td>1</td>\n",
       "      <td>женат / замужем</td>\n",
       "      <td>0</td>\n",
       "      <td>M</td>\n",
       "      <td>сотрудник</td>\n",
       "      <td>0</td>\n",
       "      <td>135823.934197</td>\n",
       "      <td>образование</td>\n",
       "    </tr>\n",
       "    <tr>\n",
       "      <th>8</th>\n",
       "      <td>2</td>\n",
       "      <td>-6929.865299</td>\n",
       "      <td>35</td>\n",
       "      <td>ВЫСШЕЕ</td>\n",
       "      <td>0</td>\n",
       "      <td>гражданский брак</td>\n",
       "      <td>1</td>\n",
       "      <td>F</td>\n",
       "      <td>сотрудник</td>\n",
       "      <td>0</td>\n",
       "      <td>95856.832424</td>\n",
       "      <td>на проведение свадьбы</td>\n",
       "    </tr>\n",
       "    <tr>\n",
       "      <th>9</th>\n",
       "      <td>0</td>\n",
       "      <td>-2188.756445</td>\n",
       "      <td>41</td>\n",
       "      <td>среднее</td>\n",
       "      <td>1</td>\n",
       "      <td>женат / замужем</td>\n",
       "      <td>0</td>\n",
       "      <td>M</td>\n",
       "      <td>сотрудник</td>\n",
       "      <td>0</td>\n",
       "      <td>144425.938277</td>\n",
       "      <td>покупка жилья для семьи</td>\n",
       "    </tr>\n",
       "    <tr>\n",
       "      <th>10</th>\n",
       "      <td>2</td>\n",
       "      <td>-4171.483647</td>\n",
       "      <td>36</td>\n",
       "      <td>высшее</td>\n",
       "      <td>0</td>\n",
       "      <td>женат / замужем</td>\n",
       "      <td>0</td>\n",
       "      <td>M</td>\n",
       "      <td>компаньон</td>\n",
       "      <td>0</td>\n",
       "      <td>113943.491460</td>\n",
       "      <td>покупка недвижимости</td>\n",
       "    </tr>\n",
       "    <tr>\n",
       "      <th>11</th>\n",
       "      <td>0</td>\n",
       "      <td>-792.701887</td>\n",
       "      <td>40</td>\n",
       "      <td>среднее</td>\n",
       "      <td>1</td>\n",
       "      <td>женат / замужем</td>\n",
       "      <td>0</td>\n",
       "      <td>F</td>\n",
       "      <td>сотрудник</td>\n",
       "      <td>0</td>\n",
       "      <td>77069.234271</td>\n",
       "      <td>покупка коммерческой недвижимости</td>\n",
       "    </tr>\n",
       "    <tr>\n",
       "      <th>12</th>\n",
       "      <td>0</td>\n",
       "      <td>NaN</td>\n",
       "      <td>65</td>\n",
       "      <td>среднее</td>\n",
       "      <td>1</td>\n",
       "      <td>гражданский брак</td>\n",
       "      <td>1</td>\n",
       "      <td>M</td>\n",
       "      <td>пенсионер</td>\n",
       "      <td>0</td>\n",
       "      <td>NaN</td>\n",
       "      <td>сыграть свадьбу</td>\n",
       "    </tr>\n",
       "    <tr>\n",
       "      <th>13</th>\n",
       "      <td>0</td>\n",
       "      <td>-1846.641941</td>\n",
       "      <td>54</td>\n",
       "      <td>неоконченное высшее</td>\n",
       "      <td>2</td>\n",
       "      <td>женат / замужем</td>\n",
       "      <td>0</td>\n",
       "      <td>F</td>\n",
       "      <td>сотрудник</td>\n",
       "      <td>0</td>\n",
       "      <td>130458.228857</td>\n",
       "      <td>приобретение автомобиля</td>\n",
       "    </tr>\n",
       "    <tr>\n",
       "      <th>14</th>\n",
       "      <td>0</td>\n",
       "      <td>-1844.956182</td>\n",
       "      <td>56</td>\n",
       "      <td>высшее</td>\n",
       "      <td>0</td>\n",
       "      <td>гражданский брак</td>\n",
       "      <td>1</td>\n",
       "      <td>F</td>\n",
       "      <td>компаньон</td>\n",
       "      <td>1</td>\n",
       "      <td>165127.911772</td>\n",
       "      <td>покупка жилой недвижимости</td>\n",
       "    </tr>\n",
       "    <tr>\n",
       "      <th>15</th>\n",
       "      <td>1</td>\n",
       "      <td>-972.364419</td>\n",
       "      <td>26</td>\n",
       "      <td>среднее</td>\n",
       "      <td>1</td>\n",
       "      <td>женат / замужем</td>\n",
       "      <td>0</td>\n",
       "      <td>F</td>\n",
       "      <td>сотрудник</td>\n",
       "      <td>0</td>\n",
       "      <td>116820.904450</td>\n",
       "      <td>строительство собственной недвижимости</td>\n",
       "    </tr>\n",
       "    <tr>\n",
       "      <th>16</th>\n",
       "      <td>0</td>\n",
       "      <td>-1719.934226</td>\n",
       "      <td>35</td>\n",
       "      <td>среднее</td>\n",
       "      <td>1</td>\n",
       "      <td>женат / замужем</td>\n",
       "      <td>0</td>\n",
       "      <td>F</td>\n",
       "      <td>сотрудник</td>\n",
       "      <td>0</td>\n",
       "      <td>289202.704229</td>\n",
       "      <td>недвижимость</td>\n",
       "    </tr>\n",
       "    <tr>\n",
       "      <th>17</th>\n",
       "      <td>0</td>\n",
       "      <td>-2369.999720</td>\n",
       "      <td>33</td>\n",
       "      <td>высшее</td>\n",
       "      <td>0</td>\n",
       "      <td>гражданский брак</td>\n",
       "      <td>1</td>\n",
       "      <td>M</td>\n",
       "      <td>сотрудник</td>\n",
       "      <td>0</td>\n",
       "      <td>90410.586745</td>\n",
       "      <td>строительство недвижимости</td>\n",
       "    </tr>\n",
       "    <tr>\n",
       "      <th>18</th>\n",
       "      <td>0</td>\n",
       "      <td>400281.136913</td>\n",
       "      <td>53</td>\n",
       "      <td>среднее</td>\n",
       "      <td>1</td>\n",
       "      <td>вдовец / вдова</td>\n",
       "      <td>2</td>\n",
       "      <td>F</td>\n",
       "      <td>пенсионер</td>\n",
       "      <td>0</td>\n",
       "      <td>56823.777243</td>\n",
       "      <td>на покупку подержанного автомобиля</td>\n",
       "    </tr>\n",
       "    <tr>\n",
       "      <th>19</th>\n",
       "      <td>0</td>\n",
       "      <td>-10038.818549</td>\n",
       "      <td>48</td>\n",
       "      <td>СРЕДНЕЕ</td>\n",
       "      <td>1</td>\n",
       "      <td>в разводе</td>\n",
       "      <td>3</td>\n",
       "      <td>F</td>\n",
       "      <td>сотрудник</td>\n",
       "      <td>0</td>\n",
       "      <td>242831.107982</td>\n",
       "      <td>на покупку своего автомобиля</td>\n",
       "    </tr>\n",
       "  </tbody>\n",
       "</table>\n",
       "</div>"
      ],
      "text/plain": [
       "    children  days_employed  dob_years            education  education_id  \\\n",
       "0          1   -8437.673028         42               высшее             0   \n",
       "1          1   -4024.803754         36              среднее             1   \n",
       "2          0   -5623.422610         33              Среднее             1   \n",
       "3          3   -4124.747207         32              среднее             1   \n",
       "4          0  340266.072047         53              среднее             1   \n",
       "5          0    -926.185831         27               высшее             0   \n",
       "6          0   -2879.202052         43               высшее             0   \n",
       "7          0    -152.779569         50              СРЕДНЕЕ             1   \n",
       "8          2   -6929.865299         35               ВЫСШЕЕ             0   \n",
       "9          0   -2188.756445         41              среднее             1   \n",
       "10         2   -4171.483647         36               высшее             0   \n",
       "11         0    -792.701887         40              среднее             1   \n",
       "12         0            NaN         65              среднее             1   \n",
       "13         0   -1846.641941         54  неоконченное высшее             2   \n",
       "14         0   -1844.956182         56               высшее             0   \n",
       "15         1    -972.364419         26              среднее             1   \n",
       "16         0   -1719.934226         35              среднее             1   \n",
       "17         0   -2369.999720         33               высшее             0   \n",
       "18         0  400281.136913         53              среднее             1   \n",
       "19         0  -10038.818549         48              СРЕДНЕЕ             1   \n",
       "\n",
       "       family_status  family_status_id gender income_type  debt  \\\n",
       "0    женат / замужем                 0      F   сотрудник     0   \n",
       "1    женат / замужем                 0      F   сотрудник     0   \n",
       "2    женат / замужем                 0      M   сотрудник     0   \n",
       "3    женат / замужем                 0      M   сотрудник     0   \n",
       "4   гражданский брак                 1      F   пенсионер     0   \n",
       "5   гражданский брак                 1      M   компаньон     0   \n",
       "6    женат / замужем                 0      F   компаньон     0   \n",
       "7    женат / замужем                 0      M   сотрудник     0   \n",
       "8   гражданский брак                 1      F   сотрудник     0   \n",
       "9    женат / замужем                 0      M   сотрудник     0   \n",
       "10   женат / замужем                 0      M   компаньон     0   \n",
       "11   женат / замужем                 0      F   сотрудник     0   \n",
       "12  гражданский брак                 1      M   пенсионер     0   \n",
       "13   женат / замужем                 0      F   сотрудник     0   \n",
       "14  гражданский брак                 1      F   компаньон     1   \n",
       "15   женат / замужем                 0      F   сотрудник     0   \n",
       "16   женат / замужем                 0      F   сотрудник     0   \n",
       "17  гражданский брак                 1      M   сотрудник     0   \n",
       "18    вдовец / вдова                 2      F   пенсионер     0   \n",
       "19         в разводе                 3      F   сотрудник     0   \n",
       "\n",
       "     total_income                                 purpose  \n",
       "0   253875.639453                           покупка жилья  \n",
       "1   112080.014102                 приобретение автомобиля  \n",
       "2   145885.952297                           покупка жилья  \n",
       "3   267628.550329              дополнительное образование  \n",
       "4   158616.077870                         сыграть свадьбу  \n",
       "5   255763.565419                           покупка жилья  \n",
       "6   240525.971920                       операции с жильем  \n",
       "7   135823.934197                             образование  \n",
       "8    95856.832424                   на проведение свадьбы  \n",
       "9   144425.938277                 покупка жилья для семьи  \n",
       "10  113943.491460                    покупка недвижимости  \n",
       "11   77069.234271       покупка коммерческой недвижимости  \n",
       "12            NaN                         сыграть свадьбу  \n",
       "13  130458.228857                 приобретение автомобиля  \n",
       "14  165127.911772              покупка жилой недвижимости  \n",
       "15  116820.904450  строительство собственной недвижимости  \n",
       "16  289202.704229                            недвижимость  \n",
       "17   90410.586745              строительство недвижимости  \n",
       "18   56823.777243      на покупку подержанного автомобиля  \n",
       "19  242831.107982            на покупку своего автомобиля  "
      ]
     },
     "execution_count": 2,
     "metadata": {},
     "output_type": "execute_result"
    }
   ],
   "source": [
    "data.head(20)"
   ]
  },
  {
   "cell_type": "markdown",
   "id": "0ed8f27f",
   "metadata": {
    "deletable": false,
    "editable": false,
    "id": "0ed8f27f"
   },
   "source": [
    "**Задание 3. Выведите основную информацию о датафрейме с помощью метода `info()`.**"
   ]
  },
  {
   "cell_type": "code",
   "execution_count": 3,
   "id": "ab3f863b",
   "metadata": {
    "deletable": false,
    "id": "ab3f863b",
    "outputId": "15376089-8dad-46c9-b520-c05248d43158"
   },
   "outputs": [
    {
     "name": "stdout",
     "output_type": "stream",
     "text": [
      "<class 'pandas.core.frame.DataFrame'>\n",
      "RangeIndex: 21525 entries, 0 to 21524\n",
      "Data columns (total 12 columns):\n",
      " #   Column            Non-Null Count  Dtype  \n",
      "---  ------            --------------  -----  \n",
      " 0   children          21525 non-null  int64  \n",
      " 1   days_employed     19351 non-null  float64\n",
      " 2   dob_years         21525 non-null  int64  \n",
      " 3   education         21525 non-null  object \n",
      " 4   education_id      21525 non-null  int64  \n",
      " 5   family_status     21525 non-null  object \n",
      " 6   family_status_id  21525 non-null  int64  \n",
      " 7   gender            21525 non-null  object \n",
      " 8   income_type       21525 non-null  object \n",
      " 9   debt              21525 non-null  int64  \n",
      " 10  total_income      19351 non-null  float64\n",
      " 11  purpose           21525 non-null  object \n",
      "dtypes: float64(2), int64(5), object(5)\n",
      "memory usage: 2.0+ MB\n"
     ]
    }
   ],
   "source": [
    "data.info()"
   ]
  },
  {
   "cell_type": "markdown",
   "id": "60e3e22d",
   "metadata": {
    "deletable": false,
    "editable": false,
    "id": "60e3e22d"
   },
   "source": [
    "## Предобработка данных"
   ]
  },
  {
   "cell_type": "markdown",
   "id": "03dc170c",
   "metadata": {
    "deletable": false,
    "editable": false,
    "id": "03dc170c"
   },
   "source": [
    "### Удаление пропусков"
   ]
  },
  {
   "cell_type": "markdown",
   "id": "a4f54eef",
   "metadata": {
    "deletable": false,
    "editable": false,
    "id": "a4f54eef"
   },
   "source": [
    "**Задание 4. Выведите количество пропущенных значений для каждого столбца. Используйте комбинацию двух методов.**"
   ]
  },
  {
   "cell_type": "code",
   "execution_count": 4,
   "id": "2dc372b2",
   "metadata": {
    "deletable": false,
    "id": "2dc372b2",
    "outputId": "81f4d817-781c-465c-ed15-91ce4446810d"
   },
   "outputs": [
    {
     "data": {
      "text/plain": [
       "children               0\n",
       "days_employed       2174\n",
       "dob_years              0\n",
       "education              0\n",
       "education_id           0\n",
       "family_status          0\n",
       "family_status_id       0\n",
       "gender                 0\n",
       "income_type            0\n",
       "debt                   0\n",
       "total_income        2174\n",
       "purpose                0\n",
       "dtype: int64"
      ]
     },
     "execution_count": 4,
     "metadata": {},
     "output_type": "execute_result"
    }
   ],
   "source": [
    "data.isna().sum()"
   ]
  },
  {
   "cell_type": "markdown",
   "id": "14f011b1",
   "metadata": {
    "deletable": false,
    "editable": false,
    "id": "14f011b1"
   },
   "source": [
    "**Задание 5. В двух столбцах есть пропущенные значения. Один из них — `days_employed`. Пропуски в этом столбце вы обработаете на следующем этапе. Другой столбец с пропущенными значениями — `total_income` — хранит данные о доходах. На сумму дохода сильнее всего влияет тип занятости, поэтому заполнить пропуски в этом столбце нужно медианным значением по каждому типу из столбца `income_type`. Например, у человека с типом занятости `сотрудник` пропуск в столбце `total_income` должен быть заполнен медианным доходом среди всех записей с тем же типом.**"
   ]
  },
  {
   "cell_type": "code",
   "execution_count": 5,
   "id": "bdabfb6e",
   "metadata": {
    "deletable": false,
    "id": "bdabfb6e"
   },
   "outputs": [],
   "source": [
    "for t in data['income_type'].unique():\n",
    "    data.loc[(data['income_type'] == t) & (data['total_income'].isna()), 'total_income'] = \\\n",
    "    data.loc[(data['income_type'] == t), 'total_income'].median()"
   ]
  },
  {
   "cell_type": "markdown",
   "id": "5be34059",
   "metadata": {
    "deletable": false,
    "editable": false,
    "id": "5be34059"
   },
   "source": [
    "### Обработка аномальных значений"
   ]
  },
  {
   "cell_type": "markdown",
   "id": "a87606cb",
   "metadata": {
    "deletable": false,
    "editable": false,
    "id": "a87606cb"
   },
   "source": [
    "**Задание 6. В данных могут встречаться артефакты (аномалии) — значения, которые не отражают действительность и появились по какой-то ошибке. таким артефактом будет отрицательное количество дней трудового стажа в столбце `days_employed`. Для реальных данных это нормально. Обработайте значения в этом столбце: замените все отрицательные значения положительными с помощью метода `abs()`.**"
   ]
  },
  {
   "cell_type": "code",
   "execution_count": 6,
   "id": "020c46cc",
   "metadata": {
    "deletable": false,
    "id": "020c46cc"
   },
   "outputs": [],
   "source": [
    "data['days_employed'] = data['days_employed'].abs()"
   ]
  },
  {
   "cell_type": "markdown",
   "id": "45538a3a",
   "metadata": {
    "deletable": false,
    "editable": false,
    "id": "45538a3a"
   },
   "source": [
    "**Задание 7. Для каждого типа занятости выведите медианное значение трудового стажа `days_employed` в днях.**"
   ]
  },
  {
   "cell_type": "code",
   "execution_count": 7,
   "id": "cd3e6328",
   "metadata": {
    "deletable": false,
    "id": "cd3e6328",
    "outputId": "801ef80e-522b-4668-f34e-565af7432bcf"
   },
   "outputs": [
    {
     "data": {
      "text/plain": [
       "income_type\n",
       "безработный        366413.652744\n",
       "в декрете            3296.759962\n",
       "госслужащий          2689.368353\n",
       "компаньон            1547.382223\n",
       "пенсионер          365213.306266\n",
       "предприниматель       520.848083\n",
       "сотрудник            1574.202821\n",
       "студент               578.751554\n",
       "Name: days_employed, dtype: float64"
      ]
     },
     "execution_count": 7,
     "metadata": {},
     "output_type": "execute_result"
    }
   ],
   "source": [
    "data.groupby('income_type')['days_employed'].agg('median')"
   ]
  },
  {
   "cell_type": "markdown",
   "id": "90c5f058",
   "metadata": {
    "deletable": false,
    "editable": false,
    "id": "90c5f058"
   },
   "source": [
    "У двух типов (безработные и пенсионеры) получатся аномально большие значения. Исправить такие значения сложно, поэтому оставьте их как есть."
   ]
  },
  {
   "cell_type": "markdown",
   "id": "9652e50d",
   "metadata": {
    "deletable": false,
    "editable": false,
    "id": "9652e50d"
   },
   "source": [
    "**Задание 8. Выведите перечень уникальных значений столбца `children`.**"
   ]
  },
  {
   "cell_type": "code",
   "execution_count": 8,
   "id": "dbb37b8e",
   "metadata": {
    "deletable": false,
    "id": "dbb37b8e",
    "outputId": "6975b15c-7f95-4697-d16d-a0c79b657b03"
   },
   "outputs": [
    {
     "data": {
      "text/plain": [
       "array([ 1,  0,  3,  2, -1,  4, 20,  5])"
      ]
     },
     "execution_count": 8,
     "metadata": {},
     "output_type": "execute_result"
    }
   ],
   "source": [
    "data['children'].unique()"
   ]
  },
  {
   "cell_type": "markdown",
   "id": "2b8b0715",
   "metadata": {
    "deletable": false,
    "editable": false,
    "id": "2b8b0715"
   },
   "source": [
    "**Задание 9. В столбце `children` есть два аномальных значения. Удалите строки, в которых встречаются такие аномальные значения из датафрейма `data`.**"
   ]
  },
  {
   "cell_type": "code",
   "execution_count": 9,
   "id": "20009df8",
   "metadata": {
    "deletable": false,
    "id": "20009df8"
   },
   "outputs": [],
   "source": [
    "data = data[(data['children'] != -1) & (data['children'] != 20)]"
   ]
  },
  {
   "cell_type": "markdown",
   "id": "8c6ac9f1",
   "metadata": {
    "deletable": false,
    "editable": false,
    "id": "8c6ac9f1"
   },
   "source": [
    "**Задание 10. Ещё раз выведите перечень уникальных значений столбца `children`, чтобы убедиться, что артефакты удалены.**"
   ]
  },
  {
   "cell_type": "code",
   "execution_count": 10,
   "id": "07337b81",
   "metadata": {
    "deletable": false,
    "id": "07337b81",
    "outputId": "b2097101-d49d-44d9-901b-32a65c9463d1"
   },
   "outputs": [
    {
     "data": {
      "text/plain": [
       "array([1, 0, 3, 2, 4, 5])"
      ]
     },
     "execution_count": 10,
     "metadata": {},
     "output_type": "execute_result"
    }
   ],
   "source": [
    "data['children'].unique()"
   ]
  },
  {
   "cell_type": "markdown",
   "id": "ee3f52d4",
   "metadata": {
    "deletable": false,
    "editable": false,
    "id": "ee3f52d4"
   },
   "source": [
    "### Удаление пропусков (продолжение)"
   ]
  },
  {
   "cell_type": "markdown",
   "id": "a700b0e4",
   "metadata": {
    "deletable": false,
    "editable": false,
    "id": "a700b0e4"
   },
   "source": [
    "**Задание 11. Заполните пропуски в столбце `days_employed` медианными значениями по каждого типа занятости `income_type`.**"
   ]
  },
  {
   "cell_type": "code",
   "execution_count": 11,
   "id": "61946b83",
   "metadata": {
    "deletable": false,
    "id": "61946b83"
   },
   "outputs": [],
   "source": [
    "for t in data['income_type'].unique():\n",
    "    data.loc[(data['income_type'] == t) & (data['days_employed'].isna()), 'days_employed'] = \\\n",
    "    data.loc[(data['income_type'] == t), 'days_employed'].median()"
   ]
  },
  {
   "cell_type": "markdown",
   "id": "550dcd9b",
   "metadata": {
    "deletable": false,
    "editable": false,
    "id": "550dcd9b"
   },
   "source": [
    "**Задание 12. Убедитесь, что все пропуски заполнены. Проверьте себя и ещё раз выведите количество пропущенных значений для каждого столбца с помощью двух методов.**"
   ]
  },
  {
   "cell_type": "code",
   "execution_count": 12,
   "id": "937c7014",
   "metadata": {
    "deletable": false,
    "id": "937c7014",
    "outputId": "8da1e4e1-358e-4e87-98c9-f261bce0a7b2"
   },
   "outputs": [
    {
     "data": {
      "text/plain": [
       "children            0\n",
       "days_employed       0\n",
       "dob_years           0\n",
       "education           0\n",
       "education_id        0\n",
       "family_status       0\n",
       "family_status_id    0\n",
       "gender              0\n",
       "income_type         0\n",
       "debt                0\n",
       "total_income        0\n",
       "purpose             0\n",
       "dtype: int64"
      ]
     },
     "execution_count": 12,
     "metadata": {},
     "output_type": "execute_result"
    }
   ],
   "source": [
    "data.isna().sum()"
   ]
  },
  {
   "cell_type": "markdown",
   "id": "d522e295",
   "metadata": {
    "deletable": false,
    "editable": false,
    "id": "d522e295"
   },
   "source": [
    "### Изменение типов данных"
   ]
  },
  {
   "cell_type": "markdown",
   "id": "c229c581",
   "metadata": {
    "deletable": false,
    "editable": false,
    "id": "c229c581"
   },
   "source": [
    "**Задание 13. Замените вещественный тип данных в столбце `total_income` на целочисленный с помощью метода `astype()`.**"
   ]
  },
  {
   "cell_type": "code",
   "execution_count": 13,
   "id": "31036462",
   "metadata": {
    "deletable": false,
    "id": "31036462"
   },
   "outputs": [],
   "source": [
    "data['total_income'] = data['total_income'].astype(int)"
   ]
  },
  {
   "cell_type": "markdown",
   "id": "b8e3d1d9",
   "metadata": {
    "deletable": false,
    "editable": false,
    "id": "b8e3d1d9"
   },
   "source": [
    "### Обработка дубликатов"
   ]
  },
  {
   "cell_type": "markdown",
   "id": "9be53c49",
   "metadata": {
    "deletable": false,
    "editable": false,
    "id": "9be53c49"
   },
   "source": [
    "**Задание 14. Обработайте неявные дубликаты в столбце `education`. В этом столбце есть одни и те же значения, но записанные по-разному: с использованием заглавных и строчных букв. Приведите их к нижнему регистру.**"
   ]
  },
  {
   "cell_type": "code",
   "execution_count": 14,
   "id": "d89e73e1",
   "metadata": {
    "deletable": false,
    "id": "d89e73e1"
   },
   "outputs": [],
   "source": [
    "data['education'] = data['education'].str.lower()"
   ]
  },
  {
   "cell_type": "markdown",
   "id": "01d4500e",
   "metadata": {
    "deletable": false,
    "editable": false,
    "id": "01d4500e"
   },
   "source": [
    "**Задание 15. Выведите на экран количество строк-дубликатов в данных. Если такие строки присутствуют, удалите их.**"
   ]
  },
  {
   "cell_type": "code",
   "execution_count": 15,
   "id": "e10efb23",
   "metadata": {
    "deletable": false,
    "id": "e10efb23",
    "outputId": "9684deba-1934-42d1-99e1-cda61740f822"
   },
   "outputs": [
    {
     "data": {
      "text/plain": [
       "71"
      ]
     },
     "execution_count": 15,
     "metadata": {},
     "output_type": "execute_result"
    }
   ],
   "source": [
    "data.duplicated().sum()"
   ]
  },
  {
   "cell_type": "code",
   "execution_count": 16,
   "id": "df853f20",
   "metadata": {
    "deletable": false,
    "id": "df853f20"
   },
   "outputs": [],
   "source": [
    "data = data.drop_duplicates()"
   ]
  },
  {
   "cell_type": "markdown",
   "id": "627be38f",
   "metadata": {
    "deletable": false,
    "editable": false,
    "id": "627be38f"
   },
   "source": [
    "### Категоризация данных"
   ]
  },
  {
   "cell_type": "markdown",
   "id": "4684c3e0",
   "metadata": {
    "deletable": false,
    "editable": false,
    "id": "4684c3e0"
   },
   "source": [
    "**Задание 16. На основании диапазонов, указанных ниже, создайте в датафрейме `data` столбец `total_income_category` с категориями:**\n",
    "\n",
    "- 0–30000 — `'E'`;\n",
    "- 30001–50000 — `'D'`;\n",
    "- 50001–200000 — `'C'`;\n",
    "- 200001–1000000 — `'B'`;\n",
    "- 1000001 и выше — `'A'`.\n",
    "\n",
    "\n",
    "**Например, кредитополучателю с доходом 25000 нужно назначить категорию `'E'`, а клиенту, получающему 235000, — `'B'`. Используйте собственную функцию с именем `categorize_income()` и метод `apply()`.**"
   ]
  },
  {
   "cell_type": "code",
   "execution_count": 17,
   "id": "78965238",
   "metadata": {
    "deletable": false,
    "id": "78965238"
   },
   "outputs": [],
   "source": [
    "def categorize_income(income):\n",
    "    try:\n",
    "        if 0 <= income <= 30000:\n",
    "            return 'E'\n",
    "        elif 30001 <= income <= 50000:\n",
    "            return 'D'\n",
    "        elif 50001 <= income <= 200000:\n",
    "            return 'C'\n",
    "        elif 200001 <= income <= 1000000:\n",
    "            return 'B'\n",
    "        elif income >= 1000001:\n",
    "            return 'A'\n",
    "    except:\n",
    "        pass"
   ]
  },
  {
   "cell_type": "code",
   "execution_count": 18,
   "id": "0980ada1",
   "metadata": {
    "deletable": false,
    "id": "0980ada1"
   },
   "outputs": [],
   "source": [
    "data['total_income_category'] = data['total_income'].apply(categorize_income)"
   ]
  },
  {
   "cell_type": "markdown",
   "id": "9917bba0",
   "metadata": {
    "deletable": false,
    "editable": false,
    "id": "9917bba0"
   },
   "source": [
    "**Задание 17. Выведите на экран перечень уникальных целей взятия кредита из столбца `purpose`.**"
   ]
  },
  {
   "cell_type": "code",
   "execution_count": 19,
   "id": "ee07b65e",
   "metadata": {
    "deletable": false,
    "id": "ee07b65e",
    "outputId": "673c12d9-7d7e-4ae0-9812-c622c89dd244"
   },
   "outputs": [
    {
     "data": {
      "text/plain": [
       "array(['покупка жилья', 'приобретение автомобиля',\n",
       "       'дополнительное образование', 'сыграть свадьбу',\n",
       "       'операции с жильем', 'образование', 'на проведение свадьбы',\n",
       "       'покупка жилья для семьи', 'покупка недвижимости',\n",
       "       'покупка коммерческой недвижимости', 'покупка жилой недвижимости',\n",
       "       'строительство собственной недвижимости', 'недвижимость',\n",
       "       'строительство недвижимости', 'на покупку подержанного автомобиля',\n",
       "       'на покупку своего автомобиля',\n",
       "       'операции с коммерческой недвижимостью',\n",
       "       'строительство жилой недвижимости', 'жилье',\n",
       "       'операции со своей недвижимостью', 'автомобили',\n",
       "       'заняться образованием', 'сделка с подержанным автомобилем',\n",
       "       'получение образования', 'автомобиль', 'свадьба',\n",
       "       'получение дополнительного образования', 'покупка своего жилья',\n",
       "       'операции с недвижимостью', 'получение высшего образования',\n",
       "       'свой автомобиль', 'сделка с автомобилем',\n",
       "       'профильное образование', 'высшее образование',\n",
       "       'покупка жилья для сдачи', 'на покупку автомобиля', 'ремонт жилью',\n",
       "       'заняться высшим образованием'], dtype=object)"
      ]
     },
     "execution_count": 19,
     "metadata": {},
     "output_type": "execute_result"
    }
   ],
   "source": [
    "data['purpose'].unique()"
   ]
  },
  {
   "cell_type": "markdown",
   "id": "52b79d56",
   "metadata": {
    "deletable": false,
    "editable": false,
    "id": "52b79d56"
   },
   "source": [
    "**Задание 18. Создайте функцию, которая на основании данных из столбца `purpose` сформирует новый столбец `purpose_category`, в который войдут следующие категории:**\n",
    "\n",
    "- `'операции с автомобилем'`,\n",
    "- `'операции с недвижимостью'`,\n",
    "- `'проведение свадьбы'`,\n",
    "- `'получение образования'`.\n",
    "\n",
    "**Например, если в столбце `purpose` находится подстрока `'на покупку автомобиля'`, то в столбце `purpose_category` должна появиться строка `'операции с автомобилем'`.**\n",
    "\n",
    "**Используйте собственную функцию с именем `categorize_purpose()` и метод `apply()`. Изучите данные в столбце `purpose` и определите, какие подстроки помогут вам правильно определить категорию.**"
   ]
  },
  {
   "cell_type": "code",
   "execution_count": 20,
   "id": "be41da5d",
   "metadata": {
    "deletable": false,
    "id": "be41da5d"
   },
   "outputs": [],
   "source": [
    "def categorize_purpose(row):\n",
    "    try:\n",
    "        if 'автом' in row:\n",
    "            return 'операции с автомобилем'\n",
    "        elif 'жил' in row or 'недвиж' in row:\n",
    "            return 'операции с недвижимостью'\n",
    "        elif 'свад' in row:\n",
    "            return 'проведение свадьбы'\n",
    "        elif 'образов' in row:\n",
    "            return 'получение образования'\n",
    "    except:\n",
    "        return 'нет категории'"
   ]
  },
  {
   "cell_type": "code",
   "execution_count": 21,
   "id": "94c4a19a",
   "metadata": {
    "deletable": false,
    "id": "94c4a19a"
   },
   "outputs": [],
   "source": [
    "data['purpose_category'] = data['purpose'].apply(categorize_purpose)"
   ]
  },
  {
   "cell_type": "markdown",
   "id": "e22a13b8",
   "metadata": {},
   "source": [
    "<div class=\"alert alert-success\">\n",
    "<b>Комментарий ревьюера - все отлично! ✅ </b>\n",
    "\n",
    "Да, авторское решение и вправду очень изящно! Давай посмотрим что получилось у тебя!\n",
    "</div>"
   ]
  },
  {
   "cell_type": "markdown",
   "id": "3d596c34",
   "metadata": {
    "deletable": false,
    "editable": false,
    "id": "3d596c34"
   },
   "source": [
    "### Шаг 3. Исследуйте данные и ответьте на вопросы"
   ]
  },
  {
   "cell_type": "markdown",
   "id": "648db036",
   "metadata": {
    "deletable": false,
    "editable": false,
    "id": "648db036"
   },
   "source": [
    "#### 3.1 Есть ли зависимость между количеством детей и возвратом кредита в срок?"
   ]
  },
  {
   "cell_type": "markdown",
   "id": "4f49eb96",
   "metadata": {},
   "source": [
    "Для определения наличия зависимости необходимо сравнить долю должников в общем количестве клиентов по целевым группам. Посмотрим на данные в разрезе категорий, сформированных по количеству детей у клиента."
   ]
  },
  {
   "cell_type": "code",
   "execution_count": 22,
   "id": "7fcff25e",
   "metadata": {
    "deletable": false,
    "id": "7fcff25e"
   },
   "outputs": [
    {
     "data": {
      "text/html": [
       "<div>\n",
       "<style scoped>\n",
       "    .dataframe tbody tr th:only-of-type {\n",
       "        vertical-align: middle;\n",
       "    }\n",
       "\n",
       "    .dataframe tbody tr th {\n",
       "        vertical-align: top;\n",
       "    }\n",
       "\n",
       "    .dataframe thead th {\n",
       "        text-align: right;\n",
       "    }\n",
       "</style>\n",
       "<table border=\"1\" class=\"dataframe\">\n",
       "  <thead>\n",
       "    <tr style=\"text-align: right;\">\n",
       "      <th></th>\n",
       "      <th>customers_amount_total</th>\n",
       "      <th>debt_amount</th>\n",
       "      <th>debtors_percent</th>\n",
       "    </tr>\n",
       "    <tr>\n",
       "      <th>children</th>\n",
       "      <th></th>\n",
       "      <th></th>\n",
       "      <th></th>\n",
       "    </tr>\n",
       "  </thead>\n",
       "  <tbody>\n",
       "    <tr>\n",
       "      <th>0</th>\n",
       "      <td>14091</td>\n",
       "      <td>1063</td>\n",
       "      <td>7.54</td>\n",
       "    </tr>\n",
       "    <tr>\n",
       "      <th>1</th>\n",
       "      <td>4808</td>\n",
       "      <td>444</td>\n",
       "      <td>9.23</td>\n",
       "    </tr>\n",
       "    <tr>\n",
       "      <th>2</th>\n",
       "      <td>2052</td>\n",
       "      <td>194</td>\n",
       "      <td>9.45</td>\n",
       "    </tr>\n",
       "    <tr>\n",
       "      <th>3</th>\n",
       "      <td>330</td>\n",
       "      <td>27</td>\n",
       "      <td>8.18</td>\n",
       "    </tr>\n",
       "    <tr>\n",
       "      <th>4</th>\n",
       "      <td>41</td>\n",
       "      <td>4</td>\n",
       "      <td>9.76</td>\n",
       "    </tr>\n",
       "    <tr>\n",
       "      <th>5</th>\n",
       "      <td>9</td>\n",
       "      <td>0</td>\n",
       "      <td>0.00</td>\n",
       "    </tr>\n",
       "  </tbody>\n",
       "</table>\n",
       "</div>"
      ],
      "text/plain": [
       "          customers_amount_total  debt_amount  debtors_percent\n",
       "children                                                      \n",
       "0                          14091         1063             7.54\n",
       "1                           4808          444             9.23\n",
       "2                           2052          194             9.45\n",
       "3                            330           27             8.18\n",
       "4                             41            4             9.76\n",
       "5                              9            0             0.00"
      ]
     },
     "execution_count": 22,
     "metadata": {},
     "output_type": "execute_result"
    }
   ],
   "source": [
    "# Сгруппируем исходные данные из data по столбцу 'children' и применим метод .agg() с параметрами count и sum к столбцу 'debt'\n",
    "# с добавлением новых столбцов 'customers_amount_total' (общее кол-во клиентов) и 'debt_amount' (количество должников).\n",
    "# Результат сохраним в переменную data_debt\n",
    "data_debt = data.groupby(['children']).agg(customers_amount_total=('debt', 'count'), debt_amount=('debt', 'sum'))\n",
    "\n",
    "# Добавим в таблицу data_debt столбец 'debtors_percent' с долей должников в общем количестве клиентов каждой целевой группы\n",
    "# в процентном измерении. Для этого разделим столбец 'debt_amount' на 'customers_amount_total'. Результат деления умножим\n",
    "# на 100 и округлим функцией round() до 2 знаков после запятой.\n",
    "data_debt['debtors_percent'] = round((data_debt['debt_amount'] / data_debt['customers_amount_total']) * 100, 2)\n",
    "\n",
    "# Выведем получившуюся таблицу на на экран\n",
    "data_debt"
   ]
  },
  {
   "cell_type": "markdown",
   "id": "1e4042e6",
   "metadata": {},
   "source": [
    "<div class=\"alert alert-block alert-danger\">\n",
    "<b>Комментарий ревьюера - на доработку ❌</b>   \n",
    "\n",
    "Твой код дает правильный результат. Но наша задача научиться быстрым и эффективным алгоритмам, поэтому:\n",
    "1. Сводные таблицы - главный инструмент датасаентиста. Он делается двумя способами `.groupby` или `.pivot_table`. Первый - более популярен, но не все можно через него сделать. Их основное отличие в том, что при множественной группировке (по двум и более целевым переменным - например дети и образование...) groupby делает сводную таблицу вниз по строкам. А вот pivot_table делает его вширь, по столбцам. Поэтому эти инструменты разные и например для визуализации hitmap нам  в будущем нужен будет именно pivot_table \n",
    "    \n",
    "Ты уже умеешь делать через groupby, но нужно уметь и через pivot_table. Давай попробуем сделать функцию через него!\n",
    "    \n",
    "2. Давай разберемся с данными. Это проще всего сделать одной строкой с помощью немного другой сводной таблицы. При этом 'Всего кредитополучателей' - это `count`. 'Всего должников' - это `sum`. А вот долю должников лучше подсчитать через `mean` (потому что у нас данные 0 или 1 в поле `dept`). Таким образом в `data.pivot_table` агрегация будет иметь вид `aggfunc=['count', 'sum', 'mean']`.\n",
    "    \n",
    "3. При создании сводных таблиц получаются странные названия заголовков. Они на разных уровнях и в несколько строк иногда. Это называется мультииндексом и это особенность нашей програмной среды. Чтобы в дальнейшем работать с полученной таблицей (не в этом задании, но все же), обращаться к данным через названия столбцов необходимо в этой задаче просто переименовать полученные данные таким кодом `data.columns = ` с значениями `['all_credits', 'all_debtors','share_debtors']` или (на будущее) выполнить такой код `data.columns = ['_'.join(col).strip() for col in temp.columns.values]`. Более подробно тут https://stackoverflow.com/questions/14507794/pandas-how-to-flatten-a-hierarchical-index-in-columns \n",
    "\n",
    "Мы 4 раза выполняем один и тот же алгоритм. Поэтому давай попробуем сделать функцию (назови ее как тебе больше нравится, только не системными названиями) на вход которой принимается переменная категория (например, `variable`). В `pivot_table` присвой `index=variable`. То есть мы будем в сводную таблицу передавать разные переменные и она будет строить нам разные сводные таблицы\n",
    "    \n",
    "Внутри три строки - первая это твой новый код со сводной таблицей из пункта 2 выше. Вторая - это переименование колонок тоже из твоего нового кода пункта 3, что был выше. Третья - вызов функции `display()` с переменной в скобках того имени, которое ты присваиваешь в первом пункте. Возвращать (то есть писать `return`) в конце функции не надо. Мы передаем в функцию переменную столбца датасета, а она нам рассчитывает и выводит на экран нужные данные\n",
    "    \n",
    "А чтобы запустить твою функцию в следующей пустой ячейке напиши имя своей функции и в скобках передай ей аргумент имени колонки датасета `data` (это будет `'children'` или `'family_status'` и так далее)\n",
    "    \n",
    "Попробуй это сделать в новых ячейках чтобы сравнить полученные данные\n",
    " \n",
    "</div>"
   ]
  },
  {
   "cell_type": "markdown",
   "id": "f6fbf28b",
   "metadata": {},
   "source": [
    "<div class=\"alert alert-warning\">\n",
    "<b>Комментарий ревьюера - замечания и рекомендации ⚠️</b>\n",
    "\n",
    "**(NB)** И еще совет - старайся не использовать проценты для хранения переменных в расчетах и для анализа, лучше десятичные дроби. Просто на будущее из моего опыта - сложно потом искать ошибки в коде, потому что здесь все будет храниться как десятичные данные, это не Excell. И, поддерживаю тебя, выводить проценты очень хорошо в отчетах и графиках\n",
    "    \n",
    "</div>"
   ]
  },
  {
   "cell_type": "markdown",
   "id": "a5f3bf42",
   "metadata": {},
   "source": [
    "<div class=\"alert alert-block alert-info\">\n",
    "<b>Комментарий исполнителя</b>\n",
    "    \n",
    "Ниже я представил скорректированное решение\n",
    "\n",
    "</div>"
   ]
  },
  {
   "cell_type": "markdown",
   "id": "edec97c6",
   "metadata": {},
   "source": [
    "Напишем функцию `get_pivot()`, которая принимает в качестве аргумента наименование категории клиентов `category_name`, а возвращает сводную таблицу с общим количеством клиентов, количеством должников и доли должников по каждой группе в заданной категории клиентов"
   ]
  },
  {
   "cell_type": "code",
   "execution_count": 23,
   "id": "7f795f3c",
   "metadata": {},
   "outputs": [
    {
     "data": {
      "text/html": [
       "<div>\n",
       "<style scoped>\n",
       "    .dataframe tbody tr th:only-of-type {\n",
       "        vertical-align: middle;\n",
       "    }\n",
       "\n",
       "    .dataframe tbody tr th {\n",
       "        vertical-align: top;\n",
       "    }\n",
       "\n",
       "    .dataframe thead th {\n",
       "        text-align: right;\n",
       "    }\n",
       "</style>\n",
       "<table border=\"1\" class=\"dataframe\">\n",
       "  <thead>\n",
       "    <tr style=\"text-align: right;\">\n",
       "      <th></th>\n",
       "      <th>all_credits</th>\n",
       "      <th>all_debtors</th>\n",
       "      <th>share_debtors</th>\n",
       "    </tr>\n",
       "    <tr>\n",
       "      <th>children</th>\n",
       "      <th></th>\n",
       "      <th></th>\n",
       "      <th></th>\n",
       "    </tr>\n",
       "  </thead>\n",
       "  <tbody>\n",
       "    <tr>\n",
       "      <th>0</th>\n",
       "      <td>14091</td>\n",
       "      <td>1063</td>\n",
       "      <td>0.075438</td>\n",
       "    </tr>\n",
       "    <tr>\n",
       "      <th>1</th>\n",
       "      <td>4808</td>\n",
       "      <td>444</td>\n",
       "      <td>0.092346</td>\n",
       "    </tr>\n",
       "    <tr>\n",
       "      <th>2</th>\n",
       "      <td>2052</td>\n",
       "      <td>194</td>\n",
       "      <td>0.094542</td>\n",
       "    </tr>\n",
       "    <tr>\n",
       "      <th>3</th>\n",
       "      <td>330</td>\n",
       "      <td>27</td>\n",
       "      <td>0.081818</td>\n",
       "    </tr>\n",
       "    <tr>\n",
       "      <th>4</th>\n",
       "      <td>41</td>\n",
       "      <td>4</td>\n",
       "      <td>0.097561</td>\n",
       "    </tr>\n",
       "    <tr>\n",
       "      <th>5</th>\n",
       "      <td>9</td>\n",
       "      <td>0</td>\n",
       "      <td>0.000000</td>\n",
       "    </tr>\n",
       "  </tbody>\n",
       "</table>\n",
       "</div>"
      ],
      "text/plain": [
       "          all_credits  all_debtors  share_debtors\n",
       "children                                         \n",
       "0               14091         1063       0.075438\n",
       "1                4808          444       0.092346\n",
       "2                2052          194       0.094542\n",
       "3                 330           27       0.081818\n",
       "4                  41            4       0.097561\n",
       "5                   9            0       0.000000"
      ]
     },
     "metadata": {},
     "output_type": "display_data"
    }
   ],
   "source": [
    "def get_pivot(category_name):\n",
    "    \n",
    "    # Сгруппируем данные из data по колчеству детей клиентов с помощью сводной таблицы:\n",
    "    # - строки: уникальные значения из столбца 'children'\n",
    "    # - столбцы: 'Всего кредитополучателей', 'Всего должников', 'Доля должников'\n",
    "    # - значения вычисляются по столбцу 'debt' с агрегирующими функциями: 'count', 'sum', 'mean'\n",
    "    \n",
    "    data_pivot = data.pivot_table(index=category_name, values='debt', aggfunc=['count', 'sum', 'mean'])\n",
    "\n",
    "    # Переименуем столбцы в полученной сводной таблице\n",
    "    data_pivot.columns = ['all_credits', 'all_debtors','share_debtors']\n",
    "\n",
    "    # Результат выведем на экран\n",
    "    return display(data_pivot)\n",
    "\n",
    "# Выведем сводную таблицу с помощью функции get_pivot() с параметром 'children'\n",
    "get_pivot('children')"
   ]
  },
  {
   "cell_type": "markdown",
   "id": "68e70a3b",
   "metadata": {},
   "source": [
    "<div class=\"alert alert-success\">\n",
    "<b>Комментарий 2 ревьюера - все отлично! ✅ </b>\n",
    "\n",
    "Прекрасно! Ты большой молодец - быстро и качественно все сделал 🤗\n",
    "</div>"
   ]
  },
  {
   "cell_type": "markdown",
   "id": "2eb9088e",
   "metadata": {
    "deletable": false,
    "id": "2eb9088e"
   },
   "source": [
    "**Вывод:** наблюдается зависимость между <u>наличием</u> детей у клиентов банка и возвратом кредита в срок: доля клиентов, у которых нет детей, чаще возвращают кредит в срок, чем те клиенты, у которых есть дети."
   ]
  },
  {
   "cell_type": "markdown",
   "id": "b8bb9a95",
   "metadata": {},
   "source": [
    "<div class=\"alert alert-success\">\n",
    "<b>Комментарий ревьюера - все отлично! ✅ </b>\n",
    "\n",
    "Прекрасные выводы, полностью согласен!\n",
    "</div>"
   ]
  },
  {
   "cell_type": "markdown",
   "id": "74c9b3a7",
   "metadata": {
    "deletable": false,
    "editable": false,
    "id": "74c9b3a7"
   },
   "source": [
    "#### 3.2 Есть ли зависимость между семейным положением и возвратом кредита в срок?"
   ]
  },
  {
   "cell_type": "markdown",
   "id": "f96bc00f",
   "metadata": {},
   "source": [
    "Для определения наличия зависимости посмотрим на данные в разрезе категорий, сформированных по семейному статусу клиента."
   ]
  },
  {
   "cell_type": "code",
   "execution_count": 24,
   "id": "8098ab3b",
   "metadata": {
    "deletable": false,
    "id": "8098ab3b"
   },
   "outputs": [
    {
     "data": {
      "text/html": [
       "<div>\n",
       "<style scoped>\n",
       "    .dataframe tbody tr th:only-of-type {\n",
       "        vertical-align: middle;\n",
       "    }\n",
       "\n",
       "    .dataframe tbody tr th {\n",
       "        vertical-align: top;\n",
       "    }\n",
       "\n",
       "    .dataframe thead th {\n",
       "        text-align: right;\n",
       "    }\n",
       "</style>\n",
       "<table border=\"1\" class=\"dataframe\">\n",
       "  <thead>\n",
       "    <tr style=\"text-align: right;\">\n",
       "      <th></th>\n",
       "      <th>customers_amount_total</th>\n",
       "      <th>debt_amount</th>\n",
       "      <th>debtors_percent</th>\n",
       "    </tr>\n",
       "    <tr>\n",
       "      <th>family_status</th>\n",
       "      <th></th>\n",
       "      <th></th>\n",
       "      <th></th>\n",
       "    </tr>\n",
       "  </thead>\n",
       "  <tbody>\n",
       "    <tr>\n",
       "      <th>Не женат / не замужем</th>\n",
       "      <td>2796</td>\n",
       "      <td>273</td>\n",
       "      <td>9.76</td>\n",
       "    </tr>\n",
       "    <tr>\n",
       "      <th>в разводе</th>\n",
       "      <td>1189</td>\n",
       "      <td>84</td>\n",
       "      <td>7.06</td>\n",
       "    </tr>\n",
       "    <tr>\n",
       "      <th>вдовец / вдова</th>\n",
       "      <td>951</td>\n",
       "      <td>63</td>\n",
       "      <td>6.62</td>\n",
       "    </tr>\n",
       "    <tr>\n",
       "      <th>гражданский брак</th>\n",
       "      <td>4134</td>\n",
       "      <td>385</td>\n",
       "      <td>9.31</td>\n",
       "    </tr>\n",
       "    <tr>\n",
       "      <th>женат / замужем</th>\n",
       "      <td>12261</td>\n",
       "      <td>927</td>\n",
       "      <td>7.56</td>\n",
       "    </tr>\n",
       "  </tbody>\n",
       "</table>\n",
       "</div>"
      ],
      "text/plain": [
       "                       customers_amount_total  debt_amount  debtors_percent\n",
       "family_status                                                              \n",
       "Не женат / не замужем                    2796          273             9.76\n",
       "в разводе                                1189           84             7.06\n",
       "вдовец / вдова                            951           63             6.62\n",
       "гражданский брак                         4134          385             9.31\n",
       "женат / замужем                         12261          927             7.56"
      ]
     },
     "execution_count": 24,
     "metadata": {},
     "output_type": "execute_result"
    }
   ],
   "source": [
    "# Аналогично п.2.7.1\n",
    "\n",
    "# Сгруппируем исходные данные из data по столбцу 'family_status' с применением .agg() к столбцу 'debt' с параметрами count и sum\n",
    "# Результат сохраним в data_family_status\n",
    "data_family_status = data.groupby(['family_status']).agg(customers_amount_total=('debt', 'count'), debt_amount=('debt', 'sum'))\n",
    "\n",
    "# Добавим столбец 'debtors_percent' в data_family_status с долей должников по каждой целевой группе\n",
    "data_family_status['debtors_percent'] = round((data_family_status['debt_amount'] / data_family_status['customers_amount_total']) * 100, 2)\n",
    "\n",
    "# Выведем результат на экран\n",
    "data_family_status"
   ]
  },
  {
   "cell_type": "markdown",
   "id": "9025ea91",
   "metadata": {},
   "source": [
    "<div class=\"alert alert-block alert-danger\">\n",
    "<b>Комментарий ревьюера - на доработку ❌</b>   \n",
    "\n",
    "Так, здесь очень хорошо, но давай вызовем функцию, о которой я писал выше\n",
    "\n",
    "</div>"
   ]
  },
  {
   "cell_type": "markdown",
   "id": "90db7735",
   "metadata": {},
   "source": [
    "<div class=\"alert alert-block alert-info\">\n",
    "<b>Комментарий исполнителя</b>\n",
    "    \n",
    "Ниже я представил скорректированное решение\n",
    "\n",
    "</div>"
   ]
  },
  {
   "cell_type": "code",
   "execution_count": 25,
   "id": "0e4ba3ab",
   "metadata": {},
   "outputs": [
    {
     "data": {
      "text/html": [
       "<div>\n",
       "<style scoped>\n",
       "    .dataframe tbody tr th:only-of-type {\n",
       "        vertical-align: middle;\n",
       "    }\n",
       "\n",
       "    .dataframe tbody tr th {\n",
       "        vertical-align: top;\n",
       "    }\n",
       "\n",
       "    .dataframe thead th {\n",
       "        text-align: right;\n",
       "    }\n",
       "</style>\n",
       "<table border=\"1\" class=\"dataframe\">\n",
       "  <thead>\n",
       "    <tr style=\"text-align: right;\">\n",
       "      <th></th>\n",
       "      <th>all_credits</th>\n",
       "      <th>all_debtors</th>\n",
       "      <th>share_debtors</th>\n",
       "    </tr>\n",
       "    <tr>\n",
       "      <th>family_status</th>\n",
       "      <th></th>\n",
       "      <th></th>\n",
       "      <th></th>\n",
       "    </tr>\n",
       "  </thead>\n",
       "  <tbody>\n",
       "    <tr>\n",
       "      <th>Не женат / не замужем</th>\n",
       "      <td>2796</td>\n",
       "      <td>273</td>\n",
       "      <td>0.097639</td>\n",
       "    </tr>\n",
       "    <tr>\n",
       "      <th>в разводе</th>\n",
       "      <td>1189</td>\n",
       "      <td>84</td>\n",
       "      <td>0.070648</td>\n",
       "    </tr>\n",
       "    <tr>\n",
       "      <th>вдовец / вдова</th>\n",
       "      <td>951</td>\n",
       "      <td>63</td>\n",
       "      <td>0.066246</td>\n",
       "    </tr>\n",
       "    <tr>\n",
       "      <th>гражданский брак</th>\n",
       "      <td>4134</td>\n",
       "      <td>385</td>\n",
       "      <td>0.093130</td>\n",
       "    </tr>\n",
       "    <tr>\n",
       "      <th>женат / замужем</th>\n",
       "      <td>12261</td>\n",
       "      <td>927</td>\n",
       "      <td>0.075606</td>\n",
       "    </tr>\n",
       "  </tbody>\n",
       "</table>\n",
       "</div>"
      ],
      "text/plain": [
       "                       all_credits  all_debtors  share_debtors\n",
       "family_status                                                 \n",
       "Не женат / не замужем         2796          273       0.097639\n",
       "в разводе                     1189           84       0.070648\n",
       "вдовец / вдова                 951           63       0.066246\n",
       "гражданский брак              4134          385       0.093130\n",
       "женат / замужем              12261          927       0.075606"
      ]
     },
     "metadata": {},
     "output_type": "display_data"
    }
   ],
   "source": [
    "# Выведем сводную таблицу с помощью функции get_pivot() с параметром 'family_status'\n",
    "get_pivot('family_status')"
   ]
  },
  {
   "cell_type": "markdown",
   "id": "af4f95cc",
   "metadata": {},
   "source": [
    "<div class=\"alert alert-success\">\n",
    "<b>Комментарий 2 ревьюера - все отлично! ✅ </b>\n",
    "\n",
    "Да, это именно то, что требуется!\n",
    "</div>"
   ]
  },
  {
   "cell_type": "markdown",
   "id": "c389ca63",
   "metadata": {
    "deletable": false,
    "id": "c389ca63"
   },
   "source": [
    "**Вывод:** существует зависимость между семейным положением клиента банка и возвратом кредита: клиенты, которые состоят в гражданском браке или не женатые (не замужем), более склоны не возвращать кредиты в срок, чем клиенты, состоящие или состоявшие в зарегистрированном браке."
   ]
  },
  {
   "cell_type": "markdown",
   "id": "5286ae91",
   "metadata": {},
   "source": [
    "<div class=\"alert alert-success\">\n",
    "<b>Комментарий ревьюера - все отлично! ✅ </b>\n",
    "\n",
    "Отличные выводы, так держать!\n",
    "</div>"
   ]
  },
  {
   "cell_type": "markdown",
   "id": "9529de68",
   "metadata": {
    "deletable": false,
    "editable": false,
    "id": "9529de68"
   },
   "source": [
    "#### 3.3 Есть ли зависимость между уровнем дохода и возвратом кредита в срок?"
   ]
  },
  {
   "cell_type": "code",
   "execution_count": 26,
   "id": "8787f44a",
   "metadata": {
    "deletable": false,
    "id": "8787f44a"
   },
   "outputs": [
    {
     "data": {
      "text/html": [
       "<div>\n",
       "<style scoped>\n",
       "    .dataframe tbody tr th:only-of-type {\n",
       "        vertical-align: middle;\n",
       "    }\n",
       "\n",
       "    .dataframe tbody tr th {\n",
       "        vertical-align: top;\n",
       "    }\n",
       "\n",
       "    .dataframe thead th {\n",
       "        text-align: right;\n",
       "    }\n",
       "</style>\n",
       "<table border=\"1\" class=\"dataframe\">\n",
       "  <thead>\n",
       "    <tr style=\"text-align: right;\">\n",
       "      <th></th>\n",
       "      <th>customers_amount_total</th>\n",
       "      <th>debt_amount</th>\n",
       "      <th>debtors_percent</th>\n",
       "    </tr>\n",
       "    <tr>\n",
       "      <th>total_income_category</th>\n",
       "      <th></th>\n",
       "      <th></th>\n",
       "      <th></th>\n",
       "    </tr>\n",
       "  </thead>\n",
       "  <tbody>\n",
       "    <tr>\n",
       "      <th>A</th>\n",
       "      <td>25</td>\n",
       "      <td>2</td>\n",
       "      <td>8.00</td>\n",
       "    </tr>\n",
       "    <tr>\n",
       "      <th>B</th>\n",
       "      <td>5014</td>\n",
       "      <td>354</td>\n",
       "      <td>7.06</td>\n",
       "    </tr>\n",
       "    <tr>\n",
       "      <th>C</th>\n",
       "      <td>15921</td>\n",
       "      <td>1353</td>\n",
       "      <td>8.50</td>\n",
       "    </tr>\n",
       "    <tr>\n",
       "      <th>D</th>\n",
       "      <td>349</td>\n",
       "      <td>21</td>\n",
       "      <td>6.02</td>\n",
       "    </tr>\n",
       "    <tr>\n",
       "      <th>E</th>\n",
       "      <td>22</td>\n",
       "      <td>2</td>\n",
       "      <td>9.09</td>\n",
       "    </tr>\n",
       "  </tbody>\n",
       "</table>\n",
       "</div>"
      ],
      "text/plain": [
       "                       customers_amount_total  debt_amount  debtors_percent\n",
       "total_income_category                                                      \n",
       "A                                          25            2             8.00\n",
       "B                                        5014          354             7.06\n",
       "C                                       15921         1353             8.50\n",
       "D                                         349           21             6.02\n",
       "E                                          22            2             9.09"
      ]
     },
     "execution_count": 26,
     "metadata": {},
     "output_type": "execute_result"
    }
   ],
   "source": [
    "# Аналогично п.2.7.2\n",
    "\n",
    "# Сгруппируем исходные данные из data по столбцу 'total_income_category' с применением .agg() к столбцу 'debt' с параметрами count и sum\n",
    "# Результат сохраним в data_income_level\n",
    "data_income_level = data.groupby(['total_income_category']).agg(customers_amount_total=('debt', 'count'), debt_amount=('debt', 'sum'))\n",
    "\n",
    "# Добавим столбец 'debtors_percent' в data_income_level с долей должников по каждой целевой группе\n",
    "data_income_level['debtors_percent'] = round((data_income_level['debt_amount'] / data_income_level['customers_amount_total']) * 100, 2)\n",
    "\n",
    "# Выведем результат на экран\n",
    "data_income_level"
   ]
  },
  {
   "cell_type": "markdown",
   "id": "e58e673e",
   "metadata": {},
   "source": [
    "<div class=\"alert alert-block alert-danger\">\n",
    "<b>Комментарий ревьюера - на доработку ❌</b>   \n",
    "\n",
    "И здесь все прекрасно, но давай вызовем функцию, о которой я писал выше\n",
    "\n",
    "</div>"
   ]
  },
  {
   "cell_type": "markdown",
   "id": "e904f0e1",
   "metadata": {},
   "source": [
    "<div class=\"alert alert-block alert-info\">\n",
    "<b>Комментарий исполнителя</b>\n",
    "    \n",
    "Ниже я представил скорректированное решение\n",
    "\n",
    "</div>"
   ]
  },
  {
   "cell_type": "code",
   "execution_count": 27,
   "id": "5cbb22b6",
   "metadata": {},
   "outputs": [
    {
     "data": {
      "text/html": [
       "<div>\n",
       "<style scoped>\n",
       "    .dataframe tbody tr th:only-of-type {\n",
       "        vertical-align: middle;\n",
       "    }\n",
       "\n",
       "    .dataframe tbody tr th {\n",
       "        vertical-align: top;\n",
       "    }\n",
       "\n",
       "    .dataframe thead th {\n",
       "        text-align: right;\n",
       "    }\n",
       "</style>\n",
       "<table border=\"1\" class=\"dataframe\">\n",
       "  <thead>\n",
       "    <tr style=\"text-align: right;\">\n",
       "      <th></th>\n",
       "      <th>all_credits</th>\n",
       "      <th>all_debtors</th>\n",
       "      <th>share_debtors</th>\n",
       "    </tr>\n",
       "    <tr>\n",
       "      <th>total_income_category</th>\n",
       "      <th></th>\n",
       "      <th></th>\n",
       "      <th></th>\n",
       "    </tr>\n",
       "  </thead>\n",
       "  <tbody>\n",
       "    <tr>\n",
       "      <th>A</th>\n",
       "      <td>25</td>\n",
       "      <td>2</td>\n",
       "      <td>0.080000</td>\n",
       "    </tr>\n",
       "    <tr>\n",
       "      <th>B</th>\n",
       "      <td>5014</td>\n",
       "      <td>354</td>\n",
       "      <td>0.070602</td>\n",
       "    </tr>\n",
       "    <tr>\n",
       "      <th>C</th>\n",
       "      <td>15921</td>\n",
       "      <td>1353</td>\n",
       "      <td>0.084982</td>\n",
       "    </tr>\n",
       "    <tr>\n",
       "      <th>D</th>\n",
       "      <td>349</td>\n",
       "      <td>21</td>\n",
       "      <td>0.060172</td>\n",
       "    </tr>\n",
       "    <tr>\n",
       "      <th>E</th>\n",
       "      <td>22</td>\n",
       "      <td>2</td>\n",
       "      <td>0.090909</td>\n",
       "    </tr>\n",
       "  </tbody>\n",
       "</table>\n",
       "</div>"
      ],
      "text/plain": [
       "                       all_credits  all_debtors  share_debtors\n",
       "total_income_category                                         \n",
       "A                               25            2       0.080000\n",
       "B                             5014          354       0.070602\n",
       "C                            15921         1353       0.084982\n",
       "D                              349           21       0.060172\n",
       "E                               22            2       0.090909"
      ]
     },
     "metadata": {},
     "output_type": "display_data"
    }
   ],
   "source": [
    "# Выведем сводную таблицу с помощью функции get_pivot() с параметром 'total_income_category'\n",
    "get_pivot('total_income_category')"
   ]
  },
  {
   "cell_type": "markdown",
   "id": "1fdb0c19",
   "metadata": {},
   "source": [
    "<div class=\"alert alert-success\">\n",
    "<b>Комментарий 2 ревьюера - все отлично! ✅ </b>\n",
    "\n",
    "Супер!\n",
    "</div>"
   ]
  },
  {
   "cell_type": "markdown",
   "id": "6dd14b57",
   "metadata": {
    "deletable": false,
    "id": "6dd14b57"
   },
   "source": [
    "**Вывод:** отследить зависимость невозможно. По данным результата анализа можно утверждать, что клиенты, доход которых находится выше среднего (B) и ниже среднего (D), являются более ответственными в части возврата кредитов в срок, чем клиенты, находящиеся в крайних (A, E) и средней (C) группах."
   ]
  },
  {
   "cell_type": "markdown",
   "id": "887a48a5",
   "metadata": {},
   "source": [
    "<div class=\"alert alert-success\">\n",
    "<b>Комментарий ревьюера - все отлично! ✅ </b>\n",
    "\n",
    "Супер! К выводам никаких вопросов нет, разве что стоит посмотреть на количество записей в группах, чтобы не случилось ситуации, в которой будут делаться выводы на малом количестве данных\n",
    "</div>"
   ]
  },
  {
   "cell_type": "markdown",
   "id": "1dcc9b12",
   "metadata": {
    "deletable": false,
    "editable": false,
    "id": "1dcc9b12"
   },
   "source": [
    "#### 3.4 Как разные цели кредита влияют на его возврат в срок?"
   ]
  },
  {
   "cell_type": "code",
   "execution_count": 28,
   "id": "c602bc8b",
   "metadata": {
    "deletable": false,
    "id": "c602bc8b"
   },
   "outputs": [
    {
     "data": {
      "text/html": [
       "<div>\n",
       "<style scoped>\n",
       "    .dataframe tbody tr th:only-of-type {\n",
       "        vertical-align: middle;\n",
       "    }\n",
       "\n",
       "    .dataframe tbody tr th {\n",
       "        vertical-align: top;\n",
       "    }\n",
       "\n",
       "    .dataframe thead th {\n",
       "        text-align: right;\n",
       "    }\n",
       "</style>\n",
       "<table border=\"1\" class=\"dataframe\">\n",
       "  <thead>\n",
       "    <tr style=\"text-align: right;\">\n",
       "      <th></th>\n",
       "      <th>customers_amount_total</th>\n",
       "      <th>debt_amount</th>\n",
       "      <th>debtors_percent</th>\n",
       "    </tr>\n",
       "    <tr>\n",
       "      <th>purpose_category</th>\n",
       "      <th></th>\n",
       "      <th></th>\n",
       "      <th></th>\n",
       "    </tr>\n",
       "  </thead>\n",
       "  <tbody>\n",
       "    <tr>\n",
       "      <th>операции с автомобилем</th>\n",
       "      <td>4279</td>\n",
       "      <td>400</td>\n",
       "      <td>9.35</td>\n",
       "    </tr>\n",
       "    <tr>\n",
       "      <th>операции с недвижимостью</th>\n",
       "      <td>10751</td>\n",
       "      <td>780</td>\n",
       "      <td>7.26</td>\n",
       "    </tr>\n",
       "    <tr>\n",
       "      <th>получение образования</th>\n",
       "      <td>3988</td>\n",
       "      <td>369</td>\n",
       "      <td>9.25</td>\n",
       "    </tr>\n",
       "    <tr>\n",
       "      <th>проведение свадьбы</th>\n",
       "      <td>2313</td>\n",
       "      <td>183</td>\n",
       "      <td>7.91</td>\n",
       "    </tr>\n",
       "  </tbody>\n",
       "</table>\n",
       "</div>"
      ],
      "text/plain": [
       "                          customers_amount_total  debt_amount  debtors_percent\n",
       "purpose_category                                                              \n",
       "операции с автомобилем                      4279          400             9.35\n",
       "операции с недвижимостью                   10751          780             7.26\n",
       "получение образования                       3988          369             9.25\n",
       "проведение свадьбы                          2313          183             7.91"
      ]
     },
     "execution_count": 28,
     "metadata": {},
     "output_type": "execute_result"
    }
   ],
   "source": [
    "# Аналогично п.2.7.3, но группирока происходит по столбцу 'purpose_category'\n",
    "\n",
    "data_purpose = data.groupby(['purpose_category']).agg(customers_amount_total=('debt', 'count'), debt_amount=('debt', 'sum'))\n",
    "data_purpose['debtors_percent'] = round((data_purpose['debt_amount'] / data_purpose['customers_amount_total']) * 100, 2)\n",
    "data_purpose"
   ]
  },
  {
   "cell_type": "markdown",
   "id": "124e41c4",
   "metadata": {},
   "source": [
    "<div class=\"alert alert-block alert-danger\">\n",
    "<b>Комментарий ревьюера - на доработку ❌</b>   \n",
    "\n",
    "Да и тут тоже все замечательно, просто жду вывов той функции, о которой я писал выше\n",
    "\n",
    "</div>"
   ]
  },
  {
   "cell_type": "markdown",
   "id": "fd987537",
   "metadata": {},
   "source": [
    "<div class=\"alert alert-block alert-info\">\n",
    "<b>Комментарий исполнителя</b>\n",
    "    \n",
    "Ниже я представил скорректированное решение\n",
    "\n",
    "</div>"
   ]
  },
  {
   "cell_type": "code",
   "execution_count": 29,
   "id": "82bada93",
   "metadata": {},
   "outputs": [
    {
     "data": {
      "text/html": [
       "<div>\n",
       "<style scoped>\n",
       "    .dataframe tbody tr th:only-of-type {\n",
       "        vertical-align: middle;\n",
       "    }\n",
       "\n",
       "    .dataframe tbody tr th {\n",
       "        vertical-align: top;\n",
       "    }\n",
       "\n",
       "    .dataframe thead th {\n",
       "        text-align: right;\n",
       "    }\n",
       "</style>\n",
       "<table border=\"1\" class=\"dataframe\">\n",
       "  <thead>\n",
       "    <tr style=\"text-align: right;\">\n",
       "      <th></th>\n",
       "      <th>all_credits</th>\n",
       "      <th>all_debtors</th>\n",
       "      <th>share_debtors</th>\n",
       "    </tr>\n",
       "    <tr>\n",
       "      <th>purpose_category</th>\n",
       "      <th></th>\n",
       "      <th></th>\n",
       "      <th></th>\n",
       "    </tr>\n",
       "  </thead>\n",
       "  <tbody>\n",
       "    <tr>\n",
       "      <th>операции с автомобилем</th>\n",
       "      <td>4279</td>\n",
       "      <td>400</td>\n",
       "      <td>0.093480</td>\n",
       "    </tr>\n",
       "    <tr>\n",
       "      <th>операции с недвижимостью</th>\n",
       "      <td>10751</td>\n",
       "      <td>780</td>\n",
       "      <td>0.072551</td>\n",
       "    </tr>\n",
       "    <tr>\n",
       "      <th>получение образования</th>\n",
       "      <td>3988</td>\n",
       "      <td>369</td>\n",
       "      <td>0.092528</td>\n",
       "    </tr>\n",
       "    <tr>\n",
       "      <th>проведение свадьбы</th>\n",
       "      <td>2313</td>\n",
       "      <td>183</td>\n",
       "      <td>0.079118</td>\n",
       "    </tr>\n",
       "  </tbody>\n",
       "</table>\n",
       "</div>"
      ],
      "text/plain": [
       "                          all_credits  all_debtors  share_debtors\n",
       "purpose_category                                                 \n",
       "операции с автомобилем           4279          400       0.093480\n",
       "операции с недвижимостью        10751          780       0.072551\n",
       "получение образования            3988          369       0.092528\n",
       "проведение свадьбы               2313          183       0.079118"
      ]
     },
     "metadata": {},
     "output_type": "display_data"
    }
   ],
   "source": [
    "# Выведем сводную таблицу с помощью функции get_pivot() с параметром 'purpose_category'\n",
    "get_pivot('purpose_category')"
   ]
  },
  {
   "cell_type": "markdown",
   "id": "7955ffdb",
   "metadata": {},
   "source": [
    "<div class=\"alert alert-success\">\n",
    "<b>Комментарий 2 ревьюера - все отлично! ✅ </b>\n",
    "\n",
    "Замечательно! Спасибо\n",
    "</div>"
   ]
  },
  {
   "cell_type": "markdown",
   "id": "cf05ed63",
   "metadata": {
    "deletable": false,
    "id": "cf05ed63"
   },
   "source": [
    "**Вывод:** клиенты, которые берут кредит на операции с автомобилем или на получение образования менее склоны возвращать кредит в срок, чем клиенты, получающие кредит на операции с недвижимостью или на проведение свадьбы."
   ]
  },
  {
   "cell_type": "markdown",
   "id": "572b7322",
   "metadata": {},
   "source": [
    "<div class=\"alert alert-success\">\n",
    "<b>Комментарий ревьюера - все отлично! ✅ </b>\n",
    "\n",
    "Да, все так! Молодец!\n",
    "</div>"
   ]
  },
  {
   "cell_type": "markdown",
   "id": "46c1f10b",
   "metadata": {
    "deletable": false,
    "editable": false,
    "id": "46c1f10b"
   },
   "source": [
    "#### 3.5 Приведите возможные причины появления пропусков в исходных данных."
   ]
  },
  {
   "cell_type": "markdown",
   "id": "3697d2a9",
   "metadata": {
    "deletable": false,
    "id": "3697d2a9"
   },
   "source": [
    "*Ответ:*\n",
    "1. Сотрудник банка не заполнил данные в карточке клиента\n",
    "2. Данные не были занесены в систему по технической ошибке\n",
    "3. Клиент решил не сообщать данные о своем трудоустройстве\n",
    "4. Клиент может быть трудоустроен неофициально\n",
    "5. Клиент может быть полноценным пенсионером (не работающим)\n",
    "6. Клиент может быть самозанятым\n",
    "и др."
   ]
  },
  {
   "cell_type": "markdown",
   "id": "1da791c2",
   "metadata": {},
   "source": [
    "<div class=\"alert alert-success\">\n",
    "<b>Комментарий ревьюера - все отлично! ✅ </b>\n",
    "\n",
    "Ответ принимается! Подвох был в том, что мы работаем с статистикой выданных кредитов. А люди могут умышленно не давать информацию, предполагая, что это создает выйгрышные условия для получения займа\n",
    "    \n",
    "И вторая причина пропуска данных может быть технические ошибки при слиянии или учете данных\n",
    "</div>"
   ]
  },
  {
   "cell_type": "markdown",
   "id": "3137d257",
   "metadata": {
    "deletable": false,
    "editable": false,
    "id": "3137d257"
   },
   "source": [
    "#### 3.6 Объясните, почему заполнить пропуски медианным значением — лучшее решение для количественных переменных."
   ]
  },
  {
   "cell_type": "markdown",
   "id": "cf40012a",
   "metadata": {
    "deletable": false,
    "id": "cf40012a"
   },
   "source": [
    "*Ответ:* в выборке могут быть выдающиеся значения. Медиана позволяет дать более объективное представление о \"разбросанных\" величинах"
   ]
  },
  {
   "cell_type": "markdown",
   "id": "04a619ea",
   "metadata": {},
   "source": [
    "<div class=\"alert alert-success\">\n",
    "<b>Комментарий ревьюера - все отлично! ✅ </b>\n",
    "\n",
    "Да, мы обычно говорим так - вбросы сильно влияют на средне-арифмитическое и существенно меньше на медиану. А на будущее -  надо понимать откуда вбросы получились и обосновано принимать решение по их обработке\n",
    "</div>"
   ]
  },
  {
   "cell_type": "markdown",
   "id": "57bc304e",
   "metadata": {
    "deletable": false,
    "editable": false,
    "id": "57bc304e"
   },
   "source": [
    "### Шаг 4: общий вывод."
   ]
  },
  {
   "cell_type": "markdown",
   "id": "1ab75d1c",
   "metadata": {
    "deletable": false,
    "id": "1ab75d1c"
   },
   "source": [
    "Таким образом, семейное положение и количество детей клиента влияет на факт погашения кредита в срок:\n",
    "1. Клиенты, не состоящие в официальном браке, чаще не возвращают кредит в срок, чем те клиенты, которые состоят или состояли в браке;\n",
    "2. Клиенты, у которых нет детей, чаще возвращают кредиты в срок, чем те клиенты, у которых есть дети."
   ]
  },
  {
   "cell_type": "markdown",
   "id": "ab2d3325",
   "metadata": {},
   "source": [
    "<div class=\"alert alert-block alert-danger\">\n",
    "<b>Комментарий ревьюера - на доработку ❌</b>   \n",
    "\n",
    "Прошу в финальный вывод добавить описание данных. Какие были получены данные, сколько их было, с какими ошибками/пропусками мы столкнулись, как обрабатывались. Поля описывать не надо - достаточно показать насколько можно доверять им!\n",
    "    \n",
    "Потому что, по моему опыту работу, в первую очередь заказчик исследования читает его и только потом изучает весь проект, если есть на то время. А рекомендации это сжатые промежуточные выводы по каждому из разделов. Лучше их дать списком\n",
    "    \n",
    "</div>"
   ]
  },
  {
   "cell_type": "markdown",
   "id": "e219e31d",
   "metadata": {},
   "source": [
    "<div class=\"alert alert-block alert-info\">\n",
    "<b>Комментарий исполнителя</b>\n",
    "    \n",
    "Ниже я представил исправленный вывод\n",
    "\n",
    "</div>"
   ]
  },
  {
   "cell_type": "markdown",
   "id": "7cd179d3",
   "metadata": {},
   "source": [
    "1. На вход был дан .csv файл со статистикой платежеспособности клиентов с 21525 записями. В нем содержатся данные по количеству детей клиента `children`, по семейному положению клиента `family_status`, по его ежемесячному доходу `total_income`, о наличии просрочки `debt`, а также данные о целях получения кредита `purpose`\n",
    "2. На этапе предобработки данных выяснилось, что в столбцах `days_employed`, `total_income` содержится одинаковое количество пропущенных значений (2174 шт.). Данные пропуски заполнили медианным значением ежемесячного дохода по каждому типу источника дохода `income_type`\n",
    "3. Далее заменили тип данных в столбце `total_income` с вещественного на целочисленный\n",
    "4. В столбце `education` находились неявные дубликаты. Привели значения к нижнему регистру\n",
    "5. Далее нашли явные дубликаты и избавились от них\n",
    "6. Для удобства анализа клиентов по уровню дохода написали функцию `categorize_income()`, которая присваивает категорию клиенту по его ежемесячному заработку (A-E: A - клиенты с высоким доходом, E - клиенты с низким доходом). Категория отражена в столбце `total_income_category` в таблице `data`\n",
    "7. Выведя уникальные значения из столбца `purpose`, обнаружилось, что в данных есть повторяющиеся значения по смыслу. Написали функцию `categorize_purpose()` по объединению целей получения кредитов к единым формулировкам\n",
    "8. Далее был проведен анализ зависимости возврата кредитов от количества детей, семейного положения, уровнем дохода и целей займа клиента. Используя функцию `get_pivot()` мы получали сводную таблицу, в которой содержится информация о доле должников в каждой исследуемой категории клиентов\n",
    "\n",
    "Таким образом, результаты анализа показали, что семейное положение и количество детей клиента влияет на факт погашения кредита в срок:\n",
    "1. Клиенты, не состоящие в официальном браке, чаще не возвращают кредит в срок, чем те клиенты, которые состоят или состояли в браке;\n",
    "2. Клиенты, у которых нет детей, чаще возвращают кредиты в срок, чем те клиенты, у которых есть дети."
   ]
  },
  {
   "cell_type": "markdown",
   "id": "239039fd",
   "metadata": {},
   "source": [
    "<div class=\"alert alert-success\">\n",
    "<b>Комментарий 2 ревьюера - все отлично! ✅ </b>\n",
    "\n",
    "Великолепно! Никаких вопросов\n",
    "</div>"
   ]
  },
  {
   "cell_type": "markdown",
   "id": "65a7659b",
   "metadata": {},
   "source": [
    "<div class=\"alert alert-info\">\n",
    "\n",
    "<h3> Резюме по проекту ❌ <a class=\"tocSkip\"> </h3>\n",
    "  \n",
    "Я вижу хорошо выполненную работу с наличием выводов! Давай добавим описание данных в финальный вывод и сделаем функцию для более простого вывода результатов\n",
    "  \n",
    "Остались сделать небольшие доработки, чтобы принять проект:\n",
    "* сделать сводную таблицу в одной функции\n",
    "* 4 раза ее вызвать  \n",
    "* добавить описание данных в финальный вывод\n",
    "\n",
    "Спасибо! Так держать 👍 Жду твой проект на повторное ревью!\n",
    "</div>"
   ]
  },
  {
   "cell_type": "markdown",
   "id": "2c3ea43e",
   "metadata": {},
   "source": [
    "<div class=\"alert alert-info\">\n",
    "\n",
    "<h3> Резюме 2 по проекту ✅<a class=\"tocSkip\"> </h3>\n",
    "  \n",
    "Дмитрий, спасибо что сделал функцию с сводной таблицей и учел все мои рекомендации. Так держать! \n",
    "\n",
    "Работа принята. Удачи с следующими проектами 🍀\n",
    "</div>"
   ]
  },
  {
   "cell_type": "code",
   "execution_count": null,
   "id": "62360936",
   "metadata": {},
   "outputs": [],
   "source": []
  }
 ],
 "metadata": {
  "ExecuteTimeLog": [
   {
    "duration": 763,
    "start_time": "2023-08-08T19:55:01.595Z"
   },
   {
    "duration": 27,
    "start_time": "2023-08-08T19:55:02.361Z"
   },
   {
    "duration": 62,
    "start_time": "2023-08-08T19:55:02.390Z"
   },
   {
    "duration": 25,
    "start_time": "2023-08-08T19:55:02.454Z"
   },
   {
    "duration": 64,
    "start_time": "2023-08-08T19:55:02.481Z"
   },
   {
    "duration": 4,
    "start_time": "2023-08-08T19:55:02.547Z"
   },
   {
    "duration": 35,
    "start_time": "2023-08-08T19:55:02.553Z"
   },
   {
    "duration": 27,
    "start_time": "2023-08-08T19:55:02.590Z"
   },
   {
    "duration": 47,
    "start_time": "2023-08-08T19:55:02.619Z"
   },
   {
    "duration": 28,
    "start_time": "2023-08-08T19:55:02.668Z"
   },
   {
    "duration": 60,
    "start_time": "2023-08-08T19:55:02.698Z"
   },
   {
    "duration": 10,
    "start_time": "2023-08-08T19:55:02.759Z"
   },
   {
    "duration": 24,
    "start_time": "2023-08-08T19:55:02.770Z"
   },
   {
    "duration": 27,
    "start_time": "2023-08-08T19:55:02.795Z"
   },
   {
    "duration": 45,
    "start_time": "2023-08-08T19:55:02.824Z"
   },
   {
    "duration": 26,
    "start_time": "2023-08-08T19:55:02.871Z"
   },
   {
    "duration": 3,
    "start_time": "2023-08-08T19:55:02.899Z"
   },
   {
    "duration": 43,
    "start_time": "2023-08-08T19:55:02.904Z"
   },
   {
    "duration": 44,
    "start_time": "2023-08-08T19:55:02.949Z"
   },
   {
    "duration": 4,
    "start_time": "2023-08-08T19:55:02.995Z"
   },
   {
    "duration": 16,
    "start_time": "2023-08-08T19:55:03.000Z"
   },
   {
    "duration": 17,
    "start_time": "2023-08-08T19:55:06.673Z"
   },
   {
    "duration": 1409,
    "start_time": "2023-08-09T17:25:33.540Z"
   },
   {
    "duration": 23,
    "start_time": "2023-08-09T17:25:34.951Z"
   },
   {
    "duration": 21,
    "start_time": "2023-08-09T17:25:34.976Z"
   },
   {
    "duration": 55,
    "start_time": "2023-08-09T17:25:35.000Z"
   },
   {
    "duration": 40,
    "start_time": "2023-08-09T17:25:35.057Z"
   },
   {
    "duration": 25,
    "start_time": "2023-08-09T17:25:35.108Z"
   },
   {
    "duration": 9,
    "start_time": "2023-08-09T17:25:35.149Z"
   },
   {
    "duration": 4,
    "start_time": "2023-08-09T17:25:35.160Z"
   },
   {
    "duration": 7,
    "start_time": "2023-08-09T17:25:35.166Z"
   },
   {
    "duration": 18,
    "start_time": "2023-08-09T17:25:35.175Z"
   },
   {
    "duration": 119,
    "start_time": "2023-08-09T17:25:35.194Z"
   },
   {
    "duration": 28,
    "start_time": "2023-08-09T17:25:35.324Z"
   },
   {
    "duration": 13,
    "start_time": "2023-08-09T17:25:35.353Z"
   },
   {
    "duration": 52,
    "start_time": "2023-08-09T17:25:35.367Z"
   },
   {
    "duration": 51,
    "start_time": "2023-08-09T17:25:35.429Z"
   },
   {
    "duration": 32,
    "start_time": "2023-08-09T17:25:35.482Z"
   },
   {
    "duration": 53,
    "start_time": "2023-08-09T17:25:35.516Z"
   },
   {
    "duration": 50,
    "start_time": "2023-08-09T17:25:35.571Z"
   },
   {
    "duration": 44,
    "start_time": "2023-08-09T17:25:35.629Z"
   },
   {
    "duration": 38,
    "start_time": "2023-08-09T17:25:35.675Z"
   },
   {
    "duration": 55,
    "start_time": "2023-08-09T17:25:35.715Z"
   },
   {
    "duration": 52,
    "start_time": "2023-08-09T17:25:35.771Z"
   },
   {
    "duration": 20,
    "start_time": "2023-08-09T17:27:33.576Z"
   },
   {
    "duration": 14,
    "start_time": "2023-08-09T17:32:29.937Z"
   },
   {
    "duration": 16,
    "start_time": "2023-08-09T17:38:32.654Z"
   },
   {
    "duration": 15,
    "start_time": "2023-08-09T17:42:25.138Z"
   },
   {
    "duration": 29,
    "start_time": "2023-08-09T17:43:04.992Z"
   },
   {
    "duration": 152,
    "start_time": "2023-08-09T17:56:03.625Z"
   },
   {
    "duration": 41,
    "start_time": "2023-08-09T17:56:17.818Z"
   },
   {
    "duration": 10,
    "start_time": "2023-08-09T17:57:14.654Z"
   },
   {
    "duration": 13,
    "start_time": "2023-08-09T17:58:14.230Z"
   },
   {
    "duration": 14,
    "start_time": "2023-08-09T17:58:24.127Z"
   },
   {
    "duration": 31,
    "start_time": "2023-08-09T17:59:07.422Z"
   },
   {
    "duration": 14,
    "start_time": "2023-08-09T18:12:02.039Z"
   },
   {
    "duration": 8,
    "start_time": "2023-08-09T18:12:16.960Z"
   },
   {
    "duration": 8,
    "start_time": "2023-08-09T18:15:00.944Z"
   },
   {
    "duration": 6,
    "start_time": "2023-08-09T18:19:45.490Z"
   },
   {
    "duration": 23,
    "start_time": "2023-08-09T18:20:41.846Z"
   },
   {
    "duration": 209,
    "start_time": "2023-08-09T18:23:06.018Z"
   },
   {
    "duration": 12,
    "start_time": "2023-08-09T18:23:11.894Z"
   },
   {
    "duration": 16,
    "start_time": "2023-08-09T18:23:57.761Z"
   },
   {
    "duration": 16,
    "start_time": "2023-08-09T18:25:26.762Z"
   },
   {
    "duration": 27,
    "start_time": "2023-08-09T18:27:03.738Z"
   },
   {
    "duration": 23,
    "start_time": "2023-08-09T18:30:09.040Z"
   },
   {
    "duration": 52,
    "start_time": "2023-08-09T18:30:19.897Z"
   },
   {
    "duration": 29,
    "start_time": "2023-08-09T18:30:39.632Z"
   },
   {
    "duration": 33,
    "start_time": "2023-08-09T18:30:49.091Z"
   },
   {
    "duration": 113,
    "start_time": "2023-08-09T18:31:05.734Z"
   },
   {
    "duration": 25,
    "start_time": "2023-08-09T18:31:05.852Z"
   },
   {
    "duration": 54,
    "start_time": "2023-08-09T18:31:05.878Z"
   },
   {
    "duration": 42,
    "start_time": "2023-08-09T18:31:05.950Z"
   },
   {
    "duration": 139,
    "start_time": "2023-08-09T18:31:05.994Z"
   },
   {
    "duration": 27,
    "start_time": "2023-08-09T18:31:06.138Z"
   },
   {
    "duration": 121,
    "start_time": "2023-08-09T18:31:06.169Z"
   },
   {
    "duration": 10,
    "start_time": "2023-08-09T18:31:06.292Z"
   },
   {
    "duration": 81,
    "start_time": "2023-08-09T18:31:06.303Z"
   },
   {
    "duration": 46,
    "start_time": "2023-08-09T18:31:06.387Z"
   },
   {
    "duration": 55,
    "start_time": "2023-08-09T18:31:06.434Z"
   },
   {
    "duration": 38,
    "start_time": "2023-08-09T18:31:06.491Z"
   },
   {
    "duration": 63,
    "start_time": "2023-08-09T18:31:06.530Z"
   },
   {
    "duration": 81,
    "start_time": "2023-08-09T18:31:06.596Z"
   },
   {
    "duration": 58,
    "start_time": "2023-08-09T18:31:06.683Z"
   },
   {
    "duration": 56,
    "start_time": "2023-08-09T18:31:06.745Z"
   },
   {
    "duration": 5,
    "start_time": "2023-08-09T18:31:06.805Z"
   },
   {
    "duration": 71,
    "start_time": "2023-08-09T18:31:06.814Z"
   },
   {
    "duration": 11,
    "start_time": "2023-08-09T18:31:06.886Z"
   },
   {
    "duration": 78,
    "start_time": "2023-08-09T18:31:06.898Z"
   },
   {
    "duration": 15,
    "start_time": "2023-08-09T18:31:06.978Z"
   },
   {
    "duration": 24,
    "start_time": "2023-08-09T18:31:08.958Z"
   },
   {
    "duration": 8,
    "start_time": "2023-08-09T18:31:25.662Z"
   },
   {
    "duration": 16,
    "start_time": "2023-08-09T18:31:35.893Z"
   },
   {
    "duration": 7,
    "start_time": "2023-08-09T18:31:46.073Z"
   },
   {
    "duration": 9,
    "start_time": "2023-08-09T18:31:54.461Z"
   },
   {
    "duration": 13,
    "start_time": "2023-08-09T18:32:51.569Z"
   },
   {
    "duration": 8,
    "start_time": "2023-08-09T18:34:17.342Z"
   },
   {
    "duration": 17,
    "start_time": "2023-08-09T18:34:24.698Z"
   },
   {
    "duration": 20,
    "start_time": "2023-08-09T18:35:16.742Z"
   },
   {
    "duration": 9,
    "start_time": "2023-08-09T18:35:41.758Z"
   },
   {
    "duration": 15,
    "start_time": "2023-08-09T18:36:40.370Z"
   },
   {
    "duration": 25,
    "start_time": "2023-08-09T18:36:59.188Z"
   },
   {
    "duration": 12,
    "start_time": "2023-08-09T18:37:45.271Z"
   },
   {
    "duration": 1467,
    "start_time": "2023-08-09T18:50:06.955Z"
   },
   {
    "duration": 1092,
    "start_time": "2023-08-09T18:50:31.686Z"
   },
   {
    "duration": 6,
    "start_time": "2023-08-09T18:53:55.771Z"
   },
   {
    "duration": 4819,
    "start_time": "2023-08-09T18:54:05.446Z"
   },
   {
    "duration": 43,
    "start_time": "2023-08-09T19:02:39.002Z"
   },
   {
    "duration": 59,
    "start_time": "2023-08-09T19:03:04.898Z"
   },
   {
    "duration": 8,
    "start_time": "2023-08-09T19:03:13.051Z"
   },
   {
    "duration": 15,
    "start_time": "2023-08-09T19:03:25.968Z"
   },
   {
    "duration": 11,
    "start_time": "2023-08-09T19:04:04.022Z"
   },
   {
    "duration": 18,
    "start_time": "2023-08-09T19:04:10.232Z"
   },
   {
    "duration": 26,
    "start_time": "2023-08-09T19:04:20.923Z"
   },
   {
    "duration": 21,
    "start_time": "2023-08-09T19:04:38.543Z"
   },
   {
    "duration": 17,
    "start_time": "2023-08-09T19:05:02.923Z"
   },
   {
    "duration": 12,
    "start_time": "2023-08-09T19:06:46.058Z"
   },
   {
    "duration": 16,
    "start_time": "2023-08-09T19:08:58.925Z"
   },
   {
    "duration": 11,
    "start_time": "2023-08-09T19:09:38.093Z"
   },
   {
    "duration": 28,
    "start_time": "2023-08-09T19:12:23.898Z"
   },
   {
    "duration": 15,
    "start_time": "2023-08-09T19:12:45.862Z"
   },
   {
    "duration": 11,
    "start_time": "2023-08-09T19:13:07.882Z"
   },
   {
    "duration": 12,
    "start_time": "2023-08-09T19:13:32.330Z"
   },
   {
    "duration": 20,
    "start_time": "2023-08-09T19:13:45.550Z"
   },
   {
    "duration": 13,
    "start_time": "2023-08-09T19:14:04.834Z"
   },
   {
    "duration": 127,
    "start_time": "2023-08-09T19:14:19.970Z"
   },
   {
    "duration": 23,
    "start_time": "2023-08-09T19:14:20.099Z"
   },
   {
    "duration": 99,
    "start_time": "2023-08-09T19:14:20.124Z"
   },
   {
    "duration": 131,
    "start_time": "2023-08-09T19:14:20.228Z"
   },
   {
    "duration": 64,
    "start_time": "2023-08-09T19:14:20.365Z"
   },
   {
    "duration": 44,
    "start_time": "2023-08-09T19:14:20.434Z"
   },
   {
    "duration": 17,
    "start_time": "2023-08-09T19:14:20.481Z"
   },
   {
    "duration": 77,
    "start_time": "2023-08-09T19:14:20.507Z"
   },
   {
    "duration": 22,
    "start_time": "2023-08-09T19:14:20.586Z"
   },
   {
    "duration": 79,
    "start_time": "2023-08-09T19:14:20.609Z"
   },
   {
    "duration": 106,
    "start_time": "2023-08-09T19:14:20.689Z"
   },
   {
    "duration": 32,
    "start_time": "2023-08-09T19:14:20.796Z"
   },
   {
    "duration": 126,
    "start_time": "2023-08-09T19:14:20.829Z"
   },
   {
    "duration": 38,
    "start_time": "2023-08-09T19:14:20.958Z"
   },
   {
    "duration": 98,
    "start_time": "2023-08-09T19:14:20.998Z"
   },
   {
    "duration": 59,
    "start_time": "2023-08-09T19:14:21.098Z"
   },
   {
    "duration": 14,
    "start_time": "2023-08-09T19:14:21.160Z"
   },
   {
    "duration": 36,
    "start_time": "2023-08-09T19:14:21.177Z"
   },
   {
    "duration": 69,
    "start_time": "2023-08-09T19:14:21.215Z"
   },
   {
    "duration": 3,
    "start_time": "2023-08-09T19:14:21.286Z"
   },
   {
    "duration": 73,
    "start_time": "2023-08-09T19:14:21.290Z"
   },
   {
    "duration": 25,
    "start_time": "2023-08-09T19:14:24.199Z"
   },
   {
    "duration": 13,
    "start_time": "2023-08-09T19:15:02.876Z"
   },
   {
    "duration": 6,
    "start_time": "2023-08-09T19:15:28.739Z"
   },
   {
    "duration": 17,
    "start_time": "2023-08-09T19:15:34.419Z"
   },
   {
    "duration": 21,
    "start_time": "2023-08-09T19:21:20.524Z"
   },
   {
    "duration": 16,
    "start_time": "2023-08-09T19:21:29.070Z"
   },
   {
    "duration": 10,
    "start_time": "2023-08-09T19:23:31.627Z"
   },
   {
    "duration": 52,
    "start_time": "2023-08-09T19:24:04.385Z"
   },
   {
    "duration": 19,
    "start_time": "2023-08-09T19:24:36.958Z"
   },
   {
    "duration": 15,
    "start_time": "2023-08-09T19:29:13.851Z"
   },
   {
    "duration": 13,
    "start_time": "2023-08-09T19:29:27.453Z"
   },
   {
    "duration": 12,
    "start_time": "2023-08-09T19:29:49.445Z"
   },
   {
    "duration": 20,
    "start_time": "2023-08-09T19:30:18.023Z"
   },
   {
    "duration": 12,
    "start_time": "2023-08-09T19:30:48.827Z"
   },
   {
    "duration": 23,
    "start_time": "2023-08-09T19:32:19.318Z"
   },
   {
    "duration": 21,
    "start_time": "2023-08-09T19:36:44.598Z"
   },
   {
    "duration": 9,
    "start_time": "2023-08-09T19:37:04.763Z"
   },
   {
    "duration": 17,
    "start_time": "2023-08-09T19:37:25.375Z"
   },
   {
    "duration": 38,
    "start_time": "2023-08-09T19:37:48.227Z"
   },
   {
    "duration": 14,
    "start_time": "2023-08-09T19:38:20.570Z"
   },
   {
    "duration": 34,
    "start_time": "2023-08-09T19:38:28.695Z"
   },
   {
    "duration": 18,
    "start_time": "2023-08-09T19:40:59.124Z"
   },
   {
    "duration": 9,
    "start_time": "2023-08-09T19:41:25.462Z"
   },
   {
    "duration": 41,
    "start_time": "2023-08-09T19:43:41.998Z"
   },
   {
    "duration": 19,
    "start_time": "2023-08-09T19:44:01.143Z"
   },
   {
    "duration": 16,
    "start_time": "2023-08-09T19:45:44.834Z"
   },
   {
    "duration": 16,
    "start_time": "2023-08-09T19:46:19.341Z"
   },
   {
    "duration": 7,
    "start_time": "2023-08-09T19:46:25.934Z"
   },
   {
    "duration": 7,
    "start_time": "2023-08-09T19:46:39.327Z"
   },
   {
    "duration": 20,
    "start_time": "2023-08-09T19:50:07.414Z"
   },
   {
    "duration": 23,
    "start_time": "2023-08-09T19:51:22.226Z"
   },
   {
    "duration": 19,
    "start_time": "2023-08-09T19:52:14.154Z"
   },
   {
    "duration": 23,
    "start_time": "2023-08-09T19:54:16.318Z"
   },
   {
    "duration": 48,
    "start_time": "2023-08-09T19:54:23.793Z"
   },
   {
    "duration": 21,
    "start_time": "2023-08-09T19:54:50.726Z"
   },
   {
    "duration": 24,
    "start_time": "2023-08-09T19:56:07.598Z"
   },
   {
    "duration": 28,
    "start_time": "2023-08-09T19:56:58.830Z"
   },
   {
    "duration": 45,
    "start_time": "2023-08-09T19:57:10.497Z"
   },
   {
    "duration": 14,
    "start_time": "2023-08-09T19:57:17.638Z"
   },
   {
    "duration": 48,
    "start_time": "2023-08-09T19:57:25.993Z"
   },
   {
    "duration": 21,
    "start_time": "2023-08-09T19:58:00.729Z"
   },
   {
    "duration": 41,
    "start_time": "2023-08-09T19:58:08.892Z"
   },
   {
    "duration": 48,
    "start_time": "2023-08-12T10:25:07.072Z"
   },
   {
    "duration": 528,
    "start_time": "2023-08-12T10:25:12.603Z"
   },
   {
    "duration": 36,
    "start_time": "2023-08-12T10:25:13.133Z"
   },
   {
    "duration": 15,
    "start_time": "2023-08-12T10:25:13.171Z"
   },
   {
    "duration": 9,
    "start_time": "2023-08-12T10:25:13.188Z"
   },
   {
    "duration": 37,
    "start_time": "2023-08-12T10:25:13.198Z"
   },
   {
    "duration": 5,
    "start_time": "2023-08-12T10:25:13.237Z"
   },
   {
    "duration": 33,
    "start_time": "2023-08-12T10:25:13.243Z"
   },
   {
    "duration": 7,
    "start_time": "2023-08-12T10:25:13.279Z"
   },
   {
    "duration": 10,
    "start_time": "2023-08-12T10:25:13.287Z"
   },
   {
    "duration": 4,
    "start_time": "2023-08-12T10:25:13.300Z"
   },
   {
    "duration": 33,
    "start_time": "2023-08-12T10:25:13.306Z"
   },
   {
    "duration": 26,
    "start_time": "2023-08-12T10:25:13.341Z"
   },
   {
    "duration": 8,
    "start_time": "2023-08-12T10:25:13.369Z"
   },
   {
    "duration": 20,
    "start_time": "2023-08-12T10:25:13.379Z"
   },
   {
    "duration": 26,
    "start_time": "2023-08-12T10:25:13.400Z"
   },
   {
    "duration": 34,
    "start_time": "2023-08-12T10:25:13.427Z"
   },
   {
    "duration": 5,
    "start_time": "2023-08-12T10:25:13.462Z"
   },
   {
    "duration": 14,
    "start_time": "2023-08-12T10:25:13.469Z"
   },
   {
    "duration": 7,
    "start_time": "2023-08-12T10:25:13.485Z"
   },
   {
    "duration": 4,
    "start_time": "2023-08-12T10:25:13.494Z"
   },
   {
    "duration": 17,
    "start_time": "2023-08-12T10:25:13.499Z"
   },
   {
    "duration": 16,
    "start_time": "2023-08-12T10:25:13.518Z"
   },
   {
    "duration": 14,
    "start_time": "2023-08-12T10:25:17.312Z"
   },
   {
    "duration": 29,
    "start_time": "2023-08-12T10:27:30.542Z"
   },
   {
    "duration": 18,
    "start_time": "2023-08-12T10:45:46.634Z"
   },
   {
    "duration": 18,
    "start_time": "2023-08-12T11:02:58.180Z"
   },
   {
    "duration": 28,
    "start_time": "2023-08-12T11:24:37.890Z"
   },
   {
    "duration": 16,
    "start_time": "2023-08-12T11:24:46.625Z"
   },
   {
    "duration": 112,
    "start_time": "2023-08-12T11:25:20.642Z"
   },
   {
    "duration": 2014,
    "start_time": "2023-08-12T11:25:34.730Z"
   },
   {
    "duration": 17,
    "start_time": "2023-08-12T11:25:53.583Z"
   },
   {
    "duration": 33,
    "start_time": "2023-08-12T11:42:53.880Z"
   },
   {
    "duration": 141,
    "start_time": "2023-08-12T11:49:11.551Z"
   },
   {
    "duration": 33,
    "start_time": "2023-08-12T11:49:17.980Z"
   },
   {
    "duration": 23,
    "start_time": "2023-08-12T11:49:30.299Z"
   },
   {
    "duration": 90,
    "start_time": "2023-08-12T11:50:03.650Z"
   },
   {
    "duration": 9,
    "start_time": "2023-08-12T11:50:06.794Z"
   },
   {
    "duration": 11,
    "start_time": "2023-08-12T11:50:22.810Z"
   },
   {
    "duration": 18,
    "start_time": "2023-08-12T11:50:35.188Z"
   },
   {
    "duration": 10,
    "start_time": "2023-08-12T11:51:34.355Z"
   },
   {
    "duration": 19,
    "start_time": "2023-08-12T11:51:56.924Z"
   },
   {
    "duration": 24,
    "start_time": "2023-08-12T11:52:14.409Z"
   },
   {
    "duration": 1521,
    "start_time": "2023-08-12T12:00:18.409Z"
   },
   {
    "duration": 223,
    "start_time": "2023-08-12T12:00:39.856Z"
   },
   {
    "duration": 31,
    "start_time": "2023-08-12T12:00:45.519Z"
   },
   {
    "duration": 28,
    "start_time": "2023-08-12T12:26:58.215Z"
   },
   {
    "duration": 29,
    "start_time": "2023-08-12T12:26:59.889Z"
   },
   {
    "duration": 76,
    "start_time": "2023-08-12T12:59:21.501Z"
   },
   {
    "duration": 17,
    "start_time": "2023-08-12T12:59:21.579Z"
   },
   {
    "duration": 16,
    "start_time": "2023-08-12T12:59:21.598Z"
   },
   {
    "duration": 9,
    "start_time": "2023-08-12T12:59:21.616Z"
   },
   {
    "duration": 75,
    "start_time": "2023-08-12T12:59:21.628Z"
   },
   {
    "duration": 4,
    "start_time": "2023-08-12T12:59:21.704Z"
   },
   {
    "duration": 18,
    "start_time": "2023-08-12T12:59:21.709Z"
   },
   {
    "duration": 5,
    "start_time": "2023-08-12T12:59:21.729Z"
   },
   {
    "duration": 6,
    "start_time": "2023-08-12T12:59:21.736Z"
   },
   {
    "duration": 24,
    "start_time": "2023-08-12T12:59:21.755Z"
   },
   {
    "duration": 50,
    "start_time": "2023-08-12T12:59:21.781Z"
   },
   {
    "duration": 10,
    "start_time": "2023-08-12T12:59:21.833Z"
   },
   {
    "duration": 14,
    "start_time": "2023-08-12T12:59:21.845Z"
   },
   {
    "duration": 33,
    "start_time": "2023-08-12T12:59:21.862Z"
   },
   {
    "duration": 22,
    "start_time": "2023-08-12T12:59:21.897Z"
   },
   {
    "duration": 17,
    "start_time": "2023-08-12T12:59:21.920Z"
   },
   {
    "duration": 3,
    "start_time": "2023-08-12T12:59:21.939Z"
   },
   {
    "duration": 37,
    "start_time": "2023-08-12T12:59:21.944Z"
   },
   {
    "duration": 7,
    "start_time": "2023-08-12T12:59:21.988Z"
   },
   {
    "duration": 6,
    "start_time": "2023-08-12T12:59:21.996Z"
   },
   {
    "duration": 12,
    "start_time": "2023-08-12T12:59:22.003Z"
   },
   {
    "duration": 17,
    "start_time": "2023-08-12T12:59:22.016Z"
   },
   {
    "duration": 29,
    "start_time": "2023-08-12T12:59:22.035Z"
   },
   {
    "duration": 24,
    "start_time": "2023-08-12T12:59:22.069Z"
   },
   {
    "duration": 19,
    "start_time": "2023-08-12T12:59:22.095Z"
   },
   {
    "duration": 550,
    "start_time": "2023-08-12T13:35:47.805Z"
   },
   {
    "duration": 39,
    "start_time": "2023-08-12T13:35:48.356Z"
   },
   {
    "duration": 15,
    "start_time": "2023-08-12T13:35:48.399Z"
   },
   {
    "duration": 19,
    "start_time": "2023-08-12T13:35:48.415Z"
   },
   {
    "duration": 54,
    "start_time": "2023-08-12T13:35:48.435Z"
   },
   {
    "duration": 4,
    "start_time": "2023-08-12T13:35:48.491Z"
   },
   {
    "duration": 28,
    "start_time": "2023-08-12T13:35:48.496Z"
   },
   {
    "duration": 37,
    "start_time": "2023-08-12T13:35:48.526Z"
   },
   {
    "duration": 23,
    "start_time": "2023-08-12T13:35:48.565Z"
   },
   {
    "duration": 16,
    "start_time": "2023-08-12T13:35:48.594Z"
   },
   {
    "duration": 90,
    "start_time": "2023-08-12T13:35:48.611Z"
   },
   {
    "duration": 9,
    "start_time": "2023-08-12T13:35:48.704Z"
   },
   {
    "duration": 22,
    "start_time": "2023-08-12T13:35:48.715Z"
   },
   {
    "duration": 25,
    "start_time": "2023-08-12T13:35:48.738Z"
   },
   {
    "duration": 52,
    "start_time": "2023-08-12T13:35:48.764Z"
   },
   {
    "duration": 22,
    "start_time": "2023-08-12T13:35:48.818Z"
   },
   {
    "duration": 14,
    "start_time": "2023-08-12T13:35:48.842Z"
   },
   {
    "duration": 36,
    "start_time": "2023-08-12T13:35:48.857Z"
   },
   {
    "duration": 16,
    "start_time": "2023-08-12T13:35:48.895Z"
   },
   {
    "duration": 9,
    "start_time": "2023-08-12T13:35:48.912Z"
   },
   {
    "duration": 46,
    "start_time": "2023-08-12T13:35:48.922Z"
   },
   {
    "duration": 30,
    "start_time": "2023-08-12T13:35:48.970Z"
   },
   {
    "duration": 24,
    "start_time": "2023-08-12T13:35:49.003Z"
   },
   {
    "duration": 27,
    "start_time": "2023-08-12T13:35:49.028Z"
   },
   {
    "duration": 24,
    "start_time": "2023-08-12T13:35:49.057Z"
   },
   {
    "duration": 576,
    "start_time": "2023-08-12T15:01:11.174Z"
   },
   {
    "duration": 27,
    "start_time": "2023-08-12T15:01:11.752Z"
   },
   {
    "duration": 20,
    "start_time": "2023-08-12T15:01:11.781Z"
   },
   {
    "duration": 12,
    "start_time": "2023-08-12T15:01:11.803Z"
   },
   {
    "duration": 68,
    "start_time": "2023-08-12T15:01:11.818Z"
   },
   {
    "duration": 4,
    "start_time": "2023-08-12T15:01:11.888Z"
   },
   {
    "duration": 14,
    "start_time": "2023-08-12T15:01:11.894Z"
   },
   {
    "duration": 5,
    "start_time": "2023-08-12T15:01:11.910Z"
   },
   {
    "duration": 9,
    "start_time": "2023-08-12T15:01:11.916Z"
   },
   {
    "duration": 4,
    "start_time": "2023-08-12T15:01:11.927Z"
   },
   {
    "duration": 53,
    "start_time": "2023-08-12T15:01:11.961Z"
   },
   {
    "duration": 9,
    "start_time": "2023-08-12T15:01:12.016Z"
   },
   {
    "duration": 4,
    "start_time": "2023-08-12T15:01:12.027Z"
   },
   {
    "duration": 40,
    "start_time": "2023-08-12T15:01:12.034Z"
   },
   {
    "duration": 24,
    "start_time": "2023-08-12T15:01:12.076Z"
   },
   {
    "duration": 26,
    "start_time": "2023-08-12T15:01:12.102Z"
   },
   {
    "duration": 6,
    "start_time": "2023-08-12T15:01:12.130Z"
   },
   {
    "duration": 38,
    "start_time": "2023-08-12T15:01:12.138Z"
   },
   {
    "duration": 9,
    "start_time": "2023-08-12T15:01:12.178Z"
   },
   {
    "duration": 4,
    "start_time": "2023-08-12T15:01:12.189Z"
   },
   {
    "duration": 26,
    "start_time": "2023-08-12T15:01:12.194Z"
   },
   {
    "duration": 156,
    "start_time": "2023-08-12T15:01:12.222Z"
   },
   {
    "duration": 85,
    "start_time": "2023-08-12T15:01:15.032Z"
   },
   {
    "duration": 16,
    "start_time": "2023-08-12T15:02:54.306Z"
   },
   {
    "duration": 14,
    "start_time": "2023-08-12T15:03:09.311Z"
   },
   {
    "duration": 90,
    "start_time": "2023-08-12T15:06:27.052Z"
   },
   {
    "duration": 22,
    "start_time": "2023-08-12T15:06:27.144Z"
   },
   {
    "duration": 17,
    "start_time": "2023-08-12T15:06:27.172Z"
   },
   {
    "duration": 9,
    "start_time": "2023-08-12T15:06:27.191Z"
   },
   {
    "duration": 32,
    "start_time": "2023-08-12T15:06:27.201Z"
   },
   {
    "duration": 4,
    "start_time": "2023-08-12T15:06:27.234Z"
   },
   {
    "duration": 35,
    "start_time": "2023-08-12T15:06:27.239Z"
   },
   {
    "duration": 5,
    "start_time": "2023-08-12T15:06:27.276Z"
   },
   {
    "duration": 6,
    "start_time": "2023-08-12T15:06:27.283Z"
   },
   {
    "duration": 4,
    "start_time": "2023-08-12T15:06:27.291Z"
   },
   {
    "duration": 37,
    "start_time": "2023-08-12T15:06:27.297Z"
   },
   {
    "duration": 39,
    "start_time": "2023-08-12T15:06:27.336Z"
   },
   {
    "duration": 4,
    "start_time": "2023-08-12T15:06:27.377Z"
   },
   {
    "duration": 16,
    "start_time": "2023-08-12T15:06:27.383Z"
   },
   {
    "duration": 24,
    "start_time": "2023-08-12T15:06:27.400Z"
   },
   {
    "duration": 18,
    "start_time": "2023-08-12T15:06:27.426Z"
   },
   {
    "duration": 28,
    "start_time": "2023-08-12T15:06:27.446Z"
   },
   {
    "duration": 18,
    "start_time": "2023-08-12T15:06:27.475Z"
   },
   {
    "duration": 12,
    "start_time": "2023-08-12T15:06:27.495Z"
   },
   {
    "duration": 11,
    "start_time": "2023-08-12T15:06:27.509Z"
   },
   {
    "duration": 14,
    "start_time": "2023-08-12T15:06:27.522Z"
   },
   {
    "duration": 18,
    "start_time": "2023-08-12T15:06:29.617Z"
   },
   {
    "duration": 24,
    "start_time": "2023-08-12T15:09:20.503Z"
   },
   {
    "duration": 27,
    "start_time": "2023-08-12T15:09:25.652Z"
   },
   {
    "duration": 14,
    "start_time": "2023-08-12T15:09:27.684Z"
   },
   {
    "duration": 25,
    "start_time": "2023-08-12T15:10:22.099Z"
   },
   {
    "duration": 30,
    "start_time": "2023-08-12T15:11:20.313Z"
   },
   {
    "duration": 59,
    "start_time": "2023-08-12T15:11:59.695Z"
   },
   {
    "duration": 15,
    "start_time": "2023-08-12T15:12:42.209Z"
   },
   {
    "duration": 34,
    "start_time": "2023-08-12T15:13:03.123Z"
   },
   {
    "duration": 24,
    "start_time": "2023-08-12T15:14:29.004Z"
   },
   {
    "duration": 27,
    "start_time": "2023-08-12T15:15:00.872Z"
   },
   {
    "duration": 30,
    "start_time": "2023-08-12T15:17:31.858Z"
   },
   {
    "duration": 24,
    "start_time": "2023-08-12T15:18:25.773Z"
   },
   {
    "duration": 6,
    "start_time": "2023-08-12T15:19:11.634Z"
   },
   {
    "duration": 43,
    "start_time": "2023-08-12T15:19:19.201Z"
   },
   {
    "duration": 41,
    "start_time": "2023-08-12T15:20:22.278Z"
   },
   {
    "duration": 40,
    "start_time": "2023-08-12T15:20:35.296Z"
   },
   {
    "duration": 33,
    "start_time": "2023-08-12T15:22:39.889Z"
   },
   {
    "duration": 36,
    "start_time": "2023-08-12T15:32:09.454Z"
   },
   {
    "duration": 110,
    "start_time": "2023-08-12T15:41:16.920Z"
   },
   {
    "duration": 23,
    "start_time": "2023-08-12T15:46:50.117Z"
   },
   {
    "duration": 28,
    "start_time": "2023-08-12T15:52:27.130Z"
   },
   {
    "duration": 30,
    "start_time": "2023-08-12T16:02:46.569Z"
   },
   {
    "duration": 26,
    "start_time": "2023-08-12T16:05:16.973Z"
   },
   {
    "duration": 27,
    "start_time": "2023-08-12T16:07:38.789Z"
   },
   {
    "duration": 143,
    "start_time": "2023-08-12T18:12:21.028Z"
   },
   {
    "duration": 1201,
    "start_time": "2023-08-12T18:12:33.355Z"
   },
   {
    "duration": 26,
    "start_time": "2023-08-12T18:12:34.559Z"
   },
   {
    "duration": 18,
    "start_time": "2023-08-12T18:12:34.588Z"
   },
   {
    "duration": 14,
    "start_time": "2023-08-12T18:12:34.608Z"
   },
   {
    "duration": 67,
    "start_time": "2023-08-12T18:12:34.624Z"
   },
   {
    "duration": 4,
    "start_time": "2023-08-12T18:12:34.693Z"
   },
   {
    "duration": 15,
    "start_time": "2023-08-12T18:12:34.699Z"
   },
   {
    "duration": 10,
    "start_time": "2023-08-12T18:12:34.717Z"
   },
   {
    "duration": 38,
    "start_time": "2023-08-12T18:12:34.730Z"
   },
   {
    "duration": 10,
    "start_time": "2023-08-12T18:12:34.772Z"
   },
   {
    "duration": 52,
    "start_time": "2023-08-12T18:12:34.784Z"
   },
   {
    "duration": 10,
    "start_time": "2023-08-12T18:12:34.838Z"
   },
   {
    "duration": 16,
    "start_time": "2023-08-12T18:12:34.850Z"
   },
   {
    "duration": 19,
    "start_time": "2023-08-12T18:12:34.868Z"
   },
   {
    "duration": 33,
    "start_time": "2023-08-12T18:12:34.889Z"
   },
   {
    "duration": 21,
    "start_time": "2023-08-12T18:12:34.924Z"
   },
   {
    "duration": 6,
    "start_time": "2023-08-12T18:12:34.947Z"
   },
   {
    "duration": 17,
    "start_time": "2023-08-12T18:12:34.959Z"
   },
   {
    "duration": 10,
    "start_time": "2023-08-12T18:12:34.978Z"
   },
   {
    "duration": 21,
    "start_time": "2023-08-12T18:12:34.990Z"
   },
   {
    "duration": 41,
    "start_time": "2023-08-12T18:12:35.014Z"
   },
   {
    "duration": 49,
    "start_time": "2023-08-12T18:12:35.058Z"
   },
   {
    "duration": 72,
    "start_time": "2023-08-12T18:12:35.109Z"
   },
   {
    "duration": 56,
    "start_time": "2023-08-12T18:12:35.184Z"
   },
   {
    "duration": 49,
    "start_time": "2023-08-12T18:12:35.243Z"
   },
   {
    "duration": 25,
    "start_time": "2023-08-12T18:12:35.294Z"
   },
   {
    "duration": 67,
    "start_time": "2023-08-12T18:12:35.321Z"
   },
   {
    "duration": 58,
    "start_time": "2023-08-12T18:12:35.391Z"
   },
   {
    "duration": 54,
    "start_time": "2023-08-12T18:12:35.451Z"
   }
  ],
  "colab": {
   "provenance": []
  },
  "kernelspec": {
   "display_name": "Python 3 (ipykernel)",
   "language": "python",
   "name": "python3"
  },
  "language_info": {
   "codemirror_mode": {
    "name": "ipython",
    "version": 3
   },
   "file_extension": ".py",
   "mimetype": "text/x-python",
   "name": "python",
   "nbconvert_exporter": "python",
   "pygments_lexer": "ipython3",
   "version": "3.9.5"
  },
  "toc": {
   "base_numbering": 1,
   "nav_menu": {},
   "number_sections": true,
   "sideBar": true,
   "skip_h1_title": true,
   "title_cell": "Table of Contents",
   "title_sidebar": "Contents",
   "toc_cell": false,
   "toc_position": {},
   "toc_section_display": true,
   "toc_window_display": false
  }
 },
 "nbformat": 4,
 "nbformat_minor": 5
}
