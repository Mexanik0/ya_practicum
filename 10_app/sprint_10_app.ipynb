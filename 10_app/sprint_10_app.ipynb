{
 "cells": [
  {
   "cell_type": "markdown",
   "metadata": {},
   "source": [
    "# Сборный проект №2"
   ]
  },
  {
   "cell_type": "markdown",
   "metadata": {},
   "source": [
    "## Описание проекта"
   ]
  },
  {
   "cell_type": "markdown",
   "metadata": {},
   "source": [
    "Стартап занимается приложением по продаже продуктов питания.\n",
    "\n",
    "**Цель проекта** - разобраться в поведении пользователей мобильного приложения по продаже продуктов питания.\n",
    "\n",
    "**Задачи**:\n",
    "- Изучить воронку продаж. Узнать, как пользователи доходят до покупки. Сколько пользователей доходит до покупки, а сколько — «застревает» на предыдущих шагах? На каких именно?\n",
    "- Исследовать результаты A/A/B-эксперимента. Дизайнеры решили сменить шрифты, менеджеры договорились принять решение на основе результатов A/A/B-теста. Пользователи разбиты на 3 группы: 2 контрольные со старыми шрифтами и одну экспериментальную — с новыми. Выяснить, **какой шрифт лучше**.\n",
    "\n",
    "**Описание данных**\n",
    "\n",
    "В нашем распоряжении таблица с логами `/datasets/logs_exp.csv`. Каждая запись в логе — это действие пользователя, или событие.\n",
    "- `EventName` — название события;\n",
    "- `DeviceIDHash` — уникальный идентификатор пользователя;\n",
    "- `EventTimestamp` — время события;\n",
    "- `ExpId` — номер эксперимента: 246 и 247 — контрольные группы, а 248 — экспериментальная."
   ]
  },
  {
   "cell_type": "markdown",
   "metadata": {},
   "source": [
    "## Ознакомление с данными"
   ]
  },
  {
   "cell_type": "code",
   "execution_count": 1,
   "metadata": {},
   "outputs": [],
   "source": [
    "# импорт библиотек\n",
    "import pandas as pd\n",
    "from datetime import datetime, timedelta\n",
    "from matplotlib import pyplot as plt\n",
    "import numpy as np\n",
    "import scipy.stats as st\n",
    "import math as mth\n",
    "\n",
    "pd.set_option(\"display.float_format\", \"{:.2f}\".format)\n",
    "pd.set_option('display.max_colwidth', False)"
   ]
  },
  {
   "cell_type": "code",
   "execution_count": 2,
   "metadata": {},
   "outputs": [],
   "source": [
    "# загрузка данных\n",
    "df_logs = pd.read_csv('/datasets/logs_exp.csv', delimiter='\\t')  # логи\n",
    "\n",
    "# присвоим имена датафрейму\n",
    "df_logs.name = 'logs'"
   ]
  },
  {
   "cell_type": "code",
   "execution_count": 3,
   "metadata": {},
   "outputs": [
    {
     "name": "stdout",
     "output_type": "stream",
     "text": [
      "----- Таблица logs -----\n"
     ]
    },
    {
     "data": {
      "text/html": [
       "<div>\n",
       "<style scoped>\n",
       "    .dataframe tbody tr th:only-of-type {\n",
       "        vertical-align: middle;\n",
       "    }\n",
       "\n",
       "    .dataframe tbody tr th {\n",
       "        vertical-align: top;\n",
       "    }\n",
       "\n",
       "    .dataframe thead th {\n",
       "        text-align: right;\n",
       "    }\n",
       "</style>\n",
       "<table border=\"1\" class=\"dataframe\">\n",
       "  <thead>\n",
       "    <tr style=\"text-align: right;\">\n",
       "      <th></th>\n",
       "      <th>EventName</th>\n",
       "      <th>DeviceIDHash</th>\n",
       "      <th>EventTimestamp</th>\n",
       "      <th>ExpId</th>\n",
       "    </tr>\n",
       "  </thead>\n",
       "  <tbody>\n",
       "    <tr>\n",
       "      <th>22765</th>\n",
       "      <td>MainScreenAppear</td>\n",
       "      <td>7530416005686428986</td>\n",
       "      <td>1564668178</td>\n",
       "      <td>246</td>\n",
       "    </tr>\n",
       "    <tr>\n",
       "      <th>124160</th>\n",
       "      <td>OffersScreenAppear</td>\n",
       "      <td>5877487109553929606</td>\n",
       "      <td>1564922489</td>\n",
       "      <td>247</td>\n",
       "    </tr>\n",
       "    <tr>\n",
       "      <th>76799</th>\n",
       "      <td>MainScreenAppear</td>\n",
       "      <td>1232481244696430727</td>\n",
       "      <td>1564809919</td>\n",
       "      <td>246</td>\n",
       "    </tr>\n",
       "    <tr>\n",
       "      <th>87623</th>\n",
       "      <td>OffersScreenAppear</td>\n",
       "      <td>2201216441003038354</td>\n",
       "      <td>1564830934</td>\n",
       "      <td>246</td>\n",
       "    </tr>\n",
       "    <tr>\n",
       "      <th>21141</th>\n",
       "      <td>MainScreenAppear</td>\n",
       "      <td>3378438624605578285</td>\n",
       "      <td>1564665826</td>\n",
       "      <td>248</td>\n",
       "    </tr>\n",
       "  </tbody>\n",
       "</table>\n",
       "</div>"
      ],
      "text/plain": [
       "                 EventName         DeviceIDHash  EventTimestamp  ExpId\n",
       "22765   MainScreenAppear    7530416005686428986  1564668178      246  \n",
       "124160  OffersScreenAppear  5877487109553929606  1564922489      247  \n",
       "76799   MainScreenAppear    1232481244696430727  1564809919      246  \n",
       "87623   OffersScreenAppear  2201216441003038354  1564830934      246  \n",
       "21141   MainScreenAppear    3378438624605578285  1564665826      248  "
      ]
     },
     "metadata": {},
     "output_type": "display_data"
    },
    {
     "name": "stdout",
     "output_type": "stream",
     "text": [
      "----- Общая информация о \" logs \" ----- \n",
      "\n",
      "<class 'pandas.core.frame.DataFrame'>\n",
      "RangeIndex: 244126 entries, 0 to 244125\n",
      "Data columns (total 4 columns):\n",
      " #   Column          Non-Null Count   Dtype \n",
      "---  ------          --------------   ----- \n",
      " 0   EventName       244126 non-null  object\n",
      " 1   DeviceIDHash    244126 non-null  int64 \n",
      " 2   EventTimestamp  244126 non-null  int64 \n",
      " 3   ExpId           244126 non-null  int64 \n",
      "dtypes: int64(3), object(1)\n",
      "memory usage: 7.5+ MB\n",
      "\n",
      " ----- Пропуски в \" logs \" ----- \n",
      "\n",
      "Пропусков не найдено \n",
      "\n",
      "----- Информация о дубликатах в \" logs \" ----- \n",
      "\n",
      "Количество явных дубликатов: 413 \n",
      "\n"
     ]
    }
   ],
   "source": [
    "# выведем информацию о датафрейме df_logs\n",
    "\n",
    "# 5 рандомных строк\n",
    "print('-' * 5, 'Таблица', df_logs.name, '-' * 5)\n",
    "display(df_logs.sample(5))\n",
    "    \n",
    "# общая информация\n",
    "print('-' * 5, 'Общая информация о \"', df_logs.name, '\"', '-' * 5, '\\n')\n",
    "df_logs.info()\n",
    "    \n",
    "# пропуски\n",
    "print('\\n', '-' * 5, 'Пропуски в \"', df_logs.name, '\"', '-' * 5, '\\n')\n",
    "    \n",
    "if df_logs.isna().sum().sum() != 0:\n",
    "    display(df_logs.isna().sum().sort_values(ascending = False))\n",
    "    print(f'Средний процент пропусков составил: {(df_logs.isna().sum()/len(df)*100).mean():.2f}%')\n",
    "else:\n",
    "    print('Пропусков не найдено \\n')\n",
    "        \n",
    "# дубликаты\n",
    "print('-' * 5, 'Информация о дубликатах в \"', df_logs.name, '\"', '-' * 5, '\\n')\n",
    "print('Количество явных дубликатов:', df_logs.duplicated().sum(), '\\n')"
   ]
  },
  {
   "cell_type": "markdown",
   "metadata": {},
   "source": [
    "**Вывод**\n",
    "1. В таблице 244126 записей, отсутствуют пропуски;\n",
    "2. Найдено 413 явных дубликатов. От них нужно будет избавиться;\n",
    "3. Наименования столбцов не приведены к стилю snake_case;\n",
    "4. Тип данных в столбце с датой некорректен (``int64`` вместо ``datetime``)."
   ]
  },
  {
   "cell_type": "markdown",
   "metadata": {},
   "source": [
    "## Предобработка данных"
   ]
  },
  {
   "cell_type": "markdown",
   "metadata": {},
   "source": [
    "Приведем наименования столбцов к единому стилю snack_case и изменим тип данных в столбцах с датой."
   ]
  },
  {
   "cell_type": "code",
   "execution_count": 4,
   "metadata": {},
   "outputs": [],
   "source": [
    "# переименуем столбцы\n",
    "df_logs.rename(columns={'EventName': 'event_name',\n",
    "                        'DeviceIDHash': 'device_id_hash',\n",
    "                        'EventTimestamp': 'event_timestamp',\n",
    "                        'ExpId': 'exp_id'}, inplace = True)"
   ]
  },
  {
   "cell_type": "code",
   "execution_count": 5,
   "metadata": {},
   "outputs": [],
   "source": [
    "# преобразование дат\n",
    "df_logs['event_timestamp'] = pd.to_datetime(df_logs['event_timestamp'], unit='s')\n",
    "\n",
    "# добавим отдельный столбец с датой\n",
    "df_logs['event_date'] = pd.to_datetime(df_logs['event_timestamp'], unit='d').dt.date"
   ]
  },
  {
   "cell_type": "code",
   "execution_count": 6,
   "metadata": {},
   "outputs": [
    {
     "name": "stdout",
     "output_type": "stream",
     "text": [
      "<class 'pandas.core.frame.DataFrame'>\n",
      "RangeIndex: 243713 entries, 0 to 243712\n",
      "Data columns (total 5 columns):\n",
      " #   Column           Non-Null Count   Dtype         \n",
      "---  ------           --------------   -----         \n",
      " 0   event_name       243713 non-null  object        \n",
      " 1   device_id_hash   243713 non-null  int64         \n",
      " 2   event_timestamp  243713 non-null  datetime64[ns]\n",
      " 3   exp_id           243713 non-null  int64         \n",
      " 4   event_date       243713 non-null  object        \n",
      "dtypes: datetime64[ns](1), int64(2), object(2)\n",
      "memory usage: 9.3+ MB\n"
     ]
    }
   ],
   "source": [
    "# дропнем дубликаты\n",
    "df_logs = df_logs.drop_duplicates().reset_index(drop=True)\n",
    "df_logs.info()"
   ]
  },
  {
   "cell_type": "markdown",
   "metadata": {},
   "source": [
    "**Вывод**\n",
    "\n",
    "Входные данные проанализированы. Пропусков нет. Данные с датой и временем приведены к соответствующему типу. Заголовки столбцов приведены к общепринятому формату, добавлен отдельный столбец с датой. Удалено 413 явных дубликатов.\n",
    "\n",
    "Данные к анализу подготовлены."
   ]
  },
  {
   "cell_type": "markdown",
   "metadata": {},
   "source": [
    "## Изучение данных"
   ]
  },
  {
   "cell_type": "markdown",
   "metadata": {},
   "source": [
    "Изучим и проверим данные подробнее."
   ]
  },
  {
   "cell_type": "code",
   "execution_count": 7,
   "metadata": {},
   "outputs": [
    {
     "name": "stdout",
     "output_type": "stream",
     "text": [
      "Количество событий в логе: 243713\n"
     ]
    }
   ],
   "source": [
    "print('Количество событий в логе:', len(df_logs))"
   ]
  },
  {
   "cell_type": "code",
   "execution_count": 8,
   "metadata": {},
   "outputs": [
    {
     "name": "stdout",
     "output_type": "stream",
     "text": [
      "Количество пользователей в логе: 7551\n"
     ]
    }
   ],
   "source": [
    "print('Количество пользователей в логе:', df_logs['device_id_hash'].nunique())"
   ]
  },
  {
   "cell_type": "code",
   "execution_count": 9,
   "metadata": {},
   "outputs": [
    {
     "name": "stdout",
     "output_type": "stream",
     "text": [
      "Среднее количество событий на пользователя: 32.0\n"
     ]
    }
   ],
   "source": [
    "print('Среднее количество событий на пользователя:', round(df_logs.groupby('device_id_hash')['event_name'].count().mean(), 0))"
   ]
  },
  {
   "cell_type": "code",
   "execution_count": 10,
   "metadata": {},
   "outputs": [
    {
     "data": {
      "text/plain": [
       "count   7551.00\n",
       "mean    32.28  \n",
       "std     65.15  \n",
       "min     1.00   \n",
       "25%     9.00   \n",
       "50%     20.00  \n",
       "75%     37.00  \n",
       "max     2307.00\n",
       "Name: event_name, dtype: float64"
      ]
     },
     "execution_count": 10,
     "metadata": {},
     "output_type": "execute_result"
    }
   ],
   "source": [
    "df_logs.groupby('device_id_hash')['event_name'].count().describe()"
   ]
  },
  {
   "cell_type": "markdown",
   "metadata": {},
   "source": [
    "Из описательной статистики видно, что медианное значение количества событий на пользователя (20) отличается от среднего (32). Максимальное количество событий на пользователя составляет 2307, а минимальное - 1. Слишкои большой размах. Возможно, что в данных есть аномалии. Выясним это чуть позже."
   ]
  },
  {
   "cell_type": "code",
   "execution_count": 11,
   "metadata": {},
   "outputs": [
    {
     "name": "stdout",
     "output_type": "stream",
     "text": [
      "Дата начала теста: 2019-07-25\n",
      "Дата окончания теста: 2019-08-07\n"
     ]
    }
   ],
   "source": [
    "# максимальная и минимальная даты\n",
    "print('Дата начала теста:', df_logs['event_date'].min())\n",
    "print('Дата окончания теста:', df_logs['event_date'].max())"
   ]
  },
  {
   "cell_type": "markdown",
   "metadata": {},
   "source": [
    "Построим столбчатую диаграмму, которая отобразит количество событий в зависимости от времени в разрезе групп, для визуализации изменения количества данных."
   ]
  },
  {
   "cell_type": "code",
   "execution_count": 12,
   "metadata": {},
   "outputs": [
    {
     "data": {
      "image/png": "[encoded data removed]",
      "text/plain": [
       "<Figure size 1296x360 with 1 Axes>"
      ]
     },
     "metadata": {
      "needs_background": "light"
     },
     "output_type": "display_data"
    }
   ],
   "source": [
    "df_logs_pvt = df_logs.pivot_table(index='exp_id', \n",
    "                                  values='event_name',\n",
    "                                  aggfunc='count', \n",
    "                                  columns='event_date').T\n",
    "\n",
    "df_logs_pvt.plot(kind='bar', figsize=(18, 5));\n",
    "plt.xlabel('Дата')\n",
    "plt.ylabel('Количество событий')\n",
    "plt.title('Динамика количества событий по дням в разрезе групп')\n",
    "plt.legend(loc='upper left')\n",
    "plt.show()"
   ]
  },
  {
   "cell_type": "markdown",
   "metadata": {},
   "source": [
    "Утверждать, что у нас в наличии полные данные за весь период нельзя. По графику видно, что полноценные данные начинают появляться в конце июля 2019 г. То есть, в реальности мы располагаем данными с 1 августа 2019 г. Будем считать, что данные с 25 июля по 31 июля 2019 г. устарели."
   ]
  },
  {
   "cell_type": "code",
   "execution_count": 13,
   "metadata": {},
   "outputs": [],
   "source": [
    "# дропнем дефектные дни\n",
    "df_logs_new = df_logs.query('event_date >= datetime(2019, 8, 1).date()')"
   ]
  },
  {
   "cell_type": "markdown",
   "metadata": {},
   "source": [
    "Посчитаем, сколько событий и пользователей было очищено."
   ]
  },
  {
   "cell_type": "code",
   "execution_count": 14,
   "metadata": {},
   "outputs": [
    {
     "name": "stdout",
     "output_type": "stream",
     "text": [
      "Потерянные события: 2826 (0.01%)\n",
      "Потерянные пользователи: 17 (0.00%)\n"
     ]
    }
   ],
   "source": [
    "print(f'Потерянные события: {len(df_logs) - len(df_logs_new)} ({(len(df_logs) - len(df_logs_new)) / len(df_logs):.2f}%)')\n",
    "print(f'Потерянные пользователи: {df_logs.device_id_hash.nunique() - df_logs_new.device_id_hash.nunique()} ({(df_logs.device_id_hash.nunique() - df_logs_new.device_id_hash.nunique()) / df_logs.device_id_hash.nunique():.2f}%)')"
   ]
  },
  {
   "cell_type": "code",
   "execution_count": 15,
   "metadata": {},
   "outputs": [
    {
     "data": {
      "text/plain": [
       "array([246, 247, 248])"
      ]
     },
     "execution_count": 15,
     "metadata": {},
     "output_type": "execute_result"
    }
   ],
   "source": [
    "# удостоверимся, что в df_logs_new осталось 3 группы\n",
    "df_logs_new['exp_id'].unique()"
   ]
  },
  {
   "cell_type": "markdown",
   "metadata": {},
   "source": [
    "После чистки данных мы потеряли 38967 событий, 265 пользователей, что составляет 0.16% и 0.04% от первоначальной выборки, соответственно. Все 3 группы пользователей сохранились."
   ]
  },
  {
   "cell_type": "code",
   "execution_count": 16,
   "metadata": {},
   "outputs": [
    {
     "data": {
      "text/plain": [
       "exp_id\n",
       "246    2484\n",
       "247    2513\n",
       "248    2537\n",
       "Name: device_id_hash, dtype: int64"
      ]
     },
     "execution_count": 16,
     "metadata": {},
     "output_type": "execute_result"
    }
   ],
   "source": [
    "df_logs_new.groupby('exp_id')['device_id_hash'].nunique()"
   ]
  },
  {
   "cell_type": "markdown",
   "metadata": {},
   "source": [
    "После фильтрации количество посетителей в группах осталось на приемлемом для анализа уровне. "
   ]
  },
  {
   "cell_type": "markdown",
   "metadata": {},
   "source": [
    "## Воронка событий"
   ]
  },
  {
   "cell_type": "markdown",
   "metadata": {},
   "source": [
    "**Частота событий в логе**"
   ]
  },
  {
   "cell_type": "code",
   "execution_count": 17,
   "metadata": {
    "scrolled": true
   },
   "outputs": [
    {
     "data": {
      "text/plain": [
       "MainScreenAppear           117328\n",
       "OffersScreenAppear         46333 \n",
       "CartScreenAppear           42303 \n",
       "PaymentScreenSuccessful    33918 \n",
       "Tutorial                   1005  \n",
       "Name: event_name, dtype: int64"
      ]
     },
     "execution_count": 17,
     "metadata": {},
     "output_type": "execute_result"
    }
   ],
   "source": [
    "df_logs_new['event_name'].value_counts()"
   ]
  },
  {
   "cell_type": "markdown",
   "metadata": {},
   "source": [
    "Наиболее часто встречаемое событие - `MainScreenAppear` (показ главной страницы), оно встречается 117328 раз. На втором месте по частоте находится событие `OffersScreenAppear` (46333), на третьем `CartScreenAppear` (42303). Видна некая воронка - переход от главной страницы к странице с успешной оплаты. `Tutorial` ранжируется на последнем месте, поэтому делаем вывод, что просмотр инструкции многие пользователи просто пропускают. Возможно, интерфейс приложения вполне интуитивно понятен для большинства пользователей."
   ]
  },
  {
   "cell_type": "markdown",
   "metadata": {},
   "source": [
    "Посчитаем, сколько пользователей совершили все события."
   ]
  },
  {
   "cell_type": "code",
   "execution_count": 18,
   "metadata": {},
   "outputs": [
    {
     "data": {
      "text/html": [
       "<div>\n",
       "<style scoped>\n",
       "    .dataframe tbody tr th:only-of-type {\n",
       "        vertical-align: middle;\n",
       "    }\n",
       "\n",
       "    .dataframe tbody tr th {\n",
       "        vertical-align: top;\n",
       "    }\n",
       "\n",
       "    .dataframe thead th {\n",
       "        text-align: right;\n",
       "    }\n",
       "</style>\n",
       "<table border=\"1\" class=\"dataframe\">\n",
       "  <thead>\n",
       "    <tr style=\"text-align: right;\">\n",
       "      <th></th>\n",
       "      <th>event_name</th>\n",
       "      <th>users_count</th>\n",
       "      <th>ratio</th>\n",
       "    </tr>\n",
       "  </thead>\n",
       "  <tbody>\n",
       "    <tr>\n",
       "      <th>0</th>\n",
       "      <td>MainScreenAppear</td>\n",
       "      <td>7419</td>\n",
       "      <td>0.98</td>\n",
       "    </tr>\n",
       "    <tr>\n",
       "      <th>1</th>\n",
       "      <td>OffersScreenAppear</td>\n",
       "      <td>4593</td>\n",
       "      <td>0.61</td>\n",
       "    </tr>\n",
       "    <tr>\n",
       "      <th>2</th>\n",
       "      <td>CartScreenAppear</td>\n",
       "      <td>3734</td>\n",
       "      <td>0.50</td>\n",
       "    </tr>\n",
       "    <tr>\n",
       "      <th>3</th>\n",
       "      <td>PaymentScreenSuccessful</td>\n",
       "      <td>3539</td>\n",
       "      <td>0.47</td>\n",
       "    </tr>\n",
       "    <tr>\n",
       "      <th>4</th>\n",
       "      <td>Tutorial</td>\n",
       "      <td>840</td>\n",
       "      <td>0.11</td>\n",
       "    </tr>\n",
       "  </tbody>\n",
       "</table>\n",
       "</div>"
      ],
      "text/plain": [
       "                event_name  users_count  ratio\n",
       "0  MainScreenAppear         7419        0.98  \n",
       "1  OffersScreenAppear       4593        0.61  \n",
       "2  CartScreenAppear         3734        0.50  \n",
       "3  PaymentScreenSuccessful  3539        0.47  \n",
       "4  Tutorial                 840         0.11  "
      ]
     },
     "execution_count": 18,
     "metadata": {},
     "output_type": "execute_result"
    }
   ],
   "source": [
    "# построим пивот для определения кол-ва уникальных пользователей, совершивших события\n",
    "df_logs_new_pvt = df_logs_new.pivot_table(index='event_name',\n",
    "                                          values='device_id_hash',\n",
    "                                          aggfunc='nunique').reset_index().sort_values(by='device_id_hash', \n",
    "                                                                                                ascending=False)\n",
    "\n",
    "# переименуем столбец device_id_hash\n",
    "df_logs_new_pvt.rename(columns={'device_id_hash': 'users_count'}, inplace = True)\n",
    "\n",
    "# посчитаем долю пользователей по группе событий\n",
    "df_logs_new_pvt['ratio'] = df_logs_new_pvt['users_count'] / df_logs_new['device_id_hash'].nunique()\n",
    "\n",
    "# сбрасываем индексы, чтобы сохранить сортировку\n",
    "df_logs_new_pvt = df_logs_new_pvt.reset_index(drop=True)\n",
    "df_logs_new_pvt"
   ]
  },
  {
   "cell_type": "markdown",
   "metadata": {},
   "source": [
    "В полученной таблице `df_logs_new_pvt` по наименованиям событий можно **предположить**, что они образуют некую воронку: путь от главной страницы к странице с оплатой. <br>`Tutorial` - на то и есть туториал, его часто пропускают либо не пользуются им, если интерфейс приложения понятен пользователю."
   ]
  },
  {
   "cell_type": "markdown",
   "metadata": {},
   "source": [
    "**Доля проходящих пользователей на следующий шаг**"
   ]
  },
  {
   "cell_type": "code",
   "execution_count": 19,
   "metadata": {},
   "outputs": [
    {
     "data": {
      "text/html": [
       "<div>\n",
       "<style scoped>\n",
       "    .dataframe tbody tr th:only-of-type {\n",
       "        vertical-align: middle;\n",
       "    }\n",
       "\n",
       "    .dataframe tbody tr th {\n",
       "        vertical-align: top;\n",
       "    }\n",
       "\n",
       "    .dataframe thead th {\n",
       "        text-align: right;\n",
       "    }\n",
       "</style>\n",
       "<table border=\"1\" class=\"dataframe\">\n",
       "  <thead>\n",
       "    <tr style=\"text-align: right;\">\n",
       "      <th></th>\n",
       "      <th>event_name</th>\n",
       "      <th>users_count</th>\n",
       "      <th>ratio</th>\n",
       "      <th>group_ratio</th>\n",
       "    </tr>\n",
       "  </thead>\n",
       "  <tbody>\n",
       "    <tr>\n",
       "      <th>0</th>\n",
       "      <td>MainScreenAppear</td>\n",
       "      <td>7419</td>\n",
       "      <td>0.98</td>\n",
       "      <td>1.00</td>\n",
       "    </tr>\n",
       "    <tr>\n",
       "      <th>1</th>\n",
       "      <td>OffersScreenAppear</td>\n",
       "      <td>4593</td>\n",
       "      <td>0.61</td>\n",
       "      <td>0.62</td>\n",
       "    </tr>\n",
       "    <tr>\n",
       "      <th>2</th>\n",
       "      <td>CartScreenAppear</td>\n",
       "      <td>3734</td>\n",
       "      <td>0.50</td>\n",
       "      <td>0.81</td>\n",
       "    </tr>\n",
       "    <tr>\n",
       "      <th>3</th>\n",
       "      <td>PaymentScreenSuccessful</td>\n",
       "      <td>3539</td>\n",
       "      <td>0.47</td>\n",
       "      <td>0.95</td>\n",
       "    </tr>\n",
       "    <tr>\n",
       "      <th>4</th>\n",
       "      <td>Tutorial</td>\n",
       "      <td>840</td>\n",
       "      <td>0.11</td>\n",
       "      <td>0.24</td>\n",
       "    </tr>\n",
       "  </tbody>\n",
       "</table>\n",
       "</div>"
      ],
      "text/plain": [
       "                event_name  users_count  ratio  group_ratio\n",
       "0  MainScreenAppear         7419        0.98   1.00        \n",
       "1  OffersScreenAppear       4593        0.61   0.62        \n",
       "2  CartScreenAppear         3734        0.50   0.81        \n",
       "3  PaymentScreenSuccessful  3539        0.47   0.95        \n",
       "4  Tutorial                 840         0.11   0.24        "
      ]
     },
     "execution_count": 19,
     "metadata": {},
     "output_type": "execute_result"
    }
   ],
   "source": [
    "# поставим на первую позицию в group_ratio - 1\n",
    "df_logs_new_pvt.loc[0, 'group_ratio'] = 1\n",
    "\n",
    "# посчитаем долю пользователей в каждом следующем событии от \"текущего\"\n",
    "for i in range(1, len(df_logs_new_pvt)):\n",
    "    df_logs_new_pvt.loc[i, 'group_ratio'] = (df_logs_new_pvt.loc[i, 'users_count'] \n",
    "                                             / df_logs_new_pvt.loc[i - 1, 'users_count'])\n",
    "\n",
    "df_logs_new_pvt"
   ]
  },
  {
   "cell_type": "code",
   "execution_count": 20,
   "metadata": {},
   "outputs": [
    {
     "data": {
      "text/html": [
       "<div>\n",
       "<style scoped>\n",
       "    .dataframe tbody tr th:only-of-type {\n",
       "        vertical-align: middle;\n",
       "    }\n",
       "\n",
       "    .dataframe tbody tr th {\n",
       "        vertical-align: top;\n",
       "    }\n",
       "\n",
       "    .dataframe thead th {\n",
       "        text-align: right;\n",
       "    }\n",
       "</style>\n",
       "<table border=\"1\" class=\"dataframe\">\n",
       "  <thead>\n",
       "    <tr style=\"text-align: right;\">\n",
       "      <th></th>\n",
       "      <th>event_name</th>\n",
       "      <th>users_count</th>\n",
       "      <th>ratio</th>\n",
       "      <th>group_ratio</th>\n",
       "    </tr>\n",
       "  </thead>\n",
       "  <tbody>\n",
       "    <tr>\n",
       "      <th>0</th>\n",
       "      <td>MainScreenAppear</td>\n",
       "      <td>7419</td>\n",
       "      <td>0.98</td>\n",
       "      <td>1.00</td>\n",
       "    </tr>\n",
       "    <tr>\n",
       "      <th>1</th>\n",
       "      <td>OffersScreenAppear</td>\n",
       "      <td>4593</td>\n",
       "      <td>0.61</td>\n",
       "      <td>0.62</td>\n",
       "    </tr>\n",
       "    <tr>\n",
       "      <th>2</th>\n",
       "      <td>CartScreenAppear</td>\n",
       "      <td>3734</td>\n",
       "      <td>0.50</td>\n",
       "      <td>0.81</td>\n",
       "    </tr>\n",
       "    <tr>\n",
       "      <th>3</th>\n",
       "      <td>PaymentScreenSuccessful</td>\n",
       "      <td>3539</td>\n",
       "      <td>0.47</td>\n",
       "      <td>0.95</td>\n",
       "    </tr>\n",
       "    <tr>\n",
       "      <th>4</th>\n",
       "      <td>Tutorial</td>\n",
       "      <td>840</td>\n",
       "      <td>0.11</td>\n",
       "      <td>0.24</td>\n",
       "    </tr>\n",
       "  </tbody>\n",
       "</table>\n",
       "</div>"
      ],
      "text/plain": [
       "                event_name  users_count  ratio  group_ratio\n",
       "0  MainScreenAppear         7419        0.98   1.00        \n",
       "1  OffersScreenAppear       4593        0.61   0.62        \n",
       "2  CartScreenAppear         3734        0.50   0.81        \n",
       "3  PaymentScreenSuccessful  3539        0.47   0.95        \n",
       "4  Tutorial                 840         0.11   0.24        "
      ]
     },
     "execution_count": 20,
     "metadata": {},
     "output_type": "execute_result"
    }
   ],
   "source": [
    "df_logs_new_pvt['group_ratio'] = df_logs_new_pvt['users_count'] / df_logs_new_pvt['users_count'].shift(1)\n",
    "\n",
    "# поставим на первую позицию в group_ratio - 1\n",
    "df_logs_new_pvt.loc[0, 'group_ratio'] = 1\n",
    "\n",
    "# посмотрим, что получилось\n",
    "df_logs_new_pvt"
   ]
  },
  {
   "cell_type": "code",
   "execution_count": 21,
   "metadata": {},
   "outputs": [],
   "source": [
    "# уберем из воронки `Tutorial`\n",
    "df_logs_new_pvt = df_logs_new_pvt.query('event_name != \"Tutorial\"')"
   ]
  },
  {
   "cell_type": "code",
   "execution_count": 22,
   "metadata": {
    "scrolled": true
   },
   "outputs": [
    {
     "name": "stdout",
     "output_type": "stream",
     "text": [
      "Доля пользователей, увдевших страницу успешной оплаты: 46.97 %\n"
     ]
    }
   ],
   "source": [
    "# доля пользователей, дошедших до оплаты\n",
    "print('Доля пользователей, увдевших страницу успешной оплаты:', round(((df_logs_new_pvt.query('event_name == \"PaymentScreenSuccessful\"').reset_index().loc[0, 'users_count'])\n",
    "     / df_logs_new['device_id_hash'].nunique()) * 100, 2), '%')"
   ]
  },
  {
   "cell_type": "markdown",
   "metadata": {},
   "source": [
    "Заметим, что **самый большой** скачок находится между появлением главной страницы `MainScreenAppear` и появлением `OffersScreenAppear`. То есть, 38% посетителей не проходят с главной на `MainScreenAppear`. Тем не менее, с этой страницы 81% пользователей переходят в корзину `CartScreenAppear` и затем 95% этих пользователей проводят оплату (переходят в `PaymentScreenSuccessful`)."
   ]
  },
  {
   "cell_type": "markdown",
   "metadata": {},
   "source": [
    "Событие `Tutorial` можно исключить, так как оно не поможет нам в контексте нашей цели исследования.\n",
    "\n",
    "Из всех пользователей около 47% увидели страницу успешной оплаты. "
   ]
  },
  {
   "cell_type": "markdown",
   "metadata": {},
   "source": [
    "## Результаты эксперимента"
   ]
  },
  {
   "cell_type": "markdown",
   "metadata": {},
   "source": [
    "Проверим, есть ли пользователей, которые одновременно попали в несколько групп."
   ]
  },
  {
   "cell_type": "code",
   "execution_count": 23,
   "metadata": {},
   "outputs": [
    {
     "name": "stdout",
     "output_type": "stream",
     "text": [
      "Количество пользователей, попавших в несколько групп:  0\n"
     ]
    }
   ],
   "source": [
    "# new v1\n",
    "print('Количество пользователей, попавших в несколько групп: ', len(df_logs_new.groupby('device_id_hash')['exp_id'].nunique().reset_index().query('exp_id > 1')))"
   ]
  },
  {
   "cell_type": "markdown",
   "metadata": {},
   "source": [
    "Изучим результаты эксперимента. Для начала выберем самое популярное событие."
   ]
  },
  {
   "cell_type": "code",
   "execution_count": 24,
   "metadata": {},
   "outputs": [
    {
     "name": "stdout",
     "output_type": "stream",
     "text": [
      "Самое популярное событие: MainScreenAppear\n"
     ]
    }
   ],
   "source": [
    "# самое популярное событие\n",
    "most_popular_event = df_logs_new.pivot_table(index='event_name',\n",
    "                                             values='device_id_hash',\n",
    "                                             aggfunc='nunique').sort_values(by='device_id_hash',\n",
    "                                                                            ascending=False).reset_index().loc[0, \"event_name\"]\n",
    "\n",
    "print(f'Самое популярное событие: {most_popular_event}')"
   ]
  },
  {
   "cell_type": "markdown",
   "metadata": {},
   "source": [
    "Посчитаем число пользователей, совершивших это событие в каждой из контрольных групп, посчитаем долю пользователей, совершивших это событие. См. условие: 246 и 247 — контрольные группы, 248 — экспериментальная."
   ]
  },
  {
   "cell_type": "code",
   "execution_count": 25,
   "metadata": {},
   "outputs": [
    {
     "data": {
      "text/html": [
       "<div>\n",
       "<style scoped>\n",
       "    .dataframe tbody tr th:only-of-type {\n",
       "        vertical-align: middle;\n",
       "    }\n",
       "\n",
       "    .dataframe tbody tr th {\n",
       "        vertical-align: top;\n",
       "    }\n",
       "\n",
       "    .dataframe thead th {\n",
       "        text-align: right;\n",
       "    }\n",
       "</style>\n",
       "<table border=\"1\" class=\"dataframe\">\n",
       "  <thead>\n",
       "    <tr style=\"text-align: right;\">\n",
       "      <th>exp_id</th>\n",
       "      <th>event_name</th>\n",
       "      <th>246</th>\n",
       "      <th>247</th>\n",
       "      <th>248</th>\n",
       "      <th>246_ratio</th>\n",
       "      <th>247_ratio</th>\n",
       "      <th>248_ratio</th>\n",
       "    </tr>\n",
       "  </thead>\n",
       "  <tbody>\n",
       "    <tr>\n",
       "      <th>0</th>\n",
       "      <td>MainScreenAppear</td>\n",
       "      <td>2450</td>\n",
       "      <td>2476</td>\n",
       "      <td>2493</td>\n",
       "      <td>0.33</td>\n",
       "      <td>0.33</td>\n",
       "      <td>0.33</td>\n",
       "    </tr>\n",
       "  </tbody>\n",
       "</table>\n",
       "</div>"
      ],
      "text/plain": [
       "exp_id        event_name   246   247   248  246_ratio  247_ratio  248_ratio\n",
       "0       MainScreenAppear  2450  2476  2493 0.33       0.33       0.33      "
      ]
     },
     "execution_count": 25,
     "metadata": {},
     "output_type": "execute_result"
    }
   ],
   "source": [
    "# число пользователей, совершивших это событие в каждой из групп\n",
    "users_pop_event = df_logs_new.query('event_name == @most_popular_event').pivot_table(index='event_name',\n",
    "                                                                                     values='device_id_hash',\n",
    "                                                                                     columns='exp_id',\n",
    "                                                                                     aggfunc='nunique').reset_index()\n",
    "# доля пользователей, совершивших это событие\n",
    "users_pop_event['246_ratio'] = round(users_pop_event[246] / df_logs_new['device_id_hash'].nunique(), 2)\n",
    "users_pop_event['247_ratio'] = round(users_pop_event[247] / df_logs_new['device_id_hash'].nunique(), 2)\n",
    "users_pop_event['248_ratio'] = round(users_pop_event[248] / df_logs_new['device_id_hash'].nunique(), 2)\n",
    "\n",
    "users_pop_event"
   ]
  },
  {
   "cell_type": "markdown",
   "metadata": {},
   "source": [
    "Проверим, будет ли отличие между группами статистически достоверным. Проверим гипотезы о равенстве **долей** групп 246 и 247, используя z-тест.\n",
    "\n",
    "- **Гипотеза H0**: нет статистически значимого различия между долями групп\n",
    "- **Гипотеза H1**: есть статистически значимое различие между долями групп"
   ]
  },
  {
   "cell_type": "code",
   "execution_count": 26,
   "metadata": {},
   "outputs": [],
   "source": [
    "# Функция для получения p_value (взято из теории)\n",
    "def get_p_value(users_success_1, \n",
    "                users_total_1, \n",
    "                users_success_2, \n",
    "                users_total_2, \n",
    "                group_name, \n",
    "                event_name,\n",
    "                alpha):\n",
    "    \n",
    "    # alpha = 0.05  # критический уровень статистической значимости\n",
    "\n",
    "    # доля успехов в первой группе:\n",
    "    p1 = users_success_1 / users_total_1\n",
    "\n",
    "    # пропорция успехов во второй группе:\n",
    "    p2 = users_success_2 / users_total_2\n",
    "\n",
    "    # пропорция успехов в комбинированном датасете:\n",
    "    p_combined = (users_success_1 + users_success_2) / (users_total_1 + users_total_2)\n",
    "\n",
    "    # разница пропорций в датасетах\n",
    "    difference = p1 - p2\n",
    "\n",
    "    # считаем статистику в ст.отклонениях стандартного нормального распределения\n",
    "    z_value = difference / mth.sqrt(p_combined * (1 - p_combined) * (1 / users_total_1 + 1 / users_total_2))\n",
    "\n",
    "    # задаем стандартное нормальное распределение (среднее 0, ст.отклонение 1)\n",
    "    distr = st.norm(0, 1)\n",
    "\n",
    "    p_value = (1 - distr.cdf(abs(z_value))) * 2\n",
    "    \n",
    "    print('-' * 10)\n",
    "    print(f'Группа - {group_name}, событие - {event_name}:')\n",
    "    print('  p-значение: ', p_value)\n",
    "    \n",
    "    if p_value < alpha:\n",
    "        print('  Отвергаем нулевую гипотезу: между долями есть значимая разница')\n",
    "    else:\n",
    "        print('  Не получилось отвергнуть нулевую гипотезу, нет оснований считать доли разными')\n",
    "        \n",
    "    return p_value"
   ]
  },
  {
   "cell_type": "markdown",
   "metadata": {},
   "source": [
    "Применим функцию `get_p_value` для всех событий в `df_logs_new` и построим матрицу значений p_value для каждого уникального события в разрезе тестируемых групп."
   ]
  },
  {
   "cell_type": "code",
   "execution_count": 27,
   "metadata": {},
   "outputs": [],
   "source": [
    "# Исключим `Tutorial` - она не является частью воронки\n",
    "df_logs_new = df_logs_new.query('event_name != \"Tutorial\"')"
   ]
  },
  {
   "cell_type": "code",
   "execution_count": 28,
   "metadata": {},
   "outputs": [
    {
     "name": "stdout",
     "output_type": "stream",
     "text": [
      "----------\n",
      "Группа - 246_247, событие - MainScreenAppear:\n",
      "  p-значение:  0.7526703436483038\n",
      "  Не получилось отвергнуть нулевую гипотезу, нет оснований считать доли разными\n",
      "----------\n",
      "Группа - 247_248, событие - MainScreenAppear:\n",
      "  p-значение:  0.5194964354051703\n",
      "  Не получилось отвергнуть нулевую гипотезу, нет оснований считать доли разными\n",
      "----------\n",
      "Группа - 246_248, событие - MainScreenAppear:\n",
      "  p-значение:  0.3387114076159288\n",
      "  Не получилось отвергнуть нулевую гипотезу, нет оснований считать доли разными\n",
      "----------\n",
      "Группа - 246_247, событие - OffersScreenAppear:\n",
      "  p-значение:  0.24786096925282264\n",
      "  Не получилось отвергнуть нулевую гипотезу, нет оснований считать доли разными\n",
      "----------\n",
      "Группа - 247_248, событие - OffersScreenAppear:\n",
      "  p-значение:  0.9333751305879443\n",
      "  Не получилось отвергнуть нулевую гипотезу, нет оснований считать доли разными\n",
      "----------\n",
      "Группа - 246_248, событие - OffersScreenAppear:\n",
      "  p-значение:  0.21442476639710506\n",
      "  Не получилось отвергнуть нулевую гипотезу, нет оснований считать доли разными\n",
      "----------\n",
      "Группа - 246_247, событие - CartScreenAppear:\n",
      "  p-значение:  0.22867643757335676\n",
      "  Не получилось отвергнуть нулевую гипотезу, нет оснований считать доли разными\n",
      "----------\n",
      "Группа - 247_248, событие - CartScreenAppear:\n",
      "  p-значение:  0.5878284605111943\n",
      "  Не получилось отвергнуть нулевую гипотезу, нет оснований считать доли разными\n",
      "----------\n",
      "Группа - 246_248, событие - CartScreenAppear:\n",
      "  p-значение:  0.08067367598823139\n",
      "  Не получилось отвергнуть нулевую гипотезу, нет оснований считать доли разными\n",
      "----------\n",
      "Группа - 246_247, событие - PaymentScreenSuccessful:\n",
      "  p-значение:  0.11446627829276612\n",
      "  Не получилось отвергнуть нулевую гипотезу, нет оснований считать доли разными\n",
      "----------\n",
      "Группа - 247_248, событие - PaymentScreenSuccessful:\n",
      "  p-значение:  0.7275718682261119\n",
      "  Не получилось отвергнуть нулевую гипотезу, нет оснований считать доли разными\n",
      "----------\n",
      "Группа - 246_248, событие - PaymentScreenSuccessful:\n",
      "  p-значение:  0.21693033984516674\n",
      "  Не получилось отвергнуть нулевую гипотезу, нет оснований считать доли разными\n",
      "\n",
      "--\n",
      "Проверено статистических гипотез: 12\n"
     ]
    },
    {
     "data": {
      "text/html": [
       "<div>\n",
       "<style scoped>\n",
       "    .dataframe tbody tr th:only-of-type {\n",
       "        vertical-align: middle;\n",
       "    }\n",
       "\n",
       "    .dataframe tbody tr th {\n",
       "        vertical-align: top;\n",
       "    }\n",
       "\n",
       "    .dataframe thead th {\n",
       "        text-align: right;\n",
       "    }\n",
       "</style>\n",
       "<table border=\"1\" class=\"dataframe\">\n",
       "  <thead>\n",
       "    <tr style=\"text-align: right;\">\n",
       "      <th></th>\n",
       "      <th>event_name</th>\n",
       "      <th>246_247</th>\n",
       "      <th>247_248</th>\n",
       "      <th>246_248</th>\n",
       "    </tr>\n",
       "  </thead>\n",
       "  <tbody>\n",
       "    <tr>\n",
       "      <th>0</th>\n",
       "      <td>MainScreenAppear</td>\n",
       "      <td>0.75</td>\n",
       "      <td>0.52</td>\n",
       "      <td>0.34</td>\n",
       "    </tr>\n",
       "    <tr>\n",
       "      <th>1</th>\n",
       "      <td>OffersScreenAppear</td>\n",
       "      <td>0.25</td>\n",
       "      <td>0.93</td>\n",
       "      <td>0.21</td>\n",
       "    </tr>\n",
       "    <tr>\n",
       "      <th>2</th>\n",
       "      <td>CartScreenAppear</td>\n",
       "      <td>0.23</td>\n",
       "      <td>0.59</td>\n",
       "      <td>0.08</td>\n",
       "    </tr>\n",
       "    <tr>\n",
       "      <th>3</th>\n",
       "      <td>PaymentScreenSuccessful</td>\n",
       "      <td>0.11</td>\n",
       "      <td>0.73</td>\n",
       "      <td>0.22</td>\n",
       "    </tr>\n",
       "  </tbody>\n",
       "</table>\n",
       "</div>"
      ],
      "text/plain": [
       "                event_name  246_247  247_248  246_248\n",
       "0  MainScreenAppear        0.75     0.52     0.34    \n",
       "1  OffersScreenAppear      0.25     0.93     0.21    \n",
       "2  CartScreenAppear        0.23     0.59     0.08    \n",
       "3  PaymentScreenSuccessful 0.11     0.73     0.22    "
      ]
     },
     "execution_count": 28,
     "metadata": {},
     "output_type": "execute_result"
    }
   ],
   "source": [
    "# пары групп\n",
    "group_list = [[246, 247], [247, 248], [246, 248]]\n",
    "list_events, list_event_p_value = [], []\n",
    "cnt_hypotesis = 0\n",
    "\n",
    "# возможно, это не совсем эффективный алгоритм, так как в двойном цикле идет обращение к df_logs_new через .query()\n",
    "# для каждого уникального события\n",
    "for event in df_logs_new['event_name'].unique():\n",
    "    \n",
    "    list_event_p_value = [event]\n",
    "    \n",
    "    # Для каждой пары групп из group_list\n",
    "    for group in group_list:\n",
    "        \n",
    "        group_1 = group[0]\n",
    "        group_2 = group[1]\n",
    "        \n",
    "        # кол-во успехов групп\n",
    "        users_success_1 = df_logs_new.query('exp_id == @group_1 and event_name == @event')['device_id_hash'].nunique()\n",
    "        users_success_2 = df_logs_new.query('exp_id == @group_2 and event_name == @event')['device_id_hash'].nunique()\n",
    "\n",
    "        # Все пользователи групп (без деления на события)\n",
    "        users_total_1 = df_logs_new.query('exp_id == @group_1')['device_id_hash'].nunique()\n",
    "        users_total_2 = df_logs_new.query('exp_id == @group_2')['device_id_hash'].nunique()\n",
    "        \n",
    "        tested_group = str(group_1) + '_' + str(group_2)\n",
    "        \n",
    "        # считаем p-value по событиям в разрезе групп с alpha = 0.05\n",
    "        p_value = get_p_value(users_success_1, \n",
    "                              users_total_1, \n",
    "                              users_success_2, \n",
    "                              users_total_2, \n",
    "                              tested_group, \n",
    "                              event,\n",
    "                              0.05)\n",
    "        \n",
    "        list_event_p_value.extend([p_value])\n",
    "        \n",
    "        cnt_hypotesis += 1\n",
    "    \n",
    "    # добавляем p-value для очередной пары групп для текущего event\n",
    "    list_events.append(list_event_p_value)\n",
    "    \n",
    "# создадим датафрейм по данным list_events\n",
    "df_p_value = pd.DataFrame(list_events)\n",
    "\n",
    "# переименуем столбцы (костыльно)\n",
    "df_p_value.rename(columns={0: 'event_name',\n",
    "                           1: '246_247',\n",
    "                           2: '247_248',\n",
    "                           3: '246_248'}, inplace = True)\n",
    "print('')\n",
    "print('--')\n",
    "print(f'Проверено статистических гипотез: {cnt_hypotesis}')\n",
    "df_p_value"
   ]
  },
  {
   "cell_type": "markdown",
   "metadata": {},
   "source": [
    "При alpha = 0.05 статистически значимого различия между долями пар групп не наблюдается."
   ]
  },
  {
   "cell_type": "markdown",
   "metadata": {},
   "source": [
    "Сравним результаты экспериментальной группы (248) с объединенной контрольной группой (246+247), чтобы понять повлияло ли изменение шрифта на поведение пользователей по всем событиям. Гипотезы те же:\n",
    "\n",
    "- **Гипотеза H0**: нет статистически значимого различия между долями групп\n",
    "- **Гипотеза H1**: есть статистически значимое различие между долями групп"
   ]
  },
  {
   "cell_type": "code",
   "execution_count": 29,
   "metadata": {},
   "outputs": [
    {
     "name": "stdout",
     "output_type": "stream",
     "text": [
      "----------\n",
      "Группа - Контрольная/248, событие - MainScreenAppear:\n",
      "  p-значение:  0.3486684291093256\n",
      "  Не получилось отвергнуть нулевую гипотезу, нет оснований считать доли разными\n",
      "----------\n",
      "Группа - Контрольная/248, событие - OffersScreenAppear:\n",
      "  p-значение:  0.44582745409482394\n",
      "  Не получилось отвергнуть нулевую гипотезу, нет оснований считать доли разными\n",
      "----------\n",
      "Группа - Контрольная/248, событие - CartScreenAppear:\n",
      "  p-значение:  0.18683558686831558\n",
      "  Не получилось отвергнуть нулевую гипотезу, нет оснований считать доли разными\n",
      "----------\n",
      "Группа - Контрольная/248, событие - PaymentScreenSuccessful:\n",
      "  p-значение:  0.6107918742187335\n",
      "  Не получилось отвергнуть нулевую гипотезу, нет оснований считать доли разными\n",
      "\n",
      "--\n",
      "Проверено статистических гипотез: 16\n"
     ]
    },
    {
     "data": {
      "text/html": [
       "<div>\n",
       "<style scoped>\n",
       "    .dataframe tbody tr th:only-of-type {\n",
       "        vertical-align: middle;\n",
       "    }\n",
       "\n",
       "    .dataframe tbody tr th {\n",
       "        vertical-align: top;\n",
       "    }\n",
       "\n",
       "    .dataframe thead th {\n",
       "        text-align: right;\n",
       "    }\n",
       "</style>\n",
       "<table border=\"1\" class=\"dataframe\">\n",
       "  <thead>\n",
       "    <tr style=\"text-align: right;\">\n",
       "      <th></th>\n",
       "      <th>event_name</th>\n",
       "      <th>246_247/248</th>\n",
       "    </tr>\n",
       "  </thead>\n",
       "  <tbody>\n",
       "    <tr>\n",
       "      <th>0</th>\n",
       "      <td>MainScreenAppear</td>\n",
       "      <td>0.35</td>\n",
       "    </tr>\n",
       "    <tr>\n",
       "      <th>1</th>\n",
       "      <td>OffersScreenAppear</td>\n",
       "      <td>0.45</td>\n",
       "    </tr>\n",
       "    <tr>\n",
       "      <th>2</th>\n",
       "      <td>CartScreenAppear</td>\n",
       "      <td>0.19</td>\n",
       "    </tr>\n",
       "    <tr>\n",
       "      <th>3</th>\n",
       "      <td>PaymentScreenSuccessful</td>\n",
       "      <td>0.61</td>\n",
       "    </tr>\n",
       "  </tbody>\n",
       "</table>\n",
       "</div>"
      ],
      "text/plain": [
       "                event_name  246_247/248\n",
       "0  MainScreenAppear        0.35        \n",
       "1  OffersScreenAppear      0.45        \n",
       "2  CartScreenAppear        0.19        \n",
       "3  PaymentScreenSuccessful 0.61        "
      ]
     },
     "execution_count": 29,
     "metadata": {},
     "output_type": "execute_result"
    }
   ],
   "source": [
    "list_events, list_event_p_value = [], []\n",
    "\n",
    "for event in df_logs_new['event_name'].unique():\n",
    "    \n",
    "    list_event_p_value = [event]\n",
    "    \n",
    "    # кол-во успехов групп\n",
    "    users_success_1 = df_logs_new.query('exp_id != 248 and event_name == @event')['device_id_hash'].nunique()\n",
    "    users_success_2 = df_logs_new.query('exp_id == 248 and event_name == @event')['device_id_hash'].nunique()\n",
    "\n",
    "    # Все пользователи групп (без деления на события)\n",
    "    users_total_1 = df_logs_new.query('exp_id != 248')['device_id_hash'].nunique()\n",
    "    users_total_2 = df_logs_new.query('exp_id == 248')['device_id_hash'].nunique()\n",
    "\n",
    "    tested_group = 'Контрольная/248'\n",
    "\n",
    "    # считаем p-value по событиям в разрезе групп\n",
    "    p_value = get_p_value(users_success_1, \n",
    "                          users_total_1, \n",
    "                          users_success_2, \n",
    "                          users_total_2, \n",
    "                          tested_group, \n",
    "                          event,\n",
    "                          0.05)\n",
    "    \n",
    "    list_event_p_value.extend([p_value])\n",
    "    list_events.append(list_event_p_value)\n",
    "    \n",
    "    cnt_hypotesis += 1\n",
    "    \n",
    "# создадим датафрейм по данным list_events\n",
    "df_p_value_2 = pd.DataFrame(list_events)\n",
    "\n",
    "# переименуем столбцы (костыльно)\n",
    "df_p_value_2.rename(columns={0: 'event_name',\n",
    "                             1: '246_247/248'}, inplace = True)\n",
    "\n",
    "print('')\n",
    "print('--')\n",
    "print(f'Проверено статистических гипотез: {cnt_hypotesis}')\n",
    "df_p_value_2"
   ]
  },
  {
   "cell_type": "markdown",
   "metadata": {},
   "source": [
    "Статистически значимого различия между группами нет - нулевая гипотеза не отвергнута по всем событиям при alpha = 0.05. Минимальное p-value составляет 0.18 по событию `CartScreenAppear`, а максимальное - 0.61 по `PaymentScreenSuccessful`.\n",
    "\n",
    "В нашем распоряжении было 4 пары исследуемых групп (246/247, 247/248, 246/248, 246_247/248) и 4 событий, соответственно, было проведено 16 проверок статистических гипотез."
   ]
  },
  {
   "cell_type": "code",
   "execution_count": 30,
   "metadata": {},
   "outputs": [
    {
     "name": "stdout",
     "output_type": "stream",
     "text": [
      "----------\n",
      "Группа - Контрольная/248, событие - MainScreenAppear:\n",
      "  p-значение:  0.3486684291093256\n",
      "  Не получилось отвергнуть нулевую гипотезу, нет оснований считать доли разными\n",
      "----------\n",
      "Группа - Контрольная/248, событие - OffersScreenAppear:\n",
      "  p-значение:  0.44582745409482394\n",
      "  Не получилось отвергнуть нулевую гипотезу, нет оснований считать доли разными\n",
      "----------\n",
      "Группа - Контрольная/248, событие - CartScreenAppear:\n",
      "  p-значение:  0.18683558686831558\n",
      "  Не получилось отвергнуть нулевую гипотезу, нет оснований считать доли разными\n",
      "----------\n",
      "Группа - Контрольная/248, событие - PaymentScreenSuccessful:\n",
      "  p-значение:  0.6107918742187335\n",
      "  Не получилось отвергнуть нулевую гипотезу, нет оснований считать доли разными\n"
     ]
    },
    {
     "data": {
      "text/html": [
       "<div>\n",
       "<style scoped>\n",
       "    .dataframe tbody tr th:only-of-type {\n",
       "        vertical-align: middle;\n",
       "    }\n",
       "\n",
       "    .dataframe tbody tr th {\n",
       "        vertical-align: top;\n",
       "    }\n",
       "\n",
       "    .dataframe thead th {\n",
       "        text-align: right;\n",
       "    }\n",
       "</style>\n",
       "<table border=\"1\" class=\"dataframe\">\n",
       "  <thead>\n",
       "    <tr style=\"text-align: right;\">\n",
       "      <th></th>\n",
       "      <th>event_name</th>\n",
       "      <th>246_247/248</th>\n",
       "    </tr>\n",
       "  </thead>\n",
       "  <tbody>\n",
       "    <tr>\n",
       "      <th>0</th>\n",
       "      <td>MainScreenAppear</td>\n",
       "      <td>0.35</td>\n",
       "    </tr>\n",
       "    <tr>\n",
       "      <th>1</th>\n",
       "      <td>OffersScreenAppear</td>\n",
       "      <td>0.45</td>\n",
       "    </tr>\n",
       "    <tr>\n",
       "      <th>2</th>\n",
       "      <td>CartScreenAppear</td>\n",
       "      <td>0.19</td>\n",
       "    </tr>\n",
       "    <tr>\n",
       "      <th>3</th>\n",
       "      <td>PaymentScreenSuccessful</td>\n",
       "      <td>0.61</td>\n",
       "    </tr>\n",
       "  </tbody>\n",
       "</table>\n",
       "</div>"
      ],
      "text/plain": [
       "                event_name  246_247/248\n",
       "0  MainScreenAppear        0.35        \n",
       "1  OffersScreenAppear      0.45        \n",
       "2  CartScreenAppear        0.19        \n",
       "3  PaymentScreenSuccessful 0.61        "
      ]
     },
     "execution_count": 30,
     "metadata": {},
     "output_type": "execute_result"
    }
   ],
   "source": [
    "bonferroni_alpha = 0.05 / 16  # произведено 16 сравнений\n",
    "\n",
    "list_events, list_event_p_value = [], []\n",
    "\n",
    "for event in df_logs_new['event_name'].unique():\n",
    "    \n",
    "    list_event_p_value = [event]\n",
    "    \n",
    "    # кол-во успехов групп\n",
    "    users_success_1 = df_logs_new.query('exp_id != 248 and event_name == @event')['device_id_hash'].nunique()\n",
    "    users_success_2 = df_logs_new.query('exp_id == 248 and event_name == @event')['device_id_hash'].nunique()\n",
    "\n",
    "    # Все пользователи групп (без деления на события)\n",
    "    users_total_1 = df_logs_new.query('exp_id != 248')['device_id_hash'].nunique()\n",
    "    users_total_2 = df_logs_new.query('exp_id == 248')['device_id_hash'].nunique()\n",
    "\n",
    "    tested_group = 'Контрольная/248'\n",
    "\n",
    "    # считаем p-value по событиям в разрезе групп\n",
    "    p_value = get_p_value(users_success_1, \n",
    "                          users_total_1, \n",
    "                          users_success_2, \n",
    "                          users_total_2, \n",
    "                          tested_group, \n",
    "                          event,\n",
    "                          bonferroni_alpha)\n",
    "    \n",
    "    list_event_p_value.extend([p_value])\n",
    "    list_events.append(list_event_p_value)\n",
    "    \n",
    "    cnt_hypotesis += 1\n",
    "    \n",
    "# создадим датафрейм по данным list_events\n",
    "df_p_value_3 = pd.DataFrame(list_events)\n",
    "\n",
    "# переименуем столбцы (костыльно)\n",
    "df_p_value_3.rename(columns={0: 'event_name',\n",
    "                             1: '246_247/248'}, inplace = True)\n",
    "\n",
    "df_p_value_3"
   ]
  },
  {
   "cell_type": "markdown",
   "metadata": {},
   "source": [
    "Результаты не изменились, поэтому значение alpha = 0.05 выбрано оптимально."
   ]
  },
  {
   "cell_type": "markdown",
   "metadata": {},
   "source": [
    "**Вывод**\n",
    "\n",
    "1. Самое популярное событие: `MainScreenAppear`,\n",
    "2. Статистически значимого различия между долями в контрольных группах нет,\n",
    "3. Статистически значимого различия по долям в экспериментальной и контрольной группах нет.\n",
    "4. Уровень статистической значимости (alpha) выбран 0.05.\n",
    "\n",
    "Разбиение на группы работает корректно. Результат A/B-теста - изменение шрифта не повлияло на поведение пользователей."
   ]
  },
  {
   "cell_type": "markdown",
   "metadata": {},
   "source": [
    "## Вывод\n",
    "\n",
    "Нам был предоставлен датафрейм без пропусков. На этапе предобработки привели данные с датой и временем события к корректному типу, заголовки столбцов к общепринятому формату, удалили 413 явных дубликатов.\n",
    "\n",
    "**Проверка данных**\n",
    "\n",
    "Было принято решение анализировать интервал с 1 августа по 7 августа 2019 г. - в этом промежутке содержатся полноценные данные. До 31 июля количество событий в группах оказалось крайне мало. Потери в данных незначительные (события - 0.16%, пользователи - 0.04%).\n",
    "\n",
    "**Воронка событий**\n",
    "\n",
    "Было выделено 4 основных события, составляющих воронку: `MainScreenAppear`, `OffersScreenAppear`, `CartScreenAppear`, `PaymentScreenSuccessful`. Исключили событие `Tutorial`, так как оно не несет смысловой нагрузки для достижения цели Проекта.\n",
    "\n",
    "- На шаге с `MainScreenAppear` на `OffersScreenAppear` теряется больше всего пользователей - 38%,\n",
    "- 47% пользователей увидели страницу успешной оплаты.\n",
    "\n",
    "**Результаты эксперимента**\n",
    "\n",
    "- Наиболее популярное событие - `MainScreenAppear`,\n",
    "- Между долями контрольных групп статистически значимого различия не наблюдается (при alpha = 0.05). Разбиение на группы работает корректно,\n",
    "- Статистически значимого различия между долями контрольной и экспериментальной группами не наблюдается (при alpha = 0.05, с учетом поправки Бонферрони). \n",
    "\n",
    "Таким образом, при прочих равных условиях **изменение шрифтов не повлияло на поведение пользователей**."
   ]
  }
 ],
 "metadata": {
  "ExecuteTimeLog": [
   {
    "duration": 1308,
    "start_time": "2023-12-10T18:10:28.035Z"
   },
   {
    "duration": 566,
    "start_time": "2023-12-10T18:10:30.304Z"
   },
   {
    "duration": 173,
    "start_time": "2023-12-10T18:10:31.944Z"
   },
   {
    "duration": 154,
    "start_time": "2023-12-10T18:11:50.976Z"
   },
   {
    "duration": 88,
    "start_time": "2023-12-10T18:11:52.388Z"
   },
   {
    "duration": 82,
    "start_time": "2023-12-10T18:25:21.760Z"
   },
   {
    "duration": 67,
    "start_time": "2023-12-10T18:27:21.248Z"
   },
   {
    "duration": 3,
    "start_time": "2023-12-10T18:28:08.033Z"
   },
   {
    "duration": 102,
    "start_time": "2023-12-10T18:28:26.602Z"
   },
   {
    "duration": 39,
    "start_time": "2023-12-10T18:28:36.845Z"
   },
   {
    "duration": 11,
    "start_time": "2023-12-10T18:28:37.907Z"
   },
   {
    "duration": 80,
    "start_time": "2023-12-10T18:28:50.106Z"
   },
   {
    "duration": 11,
    "start_time": "2023-12-10T18:28:50.666Z"
   },
   {
    "duration": 3,
    "start_time": "2023-12-10T18:29:07.448Z"
   },
   {
    "duration": 144,
    "start_time": "2023-12-10T18:29:07.452Z"
   },
   {
    "duration": 95,
    "start_time": "2023-12-10T18:29:07.597Z"
   },
   {
    "duration": 3,
    "start_time": "2023-12-10T18:29:09.836Z"
   },
   {
    "duration": 87,
    "start_time": "2023-12-10T18:29:10.453Z"
   },
   {
    "duration": 11,
    "start_time": "2023-12-10T18:29:11.102Z"
   },
   {
    "duration": 323,
    "start_time": "2023-12-10T18:31:37.807Z"
   },
   {
    "duration": 3,
    "start_time": "2023-12-10T18:31:50.177Z"
   },
   {
    "duration": 148,
    "start_time": "2023-12-10T18:31:50.181Z"
   },
   {
    "duration": 97,
    "start_time": "2023-12-10T18:31:50.331Z"
   },
   {
    "duration": 2,
    "start_time": "2023-12-10T18:31:50.430Z"
   },
   {
    "duration": 4,
    "start_time": "2023-12-10T18:31:51.259Z"
   },
   {
    "duration": 6,
    "start_time": "2023-12-10T18:31:51.708Z"
   },
   {
    "duration": 10,
    "start_time": "2023-12-10T18:31:59.041Z"
   },
   {
    "duration": 69,
    "start_time": "2023-12-10T18:36:11.010Z"
   },
   {
    "duration": 69,
    "start_time": "2023-12-10T18:38:13.443Z"
   },
   {
    "duration": 10,
    "start_time": "2023-12-10T18:39:34.152Z"
   },
   {
    "duration": 5,
    "start_time": "2023-12-10T18:39:40.658Z"
   },
   {
    "duration": 5,
    "start_time": "2023-12-10T18:40:37.039Z"
   },
   {
    "duration": 3,
    "start_time": "2023-12-10T18:44:56.648Z"
   },
   {
    "duration": 167,
    "start_time": "2023-12-10T18:44:56.652Z"
   },
   {
    "duration": 96,
    "start_time": "2023-12-10T18:44:56.820Z"
   },
   {
    "duration": 1273,
    "start_time": "2023-12-10T18:44:56.918Z"
   },
   {
    "duration": 0,
    "start_time": "2023-12-10T18:44:58.193Z"
   },
   {
    "duration": 3,
    "start_time": "2023-12-10T18:45:01.632Z"
   },
   {
    "duration": 17,
    "start_time": "2023-12-10T18:45:33.449Z"
   },
   {
    "duration": 29,
    "start_time": "2023-12-10T18:45:34.100Z"
   },
   {
    "duration": 3,
    "start_time": "2023-12-10T18:45:51.287Z"
   },
   {
    "duration": 159,
    "start_time": "2023-12-10T18:45:51.292Z"
   },
   {
    "duration": 93,
    "start_time": "2023-12-10T18:45:51.453Z"
   },
   {
    "duration": 1182,
    "start_time": "2023-12-10T18:45:51.548Z"
   },
   {
    "duration": 0,
    "start_time": "2023-12-10T18:45:52.731Z"
   },
   {
    "duration": 4,
    "start_time": "2023-12-10T18:45:53.783Z"
   },
   {
    "duration": 63,
    "start_time": "2023-12-10T18:45:54.389Z"
   },
   {
    "duration": 35,
    "start_time": "2023-12-10T18:45:55.066Z"
   },
   {
    "duration": 4,
    "start_time": "2023-12-10T18:46:27.502Z"
   },
   {
    "duration": 154,
    "start_time": "2023-12-10T18:46:27.508Z"
   },
   {
    "duration": 96,
    "start_time": "2023-12-10T18:46:27.664Z"
   },
   {
    "duration": 1122,
    "start_time": "2023-12-10T18:46:27.769Z"
   },
   {
    "duration": 0,
    "start_time": "2023-12-10T18:46:28.893Z"
   },
   {
    "duration": 4,
    "start_time": "2023-12-10T18:46:29.687Z"
   },
   {
    "duration": 67,
    "start_time": "2023-12-10T18:46:30.654Z"
   },
   {
    "duration": 36,
    "start_time": "2023-12-10T18:46:31.555Z"
   },
   {
    "duration": 10,
    "start_time": "2023-12-10T18:47:38.206Z"
   },
   {
    "duration": 7,
    "start_time": "2023-12-10T18:47:47.117Z"
   },
   {
    "duration": 18,
    "start_time": "2023-12-10T18:51:46.460Z"
   },
   {
    "duration": 42,
    "start_time": "2023-12-10T18:53:12.752Z"
   },
   {
    "duration": 43,
    "start_time": "2023-12-10T18:53:19.825Z"
   },
   {
    "duration": 6,
    "start_time": "2023-12-10T18:55:01.884Z"
   },
   {
    "duration": 42,
    "start_time": "2023-12-10T19:00:19.894Z"
   },
   {
    "duration": 24,
    "start_time": "2023-12-10T19:00:52.494Z"
   },
   {
    "duration": 22,
    "start_time": "2023-12-10T19:01:15.658Z"
   },
   {
    "duration": 24,
    "start_time": "2023-12-10T19:01:44.494Z"
   },
   {
    "duration": 25,
    "start_time": "2023-12-10T19:02:02.303Z"
   },
   {
    "duration": 26,
    "start_time": "2023-12-10T19:02:38.955Z"
   },
   {
    "duration": 27,
    "start_time": "2023-12-10T19:02:47.368Z"
   },
   {
    "duration": 33,
    "start_time": "2023-12-10T19:02:58.170Z"
   },
   {
    "duration": 31,
    "start_time": "2023-12-10T19:03:04.601Z"
   },
   {
    "duration": 33,
    "start_time": "2023-12-10T19:03:31.218Z"
   },
   {
    "duration": 21,
    "start_time": "2023-12-10T19:03:35.053Z"
   },
   {
    "duration": 18,
    "start_time": "2023-12-10T19:08:26.872Z"
   },
   {
    "duration": 20,
    "start_time": "2023-12-10T19:08:43.308Z"
   },
   {
    "duration": 19,
    "start_time": "2023-12-10T19:09:00.399Z"
   },
   {
    "duration": 19,
    "start_time": "2023-12-10T19:09:06.000Z"
   },
   {
    "duration": 19,
    "start_time": "2023-12-10T19:09:45.340Z"
   },
   {
    "duration": 78,
    "start_time": "2023-12-10T19:13:33.936Z"
   },
   {
    "duration": 1094,
    "start_time": "2023-12-10T19:13:41.111Z"
   },
   {
    "duration": 3,
    "start_time": "2023-12-10T19:13:52.804Z"
   },
   {
    "duration": 167,
    "start_time": "2023-12-10T19:13:52.809Z"
   },
   {
    "duration": 98,
    "start_time": "2023-12-10T19:13:52.977Z"
   },
   {
    "duration": 3,
    "start_time": "2023-12-10T19:13:53.076Z"
   },
   {
    "duration": 65,
    "start_time": "2023-12-10T19:13:53.082Z"
   },
   {
    "duration": 130,
    "start_time": "2023-12-10T19:13:53.148Z"
   },
   {
    "duration": 18,
    "start_time": "2023-12-10T19:13:53.280Z"
   },
   {
    "duration": 18,
    "start_time": "2023-12-10T19:13:55.353Z"
   },
   {
    "duration": 1178,
    "start_time": "2023-12-10T19:13:56.204Z"
   },
   {
    "duration": 11,
    "start_time": "2023-12-10T19:14:20.940Z"
   },
   {
    "duration": 24,
    "start_time": "2023-12-10T19:14:28.414Z"
   },
   {
    "duration": 12,
    "start_time": "2023-12-10T19:22:38.623Z"
   },
   {
    "duration": 8,
    "start_time": "2023-12-10T19:22:45.882Z"
   },
   {
    "duration": 34,
    "start_time": "2023-12-10T19:24:23.549Z"
   },
   {
    "duration": 21,
    "start_time": "2023-12-10T19:25:07.858Z"
   },
   {
    "duration": 28,
    "start_time": "2023-12-10T19:27:26.301Z"
   },
   {
    "duration": 18,
    "start_time": "2023-12-10T19:27:52.351Z"
   },
   {
    "duration": 35,
    "start_time": "2023-12-10T19:28:04.785Z"
   },
   {
    "duration": 32,
    "start_time": "2023-12-10T19:31:09.412Z"
   },
   {
    "duration": 37,
    "start_time": "2023-12-10T19:31:17.867Z"
   },
   {
    "duration": 11,
    "start_time": "2023-12-10T19:31:37.948Z"
   },
   {
    "duration": 5,
    "start_time": "2023-12-10T19:32:03.751Z"
   },
   {
    "duration": 35,
    "start_time": "2023-12-10T19:32:20.448Z"
   },
   {
    "duration": 8,
    "start_time": "2023-12-10T19:34:22.336Z"
   },
   {
    "duration": 44,
    "start_time": "2023-12-10T19:34:34.300Z"
   },
   {
    "duration": 52,
    "start_time": "2023-12-10T19:34:40.939Z"
   },
   {
    "duration": 75,
    "start_time": "2023-12-10T19:35:47.721Z"
   },
   {
    "duration": 50,
    "start_time": "2023-12-10T19:35:51.345Z"
   },
   {
    "duration": 1175,
    "start_time": "2023-12-10T19:37:39.022Z"
   },
   {
    "duration": 1136,
    "start_time": "2023-12-10T20:03:43.165Z"
   },
   {
    "duration": 1171,
    "start_time": "2023-12-10T20:04:20.300Z"
   },
   {
    "duration": 290,
    "start_time": "2023-12-10T20:07:33.416Z"
   },
   {
    "duration": 25,
    "start_time": "2023-12-10T20:08:51.299Z"
   },
   {
    "duration": 71,
    "start_time": "2023-12-10T20:09:48.918Z"
   },
   {
    "duration": 349,
    "start_time": "2023-12-10T20:09:51.565Z"
   },
   {
    "duration": 341,
    "start_time": "2023-12-10T20:19:35.075Z"
   },
   {
    "duration": 353,
    "start_time": "2023-12-10T20:21:33.943Z"
   },
   {
    "duration": 23,
    "start_time": "2023-12-10T20:22:12.311Z"
   },
   {
    "duration": 20,
    "start_time": "2023-12-10T20:22:28.695Z"
   },
   {
    "duration": 347,
    "start_time": "2023-12-10T20:27:05.930Z"
   },
   {
    "duration": 294,
    "start_time": "2023-12-10T20:30:15.750Z"
   },
   {
    "duration": 276,
    "start_time": "2023-12-10T20:30:38.180Z"
   },
   {
    "duration": 351,
    "start_time": "2023-12-10T20:30:50.455Z"
   },
   {
    "duration": 280,
    "start_time": "2023-12-10T20:31:02.332Z"
   },
   {
    "duration": 282,
    "start_time": "2023-12-10T20:32:00.554Z"
   },
   {
    "duration": 9,
    "start_time": "2023-12-10T20:39:18.302Z"
   },
   {
    "duration": 12,
    "start_time": "2023-12-10T20:39:23.957Z"
   },
   {
    "duration": 309,
    "start_time": "2023-12-10T20:39:45.875Z"
   },
   {
    "duration": 288,
    "start_time": "2023-12-10T20:39:56.542Z"
   },
   {
    "duration": 26,
    "start_time": "2023-12-10T20:42:56.726Z"
   },
   {
    "duration": 3,
    "start_time": "2023-12-10T20:47:53.620Z"
   },
   {
    "duration": 4,
    "start_time": "2023-12-10T20:48:50.418Z"
   },
   {
    "duration": 4,
    "start_time": "2023-12-10T20:49:13.351Z"
   },
   {
    "duration": 89,
    "start_time": "2023-12-10T20:51:17.988Z"
   },
   {
    "duration": 71,
    "start_time": "2023-12-10T20:51:26.075Z"
   },
   {
    "duration": 3,
    "start_time": "2023-12-10T20:52:20.008Z"
   },
   {
    "duration": 12,
    "start_time": "2023-12-10T20:55:38.964Z"
   },
   {
    "duration": 64,
    "start_time": "2023-12-10T20:58:46.620Z"
   },
   {
    "duration": 68,
    "start_time": "2023-12-10T20:59:46.829Z"
   },
   {
    "duration": 17,
    "start_time": "2023-12-10T21:00:37.157Z"
   },
   {
    "duration": 17,
    "start_time": "2023-12-10T21:00:47.554Z"
   },
   {
    "duration": 23,
    "start_time": "2023-12-10T21:01:19.831Z"
   },
   {
    "duration": 23,
    "start_time": "2023-12-10T21:01:26.278Z"
   },
   {
    "duration": 18,
    "start_time": "2023-12-10T21:01:31.305Z"
   },
   {
    "duration": 7,
    "start_time": "2023-12-10T21:02:30.785Z"
   },
   {
    "duration": 17,
    "start_time": "2023-12-10T21:04:17.973Z"
   },
   {
    "duration": 18,
    "start_time": "2023-12-10T21:04:23.328Z"
   },
   {
    "duration": 17,
    "start_time": "2023-12-10T21:04:27.369Z"
   },
   {
    "duration": 4,
    "start_time": "2023-12-10T21:05:36.602Z"
   },
   {
    "duration": 74,
    "start_time": "2023-12-10T21:13:11.201Z"
   },
   {
    "duration": 18,
    "start_time": "2023-12-10T21:13:32.290Z"
   },
   {
    "duration": 21,
    "start_time": "2023-12-10T21:14:24.643Z"
   },
   {
    "duration": 16,
    "start_time": "2023-12-10T21:14:35.227Z"
   },
   {
    "duration": 20,
    "start_time": "2023-12-10T21:17:00.009Z"
   },
   {
    "duration": 28,
    "start_time": "2023-12-10T21:20:20.502Z"
   },
   {
    "duration": 26,
    "start_time": "2023-12-10T21:20:27.898Z"
   },
   {
    "duration": 25,
    "start_time": "2023-12-10T21:20:36.160Z"
   },
   {
    "duration": 53,
    "start_time": "2023-12-10T21:26:05.709Z"
   },
   {
    "duration": 44,
    "start_time": "2023-12-10T21:26:15.663Z"
   },
   {
    "duration": 55,
    "start_time": "2023-12-10T21:26:29.465Z"
   },
   {
    "duration": 75,
    "start_time": "2023-12-10T21:27:29.686Z"
   },
   {
    "duration": 16,
    "start_time": "2023-12-10T21:27:33.677Z"
   },
   {
    "duration": 20,
    "start_time": "2023-12-10T21:27:43.394Z"
   },
   {
    "duration": 29,
    "start_time": "2023-12-10T21:30:00.067Z"
   },
   {
    "duration": 60,
    "start_time": "2023-12-10T21:40:36.532Z"
   },
   {
    "duration": 58,
    "start_time": "2023-12-10T21:40:47.905Z"
   },
   {
    "duration": 64,
    "start_time": "2023-12-10T21:41:13.857Z"
   },
   {
    "duration": 54,
    "start_time": "2023-12-10T21:42:49.587Z"
   },
   {
    "duration": 58,
    "start_time": "2023-12-10T21:46:10.670Z"
   },
   {
    "duration": 1298,
    "start_time": "2023-12-12T17:28:25.565Z"
   },
   {
    "duration": 690,
    "start_time": "2023-12-12T17:28:26.864Z"
   },
   {
    "duration": 103,
    "start_time": "2023-12-12T17:28:27.555Z"
   },
   {
    "duration": 3,
    "start_time": "2023-12-12T17:28:27.659Z"
   },
   {
    "duration": 99,
    "start_time": "2023-12-12T17:28:27.664Z"
   },
   {
    "duration": 128,
    "start_time": "2023-12-12T17:28:27.765Z"
   },
   {
    "duration": 24,
    "start_time": "2023-12-12T17:28:27.894Z"
   },
   {
    "duration": 30,
    "start_time": "2023-12-12T17:28:27.919Z"
   },
   {
    "duration": 327,
    "start_time": "2023-12-12T17:28:27.950Z"
   },
   {
    "duration": 26,
    "start_time": "2023-12-12T17:28:28.279Z"
   },
   {
    "duration": 17,
    "start_time": "2023-12-12T17:28:28.306Z"
   },
   {
    "duration": 4,
    "start_time": "2023-12-12T17:28:28.324Z"
   },
   {
    "duration": 21,
    "start_time": "2023-12-12T17:28:28.330Z"
   },
   {
    "duration": 74,
    "start_time": "2023-12-12T17:28:28.354Z"
   },
   {
    "duration": 90,
    "start_time": "2023-12-12T17:29:45.939Z"
   },
   {
    "duration": 4,
    "start_time": "2023-12-12T17:30:11.971Z"
   },
   {
    "duration": 771,
    "start_time": "2023-12-12T17:31:13.510Z"
   },
   {
    "duration": 7,
    "start_time": "2023-12-12T17:31:20.755Z"
   },
   {
    "duration": 9,
    "start_time": "2023-12-12T17:31:41.815Z"
   },
   {
    "duration": 11,
    "start_time": "2023-12-12T17:37:35.159Z"
   },
   {
    "duration": 43,
    "start_time": "2023-12-12T17:39:23.919Z"
   },
   {
    "duration": 58,
    "start_time": "2023-12-12T17:39:35.587Z"
   },
   {
    "duration": 165,
    "start_time": "2023-12-12T17:39:41.603Z"
   },
   {
    "duration": 46,
    "start_time": "2023-12-12T17:39:51.616Z"
   },
   {
    "duration": 49,
    "start_time": "2023-12-12T17:39:55.746Z"
   },
   {
    "duration": 4,
    "start_time": "2023-12-12T17:40:02.797Z"
   },
   {
    "duration": 3,
    "start_time": "2023-12-12T17:40:15.133Z"
   },
   {
    "duration": 57,
    "start_time": "2023-12-12T17:41:57.629Z"
   },
   {
    "duration": 4,
    "start_time": "2023-12-12T17:42:09.362Z"
   },
   {
    "duration": 4,
    "start_time": "2023-12-12T17:42:21.469Z"
   },
   {
    "duration": 4,
    "start_time": "2023-12-12T17:42:39.378Z"
   },
   {
    "duration": 3,
    "start_time": "2023-12-12T17:46:12.236Z"
   },
   {
    "duration": 166,
    "start_time": "2023-12-12T17:46:12.241Z"
   },
   {
    "duration": 98,
    "start_time": "2023-12-12T17:46:12.408Z"
   },
   {
    "duration": 3,
    "start_time": "2023-12-12T17:46:12.508Z"
   },
   {
    "duration": 87,
    "start_time": "2023-12-12T17:46:12.513Z"
   },
   {
    "duration": 103,
    "start_time": "2023-12-12T17:46:12.602Z"
   },
   {
    "duration": 22,
    "start_time": "2023-12-12T17:46:12.707Z"
   },
   {
    "duration": 32,
    "start_time": "2023-12-12T17:46:12.730Z"
   },
   {
    "duration": 305,
    "start_time": "2023-12-12T17:46:12.764Z"
   },
   {
    "duration": 29,
    "start_time": "2023-12-12T17:46:13.070Z"
   },
   {
    "duration": 17,
    "start_time": "2023-12-12T17:46:13.100Z"
   },
   {
    "duration": 5,
    "start_time": "2023-12-12T17:46:13.119Z"
   },
   {
    "duration": 24,
    "start_time": "2023-12-12T17:46:13.126Z"
   },
   {
    "duration": 51,
    "start_time": "2023-12-12T17:46:14.821Z"
   },
   {
    "duration": 54,
    "start_time": "2023-12-12T17:46:40.931Z"
   },
   {
    "duration": 55,
    "start_time": "2023-12-12T17:47:02.974Z"
   },
   {
    "duration": 55,
    "start_time": "2023-12-12T17:47:15.473Z"
   },
   {
    "duration": 59,
    "start_time": "2023-12-12T17:47:23.730Z"
   },
   {
    "duration": 4,
    "start_time": "2023-12-12T17:48:01.693Z"
   },
   {
    "duration": 4,
    "start_time": "2023-12-12T17:48:46.848Z"
   },
   {
    "duration": 5,
    "start_time": "2023-12-12T17:49:36.200Z"
   },
   {
    "duration": 5,
    "start_time": "2023-12-12T17:49:40.734Z"
   },
   {
    "duration": 6,
    "start_time": "2023-12-12T17:49:51.873Z"
   },
   {
    "duration": 4,
    "start_time": "2023-12-12T17:50:07.530Z"
   },
   {
    "duration": 50,
    "start_time": "2023-12-12T17:53:14.557Z"
   },
   {
    "duration": 53,
    "start_time": "2023-12-12T17:53:22.281Z"
   },
   {
    "duration": 5,
    "start_time": "2023-12-12T17:53:45.023Z"
   },
   {
    "duration": 5,
    "start_time": "2023-12-12T17:53:51.812Z"
   },
   {
    "duration": 15,
    "start_time": "2023-12-12T17:55:20.046Z"
   },
   {
    "duration": 13,
    "start_time": "2023-12-12T17:55:26.303Z"
   },
   {
    "duration": 11,
    "start_time": "2023-12-12T17:57:02.037Z"
   },
   {
    "duration": 11,
    "start_time": "2023-12-12T17:57:33.977Z"
   },
   {
    "duration": 10,
    "start_time": "2023-12-12T17:57:49.806Z"
   },
   {
    "duration": 13,
    "start_time": "2023-12-12T17:59:31.386Z"
   },
   {
    "duration": 14,
    "start_time": "2023-12-12T18:08:04.516Z"
   },
   {
    "duration": 6,
    "start_time": "2023-12-12T18:08:18.761Z"
   },
   {
    "duration": 766,
    "start_time": "2023-12-12T18:10:53.430Z"
   },
   {
    "duration": 804,
    "start_time": "2023-12-12T18:11:18.320Z"
   },
   {
    "duration": 9,
    "start_time": "2023-12-12T18:11:25.862Z"
   },
   {
    "duration": 842,
    "start_time": "2023-12-12T18:11:34.018Z"
   },
   {
    "duration": 8,
    "start_time": "2023-12-12T18:11:38.629Z"
   },
   {
    "duration": 6,
    "start_time": "2023-12-12T18:12:07.035Z"
   },
   {
    "duration": 6,
    "start_time": "2023-12-12T18:12:28.688Z"
   },
   {
    "duration": 11,
    "start_time": "2023-12-12T18:13:08.886Z"
   },
   {
    "duration": 60,
    "start_time": "2023-12-12T18:18:12.692Z"
   },
   {
    "duration": 56,
    "start_time": "2023-12-12T18:18:32.161Z"
   },
   {
    "duration": 49,
    "start_time": "2023-12-12T18:19:49.590Z"
   },
   {
    "duration": 50,
    "start_time": "2023-12-12T18:20:35.444Z"
   },
   {
    "duration": 9,
    "start_time": "2023-12-12T18:20:39.441Z"
   },
   {
    "duration": 8,
    "start_time": "2023-12-12T18:21:01.590Z"
   },
   {
    "duration": 8,
    "start_time": "2023-12-12T18:21:19.492Z"
   },
   {
    "duration": 9,
    "start_time": "2023-12-12T18:21:26.744Z"
   },
   {
    "duration": 9,
    "start_time": "2023-12-12T18:21:42.683Z"
   },
   {
    "duration": 7,
    "start_time": "2023-12-12T18:22:30.274Z"
   },
   {
    "duration": 3,
    "start_time": "2023-12-12T18:44:52.344Z"
   },
   {
    "duration": 14,
    "start_time": "2023-12-12T18:48:21.574Z"
   },
   {
    "duration": 8,
    "start_time": "2023-12-12T18:48:57.391Z"
   },
   {
    "duration": 21,
    "start_time": "2023-12-12T19:26:06.712Z"
   },
   {
    "duration": 11,
    "start_time": "2023-12-12T19:26:26.944Z"
   },
   {
    "duration": 25,
    "start_time": "2023-12-12T19:28:35.535Z"
   },
   {
    "duration": 19,
    "start_time": "2023-12-12T19:32:27.747Z"
   },
   {
    "duration": 37,
    "start_time": "2023-12-12T19:32:33.676Z"
   },
   {
    "duration": 26,
    "start_time": "2023-12-12T19:33:33.771Z"
   },
   {
    "duration": 16,
    "start_time": "2023-12-12T20:37:49.672Z"
   },
   {
    "duration": 20,
    "start_time": "2023-12-12T20:39:06.146Z"
   },
   {
    "duration": 18,
    "start_time": "2023-12-12T20:39:16.349Z"
   },
   {
    "duration": 18,
    "start_time": "2023-12-12T20:39:26.608Z"
   },
   {
    "duration": 19,
    "start_time": "2023-12-12T20:40:26.232Z"
   },
   {
    "duration": 18,
    "start_time": "2023-12-12T20:40:32.818Z"
   },
   {
    "duration": 12,
    "start_time": "2023-12-12T20:42:22.662Z"
   },
   {
    "duration": 39,
    "start_time": "2023-12-12T20:43:35.034Z"
   },
   {
    "duration": 33,
    "start_time": "2023-12-12T20:43:48.183Z"
   },
   {
    "duration": 17,
    "start_time": "2023-12-12T20:45:48.597Z"
   },
   {
    "duration": 25,
    "start_time": "2023-12-12T20:45:58.922Z"
   },
   {
    "duration": 26,
    "start_time": "2023-12-12T20:46:08.780Z"
   },
   {
    "duration": 23,
    "start_time": "2023-12-12T20:47:17.151Z"
   },
   {
    "duration": 22,
    "start_time": "2023-12-12T20:48:21.942Z"
   },
   {
    "duration": 24,
    "start_time": "2023-12-12T20:48:48.876Z"
   },
   {
    "duration": 59,
    "start_time": "2023-12-12T20:49:07.533Z"
   },
   {
    "duration": 56,
    "start_time": "2023-12-12T20:50:10.091Z"
   },
   {
    "duration": 55,
    "start_time": "2023-12-12T20:50:17.657Z"
   },
   {
    "duration": 56,
    "start_time": "2023-12-12T20:50:22.735Z"
   },
   {
    "duration": 25,
    "start_time": "2023-12-12T20:50:44.957Z"
   },
   {
    "duration": 26,
    "start_time": "2023-12-12T20:51:47.529Z"
   },
   {
    "duration": 37,
    "start_time": "2023-12-12T20:54:52.334Z"
   },
   {
    "duration": 23,
    "start_time": "2023-12-12T20:55:02.701Z"
   },
   {
    "duration": 25,
    "start_time": "2023-12-12T20:55:34.952Z"
   },
   {
    "duration": 2,
    "start_time": "2023-12-12T20:56:33.406Z"
   },
   {
    "duration": 26,
    "start_time": "2023-12-12T20:57:16.073Z"
   },
   {
    "duration": 27,
    "start_time": "2023-12-12T20:57:39.052Z"
   },
   {
    "duration": 50,
    "start_time": "2023-12-12T20:58:02.986Z"
   },
   {
    "duration": 53,
    "start_time": "2023-12-12T20:58:13.667Z"
   },
   {
    "duration": 50,
    "start_time": "2023-12-12T20:58:25.406Z"
   },
   {
    "duration": 796,
    "start_time": "2023-12-12T20:58:49.695Z"
   },
   {
    "duration": 48,
    "start_time": "2023-12-12T20:58:57.707Z"
   },
   {
    "duration": 792,
    "start_time": "2023-12-12T20:59:02.961Z"
   },
   {
    "duration": 46,
    "start_time": "2023-12-12T20:59:09.434Z"
   },
   {
    "duration": 46,
    "start_time": "2023-12-12T20:59:26.137Z"
   },
   {
    "duration": 53,
    "start_time": "2023-12-12T20:59:33.456Z"
   },
   {
    "duration": 49,
    "start_time": "2023-12-12T20:59:42.517Z"
   },
   {
    "duration": 58,
    "start_time": "2023-12-12T21:00:40.579Z"
   },
   {
    "duration": 51,
    "start_time": "2023-12-12T21:00:54.492Z"
   },
   {
    "duration": 47,
    "start_time": "2023-12-12T21:02:25.964Z"
   },
   {
    "duration": 46,
    "start_time": "2023-12-12T21:02:42.074Z"
   },
   {
    "duration": 51,
    "start_time": "2023-12-12T21:03:41.287Z"
   },
   {
    "duration": 48,
    "start_time": "2023-12-12T21:03:51.621Z"
   },
   {
    "duration": 43,
    "start_time": "2023-12-12T21:04:58.976Z"
   },
   {
    "duration": 2,
    "start_time": "2023-12-12T21:09:25.895Z"
   },
   {
    "duration": 1318,
    "start_time": "2023-12-13T17:32:32.766Z"
   },
   {
    "duration": 716,
    "start_time": "2023-12-13T17:32:34.086Z"
   },
   {
    "duration": 126,
    "start_time": "2023-12-13T17:32:34.804Z"
   },
   {
    "duration": 4,
    "start_time": "2023-12-13T17:32:34.932Z"
   },
   {
    "duration": 104,
    "start_time": "2023-12-13T17:32:34.938Z"
   },
   {
    "duration": 150,
    "start_time": "2023-12-13T17:32:35.044Z"
   },
   {
    "duration": 25,
    "start_time": "2023-12-13T17:32:35.195Z"
   },
   {
    "duration": 32,
    "start_time": "2023-12-13T17:32:35.231Z"
   },
   {
    "duration": 376,
    "start_time": "2023-12-13T17:32:35.264Z"
   },
   {
    "duration": 23,
    "start_time": "2023-12-13T17:32:35.642Z"
   },
   {
    "duration": 18,
    "start_time": "2023-12-13T17:32:35.667Z"
   },
   {
    "duration": 19,
    "start_time": "2023-12-13T17:32:35.687Z"
   },
   {
    "duration": 38,
    "start_time": "2023-12-13T17:32:35.708Z"
   },
   {
    "duration": 63,
    "start_time": "2023-12-13T17:32:35.748Z"
   },
   {
    "duration": 28,
    "start_time": "2023-12-13T17:32:35.813Z"
   },
   {
    "duration": 25,
    "start_time": "2023-12-13T17:32:35.843Z"
   },
   {
    "duration": 39,
    "start_time": "2023-12-13T17:32:35.870Z"
   },
   {
    "duration": 24,
    "start_time": "2023-12-13T17:32:35.910Z"
   },
   {
    "duration": 46,
    "start_time": "2023-12-13T17:32:35.935Z"
   },
   {
    "duration": 50,
    "start_time": "2023-12-13T17:32:35.983Z"
   },
   {
    "duration": 47,
    "start_time": "2023-12-13T17:32:36.035Z"
   },
   {
    "duration": 48,
    "start_time": "2023-12-13T17:32:39.047Z"
   },
   {
    "duration": 905,
    "start_time": "2023-12-13T17:37:24.026Z"
   },
   {
    "duration": 8,
    "start_time": "2023-12-13T17:37:41.564Z"
   },
   {
    "duration": 53,
    "start_time": "2023-12-13T17:38:09.670Z"
   },
   {
    "duration": 733,
    "start_time": "2023-12-13T17:39:03.865Z"
   },
   {
    "duration": 47,
    "start_time": "2023-12-13T17:39:12.209Z"
   },
   {
    "duration": 7,
    "start_time": "2023-12-13T17:39:17.123Z"
   },
   {
    "duration": 57,
    "start_time": "2023-12-13T17:39:40.335Z"
   },
   {
    "duration": 8,
    "start_time": "2023-12-13T17:39:41.888Z"
   },
   {
    "duration": 58,
    "start_time": "2023-12-13T17:41:19.852Z"
   },
   {
    "duration": 8,
    "start_time": "2023-12-13T17:42:02.829Z"
   },
   {
    "duration": 52,
    "start_time": "2023-12-13T17:45:40.727Z"
   },
   {
    "duration": 60,
    "start_time": "2023-12-13T17:49:10.855Z"
   },
   {
    "duration": 3,
    "start_time": "2023-12-13T17:54:12.881Z"
   },
   {
    "duration": 4,
    "start_time": "2023-12-13T18:06:05.614Z"
   },
   {
    "duration": 16,
    "start_time": "2023-12-13T18:25:31.273Z"
   },
   {
    "duration": 84,
    "start_time": "2023-12-13T18:25:37.802Z"
   },
   {
    "duration": 16,
    "start_time": "2023-12-13T18:33:55.271Z"
   },
   {
    "duration": 14,
    "start_time": "2023-12-13T18:46:37.166Z"
   },
   {
    "duration": 13,
    "start_time": "2023-12-13T18:46:44.946Z"
   },
   {
    "duration": 15,
    "start_time": "2023-12-13T18:47:15.799Z"
   },
   {
    "duration": 9,
    "start_time": "2023-12-13T19:03:21.219Z"
   },
   {
    "duration": 8,
    "start_time": "2023-12-13T19:03:43.093Z"
   },
   {
    "duration": 9,
    "start_time": "2023-12-13T19:03:46.037Z"
   },
   {
    "duration": 3,
    "start_time": "2023-12-13T19:03:57.188Z"
   },
   {
    "duration": 4,
    "start_time": "2023-12-13T19:04:00.089Z"
   },
   {
    "duration": 455,
    "start_time": "2023-12-13T19:04:51.942Z"
   },
   {
    "duration": 532,
    "start_time": "2023-12-13T19:05:01.026Z"
   },
   {
    "duration": 461,
    "start_time": "2023-12-13T19:07:48.284Z"
   },
   {
    "duration": 511,
    "start_time": "2023-12-13T19:12:57.161Z"
   },
   {
    "duration": 492,
    "start_time": "2023-12-13T19:13:27.165Z"
   },
   {
    "duration": 458,
    "start_time": "2023-12-13T19:23:12.864Z"
   },
   {
    "duration": 522,
    "start_time": "2023-12-13T19:24:28.225Z"
   },
   {
    "duration": 473,
    "start_time": "2023-12-13T19:25:50.512Z"
   },
   {
    "duration": 454,
    "start_time": "2023-12-13T19:28:41.856Z"
   },
   {
    "duration": 468,
    "start_time": "2023-12-13T19:29:09.669Z"
   },
   {
    "duration": 497,
    "start_time": "2023-12-13T19:30:04.110Z"
   },
   {
    "duration": 485,
    "start_time": "2023-12-13T19:30:13.767Z"
   },
   {
    "duration": 476,
    "start_time": "2023-12-13T19:31:38.808Z"
   },
   {
    "duration": 497,
    "start_time": "2023-12-13T19:32:17.248Z"
   },
   {
    "duration": 453,
    "start_time": "2023-12-13T19:32:46.508Z"
   },
   {
    "duration": 476,
    "start_time": "2023-12-13T19:35:27.835Z"
   },
   {
    "duration": 459,
    "start_time": "2023-12-13T19:35:34.572Z"
   },
   {
    "duration": 468,
    "start_time": "2023-12-13T19:35:56.275Z"
   },
   {
    "duration": 469,
    "start_time": "2023-12-13T19:36:26.570Z"
   },
   {
    "duration": 446,
    "start_time": "2023-12-13T19:37:46.179Z"
   },
   {
    "duration": 490,
    "start_time": "2023-12-13T19:38:31.097Z"
   },
   {
    "duration": 459,
    "start_time": "2023-12-13T19:38:57.130Z"
   },
   {
    "duration": 466,
    "start_time": "2023-12-13T19:39:42.702Z"
   },
   {
    "duration": 58,
    "start_time": "2023-12-13T19:40:35.105Z"
   },
   {
    "duration": 52,
    "start_time": "2023-12-13T19:41:10.776Z"
   },
   {
    "duration": 25,
    "start_time": "2023-12-13T19:41:26.630Z"
   },
   {
    "duration": 54,
    "start_time": "2023-12-13T19:41:34.131Z"
   },
   {
    "duration": 481,
    "start_time": "2023-12-13T19:41:57.886Z"
   },
   {
    "duration": 471,
    "start_time": "2023-12-13T19:42:28.590Z"
   },
   {
    "duration": 462,
    "start_time": "2023-12-13T19:42:47.765Z"
   },
   {
    "duration": 474,
    "start_time": "2023-12-13T19:43:12.819Z"
   },
   {
    "duration": 497,
    "start_time": "2023-12-13T19:43:29.006Z"
   },
   {
    "duration": 485,
    "start_time": "2023-12-13T19:44:10.463Z"
   },
   {
    "duration": 471,
    "start_time": "2023-12-13T19:44:21.433Z"
   },
   {
    "duration": 451,
    "start_time": "2023-12-13T19:45:16.723Z"
   },
   {
    "duration": 521,
    "start_time": "2023-12-13T19:45:26.920Z"
   },
   {
    "duration": 498,
    "start_time": "2023-12-13T19:45:49.497Z"
   },
   {
    "duration": 474,
    "start_time": "2023-12-13T19:45:54.661Z"
   },
   {
    "duration": 483,
    "start_time": "2023-12-13T19:47:12.836Z"
   },
   {
    "duration": 520,
    "start_time": "2023-12-13T19:48:01.236Z"
   },
   {
    "duration": 457,
    "start_time": "2023-12-13T19:48:14.180Z"
   },
   {
    "duration": 510,
    "start_time": "2023-12-13T19:50:40.933Z"
   },
   {
    "duration": 453,
    "start_time": "2023-12-13T19:50:54.103Z"
   },
   {
    "duration": 477,
    "start_time": "2023-12-13T19:51:18.571Z"
   },
   {
    "duration": 13,
    "start_time": "2023-12-13T19:55:35.209Z"
   },
   {
    "duration": 81,
    "start_time": "2023-12-13T19:55:47.254Z"
   },
   {
    "duration": 25,
    "start_time": "2023-12-13T19:59:02.794Z"
   },
   {
    "duration": 24,
    "start_time": "2023-12-13T19:59:09.520Z"
   },
   {
    "duration": 22,
    "start_time": "2023-12-13T20:03:30.367Z"
   },
   {
    "duration": 19,
    "start_time": "2023-12-13T20:03:37.040Z"
   },
   {
    "duration": 16,
    "start_time": "2023-12-13T20:03:45.133Z"
   },
   {
    "duration": 61,
    "start_time": "2023-12-13T20:04:21.940Z"
   },
   {
    "duration": 71,
    "start_time": "2023-12-13T20:04:59.905Z"
   },
   {
    "duration": 5,
    "start_time": "2023-12-13T20:05:21.904Z"
   },
   {
    "duration": 537,
    "start_time": "2023-12-13T20:05:24.275Z"
   },
   {
    "duration": 558,
    "start_time": "2023-12-13T20:05:48.975Z"
   },
   {
    "duration": 6,
    "start_time": "2023-12-13T20:05:51.557Z"
   },
   {
    "duration": 581,
    "start_time": "2023-12-13T20:06:00.958Z"
   },
   {
    "duration": 5,
    "start_time": "2023-12-13T20:06:18.445Z"
   },
   {
    "duration": 538,
    "start_time": "2023-12-13T20:06:23.109Z"
   },
   {
    "duration": 5,
    "start_time": "2023-12-13T20:16:22.477Z"
   },
   {
    "duration": 603,
    "start_time": "2023-12-13T20:16:24.991Z"
   },
   {
    "duration": 5,
    "start_time": "2023-12-13T20:16:49.158Z"
   },
   {
    "duration": 590,
    "start_time": "2023-12-13T20:16:51.134Z"
   },
   {
    "duration": 204,
    "start_time": "2023-12-13T20:17:55.100Z"
   },
   {
    "duration": 4,
    "start_time": "2023-12-13T20:20:09.854Z"
   },
   {
    "duration": 190,
    "start_time": "2023-12-13T20:20:09.860Z"
   },
   {
    "duration": 132,
    "start_time": "2023-12-13T20:20:10.052Z"
   },
   {
    "duration": 3,
    "start_time": "2023-12-13T20:20:10.187Z"
   },
   {
    "duration": 101,
    "start_time": "2023-12-13T20:20:10.193Z"
   },
   {
    "duration": 153,
    "start_time": "2023-12-13T20:20:10.297Z"
   },
   {
    "duration": 26,
    "start_time": "2023-12-13T20:20:10.452Z"
   },
   {
    "duration": 52,
    "start_time": "2023-12-13T20:20:10.480Z"
   },
   {
    "duration": 334,
    "start_time": "2023-12-13T20:20:10.534Z"
   },
   {
    "duration": 21,
    "start_time": "2023-12-13T20:20:10.870Z"
   },
   {
    "duration": 19,
    "start_time": "2023-12-13T20:20:10.893Z"
   },
   {
    "duration": 27,
    "start_time": "2023-12-13T20:20:10.914Z"
   },
   {
    "duration": 46,
    "start_time": "2023-12-13T20:20:10.943Z"
   },
   {
    "duration": 67,
    "start_time": "2023-12-13T20:20:10.992Z"
   },
   {
    "duration": 11,
    "start_time": "2023-12-13T20:20:11.061Z"
   },
   {
    "duration": 33,
    "start_time": "2023-12-13T20:20:11.074Z"
   },
   {
    "duration": 87,
    "start_time": "2023-12-13T20:20:11.109Z"
   },
   {
    "duration": 72,
    "start_time": "2023-12-13T20:20:11.197Z"
   },
   {
    "duration": 6,
    "start_time": "2023-12-13T20:20:11.271Z"
   },
   {
    "duration": 199,
    "start_time": "2023-12-13T20:20:15.039Z"
   },
   {
    "duration": 3,
    "start_time": "2023-12-13T20:21:15.162Z"
   },
   {
    "duration": 198,
    "start_time": "2023-12-13T20:21:15.167Z"
   },
   {
    "duration": 114,
    "start_time": "2023-12-13T20:21:15.367Z"
   },
   {
    "duration": 4,
    "start_time": "2023-12-13T20:21:15.484Z"
   },
   {
    "duration": 175,
    "start_time": "2023-12-13T20:21:15.490Z"
   },
   {
    "duration": 144,
    "start_time": "2023-12-13T20:21:15.667Z"
   },
   {
    "duration": 32,
    "start_time": "2023-12-13T20:21:15.813Z"
   },
   {
    "duration": 35,
    "start_time": "2023-12-13T20:21:15.847Z"
   },
   {
    "duration": 321,
    "start_time": "2023-12-13T20:21:15.884Z"
   },
   {
    "duration": 31,
    "start_time": "2023-12-13T20:21:16.207Z"
   },
   {
    "duration": 19,
    "start_time": "2023-12-13T20:21:16.240Z"
   },
   {
    "duration": 5,
    "start_time": "2023-12-13T20:21:16.261Z"
   },
   {
    "duration": 29,
    "start_time": "2023-12-13T20:21:16.268Z"
   },
   {
    "duration": 90,
    "start_time": "2023-12-13T20:21:16.299Z"
   },
   {
    "duration": 11,
    "start_time": "2023-12-13T20:21:16.391Z"
   },
   {
    "duration": 28,
    "start_time": "2023-12-13T20:21:16.403Z"
   },
   {
    "duration": 59,
    "start_time": "2023-12-13T20:21:16.433Z"
   },
   {
    "duration": 88,
    "start_time": "2023-12-13T20:21:16.494Z"
   },
   {
    "duration": 6,
    "start_time": "2023-12-13T20:21:16.585Z"
   },
   {
    "duration": 212,
    "start_time": "2023-12-13T20:21:20.358Z"
   },
   {
    "duration": 6,
    "start_time": "2023-12-13T21:02:14.394Z"
   },
   {
    "duration": 239,
    "start_time": "2023-12-13T21:02:15.338Z"
   },
   {
    "duration": 250,
    "start_time": "2023-12-13T21:19:52.011Z"
   },
   {
    "duration": 40,
    "start_time": "2023-12-13T21:20:55.638Z"
   },
   {
    "duration": 244,
    "start_time": "2023-12-13T21:21:11.944Z"
   },
   {
    "duration": 658,
    "start_time": "2023-12-13T21:23:44.719Z"
   },
   {
    "duration": 1259,
    "start_time": "2023-12-14T17:31:54.067Z"
   },
   {
    "duration": 512,
    "start_time": "2023-12-14T17:31:55.328Z"
   },
   {
    "duration": 133,
    "start_time": "2023-12-14T17:31:55.842Z"
   },
   {
    "duration": 4,
    "start_time": "2023-12-14T17:31:55.976Z"
   },
   {
    "duration": 96,
    "start_time": "2023-12-14T17:31:55.982Z"
   },
   {
    "duration": 141,
    "start_time": "2023-12-14T17:31:56.080Z"
   },
   {
    "duration": 27,
    "start_time": "2023-12-14T17:31:56.222Z"
   },
   {
    "duration": 32,
    "start_time": "2023-12-14T17:31:56.250Z"
   },
   {
    "duration": 361,
    "start_time": "2023-12-14T17:31:56.284Z"
   },
   {
    "duration": 21,
    "start_time": "2023-12-14T17:31:56.646Z"
   },
   {
    "duration": 19,
    "start_time": "2023-12-14T17:31:56.669Z"
   },
   {
    "duration": 5,
    "start_time": "2023-12-14T17:31:56.689Z"
   },
   {
    "duration": 48,
    "start_time": "2023-12-14T17:31:56.695Z"
   },
   {
    "duration": 66,
    "start_time": "2023-12-14T17:31:56.745Z"
   },
   {
    "duration": 10,
    "start_time": "2023-12-14T17:31:56.812Z"
   },
   {
    "duration": 26,
    "start_time": "2023-12-14T17:31:56.824Z"
   },
   {
    "duration": 55,
    "start_time": "2023-12-14T17:31:56.851Z"
   },
   {
    "duration": 83,
    "start_time": "2023-12-14T17:31:56.908Z"
   },
   {
    "duration": 5,
    "start_time": "2023-12-14T17:31:56.993Z"
   },
   {
    "duration": 565,
    "start_time": "2023-12-14T17:31:57.000Z"
   },
   {
    "duration": 231,
    "start_time": "2023-12-14T17:32:11.082Z"
   },
   {
    "duration": 213,
    "start_time": "2023-12-14T17:32:53.409Z"
   },
   {
    "duration": 3,
    "start_time": "2023-12-14T17:45:27.222Z"
   },
   {
    "duration": 180,
    "start_time": "2023-12-14T17:45:27.227Z"
   },
   {
    "duration": 96,
    "start_time": "2023-12-14T17:45:27.409Z"
   },
   {
    "duration": 3,
    "start_time": "2023-12-14T17:45:27.507Z"
   },
   {
    "duration": 96,
    "start_time": "2023-12-14T17:45:27.512Z"
   },
   {
    "duration": 133,
    "start_time": "2023-12-14T17:45:27.609Z"
   },
   {
    "duration": 23,
    "start_time": "2023-12-14T17:45:27.744Z"
   },
   {
    "duration": 59,
    "start_time": "2023-12-14T17:45:27.769Z"
   },
   {
    "duration": 331,
    "start_time": "2023-12-14T17:45:27.830Z"
   },
   {
    "duration": 21,
    "start_time": "2023-12-14T17:45:28.163Z"
   },
   {
    "duration": 18,
    "start_time": "2023-12-14T17:45:28.186Z"
   },
   {
    "duration": 5,
    "start_time": "2023-12-14T17:45:28.205Z"
   },
   {
    "duration": 46,
    "start_time": "2023-12-14T17:45:28.212Z"
   },
   {
    "duration": 65,
    "start_time": "2023-12-14T17:45:28.260Z"
   },
   {
    "duration": 23,
    "start_time": "2023-12-14T17:45:28.327Z"
   },
   {
    "duration": 11,
    "start_time": "2023-12-14T17:45:28.352Z"
   },
   {
    "duration": 83,
    "start_time": "2023-12-14T17:45:28.364Z"
   },
   {
    "duration": 62,
    "start_time": "2023-12-14T17:45:28.449Z"
   },
   {
    "duration": 5,
    "start_time": "2023-12-14T17:45:28.512Z"
   },
   {
    "duration": 654,
    "start_time": "2023-12-14T17:45:28.518Z"
   },
   {
    "duration": 239,
    "start_time": "2023-12-14T17:45:29.173Z"
   },
   {
    "duration": 4,
    "start_time": "2023-12-14T17:47:02.931Z"
   },
   {
    "duration": 190,
    "start_time": "2023-12-14T17:47:02.937Z"
   },
   {
    "duration": 114,
    "start_time": "2023-12-14T17:47:03.129Z"
   },
   {
    "duration": 3,
    "start_time": "2023-12-14T17:47:03.245Z"
   },
   {
    "duration": 91,
    "start_time": "2023-12-14T17:47:03.251Z"
   },
   {
    "duration": 127,
    "start_time": "2023-12-14T17:47:03.344Z"
   },
   {
    "duration": 24,
    "start_time": "2023-12-14T17:47:03.473Z"
   },
   {
    "duration": 51,
    "start_time": "2023-12-14T17:47:03.498Z"
   },
   {
    "duration": 326,
    "start_time": "2023-12-14T17:47:03.550Z"
   },
   {
    "duration": 25,
    "start_time": "2023-12-14T17:47:03.878Z"
   },
   {
    "duration": 19,
    "start_time": "2023-12-14T17:47:03.904Z"
   },
   {
    "duration": 24,
    "start_time": "2023-12-14T17:47:03.924Z"
   },
   {
    "duration": 26,
    "start_time": "2023-12-14T17:47:03.950Z"
   },
   {
    "duration": 92,
    "start_time": "2023-12-14T17:47:03.979Z"
   },
   {
    "duration": 11,
    "start_time": "2023-12-14T17:47:04.073Z"
   },
   {
    "duration": 23,
    "start_time": "2023-12-14T17:47:04.086Z"
   },
   {
    "duration": 66,
    "start_time": "2023-12-14T17:47:04.111Z"
   },
   {
    "duration": 80,
    "start_time": "2023-12-14T17:47:04.179Z"
   },
   {
    "duration": 6,
    "start_time": "2023-12-14T17:47:04.261Z"
   },
   {
    "duration": 616,
    "start_time": "2023-12-14T17:47:04.269Z"
   },
   {
    "duration": 237,
    "start_time": "2023-12-14T17:47:04.886Z"
   },
   {
    "duration": 1157,
    "start_time": "2023-12-14T17:47:14.137Z"
   },
   {
    "duration": 171,
    "start_time": "2023-12-14T17:47:15.295Z"
   },
   {
    "duration": 122,
    "start_time": "2023-12-14T17:47:15.467Z"
   },
   {
    "duration": 4,
    "start_time": "2023-12-14T17:47:15.591Z"
   },
   {
    "duration": 104,
    "start_time": "2023-12-14T17:47:15.596Z"
   },
   {
    "duration": 137,
    "start_time": "2023-12-14T17:47:15.702Z"
   },
   {
    "duration": 23,
    "start_time": "2023-12-14T17:47:15.842Z"
   },
   {
    "duration": 31,
    "start_time": "2023-12-14T17:47:15.867Z"
   },
   {
    "duration": 354,
    "start_time": "2023-12-14T17:47:15.899Z"
   },
   {
    "duration": 21,
    "start_time": "2023-12-14T17:47:16.255Z"
   },
   {
    "duration": 20,
    "start_time": "2023-12-14T17:47:16.277Z"
   },
   {
    "duration": 6,
    "start_time": "2023-12-14T17:47:16.299Z"
   },
   {
    "duration": 52,
    "start_time": "2023-12-14T17:47:16.306Z"
   },
   {
    "duration": 81,
    "start_time": "2023-12-14T17:47:16.362Z"
   },
   {
    "duration": 11,
    "start_time": "2023-12-14T17:47:16.445Z"
   },
   {
    "duration": 14,
    "start_time": "2023-12-14T17:47:16.457Z"
   },
   {
    "duration": 74,
    "start_time": "2023-12-14T17:47:16.472Z"
   },
   {
    "duration": 63,
    "start_time": "2023-12-14T17:47:16.547Z"
   },
   {
    "duration": 5,
    "start_time": "2023-12-14T17:47:16.611Z"
   },
   {
    "duration": 628,
    "start_time": "2023-12-14T17:47:16.618Z"
   },
   {
    "duration": 265,
    "start_time": "2023-12-14T17:47:17.248Z"
   },
   {
    "duration": 3,
    "start_time": "2023-12-14T18:01:36.751Z"
   },
   {
    "duration": 170,
    "start_time": "2023-12-14T18:01:36.755Z"
   },
   {
    "duration": 92,
    "start_time": "2023-12-14T18:01:36.926Z"
   },
   {
    "duration": 4,
    "start_time": "2023-12-14T18:01:37.019Z"
   },
   {
    "duration": 94,
    "start_time": "2023-12-14T18:01:37.024Z"
   },
   {
    "duration": 125,
    "start_time": "2023-12-14T18:01:37.119Z"
   },
   {
    "duration": 36,
    "start_time": "2023-12-14T18:01:37.246Z"
   },
   {
    "duration": 53,
    "start_time": "2023-12-14T18:01:37.284Z"
   },
   {
    "duration": 278,
    "start_time": "2023-12-14T18:01:37.338Z"
   },
   {
    "duration": 20,
    "start_time": "2023-12-14T18:01:37.618Z"
   },
   {
    "duration": 17,
    "start_time": "2023-12-14T18:01:37.640Z"
   },
   {
    "duration": 24,
    "start_time": "2023-12-14T18:01:37.659Z"
   },
   {
    "duration": 25,
    "start_time": "2023-12-14T18:01:37.684Z"
   },
   {
    "duration": 78,
    "start_time": "2023-12-14T18:01:37.711Z"
   },
   {
    "duration": 10,
    "start_time": "2023-12-14T18:01:37.791Z"
   },
   {
    "duration": 14,
    "start_time": "2023-12-14T18:01:37.802Z"
   },
   {
    "duration": 76,
    "start_time": "2023-12-14T18:01:37.818Z"
   },
   {
    "duration": 61,
    "start_time": "2023-12-14T18:01:37.896Z"
   },
   {
    "duration": 4,
    "start_time": "2023-12-14T18:01:37.958Z"
   },
   {
    "duration": 539,
    "start_time": "2023-12-14T18:01:37.981Z"
   },
   {
    "duration": 213,
    "start_time": "2023-12-14T18:01:38.522Z"
   },
   {
    "duration": 1089,
    "start_time": "2023-12-14T18:08:32.777Z"
   },
   {
    "duration": 167,
    "start_time": "2023-12-14T18:08:33.868Z"
   },
   {
    "duration": 117,
    "start_time": "2023-12-14T18:08:34.037Z"
   },
   {
    "duration": 3,
    "start_time": "2023-12-14T18:08:34.156Z"
   },
   {
    "duration": 95,
    "start_time": "2023-12-14T18:08:34.161Z"
   },
   {
    "duration": 131,
    "start_time": "2023-12-14T18:08:34.258Z"
   },
   {
    "duration": 4,
    "start_time": "2023-12-14T18:08:34.390Z"
   },
   {
    "duration": 8,
    "start_time": "2023-12-14T18:08:34.395Z"
   },
   {
    "duration": 19,
    "start_time": "2023-12-14T18:08:34.405Z"
   },
   {
    "duration": 31,
    "start_time": "2023-12-14T18:08:34.427Z"
   },
   {
    "duration": 334,
    "start_time": "2023-12-14T18:08:34.482Z"
   },
   {
    "duration": 22,
    "start_time": "2023-12-14T18:08:34.817Z"
   },
   {
    "duration": 19,
    "start_time": "2023-12-14T18:08:34.841Z"
   },
   {
    "duration": 24,
    "start_time": "2023-12-14T18:08:34.861Z"
   },
   {
    "duration": 25,
    "start_time": "2023-12-14T18:08:34.887Z"
   },
   {
    "duration": 91,
    "start_time": "2023-12-14T18:08:34.915Z"
   },
   {
    "duration": 12,
    "start_time": "2023-12-14T18:08:35.007Z"
   },
   {
    "duration": 13,
    "start_time": "2023-12-14T18:08:35.021Z"
   },
   {
    "duration": 100,
    "start_time": "2023-12-14T18:08:35.035Z"
   },
   {
    "duration": 71,
    "start_time": "2023-12-14T18:08:35.138Z"
   },
   {
    "duration": 9,
    "start_time": "2023-12-14T18:08:35.211Z"
   },
   {
    "duration": 588,
    "start_time": "2023-12-14T18:08:35.222Z"
   },
   {
    "duration": 249,
    "start_time": "2023-12-14T18:08:35.812Z"
   },
   {
    "duration": 46,
    "start_time": "2023-12-16T09:10:43.078Z"
   },
   {
    "duration": 1271,
    "start_time": "2023-12-16T09:10:47.002Z"
   },
   {
    "duration": 512,
    "start_time": "2023-12-16T09:10:48.275Z"
   },
   {
    "duration": 124,
    "start_time": "2023-12-16T09:10:48.788Z"
   },
   {
    "duration": 3,
    "start_time": "2023-12-16T09:10:48.914Z"
   },
   {
    "duration": 105,
    "start_time": "2023-12-16T09:10:48.918Z"
   },
   {
    "duration": 135,
    "start_time": "2023-12-16T09:10:49.025Z"
   },
   {
    "duration": 3,
    "start_time": "2023-12-16T09:10:49.161Z"
   },
   {
    "duration": 12,
    "start_time": "2023-12-16T09:10:49.165Z"
   },
   {
    "duration": 21,
    "start_time": "2023-12-16T09:10:49.178Z"
   },
   {
    "duration": 20,
    "start_time": "2023-12-16T09:10:49.210Z"
   },
   {
    "duration": 18,
    "start_time": "2023-12-16T09:10:50.984Z"
   },
   {
    "duration": 4,
    "start_time": "2023-12-16T09:11:17.928Z"
   },
   {
    "duration": 8076,
    "start_time": "2023-12-16T09:11:36.247Z"
   },
   {
    "duration": 19,
    "start_time": "2023-12-16T09:12:36.475Z"
   },
   {
    "duration": 29,
    "start_time": "2023-12-16T09:13:02.204Z"
   },
   {
    "duration": 21,
    "start_time": "2023-12-16T09:13:13.381Z"
   },
   {
    "duration": 68,
    "start_time": "2023-12-16T09:29:13.184Z"
   },
   {
    "duration": 3,
    "start_time": "2023-12-16T09:29:20.377Z"
   },
   {
    "duration": 170,
    "start_time": "2023-12-16T09:29:20.382Z"
   },
   {
    "duration": 101,
    "start_time": "2023-12-16T09:29:20.554Z"
   },
   {
    "duration": 3,
    "start_time": "2023-12-16T09:29:20.657Z"
   },
   {
    "duration": 87,
    "start_time": "2023-12-16T09:29:20.661Z"
   },
   {
    "duration": 133,
    "start_time": "2023-12-16T09:29:20.749Z"
   },
   {
    "duration": 3,
    "start_time": "2023-12-16T09:29:20.884Z"
   },
   {
    "duration": 11,
    "start_time": "2023-12-16T09:29:20.888Z"
   },
   {
    "duration": 21,
    "start_time": "2023-12-16T09:29:20.910Z"
   },
   {
    "duration": 24,
    "start_time": "2023-12-16T09:29:20.933Z"
   },
   {
    "duration": 58,
    "start_time": "2023-12-16T09:29:20.958Z"
   },
   {
    "duration": 314,
    "start_time": "2023-12-16T09:29:21.017Z"
   },
   {
    "duration": 22,
    "start_time": "2023-12-16T09:29:21.333Z"
   },
   {
    "duration": 19,
    "start_time": "2023-12-16T09:29:21.357Z"
   },
   {
    "duration": 5,
    "start_time": "2023-12-16T09:29:21.377Z"
   },
   {
    "duration": 6,
    "start_time": "2023-12-16T09:29:24.574Z"
   },
   {
    "duration": 13,
    "start_time": "2023-12-16T09:30:21.573Z"
   },
   {
    "duration": 8,
    "start_time": "2023-12-16T09:30:47.058Z"
   },
   {
    "duration": 28,
    "start_time": "2023-12-16T09:31:27.287Z"
   },
   {
    "duration": 10,
    "start_time": "2023-12-16T09:53:27.435Z"
   },
   {
    "duration": 3,
    "start_time": "2023-12-16T09:53:36.596Z"
   },
   {
    "duration": 184,
    "start_time": "2023-12-16T09:53:36.600Z"
   },
   {
    "duration": 92,
    "start_time": "2023-12-16T09:53:36.785Z"
   },
   {
    "duration": 3,
    "start_time": "2023-12-16T09:53:36.878Z"
   },
   {
    "duration": 170,
    "start_time": "2023-12-16T09:53:36.883Z"
   },
   {
    "duration": 124,
    "start_time": "2023-12-16T09:53:37.054Z"
   },
   {
    "duration": 3,
    "start_time": "2023-12-16T09:53:37.179Z"
   },
   {
    "duration": 39,
    "start_time": "2023-12-16T09:53:37.183Z"
   },
   {
    "duration": 31,
    "start_time": "2023-12-16T09:53:37.224Z"
   },
   {
    "duration": 55,
    "start_time": "2023-12-16T09:53:37.257Z"
   },
   {
    "duration": 43,
    "start_time": "2023-12-16T09:53:37.314Z"
   },
   {
    "duration": 309,
    "start_time": "2023-12-16T09:53:37.359Z"
   },
   {
    "duration": 22,
    "start_time": "2023-12-16T09:53:37.670Z"
   },
   {
    "duration": 41,
    "start_time": "2023-12-16T09:53:37.693Z"
   },
   {
    "duration": 16,
    "start_time": "2023-12-16T09:53:37.736Z"
   },
   {
    "duration": 59,
    "start_time": "2023-12-16T09:53:37.754Z"
   },
   {
    "duration": 24,
    "start_time": "2023-12-16T09:53:37.815Z"
   },
   {
    "duration": 90,
    "start_time": "2023-12-16T09:53:37.840Z"
   },
   {
    "duration": 6,
    "start_time": "2023-12-16T09:53:49.929Z"
   },
   {
    "duration": 5,
    "start_time": "2023-12-16T09:57:29.584Z"
   },
   {
    "duration": 4,
    "start_time": "2023-12-16T09:57:37.785Z"
   },
   {
    "duration": 8,
    "start_time": "2023-12-16T09:57:43.677Z"
   },
   {
    "duration": 8,
    "start_time": "2023-12-16T09:59:17.763Z"
   },
   {
    "duration": 8,
    "start_time": "2023-12-16T09:59:23.058Z"
   },
   {
    "duration": 4,
    "start_time": "2023-12-16T10:00:18.655Z"
   },
   {
    "duration": 7,
    "start_time": "2023-12-16T10:00:25.669Z"
   },
   {
    "duration": 16,
    "start_time": "2023-12-16T10:00:31.100Z"
   },
   {
    "duration": 4,
    "start_time": "2023-12-16T10:00:40.709Z"
   },
   {
    "duration": 8,
    "start_time": "2023-12-16T10:00:45.827Z"
   },
   {
    "duration": 4,
    "start_time": "2023-12-16T10:01:03.224Z"
   },
   {
    "duration": 7,
    "start_time": "2023-12-16T10:01:06.036Z"
   },
   {
    "duration": 3,
    "start_time": "2023-12-16T10:01:37.384Z"
   },
   {
    "duration": 6,
    "start_time": "2023-12-16T10:01:39.039Z"
   },
   {
    "duration": 9,
    "start_time": "2023-12-16T10:02:59.980Z"
   },
   {
    "duration": 5,
    "start_time": "2023-12-16T10:04:32.440Z"
   },
   {
    "duration": 12,
    "start_time": "2023-12-16T10:04:33.480Z"
   },
   {
    "duration": 9,
    "start_time": "2023-12-16T10:04:49.842Z"
   },
   {
    "duration": 13,
    "start_time": "2023-12-16T10:12:47.336Z"
   },
   {
    "duration": 60,
    "start_time": "2023-12-16T10:17:00.895Z"
   },
   {
    "duration": 19,
    "start_time": "2023-12-16T10:17:34.291Z"
   },
   {
    "duration": 64,
    "start_time": "2023-12-16T10:17:43.379Z"
   },
   {
    "duration": 148,
    "start_time": "2023-12-16T10:17:51.003Z"
   },
   {
    "duration": 59,
    "start_time": "2023-12-16T10:18:58.556Z"
   },
   {
    "duration": 56,
    "start_time": "2023-12-16T10:19:15.159Z"
   },
   {
    "duration": 58,
    "start_time": "2023-12-16T10:22:31.427Z"
   },
   {
    "duration": 54,
    "start_time": "2023-12-16T10:22:49.450Z"
   },
   {
    "duration": 53,
    "start_time": "2023-12-16T10:22:56.817Z"
   },
   {
    "duration": 61,
    "start_time": "2023-12-16T10:23:49.453Z"
   },
   {
    "duration": 63,
    "start_time": "2023-12-16T10:24:52.117Z"
   },
   {
    "duration": 1261,
    "start_time": "2023-12-16T10:27:07.341Z"
   },
   {
    "duration": 52,
    "start_time": "2023-12-16T10:27:27.079Z"
   },
   {
    "duration": 55,
    "start_time": "2023-12-16T10:27:52.354Z"
   },
   {
    "duration": 66,
    "start_time": "2023-12-16T10:28:30.573Z"
   },
   {
    "duration": 47,
    "start_time": "2023-12-16T10:29:37.245Z"
   },
   {
    "duration": 46,
    "start_time": "2023-12-16T10:29:40.668Z"
   },
   {
    "duration": 3,
    "start_time": "2023-12-16T10:29:49.514Z"
   },
   {
    "duration": 64,
    "start_time": "2023-12-16T10:30:01.732Z"
   },
   {
    "duration": 68,
    "start_time": "2023-12-16T10:31:00.711Z"
   },
   {
    "duration": 61,
    "start_time": "2023-12-16T10:31:12.633Z"
   },
   {
    "duration": 1322,
    "start_time": "2023-12-16T10:31:24.045Z"
   },
   {
    "duration": 57,
    "start_time": "2023-12-16T10:37:34.044Z"
   },
   {
    "duration": 65,
    "start_time": "2023-12-16T10:37:39.456Z"
   },
   {
    "duration": 4,
    "start_time": "2023-12-16T10:38:26.208Z"
   },
   {
    "duration": 1232,
    "start_time": "2023-12-16T10:38:42.032Z"
   },
   {
    "duration": 4,
    "start_time": "2023-12-16T10:39:15.879Z"
   },
   {
    "duration": 63,
    "start_time": "2023-12-16T10:39:29.750Z"
   },
   {
    "duration": 65,
    "start_time": "2023-12-16T10:40:07.254Z"
   },
   {
    "duration": 61,
    "start_time": "2023-12-16T10:40:11.577Z"
   },
   {
    "duration": 59,
    "start_time": "2023-12-16T10:40:15.914Z"
   },
   {
    "duration": 63,
    "start_time": "2023-12-16T10:40:47.382Z"
   },
   {
    "duration": 67,
    "start_time": "2023-12-16T10:41:38.888Z"
   },
   {
    "duration": 97,
    "start_time": "2023-12-16T10:42:08.463Z"
   },
   {
    "duration": 59,
    "start_time": "2023-12-16T10:42:20.423Z"
   },
   {
    "duration": 4,
    "start_time": "2023-12-16T10:44:16.196Z"
   },
   {
    "duration": 58,
    "start_time": "2023-12-16T10:44:26.633Z"
   },
   {
    "duration": 82,
    "start_time": "2023-12-16T10:44:30.108Z"
   },
   {
    "duration": 62,
    "start_time": "2023-12-16T10:44:57.409Z"
   },
   {
    "duration": 64,
    "start_time": "2023-12-16T10:45:20.330Z"
   },
   {
    "duration": 71,
    "start_time": "2023-12-16T10:46:00.255Z"
   },
   {
    "duration": 75,
    "start_time": "2023-12-16T10:46:05.861Z"
   },
   {
    "duration": 68,
    "start_time": "2023-12-16T10:46:15.439Z"
   },
   {
    "duration": 72,
    "start_time": "2023-12-16T10:49:10.609Z"
   },
   {
    "duration": 79,
    "start_time": "2023-12-16T10:49:16.141Z"
   },
   {
    "duration": 95,
    "start_time": "2023-12-16T10:49:32.706Z"
   },
   {
    "duration": 78,
    "start_time": "2023-12-16T10:49:35.813Z"
   },
   {
    "duration": 69,
    "start_time": "2023-12-16T10:49:44.474Z"
   },
   {
    "duration": 35,
    "start_time": "2023-12-16T10:50:09.938Z"
   },
   {
    "duration": 38,
    "start_time": "2023-12-16T10:50:33.122Z"
   },
   {
    "duration": 35,
    "start_time": "2023-12-16T10:50:41.259Z"
   },
   {
    "duration": 74,
    "start_time": "2023-12-16T10:51:06.010Z"
   },
   {
    "duration": 69,
    "start_time": "2023-12-16T10:51:12.966Z"
   },
   {
    "duration": 63,
    "start_time": "2023-12-16T10:51:26.227Z"
   },
   {
    "duration": 69,
    "start_time": "2023-12-16T10:51:30.555Z"
   },
   {
    "duration": 79,
    "start_time": "2023-12-16T10:51:33.878Z"
   },
   {
    "duration": 63,
    "start_time": "2023-12-16T10:51:42.660Z"
   },
   {
    "duration": 65,
    "start_time": "2023-12-16T10:51:57.095Z"
   },
   {
    "duration": 66,
    "start_time": "2023-12-16T10:52:16.092Z"
   },
   {
    "duration": 69,
    "start_time": "2023-12-16T10:52:26.070Z"
   },
   {
    "duration": 75,
    "start_time": "2023-12-16T10:52:41.956Z"
   },
   {
    "duration": 63,
    "start_time": "2023-12-16T10:52:50.075Z"
   },
   {
    "duration": 66,
    "start_time": "2023-12-16T10:53:22.341Z"
   },
   {
    "duration": 61,
    "start_time": "2023-12-16T10:53:33.235Z"
   },
   {
    "duration": 67,
    "start_time": "2023-12-16T10:53:42.266Z"
   },
   {
    "duration": 61,
    "start_time": "2023-12-16T10:53:48.800Z"
   },
   {
    "duration": 5,
    "start_time": "2023-12-16T10:54:40.820Z"
   },
   {
    "duration": 79,
    "start_time": "2023-12-16T10:54:54.674Z"
   },
   {
    "duration": 78,
    "start_time": "2023-12-16T10:55:18.355Z"
   },
   {
    "duration": 76,
    "start_time": "2023-12-16T10:55:34.693Z"
   },
   {
    "duration": 72,
    "start_time": "2023-12-16T10:55:55.299Z"
   },
   {
    "duration": 3,
    "start_time": "2023-12-16T11:08:09.104Z"
   },
   {
    "duration": 186,
    "start_time": "2023-12-16T11:08:09.109Z"
   },
   {
    "duration": 106,
    "start_time": "2023-12-16T11:08:09.462Z"
   },
   {
    "duration": 3,
    "start_time": "2023-12-16T11:08:10.551Z"
   },
   {
    "duration": 82,
    "start_time": "2023-12-16T11:08:10.555Z"
   },
   {
    "duration": 144,
    "start_time": "2023-12-16T11:08:10.670Z"
   },
   {
    "duration": 4,
    "start_time": "2023-12-16T11:08:10.816Z"
   },
   {
    "duration": 9,
    "start_time": "2023-12-16T11:08:10.827Z"
   },
   {
    "duration": 22,
    "start_time": "2023-12-16T11:08:10.838Z"
   },
   {
    "duration": 22,
    "start_time": "2023-12-16T11:08:10.862Z"
   },
   {
    "duration": 31,
    "start_time": "2023-12-16T11:08:10.910Z"
   },
   {
    "duration": 308,
    "start_time": "2023-12-16T11:08:10.943Z"
   },
   {
    "duration": 21,
    "start_time": "2023-12-16T11:08:11.253Z"
   },
   {
    "duration": 19,
    "start_time": "2023-12-16T11:08:11.275Z"
   },
   {
    "duration": 21,
    "start_time": "2023-12-16T11:08:11.296Z"
   },
   {
    "duration": 29,
    "start_time": "2023-12-16T11:08:11.320Z"
   },
   {
    "duration": 25,
    "start_time": "2023-12-16T11:08:11.351Z"
   },
   {
    "duration": 89,
    "start_time": "2023-12-16T11:08:11.393Z"
   },
   {
    "duration": 12,
    "start_time": "2023-12-16T11:08:12.530Z"
   },
   {
    "duration": 12,
    "start_time": "2023-12-16T11:08:26.204Z"
   },
   {
    "duration": 16,
    "start_time": "2023-12-16T11:08:26.218Z"
   },
   {
    "duration": 10,
    "start_time": "2023-12-16T11:08:29.234Z"
   },
   {
    "duration": 62,
    "start_time": "2023-12-16T11:11:40.429Z"
   },
   {
    "duration": 63,
    "start_time": "2023-12-16T11:12:07.921Z"
   },
   {
    "duration": 63,
    "start_time": "2023-12-16T11:12:21.396Z"
   },
   {
    "duration": 60,
    "start_time": "2023-12-16T11:12:26.616Z"
   },
   {
    "duration": 64,
    "start_time": "2023-12-16T11:12:46.136Z"
   },
   {
    "duration": 66,
    "start_time": "2023-12-16T11:13:00.672Z"
   },
   {
    "duration": 4,
    "start_time": "2023-12-16T11:13:24.027Z"
   },
   {
    "duration": 164,
    "start_time": "2023-12-16T11:13:24.087Z"
   },
   {
    "duration": 102,
    "start_time": "2023-12-16T11:13:24.253Z"
   },
   {
    "duration": 3,
    "start_time": "2023-12-16T11:13:24.357Z"
   },
   {
    "duration": 108,
    "start_time": "2023-12-16T11:13:24.363Z"
   },
   {
    "duration": 147,
    "start_time": "2023-12-16T11:13:24.472Z"
   },
   {
    "duration": 4,
    "start_time": "2023-12-16T11:13:24.621Z"
   },
   {
    "duration": 12,
    "start_time": "2023-12-16T11:13:24.627Z"
   },
   {
    "duration": 28,
    "start_time": "2023-12-16T11:13:24.640Z"
   },
   {
    "duration": 20,
    "start_time": "2023-12-16T11:13:24.669Z"
   },
   {
    "duration": 59,
    "start_time": "2023-12-16T11:13:24.691Z"
   },
   {
    "duration": 330,
    "start_time": "2023-12-16T11:13:24.751Z"
   },
   {
    "duration": 37,
    "start_time": "2023-12-16T11:13:25.083Z"
   },
   {
    "duration": 21,
    "start_time": "2023-12-16T11:13:25.123Z"
   },
   {
    "duration": 5,
    "start_time": "2023-12-16T11:13:25.146Z"
   },
   {
    "duration": 28,
    "start_time": "2023-12-16T11:13:25.152Z"
   },
   {
    "duration": 58,
    "start_time": "2023-12-16T11:13:25.182Z"
   },
   {
    "duration": 74,
    "start_time": "2023-12-16T11:13:25.241Z"
   },
   {
    "duration": 13,
    "start_time": "2023-12-16T11:13:25.317Z"
   },
   {
    "duration": 13,
    "start_time": "2023-12-16T11:13:25.332Z"
   },
   {
    "duration": 6,
    "start_time": "2023-12-16T11:13:25.347Z"
   },
   {
    "duration": 12,
    "start_time": "2023-12-16T11:13:25.354Z"
   },
   {
    "duration": 59,
    "start_time": "2023-12-16T11:13:29.942Z"
   },
   {
    "duration": 63,
    "start_time": "2023-12-16T11:13:40.506Z"
   },
   {
    "duration": 56,
    "start_time": "2023-12-16T11:13:46.310Z"
   },
   {
    "duration": 56,
    "start_time": "2023-12-16T11:14:02.440Z"
   },
   {
    "duration": 1514,
    "start_time": "2023-12-16T11:14:25.162Z"
   },
   {
    "duration": 61,
    "start_time": "2023-12-16T11:14:37.773Z"
   },
   {
    "duration": 54,
    "start_time": "2023-12-16T11:14:48.561Z"
   },
   {
    "duration": 37,
    "start_time": "2023-12-16T11:14:57.412Z"
   },
   {
    "duration": 33,
    "start_time": "2023-12-16T11:15:06.264Z"
   },
   {
    "duration": 35,
    "start_time": "2023-12-16T11:15:19.394Z"
   },
   {
    "duration": 76,
    "start_time": "2023-12-16T11:27:50.162Z"
   },
   {
    "duration": 36,
    "start_time": "2023-12-16T11:28:03.364Z"
   },
   {
    "duration": 80,
    "start_time": "2023-12-16T11:33:45.451Z"
   },
   {
    "duration": 3,
    "start_time": "2023-12-16T11:45:52.381Z"
   },
   {
    "duration": 181,
    "start_time": "2023-12-16T11:45:52.386Z"
   },
   {
    "duration": 97,
    "start_time": "2023-12-16T11:45:52.569Z"
   },
   {
    "duration": 3,
    "start_time": "2023-12-16T11:45:52.668Z"
   },
   {
    "duration": 93,
    "start_time": "2023-12-16T11:45:52.673Z"
   },
   {
    "duration": 128,
    "start_time": "2023-12-16T11:45:52.768Z"
   },
   {
    "duration": 7,
    "start_time": "2023-12-16T11:45:52.898Z"
   },
   {
    "duration": 9,
    "start_time": "2023-12-16T11:45:52.907Z"
   },
   {
    "duration": 26,
    "start_time": "2023-12-16T11:45:52.919Z"
   },
   {
    "duration": 20,
    "start_time": "2023-12-16T11:45:52.947Z"
   },
   {
    "duration": 31,
    "start_time": "2023-12-16T11:45:52.969Z"
   },
   {
    "duration": 310,
    "start_time": "2023-12-16T11:45:53.012Z"
   },
   {
    "duration": 21,
    "start_time": "2023-12-16T11:45:53.323Z"
   },
   {
    "duration": 17,
    "start_time": "2023-12-16T11:45:53.345Z"
   },
   {
    "duration": 5,
    "start_time": "2023-12-16T11:45:53.363Z"
   },
   {
    "duration": 53,
    "start_time": "2023-12-16T11:45:53.369Z"
   },
   {
    "duration": 26,
    "start_time": "2023-12-16T11:45:53.424Z"
   },
   {
    "duration": 73,
    "start_time": "2023-12-16T11:45:53.459Z"
   },
   {
    "duration": 9,
    "start_time": "2023-12-16T11:45:53.534Z"
   },
   {
    "duration": 8,
    "start_time": "2023-12-16T11:45:53.545Z"
   },
   {
    "duration": 6,
    "start_time": "2023-12-16T11:45:53.555Z"
   },
   {
    "duration": 18,
    "start_time": "2023-12-16T11:45:53.563Z"
   },
   {
    "duration": 141,
    "start_time": "2023-12-16T11:45:53.582Z"
   },
   {
    "duration": 56,
    "start_time": "2023-12-16T11:45:53.726Z"
   },
   {
    "duration": 77,
    "start_time": "2023-12-16T11:45:53.784Z"
   },
   {
    "duration": 5,
    "start_time": "2023-12-16T11:45:53.862Z"
   },
   {
    "duration": 15,
    "start_time": "2023-12-16T11:45:58.406Z"
   },
   {
    "duration": 463,
    "start_time": "2023-12-16T11:46:00.521Z"
   },
   {
    "duration": 203,
    "start_time": "2023-12-16T11:51:08.443Z"
   },
   {
    "duration": 4,
    "start_time": "2023-12-16T13:11:00.863Z"
   },
   {
    "duration": 3,
    "start_time": "2023-12-16T13:13:00.235Z"
   },
   {
    "duration": 9,
    "start_time": "2023-12-16T13:17:08.353Z"
   },
   {
    "duration": 2,
    "start_time": "2023-12-16T13:17:13.193Z"
   },
   {
    "duration": 197,
    "start_time": "2023-12-16T13:22:45.465Z"
   },
   {
    "duration": 173,
    "start_time": "2023-12-16T13:23:56.964Z"
   },
   {
    "duration": 1012,
    "start_time": "2023-12-16T13:37:13.840Z"
   },
   {
    "duration": 169,
    "start_time": "2023-12-16T13:37:14.854Z"
   },
   {
    "duration": 121,
    "start_time": "2023-12-16T13:37:15.024Z"
   },
   {
    "duration": 3,
    "start_time": "2023-12-16T13:37:15.147Z"
   },
   {
    "duration": 93,
    "start_time": "2023-12-16T13:37:15.151Z"
   },
   {
    "duration": 135,
    "start_time": "2023-12-16T13:37:15.245Z"
   },
   {
    "duration": 3,
    "start_time": "2023-12-16T13:37:15.381Z"
   },
   {
    "duration": 10,
    "start_time": "2023-12-16T13:37:15.385Z"
   },
   {
    "duration": 30,
    "start_time": "2023-12-16T13:37:15.396Z"
   },
   {
    "duration": 21,
    "start_time": "2023-12-16T13:37:15.428Z"
   },
   {
    "duration": 31,
    "start_time": "2023-12-16T13:37:15.450Z"
   },
   {
    "duration": 331,
    "start_time": "2023-12-16T13:37:15.482Z"
   },
   {
    "duration": 20,
    "start_time": "2023-12-16T13:37:15.815Z"
   },
   {
    "duration": 19,
    "start_time": "2023-12-16T13:37:15.836Z"
   },
   {
    "duration": 4,
    "start_time": "2023-12-16T13:37:15.856Z"
   },
   {
    "duration": 51,
    "start_time": "2023-12-16T13:37:15.862Z"
   },
   {
    "duration": 23,
    "start_time": "2023-12-16T13:37:15.914Z"
   },
   {
    "duration": 79,
    "start_time": "2023-12-16T13:37:15.939Z"
   },
   {
    "duration": 10,
    "start_time": "2023-12-16T13:37:16.020Z"
   },
   {
    "duration": 10,
    "start_time": "2023-12-16T13:37:16.031Z"
   },
   {
    "duration": 6,
    "start_time": "2023-12-16T13:37:16.042Z"
   },
   {
    "duration": 10,
    "start_time": "2023-12-16T13:37:16.049Z"
   },
   {
    "duration": 58,
    "start_time": "2023-12-16T13:37:16.061Z"
   },
   {
    "duration": 52,
    "start_time": "2023-12-16T13:37:16.120Z"
   },
   {
    "duration": 86,
    "start_time": "2023-12-16T13:37:16.174Z"
   },
   {
    "duration": 5,
    "start_time": "2023-12-16T13:37:16.261Z"
   },
   {
    "duration": 19,
    "start_time": "2023-12-16T13:37:16.267Z"
   },
   {
    "duration": 524,
    "start_time": "2023-12-16T13:37:16.289Z"
   },
   {
    "duration": 208,
    "start_time": "2023-12-16T13:37:16.814Z"
   },
   {
    "duration": 208,
    "start_time": "2023-12-16T13:37:17.023Z"
   },
   {
    "duration": 41,
    "start_time": "2024-02-19T16:59:06.129Z"
   },
   {
    "duration": 1282,
    "start_time": "2024-03-23T19:43:10.250Z"
   },
   {
    "duration": 280,
    "start_time": "2024-03-23T19:43:11.535Z"
   },
   {
    "duration": 106,
    "start_time": "2024-03-23T19:43:11.816Z"
   },
   {
    "duration": 5,
    "start_time": "2024-03-23T19:43:18.926Z"
   }
  ],
  "kernelspec": {
   "display_name": "Python 3 (ipykernel)",
   "language": "python",
   "name": "python3"
  },
  "language_info": {
   "codemirror_mode": {
    "name": "ipython",
    "version": 3
   },
   "file_extension": ".py",
   "mimetype": "text/x-python",
   "name": "python",
   "nbconvert_exporter": "python",
   "pygments_lexer": "ipython3",
   "version": "3.9.5"
  },
  "toc": {
   "base_numbering": 1,
   "nav_menu": {},
   "number_sections": true,
   "sideBar": true,
   "skip_h1_title": true,
   "title_cell": "Table of Contents",
   "title_sidebar": "Contents",
   "toc_cell": false,
   "toc_position": {},
   "toc_section_display": true,
   "toc_window_display": false
  }
 },
 "nbformat": 4,
 "nbformat_minor": 4
}
